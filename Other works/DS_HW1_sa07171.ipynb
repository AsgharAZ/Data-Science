{
 "cells": [
  {
   "cell_type": "markdown",
   "metadata": {},
   "source": [
    "# <center>HW 1: Data Cleaning and Wrangling</center>\n",
    "## <center>CS/CE 457/464: Data Science</center>\n",
    "## <center>Samiya Ali Zaidi</center>\n",
    "### <center>sa07171@st.habib.edu.pk</center>"
   ]
  },
  {
   "cell_type": "markdown",
   "metadata": {},
   "source": [
    "# Part 1: Data Formatting"
   ]
  },
  {
   "cell_type": "markdown",
   "metadata": {},
   "source": [
    "In this section, I will format the data to remove redundacy, and for keeping one column for one individual question, because what we have right now can not be used at all."
   ]
  },
  {
   "cell_type": "code",
   "execution_count": 119,
   "metadata": {},
   "outputs": [],
   "source": [
    "import pandas as pd"
   ]
  },
  {
   "cell_type": "code",
   "execution_count": 121,
   "metadata": {},
   "outputs": [
    {
     "data": {
      "text/html": [
       "<div>\n",
       "<style scoped>\n",
       "    .dataframe tbody tr th:only-of-type {\n",
       "        vertical-align: middle;\n",
       "    }\n",
       "\n",
       "    .dataframe tbody tr th {\n",
       "        vertical-align: top;\n",
       "    }\n",
       "\n",
       "    .dataframe thead th {\n",
       "        text-align: right;\n",
       "    }\n",
       "</style>\n",
       "<table border=\"1\" class=\"dataframe\">\n",
       "  <thead>\n",
       "    <tr style=\"text-align: right;\">\n",
       "      <th></th>\n",
       "      <th>Unnamed: 0</th>\n",
       "      <th>Unnamed: 1</th>\n",
       "      <th>Unnamed: 2</th>\n",
       "      <th>Unnamed: 3</th>\n",
       "      <th>Unnamed: 4</th>\n",
       "      <th>Unnamed: 5</th>\n",
       "      <th>Unnamed: 6</th>\n",
       "      <th>Unnamed: 7</th>\n",
       "      <th>Unnamed: 8</th>\n",
       "      <th>Unnamed: 9</th>\n",
       "      <th>...</th>\n",
       "      <th>Q12.1</th>\n",
       "      <th>Q12.2</th>\n",
       "      <th>Q12.3</th>\n",
       "      <th>Q12.4</th>\n",
       "      <th>Q13</th>\n",
       "      <th>Q13.1</th>\n",
       "      <th>Q14</th>\n",
       "      <th>Q14.1</th>\n",
       "      <th>Q14.2</th>\n",
       "      <th>Q13.2</th>\n",
       "    </tr>\n",
       "  </thead>\n",
       "  <tbody>\n",
       "    <tr>\n",
       "      <th>0</th>\n",
       "      <td>No.</td>\n",
       "      <td>Time</td>\n",
       "      <td>Status</td>\n",
       "      <td>Duration (Seconds)</td>\n",
       "      <td>Access Code</td>\n",
       "      <td>Email Address</td>\n",
       "      <td>IP Address</td>\n",
       "      <td>Country</td>\n",
       "      <td>Region</td>\n",
       "      <td>City / Town / District</td>\n",
       "      <td>...</td>\n",
       "      <td>Some familiarity</td>\n",
       "      <td>Average user</td>\n",
       "      <td>Frequent use for projects</td>\n",
       "      <td>Fluent/expert</td>\n",
       "      <td>Yes</td>\n",
       "      <td>No</td>\n",
       "      <td>Yes</td>\n",
       "      <td>No</td>\n",
       "      <td>Not sure</td>\n",
       "      <td>What is your goal for learning about data anal...</td>\n",
       "    </tr>\n",
       "    <tr>\n",
       "      <th>1</th>\n",
       "      <td>1</td>\n",
       "      <td>10/3/2023 17:49</td>\n",
       "      <td>Completed</td>\n",
       "      <td>11646</td>\n",
       "      <td>NaN</td>\n",
       "      <td>NaN</td>\n",
       "      <td>100.36.167.226</td>\n",
       "      <td>United States</td>\n",
       "      <td>Virginia</td>\n",
       "      <td>Fairfax</td>\n",
       "      <td>...</td>\n",
       "      <td>1</td>\n",
       "      <td>NaN</td>\n",
       "      <td>NaN</td>\n",
       "      <td>NaN</td>\n",
       "      <td>1</td>\n",
       "      <td>NaN</td>\n",
       "      <td>1</td>\n",
       "      <td>NaN</td>\n",
       "      <td>NaN</td>\n",
       "      <td>NaN</td>\n",
       "    </tr>\n",
       "    <tr>\n",
       "      <th>2</th>\n",
       "      <td>2</td>\n",
       "      <td>10/3/2023 17:49</td>\n",
       "      <td>Completed</td>\n",
       "      <td>113</td>\n",
       "      <td>NaN</td>\n",
       "      <td>NaN</td>\n",
       "      <td>98.169.26.134</td>\n",
       "      <td>United States</td>\n",
       "      <td>Virginia</td>\n",
       "      <td>Fairfax</td>\n",
       "      <td>...</td>\n",
       "      <td>NaN</td>\n",
       "      <td>NaN</td>\n",
       "      <td>NaN</td>\n",
       "      <td>NaN</td>\n",
       "      <td>1</td>\n",
       "      <td>NaN</td>\n",
       "      <td>NaN</td>\n",
       "      <td>1</td>\n",
       "      <td>NaN</td>\n",
       "      <td>NaN</td>\n",
       "    </tr>\n",
       "    <tr>\n",
       "      <th>3</th>\n",
       "      <td>3</td>\n",
       "      <td>10/3/2023 17:49</td>\n",
       "      <td>Completed</td>\n",
       "      <td>572</td>\n",
       "      <td>NaN</td>\n",
       "      <td>NaN</td>\n",
       "      <td>98.169.52.23</td>\n",
       "      <td>United States</td>\n",
       "      <td>Virginia</td>\n",
       "      <td>Greenway Downs</td>\n",
       "      <td>...</td>\n",
       "      <td>NaN</td>\n",
       "      <td>1</td>\n",
       "      <td>NaN</td>\n",
       "      <td>NaN</td>\n",
       "      <td>NaN</td>\n",
       "      <td>1</td>\n",
       "      <td>NaN</td>\n",
       "      <td>NaN</td>\n",
       "      <td>1</td>\n",
       "      <td>As part of my work, I have access to a lot of ...</td>\n",
       "    </tr>\n",
       "    <tr>\n",
       "      <th>4</th>\n",
       "      <td>4</td>\n",
       "      <td>10/3/2023 17:50</td>\n",
       "      <td>Completed</td>\n",
       "      <td>365</td>\n",
       "      <td>NaN</td>\n",
       "      <td>NaN</td>\n",
       "      <td>69.255.182.253</td>\n",
       "      <td>United States</td>\n",
       "      <td>Virginia</td>\n",
       "      <td>Gainesville</td>\n",
       "      <td>...</td>\n",
       "      <td>1</td>\n",
       "      <td>NaN</td>\n",
       "      <td>NaN</td>\n",
       "      <td>NaN</td>\n",
       "      <td>NaN</td>\n",
       "      <td>1</td>\n",
       "      <td>1</td>\n",
       "      <td>NaN</td>\n",
       "      <td>NaN</td>\n",
       "      <td>NaN</td>\n",
       "    </tr>\n",
       "  </tbody>\n",
       "</table>\n",
       "<p>5 rows × 51 columns</p>\n",
       "</div>"
      ],
      "text/plain": [
       "  Unnamed: 0       Unnamed: 1 Unnamed: 2          Unnamed: 3   Unnamed: 4  \\\n",
       "0        No.             Time     Status  Duration (Seconds)  Access Code   \n",
       "1          1  10/3/2023 17:49  Completed               11646          NaN   \n",
       "2          2  10/3/2023 17:49  Completed                 113          NaN   \n",
       "3          3  10/3/2023 17:49  Completed                 572          NaN   \n",
       "4          4  10/3/2023 17:50  Completed                 365          NaN   \n",
       "\n",
       "      Unnamed: 5      Unnamed: 6     Unnamed: 7 Unnamed: 8  \\\n",
       "0  Email Address      IP Address        Country     Region   \n",
       "1            NaN  100.36.167.226  United States   Virginia   \n",
       "2            NaN   98.169.26.134  United States   Virginia   \n",
       "3            NaN    98.169.52.23  United States   Virginia   \n",
       "4            NaN  69.255.182.253  United States   Virginia   \n",
       "\n",
       "               Unnamed: 9  ...             Q12.1         Q12.2  \\\n",
       "0  City / Town / District  ...  Some familiarity  Average user   \n",
       "1                 Fairfax  ...                 1           NaN   \n",
       "2                 Fairfax  ...               NaN           NaN   \n",
       "3          Greenway Downs  ...               NaN             1   \n",
       "4             Gainesville  ...                 1           NaN   \n",
       "\n",
       "                       Q12.3          Q12.4  Q13 Q13.1  Q14 Q14.1     Q14.2  \\\n",
       "0  Frequent use for projects  Fluent/expert  Yes    No  Yes    No  Not sure   \n",
       "1                        NaN            NaN    1   NaN    1   NaN       NaN   \n",
       "2                        NaN            NaN    1   NaN  NaN     1       NaN   \n",
       "3                        NaN            NaN  NaN     1  NaN   NaN         1   \n",
       "4                        NaN            NaN  NaN     1    1   NaN       NaN   \n",
       "\n",
       "                                               Q13.2  \n",
       "0  What is your goal for learning about data anal...  \n",
       "1                                                NaN  \n",
       "2                                                NaN  \n",
       "3  As part of my work, I have access to a lot of ...  \n",
       "4                                                NaN  \n",
       "\n",
       "[5 rows x 51 columns]"
      ]
     },
     "execution_count": 121,
     "metadata": {},
     "output_type": "execute_result"
    }
   ],
   "source": [
    "data = pd.read_csv('580SurveyCleanup2.csv')\n",
    "data.head()"
   ]
  },
  {
   "cell_type": "markdown",
   "metadata": {},
   "source": [
    "## Replacing the initial headers"
   ]
  },
  {
   "cell_type": "code",
   "execution_count": 124,
   "metadata": {},
   "outputs": [
    {
     "data": {
      "text/html": [
       "<div>\n",
       "<style scoped>\n",
       "    .dataframe tbody tr th:only-of-type {\n",
       "        vertical-align: middle;\n",
       "    }\n",
       "\n",
       "    .dataframe tbody tr th {\n",
       "        vertical-align: top;\n",
       "    }\n",
       "\n",
       "    .dataframe thead th {\n",
       "        text-align: right;\n",
       "    }\n",
       "</style>\n",
       "<table border=\"1\" class=\"dataframe\">\n",
       "  <thead>\n",
       "    <tr style=\"text-align: right;\">\n",
       "      <th></th>\n",
       "      <th>Time</th>\n",
       "      <th>Status</th>\n",
       "      <th>Duration (Seconds)</th>\n",
       "      <th>Access Code</th>\n",
       "      <th>Email Address</th>\n",
       "      <th>IP Address</th>\n",
       "      <th>Country</th>\n",
       "      <th>Region</th>\n",
       "      <th>City / Town / District</th>\n",
       "      <th>Latitude</th>\n",
       "      <th>Longitude</th>\n",
       "    </tr>\n",
       "  </thead>\n",
       "  <tbody>\n",
       "    <tr>\n",
       "      <th>1</th>\n",
       "      <td>10/3/2023 17:49</td>\n",
       "      <td>Completed</td>\n",
       "      <td>11646</td>\n",
       "      <td>NaN</td>\n",
       "      <td>NaN</td>\n",
       "      <td>100.36.167.226</td>\n",
       "      <td>United States</td>\n",
       "      <td>Virginia</td>\n",
       "      <td>Fairfax</td>\n",
       "      <td>-77.2891</td>\n",
       "      <td>38.8209</td>\n",
       "    </tr>\n",
       "    <tr>\n",
       "      <th>2</th>\n",
       "      <td>10/3/2023 17:49</td>\n",
       "      <td>Completed</td>\n",
       "      <td>113</td>\n",
       "      <td>NaN</td>\n",
       "      <td>NaN</td>\n",
       "      <td>98.169.26.134</td>\n",
       "      <td>United States</td>\n",
       "      <td>Virginia</td>\n",
       "      <td>Fairfax</td>\n",
       "      <td>-77.263</td>\n",
       "      <td>38.8605</td>\n",
       "    </tr>\n",
       "    <tr>\n",
       "      <th>3</th>\n",
       "      <td>10/3/2023 17:49</td>\n",
       "      <td>Completed</td>\n",
       "      <td>572</td>\n",
       "      <td>NaN</td>\n",
       "      <td>NaN</td>\n",
       "      <td>98.169.52.23</td>\n",
       "      <td>United States</td>\n",
       "      <td>Virginia</td>\n",
       "      <td>Greenway Downs</td>\n",
       "      <td>-77.2331</td>\n",
       "      <td>38.9645</td>\n",
       "    </tr>\n",
       "    <tr>\n",
       "      <th>4</th>\n",
       "      <td>10/3/2023 17:50</td>\n",
       "      <td>Completed</td>\n",
       "      <td>365</td>\n",
       "      <td>NaN</td>\n",
       "      <td>NaN</td>\n",
       "      <td>69.255.182.253</td>\n",
       "      <td>United States</td>\n",
       "      <td>Virginia</td>\n",
       "      <td>Gainesville</td>\n",
       "      <td>-77.6308</td>\n",
       "      <td>38.8175</td>\n",
       "    </tr>\n",
       "    <tr>\n",
       "      <th>5</th>\n",
       "      <td>10/3/2023 17:51</td>\n",
       "      <td>Completed</td>\n",
       "      <td>92</td>\n",
       "      <td>NaN</td>\n",
       "      <td>NaN</td>\n",
       "      <td>138.88.108.230</td>\n",
       "      <td>United States</td>\n",
       "      <td>NaN</td>\n",
       "      <td>NaN</td>\n",
       "      <td>-97.822</td>\n",
       "      <td>37.751</td>\n",
       "    </tr>\n",
       "  </tbody>\n",
       "</table>\n",
       "</div>"
      ],
      "text/plain": [
       "0             Time     Status Duration (Seconds) Access Code Email Address  \\\n",
       "1  10/3/2023 17:49  Completed              11646         NaN           NaN   \n",
       "2  10/3/2023 17:49  Completed                113         NaN           NaN   \n",
       "3  10/3/2023 17:49  Completed                572         NaN           NaN   \n",
       "4  10/3/2023 17:50  Completed                365         NaN           NaN   \n",
       "5  10/3/2023 17:51  Completed                 92         NaN           NaN   \n",
       "\n",
       "0      IP Address        Country    Region City / Town / District  Latitude  \\\n",
       "1  100.36.167.226  United States  Virginia                Fairfax  -77.2891   \n",
       "2   98.169.26.134  United States  Virginia                Fairfax   -77.263   \n",
       "3    98.169.52.23  United States  Virginia         Greenway Downs  -77.2331   \n",
       "4  69.255.182.253  United States  Virginia            Gainesville  -77.6308   \n",
       "5  138.88.108.230  United States       NaN                    NaN   -97.822   \n",
       "\n",
       "0 Longitude  \n",
       "1   38.8209  \n",
       "2   38.8605  \n",
       "3   38.9645  \n",
       "4   38.8175  \n",
       "5    37.751  "
      ]
     },
     "execution_count": 124,
     "metadata": {},
     "output_type": "execute_result"
    }
   ],
   "source": [
    "df_gen = data.iloc[:,1:12]\n",
    "df_gen.columns = df_gen.iloc[0]\n",
    "df_gen = df_gen[1:]\n",
    "df_gen.head()"
   ]
  },
  {
   "cell_type": "markdown",
   "metadata": {},
   "source": [
    "## Cleaning the headers for the actual questions asked in the survey."
   ]
  },
  {
   "cell_type": "markdown",
   "metadata": {},
   "source": [
    "### For Q1"
   ]
  },
  {
   "cell_type": "code",
   "execution_count": 128,
   "metadata": {},
   "outputs": [],
   "source": [
    "df_survey = data.iloc[:,[12,13]]"
   ]
  },
  {
   "cell_type": "code",
   "execution_count": 130,
   "metadata": {},
   "outputs": [],
   "source": [
    "df_survey.columns = df_survey.iloc[0].astype(str)\n",
    "df_survey = df_survey[1:]"
   ]
  },
  {
   "cell_type": "code",
   "execution_count": 132,
   "metadata": {},
   "outputs": [
    {
     "data": {
      "text/html": [
       "<div>\n",
       "<style scoped>\n",
       "    .dataframe tbody tr th:only-of-type {\n",
       "        vertical-align: middle;\n",
       "    }\n",
       "\n",
       "    .dataframe tbody tr th {\n",
       "        vertical-align: top;\n",
       "    }\n",
       "\n",
       "    .dataframe thead th {\n",
       "        text-align: right;\n",
       "    }\n",
       "</style>\n",
       "<table border=\"1\" class=\"dataframe\">\n",
       "  <thead>\n",
       "    <tr style=\"text-align: right;\">\n",
       "      <th></th>\n",
       "      <th>2.0</th>\n",
       "      <th>4.0</th>\n",
       "    </tr>\n",
       "  </thead>\n",
       "  <tbody>\n",
       "    <tr>\n",
       "      <th>1</th>\n",
       "      <td></td>\n",
       "      <td>4.0</td>\n",
       "    </tr>\n",
       "    <tr>\n",
       "      <th>2</th>\n",
       "      <td>2.0</td>\n",
       "      <td></td>\n",
       "    </tr>\n",
       "    <tr>\n",
       "      <th>3</th>\n",
       "      <td>2.0</td>\n",
       "      <td></td>\n",
       "    </tr>\n",
       "    <tr>\n",
       "      <th>4</th>\n",
       "      <td>2.0</td>\n",
       "      <td></td>\n",
       "    </tr>\n",
       "    <tr>\n",
       "      <th>5</th>\n",
       "      <td>2.0</td>\n",
       "      <td></td>\n",
       "    </tr>\n",
       "  </tbody>\n",
       "</table>\n",
       "</div>"
      ],
      "text/plain": [
       "0  2.0  4.0\n",
       "1       4.0\n",
       "2  2.0     \n",
       "3  2.0     \n",
       "4  2.0     \n",
       "5  2.0     "
      ]
     },
     "execution_count": 132,
     "metadata": {},
     "output_type": "execute_result"
    }
   ],
   "source": [
    "df_survey = df_survey.loc[:, '2.0':'4.0'].replace(1, pd.Series(df_survey.columns, df_survey.columns)).fillna('')\n",
    "df_survey.head()"
   ]
  },
  {
   "cell_type": "code",
   "execution_count": 134,
   "metadata": {},
   "outputs": [
    {
     "data": {
      "text/html": [
       "<div>\n",
       "<style scoped>\n",
       "    .dataframe tbody tr th:only-of-type {\n",
       "        vertical-align: middle;\n",
       "    }\n",
       "\n",
       "    .dataframe tbody tr th {\n",
       "        vertical-align: top;\n",
       "    }\n",
       "\n",
       "    .dataframe thead th {\n",
       "        text-align: right;\n",
       "    }\n",
       "</style>\n",
       "<table border=\"1\" class=\"dataframe\">\n",
       "  <thead>\n",
       "    <tr style=\"text-align: right;\">\n",
       "      <th></th>\n",
       "      <th>Section</th>\n",
       "    </tr>\n",
       "  </thead>\n",
       "  <tbody>\n",
       "    <tr>\n",
       "      <th>1</th>\n",
       "      <td>4.0</td>\n",
       "    </tr>\n",
       "    <tr>\n",
       "      <th>2</th>\n",
       "      <td>2.0</td>\n",
       "    </tr>\n",
       "    <tr>\n",
       "      <th>3</th>\n",
       "      <td>2.0</td>\n",
       "    </tr>\n",
       "    <tr>\n",
       "      <th>4</th>\n",
       "      <td>2.0</td>\n",
       "    </tr>\n",
       "    <tr>\n",
       "      <th>5</th>\n",
       "      <td>2.0</td>\n",
       "    </tr>\n",
       "  </tbody>\n",
       "</table>\n",
       "</div>"
      ],
      "text/plain": [
       "  Section\n",
       "1     4.0\n",
       "2     2.0\n",
       "3     2.0\n",
       "4     2.0\n",
       "5     2.0"
      ]
     },
     "execution_count": 134,
     "metadata": {},
     "output_type": "execute_result"
    }
   ],
   "source": [
    "df_survey = pd.DataFrame(df_survey.iloc[:,0] + df_survey.iloc[:,1])\n",
    "df_survey.columns = ['Section']\n",
    "df_survey.head()"
   ]
  },
  {
   "cell_type": "code",
   "execution_count": 136,
   "metadata": {},
   "outputs": [
    {
     "data": {
      "text/html": [
       "<div>\n",
       "<style scoped>\n",
       "    .dataframe tbody tr th:only-of-type {\n",
       "        vertical-align: middle;\n",
       "    }\n",
       "\n",
       "    .dataframe tbody tr th {\n",
       "        vertical-align: top;\n",
       "    }\n",
       "\n",
       "    .dataframe thead th {\n",
       "        text-align: right;\n",
       "    }\n",
       "</style>\n",
       "<table border=\"1\" class=\"dataframe\">\n",
       "  <thead>\n",
       "    <tr style=\"text-align: right;\">\n",
       "      <th></th>\n",
       "      <th>Time</th>\n",
       "      <th>Status</th>\n",
       "      <th>Duration (Seconds)</th>\n",
       "      <th>Access Code</th>\n",
       "      <th>Email Address</th>\n",
       "      <th>IP Address</th>\n",
       "      <th>Country</th>\n",
       "      <th>Region</th>\n",
       "      <th>City / Town / District</th>\n",
       "      <th>Latitude</th>\n",
       "      <th>Longitude</th>\n",
       "      <th>Section</th>\n",
       "    </tr>\n",
       "  </thead>\n",
       "  <tbody>\n",
       "    <tr>\n",
       "      <th>1</th>\n",
       "      <td>10/3/2023 17:49</td>\n",
       "      <td>Completed</td>\n",
       "      <td>11646</td>\n",
       "      <td>NaN</td>\n",
       "      <td>NaN</td>\n",
       "      <td>100.36.167.226</td>\n",
       "      <td>United States</td>\n",
       "      <td>Virginia</td>\n",
       "      <td>Fairfax</td>\n",
       "      <td>-77.2891</td>\n",
       "      <td>38.8209</td>\n",
       "      <td>4.0</td>\n",
       "    </tr>\n",
       "    <tr>\n",
       "      <th>2</th>\n",
       "      <td>10/3/2023 17:49</td>\n",
       "      <td>Completed</td>\n",
       "      <td>113</td>\n",
       "      <td>NaN</td>\n",
       "      <td>NaN</td>\n",
       "      <td>98.169.26.134</td>\n",
       "      <td>United States</td>\n",
       "      <td>Virginia</td>\n",
       "      <td>Fairfax</td>\n",
       "      <td>-77.263</td>\n",
       "      <td>38.8605</td>\n",
       "      <td>2.0</td>\n",
       "    </tr>\n",
       "    <tr>\n",
       "      <th>3</th>\n",
       "      <td>10/3/2023 17:49</td>\n",
       "      <td>Completed</td>\n",
       "      <td>572</td>\n",
       "      <td>NaN</td>\n",
       "      <td>NaN</td>\n",
       "      <td>98.169.52.23</td>\n",
       "      <td>United States</td>\n",
       "      <td>Virginia</td>\n",
       "      <td>Greenway Downs</td>\n",
       "      <td>-77.2331</td>\n",
       "      <td>38.9645</td>\n",
       "      <td>2.0</td>\n",
       "    </tr>\n",
       "    <tr>\n",
       "      <th>4</th>\n",
       "      <td>10/3/2023 17:50</td>\n",
       "      <td>Completed</td>\n",
       "      <td>365</td>\n",
       "      <td>NaN</td>\n",
       "      <td>NaN</td>\n",
       "      <td>69.255.182.253</td>\n",
       "      <td>United States</td>\n",
       "      <td>Virginia</td>\n",
       "      <td>Gainesville</td>\n",
       "      <td>-77.6308</td>\n",
       "      <td>38.8175</td>\n",
       "      <td>2.0</td>\n",
       "    </tr>\n",
       "    <tr>\n",
       "      <th>5</th>\n",
       "      <td>10/3/2023 17:51</td>\n",
       "      <td>Completed</td>\n",
       "      <td>92</td>\n",
       "      <td>NaN</td>\n",
       "      <td>NaN</td>\n",
       "      <td>138.88.108.230</td>\n",
       "      <td>United States</td>\n",
       "      <td>NaN</td>\n",
       "      <td>NaN</td>\n",
       "      <td>-97.822</td>\n",
       "      <td>37.751</td>\n",
       "      <td>2.0</td>\n",
       "    </tr>\n",
       "  </tbody>\n",
       "</table>\n",
       "</div>"
      ],
      "text/plain": [
       "              Time     Status Duration (Seconds) Access Code Email Address  \\\n",
       "1  10/3/2023 17:49  Completed              11646         NaN           NaN   \n",
       "2  10/3/2023 17:49  Completed                113         NaN           NaN   \n",
       "3  10/3/2023 17:49  Completed                572         NaN           NaN   \n",
       "4  10/3/2023 17:50  Completed                365         NaN           NaN   \n",
       "5  10/3/2023 17:51  Completed                 92         NaN           NaN   \n",
       "\n",
       "       IP Address        Country    Region City / Town / District  Latitude  \\\n",
       "1  100.36.167.226  United States  Virginia                Fairfax  -77.2891   \n",
       "2   98.169.26.134  United States  Virginia                Fairfax   -77.263   \n",
       "3    98.169.52.23  United States  Virginia         Greenway Downs  -77.2331   \n",
       "4  69.255.182.253  United States  Virginia            Gainesville  -77.6308   \n",
       "5  138.88.108.230  United States       NaN                    NaN   -97.822   \n",
       "\n",
       "  Longitude Section  \n",
       "1   38.8209     4.0  \n",
       "2   38.8605     2.0  \n",
       "3   38.9645     2.0  \n",
       "4   38.8175     2.0  \n",
       "5    37.751     2.0  "
      ]
     },
     "execution_count": 136,
     "metadata": {},
     "output_type": "execute_result"
    }
   ],
   "source": [
    "# add to the df_gen \n",
    "df_gen = pd.concat([df_gen, df_survey],axis=1)\n",
    "df_gen.head()"
   ]
  },
  {
   "cell_type": "markdown",
   "metadata": {},
   "source": [
    "### For Q2"
   ]
  },
  {
   "cell_type": "code",
   "execution_count": 9,
   "metadata": {},
   "outputs": [
    {
     "data": {
      "text/html": [
       "<div>\n",
       "<style scoped>\n",
       "    .dataframe tbody tr th:only-of-type {\n",
       "        vertical-align: middle;\n",
       "    }\n",
       "\n",
       "    .dataframe tbody tr th {\n",
       "        vertical-align: top;\n",
       "    }\n",
       "\n",
       "    .dataframe thead th {\n",
       "        text-align: right;\n",
       "    }\n",
       "</style>\n",
       "<table border=\"1\" class=\"dataframe\">\n",
       "  <thead>\n",
       "    <tr style=\"text-align: right;\">\n",
       "      <th></th>\n",
       "      <th>Q2</th>\n",
       "      <th>Q2.1</th>\n",
       "      <th>Q2.2</th>\n",
       "      <th>Q2.3</th>\n",
       "    </tr>\n",
       "  </thead>\n",
       "  <tbody>\n",
       "    <tr>\n",
       "      <th>0</th>\n",
       "      <td>Male</td>\n",
       "      <td>Female</td>\n",
       "      <td>NonBinary</td>\n",
       "      <td>Prefer not to answer</td>\n",
       "    </tr>\n",
       "    <tr>\n",
       "      <th>1</th>\n",
       "      <td>NaN</td>\n",
       "      <td>1</td>\n",
       "      <td>NaN</td>\n",
       "      <td>NaN</td>\n",
       "    </tr>\n",
       "    <tr>\n",
       "      <th>2</th>\n",
       "      <td>NaN</td>\n",
       "      <td>1</td>\n",
       "      <td>NaN</td>\n",
       "      <td>NaN</td>\n",
       "    </tr>\n",
       "    <tr>\n",
       "      <th>3</th>\n",
       "      <td>1</td>\n",
       "      <td>NaN</td>\n",
       "      <td>NaN</td>\n",
       "      <td>NaN</td>\n",
       "    </tr>\n",
       "    <tr>\n",
       "      <th>4</th>\n",
       "      <td>NaN</td>\n",
       "      <td>NaN</td>\n",
       "      <td>NaN</td>\n",
       "      <td>1</td>\n",
       "    </tr>\n",
       "  </tbody>\n",
       "</table>\n",
       "</div>"
      ],
      "text/plain": [
       "     Q2    Q2.1       Q2.2                  Q2.3\n",
       "0  Male  Female  NonBinary  Prefer not to answer\n",
       "1   NaN       1        NaN                   NaN\n",
       "2   NaN       1        NaN                   NaN\n",
       "3     1     NaN        NaN                   NaN\n",
       "4   NaN     NaN        NaN                     1"
      ]
     },
     "execution_count": 9,
     "metadata": {},
     "output_type": "execute_result"
    }
   ],
   "source": [
    "# getting headers for the gender question\n",
    "df_q2 = data.iloc[:,[14,15, 16, 17]]\n",
    "df_q2.head()"
   ]
  },
  {
   "cell_type": "code",
   "execution_count": 10,
   "metadata": {},
   "outputs": [],
   "source": [
    "# replacing with first column\n",
    "df_q2.columns = df_q2.iloc[0].astype(str)\n",
    "df_q2 = df_q2[1:]  "
   ]
  },
  {
   "cell_type": "code",
   "execution_count": 11,
   "metadata": {},
   "outputs": [
    {
     "data": {
      "text/html": [
       "<div>\n",
       "<style scoped>\n",
       "    .dataframe tbody tr th:only-of-type {\n",
       "        vertical-align: middle;\n",
       "    }\n",
       "\n",
       "    .dataframe tbody tr th {\n",
       "        vertical-align: top;\n",
       "    }\n",
       "\n",
       "    .dataframe thead th {\n",
       "        text-align: right;\n",
       "    }\n",
       "</style>\n",
       "<table border=\"1\" class=\"dataframe\">\n",
       "  <thead>\n",
       "    <tr style=\"text-align: right;\">\n",
       "      <th></th>\n",
       "      <th>Male</th>\n",
       "      <th>Female</th>\n",
       "      <th>NonBinary</th>\n",
       "      <th>Prefer not to answer</th>\n",
       "    </tr>\n",
       "  </thead>\n",
       "  <tbody>\n",
       "    <tr>\n",
       "      <th>1</th>\n",
       "      <td>NaN</td>\n",
       "      <td>1</td>\n",
       "      <td>NaN</td>\n",
       "      <td>NaN</td>\n",
       "    </tr>\n",
       "    <tr>\n",
       "      <th>2</th>\n",
       "      <td>NaN</td>\n",
       "      <td>1</td>\n",
       "      <td>NaN</td>\n",
       "      <td>NaN</td>\n",
       "    </tr>\n",
       "    <tr>\n",
       "      <th>3</th>\n",
       "      <td>1</td>\n",
       "      <td>NaN</td>\n",
       "      <td>NaN</td>\n",
       "      <td>NaN</td>\n",
       "    </tr>\n",
       "    <tr>\n",
       "      <th>4</th>\n",
       "      <td>NaN</td>\n",
       "      <td>NaN</td>\n",
       "      <td>NaN</td>\n",
       "      <td>1</td>\n",
       "    </tr>\n",
       "    <tr>\n",
       "      <th>5</th>\n",
       "      <td>1</td>\n",
       "      <td>NaN</td>\n",
       "      <td>NaN</td>\n",
       "      <td>NaN</td>\n",
       "    </tr>\n",
       "  </tbody>\n",
       "</table>\n",
       "</div>"
      ],
      "text/plain": [
       "0 Male Female NonBinary Prefer not to answer\n",
       "1  NaN      1       NaN                  NaN\n",
       "2  NaN      1       NaN                  NaN\n",
       "3    1    NaN       NaN                  NaN\n",
       "4  NaN    NaN       NaN                    1\n",
       "5    1    NaN       NaN                  NaN"
      ]
     },
     "execution_count": 11,
     "metadata": {},
     "output_type": "execute_result"
    }
   ],
   "source": [
    "df_q2.head()"
   ]
  },
  {
   "cell_type": "code",
   "execution_count": 12,
   "metadata": {},
   "outputs": [],
   "source": [
    "df_q2 = df_q2.iloc[:, 0:4].replace('1', pd.Series(df_q2.columns, df_q2.columns)).fillna('')"
   ]
  },
  {
   "cell_type": "code",
   "execution_count": 13,
   "metadata": {},
   "outputs": [
    {
     "data": {
      "text/html": [
       "<div>\n",
       "<style scoped>\n",
       "    .dataframe tbody tr th:only-of-type {\n",
       "        vertical-align: middle;\n",
       "    }\n",
       "\n",
       "    .dataframe tbody tr th {\n",
       "        vertical-align: top;\n",
       "    }\n",
       "\n",
       "    .dataframe thead th {\n",
       "        text-align: right;\n",
       "    }\n",
       "</style>\n",
       "<table border=\"1\" class=\"dataframe\">\n",
       "  <thead>\n",
       "    <tr style=\"text-align: right;\">\n",
       "      <th></th>\n",
       "      <th>Male</th>\n",
       "      <th>Female</th>\n",
       "      <th>NonBinary</th>\n",
       "      <th>Prefer not to answer</th>\n",
       "    </tr>\n",
       "  </thead>\n",
       "  <tbody>\n",
       "    <tr>\n",
       "      <th>1</th>\n",
       "      <td></td>\n",
       "      <td>Female</td>\n",
       "      <td></td>\n",
       "      <td></td>\n",
       "    </tr>\n",
       "    <tr>\n",
       "      <th>2</th>\n",
       "      <td></td>\n",
       "      <td>Female</td>\n",
       "      <td></td>\n",
       "      <td></td>\n",
       "    </tr>\n",
       "    <tr>\n",
       "      <th>3</th>\n",
       "      <td>Male</td>\n",
       "      <td></td>\n",
       "      <td></td>\n",
       "      <td></td>\n",
       "    </tr>\n",
       "    <tr>\n",
       "      <th>4</th>\n",
       "      <td></td>\n",
       "      <td></td>\n",
       "      <td></td>\n",
       "      <td>Prefer not to answer</td>\n",
       "    </tr>\n",
       "    <tr>\n",
       "      <th>5</th>\n",
       "      <td>Male</td>\n",
       "      <td></td>\n",
       "      <td></td>\n",
       "      <td></td>\n",
       "    </tr>\n",
       "  </tbody>\n",
       "</table>\n",
       "</div>"
      ],
      "text/plain": [
       "0  Male  Female NonBinary  Prefer not to answer\n",
       "1        Female                                \n",
       "2        Female                                \n",
       "3  Male                                        \n",
       "4                          Prefer not to answer\n",
       "5  Male                                        "
      ]
     },
     "execution_count": 13,
     "metadata": {},
     "output_type": "execute_result"
    }
   ],
   "source": [
    "df_q2.head()"
   ]
  },
  {
   "cell_type": "code",
   "execution_count": 14,
   "metadata": {},
   "outputs": [],
   "source": [
    "df_q2 = pd.DataFrame(df_q2.iloc[:,0] + df_q2.iloc[:,1] + df_q2.iloc[:,2] + df_q2.iloc[:,3])"
   ]
  },
  {
   "cell_type": "code",
   "execution_count": 15,
   "metadata": {},
   "outputs": [],
   "source": [
    "df_q2.columns = ['Gender']"
   ]
  },
  {
   "cell_type": "code",
   "execution_count": 16,
   "metadata": {},
   "outputs": [
    {
     "data": {
      "text/html": [
       "<div>\n",
       "<style scoped>\n",
       "    .dataframe tbody tr th:only-of-type {\n",
       "        vertical-align: middle;\n",
       "    }\n",
       "\n",
       "    .dataframe tbody tr th {\n",
       "        vertical-align: top;\n",
       "    }\n",
       "\n",
       "    .dataframe thead th {\n",
       "        text-align: right;\n",
       "    }\n",
       "</style>\n",
       "<table border=\"1\" class=\"dataframe\">\n",
       "  <thead>\n",
       "    <tr style=\"text-align: right;\">\n",
       "      <th></th>\n",
       "      <th>Gender</th>\n",
       "    </tr>\n",
       "  </thead>\n",
       "  <tbody>\n",
       "    <tr>\n",
       "      <th>1</th>\n",
       "      <td>Female</td>\n",
       "    </tr>\n",
       "    <tr>\n",
       "      <th>2</th>\n",
       "      <td>Female</td>\n",
       "    </tr>\n",
       "    <tr>\n",
       "      <th>3</th>\n",
       "      <td>Male</td>\n",
       "    </tr>\n",
       "    <tr>\n",
       "      <th>4</th>\n",
       "      <td>Prefer not to answer</td>\n",
       "    </tr>\n",
       "    <tr>\n",
       "      <th>5</th>\n",
       "      <td>Male</td>\n",
       "    </tr>\n",
       "  </tbody>\n",
       "</table>\n",
       "</div>"
      ],
      "text/plain": [
       "                 Gender\n",
       "1                Female\n",
       "2                Female\n",
       "3                  Male\n",
       "4  Prefer not to answer\n",
       "5                  Male"
      ]
     },
     "execution_count": 16,
     "metadata": {},
     "output_type": "execute_result"
    }
   ],
   "source": [
    "df_q2.head()"
   ]
  },
  {
   "cell_type": "code",
   "execution_count": 17,
   "metadata": {},
   "outputs": [
    {
     "data": {
      "text/html": [
       "<div>\n",
       "<style scoped>\n",
       "    .dataframe tbody tr th:only-of-type {\n",
       "        vertical-align: middle;\n",
       "    }\n",
       "\n",
       "    .dataframe tbody tr th {\n",
       "        vertical-align: top;\n",
       "    }\n",
       "\n",
       "    .dataframe thead th {\n",
       "        text-align: right;\n",
       "    }\n",
       "</style>\n",
       "<table border=\"1\" class=\"dataframe\">\n",
       "  <thead>\n",
       "    <tr style=\"text-align: right;\">\n",
       "      <th></th>\n",
       "      <th>Gender</th>\n",
       "    </tr>\n",
       "  </thead>\n",
       "  <tbody>\n",
       "    <tr>\n",
       "      <th>1</th>\n",
       "      <td>F</td>\n",
       "    </tr>\n",
       "    <tr>\n",
       "      <th>2</th>\n",
       "      <td>F</td>\n",
       "    </tr>\n",
       "    <tr>\n",
       "      <th>3</th>\n",
       "      <td>M</td>\n",
       "    </tr>\n",
       "    <tr>\n",
       "      <th>4</th>\n",
       "      <td>No</td>\n",
       "    </tr>\n",
       "    <tr>\n",
       "      <th>5</th>\n",
       "      <td>M</td>\n",
       "    </tr>\n",
       "  </tbody>\n",
       "</table>\n",
       "</div>"
      ],
      "text/plain": [
       "  Gender\n",
       "1      F\n",
       "2      F\n",
       "3      M\n",
       "4     No\n",
       "5      M"
      ]
     },
     "execution_count": 17,
     "metadata": {},
     "output_type": "execute_result"
    }
   ],
   "source": [
    "df_q2.iloc[:, 0] = df_q2.iloc[:, 0].replace('Female', 'F')\n",
    "df_q2.iloc[:, 0] = df_q2.iloc[:, 0].replace('Male', 'M')\n",
    "df_q2.iloc[:, 0] = df_q2.iloc[:, 0].replace('NonBinary', 'NB')\n",
    "df_q2.iloc[:, 0] = df_q2.iloc[:, 0].replace('Prefer not to answer', 'No')\n",
    "\n",
    "df_q2.head()"
   ]
  },
  {
   "cell_type": "code",
   "execution_count": 18,
   "metadata": {},
   "outputs": [
    {
     "data": {
      "text/html": [
       "<div>\n",
       "<style scoped>\n",
       "    .dataframe tbody tr th:only-of-type {\n",
       "        vertical-align: middle;\n",
       "    }\n",
       "\n",
       "    .dataframe tbody tr th {\n",
       "        vertical-align: top;\n",
       "    }\n",
       "\n",
       "    .dataframe thead th {\n",
       "        text-align: right;\n",
       "    }\n",
       "</style>\n",
       "<table border=\"1\" class=\"dataframe\">\n",
       "  <thead>\n",
       "    <tr style=\"text-align: right;\">\n",
       "      <th></th>\n",
       "      <th>Time</th>\n",
       "      <th>Status</th>\n",
       "      <th>Duration (Seconds)</th>\n",
       "      <th>Access Code</th>\n",
       "      <th>Email Address</th>\n",
       "      <th>IP Address</th>\n",
       "      <th>Country</th>\n",
       "      <th>Region</th>\n",
       "      <th>City / Town / District</th>\n",
       "      <th>Latitude</th>\n",
       "      <th>Longitude</th>\n",
       "      <th>Section</th>\n",
       "      <th>Gender</th>\n",
       "    </tr>\n",
       "  </thead>\n",
       "  <tbody>\n",
       "    <tr>\n",
       "      <th>1</th>\n",
       "      <td>10/3/2023 17:49</td>\n",
       "      <td>Completed</td>\n",
       "      <td>11646</td>\n",
       "      <td>NaN</td>\n",
       "      <td>NaN</td>\n",
       "      <td>100.36.167.226</td>\n",
       "      <td>United States</td>\n",
       "      <td>Virginia</td>\n",
       "      <td>Fairfax</td>\n",
       "      <td>-77.2891</td>\n",
       "      <td>38.8209</td>\n",
       "      <td>4.0</td>\n",
       "      <td>F</td>\n",
       "    </tr>\n",
       "    <tr>\n",
       "      <th>2</th>\n",
       "      <td>10/3/2023 17:49</td>\n",
       "      <td>Completed</td>\n",
       "      <td>113</td>\n",
       "      <td>NaN</td>\n",
       "      <td>NaN</td>\n",
       "      <td>98.169.26.134</td>\n",
       "      <td>United States</td>\n",
       "      <td>Virginia</td>\n",
       "      <td>Fairfax</td>\n",
       "      <td>-77.263</td>\n",
       "      <td>38.8605</td>\n",
       "      <td>2.0</td>\n",
       "      <td>F</td>\n",
       "    </tr>\n",
       "    <tr>\n",
       "      <th>3</th>\n",
       "      <td>10/3/2023 17:49</td>\n",
       "      <td>Completed</td>\n",
       "      <td>572</td>\n",
       "      <td>NaN</td>\n",
       "      <td>NaN</td>\n",
       "      <td>98.169.52.23</td>\n",
       "      <td>United States</td>\n",
       "      <td>Virginia</td>\n",
       "      <td>Greenway Downs</td>\n",
       "      <td>-77.2331</td>\n",
       "      <td>38.9645</td>\n",
       "      <td>2.0</td>\n",
       "      <td>M</td>\n",
       "    </tr>\n",
       "    <tr>\n",
       "      <th>4</th>\n",
       "      <td>10/3/2023 17:50</td>\n",
       "      <td>Completed</td>\n",
       "      <td>365</td>\n",
       "      <td>NaN</td>\n",
       "      <td>NaN</td>\n",
       "      <td>69.255.182.253</td>\n",
       "      <td>United States</td>\n",
       "      <td>Virginia</td>\n",
       "      <td>Gainesville</td>\n",
       "      <td>-77.6308</td>\n",
       "      <td>38.8175</td>\n",
       "      <td>2.0</td>\n",
       "      <td>No</td>\n",
       "    </tr>\n",
       "    <tr>\n",
       "      <th>5</th>\n",
       "      <td>10/3/2023 17:51</td>\n",
       "      <td>Completed</td>\n",
       "      <td>92</td>\n",
       "      <td>NaN</td>\n",
       "      <td>NaN</td>\n",
       "      <td>138.88.108.230</td>\n",
       "      <td>United States</td>\n",
       "      <td>NaN</td>\n",
       "      <td>NaN</td>\n",
       "      <td>-97.822</td>\n",
       "      <td>37.751</td>\n",
       "      <td>2.0</td>\n",
       "      <td>M</td>\n",
       "    </tr>\n",
       "  </tbody>\n",
       "</table>\n",
       "</div>"
      ],
      "text/plain": [
       "              Time     Status Duration (Seconds) Access Code Email Address  \\\n",
       "1  10/3/2023 17:49  Completed              11646         NaN           NaN   \n",
       "2  10/3/2023 17:49  Completed                113         NaN           NaN   \n",
       "3  10/3/2023 17:49  Completed                572         NaN           NaN   \n",
       "4  10/3/2023 17:50  Completed                365         NaN           NaN   \n",
       "5  10/3/2023 17:51  Completed                 92         NaN           NaN   \n",
       "\n",
       "       IP Address        Country    Region City / Town / District  Latitude  \\\n",
       "1  100.36.167.226  United States  Virginia                Fairfax  -77.2891   \n",
       "2   98.169.26.134  United States  Virginia                Fairfax   -77.263   \n",
       "3    98.169.52.23  United States  Virginia         Greenway Downs  -77.2331   \n",
       "4  69.255.182.253  United States  Virginia            Gainesville  -77.6308   \n",
       "5  138.88.108.230  United States       NaN                    NaN   -97.822   \n",
       "\n",
       "  Longitude Section Gender  \n",
       "1   38.8209     4.0      F  \n",
       "2   38.8605     2.0      F  \n",
       "3   38.9645     2.0      M  \n",
       "4   38.8175     2.0     No  \n",
       "5    37.751     2.0      M  "
      ]
     },
     "execution_count": 18,
     "metadata": {},
     "output_type": "execute_result"
    }
   ],
   "source": [
    "# add to the main df_gen\n",
    "df_gen = pd.concat([df_gen, df_q2], axis=1)\n",
    "df_gen.head()"
   ]
  },
  {
   "cell_type": "markdown",
   "metadata": {},
   "source": [
    "### For Q3"
   ]
  },
  {
   "cell_type": "code",
   "execution_count": 19,
   "metadata": {},
   "outputs": [],
   "source": [
    "df_q3 = data.iloc[:, [18]]"
   ]
  },
  {
   "cell_type": "code",
   "execution_count": 20,
   "metadata": {},
   "outputs": [],
   "source": [
    "# rename \n",
    "df_q3.columns = df_q3.iloc[0].astype(str)\n",
    "df_q3 = df_q3[1:]  "
   ]
  },
  {
   "cell_type": "code",
   "execution_count": 21,
   "metadata": {},
   "outputs": [],
   "source": [
    "df_q3.columns = ['Age']"
   ]
  },
  {
   "cell_type": "code",
   "execution_count": 22,
   "metadata": {},
   "outputs": [
    {
     "data": {
      "text/html": [
       "<div>\n",
       "<style scoped>\n",
       "    .dataframe tbody tr th:only-of-type {\n",
       "        vertical-align: middle;\n",
       "    }\n",
       "\n",
       "    .dataframe tbody tr th {\n",
       "        vertical-align: top;\n",
       "    }\n",
       "\n",
       "    .dataframe thead th {\n",
       "        text-align: right;\n",
       "    }\n",
       "</style>\n",
       "<table border=\"1\" class=\"dataframe\">\n",
       "  <thead>\n",
       "    <tr style=\"text-align: right;\">\n",
       "      <th></th>\n",
       "      <th>Age</th>\n",
       "    </tr>\n",
       "  </thead>\n",
       "  <tbody>\n",
       "    <tr>\n",
       "      <th>1</th>\n",
       "      <td>23</td>\n",
       "    </tr>\n",
       "    <tr>\n",
       "      <th>2</th>\n",
       "      <td>24</td>\n",
       "    </tr>\n",
       "    <tr>\n",
       "      <th>3</th>\n",
       "      <td>40</td>\n",
       "    </tr>\n",
       "    <tr>\n",
       "      <th>4</th>\n",
       "      <td>26</td>\n",
       "    </tr>\n",
       "    <tr>\n",
       "      <th>5</th>\n",
       "      <td>30</td>\n",
       "    </tr>\n",
       "  </tbody>\n",
       "</table>\n",
       "</div>"
      ],
      "text/plain": [
       "  Age\n",
       "1  23\n",
       "2  24\n",
       "3  40\n",
       "4  26\n",
       "5  30"
      ]
     },
     "execution_count": 22,
     "metadata": {},
     "output_type": "execute_result"
    }
   ],
   "source": [
    "df_q3.head()"
   ]
  },
  {
   "cell_type": "code",
   "execution_count": 23,
   "metadata": {},
   "outputs": [
    {
     "data": {
      "text/html": [
       "<div>\n",
       "<style scoped>\n",
       "    .dataframe tbody tr th:only-of-type {\n",
       "        vertical-align: middle;\n",
       "    }\n",
       "\n",
       "    .dataframe tbody tr th {\n",
       "        vertical-align: top;\n",
       "    }\n",
       "\n",
       "    .dataframe thead th {\n",
       "        text-align: right;\n",
       "    }\n",
       "</style>\n",
       "<table border=\"1\" class=\"dataframe\">\n",
       "  <thead>\n",
       "    <tr style=\"text-align: right;\">\n",
       "      <th></th>\n",
       "      <th>Time</th>\n",
       "      <th>Status</th>\n",
       "      <th>Duration (Seconds)</th>\n",
       "      <th>Access Code</th>\n",
       "      <th>Email Address</th>\n",
       "      <th>IP Address</th>\n",
       "      <th>Country</th>\n",
       "      <th>Region</th>\n",
       "      <th>City / Town / District</th>\n",
       "      <th>Latitude</th>\n",
       "      <th>Longitude</th>\n",
       "      <th>Section</th>\n",
       "      <th>Gender</th>\n",
       "      <th>Age</th>\n",
       "    </tr>\n",
       "  </thead>\n",
       "  <tbody>\n",
       "    <tr>\n",
       "      <th>1</th>\n",
       "      <td>10/3/2023 17:49</td>\n",
       "      <td>Completed</td>\n",
       "      <td>11646</td>\n",
       "      <td>NaN</td>\n",
       "      <td>NaN</td>\n",
       "      <td>100.36.167.226</td>\n",
       "      <td>United States</td>\n",
       "      <td>Virginia</td>\n",
       "      <td>Fairfax</td>\n",
       "      <td>-77.2891</td>\n",
       "      <td>38.8209</td>\n",
       "      <td>4.0</td>\n",
       "      <td>F</td>\n",
       "      <td>23</td>\n",
       "    </tr>\n",
       "    <tr>\n",
       "      <th>2</th>\n",
       "      <td>10/3/2023 17:49</td>\n",
       "      <td>Completed</td>\n",
       "      <td>113</td>\n",
       "      <td>NaN</td>\n",
       "      <td>NaN</td>\n",
       "      <td>98.169.26.134</td>\n",
       "      <td>United States</td>\n",
       "      <td>Virginia</td>\n",
       "      <td>Fairfax</td>\n",
       "      <td>-77.263</td>\n",
       "      <td>38.8605</td>\n",
       "      <td>2.0</td>\n",
       "      <td>F</td>\n",
       "      <td>24</td>\n",
       "    </tr>\n",
       "    <tr>\n",
       "      <th>3</th>\n",
       "      <td>10/3/2023 17:49</td>\n",
       "      <td>Completed</td>\n",
       "      <td>572</td>\n",
       "      <td>NaN</td>\n",
       "      <td>NaN</td>\n",
       "      <td>98.169.52.23</td>\n",
       "      <td>United States</td>\n",
       "      <td>Virginia</td>\n",
       "      <td>Greenway Downs</td>\n",
       "      <td>-77.2331</td>\n",
       "      <td>38.9645</td>\n",
       "      <td>2.0</td>\n",
       "      <td>M</td>\n",
       "      <td>40</td>\n",
       "    </tr>\n",
       "    <tr>\n",
       "      <th>4</th>\n",
       "      <td>10/3/2023 17:50</td>\n",
       "      <td>Completed</td>\n",
       "      <td>365</td>\n",
       "      <td>NaN</td>\n",
       "      <td>NaN</td>\n",
       "      <td>69.255.182.253</td>\n",
       "      <td>United States</td>\n",
       "      <td>Virginia</td>\n",
       "      <td>Gainesville</td>\n",
       "      <td>-77.6308</td>\n",
       "      <td>38.8175</td>\n",
       "      <td>2.0</td>\n",
       "      <td>No</td>\n",
       "      <td>26</td>\n",
       "    </tr>\n",
       "    <tr>\n",
       "      <th>5</th>\n",
       "      <td>10/3/2023 17:51</td>\n",
       "      <td>Completed</td>\n",
       "      <td>92</td>\n",
       "      <td>NaN</td>\n",
       "      <td>NaN</td>\n",
       "      <td>138.88.108.230</td>\n",
       "      <td>United States</td>\n",
       "      <td>NaN</td>\n",
       "      <td>NaN</td>\n",
       "      <td>-97.822</td>\n",
       "      <td>37.751</td>\n",
       "      <td>2.0</td>\n",
       "      <td>M</td>\n",
       "      <td>30</td>\n",
       "    </tr>\n",
       "  </tbody>\n",
       "</table>\n",
       "</div>"
      ],
      "text/plain": [
       "              Time     Status Duration (Seconds) Access Code Email Address  \\\n",
       "1  10/3/2023 17:49  Completed              11646         NaN           NaN   \n",
       "2  10/3/2023 17:49  Completed                113         NaN           NaN   \n",
       "3  10/3/2023 17:49  Completed                572         NaN           NaN   \n",
       "4  10/3/2023 17:50  Completed                365         NaN           NaN   \n",
       "5  10/3/2023 17:51  Completed                 92         NaN           NaN   \n",
       "\n",
       "       IP Address        Country    Region City / Town / District  Latitude  \\\n",
       "1  100.36.167.226  United States  Virginia                Fairfax  -77.2891   \n",
       "2   98.169.26.134  United States  Virginia                Fairfax   -77.263   \n",
       "3    98.169.52.23  United States  Virginia         Greenway Downs  -77.2331   \n",
       "4  69.255.182.253  United States  Virginia            Gainesville  -77.6308   \n",
       "5  138.88.108.230  United States       NaN                    NaN   -97.822   \n",
       "\n",
       "  Longitude Section Gender Age  \n",
       "1   38.8209     4.0      F  23  \n",
       "2   38.8605     2.0      F  24  \n",
       "3   38.9645     2.0      M  40  \n",
       "4   38.8175     2.0     No  26  \n",
       "5    37.751     2.0      M  30  "
      ]
     },
     "execution_count": 23,
     "metadata": {},
     "output_type": "execute_result"
    }
   ],
   "source": [
    "df_gen = pd.concat([df_gen, df_q3], axis=1)\n",
    "df_gen.head()"
   ]
  },
  {
   "cell_type": "markdown",
   "metadata": {},
   "source": [
    "### For Q4 - Q7"
   ]
  },
  {
   "cell_type": "code",
   "execution_count": 24,
   "metadata": {},
   "outputs": [],
   "source": [
    "df_q4_7 = data.iloc[:,[19,20,21,22]]"
   ]
  },
  {
   "cell_type": "code",
   "execution_count": 25,
   "metadata": {},
   "outputs": [],
   "source": [
    "df_q4_7.columns = df_q4_7.iloc[0].astype(str)\n",
    "df_q4_7 = df_q4_7[1:]  "
   ]
  },
  {
   "cell_type": "code",
   "execution_count": 26,
   "metadata": {},
   "outputs": [],
   "source": [
    "df_q4_7.columns = ['Height', 'Citizenship', 'Undergrad_Degree', 'GradYear']"
   ]
  },
  {
   "cell_type": "code",
   "execution_count": 27,
   "metadata": {},
   "outputs": [],
   "source": [
    "df_gen = pd.concat([df_gen, df_q4_7], axis=1)"
   ]
  },
  {
   "cell_type": "code",
   "execution_count": 28,
   "metadata": {},
   "outputs": [
    {
     "data": {
      "text/html": [
       "<div>\n",
       "<style scoped>\n",
       "    .dataframe tbody tr th:only-of-type {\n",
       "        vertical-align: middle;\n",
       "    }\n",
       "\n",
       "    .dataframe tbody tr th {\n",
       "        vertical-align: top;\n",
       "    }\n",
       "\n",
       "    .dataframe thead th {\n",
       "        text-align: right;\n",
       "    }\n",
       "</style>\n",
       "<table border=\"1\" class=\"dataframe\">\n",
       "  <thead>\n",
       "    <tr style=\"text-align: right;\">\n",
       "      <th></th>\n",
       "      <th>Time</th>\n",
       "      <th>Status</th>\n",
       "      <th>Duration (Seconds)</th>\n",
       "      <th>Access Code</th>\n",
       "      <th>Email Address</th>\n",
       "      <th>IP Address</th>\n",
       "      <th>Country</th>\n",
       "      <th>Region</th>\n",
       "      <th>City / Town / District</th>\n",
       "      <th>Latitude</th>\n",
       "      <th>Longitude</th>\n",
       "      <th>Section</th>\n",
       "      <th>Gender</th>\n",
       "      <th>Age</th>\n",
       "      <th>Height</th>\n",
       "      <th>Citizenship</th>\n",
       "      <th>Undergrad_Degree</th>\n",
       "      <th>GradYear</th>\n",
       "    </tr>\n",
       "  </thead>\n",
       "  <tbody>\n",
       "    <tr>\n",
       "      <th>1</th>\n",
       "      <td>10/3/2023 17:49</td>\n",
       "      <td>Completed</td>\n",
       "      <td>11646</td>\n",
       "      <td>NaN</td>\n",
       "      <td>NaN</td>\n",
       "      <td>100.36.167.226</td>\n",
       "      <td>United States</td>\n",
       "      <td>Virginia</td>\n",
       "      <td>Fairfax</td>\n",
       "      <td>-77.2891</td>\n",
       "      <td>38.8209</td>\n",
       "      <td>4.0</td>\n",
       "      <td>F</td>\n",
       "      <td>23</td>\n",
       "      <td>63</td>\n",
       "      <td>Taiwan</td>\n",
       "      <td>economics</td>\n",
       "      <td>12/31/2021</td>\n",
       "    </tr>\n",
       "    <tr>\n",
       "      <th>2</th>\n",
       "      <td>10/3/2023 17:49</td>\n",
       "      <td>Completed</td>\n",
       "      <td>113</td>\n",
       "      <td>NaN</td>\n",
       "      <td>NaN</td>\n",
       "      <td>98.169.26.134</td>\n",
       "      <td>United States</td>\n",
       "      <td>Virginia</td>\n",
       "      <td>Fairfax</td>\n",
       "      <td>-77.263</td>\n",
       "      <td>38.8605</td>\n",
       "      <td>2.0</td>\n",
       "      <td>F</td>\n",
       "      <td>24</td>\n",
       "      <td>59</td>\n",
       "      <td>India</td>\n",
       "      <td>Finance</td>\n",
       "      <td>5/1/2021</td>\n",
       "    </tr>\n",
       "    <tr>\n",
       "      <th>3</th>\n",
       "      <td>10/3/2023 17:49</td>\n",
       "      <td>Completed</td>\n",
       "      <td>572</td>\n",
       "      <td>NaN</td>\n",
       "      <td>NaN</td>\n",
       "      <td>98.169.52.23</td>\n",
       "      <td>United States</td>\n",
       "      <td>Virginia</td>\n",
       "      <td>Greenway Downs</td>\n",
       "      <td>-77.2331</td>\n",
       "      <td>38.9645</td>\n",
       "      <td>2.0</td>\n",
       "      <td>M</td>\n",
       "      <td>40</td>\n",
       "      <td>70</td>\n",
       "      <td>India</td>\n",
       "      <td>Computer Applications</td>\n",
       "      <td>6/1/2022</td>\n",
       "    </tr>\n",
       "    <tr>\n",
       "      <th>4</th>\n",
       "      <td>10/3/2023 17:50</td>\n",
       "      <td>Completed</td>\n",
       "      <td>365</td>\n",
       "      <td>NaN</td>\n",
       "      <td>NaN</td>\n",
       "      <td>69.255.182.253</td>\n",
       "      <td>United States</td>\n",
       "      <td>Virginia</td>\n",
       "      <td>Gainesville</td>\n",
       "      <td>-77.6308</td>\n",
       "      <td>38.8175</td>\n",
       "      <td>2.0</td>\n",
       "      <td>No</td>\n",
       "      <td>26</td>\n",
       "      <td>66</td>\n",
       "      <td>South Korea</td>\n",
       "      <td>Business Management</td>\n",
       "      <td>12/31/2021</td>\n",
       "    </tr>\n",
       "    <tr>\n",
       "      <th>5</th>\n",
       "      <td>10/3/2023 17:51</td>\n",
       "      <td>Completed</td>\n",
       "      <td>92</td>\n",
       "      <td>NaN</td>\n",
       "      <td>NaN</td>\n",
       "      <td>138.88.108.230</td>\n",
       "      <td>United States</td>\n",
       "      <td>NaN</td>\n",
       "      <td>NaN</td>\n",
       "      <td>-97.822</td>\n",
       "      <td>37.751</td>\n",
       "      <td>2.0</td>\n",
       "      <td>M</td>\n",
       "      <td>30</td>\n",
       "      <td>70</td>\n",
       "      <td>US</td>\n",
       "      <td>Yes</td>\n",
       "      <td>1/1/2021</td>\n",
       "    </tr>\n",
       "  </tbody>\n",
       "</table>\n",
       "</div>"
      ],
      "text/plain": [
       "              Time     Status Duration (Seconds) Access Code Email Address  \\\n",
       "1  10/3/2023 17:49  Completed              11646         NaN           NaN   \n",
       "2  10/3/2023 17:49  Completed                113         NaN           NaN   \n",
       "3  10/3/2023 17:49  Completed                572         NaN           NaN   \n",
       "4  10/3/2023 17:50  Completed                365         NaN           NaN   \n",
       "5  10/3/2023 17:51  Completed                 92         NaN           NaN   \n",
       "\n",
       "       IP Address        Country    Region City / Town / District  Latitude  \\\n",
       "1  100.36.167.226  United States  Virginia                Fairfax  -77.2891   \n",
       "2   98.169.26.134  United States  Virginia                Fairfax   -77.263   \n",
       "3    98.169.52.23  United States  Virginia         Greenway Downs  -77.2331   \n",
       "4  69.255.182.253  United States  Virginia            Gainesville  -77.6308   \n",
       "5  138.88.108.230  United States       NaN                    NaN   -97.822   \n",
       "\n",
       "  Longitude Section Gender Age Height  Citizenship       Undergrad_Degree  \\\n",
       "1   38.8209     4.0      F  23     63       Taiwan              economics   \n",
       "2   38.8605     2.0      F  24     59        India               Finance    \n",
       "3   38.9645     2.0      M  40     70        India  Computer Applications   \n",
       "4   38.8175     2.0     No  26     66  South Korea    Business Management   \n",
       "5    37.751     2.0      M  30     70           US                    Yes   \n",
       "\n",
       "     GradYear  \n",
       "1  12/31/2021  \n",
       "2    5/1/2021  \n",
       "3    6/1/2022  \n",
       "4  12/31/2021  \n",
       "5    1/1/2021  "
      ]
     },
     "execution_count": 28,
     "metadata": {},
     "output_type": "execute_result"
    }
   ],
   "source": [
    "df_gen.head()"
   ]
  },
  {
   "cell_type": "markdown",
   "metadata": {},
   "source": [
    "### For Q8"
   ]
  },
  {
   "cell_type": "code",
   "execution_count": 29,
   "metadata": {},
   "outputs": [],
   "source": [
    "df_q8 = data.iloc[:, [23, 24, 25]]"
   ]
  },
  {
   "cell_type": "code",
   "execution_count": 30,
   "metadata": {},
   "outputs": [],
   "source": [
    "df_q8.columns = df_q8.iloc[0].astype(str)\n",
    "df_q8 = df_q8[1:]  "
   ]
  },
  {
   "cell_type": "code",
   "execution_count": 31,
   "metadata": {},
   "outputs": [
    {
     "data": {
      "text/plain": [
       "1"
      ]
     },
     "execution_count": 31,
     "metadata": {},
     "output_type": "execute_result"
    }
   ],
   "source": [
    "df_q8['Other'].count()"
   ]
  },
  {
   "cell_type": "markdown",
   "metadata": {},
   "source": [
    "This means I shouldn't drop the other column."
   ]
  },
  {
   "cell_type": "code",
   "execution_count": 32,
   "metadata": {},
   "outputs": [],
   "source": [
    "df_q8.columns = ['Windows', 'MacBook', 'Other']"
   ]
  },
  {
   "cell_type": "code",
   "execution_count": 33,
   "metadata": {},
   "outputs": [],
   "source": [
    "for col in df_q8.columns:\n",
    "    df_q8[col] = df_q8[col].replace({'1': col, '2': col})\n",
    "df_q8 = df_q8.replace('0', '').fillna('')"
   ]
  },
  {
   "cell_type": "code",
   "execution_count": 34,
   "metadata": {},
   "outputs": [],
   "source": [
    "df_q8 = pd.DataFrame(df_q8.iloc[:,0] + df_q8.iloc[:,1] + df_q8.iloc[:,2])"
   ]
  },
  {
   "cell_type": "code",
   "execution_count": 35,
   "metadata": {},
   "outputs": [],
   "source": [
    "df_q8.columns = ['Laptop']"
   ]
  },
  {
   "cell_type": "code",
   "execution_count": 36,
   "metadata": {},
   "outputs": [
    {
     "data": {
      "text/html": [
       "<div>\n",
       "<style scoped>\n",
       "    .dataframe tbody tr th:only-of-type {\n",
       "        vertical-align: middle;\n",
       "    }\n",
       "\n",
       "    .dataframe tbody tr th {\n",
       "        vertical-align: top;\n",
       "    }\n",
       "\n",
       "    .dataframe thead th {\n",
       "        text-align: right;\n",
       "    }\n",
       "</style>\n",
       "<table border=\"1\" class=\"dataframe\">\n",
       "  <thead>\n",
       "    <tr style=\"text-align: right;\">\n",
       "      <th></th>\n",
       "      <th>Laptop</th>\n",
       "    </tr>\n",
       "  </thead>\n",
       "  <tbody>\n",
       "    <tr>\n",
       "      <th>1</th>\n",
       "      <td>MacBook</td>\n",
       "    </tr>\n",
       "    <tr>\n",
       "      <th>2</th>\n",
       "      <td>MacBook</td>\n",
       "    </tr>\n",
       "    <tr>\n",
       "      <th>3</th>\n",
       "      <td>MacBook</td>\n",
       "    </tr>\n",
       "    <tr>\n",
       "      <th>4</th>\n",
       "      <td>Windows</td>\n",
       "    </tr>\n",
       "    <tr>\n",
       "      <th>5</th>\n",
       "      <td>MacBook</td>\n",
       "    </tr>\n",
       "  </tbody>\n",
       "</table>\n",
       "</div>"
      ],
      "text/plain": [
       "    Laptop\n",
       "1  MacBook\n",
       "2  MacBook\n",
       "3  MacBook\n",
       "4  Windows\n",
       "5  MacBook"
      ]
     },
     "execution_count": 36,
     "metadata": {},
     "output_type": "execute_result"
    }
   ],
   "source": [
    "df_q8.head()"
   ]
  },
  {
   "cell_type": "code",
   "execution_count": 37,
   "metadata": {},
   "outputs": [],
   "source": [
    "df_gen = pd.concat([df_gen, df_q8], axis=1)"
   ]
  },
  {
   "cell_type": "code",
   "execution_count": 38,
   "metadata": {},
   "outputs": [
    {
     "data": {
      "text/html": [
       "<div>\n",
       "<style scoped>\n",
       "    .dataframe tbody tr th:only-of-type {\n",
       "        vertical-align: middle;\n",
       "    }\n",
       "\n",
       "    .dataframe tbody tr th {\n",
       "        vertical-align: top;\n",
       "    }\n",
       "\n",
       "    .dataframe thead th {\n",
       "        text-align: right;\n",
       "    }\n",
       "</style>\n",
       "<table border=\"1\" class=\"dataframe\">\n",
       "  <thead>\n",
       "    <tr style=\"text-align: right;\">\n",
       "      <th></th>\n",
       "      <th>Time</th>\n",
       "      <th>Status</th>\n",
       "      <th>Duration (Seconds)</th>\n",
       "      <th>Access Code</th>\n",
       "      <th>Email Address</th>\n",
       "      <th>IP Address</th>\n",
       "      <th>Country</th>\n",
       "      <th>Region</th>\n",
       "      <th>City / Town / District</th>\n",
       "      <th>Latitude</th>\n",
       "      <th>Longitude</th>\n",
       "      <th>Section</th>\n",
       "      <th>Gender</th>\n",
       "      <th>Age</th>\n",
       "      <th>Height</th>\n",
       "      <th>Citizenship</th>\n",
       "      <th>Undergrad_Degree</th>\n",
       "      <th>GradYear</th>\n",
       "      <th>Laptop</th>\n",
       "    </tr>\n",
       "  </thead>\n",
       "  <tbody>\n",
       "    <tr>\n",
       "      <th>1</th>\n",
       "      <td>10/3/2023 17:49</td>\n",
       "      <td>Completed</td>\n",
       "      <td>11646</td>\n",
       "      <td>NaN</td>\n",
       "      <td>NaN</td>\n",
       "      <td>100.36.167.226</td>\n",
       "      <td>United States</td>\n",
       "      <td>Virginia</td>\n",
       "      <td>Fairfax</td>\n",
       "      <td>-77.2891</td>\n",
       "      <td>38.8209</td>\n",
       "      <td>4.0</td>\n",
       "      <td>F</td>\n",
       "      <td>23</td>\n",
       "      <td>63</td>\n",
       "      <td>Taiwan</td>\n",
       "      <td>economics</td>\n",
       "      <td>12/31/2021</td>\n",
       "      <td>MacBook</td>\n",
       "    </tr>\n",
       "    <tr>\n",
       "      <th>2</th>\n",
       "      <td>10/3/2023 17:49</td>\n",
       "      <td>Completed</td>\n",
       "      <td>113</td>\n",
       "      <td>NaN</td>\n",
       "      <td>NaN</td>\n",
       "      <td>98.169.26.134</td>\n",
       "      <td>United States</td>\n",
       "      <td>Virginia</td>\n",
       "      <td>Fairfax</td>\n",
       "      <td>-77.263</td>\n",
       "      <td>38.8605</td>\n",
       "      <td>2.0</td>\n",
       "      <td>F</td>\n",
       "      <td>24</td>\n",
       "      <td>59</td>\n",
       "      <td>India</td>\n",
       "      <td>Finance</td>\n",
       "      <td>5/1/2021</td>\n",
       "      <td>MacBook</td>\n",
       "    </tr>\n",
       "    <tr>\n",
       "      <th>3</th>\n",
       "      <td>10/3/2023 17:49</td>\n",
       "      <td>Completed</td>\n",
       "      <td>572</td>\n",
       "      <td>NaN</td>\n",
       "      <td>NaN</td>\n",
       "      <td>98.169.52.23</td>\n",
       "      <td>United States</td>\n",
       "      <td>Virginia</td>\n",
       "      <td>Greenway Downs</td>\n",
       "      <td>-77.2331</td>\n",
       "      <td>38.9645</td>\n",
       "      <td>2.0</td>\n",
       "      <td>M</td>\n",
       "      <td>40</td>\n",
       "      <td>70</td>\n",
       "      <td>India</td>\n",
       "      <td>Computer Applications</td>\n",
       "      <td>6/1/2022</td>\n",
       "      <td>MacBook</td>\n",
       "    </tr>\n",
       "    <tr>\n",
       "      <th>4</th>\n",
       "      <td>10/3/2023 17:50</td>\n",
       "      <td>Completed</td>\n",
       "      <td>365</td>\n",
       "      <td>NaN</td>\n",
       "      <td>NaN</td>\n",
       "      <td>69.255.182.253</td>\n",
       "      <td>United States</td>\n",
       "      <td>Virginia</td>\n",
       "      <td>Gainesville</td>\n",
       "      <td>-77.6308</td>\n",
       "      <td>38.8175</td>\n",
       "      <td>2.0</td>\n",
       "      <td>No</td>\n",
       "      <td>26</td>\n",
       "      <td>66</td>\n",
       "      <td>South Korea</td>\n",
       "      <td>Business Management</td>\n",
       "      <td>12/31/2021</td>\n",
       "      <td>Windows</td>\n",
       "    </tr>\n",
       "    <tr>\n",
       "      <th>5</th>\n",
       "      <td>10/3/2023 17:51</td>\n",
       "      <td>Completed</td>\n",
       "      <td>92</td>\n",
       "      <td>NaN</td>\n",
       "      <td>NaN</td>\n",
       "      <td>138.88.108.230</td>\n",
       "      <td>United States</td>\n",
       "      <td>NaN</td>\n",
       "      <td>NaN</td>\n",
       "      <td>-97.822</td>\n",
       "      <td>37.751</td>\n",
       "      <td>2.0</td>\n",
       "      <td>M</td>\n",
       "      <td>30</td>\n",
       "      <td>70</td>\n",
       "      <td>US</td>\n",
       "      <td>Yes</td>\n",
       "      <td>1/1/2021</td>\n",
       "      <td>MacBook</td>\n",
       "    </tr>\n",
       "  </tbody>\n",
       "</table>\n",
       "</div>"
      ],
      "text/plain": [
       "              Time     Status Duration (Seconds) Access Code Email Address  \\\n",
       "1  10/3/2023 17:49  Completed              11646         NaN           NaN   \n",
       "2  10/3/2023 17:49  Completed                113         NaN           NaN   \n",
       "3  10/3/2023 17:49  Completed                572         NaN           NaN   \n",
       "4  10/3/2023 17:50  Completed                365         NaN           NaN   \n",
       "5  10/3/2023 17:51  Completed                 92         NaN           NaN   \n",
       "\n",
       "       IP Address        Country    Region City / Town / District  Latitude  \\\n",
       "1  100.36.167.226  United States  Virginia                Fairfax  -77.2891   \n",
       "2   98.169.26.134  United States  Virginia                Fairfax   -77.263   \n",
       "3    98.169.52.23  United States  Virginia         Greenway Downs  -77.2331   \n",
       "4  69.255.182.253  United States  Virginia            Gainesville  -77.6308   \n",
       "5  138.88.108.230  United States       NaN                    NaN   -97.822   \n",
       "\n",
       "  Longitude Section Gender Age Height  Citizenship       Undergrad_Degree  \\\n",
       "1   38.8209     4.0      F  23     63       Taiwan              economics   \n",
       "2   38.8605     2.0      F  24     59        India               Finance    \n",
       "3   38.9645     2.0      M  40     70        India  Computer Applications   \n",
       "4   38.8175     2.0     No  26     66  South Korea    Business Management   \n",
       "5    37.751     2.0      M  30     70           US                    Yes   \n",
       "\n",
       "     GradYear   Laptop  \n",
       "1  12/31/2021  MacBook  \n",
       "2    5/1/2021  MacBook  \n",
       "3    6/1/2022  MacBook  \n",
       "4  12/31/2021  Windows  \n",
       "5    1/1/2021  MacBook  "
      ]
     },
     "execution_count": 38,
     "metadata": {},
     "output_type": "execute_result"
    }
   ],
   "source": [
    "df_gen.head()"
   ]
  },
  {
   "cell_type": "markdown",
   "metadata": {},
   "source": [
    "### For Q9"
   ]
  },
  {
   "cell_type": "code",
   "execution_count": 39,
   "metadata": {},
   "outputs": [],
   "source": [
    "df_q9 = data.iloc[:, [27, 28, 29]]"
   ]
  },
  {
   "cell_type": "code",
   "execution_count": 40,
   "metadata": {},
   "outputs": [],
   "source": [
    "df_q9.columns = df_q9.iloc[0].astype(str)\n",
    "df_q9 = df_q9[1:]  "
   ]
  },
  {
   "cell_type": "code",
   "execution_count": 41,
   "metadata": {},
   "outputs": [],
   "source": [
    "df_q9.columns = ['Full Time', 'Part Time', 'Not Working']"
   ]
  },
  {
   "cell_type": "code",
   "execution_count": 42,
   "metadata": {},
   "outputs": [],
   "source": [
    "df_q9 = df_q9.loc[:, 'Full Time':'Not Working'].replace('1', pd.Series(df_q9.columns, df_q9.columns)).fillna('')"
   ]
  },
  {
   "cell_type": "code",
   "execution_count": 43,
   "metadata": {},
   "outputs": [],
   "source": [
    "df_q9 = pd.DataFrame(df_q9.iloc[:,0] + df_q9.iloc[:,1] + df_q9.iloc[:,2])"
   ]
  },
  {
   "cell_type": "code",
   "execution_count": 44,
   "metadata": {},
   "outputs": [],
   "source": [
    "df_q9.columns = ['Employement']"
   ]
  },
  {
   "cell_type": "code",
   "execution_count": 45,
   "metadata": {},
   "outputs": [
    {
     "data": {
      "text/html": [
       "<div>\n",
       "<style scoped>\n",
       "    .dataframe tbody tr th:only-of-type {\n",
       "        vertical-align: middle;\n",
       "    }\n",
       "\n",
       "    .dataframe tbody tr th {\n",
       "        vertical-align: top;\n",
       "    }\n",
       "\n",
       "    .dataframe thead th {\n",
       "        text-align: right;\n",
       "    }\n",
       "</style>\n",
       "<table border=\"1\" class=\"dataframe\">\n",
       "  <thead>\n",
       "    <tr style=\"text-align: right;\">\n",
       "      <th></th>\n",
       "      <th>Employement</th>\n",
       "    </tr>\n",
       "  </thead>\n",
       "  <tbody>\n",
       "    <tr>\n",
       "      <th>1</th>\n",
       "      <td>Not Working</td>\n",
       "    </tr>\n",
       "    <tr>\n",
       "      <th>2</th>\n",
       "      <td>Part Time</td>\n",
       "    </tr>\n",
       "    <tr>\n",
       "      <th>3</th>\n",
       "      <td>Full Time</td>\n",
       "    </tr>\n",
       "    <tr>\n",
       "      <th>4</th>\n",
       "      <td>Not Working</td>\n",
       "    </tr>\n",
       "    <tr>\n",
       "      <th>5</th>\n",
       "      <td>Full Time</td>\n",
       "    </tr>\n",
       "  </tbody>\n",
       "</table>\n",
       "</div>"
      ],
      "text/plain": [
       "   Employement\n",
       "1  Not Working\n",
       "2    Part Time\n",
       "3    Full Time\n",
       "4  Not Working\n",
       "5    Full Time"
      ]
     },
     "execution_count": 45,
     "metadata": {},
     "output_type": "execute_result"
    }
   ],
   "source": [
    "df_q9.head()"
   ]
  },
  {
   "cell_type": "code",
   "execution_count": 46,
   "metadata": {},
   "outputs": [],
   "source": [
    "df_gen = pd.concat([df_gen, df_q9], axis=1)"
   ]
  },
  {
   "cell_type": "code",
   "execution_count": 47,
   "metadata": {},
   "outputs": [
    {
     "data": {
      "text/html": [
       "<div>\n",
       "<style scoped>\n",
       "    .dataframe tbody tr th:only-of-type {\n",
       "        vertical-align: middle;\n",
       "    }\n",
       "\n",
       "    .dataframe tbody tr th {\n",
       "        vertical-align: top;\n",
       "    }\n",
       "\n",
       "    .dataframe thead th {\n",
       "        text-align: right;\n",
       "    }\n",
       "</style>\n",
       "<table border=\"1\" class=\"dataframe\">\n",
       "  <thead>\n",
       "    <tr style=\"text-align: right;\">\n",
       "      <th></th>\n",
       "      <th>Time</th>\n",
       "      <th>Status</th>\n",
       "      <th>Duration (Seconds)</th>\n",
       "      <th>Access Code</th>\n",
       "      <th>Email Address</th>\n",
       "      <th>IP Address</th>\n",
       "      <th>Country</th>\n",
       "      <th>Region</th>\n",
       "      <th>City / Town / District</th>\n",
       "      <th>Latitude</th>\n",
       "      <th>Longitude</th>\n",
       "      <th>Section</th>\n",
       "      <th>Gender</th>\n",
       "      <th>Age</th>\n",
       "      <th>Height</th>\n",
       "      <th>Citizenship</th>\n",
       "      <th>Undergrad_Degree</th>\n",
       "      <th>GradYear</th>\n",
       "      <th>Laptop</th>\n",
       "      <th>Employement</th>\n",
       "    </tr>\n",
       "  </thead>\n",
       "  <tbody>\n",
       "    <tr>\n",
       "      <th>1</th>\n",
       "      <td>10/3/2023 17:49</td>\n",
       "      <td>Completed</td>\n",
       "      <td>11646</td>\n",
       "      <td>NaN</td>\n",
       "      <td>NaN</td>\n",
       "      <td>100.36.167.226</td>\n",
       "      <td>United States</td>\n",
       "      <td>Virginia</td>\n",
       "      <td>Fairfax</td>\n",
       "      <td>-77.2891</td>\n",
       "      <td>38.8209</td>\n",
       "      <td>4.0</td>\n",
       "      <td>F</td>\n",
       "      <td>23</td>\n",
       "      <td>63</td>\n",
       "      <td>Taiwan</td>\n",
       "      <td>economics</td>\n",
       "      <td>12/31/2021</td>\n",
       "      <td>MacBook</td>\n",
       "      <td>Not Working</td>\n",
       "    </tr>\n",
       "    <tr>\n",
       "      <th>2</th>\n",
       "      <td>10/3/2023 17:49</td>\n",
       "      <td>Completed</td>\n",
       "      <td>113</td>\n",
       "      <td>NaN</td>\n",
       "      <td>NaN</td>\n",
       "      <td>98.169.26.134</td>\n",
       "      <td>United States</td>\n",
       "      <td>Virginia</td>\n",
       "      <td>Fairfax</td>\n",
       "      <td>-77.263</td>\n",
       "      <td>38.8605</td>\n",
       "      <td>2.0</td>\n",
       "      <td>F</td>\n",
       "      <td>24</td>\n",
       "      <td>59</td>\n",
       "      <td>India</td>\n",
       "      <td>Finance</td>\n",
       "      <td>5/1/2021</td>\n",
       "      <td>MacBook</td>\n",
       "      <td>Part Time</td>\n",
       "    </tr>\n",
       "    <tr>\n",
       "      <th>3</th>\n",
       "      <td>10/3/2023 17:49</td>\n",
       "      <td>Completed</td>\n",
       "      <td>572</td>\n",
       "      <td>NaN</td>\n",
       "      <td>NaN</td>\n",
       "      <td>98.169.52.23</td>\n",
       "      <td>United States</td>\n",
       "      <td>Virginia</td>\n",
       "      <td>Greenway Downs</td>\n",
       "      <td>-77.2331</td>\n",
       "      <td>38.9645</td>\n",
       "      <td>2.0</td>\n",
       "      <td>M</td>\n",
       "      <td>40</td>\n",
       "      <td>70</td>\n",
       "      <td>India</td>\n",
       "      <td>Computer Applications</td>\n",
       "      <td>6/1/2022</td>\n",
       "      <td>MacBook</td>\n",
       "      <td>Full Time</td>\n",
       "    </tr>\n",
       "    <tr>\n",
       "      <th>4</th>\n",
       "      <td>10/3/2023 17:50</td>\n",
       "      <td>Completed</td>\n",
       "      <td>365</td>\n",
       "      <td>NaN</td>\n",
       "      <td>NaN</td>\n",
       "      <td>69.255.182.253</td>\n",
       "      <td>United States</td>\n",
       "      <td>Virginia</td>\n",
       "      <td>Gainesville</td>\n",
       "      <td>-77.6308</td>\n",
       "      <td>38.8175</td>\n",
       "      <td>2.0</td>\n",
       "      <td>No</td>\n",
       "      <td>26</td>\n",
       "      <td>66</td>\n",
       "      <td>South Korea</td>\n",
       "      <td>Business Management</td>\n",
       "      <td>12/31/2021</td>\n",
       "      <td>Windows</td>\n",
       "      <td>Not Working</td>\n",
       "    </tr>\n",
       "    <tr>\n",
       "      <th>5</th>\n",
       "      <td>10/3/2023 17:51</td>\n",
       "      <td>Completed</td>\n",
       "      <td>92</td>\n",
       "      <td>NaN</td>\n",
       "      <td>NaN</td>\n",
       "      <td>138.88.108.230</td>\n",
       "      <td>United States</td>\n",
       "      <td>NaN</td>\n",
       "      <td>NaN</td>\n",
       "      <td>-97.822</td>\n",
       "      <td>37.751</td>\n",
       "      <td>2.0</td>\n",
       "      <td>M</td>\n",
       "      <td>30</td>\n",
       "      <td>70</td>\n",
       "      <td>US</td>\n",
       "      <td>Yes</td>\n",
       "      <td>1/1/2021</td>\n",
       "      <td>MacBook</td>\n",
       "      <td>Full Time</td>\n",
       "    </tr>\n",
       "  </tbody>\n",
       "</table>\n",
       "</div>"
      ],
      "text/plain": [
       "              Time     Status Duration (Seconds) Access Code Email Address  \\\n",
       "1  10/3/2023 17:49  Completed              11646         NaN           NaN   \n",
       "2  10/3/2023 17:49  Completed                113         NaN           NaN   \n",
       "3  10/3/2023 17:49  Completed                572         NaN           NaN   \n",
       "4  10/3/2023 17:50  Completed                365         NaN           NaN   \n",
       "5  10/3/2023 17:51  Completed                 92         NaN           NaN   \n",
       "\n",
       "       IP Address        Country    Region City / Town / District  Latitude  \\\n",
       "1  100.36.167.226  United States  Virginia                Fairfax  -77.2891   \n",
       "2   98.169.26.134  United States  Virginia                Fairfax   -77.263   \n",
       "3    98.169.52.23  United States  Virginia         Greenway Downs  -77.2331   \n",
       "4  69.255.182.253  United States  Virginia            Gainesville  -77.6308   \n",
       "5  138.88.108.230  United States       NaN                    NaN   -97.822   \n",
       "\n",
       "  Longitude Section Gender Age Height  Citizenship       Undergrad_Degree  \\\n",
       "1   38.8209     4.0      F  23     63       Taiwan              economics   \n",
       "2   38.8605     2.0      F  24     59        India               Finance    \n",
       "3   38.9645     2.0      M  40     70        India  Computer Applications   \n",
       "4   38.8175     2.0     No  26     66  South Korea    Business Management   \n",
       "5    37.751     2.0      M  30     70           US                    Yes   \n",
       "\n",
       "     GradYear   Laptop  Employement  \n",
       "1  12/31/2021  MacBook  Not Working  \n",
       "2    5/1/2021  MacBook    Part Time  \n",
       "3    6/1/2022  MacBook    Full Time  \n",
       "4  12/31/2021  Windows  Not Working  \n",
       "5    1/1/2021  MacBook    Full Time  "
      ]
     },
     "execution_count": 47,
     "metadata": {},
     "output_type": "execute_result"
    }
   ],
   "source": [
    "df_gen.head()"
   ]
  },
  {
   "cell_type": "markdown",
   "metadata": {},
   "source": [
    "### For Q10"
   ]
  },
  {
   "cell_type": "code",
   "execution_count": 48,
   "metadata": {},
   "outputs": [],
   "source": [
    "df_q10 = data.iloc[:,[30, 31, 32, 33, 34]]"
   ]
  },
  {
   "cell_type": "code",
   "execution_count": 49,
   "metadata": {},
   "outputs": [],
   "source": [
    "df_q10.columns = df_q10.iloc[0].astype(str)\n",
    "df_q10 = df_q10[1:]  "
   ]
  },
  {
   "cell_type": "code",
   "execution_count": 50,
   "metadata": {},
   "outputs": [],
   "source": [
    "df_q10 = df_q10.loc[:, 'Little/none':'Fluent/expert'].replace('1', pd.Series(df_q10.columns, df_q10.columns)).fillna('')"
   ]
  },
  {
   "cell_type": "code",
   "execution_count": 51,
   "metadata": {},
   "outputs": [],
   "source": [
    "df_q10 = pd.DataFrame(df_q10.iloc[:,0] + df_q10.iloc[:,1] + df_q10.iloc[:,2] + df_q10.iloc[:,3] + df_q10.iloc[:,4])"
   ]
  },
  {
   "cell_type": "markdown",
   "metadata": {},
   "source": [
    "Instead of keeping the text for the skill level, I wil convert it into 1 - 5"
   ]
  },
  {
   "cell_type": "code",
   "execution_count": 52,
   "metadata": {},
   "outputs": [],
   "source": [
    "df_q10.iloc[:, 0] = df_q10.iloc[:, 0].replace('Little/none', 1)\n",
    "df_q10.iloc[:, 0] = df_q10.iloc[:, 0].replace('Some familiarity', 2)\n",
    "df_q10.iloc[:, 0] = df_q10.iloc[:, 0].replace('Average user', 3)\n",
    "df_q10.iloc[:, 0] = df_q10.iloc[:, 0].replace('Frequent use for projects', 4)\n",
    "df_q10.iloc[:, 0] = df_q10.iloc[:, 0].replace('Fluent/expert', 5)"
   ]
  },
  {
   "cell_type": "code",
   "execution_count": 53,
   "metadata": {},
   "outputs": [],
   "source": [
    "df_q10.columns = ['Python Skills']"
   ]
  },
  {
   "cell_type": "code",
   "execution_count": 54,
   "metadata": {},
   "outputs": [
    {
     "data": {
      "text/html": [
       "<div>\n",
       "<style scoped>\n",
       "    .dataframe tbody tr th:only-of-type {\n",
       "        vertical-align: middle;\n",
       "    }\n",
       "\n",
       "    .dataframe tbody tr th {\n",
       "        vertical-align: top;\n",
       "    }\n",
       "\n",
       "    .dataframe thead th {\n",
       "        text-align: right;\n",
       "    }\n",
       "</style>\n",
       "<table border=\"1\" class=\"dataframe\">\n",
       "  <thead>\n",
       "    <tr style=\"text-align: right;\">\n",
       "      <th></th>\n",
       "      <th>Python Skills</th>\n",
       "    </tr>\n",
       "  </thead>\n",
       "  <tbody>\n",
       "    <tr>\n",
       "      <th>1</th>\n",
       "      <td>2</td>\n",
       "    </tr>\n",
       "    <tr>\n",
       "      <th>2</th>\n",
       "      <td>3</td>\n",
       "    </tr>\n",
       "    <tr>\n",
       "      <th>3</th>\n",
       "      <td>2</td>\n",
       "    </tr>\n",
       "    <tr>\n",
       "      <th>4</th>\n",
       "      <td>3</td>\n",
       "    </tr>\n",
       "    <tr>\n",
       "      <th>5</th>\n",
       "      <td>2</td>\n",
       "    </tr>\n",
       "  </tbody>\n",
       "</table>\n",
       "</div>"
      ],
      "text/plain": [
       "  Python Skills\n",
       "1             2\n",
       "2             3\n",
       "3             2\n",
       "4             3\n",
       "5             2"
      ]
     },
     "execution_count": 54,
     "metadata": {},
     "output_type": "execute_result"
    }
   ],
   "source": [
    "df_q10.head()"
   ]
  },
  {
   "cell_type": "code",
   "execution_count": 55,
   "metadata": {},
   "outputs": [],
   "source": [
    "df_gen = pd.concat([df_gen, df_q10], axis=1)"
   ]
  },
  {
   "cell_type": "code",
   "execution_count": 56,
   "metadata": {},
   "outputs": [
    {
     "data": {
      "text/html": [
       "<div>\n",
       "<style scoped>\n",
       "    .dataframe tbody tr th:only-of-type {\n",
       "        vertical-align: middle;\n",
       "    }\n",
       "\n",
       "    .dataframe tbody tr th {\n",
       "        vertical-align: top;\n",
       "    }\n",
       "\n",
       "    .dataframe thead th {\n",
       "        text-align: right;\n",
       "    }\n",
       "</style>\n",
       "<table border=\"1\" class=\"dataframe\">\n",
       "  <thead>\n",
       "    <tr style=\"text-align: right;\">\n",
       "      <th></th>\n",
       "      <th>Time</th>\n",
       "      <th>Status</th>\n",
       "      <th>Duration (Seconds)</th>\n",
       "      <th>Access Code</th>\n",
       "      <th>Email Address</th>\n",
       "      <th>IP Address</th>\n",
       "      <th>Country</th>\n",
       "      <th>Region</th>\n",
       "      <th>City / Town / District</th>\n",
       "      <th>Latitude</th>\n",
       "      <th>...</th>\n",
       "      <th>Section</th>\n",
       "      <th>Gender</th>\n",
       "      <th>Age</th>\n",
       "      <th>Height</th>\n",
       "      <th>Citizenship</th>\n",
       "      <th>Undergrad_Degree</th>\n",
       "      <th>GradYear</th>\n",
       "      <th>Laptop</th>\n",
       "      <th>Employement</th>\n",
       "      <th>Python Skills</th>\n",
       "    </tr>\n",
       "  </thead>\n",
       "  <tbody>\n",
       "    <tr>\n",
       "      <th>1</th>\n",
       "      <td>10/3/2023 17:49</td>\n",
       "      <td>Completed</td>\n",
       "      <td>11646</td>\n",
       "      <td>NaN</td>\n",
       "      <td>NaN</td>\n",
       "      <td>100.36.167.226</td>\n",
       "      <td>United States</td>\n",
       "      <td>Virginia</td>\n",
       "      <td>Fairfax</td>\n",
       "      <td>-77.2891</td>\n",
       "      <td>...</td>\n",
       "      <td>4.0</td>\n",
       "      <td>F</td>\n",
       "      <td>23</td>\n",
       "      <td>63</td>\n",
       "      <td>Taiwan</td>\n",
       "      <td>economics</td>\n",
       "      <td>12/31/2021</td>\n",
       "      <td>MacBook</td>\n",
       "      <td>Not Working</td>\n",
       "      <td>2</td>\n",
       "    </tr>\n",
       "    <tr>\n",
       "      <th>2</th>\n",
       "      <td>10/3/2023 17:49</td>\n",
       "      <td>Completed</td>\n",
       "      <td>113</td>\n",
       "      <td>NaN</td>\n",
       "      <td>NaN</td>\n",
       "      <td>98.169.26.134</td>\n",
       "      <td>United States</td>\n",
       "      <td>Virginia</td>\n",
       "      <td>Fairfax</td>\n",
       "      <td>-77.263</td>\n",
       "      <td>...</td>\n",
       "      <td>2.0</td>\n",
       "      <td>F</td>\n",
       "      <td>24</td>\n",
       "      <td>59</td>\n",
       "      <td>India</td>\n",
       "      <td>Finance</td>\n",
       "      <td>5/1/2021</td>\n",
       "      <td>MacBook</td>\n",
       "      <td>Part Time</td>\n",
       "      <td>3</td>\n",
       "    </tr>\n",
       "    <tr>\n",
       "      <th>3</th>\n",
       "      <td>10/3/2023 17:49</td>\n",
       "      <td>Completed</td>\n",
       "      <td>572</td>\n",
       "      <td>NaN</td>\n",
       "      <td>NaN</td>\n",
       "      <td>98.169.52.23</td>\n",
       "      <td>United States</td>\n",
       "      <td>Virginia</td>\n",
       "      <td>Greenway Downs</td>\n",
       "      <td>-77.2331</td>\n",
       "      <td>...</td>\n",
       "      <td>2.0</td>\n",
       "      <td>M</td>\n",
       "      <td>40</td>\n",
       "      <td>70</td>\n",
       "      <td>India</td>\n",
       "      <td>Computer Applications</td>\n",
       "      <td>6/1/2022</td>\n",
       "      <td>MacBook</td>\n",
       "      <td>Full Time</td>\n",
       "      <td>2</td>\n",
       "    </tr>\n",
       "    <tr>\n",
       "      <th>4</th>\n",
       "      <td>10/3/2023 17:50</td>\n",
       "      <td>Completed</td>\n",
       "      <td>365</td>\n",
       "      <td>NaN</td>\n",
       "      <td>NaN</td>\n",
       "      <td>69.255.182.253</td>\n",
       "      <td>United States</td>\n",
       "      <td>Virginia</td>\n",
       "      <td>Gainesville</td>\n",
       "      <td>-77.6308</td>\n",
       "      <td>...</td>\n",
       "      <td>2.0</td>\n",
       "      <td>No</td>\n",
       "      <td>26</td>\n",
       "      <td>66</td>\n",
       "      <td>South Korea</td>\n",
       "      <td>Business Management</td>\n",
       "      <td>12/31/2021</td>\n",
       "      <td>Windows</td>\n",
       "      <td>Not Working</td>\n",
       "      <td>3</td>\n",
       "    </tr>\n",
       "    <tr>\n",
       "      <th>5</th>\n",
       "      <td>10/3/2023 17:51</td>\n",
       "      <td>Completed</td>\n",
       "      <td>92</td>\n",
       "      <td>NaN</td>\n",
       "      <td>NaN</td>\n",
       "      <td>138.88.108.230</td>\n",
       "      <td>United States</td>\n",
       "      <td>NaN</td>\n",
       "      <td>NaN</td>\n",
       "      <td>-97.822</td>\n",
       "      <td>...</td>\n",
       "      <td>2.0</td>\n",
       "      <td>M</td>\n",
       "      <td>30</td>\n",
       "      <td>70</td>\n",
       "      <td>US</td>\n",
       "      <td>Yes</td>\n",
       "      <td>1/1/2021</td>\n",
       "      <td>MacBook</td>\n",
       "      <td>Full Time</td>\n",
       "      <td>2</td>\n",
       "    </tr>\n",
       "  </tbody>\n",
       "</table>\n",
       "<p>5 rows × 21 columns</p>\n",
       "</div>"
      ],
      "text/plain": [
       "              Time     Status Duration (Seconds) Access Code Email Address  \\\n",
       "1  10/3/2023 17:49  Completed              11646         NaN           NaN   \n",
       "2  10/3/2023 17:49  Completed                113         NaN           NaN   \n",
       "3  10/3/2023 17:49  Completed                572         NaN           NaN   \n",
       "4  10/3/2023 17:50  Completed                365         NaN           NaN   \n",
       "5  10/3/2023 17:51  Completed                 92         NaN           NaN   \n",
       "\n",
       "       IP Address        Country    Region City / Town / District  Latitude  \\\n",
       "1  100.36.167.226  United States  Virginia                Fairfax  -77.2891   \n",
       "2   98.169.26.134  United States  Virginia                Fairfax   -77.263   \n",
       "3    98.169.52.23  United States  Virginia         Greenway Downs  -77.2331   \n",
       "4  69.255.182.253  United States  Virginia            Gainesville  -77.6308   \n",
       "5  138.88.108.230  United States       NaN                    NaN   -97.822   \n",
       "\n",
       "   ... Section Gender Age Height  Citizenship       Undergrad_Degree  \\\n",
       "1  ...     4.0      F  23     63       Taiwan              economics   \n",
       "2  ...     2.0      F  24     59        India               Finance    \n",
       "3  ...     2.0      M  40     70        India  Computer Applications   \n",
       "4  ...     2.0     No  26     66  South Korea    Business Management   \n",
       "5  ...     2.0      M  30     70           US                    Yes   \n",
       "\n",
       "     GradYear   Laptop  Employement Python Skills  \n",
       "1  12/31/2021  MacBook  Not Working             2  \n",
       "2    5/1/2021  MacBook    Part Time             3  \n",
       "3    6/1/2022  MacBook    Full Time             2  \n",
       "4  12/31/2021  Windows  Not Working             3  \n",
       "5    1/1/2021  MacBook    Full Time             2  \n",
       "\n",
       "[5 rows x 21 columns]"
      ]
     },
     "execution_count": 56,
     "metadata": {},
     "output_type": "execute_result"
    }
   ],
   "source": [
    "df_gen.head()"
   ]
  },
  {
   "cell_type": "markdown",
   "metadata": {},
   "source": [
    "### For Q11"
   ]
  },
  {
   "cell_type": "code",
   "execution_count": 57,
   "metadata": {},
   "outputs": [],
   "source": [
    "df_q11 = data.iloc[:,[35, 36, 37, 38, 39]]"
   ]
  },
  {
   "cell_type": "code",
   "execution_count": 58,
   "metadata": {},
   "outputs": [
    {
     "data": {
      "text/html": [
       "<div>\n",
       "<style scoped>\n",
       "    .dataframe tbody tr th:only-of-type {\n",
       "        vertical-align: middle;\n",
       "    }\n",
       "\n",
       "    .dataframe tbody tr th {\n",
       "        vertical-align: top;\n",
       "    }\n",
       "\n",
       "    .dataframe thead th {\n",
       "        text-align: right;\n",
       "    }\n",
       "</style>\n",
       "<table border=\"1\" class=\"dataframe\">\n",
       "  <thead>\n",
       "    <tr style=\"text-align: right;\">\n",
       "      <th></th>\n",
       "      <th>Q11</th>\n",
       "      <th>Q11.1</th>\n",
       "      <th>Q11.2</th>\n",
       "      <th>Q11.3</th>\n",
       "      <th>Q11.4</th>\n",
       "    </tr>\n",
       "  </thead>\n",
       "  <tbody>\n",
       "    <tr>\n",
       "      <th>0</th>\n",
       "      <td>Little/none</td>\n",
       "      <td>Some familiarity</td>\n",
       "      <td>Average user</td>\n",
       "      <td>Frequent use for projects</td>\n",
       "      <td>Fluent/expert</td>\n",
       "    </tr>\n",
       "    <tr>\n",
       "      <th>1</th>\n",
       "      <td>1</td>\n",
       "      <td>NaN</td>\n",
       "      <td>NaN</td>\n",
       "      <td>NaN</td>\n",
       "      <td>NaN</td>\n",
       "    </tr>\n",
       "    <tr>\n",
       "      <th>2</th>\n",
       "      <td>NaN</td>\n",
       "      <td>NaN</td>\n",
       "      <td>1</td>\n",
       "      <td>NaN</td>\n",
       "      <td>NaN</td>\n",
       "    </tr>\n",
       "    <tr>\n",
       "      <th>3</th>\n",
       "      <td>1</td>\n",
       "      <td>NaN</td>\n",
       "      <td>NaN</td>\n",
       "      <td>NaN</td>\n",
       "      <td>NaN</td>\n",
       "    </tr>\n",
       "    <tr>\n",
       "      <th>4</th>\n",
       "      <td>NaN</td>\n",
       "      <td>NaN</td>\n",
       "      <td>NaN</td>\n",
       "      <td>1</td>\n",
       "      <td>NaN</td>\n",
       "    </tr>\n",
       "  </tbody>\n",
       "</table>\n",
       "</div>"
      ],
      "text/plain": [
       "           Q11             Q11.1         Q11.2                      Q11.3  \\\n",
       "0  Little/none  Some familiarity  Average user  Frequent use for projects   \n",
       "1            1               NaN           NaN                        NaN   \n",
       "2          NaN               NaN             1                        NaN   \n",
       "3            1               NaN           NaN                        NaN   \n",
       "4          NaN               NaN           NaN                          1   \n",
       "\n",
       "           Q11.4  \n",
       "0  Fluent/expert  \n",
       "1            NaN  \n",
       "2            NaN  \n",
       "3            NaN  \n",
       "4            NaN  "
      ]
     },
     "execution_count": 58,
     "metadata": {},
     "output_type": "execute_result"
    }
   ],
   "source": [
    "df_q11.head()"
   ]
  },
  {
   "cell_type": "code",
   "execution_count": 59,
   "metadata": {},
   "outputs": [],
   "source": [
    "df_q11.columns = df_q11.iloc[0].astype(str)\n",
    "df_q11 = df_q11[1:]  "
   ]
  },
  {
   "cell_type": "code",
   "execution_count": 60,
   "metadata": {},
   "outputs": [],
   "source": [
    "df_q11 = df_q11.loc[:, 'Little/none':'Fluent/expert'].replace('1', pd.Series(df_q11.columns, df_q11.columns)).fillna('')"
   ]
  },
  {
   "cell_type": "code",
   "execution_count": 61,
   "metadata": {},
   "outputs": [
    {
     "data": {
      "text/html": [
       "<div>\n",
       "<style scoped>\n",
       "    .dataframe tbody tr th:only-of-type {\n",
       "        vertical-align: middle;\n",
       "    }\n",
       "\n",
       "    .dataframe tbody tr th {\n",
       "        vertical-align: top;\n",
       "    }\n",
       "\n",
       "    .dataframe thead th {\n",
       "        text-align: right;\n",
       "    }\n",
       "</style>\n",
       "<table border=\"1\" class=\"dataframe\">\n",
       "  <thead>\n",
       "    <tr style=\"text-align: right;\">\n",
       "      <th></th>\n",
       "      <th>Little/none</th>\n",
       "      <th>Some familiarity</th>\n",
       "      <th>Average user</th>\n",
       "      <th>Frequent use for projects</th>\n",
       "      <th>Fluent/expert</th>\n",
       "    </tr>\n",
       "  </thead>\n",
       "  <tbody>\n",
       "    <tr>\n",
       "      <th>1</th>\n",
       "      <td>Little/none</td>\n",
       "      <td></td>\n",
       "      <td></td>\n",
       "      <td></td>\n",
       "      <td></td>\n",
       "    </tr>\n",
       "    <tr>\n",
       "      <th>2</th>\n",
       "      <td></td>\n",
       "      <td></td>\n",
       "      <td>Average user</td>\n",
       "      <td></td>\n",
       "      <td></td>\n",
       "    </tr>\n",
       "    <tr>\n",
       "      <th>3</th>\n",
       "      <td>Little/none</td>\n",
       "      <td></td>\n",
       "      <td></td>\n",
       "      <td></td>\n",
       "      <td></td>\n",
       "    </tr>\n",
       "    <tr>\n",
       "      <th>4</th>\n",
       "      <td></td>\n",
       "      <td></td>\n",
       "      <td></td>\n",
       "      <td>Frequent use for projects</td>\n",
       "      <td></td>\n",
       "    </tr>\n",
       "    <tr>\n",
       "      <th>5</th>\n",
       "      <td></td>\n",
       "      <td>Some familiarity</td>\n",
       "      <td></td>\n",
       "      <td></td>\n",
       "      <td></td>\n",
       "    </tr>\n",
       "  </tbody>\n",
       "</table>\n",
       "</div>"
      ],
      "text/plain": [
       "0  Little/none  Some familiarity  Average user  Frequent use for projects  \\\n",
       "1  Little/none                                                              \n",
       "2                                 Average user                              \n",
       "3  Little/none                                                              \n",
       "4                                               Frequent use for projects   \n",
       "5               Some familiarity                                            \n",
       "\n",
       "0 Fluent/expert  \n",
       "1                \n",
       "2                \n",
       "3                \n",
       "4                \n",
       "5                "
      ]
     },
     "execution_count": 61,
     "metadata": {},
     "output_type": "execute_result"
    }
   ],
   "source": [
    "df_q11.head()"
   ]
  },
  {
   "cell_type": "code",
   "execution_count": 62,
   "metadata": {},
   "outputs": [],
   "source": [
    "df_q11 = pd.DataFrame(df_q11.iloc[:,0] + df_q11.iloc[:,1] + df_q11.iloc[:,2] + df_q11.iloc[:,3] + df_q11.iloc[:,4])"
   ]
  },
  {
   "cell_type": "code",
   "execution_count": 63,
   "metadata": {},
   "outputs": [],
   "source": [
    "df_q11.iloc[:, 0] = df_q11.iloc[:, 0].replace('Little/none', 1)\n",
    "df_q11.iloc[:, 0] = df_q11.iloc[:, 0].replace('Some familiarity', 2)\n",
    "df_q11.iloc[:, 0] = df_q11.iloc[:, 0].replace('Average user', 3)\n",
    "df_q11.iloc[:, 0] = df_q11.iloc[:, 0].replace('Frequent use for projects', 4)\n",
    "df_q11.iloc[:, 0] = df_q11.iloc[:, 0].replace('Fluent/expert', 5)"
   ]
  },
  {
   "cell_type": "code",
   "execution_count": 64,
   "metadata": {},
   "outputs": [],
   "source": [
    "df_q11.columns = ['R Skills']"
   ]
  },
  {
   "cell_type": "code",
   "execution_count": 65,
   "metadata": {},
   "outputs": [
    {
     "data": {
      "text/html": [
       "<div>\n",
       "<style scoped>\n",
       "    .dataframe tbody tr th:only-of-type {\n",
       "        vertical-align: middle;\n",
       "    }\n",
       "\n",
       "    .dataframe tbody tr th {\n",
       "        vertical-align: top;\n",
       "    }\n",
       "\n",
       "    .dataframe thead th {\n",
       "        text-align: right;\n",
       "    }\n",
       "</style>\n",
       "<table border=\"1\" class=\"dataframe\">\n",
       "  <thead>\n",
       "    <tr style=\"text-align: right;\">\n",
       "      <th></th>\n",
       "      <th>R Skills</th>\n",
       "    </tr>\n",
       "  </thead>\n",
       "  <tbody>\n",
       "    <tr>\n",
       "      <th>1</th>\n",
       "      <td>1</td>\n",
       "    </tr>\n",
       "    <tr>\n",
       "      <th>2</th>\n",
       "      <td>3</td>\n",
       "    </tr>\n",
       "    <tr>\n",
       "      <th>3</th>\n",
       "      <td>1</td>\n",
       "    </tr>\n",
       "    <tr>\n",
       "      <th>4</th>\n",
       "      <td>4</td>\n",
       "    </tr>\n",
       "    <tr>\n",
       "      <th>5</th>\n",
       "      <td>2</td>\n",
       "    </tr>\n",
       "  </tbody>\n",
       "</table>\n",
       "</div>"
      ],
      "text/plain": [
       "  R Skills\n",
       "1        1\n",
       "2        3\n",
       "3        1\n",
       "4        4\n",
       "5        2"
      ]
     },
     "execution_count": 65,
     "metadata": {},
     "output_type": "execute_result"
    }
   ],
   "source": [
    "df_q11.head()"
   ]
  },
  {
   "cell_type": "code",
   "execution_count": 66,
   "metadata": {},
   "outputs": [],
   "source": [
    "df_gen = pd.concat([df_gen, df_q11], axis=1)"
   ]
  },
  {
   "cell_type": "code",
   "execution_count": 67,
   "metadata": {},
   "outputs": [
    {
     "data": {
      "text/html": [
       "<div>\n",
       "<style scoped>\n",
       "    .dataframe tbody tr th:only-of-type {\n",
       "        vertical-align: middle;\n",
       "    }\n",
       "\n",
       "    .dataframe tbody tr th {\n",
       "        vertical-align: top;\n",
       "    }\n",
       "\n",
       "    .dataframe thead th {\n",
       "        text-align: right;\n",
       "    }\n",
       "</style>\n",
       "<table border=\"1\" class=\"dataframe\">\n",
       "  <thead>\n",
       "    <tr style=\"text-align: right;\">\n",
       "      <th></th>\n",
       "      <th>Time</th>\n",
       "      <th>Status</th>\n",
       "      <th>Duration (Seconds)</th>\n",
       "      <th>Access Code</th>\n",
       "      <th>Email Address</th>\n",
       "      <th>IP Address</th>\n",
       "      <th>Country</th>\n",
       "      <th>Region</th>\n",
       "      <th>City / Town / District</th>\n",
       "      <th>Latitude</th>\n",
       "      <th>...</th>\n",
       "      <th>Gender</th>\n",
       "      <th>Age</th>\n",
       "      <th>Height</th>\n",
       "      <th>Citizenship</th>\n",
       "      <th>Undergrad_Degree</th>\n",
       "      <th>GradYear</th>\n",
       "      <th>Laptop</th>\n",
       "      <th>Employement</th>\n",
       "      <th>Python Skills</th>\n",
       "      <th>R Skills</th>\n",
       "    </tr>\n",
       "  </thead>\n",
       "  <tbody>\n",
       "    <tr>\n",
       "      <th>1</th>\n",
       "      <td>10/3/2023 17:49</td>\n",
       "      <td>Completed</td>\n",
       "      <td>11646</td>\n",
       "      <td>NaN</td>\n",
       "      <td>NaN</td>\n",
       "      <td>100.36.167.226</td>\n",
       "      <td>United States</td>\n",
       "      <td>Virginia</td>\n",
       "      <td>Fairfax</td>\n",
       "      <td>-77.2891</td>\n",
       "      <td>...</td>\n",
       "      <td>F</td>\n",
       "      <td>23</td>\n",
       "      <td>63</td>\n",
       "      <td>Taiwan</td>\n",
       "      <td>economics</td>\n",
       "      <td>12/31/2021</td>\n",
       "      <td>MacBook</td>\n",
       "      <td>Not Working</td>\n",
       "      <td>2</td>\n",
       "      <td>1</td>\n",
       "    </tr>\n",
       "    <tr>\n",
       "      <th>2</th>\n",
       "      <td>10/3/2023 17:49</td>\n",
       "      <td>Completed</td>\n",
       "      <td>113</td>\n",
       "      <td>NaN</td>\n",
       "      <td>NaN</td>\n",
       "      <td>98.169.26.134</td>\n",
       "      <td>United States</td>\n",
       "      <td>Virginia</td>\n",
       "      <td>Fairfax</td>\n",
       "      <td>-77.263</td>\n",
       "      <td>...</td>\n",
       "      <td>F</td>\n",
       "      <td>24</td>\n",
       "      <td>59</td>\n",
       "      <td>India</td>\n",
       "      <td>Finance</td>\n",
       "      <td>5/1/2021</td>\n",
       "      <td>MacBook</td>\n",
       "      <td>Part Time</td>\n",
       "      <td>3</td>\n",
       "      <td>3</td>\n",
       "    </tr>\n",
       "    <tr>\n",
       "      <th>3</th>\n",
       "      <td>10/3/2023 17:49</td>\n",
       "      <td>Completed</td>\n",
       "      <td>572</td>\n",
       "      <td>NaN</td>\n",
       "      <td>NaN</td>\n",
       "      <td>98.169.52.23</td>\n",
       "      <td>United States</td>\n",
       "      <td>Virginia</td>\n",
       "      <td>Greenway Downs</td>\n",
       "      <td>-77.2331</td>\n",
       "      <td>...</td>\n",
       "      <td>M</td>\n",
       "      <td>40</td>\n",
       "      <td>70</td>\n",
       "      <td>India</td>\n",
       "      <td>Computer Applications</td>\n",
       "      <td>6/1/2022</td>\n",
       "      <td>MacBook</td>\n",
       "      <td>Full Time</td>\n",
       "      <td>2</td>\n",
       "      <td>1</td>\n",
       "    </tr>\n",
       "    <tr>\n",
       "      <th>4</th>\n",
       "      <td>10/3/2023 17:50</td>\n",
       "      <td>Completed</td>\n",
       "      <td>365</td>\n",
       "      <td>NaN</td>\n",
       "      <td>NaN</td>\n",
       "      <td>69.255.182.253</td>\n",
       "      <td>United States</td>\n",
       "      <td>Virginia</td>\n",
       "      <td>Gainesville</td>\n",
       "      <td>-77.6308</td>\n",
       "      <td>...</td>\n",
       "      <td>No</td>\n",
       "      <td>26</td>\n",
       "      <td>66</td>\n",
       "      <td>South Korea</td>\n",
       "      <td>Business Management</td>\n",
       "      <td>12/31/2021</td>\n",
       "      <td>Windows</td>\n",
       "      <td>Not Working</td>\n",
       "      <td>3</td>\n",
       "      <td>4</td>\n",
       "    </tr>\n",
       "    <tr>\n",
       "      <th>5</th>\n",
       "      <td>10/3/2023 17:51</td>\n",
       "      <td>Completed</td>\n",
       "      <td>92</td>\n",
       "      <td>NaN</td>\n",
       "      <td>NaN</td>\n",
       "      <td>138.88.108.230</td>\n",
       "      <td>United States</td>\n",
       "      <td>NaN</td>\n",
       "      <td>NaN</td>\n",
       "      <td>-97.822</td>\n",
       "      <td>...</td>\n",
       "      <td>M</td>\n",
       "      <td>30</td>\n",
       "      <td>70</td>\n",
       "      <td>US</td>\n",
       "      <td>Yes</td>\n",
       "      <td>1/1/2021</td>\n",
       "      <td>MacBook</td>\n",
       "      <td>Full Time</td>\n",
       "      <td>2</td>\n",
       "      <td>2</td>\n",
       "    </tr>\n",
       "  </tbody>\n",
       "</table>\n",
       "<p>5 rows × 22 columns</p>\n",
       "</div>"
      ],
      "text/plain": [
       "              Time     Status Duration (Seconds) Access Code Email Address  \\\n",
       "1  10/3/2023 17:49  Completed              11646         NaN           NaN   \n",
       "2  10/3/2023 17:49  Completed                113         NaN           NaN   \n",
       "3  10/3/2023 17:49  Completed                572         NaN           NaN   \n",
       "4  10/3/2023 17:50  Completed                365         NaN           NaN   \n",
       "5  10/3/2023 17:51  Completed                 92         NaN           NaN   \n",
       "\n",
       "       IP Address        Country    Region City / Town / District  Latitude  \\\n",
       "1  100.36.167.226  United States  Virginia                Fairfax  -77.2891   \n",
       "2   98.169.26.134  United States  Virginia                Fairfax   -77.263   \n",
       "3    98.169.52.23  United States  Virginia         Greenway Downs  -77.2331   \n",
       "4  69.255.182.253  United States  Virginia            Gainesville  -77.6308   \n",
       "5  138.88.108.230  United States       NaN                    NaN   -97.822   \n",
       "\n",
       "   ... Gender Age Height  Citizenship       Undergrad_Degree    GradYear  \\\n",
       "1  ...      F  23     63       Taiwan              economics  12/31/2021   \n",
       "2  ...      F  24     59        India               Finance     5/1/2021   \n",
       "3  ...      M  40     70        India  Computer Applications    6/1/2022   \n",
       "4  ...     No  26     66  South Korea    Business Management  12/31/2021   \n",
       "5  ...      M  30     70           US                    Yes    1/1/2021   \n",
       "\n",
       "    Laptop  Employement Python Skills R Skills  \n",
       "1  MacBook  Not Working             2        1  \n",
       "2  MacBook    Part Time             3        3  \n",
       "3  MacBook    Full Time             2        1  \n",
       "4  Windows  Not Working             3        4  \n",
       "5  MacBook    Full Time             2        2  \n",
       "\n",
       "[5 rows x 22 columns]"
      ]
     },
     "execution_count": 67,
     "metadata": {},
     "output_type": "execute_result"
    }
   ],
   "source": [
    "df_gen.head()"
   ]
  },
  {
   "cell_type": "markdown",
   "metadata": {},
   "source": [
    "### For Q12"
   ]
  },
  {
   "cell_type": "code",
   "execution_count": 68,
   "metadata": {},
   "outputs": [],
   "source": [
    "df_q12 = data.iloc[:, [40, 41, 42, 43, 44]]"
   ]
  },
  {
   "cell_type": "code",
   "execution_count": 69,
   "metadata": {},
   "outputs": [],
   "source": [
    "df_q12.columns = df_q12.iloc[0].astype(str)\n",
    "df_q12 = df_q12[1:]"
   ]
  },
  {
   "cell_type": "code",
   "execution_count": 70,
   "metadata": {},
   "outputs": [],
   "source": [
    "df_q12 = df_q12.loc[:, 'Little/none':'Fluent/expert'].replace('1', pd.Series(df_q12.columns, df_q12.columns)).fillna('')"
   ]
  },
  {
   "cell_type": "code",
   "execution_count": 71,
   "metadata": {},
   "outputs": [],
   "source": [
    "df_q12 = pd.DataFrame(df_q12.iloc[:,0] + df_q12.iloc[:,1] + df_q12.iloc[:,2] + df_q12.iloc[:,3] + df_q12.iloc[:,4])"
   ]
  },
  {
   "cell_type": "code",
   "execution_count": 72,
   "metadata": {},
   "outputs": [],
   "source": [
    "df_q12.columns = ['SQL Skills']"
   ]
  },
  {
   "cell_type": "code",
   "execution_count": 73,
   "metadata": {},
   "outputs": [],
   "source": [
    "df_q12.iloc[:, 0] = df_q12.iloc[:, 0].replace('Little/none', 1)\n",
    "df_q12.iloc[:, 0] = df_q12.iloc[:, 0].replace('Some familiarity', 2)\n",
    "df_q12.iloc[:, 0] = df_q12.iloc[:, 0].replace('Average user', 3)\n",
    "df_q12.iloc[:, 0] = df_q12.iloc[:, 0].replace('Frequent use for projects', 4)\n",
    "df_q12.iloc[:, 0] = df_q12.iloc[:, 0].replace('Fluent/expert', 5)"
   ]
  },
  {
   "cell_type": "code",
   "execution_count": 74,
   "metadata": {},
   "outputs": [
    {
     "data": {
      "text/html": [
       "<div>\n",
       "<style scoped>\n",
       "    .dataframe tbody tr th:only-of-type {\n",
       "        vertical-align: middle;\n",
       "    }\n",
       "\n",
       "    .dataframe tbody tr th {\n",
       "        vertical-align: top;\n",
       "    }\n",
       "\n",
       "    .dataframe thead th {\n",
       "        text-align: right;\n",
       "    }\n",
       "</style>\n",
       "<table border=\"1\" class=\"dataframe\">\n",
       "  <thead>\n",
       "    <tr style=\"text-align: right;\">\n",
       "      <th></th>\n",
       "      <th>SQL Skills</th>\n",
       "    </tr>\n",
       "  </thead>\n",
       "  <tbody>\n",
       "    <tr>\n",
       "      <th>1</th>\n",
       "      <td>2</td>\n",
       "    </tr>\n",
       "    <tr>\n",
       "      <th>2</th>\n",
       "      <td>1</td>\n",
       "    </tr>\n",
       "    <tr>\n",
       "      <th>3</th>\n",
       "      <td>3</td>\n",
       "    </tr>\n",
       "    <tr>\n",
       "      <th>4</th>\n",
       "      <td>2</td>\n",
       "    </tr>\n",
       "    <tr>\n",
       "      <th>5</th>\n",
       "      <td>3</td>\n",
       "    </tr>\n",
       "  </tbody>\n",
       "</table>\n",
       "</div>"
      ],
      "text/plain": [
       "  SQL Skills\n",
       "1          2\n",
       "2          1\n",
       "3          3\n",
       "4          2\n",
       "5          3"
      ]
     },
     "execution_count": 74,
     "metadata": {},
     "output_type": "execute_result"
    }
   ],
   "source": [
    "df_q12.head()"
   ]
  },
  {
   "cell_type": "code",
   "execution_count": 75,
   "metadata": {},
   "outputs": [],
   "source": [
    "df_gen = pd.concat([df_gen, df_q12], axis=1)"
   ]
  },
  {
   "cell_type": "code",
   "execution_count": 76,
   "metadata": {},
   "outputs": [
    {
     "data": {
      "text/html": [
       "<div>\n",
       "<style scoped>\n",
       "    .dataframe tbody tr th:only-of-type {\n",
       "        vertical-align: middle;\n",
       "    }\n",
       "\n",
       "    .dataframe tbody tr th {\n",
       "        vertical-align: top;\n",
       "    }\n",
       "\n",
       "    .dataframe thead th {\n",
       "        text-align: right;\n",
       "    }\n",
       "</style>\n",
       "<table border=\"1\" class=\"dataframe\">\n",
       "  <thead>\n",
       "    <tr style=\"text-align: right;\">\n",
       "      <th></th>\n",
       "      <th>Time</th>\n",
       "      <th>Status</th>\n",
       "      <th>Duration (Seconds)</th>\n",
       "      <th>Access Code</th>\n",
       "      <th>Email Address</th>\n",
       "      <th>IP Address</th>\n",
       "      <th>Country</th>\n",
       "      <th>Region</th>\n",
       "      <th>City / Town / District</th>\n",
       "      <th>Latitude</th>\n",
       "      <th>...</th>\n",
       "      <th>Age</th>\n",
       "      <th>Height</th>\n",
       "      <th>Citizenship</th>\n",
       "      <th>Undergrad_Degree</th>\n",
       "      <th>GradYear</th>\n",
       "      <th>Laptop</th>\n",
       "      <th>Employement</th>\n",
       "      <th>Python Skills</th>\n",
       "      <th>R Skills</th>\n",
       "      <th>SQL Skills</th>\n",
       "    </tr>\n",
       "  </thead>\n",
       "  <tbody>\n",
       "    <tr>\n",
       "      <th>1</th>\n",
       "      <td>10/3/2023 17:49</td>\n",
       "      <td>Completed</td>\n",
       "      <td>11646</td>\n",
       "      <td>NaN</td>\n",
       "      <td>NaN</td>\n",
       "      <td>100.36.167.226</td>\n",
       "      <td>United States</td>\n",
       "      <td>Virginia</td>\n",
       "      <td>Fairfax</td>\n",
       "      <td>-77.2891</td>\n",
       "      <td>...</td>\n",
       "      <td>23</td>\n",
       "      <td>63</td>\n",
       "      <td>Taiwan</td>\n",
       "      <td>economics</td>\n",
       "      <td>12/31/2021</td>\n",
       "      <td>MacBook</td>\n",
       "      <td>Not Working</td>\n",
       "      <td>2</td>\n",
       "      <td>1</td>\n",
       "      <td>2</td>\n",
       "    </tr>\n",
       "    <tr>\n",
       "      <th>2</th>\n",
       "      <td>10/3/2023 17:49</td>\n",
       "      <td>Completed</td>\n",
       "      <td>113</td>\n",
       "      <td>NaN</td>\n",
       "      <td>NaN</td>\n",
       "      <td>98.169.26.134</td>\n",
       "      <td>United States</td>\n",
       "      <td>Virginia</td>\n",
       "      <td>Fairfax</td>\n",
       "      <td>-77.263</td>\n",
       "      <td>...</td>\n",
       "      <td>24</td>\n",
       "      <td>59</td>\n",
       "      <td>India</td>\n",
       "      <td>Finance</td>\n",
       "      <td>5/1/2021</td>\n",
       "      <td>MacBook</td>\n",
       "      <td>Part Time</td>\n",
       "      <td>3</td>\n",
       "      <td>3</td>\n",
       "      <td>1</td>\n",
       "    </tr>\n",
       "    <tr>\n",
       "      <th>3</th>\n",
       "      <td>10/3/2023 17:49</td>\n",
       "      <td>Completed</td>\n",
       "      <td>572</td>\n",
       "      <td>NaN</td>\n",
       "      <td>NaN</td>\n",
       "      <td>98.169.52.23</td>\n",
       "      <td>United States</td>\n",
       "      <td>Virginia</td>\n",
       "      <td>Greenway Downs</td>\n",
       "      <td>-77.2331</td>\n",
       "      <td>...</td>\n",
       "      <td>40</td>\n",
       "      <td>70</td>\n",
       "      <td>India</td>\n",
       "      <td>Computer Applications</td>\n",
       "      <td>6/1/2022</td>\n",
       "      <td>MacBook</td>\n",
       "      <td>Full Time</td>\n",
       "      <td>2</td>\n",
       "      <td>1</td>\n",
       "      <td>3</td>\n",
       "    </tr>\n",
       "    <tr>\n",
       "      <th>4</th>\n",
       "      <td>10/3/2023 17:50</td>\n",
       "      <td>Completed</td>\n",
       "      <td>365</td>\n",
       "      <td>NaN</td>\n",
       "      <td>NaN</td>\n",
       "      <td>69.255.182.253</td>\n",
       "      <td>United States</td>\n",
       "      <td>Virginia</td>\n",
       "      <td>Gainesville</td>\n",
       "      <td>-77.6308</td>\n",
       "      <td>...</td>\n",
       "      <td>26</td>\n",
       "      <td>66</td>\n",
       "      <td>South Korea</td>\n",
       "      <td>Business Management</td>\n",
       "      <td>12/31/2021</td>\n",
       "      <td>Windows</td>\n",
       "      <td>Not Working</td>\n",
       "      <td>3</td>\n",
       "      <td>4</td>\n",
       "      <td>2</td>\n",
       "    </tr>\n",
       "    <tr>\n",
       "      <th>5</th>\n",
       "      <td>10/3/2023 17:51</td>\n",
       "      <td>Completed</td>\n",
       "      <td>92</td>\n",
       "      <td>NaN</td>\n",
       "      <td>NaN</td>\n",
       "      <td>138.88.108.230</td>\n",
       "      <td>United States</td>\n",
       "      <td>NaN</td>\n",
       "      <td>NaN</td>\n",
       "      <td>-97.822</td>\n",
       "      <td>...</td>\n",
       "      <td>30</td>\n",
       "      <td>70</td>\n",
       "      <td>US</td>\n",
       "      <td>Yes</td>\n",
       "      <td>1/1/2021</td>\n",
       "      <td>MacBook</td>\n",
       "      <td>Full Time</td>\n",
       "      <td>2</td>\n",
       "      <td>2</td>\n",
       "      <td>3</td>\n",
       "    </tr>\n",
       "  </tbody>\n",
       "</table>\n",
       "<p>5 rows × 23 columns</p>\n",
       "</div>"
      ],
      "text/plain": [
       "              Time     Status Duration (Seconds) Access Code Email Address  \\\n",
       "1  10/3/2023 17:49  Completed              11646         NaN           NaN   \n",
       "2  10/3/2023 17:49  Completed                113         NaN           NaN   \n",
       "3  10/3/2023 17:49  Completed                572         NaN           NaN   \n",
       "4  10/3/2023 17:50  Completed                365         NaN           NaN   \n",
       "5  10/3/2023 17:51  Completed                 92         NaN           NaN   \n",
       "\n",
       "       IP Address        Country    Region City / Town / District  Latitude  \\\n",
       "1  100.36.167.226  United States  Virginia                Fairfax  -77.2891   \n",
       "2   98.169.26.134  United States  Virginia                Fairfax   -77.263   \n",
       "3    98.169.52.23  United States  Virginia         Greenway Downs  -77.2331   \n",
       "4  69.255.182.253  United States  Virginia            Gainesville  -77.6308   \n",
       "5  138.88.108.230  United States       NaN                    NaN   -97.822   \n",
       "\n",
       "   ... Age Height  Citizenship       Undergrad_Degree    GradYear   Laptop  \\\n",
       "1  ...  23     63       Taiwan              economics  12/31/2021  MacBook   \n",
       "2  ...  24     59        India               Finance     5/1/2021  MacBook   \n",
       "3  ...  40     70        India  Computer Applications    6/1/2022  MacBook   \n",
       "4  ...  26     66  South Korea    Business Management  12/31/2021  Windows   \n",
       "5  ...  30     70           US                    Yes    1/1/2021  MacBook   \n",
       "\n",
       "   Employement Python Skills R Skills SQL Skills  \n",
       "1  Not Working             2        1          2  \n",
       "2    Part Time             3        3          1  \n",
       "3    Full Time             2        1          3  \n",
       "4  Not Working             3        4          2  \n",
       "5    Full Time             2        2          3  \n",
       "\n",
       "[5 rows x 23 columns]"
      ]
     },
     "execution_count": 76,
     "metadata": {},
     "output_type": "execute_result"
    }
   ],
   "source": [
    "df_gen.head()"
   ]
  },
  {
   "cell_type": "markdown",
   "metadata": {},
   "source": [
    "### For Q13"
   ]
  },
  {
   "cell_type": "code",
   "execution_count": 77,
   "metadata": {},
   "outputs": [],
   "source": [
    "df_q13 = data.iloc[:, [45, 46]]"
   ]
  },
  {
   "cell_type": "code",
   "execution_count": 78,
   "metadata": {},
   "outputs": [],
   "source": [
    "df_q13.columns = df_q13.iloc[0].astype(str)\n",
    "df_q13 = df_q13[1:]"
   ]
  },
  {
   "cell_type": "code",
   "execution_count": 79,
   "metadata": {},
   "outputs": [],
   "source": [
    "df_q13 = df_q13.loc[:, 'Yes':'No'].replace('1', pd.Series(df_q13.columns, df_q13.columns)).fillna('')"
   ]
  },
  {
   "cell_type": "code",
   "execution_count": 80,
   "metadata": {},
   "outputs": [],
   "source": [
    "df_q13 = pd.DataFrame(df_q13.iloc[:,0] + df_q13.iloc[:,1])"
   ]
  },
  {
   "cell_type": "markdown",
   "metadata": {},
   "source": [
    "Instead of using strings, it would be better to use 1s and 0s to make further analysis easy."
   ]
  },
  {
   "cell_type": "code",
   "execution_count": 81,
   "metadata": {},
   "outputs": [],
   "source": [
    "df_q13.iloc[:, 0] = df_q13.iloc[:, 0].replace('Yes', 1)\n",
    "df_q13.iloc[:, 0] = df_q13.iloc[:, 0].replace('No', 0)"
   ]
  },
  {
   "cell_type": "code",
   "execution_count": 82,
   "metadata": {},
   "outputs": [],
   "source": [
    "df_q13.columns = ['GitHub']"
   ]
  },
  {
   "cell_type": "code",
   "execution_count": 83,
   "metadata": {},
   "outputs": [
    {
     "data": {
      "text/html": [
       "<div>\n",
       "<style scoped>\n",
       "    .dataframe tbody tr th:only-of-type {\n",
       "        vertical-align: middle;\n",
       "    }\n",
       "\n",
       "    .dataframe tbody tr th {\n",
       "        vertical-align: top;\n",
       "    }\n",
       "\n",
       "    .dataframe thead th {\n",
       "        text-align: right;\n",
       "    }\n",
       "</style>\n",
       "<table border=\"1\" class=\"dataframe\">\n",
       "  <thead>\n",
       "    <tr style=\"text-align: right;\">\n",
       "      <th></th>\n",
       "      <th>GitHub</th>\n",
       "    </tr>\n",
       "  </thead>\n",
       "  <tbody>\n",
       "    <tr>\n",
       "      <th>1</th>\n",
       "      <td>1</td>\n",
       "    </tr>\n",
       "    <tr>\n",
       "      <th>2</th>\n",
       "      <td>1</td>\n",
       "    </tr>\n",
       "    <tr>\n",
       "      <th>3</th>\n",
       "      <td>0</td>\n",
       "    </tr>\n",
       "    <tr>\n",
       "      <th>4</th>\n",
       "      <td>0</td>\n",
       "    </tr>\n",
       "    <tr>\n",
       "      <th>5</th>\n",
       "      <td>0</td>\n",
       "    </tr>\n",
       "  </tbody>\n",
       "</table>\n",
       "</div>"
      ],
      "text/plain": [
       "  GitHub\n",
       "1      1\n",
       "2      1\n",
       "3      0\n",
       "4      0\n",
       "5      0"
      ]
     },
     "execution_count": 83,
     "metadata": {},
     "output_type": "execute_result"
    }
   ],
   "source": [
    "df_q13.head()"
   ]
  },
  {
   "cell_type": "code",
   "execution_count": 84,
   "metadata": {},
   "outputs": [],
   "source": [
    "df_gen = pd.concat([df_gen, df_q13], axis=1)"
   ]
  },
  {
   "cell_type": "code",
   "execution_count": 85,
   "metadata": {},
   "outputs": [
    {
     "data": {
      "text/html": [
       "<div>\n",
       "<style scoped>\n",
       "    .dataframe tbody tr th:only-of-type {\n",
       "        vertical-align: middle;\n",
       "    }\n",
       "\n",
       "    .dataframe tbody tr th {\n",
       "        vertical-align: top;\n",
       "    }\n",
       "\n",
       "    .dataframe thead th {\n",
       "        text-align: right;\n",
       "    }\n",
       "</style>\n",
       "<table border=\"1\" class=\"dataframe\">\n",
       "  <thead>\n",
       "    <tr style=\"text-align: right;\">\n",
       "      <th></th>\n",
       "      <th>Time</th>\n",
       "      <th>Status</th>\n",
       "      <th>Duration (Seconds)</th>\n",
       "      <th>Access Code</th>\n",
       "      <th>Email Address</th>\n",
       "      <th>IP Address</th>\n",
       "      <th>Country</th>\n",
       "      <th>Region</th>\n",
       "      <th>City / Town / District</th>\n",
       "      <th>Latitude</th>\n",
       "      <th>...</th>\n",
       "      <th>Height</th>\n",
       "      <th>Citizenship</th>\n",
       "      <th>Undergrad_Degree</th>\n",
       "      <th>GradYear</th>\n",
       "      <th>Laptop</th>\n",
       "      <th>Employement</th>\n",
       "      <th>Python Skills</th>\n",
       "      <th>R Skills</th>\n",
       "      <th>SQL Skills</th>\n",
       "      <th>GitHub</th>\n",
       "    </tr>\n",
       "  </thead>\n",
       "  <tbody>\n",
       "    <tr>\n",
       "      <th>1</th>\n",
       "      <td>10/3/2023 17:49</td>\n",
       "      <td>Completed</td>\n",
       "      <td>11646</td>\n",
       "      <td>NaN</td>\n",
       "      <td>NaN</td>\n",
       "      <td>100.36.167.226</td>\n",
       "      <td>United States</td>\n",
       "      <td>Virginia</td>\n",
       "      <td>Fairfax</td>\n",
       "      <td>-77.2891</td>\n",
       "      <td>...</td>\n",
       "      <td>63</td>\n",
       "      <td>Taiwan</td>\n",
       "      <td>economics</td>\n",
       "      <td>12/31/2021</td>\n",
       "      <td>MacBook</td>\n",
       "      <td>Not Working</td>\n",
       "      <td>2</td>\n",
       "      <td>1</td>\n",
       "      <td>2</td>\n",
       "      <td>1</td>\n",
       "    </tr>\n",
       "    <tr>\n",
       "      <th>2</th>\n",
       "      <td>10/3/2023 17:49</td>\n",
       "      <td>Completed</td>\n",
       "      <td>113</td>\n",
       "      <td>NaN</td>\n",
       "      <td>NaN</td>\n",
       "      <td>98.169.26.134</td>\n",
       "      <td>United States</td>\n",
       "      <td>Virginia</td>\n",
       "      <td>Fairfax</td>\n",
       "      <td>-77.263</td>\n",
       "      <td>...</td>\n",
       "      <td>59</td>\n",
       "      <td>India</td>\n",
       "      <td>Finance</td>\n",
       "      <td>5/1/2021</td>\n",
       "      <td>MacBook</td>\n",
       "      <td>Part Time</td>\n",
       "      <td>3</td>\n",
       "      <td>3</td>\n",
       "      <td>1</td>\n",
       "      <td>1</td>\n",
       "    </tr>\n",
       "    <tr>\n",
       "      <th>3</th>\n",
       "      <td>10/3/2023 17:49</td>\n",
       "      <td>Completed</td>\n",
       "      <td>572</td>\n",
       "      <td>NaN</td>\n",
       "      <td>NaN</td>\n",
       "      <td>98.169.52.23</td>\n",
       "      <td>United States</td>\n",
       "      <td>Virginia</td>\n",
       "      <td>Greenway Downs</td>\n",
       "      <td>-77.2331</td>\n",
       "      <td>...</td>\n",
       "      <td>70</td>\n",
       "      <td>India</td>\n",
       "      <td>Computer Applications</td>\n",
       "      <td>6/1/2022</td>\n",
       "      <td>MacBook</td>\n",
       "      <td>Full Time</td>\n",
       "      <td>2</td>\n",
       "      <td>1</td>\n",
       "      <td>3</td>\n",
       "      <td>0</td>\n",
       "    </tr>\n",
       "    <tr>\n",
       "      <th>4</th>\n",
       "      <td>10/3/2023 17:50</td>\n",
       "      <td>Completed</td>\n",
       "      <td>365</td>\n",
       "      <td>NaN</td>\n",
       "      <td>NaN</td>\n",
       "      <td>69.255.182.253</td>\n",
       "      <td>United States</td>\n",
       "      <td>Virginia</td>\n",
       "      <td>Gainesville</td>\n",
       "      <td>-77.6308</td>\n",
       "      <td>...</td>\n",
       "      <td>66</td>\n",
       "      <td>South Korea</td>\n",
       "      <td>Business Management</td>\n",
       "      <td>12/31/2021</td>\n",
       "      <td>Windows</td>\n",
       "      <td>Not Working</td>\n",
       "      <td>3</td>\n",
       "      <td>4</td>\n",
       "      <td>2</td>\n",
       "      <td>0</td>\n",
       "    </tr>\n",
       "    <tr>\n",
       "      <th>5</th>\n",
       "      <td>10/3/2023 17:51</td>\n",
       "      <td>Completed</td>\n",
       "      <td>92</td>\n",
       "      <td>NaN</td>\n",
       "      <td>NaN</td>\n",
       "      <td>138.88.108.230</td>\n",
       "      <td>United States</td>\n",
       "      <td>NaN</td>\n",
       "      <td>NaN</td>\n",
       "      <td>-97.822</td>\n",
       "      <td>...</td>\n",
       "      <td>70</td>\n",
       "      <td>US</td>\n",
       "      <td>Yes</td>\n",
       "      <td>1/1/2021</td>\n",
       "      <td>MacBook</td>\n",
       "      <td>Full Time</td>\n",
       "      <td>2</td>\n",
       "      <td>2</td>\n",
       "      <td>3</td>\n",
       "      <td>0</td>\n",
       "    </tr>\n",
       "  </tbody>\n",
       "</table>\n",
       "<p>5 rows × 24 columns</p>\n",
       "</div>"
      ],
      "text/plain": [
       "              Time     Status Duration (Seconds) Access Code Email Address  \\\n",
       "1  10/3/2023 17:49  Completed              11646         NaN           NaN   \n",
       "2  10/3/2023 17:49  Completed                113         NaN           NaN   \n",
       "3  10/3/2023 17:49  Completed                572         NaN           NaN   \n",
       "4  10/3/2023 17:50  Completed                365         NaN           NaN   \n",
       "5  10/3/2023 17:51  Completed                 92         NaN           NaN   \n",
       "\n",
       "       IP Address        Country    Region City / Town / District  Latitude  \\\n",
       "1  100.36.167.226  United States  Virginia                Fairfax  -77.2891   \n",
       "2   98.169.26.134  United States  Virginia                Fairfax   -77.263   \n",
       "3    98.169.52.23  United States  Virginia         Greenway Downs  -77.2331   \n",
       "4  69.255.182.253  United States  Virginia            Gainesville  -77.6308   \n",
       "5  138.88.108.230  United States       NaN                    NaN   -97.822   \n",
       "\n",
       "   ... Height  Citizenship       Undergrad_Degree    GradYear   Laptop  \\\n",
       "1  ...     63       Taiwan              economics  12/31/2021  MacBook   \n",
       "2  ...     59        India               Finance     5/1/2021  MacBook   \n",
       "3  ...     70        India  Computer Applications    6/1/2022  MacBook   \n",
       "4  ...     66  South Korea    Business Management  12/31/2021  Windows   \n",
       "5  ...     70           US                    Yes    1/1/2021  MacBook   \n",
       "\n",
       "   Employement Python Skills R Skills SQL Skills GitHub  \n",
       "1  Not Working             2        1          2      1  \n",
       "2    Part Time             3        3          1      1  \n",
       "3    Full Time             2        1          3      0  \n",
       "4  Not Working             3        4          2      0  \n",
       "5    Full Time             2        2          3      0  \n",
       "\n",
       "[5 rows x 24 columns]"
      ]
     },
     "execution_count": 85,
     "metadata": {},
     "output_type": "execute_result"
    }
   ],
   "source": [
    "df_gen.head()"
   ]
  },
  {
   "cell_type": "markdown",
   "metadata": {},
   "source": [
    "### For Q14"
   ]
  },
  {
   "cell_type": "code",
   "execution_count": 86,
   "metadata": {},
   "outputs": [],
   "source": [
    "df_q14 = data.iloc[:, [47, 48, 49]]"
   ]
  },
  {
   "cell_type": "code",
   "execution_count": 87,
   "metadata": {},
   "outputs": [],
   "source": [
    "df_q14.columns = df_q14.iloc[0].astype(str)\n",
    "df_q14 = df_q14[1:]"
   ]
  },
  {
   "cell_type": "code",
   "execution_count": 88,
   "metadata": {},
   "outputs": [],
   "source": [
    "df_q14 = df_q14.loc[:, 'Yes':'Not sure'].replace('1', pd.Series(df_q14.columns, df_q14.columns)).fillna('')"
   ]
  },
  {
   "cell_type": "code",
   "execution_count": 89,
   "metadata": {},
   "outputs": [],
   "source": [
    "df_q14 = pd.DataFrame(df_q14.iloc[:, 0] + df_q14.iloc[:, 1] + df_q14.iloc[:, 2])"
   ]
  },
  {
   "cell_type": "code",
   "execution_count": 90,
   "metadata": {},
   "outputs": [],
   "source": [
    "df_q14.columns = ['Career in DS']"
   ]
  },
  {
   "cell_type": "code",
   "execution_count": 91,
   "metadata": {},
   "outputs": [
    {
     "data": {
      "text/html": [
       "<div>\n",
       "<style scoped>\n",
       "    .dataframe tbody tr th:only-of-type {\n",
       "        vertical-align: middle;\n",
       "    }\n",
       "\n",
       "    .dataframe tbody tr th {\n",
       "        vertical-align: top;\n",
       "    }\n",
       "\n",
       "    .dataframe thead th {\n",
       "        text-align: right;\n",
       "    }\n",
       "</style>\n",
       "<table border=\"1\" class=\"dataframe\">\n",
       "  <thead>\n",
       "    <tr style=\"text-align: right;\">\n",
       "      <th></th>\n",
       "      <th>Career in DS</th>\n",
       "    </tr>\n",
       "  </thead>\n",
       "  <tbody>\n",
       "    <tr>\n",
       "      <th>1</th>\n",
       "      <td>Yes</td>\n",
       "    </tr>\n",
       "    <tr>\n",
       "      <th>2</th>\n",
       "      <td>No</td>\n",
       "    </tr>\n",
       "    <tr>\n",
       "      <th>3</th>\n",
       "      <td>Not sure</td>\n",
       "    </tr>\n",
       "    <tr>\n",
       "      <th>4</th>\n",
       "      <td>Yes</td>\n",
       "    </tr>\n",
       "    <tr>\n",
       "      <th>5</th>\n",
       "      <td>Yes</td>\n",
       "    </tr>\n",
       "  </tbody>\n",
       "</table>\n",
       "</div>"
      ],
      "text/plain": [
       "  Career in DS\n",
       "1          Yes\n",
       "2           No\n",
       "3     Not sure\n",
       "4          Yes\n",
       "5          Yes"
      ]
     },
     "execution_count": 91,
     "metadata": {},
     "output_type": "execute_result"
    }
   ],
   "source": [
    "df_q14.head()"
   ]
  },
  {
   "cell_type": "code",
   "execution_count": 92,
   "metadata": {},
   "outputs": [],
   "source": [
    "df_gen = pd.concat([df_gen, df_q14], axis=1)"
   ]
  },
  {
   "cell_type": "code",
   "execution_count": 93,
   "metadata": {},
   "outputs": [
    {
     "data": {
      "text/html": [
       "<div>\n",
       "<style scoped>\n",
       "    .dataframe tbody tr th:only-of-type {\n",
       "        vertical-align: middle;\n",
       "    }\n",
       "\n",
       "    .dataframe tbody tr th {\n",
       "        vertical-align: top;\n",
       "    }\n",
       "\n",
       "    .dataframe thead th {\n",
       "        text-align: right;\n",
       "    }\n",
       "</style>\n",
       "<table border=\"1\" class=\"dataframe\">\n",
       "  <thead>\n",
       "    <tr style=\"text-align: right;\">\n",
       "      <th></th>\n",
       "      <th>Time</th>\n",
       "      <th>Status</th>\n",
       "      <th>Duration (Seconds)</th>\n",
       "      <th>Access Code</th>\n",
       "      <th>Email Address</th>\n",
       "      <th>IP Address</th>\n",
       "      <th>Country</th>\n",
       "      <th>Region</th>\n",
       "      <th>City / Town / District</th>\n",
       "      <th>Latitude</th>\n",
       "      <th>...</th>\n",
       "      <th>Citizenship</th>\n",
       "      <th>Undergrad_Degree</th>\n",
       "      <th>GradYear</th>\n",
       "      <th>Laptop</th>\n",
       "      <th>Employement</th>\n",
       "      <th>Python Skills</th>\n",
       "      <th>R Skills</th>\n",
       "      <th>SQL Skills</th>\n",
       "      <th>GitHub</th>\n",
       "      <th>Career in DS</th>\n",
       "    </tr>\n",
       "  </thead>\n",
       "  <tbody>\n",
       "    <tr>\n",
       "      <th>1</th>\n",
       "      <td>10/3/2023 17:49</td>\n",
       "      <td>Completed</td>\n",
       "      <td>11646</td>\n",
       "      <td>NaN</td>\n",
       "      <td>NaN</td>\n",
       "      <td>100.36.167.226</td>\n",
       "      <td>United States</td>\n",
       "      <td>Virginia</td>\n",
       "      <td>Fairfax</td>\n",
       "      <td>-77.2891</td>\n",
       "      <td>...</td>\n",
       "      <td>Taiwan</td>\n",
       "      <td>economics</td>\n",
       "      <td>12/31/2021</td>\n",
       "      <td>MacBook</td>\n",
       "      <td>Not Working</td>\n",
       "      <td>2</td>\n",
       "      <td>1</td>\n",
       "      <td>2</td>\n",
       "      <td>1</td>\n",
       "      <td>Yes</td>\n",
       "    </tr>\n",
       "    <tr>\n",
       "      <th>2</th>\n",
       "      <td>10/3/2023 17:49</td>\n",
       "      <td>Completed</td>\n",
       "      <td>113</td>\n",
       "      <td>NaN</td>\n",
       "      <td>NaN</td>\n",
       "      <td>98.169.26.134</td>\n",
       "      <td>United States</td>\n",
       "      <td>Virginia</td>\n",
       "      <td>Fairfax</td>\n",
       "      <td>-77.263</td>\n",
       "      <td>...</td>\n",
       "      <td>India</td>\n",
       "      <td>Finance</td>\n",
       "      <td>5/1/2021</td>\n",
       "      <td>MacBook</td>\n",
       "      <td>Part Time</td>\n",
       "      <td>3</td>\n",
       "      <td>3</td>\n",
       "      <td>1</td>\n",
       "      <td>1</td>\n",
       "      <td>No</td>\n",
       "    </tr>\n",
       "    <tr>\n",
       "      <th>3</th>\n",
       "      <td>10/3/2023 17:49</td>\n",
       "      <td>Completed</td>\n",
       "      <td>572</td>\n",
       "      <td>NaN</td>\n",
       "      <td>NaN</td>\n",
       "      <td>98.169.52.23</td>\n",
       "      <td>United States</td>\n",
       "      <td>Virginia</td>\n",
       "      <td>Greenway Downs</td>\n",
       "      <td>-77.2331</td>\n",
       "      <td>...</td>\n",
       "      <td>India</td>\n",
       "      <td>Computer Applications</td>\n",
       "      <td>6/1/2022</td>\n",
       "      <td>MacBook</td>\n",
       "      <td>Full Time</td>\n",
       "      <td>2</td>\n",
       "      <td>1</td>\n",
       "      <td>3</td>\n",
       "      <td>0</td>\n",
       "      <td>Not sure</td>\n",
       "    </tr>\n",
       "    <tr>\n",
       "      <th>4</th>\n",
       "      <td>10/3/2023 17:50</td>\n",
       "      <td>Completed</td>\n",
       "      <td>365</td>\n",
       "      <td>NaN</td>\n",
       "      <td>NaN</td>\n",
       "      <td>69.255.182.253</td>\n",
       "      <td>United States</td>\n",
       "      <td>Virginia</td>\n",
       "      <td>Gainesville</td>\n",
       "      <td>-77.6308</td>\n",
       "      <td>...</td>\n",
       "      <td>South Korea</td>\n",
       "      <td>Business Management</td>\n",
       "      <td>12/31/2021</td>\n",
       "      <td>Windows</td>\n",
       "      <td>Not Working</td>\n",
       "      <td>3</td>\n",
       "      <td>4</td>\n",
       "      <td>2</td>\n",
       "      <td>0</td>\n",
       "      <td>Yes</td>\n",
       "    </tr>\n",
       "    <tr>\n",
       "      <th>5</th>\n",
       "      <td>10/3/2023 17:51</td>\n",
       "      <td>Completed</td>\n",
       "      <td>92</td>\n",
       "      <td>NaN</td>\n",
       "      <td>NaN</td>\n",
       "      <td>138.88.108.230</td>\n",
       "      <td>United States</td>\n",
       "      <td>NaN</td>\n",
       "      <td>NaN</td>\n",
       "      <td>-97.822</td>\n",
       "      <td>...</td>\n",
       "      <td>US</td>\n",
       "      <td>Yes</td>\n",
       "      <td>1/1/2021</td>\n",
       "      <td>MacBook</td>\n",
       "      <td>Full Time</td>\n",
       "      <td>2</td>\n",
       "      <td>2</td>\n",
       "      <td>3</td>\n",
       "      <td>0</td>\n",
       "      <td>Yes</td>\n",
       "    </tr>\n",
       "  </tbody>\n",
       "</table>\n",
       "<p>5 rows × 25 columns</p>\n",
       "</div>"
      ],
      "text/plain": [
       "              Time     Status Duration (Seconds) Access Code Email Address  \\\n",
       "1  10/3/2023 17:49  Completed              11646         NaN           NaN   \n",
       "2  10/3/2023 17:49  Completed                113         NaN           NaN   \n",
       "3  10/3/2023 17:49  Completed                572         NaN           NaN   \n",
       "4  10/3/2023 17:50  Completed                365         NaN           NaN   \n",
       "5  10/3/2023 17:51  Completed                 92         NaN           NaN   \n",
       "\n",
       "       IP Address        Country    Region City / Town / District  Latitude  \\\n",
       "1  100.36.167.226  United States  Virginia                Fairfax  -77.2891   \n",
       "2   98.169.26.134  United States  Virginia                Fairfax   -77.263   \n",
       "3    98.169.52.23  United States  Virginia         Greenway Downs  -77.2331   \n",
       "4  69.255.182.253  United States  Virginia            Gainesville  -77.6308   \n",
       "5  138.88.108.230  United States       NaN                    NaN   -97.822   \n",
       "\n",
       "   ...  Citizenship       Undergrad_Degree    GradYear   Laptop  Employement  \\\n",
       "1  ...       Taiwan              economics  12/31/2021  MacBook  Not Working   \n",
       "2  ...        India               Finance     5/1/2021  MacBook    Part Time   \n",
       "3  ...        India  Computer Applications    6/1/2022  MacBook    Full Time   \n",
       "4  ...  South Korea    Business Management  12/31/2021  Windows  Not Working   \n",
       "5  ...           US                    Yes    1/1/2021  MacBook    Full Time   \n",
       "\n",
       "  Python Skills R Skills SQL Skills GitHub Career in DS  \n",
       "1             2        1          2      1          Yes  \n",
       "2             3        3          1      1           No  \n",
       "3             2        1          3      0     Not sure  \n",
       "4             3        4          2      0          Yes  \n",
       "5             2        2          3      0          Yes  \n",
       "\n",
       "[5 rows x 25 columns]"
      ]
     },
     "execution_count": 93,
     "metadata": {},
     "output_type": "execute_result"
    }
   ],
   "source": [
    "df_gen.head()"
   ]
  },
  {
   "cell_type": "markdown",
   "metadata": {},
   "source": [
    "### For Q15"
   ]
  },
  {
   "cell_type": "code",
   "execution_count": 94,
   "metadata": {},
   "outputs": [],
   "source": [
    "df_q15 = data.iloc[:, [50]]"
   ]
  },
  {
   "cell_type": "code",
   "execution_count": 95,
   "metadata": {},
   "outputs": [],
   "source": [
    "df_q15.columns = ['Goals']\n",
    "df_q15 = df_q15[1:]"
   ]
  },
  {
   "cell_type": "code",
   "execution_count": 96,
   "metadata": {},
   "outputs": [],
   "source": [
    "df_q15 = df_q15.loc[:, 'Goals':].replace(1, pd.Series(df_q15.columns, df_q15.columns)).fillna('')"
   ]
  },
  {
   "cell_type": "code",
   "execution_count": 97,
   "metadata": {},
   "outputs": [
    {
     "data": {
      "text/html": [
       "<div>\n",
       "<style scoped>\n",
       "    .dataframe tbody tr th:only-of-type {\n",
       "        vertical-align: middle;\n",
       "    }\n",
       "\n",
       "    .dataframe tbody tr th {\n",
       "        vertical-align: top;\n",
       "    }\n",
       "\n",
       "    .dataframe thead th {\n",
       "        text-align: right;\n",
       "    }\n",
       "</style>\n",
       "<table border=\"1\" class=\"dataframe\">\n",
       "  <thead>\n",
       "    <tr style=\"text-align: right;\">\n",
       "      <th></th>\n",
       "      <th>Goals</th>\n",
       "    </tr>\n",
       "  </thead>\n",
       "  <tbody>\n",
       "    <tr>\n",
       "      <th>1</th>\n",
       "      <td></td>\n",
       "    </tr>\n",
       "    <tr>\n",
       "      <th>2</th>\n",
       "      <td></td>\n",
       "    </tr>\n",
       "    <tr>\n",
       "      <th>3</th>\n",
       "      <td>As part of my work, I have access to a lot of ...</td>\n",
       "    </tr>\n",
       "    <tr>\n",
       "      <th>4</th>\n",
       "      <td></td>\n",
       "    </tr>\n",
       "    <tr>\n",
       "      <th>5</th>\n",
       "      <td>Learn</td>\n",
       "    </tr>\n",
       "  </tbody>\n",
       "</table>\n",
       "</div>"
      ],
      "text/plain": [
       "                                               Goals\n",
       "1                                                   \n",
       "2                                                   \n",
       "3  As part of my work, I have access to a lot of ...\n",
       "4                                                   \n",
       "5                                              Learn"
      ]
     },
     "execution_count": 97,
     "metadata": {},
     "output_type": "execute_result"
    }
   ],
   "source": [
    "df_q15.head()"
   ]
  },
  {
   "cell_type": "code",
   "execution_count": 98,
   "metadata": {},
   "outputs": [],
   "source": [
    "df_gen = pd.concat([df_gen, df_q15], axis=1)"
   ]
  },
  {
   "cell_type": "code",
   "execution_count": 99,
   "metadata": {},
   "outputs": [
    {
     "data": {
      "text/html": [
       "<div>\n",
       "<style scoped>\n",
       "    .dataframe tbody tr th:only-of-type {\n",
       "        vertical-align: middle;\n",
       "    }\n",
       "\n",
       "    .dataframe tbody tr th {\n",
       "        vertical-align: top;\n",
       "    }\n",
       "\n",
       "    .dataframe thead th {\n",
       "        text-align: right;\n",
       "    }\n",
       "</style>\n",
       "<table border=\"1\" class=\"dataframe\">\n",
       "  <thead>\n",
       "    <tr style=\"text-align: right;\">\n",
       "      <th></th>\n",
       "      <th>Time</th>\n",
       "      <th>Status</th>\n",
       "      <th>Duration (Seconds)</th>\n",
       "      <th>Access Code</th>\n",
       "      <th>Email Address</th>\n",
       "      <th>IP Address</th>\n",
       "      <th>Country</th>\n",
       "      <th>Region</th>\n",
       "      <th>City / Town / District</th>\n",
       "      <th>Latitude</th>\n",
       "      <th>...</th>\n",
       "      <th>Undergrad_Degree</th>\n",
       "      <th>GradYear</th>\n",
       "      <th>Laptop</th>\n",
       "      <th>Employement</th>\n",
       "      <th>Python Skills</th>\n",
       "      <th>R Skills</th>\n",
       "      <th>SQL Skills</th>\n",
       "      <th>GitHub</th>\n",
       "      <th>Career in DS</th>\n",
       "      <th>Goals</th>\n",
       "    </tr>\n",
       "  </thead>\n",
       "  <tbody>\n",
       "    <tr>\n",
       "      <th>1</th>\n",
       "      <td>10/3/2023 17:49</td>\n",
       "      <td>Completed</td>\n",
       "      <td>11646</td>\n",
       "      <td>NaN</td>\n",
       "      <td>NaN</td>\n",
       "      <td>100.36.167.226</td>\n",
       "      <td>United States</td>\n",
       "      <td>Virginia</td>\n",
       "      <td>Fairfax</td>\n",
       "      <td>-77.2891</td>\n",
       "      <td>...</td>\n",
       "      <td>economics</td>\n",
       "      <td>12/31/2021</td>\n",
       "      <td>MacBook</td>\n",
       "      <td>Not Working</td>\n",
       "      <td>2</td>\n",
       "      <td>1</td>\n",
       "      <td>2</td>\n",
       "      <td>1</td>\n",
       "      <td>Yes</td>\n",
       "      <td></td>\n",
       "    </tr>\n",
       "    <tr>\n",
       "      <th>2</th>\n",
       "      <td>10/3/2023 17:49</td>\n",
       "      <td>Completed</td>\n",
       "      <td>113</td>\n",
       "      <td>NaN</td>\n",
       "      <td>NaN</td>\n",
       "      <td>98.169.26.134</td>\n",
       "      <td>United States</td>\n",
       "      <td>Virginia</td>\n",
       "      <td>Fairfax</td>\n",
       "      <td>-77.263</td>\n",
       "      <td>...</td>\n",
       "      <td>Finance</td>\n",
       "      <td>5/1/2021</td>\n",
       "      <td>MacBook</td>\n",
       "      <td>Part Time</td>\n",
       "      <td>3</td>\n",
       "      <td>3</td>\n",
       "      <td>1</td>\n",
       "      <td>1</td>\n",
       "      <td>No</td>\n",
       "      <td></td>\n",
       "    </tr>\n",
       "    <tr>\n",
       "      <th>3</th>\n",
       "      <td>10/3/2023 17:49</td>\n",
       "      <td>Completed</td>\n",
       "      <td>572</td>\n",
       "      <td>NaN</td>\n",
       "      <td>NaN</td>\n",
       "      <td>98.169.52.23</td>\n",
       "      <td>United States</td>\n",
       "      <td>Virginia</td>\n",
       "      <td>Greenway Downs</td>\n",
       "      <td>-77.2331</td>\n",
       "      <td>...</td>\n",
       "      <td>Computer Applications</td>\n",
       "      <td>6/1/2022</td>\n",
       "      <td>MacBook</td>\n",
       "      <td>Full Time</td>\n",
       "      <td>2</td>\n",
       "      <td>1</td>\n",
       "      <td>3</td>\n",
       "      <td>0</td>\n",
       "      <td>Not sure</td>\n",
       "      <td>As part of my work, I have access to a lot of ...</td>\n",
       "    </tr>\n",
       "    <tr>\n",
       "      <th>4</th>\n",
       "      <td>10/3/2023 17:50</td>\n",
       "      <td>Completed</td>\n",
       "      <td>365</td>\n",
       "      <td>NaN</td>\n",
       "      <td>NaN</td>\n",
       "      <td>69.255.182.253</td>\n",
       "      <td>United States</td>\n",
       "      <td>Virginia</td>\n",
       "      <td>Gainesville</td>\n",
       "      <td>-77.6308</td>\n",
       "      <td>...</td>\n",
       "      <td>Business Management</td>\n",
       "      <td>12/31/2021</td>\n",
       "      <td>Windows</td>\n",
       "      <td>Not Working</td>\n",
       "      <td>3</td>\n",
       "      <td>4</td>\n",
       "      <td>2</td>\n",
       "      <td>0</td>\n",
       "      <td>Yes</td>\n",
       "      <td></td>\n",
       "    </tr>\n",
       "    <tr>\n",
       "      <th>5</th>\n",
       "      <td>10/3/2023 17:51</td>\n",
       "      <td>Completed</td>\n",
       "      <td>92</td>\n",
       "      <td>NaN</td>\n",
       "      <td>NaN</td>\n",
       "      <td>138.88.108.230</td>\n",
       "      <td>United States</td>\n",
       "      <td>NaN</td>\n",
       "      <td>NaN</td>\n",
       "      <td>-97.822</td>\n",
       "      <td>...</td>\n",
       "      <td>Yes</td>\n",
       "      <td>1/1/2021</td>\n",
       "      <td>MacBook</td>\n",
       "      <td>Full Time</td>\n",
       "      <td>2</td>\n",
       "      <td>2</td>\n",
       "      <td>3</td>\n",
       "      <td>0</td>\n",
       "      <td>Yes</td>\n",
       "      <td>Learn</td>\n",
       "    </tr>\n",
       "  </tbody>\n",
       "</table>\n",
       "<p>5 rows × 26 columns</p>\n",
       "</div>"
      ],
      "text/plain": [
       "              Time     Status Duration (Seconds) Access Code Email Address  \\\n",
       "1  10/3/2023 17:49  Completed              11646         NaN           NaN   \n",
       "2  10/3/2023 17:49  Completed                113         NaN           NaN   \n",
       "3  10/3/2023 17:49  Completed                572         NaN           NaN   \n",
       "4  10/3/2023 17:50  Completed                365         NaN           NaN   \n",
       "5  10/3/2023 17:51  Completed                 92         NaN           NaN   \n",
       "\n",
       "       IP Address        Country    Region City / Town / District  Latitude  \\\n",
       "1  100.36.167.226  United States  Virginia                Fairfax  -77.2891   \n",
       "2   98.169.26.134  United States  Virginia                Fairfax   -77.263   \n",
       "3    98.169.52.23  United States  Virginia         Greenway Downs  -77.2331   \n",
       "4  69.255.182.253  United States  Virginia            Gainesville  -77.6308   \n",
       "5  138.88.108.230  United States       NaN                    NaN   -97.822   \n",
       "\n",
       "   ...       Undergrad_Degree    GradYear   Laptop  Employement Python Skills  \\\n",
       "1  ...              economics  12/31/2021  MacBook  Not Working             2   \n",
       "2  ...               Finance     5/1/2021  MacBook    Part Time             3   \n",
       "3  ...  Computer Applications    6/1/2022  MacBook    Full Time             2   \n",
       "4  ...    Business Management  12/31/2021  Windows  Not Working             3   \n",
       "5  ...                    Yes    1/1/2021  MacBook    Full Time             2   \n",
       "\n",
       "  R Skills SQL Skills GitHub Career in DS  \\\n",
       "1        1          2      1          Yes   \n",
       "2        3          1      1           No   \n",
       "3        1          3      0     Not sure   \n",
       "4        4          2      0          Yes   \n",
       "5        2          3      0          Yes   \n",
       "\n",
       "                                               Goals  \n",
       "1                                                     \n",
       "2                                                     \n",
       "3  As part of my work, I have access to a lot of ...  \n",
       "4                                                     \n",
       "5                                              Learn  \n",
       "\n",
       "[5 rows x 26 columns]"
      ]
     },
     "execution_count": 99,
     "metadata": {},
     "output_type": "execute_result"
    }
   ],
   "source": [
    "df_gen.head()"
   ]
  },
  {
   "cell_type": "markdown",
   "metadata": {},
   "source": [
    "## Final Formatted Data"
   ]
  },
  {
   "cell_type": "markdown",
   "metadata": {},
   "source": [
    "The dataset has been reduced from 51 columns originally to 26 formatted columns."
   ]
  },
  {
   "cell_type": "code",
   "execution_count": 100,
   "metadata": {},
   "outputs": [
    {
     "data": {
      "text/html": [
       "<div>\n",
       "<style scoped>\n",
       "    .dataframe tbody tr th:only-of-type {\n",
       "        vertical-align: middle;\n",
       "    }\n",
       "\n",
       "    .dataframe tbody tr th {\n",
       "        vertical-align: top;\n",
       "    }\n",
       "\n",
       "    .dataframe thead th {\n",
       "        text-align: right;\n",
       "    }\n",
       "</style>\n",
       "<table border=\"1\" class=\"dataframe\">\n",
       "  <thead>\n",
       "    <tr style=\"text-align: right;\">\n",
       "      <th></th>\n",
       "      <th>Time</th>\n",
       "      <th>Status</th>\n",
       "      <th>Duration (Seconds)</th>\n",
       "      <th>Access Code</th>\n",
       "      <th>Email Address</th>\n",
       "      <th>IP Address</th>\n",
       "      <th>Country</th>\n",
       "      <th>Region</th>\n",
       "      <th>City / Town / District</th>\n",
       "      <th>Latitude</th>\n",
       "      <th>...</th>\n",
       "      <th>Undergrad_Degree</th>\n",
       "      <th>GradYear</th>\n",
       "      <th>Laptop</th>\n",
       "      <th>Employement</th>\n",
       "      <th>Python Skills</th>\n",
       "      <th>R Skills</th>\n",
       "      <th>SQL Skills</th>\n",
       "      <th>GitHub</th>\n",
       "      <th>Career in DS</th>\n",
       "      <th>Goals</th>\n",
       "    </tr>\n",
       "  </thead>\n",
       "  <tbody>\n",
       "    <tr>\n",
       "      <th>1</th>\n",
       "      <td>10/3/2023 17:49</td>\n",
       "      <td>Completed</td>\n",
       "      <td>11646</td>\n",
       "      <td>NaN</td>\n",
       "      <td>NaN</td>\n",
       "      <td>100.36.167.226</td>\n",
       "      <td>United States</td>\n",
       "      <td>Virginia</td>\n",
       "      <td>Fairfax</td>\n",
       "      <td>-77.2891</td>\n",
       "      <td>...</td>\n",
       "      <td>economics</td>\n",
       "      <td>12/31/2021</td>\n",
       "      <td>MacBook</td>\n",
       "      <td>Not Working</td>\n",
       "      <td>2</td>\n",
       "      <td>1</td>\n",
       "      <td>2</td>\n",
       "      <td>1</td>\n",
       "      <td>Yes</td>\n",
       "      <td></td>\n",
       "    </tr>\n",
       "    <tr>\n",
       "      <th>2</th>\n",
       "      <td>10/3/2023 17:49</td>\n",
       "      <td>Completed</td>\n",
       "      <td>113</td>\n",
       "      <td>NaN</td>\n",
       "      <td>NaN</td>\n",
       "      <td>98.169.26.134</td>\n",
       "      <td>United States</td>\n",
       "      <td>Virginia</td>\n",
       "      <td>Fairfax</td>\n",
       "      <td>-77.263</td>\n",
       "      <td>...</td>\n",
       "      <td>Finance</td>\n",
       "      <td>5/1/2021</td>\n",
       "      <td>MacBook</td>\n",
       "      <td>Part Time</td>\n",
       "      <td>3</td>\n",
       "      <td>3</td>\n",
       "      <td>1</td>\n",
       "      <td>1</td>\n",
       "      <td>No</td>\n",
       "      <td></td>\n",
       "    </tr>\n",
       "    <tr>\n",
       "      <th>3</th>\n",
       "      <td>10/3/2023 17:49</td>\n",
       "      <td>Completed</td>\n",
       "      <td>572</td>\n",
       "      <td>NaN</td>\n",
       "      <td>NaN</td>\n",
       "      <td>98.169.52.23</td>\n",
       "      <td>United States</td>\n",
       "      <td>Virginia</td>\n",
       "      <td>Greenway Downs</td>\n",
       "      <td>-77.2331</td>\n",
       "      <td>...</td>\n",
       "      <td>Computer Applications</td>\n",
       "      <td>6/1/2022</td>\n",
       "      <td>MacBook</td>\n",
       "      <td>Full Time</td>\n",
       "      <td>2</td>\n",
       "      <td>1</td>\n",
       "      <td>3</td>\n",
       "      <td>0</td>\n",
       "      <td>Not sure</td>\n",
       "      <td>As part of my work, I have access to a lot of ...</td>\n",
       "    </tr>\n",
       "    <tr>\n",
       "      <th>4</th>\n",
       "      <td>10/3/2023 17:50</td>\n",
       "      <td>Completed</td>\n",
       "      <td>365</td>\n",
       "      <td>NaN</td>\n",
       "      <td>NaN</td>\n",
       "      <td>69.255.182.253</td>\n",
       "      <td>United States</td>\n",
       "      <td>Virginia</td>\n",
       "      <td>Gainesville</td>\n",
       "      <td>-77.6308</td>\n",
       "      <td>...</td>\n",
       "      <td>Business Management</td>\n",
       "      <td>12/31/2021</td>\n",
       "      <td>Windows</td>\n",
       "      <td>Not Working</td>\n",
       "      <td>3</td>\n",
       "      <td>4</td>\n",
       "      <td>2</td>\n",
       "      <td>0</td>\n",
       "      <td>Yes</td>\n",
       "      <td></td>\n",
       "    </tr>\n",
       "    <tr>\n",
       "      <th>5</th>\n",
       "      <td>10/3/2023 17:51</td>\n",
       "      <td>Completed</td>\n",
       "      <td>92</td>\n",
       "      <td>NaN</td>\n",
       "      <td>NaN</td>\n",
       "      <td>138.88.108.230</td>\n",
       "      <td>United States</td>\n",
       "      <td>NaN</td>\n",
       "      <td>NaN</td>\n",
       "      <td>-97.822</td>\n",
       "      <td>...</td>\n",
       "      <td>Yes</td>\n",
       "      <td>1/1/2021</td>\n",
       "      <td>MacBook</td>\n",
       "      <td>Full Time</td>\n",
       "      <td>2</td>\n",
       "      <td>2</td>\n",
       "      <td>3</td>\n",
       "      <td>0</td>\n",
       "      <td>Yes</td>\n",
       "      <td>Learn</td>\n",
       "    </tr>\n",
       "    <tr>\n",
       "      <th>6</th>\n",
       "      <td>10/3/2023 17:59</td>\n",
       "      <td>Incomplete</td>\n",
       "      <td>221</td>\n",
       "      <td>NaN</td>\n",
       "      <td>NaN</td>\n",
       "      <td>108.56.134.80</td>\n",
       "      <td>United States</td>\n",
       "      <td>Virginia</td>\n",
       "      <td>Reston</td>\n",
       "      <td>-77.3489</td>\n",
       "      <td>...</td>\n",
       "      <td>NaN</td>\n",
       "      <td>NaN</td>\n",
       "      <td></td>\n",
       "      <td></td>\n",
       "      <td></td>\n",
       "      <td></td>\n",
       "      <td></td>\n",
       "      <td>1</td>\n",
       "      <td>No</td>\n",
       "      <td></td>\n",
       "    </tr>\n",
       "    <tr>\n",
       "      <th>7</th>\n",
       "      <td>10/3/2023 18:23</td>\n",
       "      <td>Completed</td>\n",
       "      <td>115983</td>\n",
       "      <td>NaN</td>\n",
       "      <td>NaN</td>\n",
       "      <td>108.48.175.220</td>\n",
       "      <td>United States</td>\n",
       "      <td>Virginia</td>\n",
       "      <td>Arlington</td>\n",
       "      <td>-77.0987</td>\n",
       "      <td>...</td>\n",
       "      <td>Finance</td>\n",
       "      <td>7/15/2022</td>\n",
       "      <td>Windows</td>\n",
       "      <td>Part Time</td>\n",
       "      <td>3</td>\n",
       "      <td>3</td>\n",
       "      <td>3</td>\n",
       "      <td>0</td>\n",
       "      <td>No</td>\n",
       "      <td>To deduce meaningful interpretation for Financ...</td>\n",
       "    </tr>\n",
       "    <tr>\n",
       "      <th>8</th>\n",
       "      <td>10/3/2023 19:10</td>\n",
       "      <td>Incomplete</td>\n",
       "      <td>40</td>\n",
       "      <td>NaN</td>\n",
       "      <td>NaN</td>\n",
       "      <td>173.67.199.85</td>\n",
       "      <td>United States</td>\n",
       "      <td>Virginia</td>\n",
       "      <td>Ashburn</td>\n",
       "      <td>-77.539</td>\n",
       "      <td>...</td>\n",
       "      <td>NaN</td>\n",
       "      <td>NaN</td>\n",
       "      <td></td>\n",
       "      <td></td>\n",
       "      <td></td>\n",
       "      <td></td>\n",
       "      <td></td>\n",
       "      <td>1</td>\n",
       "      <td>No</td>\n",
       "      <td></td>\n",
       "    </tr>\n",
       "    <tr>\n",
       "      <th>9</th>\n",
       "      <td>10/3/2023 19:25</td>\n",
       "      <td>Completed</td>\n",
       "      <td>137</td>\n",
       "      <td>NaN</td>\n",
       "      <td>NaN</td>\n",
       "      <td>74.96.114.12</td>\n",
       "      <td>United States</td>\n",
       "      <td>Virginia</td>\n",
       "      <td>Woodbridge</td>\n",
       "      <td>-77.3197</td>\n",
       "      <td>...</td>\n",
       "      <td>Economic</td>\n",
       "      <td>12/15/2021</td>\n",
       "      <td>Windows</td>\n",
       "      <td>Full Time</td>\n",
       "      <td>2</td>\n",
       "      <td>4</td>\n",
       "      <td>3</td>\n",
       "      <td>1</td>\n",
       "      <td>No</td>\n",
       "      <td></td>\n",
       "    </tr>\n",
       "    <tr>\n",
       "      <th>10</th>\n",
       "      <td>10/3/2023 19:56</td>\n",
       "      <td>Incomplete</td>\n",
       "      <td>179</td>\n",
       "      <td>NaN</td>\n",
       "      <td>NaN</td>\n",
       "      <td>107.77.241.32</td>\n",
       "      <td>United States</td>\n",
       "      <td>Texas</td>\n",
       "      <td>NaN</td>\n",
       "      <td>-96.8217</td>\n",
       "      <td>...</td>\n",
       "      <td>Economics with Finance</td>\n",
       "      <td>NaN</td>\n",
       "      <td></td>\n",
       "      <td></td>\n",
       "      <td></td>\n",
       "      <td></td>\n",
       "      <td></td>\n",
       "      <td>0</td>\n",
       "      <td>No</td>\n",
       "      <td></td>\n",
       "    </tr>\n",
       "  </tbody>\n",
       "</table>\n",
       "<p>10 rows × 26 columns</p>\n",
       "</div>"
      ],
      "text/plain": [
       "               Time      Status Duration (Seconds) Access Code Email Address  \\\n",
       "1   10/3/2023 17:49   Completed              11646         NaN           NaN   \n",
       "2   10/3/2023 17:49   Completed                113         NaN           NaN   \n",
       "3   10/3/2023 17:49   Completed                572         NaN           NaN   \n",
       "4   10/3/2023 17:50   Completed                365         NaN           NaN   \n",
       "5   10/3/2023 17:51   Completed                 92         NaN           NaN   \n",
       "6   10/3/2023 17:59  Incomplete                221         NaN           NaN   \n",
       "7   10/3/2023 18:23   Completed             115983         NaN           NaN   \n",
       "8   10/3/2023 19:10  Incomplete                 40         NaN           NaN   \n",
       "9   10/3/2023 19:25   Completed                137         NaN           NaN   \n",
       "10  10/3/2023 19:56  Incomplete                179         NaN           NaN   \n",
       "\n",
       "        IP Address        Country    Region City / Town / District  Latitude  \\\n",
       "1   100.36.167.226  United States  Virginia                Fairfax  -77.2891   \n",
       "2    98.169.26.134  United States  Virginia                Fairfax   -77.263   \n",
       "3     98.169.52.23  United States  Virginia         Greenway Downs  -77.2331   \n",
       "4   69.255.182.253  United States  Virginia            Gainesville  -77.6308   \n",
       "5   138.88.108.230  United States       NaN                    NaN   -97.822   \n",
       "6    108.56.134.80  United States  Virginia                 Reston  -77.3489   \n",
       "7   108.48.175.220  United States  Virginia              Arlington  -77.0987   \n",
       "8    173.67.199.85  United States  Virginia                Ashburn   -77.539   \n",
       "9     74.96.114.12  United States  Virginia             Woodbridge  -77.3197   \n",
       "10   107.77.241.32  United States     Texas                    NaN  -96.8217   \n",
       "\n",
       "    ...         Undergrad_Degree    GradYear   Laptop  Employement  \\\n",
       "1   ...                economics  12/31/2021  MacBook  Not Working   \n",
       "2   ...                 Finance     5/1/2021  MacBook    Part Time   \n",
       "3   ...    Computer Applications    6/1/2022  MacBook    Full Time   \n",
       "4   ...      Business Management  12/31/2021  Windows  Not Working   \n",
       "5   ...                      Yes    1/1/2021  MacBook    Full Time   \n",
       "6   ...                      NaN         NaN                         \n",
       "7   ...                  Finance   7/15/2022  Windows    Part Time   \n",
       "8   ...                      NaN         NaN                         \n",
       "9   ...                 Economic  12/15/2021  Windows    Full Time   \n",
       "10  ...  Economics with Finance          NaN                         \n",
       "\n",
       "   Python Skills R Skills SQL Skills GitHub Career in DS  \\\n",
       "1              2        1          2      1          Yes   \n",
       "2              3        3          1      1           No   \n",
       "3              2        1          3      0     Not sure   \n",
       "4              3        4          2      0          Yes   \n",
       "5              2        2          3      0          Yes   \n",
       "6                                         1           No   \n",
       "7              3        3          3      0           No   \n",
       "8                                         1           No   \n",
       "9              2        4          3      1           No   \n",
       "10                                        0           No   \n",
       "\n",
       "                                                Goals  \n",
       "1                                                      \n",
       "2                                                      \n",
       "3   As part of my work, I have access to a lot of ...  \n",
       "4                                                      \n",
       "5                                               Learn  \n",
       "6                                                      \n",
       "7   To deduce meaningful interpretation for Financ...  \n",
       "8                                                      \n",
       "9                                                      \n",
       "10                                                     \n",
       "\n",
       "[10 rows x 26 columns]"
      ]
     },
     "execution_count": 100,
     "metadata": {},
     "output_type": "execute_result"
    }
   ],
   "source": [
    "df_gen.head(10)"
   ]
  },
  {
   "cell_type": "code",
   "execution_count": 101,
   "metadata": {},
   "outputs": [],
   "source": [
    "# saving to a CSV file\n",
    "df_gen.to_csv('formatted_hw1_data.csv', index=False)"
   ]
  },
  {
   "cell_type": "markdown",
   "metadata": {},
   "source": []
  },
  {
   "cell_type": "markdown",
   "metadata": {},
   "source": [
    "# Part 2: Data Cleaning"
   ]
  },
  {
   "cell_type": "markdown",
   "metadata": {},
   "source": [
    "Make a copy for the originally formatted data."
   ]
  },
  {
   "cell_type": "code",
   "execution_count": 102,
   "metadata": {},
   "outputs": [],
   "source": [
    "df_clean = pd.read_csv('formatted_hw1_data.csv')"
   ]
  },
  {
   "cell_type": "code",
   "execution_count": 103,
   "metadata": {},
   "outputs": [
    {
     "data": {
      "text/html": [
       "<div>\n",
       "<style scoped>\n",
       "    .dataframe tbody tr th:only-of-type {\n",
       "        vertical-align: middle;\n",
       "    }\n",
       "\n",
       "    .dataframe tbody tr th {\n",
       "        vertical-align: top;\n",
       "    }\n",
       "\n",
       "    .dataframe thead th {\n",
       "        text-align: right;\n",
       "    }\n",
       "</style>\n",
       "<table border=\"1\" class=\"dataframe\">\n",
       "  <thead>\n",
       "    <tr style=\"text-align: right;\">\n",
       "      <th></th>\n",
       "      <th>Time</th>\n",
       "      <th>Status</th>\n",
       "      <th>Duration (Seconds)</th>\n",
       "      <th>Access Code</th>\n",
       "      <th>Email Address</th>\n",
       "      <th>IP Address</th>\n",
       "      <th>Country</th>\n",
       "      <th>Region</th>\n",
       "      <th>City / Town / District</th>\n",
       "      <th>Latitude</th>\n",
       "      <th>...</th>\n",
       "      <th>Undergrad_Degree</th>\n",
       "      <th>GradYear</th>\n",
       "      <th>Laptop</th>\n",
       "      <th>Employement</th>\n",
       "      <th>Python Skills</th>\n",
       "      <th>R Skills</th>\n",
       "      <th>SQL Skills</th>\n",
       "      <th>GitHub</th>\n",
       "      <th>Career in DS</th>\n",
       "      <th>Goals</th>\n",
       "    </tr>\n",
       "  </thead>\n",
       "  <tbody>\n",
       "    <tr>\n",
       "      <th>0</th>\n",
       "      <td>10/3/2023 17:49</td>\n",
       "      <td>Completed</td>\n",
       "      <td>11646</td>\n",
       "      <td>NaN</td>\n",
       "      <td>NaN</td>\n",
       "      <td>100.36.167.226</td>\n",
       "      <td>United States</td>\n",
       "      <td>Virginia</td>\n",
       "      <td>Fairfax</td>\n",
       "      <td>-77.2891</td>\n",
       "      <td>...</td>\n",
       "      <td>economics</td>\n",
       "      <td>12/31/2021</td>\n",
       "      <td>MacBook</td>\n",
       "      <td>Not Working</td>\n",
       "      <td>2.0</td>\n",
       "      <td>1.0</td>\n",
       "      <td>2.0</td>\n",
       "      <td>1</td>\n",
       "      <td>Yes</td>\n",
       "      <td>NaN</td>\n",
       "    </tr>\n",
       "    <tr>\n",
       "      <th>1</th>\n",
       "      <td>10/3/2023 17:49</td>\n",
       "      <td>Completed</td>\n",
       "      <td>113</td>\n",
       "      <td>NaN</td>\n",
       "      <td>NaN</td>\n",
       "      <td>98.169.26.134</td>\n",
       "      <td>United States</td>\n",
       "      <td>Virginia</td>\n",
       "      <td>Fairfax</td>\n",
       "      <td>-77.2630</td>\n",
       "      <td>...</td>\n",
       "      <td>Finance</td>\n",
       "      <td>5/1/2021</td>\n",
       "      <td>MacBook</td>\n",
       "      <td>Part Time</td>\n",
       "      <td>3.0</td>\n",
       "      <td>3.0</td>\n",
       "      <td>1.0</td>\n",
       "      <td>1</td>\n",
       "      <td>No</td>\n",
       "      <td>NaN</td>\n",
       "    </tr>\n",
       "    <tr>\n",
       "      <th>2</th>\n",
       "      <td>10/3/2023 17:49</td>\n",
       "      <td>Completed</td>\n",
       "      <td>572</td>\n",
       "      <td>NaN</td>\n",
       "      <td>NaN</td>\n",
       "      <td>98.169.52.23</td>\n",
       "      <td>United States</td>\n",
       "      <td>Virginia</td>\n",
       "      <td>Greenway Downs</td>\n",
       "      <td>-77.2331</td>\n",
       "      <td>...</td>\n",
       "      <td>Computer Applications</td>\n",
       "      <td>6/1/2022</td>\n",
       "      <td>MacBook</td>\n",
       "      <td>Full Time</td>\n",
       "      <td>2.0</td>\n",
       "      <td>1.0</td>\n",
       "      <td>3.0</td>\n",
       "      <td>0</td>\n",
       "      <td>Not sure</td>\n",
       "      <td>As part of my work, I have access to a lot of ...</td>\n",
       "    </tr>\n",
       "    <tr>\n",
       "      <th>3</th>\n",
       "      <td>10/3/2023 17:50</td>\n",
       "      <td>Completed</td>\n",
       "      <td>365</td>\n",
       "      <td>NaN</td>\n",
       "      <td>NaN</td>\n",
       "      <td>69.255.182.253</td>\n",
       "      <td>United States</td>\n",
       "      <td>Virginia</td>\n",
       "      <td>Gainesville</td>\n",
       "      <td>-77.6308</td>\n",
       "      <td>...</td>\n",
       "      <td>Business Management</td>\n",
       "      <td>12/31/2021</td>\n",
       "      <td>Windows</td>\n",
       "      <td>Not Working</td>\n",
       "      <td>3.0</td>\n",
       "      <td>4.0</td>\n",
       "      <td>2.0</td>\n",
       "      <td>0</td>\n",
       "      <td>Yes</td>\n",
       "      <td>NaN</td>\n",
       "    </tr>\n",
       "    <tr>\n",
       "      <th>4</th>\n",
       "      <td>10/3/2023 17:51</td>\n",
       "      <td>Completed</td>\n",
       "      <td>92</td>\n",
       "      <td>NaN</td>\n",
       "      <td>NaN</td>\n",
       "      <td>138.88.108.230</td>\n",
       "      <td>United States</td>\n",
       "      <td>NaN</td>\n",
       "      <td>NaN</td>\n",
       "      <td>-97.8220</td>\n",
       "      <td>...</td>\n",
       "      <td>Yes</td>\n",
       "      <td>1/1/2021</td>\n",
       "      <td>MacBook</td>\n",
       "      <td>Full Time</td>\n",
       "      <td>2.0</td>\n",
       "      <td>2.0</td>\n",
       "      <td>3.0</td>\n",
       "      <td>0</td>\n",
       "      <td>Yes</td>\n",
       "      <td>Learn</td>\n",
       "    </tr>\n",
       "  </tbody>\n",
       "</table>\n",
       "<p>5 rows × 26 columns</p>\n",
       "</div>"
      ],
      "text/plain": [
       "              Time     Status  Duration (Seconds)  Access Code  Email Address  \\\n",
       "0  10/3/2023 17:49  Completed               11646          NaN            NaN   \n",
       "1  10/3/2023 17:49  Completed                 113          NaN            NaN   \n",
       "2  10/3/2023 17:49  Completed                 572          NaN            NaN   \n",
       "3  10/3/2023 17:50  Completed                 365          NaN            NaN   \n",
       "4  10/3/2023 17:51  Completed                  92          NaN            NaN   \n",
       "\n",
       "       IP Address        Country    Region City / Town / District  Latitude  \\\n",
       "0  100.36.167.226  United States  Virginia                Fairfax  -77.2891   \n",
       "1   98.169.26.134  United States  Virginia                Fairfax  -77.2630   \n",
       "2    98.169.52.23  United States  Virginia         Greenway Downs  -77.2331   \n",
       "3  69.255.182.253  United States  Virginia            Gainesville  -77.6308   \n",
       "4  138.88.108.230  United States       NaN                    NaN  -97.8220   \n",
       "\n",
       "   ...       Undergrad_Degree    GradYear   Laptop  Employement Python Skills  \\\n",
       "0  ...              economics  12/31/2021  MacBook  Not Working           2.0   \n",
       "1  ...               Finance     5/1/2021  MacBook    Part Time           3.0   \n",
       "2  ...  Computer Applications    6/1/2022  MacBook    Full Time           2.0   \n",
       "3  ...    Business Management  12/31/2021  Windows  Not Working           3.0   \n",
       "4  ...                    Yes    1/1/2021  MacBook    Full Time           2.0   \n",
       "\n",
       "  R Skills SQL Skills GitHub Career in DS  \\\n",
       "0      1.0        2.0      1          Yes   \n",
       "1      3.0        1.0      1           No   \n",
       "2      1.0        3.0      0     Not sure   \n",
       "3      4.0        2.0      0          Yes   \n",
       "4      2.0        3.0      0          Yes   \n",
       "\n",
       "                                               Goals  \n",
       "0                                                NaN  \n",
       "1                                                NaN  \n",
       "2  As part of my work, I have access to a lot of ...  \n",
       "3                                                NaN  \n",
       "4                                              Learn  \n",
       "\n",
       "[5 rows x 26 columns]"
      ]
     },
     "execution_count": 103,
     "metadata": {},
     "output_type": "execute_result"
    }
   ],
   "source": [
    "df_clean.head()"
   ]
  },
  {
   "cell_type": "code",
   "execution_count": 104,
   "metadata": {},
   "outputs": [
    {
     "data": {
      "text/plain": [
       "Index(['Time', 'Status', 'Duration (Seconds)', 'Access Code', 'Email Address',\n",
       "       'IP Address', 'Country', 'Region', 'City / Town / District', 'Latitude',\n",
       "       'Longitude', 'Section', 'Gender', 'Age', 'Height', 'Citizenship',\n",
       "       'Undergrad_Degree', 'GradYear', 'Laptop', 'Employement',\n",
       "       'Python Skills', 'R Skills', 'SQL Skills', 'GitHub', 'Career in DS',\n",
       "       'Goals'],\n",
       "      dtype='object')"
      ]
     },
     "execution_count": 104,
     "metadata": {},
     "output_type": "execute_result"
    }
   ],
   "source": [
    "df_clean.columns"
   ]
  },
  {
   "cell_type": "code",
   "execution_count": 105,
   "metadata": {},
   "outputs": [
    {
     "data": {
      "text/plain": [
       "Time                       0\n",
       "Status                     0\n",
       "Duration (Seconds)         0\n",
       "Access Code               36\n",
       "Email Address             36\n",
       "IP Address                 0\n",
       "Country                    0\n",
       "Region                     4\n",
       "City / Town / District     5\n",
       "Latitude                   0\n",
       "Longitude                  0\n",
       "Section                    0\n",
       "Gender                     0\n",
       "Age                        0\n",
       "Height                     1\n",
       "Citizenship                2\n",
       "Undergrad_Degree           2\n",
       "GradYear                   3\n",
       "Laptop                     4\n",
       "Employement                3\n",
       "Python Skills              3\n",
       "R Skills                   3\n",
       "SQL Skills                 3\n",
       "GitHub                     0\n",
       "Career in DS               0\n",
       "Goals                      9\n",
       "dtype: int64"
      ]
     },
     "execution_count": 105,
     "metadata": {},
     "output_type": "execute_result"
    }
   ],
   "source": [
    "df_clean.isnull().sum()"
   ]
  },
  {
   "cell_type": "markdown",
   "metadata": {},
   "source": [
    "In this dataset, I can observe that two columns, Access Code & Email Address are completely empty, so they should probably be removed from the dataset to remove clutter. Furthermore, there are a few seemingly unnecessary columns as well such as the IP, Time, Duration, Latitude, Longitude, Height. \n",
    "While the 'Country' column might not be useless, but it is unnecessary since everyone has the same response, so it should also be dropped from the dataset. \n",
    "Since 'Height' is part of the original survey, I won't be dropping it eventhough I think that it's unnecessary."
   ]
  },
  {
   "cell_type": "code",
   "execution_count": 106,
   "metadata": {},
   "outputs": [],
   "source": [
    "columns_to_drop = ['Time', 'Duration (Seconds)', 'Access Code', 'Email Address', 'IP Address', 'Country', 'Longitude', 'Latitude']"
   ]
  },
  {
   "cell_type": "code",
   "execution_count": 107,
   "metadata": {},
   "outputs": [],
   "source": [
    "df_clean = df_clean.drop(columns=columns_to_drop)"
   ]
  },
  {
   "cell_type": "code",
   "execution_count": 108,
   "metadata": {},
   "outputs": [
    {
     "data": {
      "text/html": [
       "<div>\n",
       "<style scoped>\n",
       "    .dataframe tbody tr th:only-of-type {\n",
       "        vertical-align: middle;\n",
       "    }\n",
       "\n",
       "    .dataframe tbody tr th {\n",
       "        vertical-align: top;\n",
       "    }\n",
       "\n",
       "    .dataframe thead th {\n",
       "        text-align: right;\n",
       "    }\n",
       "</style>\n",
       "<table border=\"1\" class=\"dataframe\">\n",
       "  <thead>\n",
       "    <tr style=\"text-align: right;\">\n",
       "      <th></th>\n",
       "      <th>Status</th>\n",
       "      <th>Region</th>\n",
       "      <th>City / Town / District</th>\n",
       "      <th>Section</th>\n",
       "      <th>Gender</th>\n",
       "      <th>Age</th>\n",
       "      <th>Height</th>\n",
       "      <th>Citizenship</th>\n",
       "      <th>Undergrad_Degree</th>\n",
       "      <th>GradYear</th>\n",
       "      <th>Laptop</th>\n",
       "      <th>Employement</th>\n",
       "      <th>Python Skills</th>\n",
       "      <th>R Skills</th>\n",
       "      <th>SQL Skills</th>\n",
       "      <th>GitHub</th>\n",
       "      <th>Career in DS</th>\n",
       "      <th>Goals</th>\n",
       "    </tr>\n",
       "  </thead>\n",
       "  <tbody>\n",
       "    <tr>\n",
       "      <th>0</th>\n",
       "      <td>Completed</td>\n",
       "      <td>Virginia</td>\n",
       "      <td>Fairfax</td>\n",
       "      <td>4.0</td>\n",
       "      <td>F</td>\n",
       "      <td>23</td>\n",
       "      <td>63</td>\n",
       "      <td>Taiwan</td>\n",
       "      <td>economics</td>\n",
       "      <td>12/31/2021</td>\n",
       "      <td>MacBook</td>\n",
       "      <td>Not Working</td>\n",
       "      <td>2.0</td>\n",
       "      <td>1.0</td>\n",
       "      <td>2.0</td>\n",
       "      <td>1</td>\n",
       "      <td>Yes</td>\n",
       "      <td>NaN</td>\n",
       "    </tr>\n",
       "    <tr>\n",
       "      <th>1</th>\n",
       "      <td>Completed</td>\n",
       "      <td>Virginia</td>\n",
       "      <td>Fairfax</td>\n",
       "      <td>2.0</td>\n",
       "      <td>F</td>\n",
       "      <td>24</td>\n",
       "      <td>59</td>\n",
       "      <td>India</td>\n",
       "      <td>Finance</td>\n",
       "      <td>5/1/2021</td>\n",
       "      <td>MacBook</td>\n",
       "      <td>Part Time</td>\n",
       "      <td>3.0</td>\n",
       "      <td>3.0</td>\n",
       "      <td>1.0</td>\n",
       "      <td>1</td>\n",
       "      <td>No</td>\n",
       "      <td>NaN</td>\n",
       "    </tr>\n",
       "    <tr>\n",
       "      <th>2</th>\n",
       "      <td>Completed</td>\n",
       "      <td>Virginia</td>\n",
       "      <td>Greenway Downs</td>\n",
       "      <td>2.0</td>\n",
       "      <td>M</td>\n",
       "      <td>40</td>\n",
       "      <td>70</td>\n",
       "      <td>India</td>\n",
       "      <td>Computer Applications</td>\n",
       "      <td>6/1/2022</td>\n",
       "      <td>MacBook</td>\n",
       "      <td>Full Time</td>\n",
       "      <td>2.0</td>\n",
       "      <td>1.0</td>\n",
       "      <td>3.0</td>\n",
       "      <td>0</td>\n",
       "      <td>Not sure</td>\n",
       "      <td>As part of my work, I have access to a lot of ...</td>\n",
       "    </tr>\n",
       "    <tr>\n",
       "      <th>3</th>\n",
       "      <td>Completed</td>\n",
       "      <td>Virginia</td>\n",
       "      <td>Gainesville</td>\n",
       "      <td>2.0</td>\n",
       "      <td>No</td>\n",
       "      <td>26</td>\n",
       "      <td>66</td>\n",
       "      <td>South Korea</td>\n",
       "      <td>Business Management</td>\n",
       "      <td>12/31/2021</td>\n",
       "      <td>Windows</td>\n",
       "      <td>Not Working</td>\n",
       "      <td>3.0</td>\n",
       "      <td>4.0</td>\n",
       "      <td>2.0</td>\n",
       "      <td>0</td>\n",
       "      <td>Yes</td>\n",
       "      <td>NaN</td>\n",
       "    </tr>\n",
       "    <tr>\n",
       "      <th>4</th>\n",
       "      <td>Completed</td>\n",
       "      <td>NaN</td>\n",
       "      <td>NaN</td>\n",
       "      <td>2.0</td>\n",
       "      <td>M</td>\n",
       "      <td>30</td>\n",
       "      <td>70</td>\n",
       "      <td>US</td>\n",
       "      <td>Yes</td>\n",
       "      <td>1/1/2021</td>\n",
       "      <td>MacBook</td>\n",
       "      <td>Full Time</td>\n",
       "      <td>2.0</td>\n",
       "      <td>2.0</td>\n",
       "      <td>3.0</td>\n",
       "      <td>0</td>\n",
       "      <td>Yes</td>\n",
       "      <td>Learn</td>\n",
       "    </tr>\n",
       "    <tr>\n",
       "      <th>5</th>\n",
       "      <td>Incomplete</td>\n",
       "      <td>Virginia</td>\n",
       "      <td>Reston</td>\n",
       "      <td>2.0</td>\n",
       "      <td>F</td>\n",
       "      <td>25</td>\n",
       "      <td>NaN</td>\n",
       "      <td>NaN</td>\n",
       "      <td>NaN</td>\n",
       "      <td>NaN</td>\n",
       "      <td>NaN</td>\n",
       "      <td>NaN</td>\n",
       "      <td>NaN</td>\n",
       "      <td>NaN</td>\n",
       "      <td>NaN</td>\n",
       "      <td>1</td>\n",
       "      <td>No</td>\n",
       "      <td>NaN</td>\n",
       "    </tr>\n",
       "    <tr>\n",
       "      <th>6</th>\n",
       "      <td>Completed</td>\n",
       "      <td>Virginia</td>\n",
       "      <td>Arlington</td>\n",
       "      <td>2.0</td>\n",
       "      <td>NB</td>\n",
       "      <td>24</td>\n",
       "      <td>70</td>\n",
       "      <td>pakistan</td>\n",
       "      <td>Finance</td>\n",
       "      <td>7/15/2022</td>\n",
       "      <td>Windows</td>\n",
       "      <td>Part Time</td>\n",
       "      <td>3.0</td>\n",
       "      <td>3.0</td>\n",
       "      <td>3.0</td>\n",
       "      <td>0</td>\n",
       "      <td>No</td>\n",
       "      <td>To deduce meaningful interpretation for Financ...</td>\n",
       "    </tr>\n",
       "    <tr>\n",
       "      <th>7</th>\n",
       "      <td>Incomplete</td>\n",
       "      <td>Virginia</td>\n",
       "      <td>Ashburn</td>\n",
       "      <td>2.0</td>\n",
       "      <td>F</td>\n",
       "      <td>30</td>\n",
       "      <td>5.2</td>\n",
       "      <td>NaN</td>\n",
       "      <td>NaN</td>\n",
       "      <td>NaN</td>\n",
       "      <td>NaN</td>\n",
       "      <td>NaN</td>\n",
       "      <td>NaN</td>\n",
       "      <td>NaN</td>\n",
       "      <td>NaN</td>\n",
       "      <td>1</td>\n",
       "      <td>No</td>\n",
       "      <td>NaN</td>\n",
       "    </tr>\n",
       "    <tr>\n",
       "      <th>8</th>\n",
       "      <td>Completed</td>\n",
       "      <td>Virginia</td>\n",
       "      <td>Woodbridge</td>\n",
       "      <td>2.0</td>\n",
       "      <td>M</td>\n",
       "      <td>24</td>\n",
       "      <td>71</td>\n",
       "      <td>china</td>\n",
       "      <td>Economic</td>\n",
       "      <td>12/15/2021</td>\n",
       "      <td>Windows</td>\n",
       "      <td>Full Time</td>\n",
       "      <td>2.0</td>\n",
       "      <td>4.0</td>\n",
       "      <td>3.0</td>\n",
       "      <td>1</td>\n",
       "      <td>No</td>\n",
       "      <td>NaN</td>\n",
       "    </tr>\n",
       "    <tr>\n",
       "      <th>9</th>\n",
       "      <td>Incomplete</td>\n",
       "      <td>Texas</td>\n",
       "      <td>NaN</td>\n",
       "      <td>4.0</td>\n",
       "      <td>M</td>\n",
       "      <td>26</td>\n",
       "      <td>71</td>\n",
       "      <td>Uzbekistan</td>\n",
       "      <td>Economics with Finance</td>\n",
       "      <td>NaN</td>\n",
       "      <td>NaN</td>\n",
       "      <td>NaN</td>\n",
       "      <td>NaN</td>\n",
       "      <td>NaN</td>\n",
       "      <td>NaN</td>\n",
       "      <td>0</td>\n",
       "      <td>No</td>\n",
       "      <td>NaN</td>\n",
       "    </tr>\n",
       "    <tr>\n",
       "      <th>10</th>\n",
       "      <td>Completed</td>\n",
       "      <td>Maryland</td>\n",
       "      <td>Takoma Park</td>\n",
       "      <td>2.0</td>\n",
       "      <td>F</td>\n",
       "      <td>24</td>\n",
       "      <td>66</td>\n",
       "      <td>USA</td>\n",
       "      <td>BIT</td>\n",
       "      <td>5/1/2022</td>\n",
       "      <td>Windows</td>\n",
       "      <td>Not Working</td>\n",
       "      <td>1.0</td>\n",
       "      <td>1.0</td>\n",
       "      <td>2.0</td>\n",
       "      <td>0</td>\n",
       "      <td>No</td>\n",
       "      <td>To see if it is a field I am interested in pur...</td>\n",
       "    </tr>\n",
       "    <tr>\n",
       "      <th>11</th>\n",
       "      <td>Completed</td>\n",
       "      <td>Virginia</td>\n",
       "      <td>Fairfax</td>\n",
       "      <td>4.0</td>\n",
       "      <td>F</td>\n",
       "      <td>25</td>\n",
       "      <td>66</td>\n",
       "      <td>India</td>\n",
       "      <td>Computer Engineering</td>\n",
       "      <td>5/31/2021</td>\n",
       "      <td>Windows</td>\n",
       "      <td>Not Working</td>\n",
       "      <td>4.0</td>\n",
       "      <td>3.0</td>\n",
       "      <td>4.0</td>\n",
       "      <td>0</td>\n",
       "      <td>Yes</td>\n",
       "      <td>To learn and explore cutting edge data technol...</td>\n",
       "    </tr>\n",
       "    <tr>\n",
       "      <th>12</th>\n",
       "      <td>Completed</td>\n",
       "      <td>Virginia</td>\n",
       "      <td>Chantilly</td>\n",
       "      <td>2.0</td>\n",
       "      <td>M</td>\n",
       "      <td>25</td>\n",
       "      <td>69</td>\n",
       "      <td>Romania</td>\n",
       "      <td>Biology</td>\n",
       "      <td>8/26/2021</td>\n",
       "      <td>MacBook</td>\n",
       "      <td>Part Time</td>\n",
       "      <td>2.0</td>\n",
       "      <td>3.0</td>\n",
       "      <td>3.0</td>\n",
       "      <td>0</td>\n",
       "      <td>Yes</td>\n",
       "      <td>Learn to select the appropriate tools to condu...</td>\n",
       "    </tr>\n",
       "    <tr>\n",
       "      <th>13</th>\n",
       "      <td>Completed</td>\n",
       "      <td>Virginia</td>\n",
       "      <td>Burke</td>\n",
       "      <td>2.0</td>\n",
       "      <td>F</td>\n",
       "      <td>23</td>\n",
       "      <td>66</td>\n",
       "      <td>India</td>\n",
       "      <td>Cse</td>\n",
       "      <td>12/25/2021</td>\n",
       "      <td>Windows</td>\n",
       "      <td>Not Working</td>\n",
       "      <td>3.0</td>\n",
       "      <td>3.0</td>\n",
       "      <td>3.0</td>\n",
       "      <td>0</td>\n",
       "      <td>Yes</td>\n",
       "      <td>NaN</td>\n",
       "    </tr>\n",
       "    <tr>\n",
       "      <th>14</th>\n",
       "      <td>Completed</td>\n",
       "      <td>Maryland</td>\n",
       "      <td>Hyattsville</td>\n",
       "      <td>4.0</td>\n",
       "      <td>F</td>\n",
       "      <td>31</td>\n",
       "      <td>67</td>\n",
       "      <td>China</td>\n",
       "      <td>Management</td>\n",
       "      <td>12/31/2021</td>\n",
       "      <td>Windows</td>\n",
       "      <td>Not Working</td>\n",
       "      <td>3.0</td>\n",
       "      <td>1.0</td>\n",
       "      <td>1.0</td>\n",
       "      <td>0</td>\n",
       "      <td>Yes</td>\n",
       "      <td>improve my skills</td>\n",
       "    </tr>\n",
       "    <tr>\n",
       "      <th>15</th>\n",
       "      <td>Completed</td>\n",
       "      <td>Maryland</td>\n",
       "      <td>Baltimore</td>\n",
       "      <td>4.0</td>\n",
       "      <td>M</td>\n",
       "      <td>26</td>\n",
       "      <td>72</td>\n",
       "      <td>Uzbekistan</td>\n",
       "      <td>Economics with Finance</td>\n",
       "      <td>5/1/2022</td>\n",
       "      <td>Windows</td>\n",
       "      <td>Not Working</td>\n",
       "      <td>2.0</td>\n",
       "      <td>2.0</td>\n",
       "      <td>2.0</td>\n",
       "      <td>0</td>\n",
       "      <td>Yes</td>\n",
       "      <td>My professional goal is to become a Financial ...</td>\n",
       "    </tr>\n",
       "    <tr>\n",
       "      <th>16</th>\n",
       "      <td>Completed</td>\n",
       "      <td>Virginia</td>\n",
       "      <td>Arlington</td>\n",
       "      <td>2.0</td>\n",
       "      <td>M</td>\n",
       "      <td>40</td>\n",
       "      <td>68</td>\n",
       "      <td>USA</td>\n",
       "      <td>Economics</td>\n",
       "      <td>5/31/2022</td>\n",
       "      <td>WindowsMacBook</td>\n",
       "      <td>Full Time</td>\n",
       "      <td>3.0</td>\n",
       "      <td>2.0</td>\n",
       "      <td>2.0</td>\n",
       "      <td>0</td>\n",
       "      <td>Yes</td>\n",
       "      <td>able to compliment my Computational Social Sci...</td>\n",
       "    </tr>\n",
       "    <tr>\n",
       "      <th>17</th>\n",
       "      <td>Completed</td>\n",
       "      <td>Virginia</td>\n",
       "      <td>Springfield</td>\n",
       "      <td>2.0</td>\n",
       "      <td>M</td>\n",
       "      <td>2 3</td>\n",
       "      <td>60</td>\n",
       "      <td>India</td>\n",
       "      <td>Engineering</td>\n",
       "      <td>1/12/2021</td>\n",
       "      <td>Windows</td>\n",
       "      <td>Not Working</td>\n",
       "      <td>4.0</td>\n",
       "      <td>4.0</td>\n",
       "      <td>3.0</td>\n",
       "      <td>0</td>\n",
       "      <td>Yes</td>\n",
       "      <td>To start a company</td>\n",
       "    </tr>\n",
       "    <tr>\n",
       "      <th>18</th>\n",
       "      <td>Completed</td>\n",
       "      <td>Virginia</td>\n",
       "      <td>Woodbridge</td>\n",
       "      <td>4.0</td>\n",
       "      <td>M</td>\n",
       "      <td>25</td>\n",
       "      <td>67</td>\n",
       "      <td>Ethiopia</td>\n",
       "      <td>Accounting and ISOM</td>\n",
       "      <td>12/20/2021</td>\n",
       "      <td>Windows</td>\n",
       "      <td>Not Working</td>\n",
       "      <td>1.0</td>\n",
       "      <td>1.0</td>\n",
       "      <td>3.0</td>\n",
       "      <td>0</td>\n",
       "      <td>Yes</td>\n",
       "      <td>To be able understand and manipulate data to m...</td>\n",
       "    </tr>\n",
       "    <tr>\n",
       "      <th>19</th>\n",
       "      <td>Completed</td>\n",
       "      <td>Virginia</td>\n",
       "      <td>Rustburg</td>\n",
       "      <td>4.0</td>\n",
       "      <td>F</td>\n",
       "      <td>22</td>\n",
       "      <td>67</td>\n",
       "      <td>United States</td>\n",
       "      <td>Statistics</td>\n",
       "      <td>12/20/2021</td>\n",
       "      <td>MacBook</td>\n",
       "      <td>Part Time</td>\n",
       "      <td>2.0</td>\n",
       "      <td>5.0</td>\n",
       "      <td>3.0</td>\n",
       "      <td>0</td>\n",
       "      <td>Not sure</td>\n",
       "      <td>My ultimate goal is to get a job as a sports a...</td>\n",
       "    </tr>\n",
       "    <tr>\n",
       "      <th>20</th>\n",
       "      <td>Completed</td>\n",
       "      <td>Virginia</td>\n",
       "      <td>Fairfax</td>\n",
       "      <td>4.0</td>\n",
       "      <td>M</td>\n",
       "      <td>23</td>\n",
       "      <td>74</td>\n",
       "      <td>United States</td>\n",
       "      <td>Computer Science</td>\n",
       "      <td>5/1/2022</td>\n",
       "      <td>Windows</td>\n",
       "      <td>Full Time</td>\n",
       "      <td>2.0</td>\n",
       "      <td>2.0</td>\n",
       "      <td>2.0</td>\n",
       "      <td>0</td>\n",
       "      <td>Not sure</td>\n",
       "      <td>To understand how to properly interpret and di...</td>\n",
       "    </tr>\n",
       "    <tr>\n",
       "      <th>21</th>\n",
       "      <td>Completed</td>\n",
       "      <td>Virginia</td>\n",
       "      <td>Reston</td>\n",
       "      <td>2.0</td>\n",
       "      <td>F</td>\n",
       "      <td>25</td>\n",
       "      <td>65</td>\n",
       "      <td>India</td>\n",
       "      <td>Computer science</td>\n",
       "      <td>4/16/2022</td>\n",
       "      <td>Windows</td>\n",
       "      <td>Not Working</td>\n",
       "      <td>2.0</td>\n",
       "      <td>1.0</td>\n",
       "      <td>3.0</td>\n",
       "      <td>0</td>\n",
       "      <td>Not sure</td>\n",
       "      <td>After graduating data analytics, I want myself...</td>\n",
       "    </tr>\n",
       "    <tr>\n",
       "      <th>22</th>\n",
       "      <td>Completed</td>\n",
       "      <td>Maryland</td>\n",
       "      <td>Baltimore</td>\n",
       "      <td>4.0</td>\n",
       "      <td>F</td>\n",
       "      <td>22</td>\n",
       "      <td>67</td>\n",
       "      <td>USA</td>\n",
       "      <td>Mathematics &amp; Statistics</td>\n",
       "      <td>12/18/2021</td>\n",
       "      <td>WindowsMacBook</td>\n",
       "      <td>Part Time</td>\n",
       "      <td>2.0</td>\n",
       "      <td>4.0</td>\n",
       "      <td>1.0</td>\n",
       "      <td>1</td>\n",
       "      <td>Not sure</td>\n",
       "      <td>Learning how to appropriately handle large qua...</td>\n",
       "    </tr>\n",
       "    <tr>\n",
       "      <th>23</th>\n",
       "      <td>Completed</td>\n",
       "      <td>NaN</td>\n",
       "      <td>NaN</td>\n",
       "      <td>4.0</td>\n",
       "      <td>M</td>\n",
       "      <td>23</td>\n",
       "      <td>75</td>\n",
       "      <td>Nigeria</td>\n",
       "      <td>Economics</td>\n",
       "      <td>5/14/2021</td>\n",
       "      <td>Windows</td>\n",
       "      <td>Not Working</td>\n",
       "      <td>1.0</td>\n",
       "      <td>1.0</td>\n",
       "      <td>1.0</td>\n",
       "      <td>1</td>\n",
       "      <td>Not sure</td>\n",
       "      <td>To learn and understand the fundamentals and m...</td>\n",
       "    </tr>\n",
       "    <tr>\n",
       "      <th>24</th>\n",
       "      <td>Completed</td>\n",
       "      <td>NaN</td>\n",
       "      <td>NaN</td>\n",
       "      <td>4.0</td>\n",
       "      <td>F</td>\n",
       "      <td>27</td>\n",
       "      <td>67</td>\n",
       "      <td>USA</td>\n",
       "      <td>Systems Engineering</td>\n",
       "      <td>12/19/2022</td>\n",
       "      <td>Windows</td>\n",
       "      <td>Full Time</td>\n",
       "      <td>3.0</td>\n",
       "      <td>3.0</td>\n",
       "      <td>3.0</td>\n",
       "      <td>1</td>\n",
       "      <td>Not sure</td>\n",
       "      <td>The goal is to learn as many programming/stati...</td>\n",
       "    </tr>\n",
       "    <tr>\n",
       "      <th>25</th>\n",
       "      <td>Completed</td>\n",
       "      <td>Virginia</td>\n",
       "      <td>Burke</td>\n",
       "      <td>2.0</td>\n",
       "      <td>M</td>\n",
       "      <td>28</td>\n",
       "      <td>68</td>\n",
       "      <td>Taiwan</td>\n",
       "      <td>Civil engineering</td>\n",
       "      <td>5/30/2021</td>\n",
       "      <td>NaN</td>\n",
       "      <td>Full Time</td>\n",
       "      <td>3.0</td>\n",
       "      <td>2.0</td>\n",
       "      <td>2.0</td>\n",
       "      <td>0</td>\n",
       "      <td>Not sure</td>\n",
       "      <td>Learning analytics tool and being good at them</td>\n",
       "    </tr>\n",
       "    <tr>\n",
       "      <th>26</th>\n",
       "      <td>Completed</td>\n",
       "      <td>Virginia</td>\n",
       "      <td>Fairfax</td>\n",
       "      <td>2.0</td>\n",
       "      <td>M</td>\n",
       "      <td>23</td>\n",
       "      <td>72</td>\n",
       "      <td>India</td>\n",
       "      <td>ECE</td>\n",
       "      <td>12/11/2021</td>\n",
       "      <td>MacBook</td>\n",
       "      <td>Not Working</td>\n",
       "      <td>3.0</td>\n",
       "      <td>4.0</td>\n",
       "      <td>3.0</td>\n",
       "      <td>0</td>\n",
       "      <td>Yes</td>\n",
       "      <td>I want to be as a data analyst</td>\n",
       "    </tr>\n",
       "    <tr>\n",
       "      <th>27</th>\n",
       "      <td>Completed</td>\n",
       "      <td>Virginia</td>\n",
       "      <td>Burke</td>\n",
       "      <td>4.0</td>\n",
       "      <td>M</td>\n",
       "      <td>35</td>\n",
       "      <td>6l</td>\n",
       "      <td>Nigeria</td>\n",
       "      <td>Quantity Surveying</td>\n",
       "      <td>5/24/2023</td>\n",
       "      <td>Windows</td>\n",
       "      <td>Not Working</td>\n",
       "      <td>3.0</td>\n",
       "      <td>4.0</td>\n",
       "      <td>3.0</td>\n",
       "      <td>1</td>\n",
       "      <td>Yes</td>\n",
       "      <td>It is very relevant to my PhD research area an...</td>\n",
       "    </tr>\n",
       "    <tr>\n",
       "      <th>28</th>\n",
       "      <td>Completed</td>\n",
       "      <td>Maryland</td>\n",
       "      <td>Baltimore</td>\n",
       "      <td>4.0</td>\n",
       "      <td>F</td>\n",
       "      <td>27</td>\n",
       "      <td>64</td>\n",
       "      <td>India</td>\n",
       "      <td>Bachelor of Engineering</td>\n",
       "      <td>12/30/2021</td>\n",
       "      <td>Windows</td>\n",
       "      <td>Not Working</td>\n",
       "      <td>3.0</td>\n",
       "      <td>3.0</td>\n",
       "      <td>3.0</td>\n",
       "      <td>1</td>\n",
       "      <td>Yes</td>\n",
       "      <td>Learn how to handle large amount structured an...</td>\n",
       "    </tr>\n",
       "    <tr>\n",
       "      <th>29</th>\n",
       "      <td>Completed</td>\n",
       "      <td>Virginia</td>\n",
       "      <td>Springfield</td>\n",
       "      <td>2.0</td>\n",
       "      <td>M</td>\n",
       "      <td>25</td>\n",
       "      <td>71</td>\n",
       "      <td>India</td>\n",
       "      <td>B.Tech in CS</td>\n",
       "      <td>12/15/2021</td>\n",
       "      <td>MacBook</td>\n",
       "      <td>Not Working</td>\n",
       "      <td>3.0</td>\n",
       "      <td>3.0</td>\n",
       "      <td>4.0</td>\n",
       "      <td>1</td>\n",
       "      <td>Yes</td>\n",
       "      <td>To become a good Data Analyst and work for top...</td>\n",
       "    </tr>\n",
       "    <tr>\n",
       "      <th>30</th>\n",
       "      <td>Completed</td>\n",
       "      <td>Virginia</td>\n",
       "      <td>Lorton</td>\n",
       "      <td>4.0</td>\n",
       "      <td>F</td>\n",
       "      <td>55</td>\n",
       "      <td>56</td>\n",
       "      <td>United States</td>\n",
       "      <td>BS accounting</td>\n",
       "      <td>5/1/2021</td>\n",
       "      <td>Windows</td>\n",
       "      <td>Full Time</td>\n",
       "      <td>1.0</td>\n",
       "      <td>2.0</td>\n",
       "      <td>2.0</td>\n",
       "      <td>1</td>\n",
       "      <td>Yes</td>\n",
       "      <td>Get a better understanding of the granularity ...</td>\n",
       "    </tr>\n",
       "    <tr>\n",
       "      <th>31</th>\n",
       "      <td>Incomplete</td>\n",
       "      <td>Virginia</td>\n",
       "      <td>Burke</td>\n",
       "      <td>2.0</td>\n",
       "      <td>F</td>\n",
       "      <td>23</td>\n",
       "      <td>70</td>\n",
       "      <td>India</td>\n",
       "      <td>Bachelor of engineering</td>\n",
       "      <td>12/21/2021</td>\n",
       "      <td>WindowsMacBook</td>\n",
       "      <td>Not Working</td>\n",
       "      <td>3.0</td>\n",
       "      <td>4.0</td>\n",
       "      <td>4.0</td>\n",
       "      <td>0</td>\n",
       "      <td>Yes</td>\n",
       "      <td>NaN</td>\n",
       "    </tr>\n",
       "    <tr>\n",
       "      <th>32</th>\n",
       "      <td>Completed</td>\n",
       "      <td>Virginia</td>\n",
       "      <td>Falls Church</td>\n",
       "      <td>2.0</td>\n",
       "      <td>M</td>\n",
       "      <td>1993</td>\n",
       "      <td>7O</td>\n",
       "      <td>United States ; Pakistan</td>\n",
       "      <td>Criminology Law and Soci</td>\n",
       "      <td>12/18/2021</td>\n",
       "      <td>Windows</td>\n",
       "      <td>Full Time</td>\n",
       "      <td>3.0</td>\n",
       "      <td>2.0</td>\n",
       "      <td>2.0</td>\n",
       "      <td>0</td>\n",
       "      <td>No</td>\n",
       "      <td>Learn how data analytics works</td>\n",
       "    </tr>\n",
       "    <tr>\n",
       "      <th>33</th>\n",
       "      <td>Completed</td>\n",
       "      <td>NaN</td>\n",
       "      <td>NaN</td>\n",
       "      <td>4.0</td>\n",
       "      <td>M</td>\n",
       "      <td>23</td>\n",
       "      <td>73</td>\n",
       "      <td>USA</td>\n",
       "      <td>Economics</td>\n",
       "      <td>5/15/2022</td>\n",
       "      <td>Windows</td>\n",
       "      <td>Full Time</td>\n",
       "      <td>3.0</td>\n",
       "      <td>3.0</td>\n",
       "      <td>3.0</td>\n",
       "      <td>0</td>\n",
       "      <td>No</td>\n",
       "      <td>Advance my career in data science</td>\n",
       "    </tr>\n",
       "    <tr>\n",
       "      <th>34</th>\n",
       "      <td>Completed</td>\n",
       "      <td>Maryland</td>\n",
       "      <td>Frederick</td>\n",
       "      <td>2.0</td>\n",
       "      <td>M</td>\n",
       "      <td>24</td>\n",
       "      <td>68</td>\n",
       "      <td>Vietnam</td>\n",
       "      <td>Finance</td>\n",
       "      <td>12/12/2022</td>\n",
       "      <td>Windows</td>\n",
       "      <td>Not Working</td>\n",
       "      <td>2.0</td>\n",
       "      <td>2.0</td>\n",
       "      <td>2.0</td>\n",
       "      <td>0</td>\n",
       "      <td>Not sure</td>\n",
       "      <td>Getting a good job</td>\n",
       "    </tr>\n",
       "    <tr>\n",
       "      <th>35</th>\n",
       "      <td>Completed</td>\n",
       "      <td>Virginia</td>\n",
       "      <td>Fairfax</td>\n",
       "      <td>4.0</td>\n",
       "      <td>F</td>\n",
       "      <td>28</td>\n",
       "      <td>66</td>\n",
       "      <td>Uzbekistan</td>\n",
       "      <td>Psychology</td>\n",
       "      <td>12/20/2021</td>\n",
       "      <td>Other</td>\n",
       "      <td>Full Time</td>\n",
       "      <td>2.0</td>\n",
       "      <td>1.0</td>\n",
       "      <td>1.0</td>\n",
       "      <td>0</td>\n",
       "      <td>Not sure</td>\n",
       "      <td>to use the skills at work.</td>\n",
       "    </tr>\n",
       "  </tbody>\n",
       "</table>\n",
       "</div>"
      ],
      "text/plain": [
       "        Status    Region City / Town / District  Section Gender   Age Height  \\\n",
       "0    Completed  Virginia                Fairfax      4.0      F    23     63   \n",
       "1    Completed  Virginia                Fairfax      2.0      F    24     59   \n",
       "2    Completed  Virginia         Greenway Downs      2.0      M    40     70   \n",
       "3    Completed  Virginia            Gainesville      2.0     No    26     66   \n",
       "4    Completed       NaN                    NaN      2.0      M    30     70   \n",
       "5   Incomplete  Virginia                 Reston      2.0      F    25    NaN   \n",
       "6    Completed  Virginia              Arlington      2.0     NB    24     70   \n",
       "7   Incomplete  Virginia                Ashburn      2.0      F    30    5.2   \n",
       "8    Completed  Virginia             Woodbridge      2.0      M    24     71   \n",
       "9   Incomplete     Texas                    NaN      4.0      M    26     71   \n",
       "10   Completed  Maryland            Takoma Park      2.0      F    24     66   \n",
       "11   Completed  Virginia                Fairfax      4.0      F    25     66   \n",
       "12   Completed  Virginia              Chantilly      2.0      M    25     69   \n",
       "13   Completed  Virginia                  Burke      2.0      F    23     66   \n",
       "14   Completed  Maryland            Hyattsville      4.0      F    31     67   \n",
       "15   Completed  Maryland              Baltimore      4.0      M    26     72   \n",
       "16   Completed  Virginia              Arlington      2.0      M    40     68   \n",
       "17   Completed  Virginia            Springfield      2.0      M   2 3     60   \n",
       "18   Completed  Virginia             Woodbridge      4.0      M    25     67   \n",
       "19   Completed  Virginia               Rustburg      4.0      F    22     67   \n",
       "20   Completed  Virginia                Fairfax      4.0      M    23     74   \n",
       "21   Completed  Virginia                 Reston      2.0      F    25     65   \n",
       "22   Completed  Maryland              Baltimore      4.0      F    22     67   \n",
       "23   Completed       NaN                    NaN      4.0      M    23     75   \n",
       "24   Completed       NaN                    NaN      4.0      F    27     67   \n",
       "25   Completed  Virginia                  Burke      2.0      M    28     68   \n",
       "26   Completed  Virginia                Fairfax      2.0      M    23     72   \n",
       "27   Completed  Virginia                  Burke      4.0      M    35     6l   \n",
       "28   Completed  Maryland              Baltimore      4.0      F    27     64   \n",
       "29   Completed  Virginia            Springfield      2.0      M    25     71   \n",
       "30   Completed  Virginia                 Lorton      4.0      F    55     56   \n",
       "31  Incomplete  Virginia                  Burke      2.0      F    23     70   \n",
       "32   Completed  Virginia           Falls Church      2.0      M  1993     7O   \n",
       "33   Completed       NaN                    NaN      4.0      M    23     73   \n",
       "34   Completed  Maryland              Frederick      2.0      M    24     68   \n",
       "35   Completed  Virginia                Fairfax      4.0      F    28     66   \n",
       "\n",
       "                  Citizenship          Undergrad_Degree    GradYear  \\\n",
       "0                      Taiwan                 economics  12/31/2021   \n",
       "1                       India                  Finance     5/1/2021   \n",
       "2                       India     Computer Applications    6/1/2022   \n",
       "3                 South Korea       Business Management  12/31/2021   \n",
       "4                          US                       Yes    1/1/2021   \n",
       "5                         NaN                       NaN         NaN   \n",
       "6                    pakistan                   Finance   7/15/2022   \n",
       "7                         NaN                       NaN         NaN   \n",
       "8                       china                  Economic  12/15/2021   \n",
       "9                 Uzbekistan    Economics with Finance          NaN   \n",
       "10                        USA                       BIT    5/1/2022   \n",
       "11                      India      Computer Engineering   5/31/2021   \n",
       "12                    Romania                   Biology   8/26/2021   \n",
       "13                      India                       Cse  12/25/2021   \n",
       "14                      China                Management  12/31/2021   \n",
       "15                 Uzbekistan    Economics with Finance    5/1/2022   \n",
       "16                        USA                 Economics   5/31/2022   \n",
       "17                     India               Engineering    1/12/2021   \n",
       "18                   Ethiopia       Accounting and ISOM  12/20/2021   \n",
       "19              United States                Statistics  12/20/2021   \n",
       "20             United States          Computer Science     5/1/2022   \n",
       "21                      India         Computer science    4/16/2022   \n",
       "22                        USA  Mathematics & Statistics  12/18/2021   \n",
       "23                   Nigeria                  Economics   5/14/2021   \n",
       "24                        USA       Systems Engineering  12/19/2022   \n",
       "25                     Taiwan         Civil engineering   5/30/2021   \n",
       "26                      India                       ECE  12/11/2021   \n",
       "27                    Nigeria        Quantity Surveying   5/24/2023   \n",
       "28                      India   Bachelor of Engineering  12/30/2021   \n",
       "29                      India              B.Tech in CS  12/15/2021   \n",
       "30              United States             BS accounting    5/1/2021   \n",
       "31                      India   Bachelor of engineering  12/21/2021   \n",
       "32  United States ; Pakistan   Criminology Law and Soci  12/18/2021   \n",
       "33                        USA                 Economics   5/15/2022   \n",
       "34                    Vietnam                   Finance  12/12/2022   \n",
       "35                 Uzbekistan                Psychology  12/20/2021   \n",
       "\n",
       "            Laptop  Employement  Python Skills  R Skills  SQL Skills  GitHub  \\\n",
       "0          MacBook  Not Working            2.0       1.0         2.0       1   \n",
       "1          MacBook    Part Time            3.0       3.0         1.0       1   \n",
       "2          MacBook    Full Time            2.0       1.0         3.0       0   \n",
       "3          Windows  Not Working            3.0       4.0         2.0       0   \n",
       "4          MacBook    Full Time            2.0       2.0         3.0       0   \n",
       "5              NaN          NaN            NaN       NaN         NaN       1   \n",
       "6          Windows    Part Time            3.0       3.0         3.0       0   \n",
       "7              NaN          NaN            NaN       NaN         NaN       1   \n",
       "8          Windows    Full Time            2.0       4.0         3.0       1   \n",
       "9              NaN          NaN            NaN       NaN         NaN       0   \n",
       "10         Windows  Not Working            1.0       1.0         2.0       0   \n",
       "11         Windows  Not Working            4.0       3.0         4.0       0   \n",
       "12         MacBook    Part Time            2.0       3.0         3.0       0   \n",
       "13         Windows  Not Working            3.0       3.0         3.0       0   \n",
       "14         Windows  Not Working            3.0       1.0         1.0       0   \n",
       "15         Windows  Not Working            2.0       2.0         2.0       0   \n",
       "16  WindowsMacBook    Full Time            3.0       2.0         2.0       0   \n",
       "17         Windows  Not Working            4.0       4.0         3.0       0   \n",
       "18         Windows  Not Working            1.0       1.0         3.0       0   \n",
       "19         MacBook    Part Time            2.0       5.0         3.0       0   \n",
       "20         Windows    Full Time            2.0       2.0         2.0       0   \n",
       "21         Windows  Not Working            2.0       1.0         3.0       0   \n",
       "22  WindowsMacBook    Part Time            2.0       4.0         1.0       1   \n",
       "23         Windows  Not Working            1.0       1.0         1.0       1   \n",
       "24         Windows    Full Time            3.0       3.0         3.0       1   \n",
       "25             NaN    Full Time            3.0       2.0         2.0       0   \n",
       "26         MacBook  Not Working            3.0       4.0         3.0       0   \n",
       "27         Windows  Not Working            3.0       4.0         3.0       1   \n",
       "28         Windows  Not Working            3.0       3.0         3.0       1   \n",
       "29         MacBook  Not Working            3.0       3.0         4.0       1   \n",
       "30         Windows    Full Time            1.0       2.0         2.0       1   \n",
       "31  WindowsMacBook  Not Working            3.0       4.0         4.0       0   \n",
       "32         Windows    Full Time            3.0       2.0         2.0       0   \n",
       "33         Windows    Full Time            3.0       3.0         3.0       0   \n",
       "34         Windows  Not Working            2.0       2.0         2.0       0   \n",
       "35           Other    Full Time            2.0       1.0         1.0       0   \n",
       "\n",
       "   Career in DS                                              Goals  \n",
       "0           Yes                                                NaN  \n",
       "1            No                                                NaN  \n",
       "2      Not sure  As part of my work, I have access to a lot of ...  \n",
       "3           Yes                                                NaN  \n",
       "4           Yes                                              Learn  \n",
       "5            No                                                NaN  \n",
       "6            No  To deduce meaningful interpretation for Financ...  \n",
       "7            No                                                NaN  \n",
       "8            No                                                NaN  \n",
       "9            No                                                NaN  \n",
       "10           No  To see if it is a field I am interested in pur...  \n",
       "11          Yes  To learn and explore cutting edge data technol...  \n",
       "12          Yes  Learn to select the appropriate tools to condu...  \n",
       "13          Yes                                                NaN  \n",
       "14          Yes                                  improve my skills  \n",
       "15          Yes  My professional goal is to become a Financial ...  \n",
       "16          Yes  able to compliment my Computational Social Sci...  \n",
       "17          Yes                                To start a company   \n",
       "18          Yes  To be able understand and manipulate data to m...  \n",
       "19     Not sure  My ultimate goal is to get a job as a sports a...  \n",
       "20     Not sure  To understand how to properly interpret and di...  \n",
       "21     Not sure  After graduating data analytics, I want myself...  \n",
       "22     Not sure  Learning how to appropriately handle large qua...  \n",
       "23     Not sure  To learn and understand the fundamentals and m...  \n",
       "24     Not sure  The goal is to learn as many programming/stati...  \n",
       "25     Not sure     Learning analytics tool and being good at them  \n",
       "26          Yes                    I want to be as a data analyst   \n",
       "27          Yes  It is very relevant to my PhD research area an...  \n",
       "28          Yes  Learn how to handle large amount structured an...  \n",
       "29          Yes  To become a good Data Analyst and work for top...  \n",
       "30          Yes  Get a better understanding of the granularity ...  \n",
       "31          Yes                                                NaN  \n",
       "32           No                     Learn how data analytics works  \n",
       "33           No                  Advance my career in data science  \n",
       "34     Not sure                                 Getting a good job  \n",
       "35     Not sure                         to use the skills at work.  "
      ]
     },
     "execution_count": 108,
     "metadata": {},
     "output_type": "execute_result"
    }
   ],
   "source": [
    "df_clean"
   ]
  },
  {
   "cell_type": "markdown",
   "metadata": {},
   "source": [
    "## Handling Missing Values"
   ]
  },
  {
   "cell_type": "markdown",
   "metadata": {},
   "source": [
    "### The 'Region' Column"
   ]
  },
  {
   "cell_type": "code",
   "execution_count": 109,
   "metadata": {},
   "outputs": [
    {
     "data": {
      "text/plain": [
       "Region\n",
       "Virginia    25\n",
       "Maryland     6\n",
       "Texas        1\n",
       "Name: count, dtype: int64"
      ]
     },
     "execution_count": 109,
     "metadata": {},
     "output_type": "execute_result"
    }
   ],
   "source": [
    "df_clean['Region'].value_counts()"
   ]
  },
  {
   "cell_type": "code",
   "execution_count": 110,
   "metadata": {},
   "outputs": [
    {
     "data": {
      "text/plain": [
       "4"
      ]
     },
     "execution_count": 110,
     "metadata": {},
     "output_type": "execute_result"
    }
   ],
   "source": [
    "df_clean['Region'].isnull().sum()"
   ]
  },
  {
   "cell_type": "code",
   "execution_count": 111,
   "metadata": {},
   "outputs": [
    {
     "name": "stdout",
     "output_type": "stream",
     "text": [
      "Total Number of entries: 36\n"
     ]
    }
   ],
   "source": [
    "print('Total Number of entries:', len(df_clean))"
   ]
  },
  {
   "cell_type": "markdown",
   "metadata": {},
   "source": [
    "From this, it can be inferred that 'Virginia' is the most common region, therefore, we can use the mode to replace the missing values within this particular column."
   ]
  },
  {
   "cell_type": "code",
   "execution_count": 112,
   "metadata": {},
   "outputs": [
    {
     "data": {
      "text/plain": [
       "'Virginia'"
      ]
     },
     "execution_count": 112,
     "metadata": {},
     "output_type": "execute_result"
    }
   ],
   "source": [
    "mode_value = df_clean['Region'].mode()[0]\n",
    "mode_value"
   ]
  },
  {
   "cell_type": "code",
   "execution_count": 113,
   "metadata": {},
   "outputs": [],
   "source": [
    "df_clean['Region'] = df_clean['Region'].fillna(mode_value)"
   ]
  },
  {
   "cell_type": "markdown",
   "metadata": {},
   "source": [
    "Check for the missing values now"
   ]
  },
  {
   "cell_type": "code",
   "execution_count": 114,
   "metadata": {},
   "outputs": [
    {
     "data": {
      "text/plain": [
       "0"
      ]
     },
     "execution_count": 114,
     "metadata": {},
     "output_type": "execute_result"
    }
   ],
   "source": [
    "df_clean['Region'].isnull().sum()"
   ]
  },
  {
   "cell_type": "code",
   "execution_count": 115,
   "metadata": {},
   "outputs": [
    {
     "data": {
      "text/plain": [
       "Region\n",
       "Virginia    29\n",
       "Maryland     6\n",
       "Texas        1\n",
       "Name: count, dtype: int64"
      ]
     },
     "execution_count": 115,
     "metadata": {},
     "output_type": "execute_result"
    }
   ],
   "source": [
    "df_clean['Region'].value_counts()"
   ]
  },
  {
   "cell_type": "markdown",
   "metadata": {},
   "source": [
    "### The 'District' Column"
   ]
  },
  {
   "cell_type": "code",
   "execution_count": 1,
   "metadata": {},
   "outputs": [
    {
     "ename": "NameError",
     "evalue": "name 'df_clean' is not defined",
     "output_type": "error",
     "traceback": [
      "\u001b[1;31m---------------------------------------------------------------------------\u001b[0m",
      "\u001b[1;31mNameError\u001b[0m                                 Traceback (most recent call last)",
      "Cell \u001b[1;32mIn[1], line 1\u001b[0m\n\u001b[1;32m----> 1\u001b[0m \u001b[43mdf_clean\u001b[49m[\u001b[38;5;124m'\u001b[39m\u001b[38;5;124mCity / Town / District\u001b[39m\u001b[38;5;124m'\u001b[39m]\u001b[38;5;241m.\u001b[39mvalue_counts()\n",
      "\u001b[1;31mNameError\u001b[0m: name 'df_clean' is not defined"
     ]
    }
   ],
   "source": [
    "df_clean['City / Town / District'].value_counts()"
   ]
  },
  {
   "cell_type": "code",
   "execution_count": 117,
   "metadata": {},
   "outputs": [
    {
     "data": {
      "text/plain": [
       "'Fairfax'"
      ]
     },
     "execution_count": 117,
     "metadata": {},
     "output_type": "execute_result"
    }
   ],
   "source": [
    "mode_district = df_clean['City / Town / District'].mode()[0]\n",
    "mode_district"
   ]
  },
  {
   "cell_type": "markdown",
   "metadata": {},
   "source": [
    "Eventhough this column does not have a value that's substantially larger than others, for simplicity, we can assume that the District is also the most commonly occurring one. But there is a problem with this approach. The City depends on the Region/State, and in some instances, the state is given and the city is not given, so if we use the mode value, there can be discrepancies in the data. Therefore, it would be better to drop this column entirely."
   ]
  },
  {
   "cell_type": "code",
   "execution_count": 118,
   "metadata": {},
   "outputs": [],
   "source": [
    "df_clean = df_clean.drop(columns=['City / Town / District'])"
   ]
  },
  {
   "cell_type": "code",
   "execution_count": 119,
   "metadata": {},
   "outputs": [
    {
     "data": {
      "text/html": [
       "<div>\n",
       "<style scoped>\n",
       "    .dataframe tbody tr th:only-of-type {\n",
       "        vertical-align: middle;\n",
       "    }\n",
       "\n",
       "    .dataframe tbody tr th {\n",
       "        vertical-align: top;\n",
       "    }\n",
       "\n",
       "    .dataframe thead th {\n",
       "        text-align: right;\n",
       "    }\n",
       "</style>\n",
       "<table border=\"1\" class=\"dataframe\">\n",
       "  <thead>\n",
       "    <tr style=\"text-align: right;\">\n",
       "      <th></th>\n",
       "      <th>Status</th>\n",
       "      <th>Region</th>\n",
       "      <th>Section</th>\n",
       "      <th>Gender</th>\n",
       "      <th>Age</th>\n",
       "      <th>Height</th>\n",
       "      <th>Citizenship</th>\n",
       "      <th>Undergrad_Degree</th>\n",
       "      <th>GradYear</th>\n",
       "      <th>Laptop</th>\n",
       "      <th>Employement</th>\n",
       "      <th>Python Skills</th>\n",
       "      <th>R Skills</th>\n",
       "      <th>SQL Skills</th>\n",
       "      <th>GitHub</th>\n",
       "      <th>Career in DS</th>\n",
       "      <th>Goals</th>\n",
       "    </tr>\n",
       "  </thead>\n",
       "  <tbody>\n",
       "    <tr>\n",
       "      <th>0</th>\n",
       "      <td>Completed</td>\n",
       "      <td>Virginia</td>\n",
       "      <td>4.0</td>\n",
       "      <td>F</td>\n",
       "      <td>23</td>\n",
       "      <td>63</td>\n",
       "      <td>Taiwan</td>\n",
       "      <td>economics</td>\n",
       "      <td>12/31/2021</td>\n",
       "      <td>MacBook</td>\n",
       "      <td>Not Working</td>\n",
       "      <td>2.0</td>\n",
       "      <td>1.0</td>\n",
       "      <td>2.0</td>\n",
       "      <td>1</td>\n",
       "      <td>Yes</td>\n",
       "      <td>NaN</td>\n",
       "    </tr>\n",
       "    <tr>\n",
       "      <th>1</th>\n",
       "      <td>Completed</td>\n",
       "      <td>Virginia</td>\n",
       "      <td>2.0</td>\n",
       "      <td>F</td>\n",
       "      <td>24</td>\n",
       "      <td>59</td>\n",
       "      <td>India</td>\n",
       "      <td>Finance</td>\n",
       "      <td>5/1/2021</td>\n",
       "      <td>MacBook</td>\n",
       "      <td>Part Time</td>\n",
       "      <td>3.0</td>\n",
       "      <td>3.0</td>\n",
       "      <td>1.0</td>\n",
       "      <td>1</td>\n",
       "      <td>No</td>\n",
       "      <td>NaN</td>\n",
       "    </tr>\n",
       "    <tr>\n",
       "      <th>2</th>\n",
       "      <td>Completed</td>\n",
       "      <td>Virginia</td>\n",
       "      <td>2.0</td>\n",
       "      <td>M</td>\n",
       "      <td>40</td>\n",
       "      <td>70</td>\n",
       "      <td>India</td>\n",
       "      <td>Computer Applications</td>\n",
       "      <td>6/1/2022</td>\n",
       "      <td>MacBook</td>\n",
       "      <td>Full Time</td>\n",
       "      <td>2.0</td>\n",
       "      <td>1.0</td>\n",
       "      <td>3.0</td>\n",
       "      <td>0</td>\n",
       "      <td>Not sure</td>\n",
       "      <td>As part of my work, I have access to a lot of ...</td>\n",
       "    </tr>\n",
       "    <tr>\n",
       "      <th>3</th>\n",
       "      <td>Completed</td>\n",
       "      <td>Virginia</td>\n",
       "      <td>2.0</td>\n",
       "      <td>No</td>\n",
       "      <td>26</td>\n",
       "      <td>66</td>\n",
       "      <td>South Korea</td>\n",
       "      <td>Business Management</td>\n",
       "      <td>12/31/2021</td>\n",
       "      <td>Windows</td>\n",
       "      <td>Not Working</td>\n",
       "      <td>3.0</td>\n",
       "      <td>4.0</td>\n",
       "      <td>2.0</td>\n",
       "      <td>0</td>\n",
       "      <td>Yes</td>\n",
       "      <td>NaN</td>\n",
       "    </tr>\n",
       "    <tr>\n",
       "      <th>4</th>\n",
       "      <td>Completed</td>\n",
       "      <td>Virginia</td>\n",
       "      <td>2.0</td>\n",
       "      <td>M</td>\n",
       "      <td>30</td>\n",
       "      <td>70</td>\n",
       "      <td>US</td>\n",
       "      <td>Yes</td>\n",
       "      <td>1/1/2021</td>\n",
       "      <td>MacBook</td>\n",
       "      <td>Full Time</td>\n",
       "      <td>2.0</td>\n",
       "      <td>2.0</td>\n",
       "      <td>3.0</td>\n",
       "      <td>0</td>\n",
       "      <td>Yes</td>\n",
       "      <td>Learn</td>\n",
       "    </tr>\n",
       "    <tr>\n",
       "      <th>5</th>\n",
       "      <td>Incomplete</td>\n",
       "      <td>Virginia</td>\n",
       "      <td>2.0</td>\n",
       "      <td>F</td>\n",
       "      <td>25</td>\n",
       "      <td>NaN</td>\n",
       "      <td>NaN</td>\n",
       "      <td>NaN</td>\n",
       "      <td>NaN</td>\n",
       "      <td>NaN</td>\n",
       "      <td>NaN</td>\n",
       "      <td>NaN</td>\n",
       "      <td>NaN</td>\n",
       "      <td>NaN</td>\n",
       "      <td>1</td>\n",
       "      <td>No</td>\n",
       "      <td>NaN</td>\n",
       "    </tr>\n",
       "    <tr>\n",
       "      <th>6</th>\n",
       "      <td>Completed</td>\n",
       "      <td>Virginia</td>\n",
       "      <td>2.0</td>\n",
       "      <td>NB</td>\n",
       "      <td>24</td>\n",
       "      <td>70</td>\n",
       "      <td>pakistan</td>\n",
       "      <td>Finance</td>\n",
       "      <td>7/15/2022</td>\n",
       "      <td>Windows</td>\n",
       "      <td>Part Time</td>\n",
       "      <td>3.0</td>\n",
       "      <td>3.0</td>\n",
       "      <td>3.0</td>\n",
       "      <td>0</td>\n",
       "      <td>No</td>\n",
       "      <td>To deduce meaningful interpretation for Financ...</td>\n",
       "    </tr>\n",
       "    <tr>\n",
       "      <th>7</th>\n",
       "      <td>Incomplete</td>\n",
       "      <td>Virginia</td>\n",
       "      <td>2.0</td>\n",
       "      <td>F</td>\n",
       "      <td>30</td>\n",
       "      <td>5.2</td>\n",
       "      <td>NaN</td>\n",
       "      <td>NaN</td>\n",
       "      <td>NaN</td>\n",
       "      <td>NaN</td>\n",
       "      <td>NaN</td>\n",
       "      <td>NaN</td>\n",
       "      <td>NaN</td>\n",
       "      <td>NaN</td>\n",
       "      <td>1</td>\n",
       "      <td>No</td>\n",
       "      <td>NaN</td>\n",
       "    </tr>\n",
       "    <tr>\n",
       "      <th>8</th>\n",
       "      <td>Completed</td>\n",
       "      <td>Virginia</td>\n",
       "      <td>2.0</td>\n",
       "      <td>M</td>\n",
       "      <td>24</td>\n",
       "      <td>71</td>\n",
       "      <td>china</td>\n",
       "      <td>Economic</td>\n",
       "      <td>12/15/2021</td>\n",
       "      <td>Windows</td>\n",
       "      <td>Full Time</td>\n",
       "      <td>2.0</td>\n",
       "      <td>4.0</td>\n",
       "      <td>3.0</td>\n",
       "      <td>1</td>\n",
       "      <td>No</td>\n",
       "      <td>NaN</td>\n",
       "    </tr>\n",
       "    <tr>\n",
       "      <th>9</th>\n",
       "      <td>Incomplete</td>\n",
       "      <td>Texas</td>\n",
       "      <td>4.0</td>\n",
       "      <td>M</td>\n",
       "      <td>26</td>\n",
       "      <td>71</td>\n",
       "      <td>Uzbekistan</td>\n",
       "      <td>Economics with Finance</td>\n",
       "      <td>NaN</td>\n",
       "      <td>NaN</td>\n",
       "      <td>NaN</td>\n",
       "      <td>NaN</td>\n",
       "      <td>NaN</td>\n",
       "      <td>NaN</td>\n",
       "      <td>0</td>\n",
       "      <td>No</td>\n",
       "      <td>NaN</td>\n",
       "    </tr>\n",
       "  </tbody>\n",
       "</table>\n",
       "</div>"
      ],
      "text/plain": [
       "       Status    Region  Section Gender Age Height  Citizenship  \\\n",
       "0   Completed  Virginia      4.0      F  23     63       Taiwan   \n",
       "1   Completed  Virginia      2.0      F  24     59        India   \n",
       "2   Completed  Virginia      2.0      M  40     70        India   \n",
       "3   Completed  Virginia      2.0     No  26     66  South Korea   \n",
       "4   Completed  Virginia      2.0      M  30     70           US   \n",
       "5  Incomplete  Virginia      2.0      F  25    NaN          NaN   \n",
       "6   Completed  Virginia      2.0     NB  24     70     pakistan   \n",
       "7  Incomplete  Virginia      2.0      F  30    5.2          NaN   \n",
       "8   Completed  Virginia      2.0      M  24     71        china   \n",
       "9  Incomplete     Texas      4.0      M  26     71  Uzbekistan    \n",
       "\n",
       "          Undergrad_Degree    GradYear   Laptop  Employement  Python Skills  \\\n",
       "0                economics  12/31/2021  MacBook  Not Working            2.0   \n",
       "1                 Finance     5/1/2021  MacBook    Part Time            3.0   \n",
       "2    Computer Applications    6/1/2022  MacBook    Full Time            2.0   \n",
       "3      Business Management  12/31/2021  Windows  Not Working            3.0   \n",
       "4                      Yes    1/1/2021  MacBook    Full Time            2.0   \n",
       "5                      NaN         NaN      NaN          NaN            NaN   \n",
       "6                  Finance   7/15/2022  Windows    Part Time            3.0   \n",
       "7                      NaN         NaN      NaN          NaN            NaN   \n",
       "8                 Economic  12/15/2021  Windows    Full Time            2.0   \n",
       "9  Economics with Finance          NaN      NaN          NaN            NaN   \n",
       "\n",
       "   R Skills  SQL Skills  GitHub Career in DS  \\\n",
       "0       1.0         2.0       1          Yes   \n",
       "1       3.0         1.0       1           No   \n",
       "2       1.0         3.0       0     Not sure   \n",
       "3       4.0         2.0       0          Yes   \n",
       "4       2.0         3.0       0          Yes   \n",
       "5       NaN         NaN       1           No   \n",
       "6       3.0         3.0       0           No   \n",
       "7       NaN         NaN       1           No   \n",
       "8       4.0         3.0       1           No   \n",
       "9       NaN         NaN       0           No   \n",
       "\n",
       "                                               Goals  \n",
       "0                                                NaN  \n",
       "1                                                NaN  \n",
       "2  As part of my work, I have access to a lot of ...  \n",
       "3                                                NaN  \n",
       "4                                              Learn  \n",
       "5                                                NaN  \n",
       "6  To deduce meaningful interpretation for Financ...  \n",
       "7                                                NaN  \n",
       "8                                                NaN  \n",
       "9                                                NaN  "
      ]
     },
     "execution_count": 119,
     "metadata": {},
     "output_type": "execute_result"
    }
   ],
   "source": [
    "df_clean.head(10)"
   ]
  },
  {
   "cell_type": "markdown",
   "metadata": {},
   "source": [
    "### The 'Age' Column"
   ]
  },
  {
   "cell_type": "code",
   "execution_count": 120,
   "metadata": {},
   "outputs": [
    {
     "data": {
      "text/plain": [
       "0    23\n",
       "1    24\n",
       "2    40\n",
       "3    26\n",
       "4    30\n",
       "Name: Age, dtype: object"
      ]
     },
     "execution_count": 120,
     "metadata": {},
     "output_type": "execute_result"
    }
   ],
   "source": [
    "df_clean['Age'].head()"
   ]
  },
  {
   "cell_type": "code",
   "execution_count": 121,
   "metadata": {},
   "outputs": [],
   "source": [
    "# Remove whitespaces from the 'Age' column\n",
    "df_clean['Age'] = df_clean['Age'].str.replace(' ', '', regex=True)\n",
    "\n",
    "# Convert the cleaned 'Age' column to integers\n",
    "df_clean['Age'] = pd.to_numeric(df_clean['Age'], errors='coerce')"
   ]
  },
  {
   "cell_type": "code",
   "execution_count": 122,
   "metadata": {},
   "outputs": [
    {
     "data": {
      "text/plain": [
       "0    23\n",
       "1    24\n",
       "2    40\n",
       "3    26\n",
       "4    30\n",
       "Name: Age, dtype: int64"
      ]
     },
     "execution_count": 122,
     "metadata": {},
     "output_type": "execute_result"
    }
   ],
   "source": [
    "df_clean['Age'].head()"
   ]
  },
  {
   "cell_type": "code",
   "execution_count": 123,
   "metadata": {},
   "outputs": [
    {
     "data": {
      "text/plain": [
       "25"
      ]
     },
     "execution_count": 123,
     "metadata": {},
     "output_type": "execute_result"
    }
   ],
   "source": [
    "# for the person who entered '2 3'\n",
    "df_clean['Age'][18]"
   ]
  },
  {
   "cell_type": "code",
   "execution_count": 124,
   "metadata": {},
   "outputs": [],
   "source": [
    "df_clean['Age'] = df_clean['Age'].apply(lambda x: x if x <= 90 else None)\n"
   ]
  },
  {
   "cell_type": "code",
   "execution_count": 125,
   "metadata": {},
   "outputs": [
    {
     "data": {
      "text/plain": [
       "1"
      ]
     },
     "execution_count": 125,
     "metadata": {},
     "output_type": "execute_result"
    }
   ],
   "source": [
    "df_clean['Age'].isnull().sum()"
   ]
  },
  {
   "cell_type": "markdown",
   "metadata": {},
   "source": [
    "Filling with median because of the wide variety of ages in the dataset."
   ]
  },
  {
   "cell_type": "code",
   "execution_count": 126,
   "metadata": {},
   "outputs": [
    {
     "data": {
      "text/plain": [
       "25.0"
      ]
     },
     "execution_count": 126,
     "metadata": {},
     "output_type": "execute_result"
    }
   ],
   "source": [
    "median_age = df_clean['Age'].median()\n",
    "median_age"
   ]
  },
  {
   "cell_type": "code",
   "execution_count": 127,
   "metadata": {},
   "outputs": [],
   "source": [
    "df_clean['Age'] = df_clean['Age'].fillna(median_age).astype(int)"
   ]
  },
  {
   "cell_type": "code",
   "execution_count": 128,
   "metadata": {},
   "outputs": [
    {
     "data": {
      "text/plain": [
       "0"
      ]
     },
     "execution_count": 128,
     "metadata": {},
     "output_type": "execute_result"
    }
   ],
   "source": [
    "df_clean['Age'].isnull().sum()"
   ]
  },
  {
   "cell_type": "code",
   "execution_count": 129,
   "metadata": {},
   "outputs": [
    {
     "data": {
      "text/plain": [
       "0    23\n",
       "1    24\n",
       "2    40\n",
       "3    26\n",
       "4    30\n",
       "Name: Age, dtype: int32"
      ]
     },
     "execution_count": 129,
     "metadata": {},
     "output_type": "execute_result"
    }
   ],
   "source": [
    "df_clean['Age'].head()"
   ]
  },
  {
   "cell_type": "markdown",
   "metadata": {},
   "source": [
    "### The 'Height' Column"
   ]
  },
  {
   "cell_type": "code",
   "execution_count": 130,
   "metadata": {},
   "outputs": [
    {
     "data": {
      "text/plain": [
       "1"
      ]
     },
     "execution_count": 130,
     "metadata": {},
     "output_type": "execute_result"
    }
   ],
   "source": [
    "df_clean['Height'].isnull().sum()"
   ]
  },
  {
   "cell_type": "markdown",
   "metadata": {},
   "source": [
    "Since only one value is missing, and height is a number, therefore, the mean value can be chosen for this."
   ]
  },
  {
   "cell_type": "code",
   "execution_count": 131,
   "metadata": {},
   "outputs": [],
   "source": [
    "df_clean['Height'] = pd.to_numeric(df_clean['Height'], errors='coerce')"
   ]
  },
  {
   "cell_type": "code",
   "execution_count": 132,
   "metadata": {},
   "outputs": [
    {
     "data": {
      "text/plain": [
       "0     63.0\n",
       "1     59.0\n",
       "2     70.0\n",
       "3     66.0\n",
       "4     70.0\n",
       "5      NaN\n",
       "6     70.0\n",
       "7      5.2\n",
       "8     71.0\n",
       "9     71.0\n",
       "10    66.0\n",
       "11    66.0\n",
       "12    69.0\n",
       "13    66.0\n",
       "14    67.0\n",
       "15    72.0\n",
       "16    68.0\n",
       "17    60.0\n",
       "18    67.0\n",
       "19    67.0\n",
       "20    74.0\n",
       "21    65.0\n",
       "22    67.0\n",
       "23    75.0\n",
       "24    67.0\n",
       "25    68.0\n",
       "26    72.0\n",
       "27     NaN\n",
       "28    64.0\n",
       "29    71.0\n",
       "30    56.0\n",
       "31    70.0\n",
       "32     NaN\n",
       "33    73.0\n",
       "34    68.0\n",
       "35    66.0\n",
       "Name: Height, dtype: float64"
      ]
     },
     "execution_count": 132,
     "metadata": {},
     "output_type": "execute_result"
    }
   ],
   "source": [
    "df_clean['Height']"
   ]
  },
  {
   "cell_type": "code",
   "execution_count": 133,
   "metadata": {},
   "outputs": [
    {
     "data": {
      "text/plain": [
       "67.625"
      ]
     },
     "execution_count": 133,
     "metadata": {},
     "output_type": "execute_result"
    }
   ],
   "source": [
    "mean_height = df_clean.loc[df_clean['Height'] != 5.2, 'Height'].mean()\n",
    "mean_height"
   ]
  },
  {
   "cell_type": "code",
   "execution_count": 134,
   "metadata": {},
   "outputs": [],
   "source": [
    "df_clean['Height'] = df_clean['Height'].replace(5.2, mean_height)"
   ]
  },
  {
   "cell_type": "code",
   "execution_count": 135,
   "metadata": {},
   "outputs": [],
   "source": [
    "df_clean['Height'] = df_clean['Height'].fillna(mean_height)\n",
    "df_clean['Height'] = df_clean['Height'].astype(int)"
   ]
  },
  {
   "cell_type": "code",
   "execution_count": 136,
   "metadata": {},
   "outputs": [
    {
     "data": {
      "text/html": [
       "<div>\n",
       "<style scoped>\n",
       "    .dataframe tbody tr th:only-of-type {\n",
       "        vertical-align: middle;\n",
       "    }\n",
       "\n",
       "    .dataframe tbody tr th {\n",
       "        vertical-align: top;\n",
       "    }\n",
       "\n",
       "    .dataframe thead th {\n",
       "        text-align: right;\n",
       "    }\n",
       "</style>\n",
       "<table border=\"1\" class=\"dataframe\">\n",
       "  <thead>\n",
       "    <tr style=\"text-align: right;\">\n",
       "      <th></th>\n",
       "      <th>Status</th>\n",
       "      <th>Region</th>\n",
       "      <th>Section</th>\n",
       "      <th>Gender</th>\n",
       "      <th>Age</th>\n",
       "      <th>Height</th>\n",
       "      <th>Citizenship</th>\n",
       "      <th>Undergrad_Degree</th>\n",
       "      <th>GradYear</th>\n",
       "      <th>Laptop</th>\n",
       "      <th>Employement</th>\n",
       "      <th>Python Skills</th>\n",
       "      <th>R Skills</th>\n",
       "      <th>SQL Skills</th>\n",
       "      <th>GitHub</th>\n",
       "      <th>Career in DS</th>\n",
       "      <th>Goals</th>\n",
       "    </tr>\n",
       "  </thead>\n",
       "  <tbody>\n",
       "    <tr>\n",
       "      <th>0</th>\n",
       "      <td>Completed</td>\n",
       "      <td>Virginia</td>\n",
       "      <td>4.0</td>\n",
       "      <td>F</td>\n",
       "      <td>23</td>\n",
       "      <td>63</td>\n",
       "      <td>Taiwan</td>\n",
       "      <td>economics</td>\n",
       "      <td>12/31/2021</td>\n",
       "      <td>MacBook</td>\n",
       "      <td>Not Working</td>\n",
       "      <td>2.0</td>\n",
       "      <td>1.0</td>\n",
       "      <td>2.0</td>\n",
       "      <td>1</td>\n",
       "      <td>Yes</td>\n",
       "      <td>NaN</td>\n",
       "    </tr>\n",
       "    <tr>\n",
       "      <th>1</th>\n",
       "      <td>Completed</td>\n",
       "      <td>Virginia</td>\n",
       "      <td>2.0</td>\n",
       "      <td>F</td>\n",
       "      <td>24</td>\n",
       "      <td>59</td>\n",
       "      <td>India</td>\n",
       "      <td>Finance</td>\n",
       "      <td>5/1/2021</td>\n",
       "      <td>MacBook</td>\n",
       "      <td>Part Time</td>\n",
       "      <td>3.0</td>\n",
       "      <td>3.0</td>\n",
       "      <td>1.0</td>\n",
       "      <td>1</td>\n",
       "      <td>No</td>\n",
       "      <td>NaN</td>\n",
       "    </tr>\n",
       "    <tr>\n",
       "      <th>2</th>\n",
       "      <td>Completed</td>\n",
       "      <td>Virginia</td>\n",
       "      <td>2.0</td>\n",
       "      <td>M</td>\n",
       "      <td>40</td>\n",
       "      <td>70</td>\n",
       "      <td>India</td>\n",
       "      <td>Computer Applications</td>\n",
       "      <td>6/1/2022</td>\n",
       "      <td>MacBook</td>\n",
       "      <td>Full Time</td>\n",
       "      <td>2.0</td>\n",
       "      <td>1.0</td>\n",
       "      <td>3.0</td>\n",
       "      <td>0</td>\n",
       "      <td>Not sure</td>\n",
       "      <td>As part of my work, I have access to a lot of ...</td>\n",
       "    </tr>\n",
       "    <tr>\n",
       "      <th>3</th>\n",
       "      <td>Completed</td>\n",
       "      <td>Virginia</td>\n",
       "      <td>2.0</td>\n",
       "      <td>No</td>\n",
       "      <td>26</td>\n",
       "      <td>66</td>\n",
       "      <td>South Korea</td>\n",
       "      <td>Business Management</td>\n",
       "      <td>12/31/2021</td>\n",
       "      <td>Windows</td>\n",
       "      <td>Not Working</td>\n",
       "      <td>3.0</td>\n",
       "      <td>4.0</td>\n",
       "      <td>2.0</td>\n",
       "      <td>0</td>\n",
       "      <td>Yes</td>\n",
       "      <td>NaN</td>\n",
       "    </tr>\n",
       "    <tr>\n",
       "      <th>4</th>\n",
       "      <td>Completed</td>\n",
       "      <td>Virginia</td>\n",
       "      <td>2.0</td>\n",
       "      <td>M</td>\n",
       "      <td>30</td>\n",
       "      <td>70</td>\n",
       "      <td>US</td>\n",
       "      <td>Yes</td>\n",
       "      <td>1/1/2021</td>\n",
       "      <td>MacBook</td>\n",
       "      <td>Full Time</td>\n",
       "      <td>2.0</td>\n",
       "      <td>2.0</td>\n",
       "      <td>3.0</td>\n",
       "      <td>0</td>\n",
       "      <td>Yes</td>\n",
       "      <td>Learn</td>\n",
       "    </tr>\n",
       "    <tr>\n",
       "      <th>5</th>\n",
       "      <td>Incomplete</td>\n",
       "      <td>Virginia</td>\n",
       "      <td>2.0</td>\n",
       "      <td>F</td>\n",
       "      <td>25</td>\n",
       "      <td>67</td>\n",
       "      <td>NaN</td>\n",
       "      <td>NaN</td>\n",
       "      <td>NaN</td>\n",
       "      <td>NaN</td>\n",
       "      <td>NaN</td>\n",
       "      <td>NaN</td>\n",
       "      <td>NaN</td>\n",
       "      <td>NaN</td>\n",
       "      <td>1</td>\n",
       "      <td>No</td>\n",
       "      <td>NaN</td>\n",
       "    </tr>\n",
       "    <tr>\n",
       "      <th>6</th>\n",
       "      <td>Completed</td>\n",
       "      <td>Virginia</td>\n",
       "      <td>2.0</td>\n",
       "      <td>NB</td>\n",
       "      <td>24</td>\n",
       "      <td>70</td>\n",
       "      <td>pakistan</td>\n",
       "      <td>Finance</td>\n",
       "      <td>7/15/2022</td>\n",
       "      <td>Windows</td>\n",
       "      <td>Part Time</td>\n",
       "      <td>3.0</td>\n",
       "      <td>3.0</td>\n",
       "      <td>3.0</td>\n",
       "      <td>0</td>\n",
       "      <td>No</td>\n",
       "      <td>To deduce meaningful interpretation for Financ...</td>\n",
       "    </tr>\n",
       "    <tr>\n",
       "      <th>7</th>\n",
       "      <td>Incomplete</td>\n",
       "      <td>Virginia</td>\n",
       "      <td>2.0</td>\n",
       "      <td>F</td>\n",
       "      <td>30</td>\n",
       "      <td>67</td>\n",
       "      <td>NaN</td>\n",
       "      <td>NaN</td>\n",
       "      <td>NaN</td>\n",
       "      <td>NaN</td>\n",
       "      <td>NaN</td>\n",
       "      <td>NaN</td>\n",
       "      <td>NaN</td>\n",
       "      <td>NaN</td>\n",
       "      <td>1</td>\n",
       "      <td>No</td>\n",
       "      <td>NaN</td>\n",
       "    </tr>\n",
       "    <tr>\n",
       "      <th>8</th>\n",
       "      <td>Completed</td>\n",
       "      <td>Virginia</td>\n",
       "      <td>2.0</td>\n",
       "      <td>M</td>\n",
       "      <td>24</td>\n",
       "      <td>71</td>\n",
       "      <td>china</td>\n",
       "      <td>Economic</td>\n",
       "      <td>12/15/2021</td>\n",
       "      <td>Windows</td>\n",
       "      <td>Full Time</td>\n",
       "      <td>2.0</td>\n",
       "      <td>4.0</td>\n",
       "      <td>3.0</td>\n",
       "      <td>1</td>\n",
       "      <td>No</td>\n",
       "      <td>NaN</td>\n",
       "    </tr>\n",
       "    <tr>\n",
       "      <th>9</th>\n",
       "      <td>Incomplete</td>\n",
       "      <td>Texas</td>\n",
       "      <td>4.0</td>\n",
       "      <td>M</td>\n",
       "      <td>26</td>\n",
       "      <td>71</td>\n",
       "      <td>Uzbekistan</td>\n",
       "      <td>Economics with Finance</td>\n",
       "      <td>NaN</td>\n",
       "      <td>NaN</td>\n",
       "      <td>NaN</td>\n",
       "      <td>NaN</td>\n",
       "      <td>NaN</td>\n",
       "      <td>NaN</td>\n",
       "      <td>0</td>\n",
       "      <td>No</td>\n",
       "      <td>NaN</td>\n",
       "    </tr>\n",
       "  </tbody>\n",
       "</table>\n",
       "</div>"
      ],
      "text/plain": [
       "       Status    Region  Section Gender  Age  Height  Citizenship  \\\n",
       "0   Completed  Virginia      4.0      F   23      63       Taiwan   \n",
       "1   Completed  Virginia      2.0      F   24      59        India   \n",
       "2   Completed  Virginia      2.0      M   40      70        India   \n",
       "3   Completed  Virginia      2.0     No   26      66  South Korea   \n",
       "4   Completed  Virginia      2.0      M   30      70           US   \n",
       "5  Incomplete  Virginia      2.0      F   25      67          NaN   \n",
       "6   Completed  Virginia      2.0     NB   24      70     pakistan   \n",
       "7  Incomplete  Virginia      2.0      F   30      67          NaN   \n",
       "8   Completed  Virginia      2.0      M   24      71        china   \n",
       "9  Incomplete     Texas      4.0      M   26      71  Uzbekistan    \n",
       "\n",
       "          Undergrad_Degree    GradYear   Laptop  Employement  Python Skills  \\\n",
       "0                economics  12/31/2021  MacBook  Not Working            2.0   \n",
       "1                 Finance     5/1/2021  MacBook    Part Time            3.0   \n",
       "2    Computer Applications    6/1/2022  MacBook    Full Time            2.0   \n",
       "3      Business Management  12/31/2021  Windows  Not Working            3.0   \n",
       "4                      Yes    1/1/2021  MacBook    Full Time            2.0   \n",
       "5                      NaN         NaN      NaN          NaN            NaN   \n",
       "6                  Finance   7/15/2022  Windows    Part Time            3.0   \n",
       "7                      NaN         NaN      NaN          NaN            NaN   \n",
       "8                 Economic  12/15/2021  Windows    Full Time            2.0   \n",
       "9  Economics with Finance          NaN      NaN          NaN            NaN   \n",
       "\n",
       "   R Skills  SQL Skills  GitHub Career in DS  \\\n",
       "0       1.0         2.0       1          Yes   \n",
       "1       3.0         1.0       1           No   \n",
       "2       1.0         3.0       0     Not sure   \n",
       "3       4.0         2.0       0          Yes   \n",
       "4       2.0         3.0       0          Yes   \n",
       "5       NaN         NaN       1           No   \n",
       "6       3.0         3.0       0           No   \n",
       "7       NaN         NaN       1           No   \n",
       "8       4.0         3.0       1           No   \n",
       "9       NaN         NaN       0           No   \n",
       "\n",
       "                                               Goals  \n",
       "0                                                NaN  \n",
       "1                                                NaN  \n",
       "2  As part of my work, I have access to a lot of ...  \n",
       "3                                                NaN  \n",
       "4                                              Learn  \n",
       "5                                                NaN  \n",
       "6  To deduce meaningful interpretation for Financ...  \n",
       "7                                                NaN  \n",
       "8                                                NaN  \n",
       "9                                                NaN  "
      ]
     },
     "execution_count": 136,
     "metadata": {},
     "output_type": "execute_result"
    }
   ],
   "source": [
    "df_clean.head(10)"
   ]
  },
  {
   "cell_type": "code",
   "execution_count": 137,
   "metadata": {},
   "outputs": [
    {
     "data": {
      "text/plain": [
       "0    63\n",
       "1    59\n",
       "2    70\n",
       "3    66\n",
       "4    70\n",
       "5    67\n",
       "6    70\n",
       "7    67\n",
       "8    71\n",
       "9    71\n",
       "Name: Height, dtype: int32"
      ]
     },
     "execution_count": 137,
     "metadata": {},
     "output_type": "execute_result"
    }
   ],
   "source": [
    "df_clean['Height'].head(10)"
   ]
  },
  {
   "cell_type": "markdown",
   "metadata": {},
   "source": [
    "### The 'Citizenship' Column"
   ]
  },
  {
   "cell_type": "code",
   "execution_count": 138,
   "metadata": {},
   "outputs": [
    {
     "data": {
      "text/plain": [
       "Citizenship\n",
       "India                        9\n",
       "USA                          5\n",
       "Taiwan                       2\n",
       "United States                2\n",
       "Uzbekistan                   2\n",
       "India                        1\n",
       "United States ; Pakistan     1\n",
       "Nigeria                      1\n",
       "Nigeria                      1\n",
       "United States                1\n",
       "Ethiopia                     1\n",
       "China                        1\n",
       "Romania                      1\n",
       "Uzbekistan                   1\n",
       "china                        1\n",
       "pakistan                     1\n",
       "US                           1\n",
       "South Korea                  1\n",
       "Vietnam                      1\n",
       "Name: count, dtype: int64"
      ]
     },
     "execution_count": 138,
     "metadata": {},
     "output_type": "execute_result"
    }
   ],
   "source": [
    "df_clean['Citizenship'].value_counts()"
   ]
  },
  {
   "cell_type": "markdown",
   "metadata": {},
   "source": [
    "There are multiple countries that are being repeated here. So we need to (1) remove the whitespaces, (2) create a mapping to resolve this."
   ]
  },
  {
   "cell_type": "code",
   "execution_count": 139,
   "metadata": {},
   "outputs": [],
   "source": [
    "# uniform cases\n",
    "df_clean['Citizenship'] = df_clean['Citizenship'].str.title()"
   ]
  },
  {
   "cell_type": "code",
   "execution_count": 140,
   "metadata": {},
   "outputs": [],
   "source": [
    "# remove whitespaces\n",
    "df_clean['Citizenship'] = df_clean['Citizenship'].str.strip()\n"
   ]
  },
  {
   "cell_type": "code",
   "execution_count": 141,
   "metadata": {},
   "outputs": [
    {
     "data": {
      "text/plain": [
       "Citizenship\n",
       "India                       10\n",
       "Usa                          5\n",
       "Uzbekistan                   3\n",
       "United States                3\n",
       "Taiwan                       2\n",
       "China                        2\n",
       "Nigeria                      2\n",
       "South Korea                  1\n",
       "Us                           1\n",
       "Pakistan                     1\n",
       "Romania                      1\n",
       "Ethiopia                     1\n",
       "United States ; Pakistan     1\n",
       "Vietnam                      1\n",
       "Name: count, dtype: int64"
      ]
     },
     "execution_count": 141,
     "metadata": {},
     "output_type": "execute_result"
    }
   ],
   "source": [
    "df_clean['Citizenship'].value_counts()"
   ]
  },
  {
   "cell_type": "code",
   "execution_count": 142,
   "metadata": {},
   "outputs": [],
   "source": [
    "mapping = {\n",
    "    'United States': 'USA',\n",
    "    'Us': 'USA',\n",
    "    'Usa': 'USA',\n",
    "    'United States ; Pakistan': 'USA'\n",
    "}"
   ]
  },
  {
   "cell_type": "code",
   "execution_count": 143,
   "metadata": {},
   "outputs": [],
   "source": [
    "# replace with mappings\n",
    "df_clean['Citizenship'] = df_clean['Citizenship'].replace(mapping)"
   ]
  },
  {
   "cell_type": "code",
   "execution_count": 144,
   "metadata": {},
   "outputs": [
    {
     "data": {
      "text/plain": [
       "Citizenship\n",
       "India          10\n",
       "USA            10\n",
       "Uzbekistan      3\n",
       "Taiwan          2\n",
       "China           2\n",
       "Nigeria         2\n",
       "South Korea     1\n",
       "Pakistan        1\n",
       "Romania         1\n",
       "Ethiopia        1\n",
       "Vietnam         1\n",
       "Name: count, dtype: int64"
      ]
     },
     "execution_count": 144,
     "metadata": {},
     "output_type": "execute_result"
    }
   ],
   "source": [
    "df_clean['Citizenship'].value_counts()"
   ]
  },
  {
   "cell_type": "markdown",
   "metadata": {},
   "source": [
    "Now, check for the missing values."
   ]
  },
  {
   "cell_type": "code",
   "execution_count": 145,
   "metadata": {},
   "outputs": [
    {
     "data": {
      "text/plain": [
       "2"
      ]
     },
     "execution_count": 145,
     "metadata": {},
     "output_type": "execute_result"
    }
   ],
   "source": [
    "df_clean['Citizenship'].isnull().sum()"
   ]
  },
  {
   "cell_type": "code",
   "execution_count": 146,
   "metadata": {},
   "outputs": [
    {
     "data": {
      "text/plain": [
       "0    India\n",
       "1      USA\n",
       "Name: Citizenship, dtype: object"
      ]
     },
     "execution_count": 146,
     "metadata": {},
     "output_type": "execute_result"
    }
   ],
   "source": [
    "mode_citizen = df_clean['Citizenship'].mode()\n",
    "mode_citizen"
   ]
  },
  {
   "cell_type": "markdown",
   "metadata": {},
   "source": [
    "Would be better to use the US as the citizenship since this data is from the US."
   ]
  },
  {
   "cell_type": "code",
   "execution_count": 147,
   "metadata": {},
   "outputs": [],
   "source": [
    "df_clean['Citizenship'] = df_clean['Citizenship'].fillna(mode_citizen[1])"
   ]
  },
  {
   "cell_type": "code",
   "execution_count": 148,
   "metadata": {},
   "outputs": [
    {
     "data": {
      "text/plain": [
       "0"
      ]
     },
     "execution_count": 148,
     "metadata": {},
     "output_type": "execute_result"
    }
   ],
   "source": [
    "df_clean['Citizenship'].isnull().sum()"
   ]
  },
  {
   "cell_type": "code",
   "execution_count": 149,
   "metadata": {},
   "outputs": [
    {
     "data": {
      "text/plain": [
       "Citizenship\n",
       "USA            12\n",
       "India          10\n",
       "Uzbekistan      3\n",
       "Taiwan          2\n",
       "China           2\n",
       "Nigeria         2\n",
       "South Korea     1\n",
       "Pakistan        1\n",
       "Romania         1\n",
       "Ethiopia        1\n",
       "Vietnam         1\n",
       "Name: count, dtype: int64"
      ]
     },
     "execution_count": 149,
     "metadata": {},
     "output_type": "execute_result"
    }
   ],
   "source": [
    "df_clean['Citizenship'].value_counts()"
   ]
  },
  {
   "cell_type": "markdown",
   "metadata": {},
   "source": [
    "### The 'Undergrad Degree' Column"
   ]
  },
  {
   "cell_type": "code",
   "execution_count": 150,
   "metadata": {},
   "outputs": [
    {
     "data": {
      "text/plain": [
       "Undergrad_Degree\n",
       "Economics                   3\n",
       "Finance                     2\n",
       "economics                   1\n",
       "Statistics                  1\n",
       "Criminology Law and Soci    1\n",
       "Bachelor of engineering     1\n",
       "BS accounting               1\n",
       "B.Tech in CS                1\n",
       "Bachelor of Engineering     1\n",
       "Quantity Surveying          1\n",
       "ECE                         1\n",
       "Civil engineering           1\n",
       "Systems Engineering         1\n",
       "Mathematics & Statistics    1\n",
       "Computer science            1\n",
       "Computer Science            1\n",
       "Engineering                 1\n",
       "Accounting and ISOM         1\n",
       "Finance                     1\n",
       "Economics with Finance      1\n",
       "Management                  1\n",
       "Cse                         1\n",
       "Biology                     1\n",
       "Computer Engineering        1\n",
       "BIT                         1\n",
       "Economics with Finance      1\n",
       "Economic                    1\n",
       "Yes                         1\n",
       "Business Management         1\n",
       "Computer Applications       1\n",
       "Psychology                  1\n",
       "Name: count, dtype: int64"
      ]
     },
     "execution_count": 150,
     "metadata": {},
     "output_type": "execute_result"
    }
   ],
   "source": [
    "df_clean['Undergrad_Degree'].value_counts()"
   ]
  },
  {
   "cell_type": "code",
   "execution_count": 151,
   "metadata": {},
   "outputs": [],
   "source": [
    "# uniform cases\n",
    "df_clean['Undergrad_Degree'] = df_clean['Undergrad_Degree'].str.title()"
   ]
  },
  {
   "cell_type": "code",
   "execution_count": 152,
   "metadata": {},
   "outputs": [],
   "source": [
    "# uniform cases\n",
    "df_clean['Undergrad_Degree'] = df_clean['Undergrad_Degree'].str.strip()"
   ]
  },
  {
   "cell_type": "code",
   "execution_count": 153,
   "metadata": {},
   "outputs": [
    {
     "data": {
      "text/plain": [
       "Undergrad_Degree\n",
       "Economics                   4\n",
       "Finance                     3\n",
       "Bachelor Of Engineering     2\n",
       "Economics With Finance      2\n",
       "Computer Science            2\n",
       "Statistics                  1\n",
       "Criminology Law And Soci    1\n",
       "Bs Accounting               1\n",
       "B.Tech In Cs                1\n",
       "Quantity Surveying          1\n",
       "Ece                         1\n",
       "Civil Engineering           1\n",
       "Systems Engineering         1\n",
       "Mathematics & Statistics    1\n",
       "Accounting And Isom         1\n",
       "Engineering                 1\n",
       "Management                  1\n",
       "Cse                         1\n",
       "Biology                     1\n",
       "Computer Engineering        1\n",
       "Bit                         1\n",
       "Economic                    1\n",
       "Yes                         1\n",
       "Business Management         1\n",
       "Computer Applications       1\n",
       "Psychology                  1\n",
       "Name: count, dtype: int64"
      ]
     },
     "execution_count": 153,
     "metadata": {},
     "output_type": "execute_result"
    }
   ],
   "source": [
    "df_clean['Undergrad_Degree'].value_counts()"
   ]
  },
  {
   "cell_type": "code",
   "execution_count": 154,
   "metadata": {},
   "outputs": [],
   "source": [
    "def standardize_degree(degree):\n",
    "    if isinstance(degree, str): \n",
    "        if 'Cs' in degree.title(): return 'Computer Science'\n",
    "        elif 'Accounting' in degree.title(): return 'Accounting'\n",
    "        elif 'Economic' in degree.title(): return 'Economics'\n",
    "        elif 'Statistics' in degree.title(): return 'Mathematics'        \n",
    "        elif ('Computer Engineering' in degree.title()) or ('Electrical Engineering' in degree.title()) or ('Ece' in degree.title()): return 'ECE' \n",
    "        elif 'Bachelor Of Engineering' == degree.title(): return 'Engineering'\n",
    "        elif 'Management' in degree.title(): return 'Management'\n",
    "    return degree  \n",
    "\n",
    "\n",
    "df_clean['Undergrad_Degree'] = df_clean['Undergrad_Degree'].apply(standardize_degree)\n"
   ]
  },
  {
   "cell_type": "code",
   "execution_count": 155,
   "metadata": {},
   "outputs": [
    {
     "data": {
      "text/plain": [
       "Undergrad_Degree\n",
       "Economics                   7\n",
       "Computer Science            4\n",
       "Finance                     3\n",
       "Engineering                 3\n",
       "Management                  2\n",
       "ECE                         2\n",
       "Accounting                  2\n",
       "Mathematics                 2\n",
       "Computer Applications       1\n",
       "Yes                         1\n",
       "Bit                         1\n",
       "Biology                     1\n",
       "Systems Engineering         1\n",
       "Civil Engineering           1\n",
       "Quantity Surveying          1\n",
       "Criminology Law And Soci    1\n",
       "Psychology                  1\n",
       "Name: count, dtype: int64"
      ]
     },
     "execution_count": 155,
     "metadata": {},
     "output_type": "execute_result"
    }
   ],
   "source": [
    "df_clean['Undergrad_Degree'].value_counts()"
   ]
  },
  {
   "cell_type": "code",
   "execution_count": 156,
   "metadata": {},
   "outputs": [
    {
     "data": {
      "text/plain": [
       "0                Economics\n",
       "1                  Finance\n",
       "2    Computer Applications\n",
       "3               Management\n",
       "4                      Yes\n",
       "5                      NaN\n",
       "6                  Finance\n",
       "7                      NaN\n",
       "8                Economics\n",
       "9                Economics\n",
       "Name: Undergrad_Degree, dtype: object"
      ]
     },
     "execution_count": 156,
     "metadata": {},
     "output_type": "execute_result"
    }
   ],
   "source": [
    "df_clean['Undergrad_Degree'].head(10)"
   ]
  },
  {
   "cell_type": "markdown",
   "metadata": {},
   "source": [
    "I notice someone answered 'Yes'. So to replace this we can use the mode."
   ]
  },
  {
   "cell_type": "code",
   "execution_count": 157,
   "metadata": {},
   "outputs": [
    {
     "data": {
      "text/plain": [
       "'Economics'"
      ]
     },
     "execution_count": 157,
     "metadata": {},
     "output_type": "execute_result"
    }
   ],
   "source": [
    "mode_degree = df_clean['Undergrad_Degree'].mode()[0]\n",
    "mode_degree"
   ]
  },
  {
   "cell_type": "code",
   "execution_count": 158,
   "metadata": {},
   "outputs": [],
   "source": [
    "df_clean['Undergrad_Degree'] = df_clean['Undergrad_Degree'].replace('Yes', mode_degree)"
   ]
  },
  {
   "cell_type": "code",
   "execution_count": 159,
   "metadata": {},
   "outputs": [
    {
     "data": {
      "text/plain": [
       "2"
      ]
     },
     "execution_count": 159,
     "metadata": {},
     "output_type": "execute_result"
    }
   ],
   "source": [
    "df_clean['Undergrad_Degree'].isnull().sum()"
   ]
  },
  {
   "cell_type": "markdown",
   "metadata": {},
   "source": [
    "Replace the null values with the mode as well."
   ]
  },
  {
   "cell_type": "code",
   "execution_count": 160,
   "metadata": {},
   "outputs": [],
   "source": [
    "df_clean['Undergrad_Degree'] = df_clean['Undergrad_Degree'].fillna(mode_degree)"
   ]
  },
  {
   "cell_type": "code",
   "execution_count": 161,
   "metadata": {},
   "outputs": [
    {
     "data": {
      "text/plain": [
       "0"
      ]
     },
     "execution_count": 161,
     "metadata": {},
     "output_type": "execute_result"
    }
   ],
   "source": [
    "df_clean['Undergrad_Degree'].isnull().sum()"
   ]
  },
  {
   "cell_type": "code",
   "execution_count": 162,
   "metadata": {},
   "outputs": [
    {
     "data": {
      "text/plain": [
       "0                Economics\n",
       "1                  Finance\n",
       "2    Computer Applications\n",
       "3               Management\n",
       "4                Economics\n",
       "5                Economics\n",
       "6                  Finance\n",
       "7                Economics\n",
       "8                Economics\n",
       "9                Economics\n",
       "Name: Undergrad_Degree, dtype: object"
      ]
     },
     "execution_count": 162,
     "metadata": {},
     "output_type": "execute_result"
    }
   ],
   "source": [
    "df_clean['Undergrad_Degree'].head(10)"
   ]
  },
  {
   "cell_type": "markdown",
   "metadata": {},
   "source": [
    "### The 'Graduation Date' Column"
   ]
  },
  {
   "cell_type": "code",
   "execution_count": 163,
   "metadata": {},
   "outputs": [
    {
     "data": {
      "text/plain": [
       "GradYear\n",
       "12/31/2021    3\n",
       "5/1/2022      3\n",
       "12/20/2021    3\n",
       "12/15/2021    2\n",
       "5/1/2021      2\n",
       "12/18/2021    2\n",
       "1/1/2021      1\n",
       "5/14/2021     1\n",
       "5/15/2022     1\n",
       "12/21/2021    1\n",
       "12/30/2021    1\n",
       "5/24/2023     1\n",
       "12/11/2021    1\n",
       "5/30/2021     1\n",
       "12/19/2022    1\n",
       "4/16/2022     1\n",
       "7/15/2022     1\n",
       "1/12/2021     1\n",
       "5/31/2022     1\n",
       "12/25/2021    1\n",
       "8/26/2021     1\n",
       "5/31/2021     1\n",
       "6/1/2022      1\n",
       "12/12/2022    1\n",
       "Name: count, dtype: int64"
      ]
     },
     "execution_count": 163,
     "metadata": {},
     "output_type": "execute_result"
    }
   ],
   "source": [
    "df_clean['GradYear'].value_counts()"
   ]
  },
  {
   "cell_type": "code",
   "execution_count": 164,
   "metadata": {},
   "outputs": [
    {
     "data": {
      "text/plain": [
       "3"
      ]
     },
     "execution_count": 164,
     "metadata": {},
     "output_type": "execute_result"
    }
   ],
   "source": [
    "df_clean['GradYear'].isnull().sum()"
   ]
  },
  {
   "cell_type": "markdown",
   "metadata": {},
   "source": [
    "To make the data more readable, we can remove the dates, and only keep the month and year of graduation."
   ]
  },
  {
   "cell_type": "code",
   "execution_count": 165,
   "metadata": {},
   "outputs": [],
   "source": [
    "# convert to datetime\n",
    "df_clean['GradYear'] = pd.to_datetime(df_clean['GradYear'], format='%m/%d/%Y')\n",
    "# format to mm/yyyy\n",
    "df_clean['GradYear'] = df_clean['GradYear'].dt.strftime('%m/%Y')"
   ]
  },
  {
   "cell_type": "code",
   "execution_count": 166,
   "metadata": {},
   "outputs": [
    {
     "data": {
      "text/plain": [
       "GradYear\n",
       "12/2021    14\n",
       "05/2021     5\n",
       "05/2022     5\n",
       "01/2021     2\n",
       "12/2022     2\n",
       "06/2022     1\n",
       "07/2022     1\n",
       "08/2021     1\n",
       "04/2022     1\n",
       "05/2023     1\n",
       "Name: count, dtype: int64"
      ]
     },
     "execution_count": 166,
     "metadata": {},
     "output_type": "execute_result"
    }
   ],
   "source": [
    "df_clean['GradYear'].value_counts()"
   ]
  },
  {
   "cell_type": "markdown",
   "metadata": {},
   "source": [
    "Now, this looks much more cleaner. We can use the mode now to fill the missing values. The reason for choosing mode is because there's a very large number of people graduating in 12/2021 so it makes sense for the missing three values to be on the same date as well."
   ]
  },
  {
   "cell_type": "code",
   "execution_count": 167,
   "metadata": {},
   "outputs": [
    {
     "data": {
      "text/plain": [
       "'12/2021'"
      ]
     },
     "execution_count": 167,
     "metadata": {},
     "output_type": "execute_result"
    }
   ],
   "source": [
    "mode_date = df_clean['GradYear'].mode()[0]\n",
    "mode_date"
   ]
  },
  {
   "cell_type": "code",
   "execution_count": 168,
   "metadata": {},
   "outputs": [],
   "source": [
    "df_clean['GradYear'] = df_clean['GradYear'].fillna(mode_date)"
   ]
  },
  {
   "cell_type": "code",
   "execution_count": 169,
   "metadata": {},
   "outputs": [
    {
     "data": {
      "text/plain": [
       "GradYear\n",
       "12/2021    17\n",
       "05/2021     5\n",
       "05/2022     5\n",
       "01/2021     2\n",
       "12/2022     2\n",
       "06/2022     1\n",
       "07/2022     1\n",
       "08/2021     1\n",
       "04/2022     1\n",
       "05/2023     1\n",
       "Name: count, dtype: int64"
      ]
     },
     "execution_count": 169,
     "metadata": {},
     "output_type": "execute_result"
    }
   ],
   "source": [
    "df_clean['GradYear'].value_counts()"
   ]
  },
  {
   "cell_type": "code",
   "execution_count": 170,
   "metadata": {},
   "outputs": [
    {
     "data": {
      "text/plain": [
       "0"
      ]
     },
     "execution_count": 170,
     "metadata": {},
     "output_type": "execute_result"
    }
   ],
   "source": [
    "df_clean['GradYear'].isnull().sum()"
   ]
  },
  {
   "cell_type": "markdown",
   "metadata": {},
   "source": [
    "### The 'Laptop' Column"
   ]
  },
  {
   "cell_type": "code",
   "execution_count": 171,
   "metadata": {},
   "outputs": [
    {
     "data": {
      "text/plain": [
       "Laptop\n",
       "Windows           20\n",
       "MacBook            8\n",
       "WindowsMacBook     3\n",
       "Other              1\n",
       "Name: count, dtype: int64"
      ]
     },
     "execution_count": 171,
     "metadata": {},
     "output_type": "execute_result"
    }
   ],
   "source": [
    "df_clean['Laptop'].value_counts()"
   ]
  },
  {
   "cell_type": "markdown",
   "metadata": {},
   "source": [
    "This shows that there are 4 missing values, and one incorrect value 'WindowsMacBook' that should be replaced with 'Both'."
   ]
  },
  {
   "cell_type": "code",
   "execution_count": 172,
   "metadata": {},
   "outputs": [],
   "source": [
    "df_clean['Laptop'] = df_clean['Laptop'].str.strip()"
   ]
  },
  {
   "cell_type": "code",
   "execution_count": 173,
   "metadata": {},
   "outputs": [],
   "source": [
    "# replace WindowsMacBook with Both\n",
    "df_clean['Laptop'] = df_clean['Laptop'].replace('WindowsMacBook', 'Both')"
   ]
  },
  {
   "cell_type": "code",
   "execution_count": 174,
   "metadata": {},
   "outputs": [],
   "source": [
    "# replace '' with NaN\n",
    "df_clean['Laptop'] = df_clean['Laptop'].replace('', None)"
   ]
  },
  {
   "cell_type": "code",
   "execution_count": 175,
   "metadata": {},
   "outputs": [
    {
     "data": {
      "text/plain": [
       "Laptop\n",
       "Windows    20\n",
       "MacBook     8\n",
       "Both        3\n",
       "Other       1\n",
       "Name: count, dtype: int64"
      ]
     },
     "execution_count": 175,
     "metadata": {},
     "output_type": "execute_result"
    }
   ],
   "source": [
    "df_clean['Laptop'].value_counts()"
   ]
  },
  {
   "cell_type": "markdown",
   "metadata": {},
   "source": [
    "Now, we can replace with NaN with mode because here as well 'Windows' is the clear majority so mode is a safe choice."
   ]
  },
  {
   "cell_type": "code",
   "execution_count": 176,
   "metadata": {},
   "outputs": [
    {
     "data": {
      "text/plain": [
       "'Windows'"
      ]
     },
     "execution_count": 176,
     "metadata": {},
     "output_type": "execute_result"
    }
   ],
   "source": [
    "mode_laptop = df_clean['Laptop'].mode()[0]\n",
    "mode_laptop"
   ]
  },
  {
   "cell_type": "code",
   "execution_count": 177,
   "metadata": {},
   "outputs": [],
   "source": [
    "df_clean['Laptop'] = df_clean['Laptop'].fillna(mode_laptop)"
   ]
  },
  {
   "cell_type": "code",
   "execution_count": 178,
   "metadata": {},
   "outputs": [
    {
     "data": {
      "text/plain": [
       "0"
      ]
     },
     "execution_count": 178,
     "metadata": {},
     "output_type": "execute_result"
    }
   ],
   "source": [
    "df_clean['Laptop'].isnull().sum()"
   ]
  },
  {
   "cell_type": "code",
   "execution_count": 179,
   "metadata": {},
   "outputs": [
    {
     "data": {
      "text/plain": [
       "Laptop\n",
       "Windows    24\n",
       "MacBook     8\n",
       "Both        3\n",
       "Other       1\n",
       "Name: count, dtype: int64"
      ]
     },
     "execution_count": 179,
     "metadata": {},
     "output_type": "execute_result"
    }
   ],
   "source": [
    "df_clean['Laptop'].value_counts()"
   ]
  },
  {
   "cell_type": "markdown",
   "metadata": {},
   "source": [
    "### The 'Employement' Column"
   ]
  },
  {
   "cell_type": "code",
   "execution_count": 180,
   "metadata": {},
   "outputs": [
    {
     "data": {
      "text/plain": [
       "Employement\n",
       "Not Working    17\n",
       "Full Time      11\n",
       "Part Time       5\n",
       "Name: count, dtype: int64"
      ]
     },
     "execution_count": 180,
     "metadata": {},
     "output_type": "execute_result"
    }
   ],
   "source": [
    "df_clean['Employement'].value_counts()"
   ]
  },
  {
   "cell_type": "markdown",
   "metadata": {},
   "source": [
    "Replace the '' with None to completely identify the missing values."
   ]
  },
  {
   "cell_type": "code",
   "execution_count": 181,
   "metadata": {},
   "outputs": [],
   "source": [
    "df_clean['Employement'] = df_clean['Employement'].replace('', None)"
   ]
  },
  {
   "cell_type": "code",
   "execution_count": 182,
   "metadata": {},
   "outputs": [
    {
     "data": {
      "text/plain": [
       "Employement\n",
       "Not Working    17\n",
       "Full Time      11\n",
       "Part Time       5\n",
       "Name: count, dtype: int64"
      ]
     },
     "execution_count": 182,
     "metadata": {},
     "output_type": "execute_result"
    }
   ],
   "source": [
    "df_clean['Employement'].value_counts()"
   ]
  },
  {
   "cell_type": "markdown",
   "metadata": {},
   "source": [
    "Now use the mode to fill in the missing values."
   ]
  },
  {
   "cell_type": "code",
   "execution_count": 183,
   "metadata": {},
   "outputs": [
    {
     "data": {
      "text/plain": [
       "'Not Working'"
      ]
     },
     "execution_count": 183,
     "metadata": {},
     "output_type": "execute_result"
    }
   ],
   "source": [
    "median_job = df_clean['Employement'].mode()[0]\n",
    "median_job"
   ]
  },
  {
   "cell_type": "code",
   "execution_count": 184,
   "metadata": {},
   "outputs": [],
   "source": [
    "df_clean['Employement'] = df_clean['Employement'].fillna(median_job)"
   ]
  },
  {
   "cell_type": "code",
   "execution_count": 185,
   "metadata": {},
   "outputs": [
    {
     "data": {
      "text/plain": [
       "0"
      ]
     },
     "execution_count": 185,
     "metadata": {},
     "output_type": "execute_result"
    }
   ],
   "source": [
    "df_clean['Employement'].isnull().sum()"
   ]
  },
  {
   "cell_type": "code",
   "execution_count": 186,
   "metadata": {},
   "outputs": [
    {
     "data": {
      "text/plain": [
       "Employement\n",
       "Not Working    20\n",
       "Full Time      11\n",
       "Part Time       5\n",
       "Name: count, dtype: int64"
      ]
     },
     "execution_count": 186,
     "metadata": {},
     "output_type": "execute_result"
    }
   ],
   "source": [
    "df_clean['Employement'].value_counts()"
   ]
  },
  {
   "cell_type": "markdown",
   "metadata": {},
   "source": [
    "### The 'Python Skills' Column"
   ]
  },
  {
   "cell_type": "code",
   "execution_count": 187,
   "metadata": {},
   "outputs": [
    {
     "data": {
      "text/plain": [
       "Python Skills\n",
       "3.0    15\n",
       "2.0    12\n",
       "1.0     4\n",
       "4.0     2\n",
       "Name: count, dtype: int64"
      ]
     },
     "execution_count": 187,
     "metadata": {},
     "output_type": "execute_result"
    }
   ],
   "source": [
    "df_clean['Python Skills'].value_counts()"
   ]
  },
  {
   "cell_type": "markdown",
   "metadata": {},
   "source": [
    "Replace '' with None, so it's clear that it's a missing value."
   ]
  },
  {
   "cell_type": "code",
   "execution_count": 188,
   "metadata": {},
   "outputs": [],
   "source": [
    "df_clean['Python Skills'] = df_clean['Python Skills'].replace('', None)"
   ]
  },
  {
   "cell_type": "markdown",
   "metadata": {},
   "source": [
    "Now, to fill in the missing values, we can use the median as this is ordinal data with discrete values."
   ]
  },
  {
   "cell_type": "code",
   "execution_count": 189,
   "metadata": {},
   "outputs": [
    {
     "data": {
      "text/plain": [
       "3.0"
      ]
     },
     "execution_count": 189,
     "metadata": {},
     "output_type": "execute_result"
    }
   ],
   "source": [
    "median_skill = df_clean['Python Skills'].median()\n",
    "median_skill"
   ]
  },
  {
   "cell_type": "code",
   "execution_count": 190,
   "metadata": {},
   "outputs": [],
   "source": [
    "df_clean['Python Skills'] = df_clean['Python Skills'].fillna(median_skill).astype(int)"
   ]
  },
  {
   "cell_type": "code",
   "execution_count": 191,
   "metadata": {},
   "outputs": [
    {
     "data": {
      "text/plain": [
       "Python Skills\n",
       "3    18\n",
       "2    12\n",
       "1     4\n",
       "4     2\n",
       "Name: count, dtype: int64"
      ]
     },
     "execution_count": 191,
     "metadata": {},
     "output_type": "execute_result"
    }
   ],
   "source": [
    "df_clean['Python Skills'].value_counts()"
   ]
  },
  {
   "cell_type": "markdown",
   "metadata": {},
   "source": [
    "### The 'R Skills' Column"
   ]
  },
  {
   "cell_type": "markdown",
   "metadata": {},
   "source": [
    "Will follow the same strategy as I did for the Python Skills' column here as well as the data is same."
   ]
  },
  {
   "cell_type": "code",
   "execution_count": 192,
   "metadata": {},
   "outputs": [
    {
     "data": {
      "text/plain": [
       "R Skills\n",
       "3.0    9\n",
       "1.0    8\n",
       "2.0    8\n",
       "4.0    7\n",
       "5.0    1\n",
       "Name: count, dtype: int64"
      ]
     },
     "execution_count": 192,
     "metadata": {},
     "output_type": "execute_result"
    }
   ],
   "source": [
    "df_clean['R Skills'].value_counts()"
   ]
  },
  {
   "cell_type": "code",
   "execution_count": 193,
   "metadata": {},
   "outputs": [],
   "source": [
    "# get rid of '' values\n",
    "df_clean['R Skills'] = df_clean['R Skills'].replace('', None)"
   ]
  },
  {
   "cell_type": "code",
   "execution_count": 194,
   "metadata": {},
   "outputs": [
    {
     "data": {
      "text/plain": [
       "3.0"
      ]
     },
     "execution_count": 194,
     "metadata": {},
     "output_type": "execute_result"
    }
   ],
   "source": [
    "# fill missing values\n",
    "median_R = df_clean['R Skills'].median()\n",
    "median_R"
   ]
  },
  {
   "cell_type": "code",
   "execution_count": 195,
   "metadata": {},
   "outputs": [],
   "source": [
    "df_clean['R Skills'] = df_clean['R Skills'].fillna(median_R).astype(int)"
   ]
  },
  {
   "cell_type": "code",
   "execution_count": 196,
   "metadata": {},
   "outputs": [
    {
     "data": {
      "text/plain": [
       "R Skills\n",
       "3    12\n",
       "1     8\n",
       "2     8\n",
       "4     7\n",
       "5     1\n",
       "Name: count, dtype: int64"
      ]
     },
     "execution_count": 196,
     "metadata": {},
     "output_type": "execute_result"
    }
   ],
   "source": [
    "df_clean['R Skills'].value_counts()"
   ]
  },
  {
   "cell_type": "markdown",
   "metadata": {},
   "source": [
    "### The 'SQL Skills' Column"
   ]
  },
  {
   "cell_type": "markdown",
   "metadata": {},
   "source": [
    "Following the same procedure as Python and R skills columns."
   ]
  },
  {
   "cell_type": "code",
   "execution_count": 197,
   "metadata": {},
   "outputs": [
    {
     "data": {
      "text/plain": [
       "SQL Skills\n",
       "3.0    15\n",
       "2.0    10\n",
       "1.0     5\n",
       "4.0     3\n",
       "Name: count, dtype: int64"
      ]
     },
     "execution_count": 197,
     "metadata": {},
     "output_type": "execute_result"
    }
   ],
   "source": [
    "df_clean['SQL Skills'].value_counts()"
   ]
  },
  {
   "cell_type": "code",
   "execution_count": 198,
   "metadata": {},
   "outputs": [],
   "source": [
    "# get rid of '' values\n",
    "df_clean['SQL Skills'] = df_clean['SQL Skills'].replace('', None)"
   ]
  },
  {
   "cell_type": "code",
   "execution_count": 199,
   "metadata": {},
   "outputs": [
    {
     "data": {
      "text/plain": [
       "3.0"
      ]
     },
     "execution_count": 199,
     "metadata": {},
     "output_type": "execute_result"
    }
   ],
   "source": [
    "# fill missing values\n",
    "median_SQL = df_clean['SQL Skills'].median()\n",
    "median_SQL\n"
   ]
  },
  {
   "cell_type": "code",
   "execution_count": 200,
   "metadata": {},
   "outputs": [],
   "source": [
    "df_clean['SQL Skills'] = df_clean['SQL Skills'].fillna(median_SQL).astype(int)"
   ]
  },
  {
   "cell_type": "code",
   "execution_count": 201,
   "metadata": {},
   "outputs": [
    {
     "data": {
      "text/plain": [
       "SQL Skills\n",
       "3    18\n",
       "2    10\n",
       "1     5\n",
       "4     3\n",
       "Name: count, dtype: int64"
      ]
     },
     "execution_count": 201,
     "metadata": {},
     "output_type": "execute_result"
    }
   ],
   "source": [
    "df_clean['SQL Skills'].value_counts()"
   ]
  },
  {
   "cell_type": "markdown",
   "metadata": {},
   "source": [
    "## Final Cleaned Data"
   ]
  },
  {
   "cell_type": "markdown",
   "metadata": {},
   "source": [
    "All missing values have now been dealt with, except Q15 which contains open-ended text."
   ]
  },
  {
   "cell_type": "code",
   "execution_count": 69,
   "metadata": {},
   "outputs": [
    {
     "ename": "NameError",
     "evalue": "name 'df_clean' is not defined",
     "output_type": "error",
     "traceback": [
      "\u001b[1;31m---------------------------------------------------------------------------\u001b[0m",
      "\u001b[1;31mNameError\u001b[0m                                 Traceback (most recent call last)",
      "Cell \u001b[1;32mIn[69], line 1\u001b[0m\n\u001b[1;32m----> 1\u001b[0m df_clean\u001b[38;5;241m.\u001b[39mhead()\n",
      "\u001b[1;31mNameError\u001b[0m: name 'df_clean' is not defined"
     ]
    }
   ],
   "source": [
    "df_clean.head()"
   ]
  },
  {
   "cell_type": "markdown",
   "metadata": {},
   "source": [
    "Now, we don't need the completed column, so I will drop it."
   ]
  },
  {
   "cell_type": "code",
   "execution_count": 203,
   "metadata": {},
   "outputs": [],
   "source": [
    "df_clean = df_clean.drop(columns='Status')"
   ]
  },
  {
   "cell_type": "code",
   "execution_count": 204,
   "metadata": {},
   "outputs": [
    {
     "data": {
      "text/plain": [
       "Region              0\n",
       "Section             0\n",
       "Gender              0\n",
       "Age                 0\n",
       "Height              0\n",
       "Citizenship         0\n",
       "Undergrad_Degree    0\n",
       "GradYear            0\n",
       "Laptop              0\n",
       "Employement         0\n",
       "Python Skills       0\n",
       "R Skills            0\n",
       "SQL Skills          0\n",
       "GitHub              0\n",
       "Career in DS        0\n",
       "Goals               9\n",
       "dtype: int64"
      ]
     },
     "execution_count": 204,
     "metadata": {},
     "output_type": "execute_result"
    }
   ],
   "source": [
    "df_clean.isnull().sum()"
   ]
  },
  {
   "cell_type": "code",
   "execution_count": 205,
   "metadata": {},
   "outputs": [
    {
     "data": {
      "text/html": [
       "<div>\n",
       "<style scoped>\n",
       "    .dataframe tbody tr th:only-of-type {\n",
       "        vertical-align: middle;\n",
       "    }\n",
       "\n",
       "    .dataframe tbody tr th {\n",
       "        vertical-align: top;\n",
       "    }\n",
       "\n",
       "    .dataframe thead th {\n",
       "        text-align: right;\n",
       "    }\n",
       "</style>\n",
       "<table border=\"1\" class=\"dataframe\">\n",
       "  <thead>\n",
       "    <tr style=\"text-align: right;\">\n",
       "      <th></th>\n",
       "      <th>Region</th>\n",
       "      <th>Section</th>\n",
       "      <th>Gender</th>\n",
       "      <th>Age</th>\n",
       "      <th>Height</th>\n",
       "      <th>Citizenship</th>\n",
       "      <th>Undergrad_Degree</th>\n",
       "      <th>GradYear</th>\n",
       "      <th>Laptop</th>\n",
       "      <th>Employement</th>\n",
       "      <th>Python Skills</th>\n",
       "      <th>R Skills</th>\n",
       "      <th>SQL Skills</th>\n",
       "      <th>GitHub</th>\n",
       "      <th>Career in DS</th>\n",
       "      <th>Goals</th>\n",
       "    </tr>\n",
       "  </thead>\n",
       "  <tbody>\n",
       "    <tr>\n",
       "      <th>0</th>\n",
       "      <td>Virginia</td>\n",
       "      <td>4.0</td>\n",
       "      <td>F</td>\n",
       "      <td>23</td>\n",
       "      <td>63</td>\n",
       "      <td>Taiwan</td>\n",
       "      <td>Economics</td>\n",
       "      <td>12/2021</td>\n",
       "      <td>MacBook</td>\n",
       "      <td>Not Working</td>\n",
       "      <td>2</td>\n",
       "      <td>1</td>\n",
       "      <td>2</td>\n",
       "      <td>1</td>\n",
       "      <td>Yes</td>\n",
       "      <td>NaN</td>\n",
       "    </tr>\n",
       "    <tr>\n",
       "      <th>1</th>\n",
       "      <td>Virginia</td>\n",
       "      <td>2.0</td>\n",
       "      <td>F</td>\n",
       "      <td>24</td>\n",
       "      <td>59</td>\n",
       "      <td>India</td>\n",
       "      <td>Finance</td>\n",
       "      <td>05/2021</td>\n",
       "      <td>MacBook</td>\n",
       "      <td>Part Time</td>\n",
       "      <td>3</td>\n",
       "      <td>3</td>\n",
       "      <td>1</td>\n",
       "      <td>1</td>\n",
       "      <td>No</td>\n",
       "      <td>NaN</td>\n",
       "    </tr>\n",
       "    <tr>\n",
       "      <th>2</th>\n",
       "      <td>Virginia</td>\n",
       "      <td>2.0</td>\n",
       "      <td>M</td>\n",
       "      <td>40</td>\n",
       "      <td>70</td>\n",
       "      <td>India</td>\n",
       "      <td>Computer Applications</td>\n",
       "      <td>06/2022</td>\n",
       "      <td>MacBook</td>\n",
       "      <td>Full Time</td>\n",
       "      <td>2</td>\n",
       "      <td>1</td>\n",
       "      <td>3</td>\n",
       "      <td>0</td>\n",
       "      <td>Not sure</td>\n",
       "      <td>As part of my work, I have access to a lot of ...</td>\n",
       "    </tr>\n",
       "    <tr>\n",
       "      <th>3</th>\n",
       "      <td>Virginia</td>\n",
       "      <td>2.0</td>\n",
       "      <td>No</td>\n",
       "      <td>26</td>\n",
       "      <td>66</td>\n",
       "      <td>South Korea</td>\n",
       "      <td>Management</td>\n",
       "      <td>12/2021</td>\n",
       "      <td>Windows</td>\n",
       "      <td>Not Working</td>\n",
       "      <td>3</td>\n",
       "      <td>4</td>\n",
       "      <td>2</td>\n",
       "      <td>0</td>\n",
       "      <td>Yes</td>\n",
       "      <td>NaN</td>\n",
       "    </tr>\n",
       "    <tr>\n",
       "      <th>4</th>\n",
       "      <td>Virginia</td>\n",
       "      <td>2.0</td>\n",
       "      <td>M</td>\n",
       "      <td>30</td>\n",
       "      <td>70</td>\n",
       "      <td>USA</td>\n",
       "      <td>Economics</td>\n",
       "      <td>01/2021</td>\n",
       "      <td>MacBook</td>\n",
       "      <td>Full Time</td>\n",
       "      <td>2</td>\n",
       "      <td>2</td>\n",
       "      <td>3</td>\n",
       "      <td>0</td>\n",
       "      <td>Yes</td>\n",
       "      <td>Learn</td>\n",
       "    </tr>\n",
       "    <tr>\n",
       "      <th>5</th>\n",
       "      <td>Virginia</td>\n",
       "      <td>2.0</td>\n",
       "      <td>F</td>\n",
       "      <td>25</td>\n",
       "      <td>67</td>\n",
       "      <td>USA</td>\n",
       "      <td>Economics</td>\n",
       "      <td>12/2021</td>\n",
       "      <td>Windows</td>\n",
       "      <td>Not Working</td>\n",
       "      <td>3</td>\n",
       "      <td>3</td>\n",
       "      <td>3</td>\n",
       "      <td>1</td>\n",
       "      <td>No</td>\n",
       "      <td>NaN</td>\n",
       "    </tr>\n",
       "    <tr>\n",
       "      <th>6</th>\n",
       "      <td>Virginia</td>\n",
       "      <td>2.0</td>\n",
       "      <td>NB</td>\n",
       "      <td>24</td>\n",
       "      <td>70</td>\n",
       "      <td>Pakistan</td>\n",
       "      <td>Finance</td>\n",
       "      <td>07/2022</td>\n",
       "      <td>Windows</td>\n",
       "      <td>Part Time</td>\n",
       "      <td>3</td>\n",
       "      <td>3</td>\n",
       "      <td>3</td>\n",
       "      <td>0</td>\n",
       "      <td>No</td>\n",
       "      <td>To deduce meaningful interpretation for Financ...</td>\n",
       "    </tr>\n",
       "    <tr>\n",
       "      <th>7</th>\n",
       "      <td>Virginia</td>\n",
       "      <td>2.0</td>\n",
       "      <td>F</td>\n",
       "      <td>30</td>\n",
       "      <td>67</td>\n",
       "      <td>USA</td>\n",
       "      <td>Economics</td>\n",
       "      <td>12/2021</td>\n",
       "      <td>Windows</td>\n",
       "      <td>Not Working</td>\n",
       "      <td>3</td>\n",
       "      <td>3</td>\n",
       "      <td>3</td>\n",
       "      <td>1</td>\n",
       "      <td>No</td>\n",
       "      <td>NaN</td>\n",
       "    </tr>\n",
       "    <tr>\n",
       "      <th>8</th>\n",
       "      <td>Virginia</td>\n",
       "      <td>2.0</td>\n",
       "      <td>M</td>\n",
       "      <td>24</td>\n",
       "      <td>71</td>\n",
       "      <td>China</td>\n",
       "      <td>Economics</td>\n",
       "      <td>12/2021</td>\n",
       "      <td>Windows</td>\n",
       "      <td>Full Time</td>\n",
       "      <td>2</td>\n",
       "      <td>4</td>\n",
       "      <td>3</td>\n",
       "      <td>1</td>\n",
       "      <td>No</td>\n",
       "      <td>NaN</td>\n",
       "    </tr>\n",
       "    <tr>\n",
       "      <th>9</th>\n",
       "      <td>Texas</td>\n",
       "      <td>4.0</td>\n",
       "      <td>M</td>\n",
       "      <td>26</td>\n",
       "      <td>71</td>\n",
       "      <td>Uzbekistan</td>\n",
       "      <td>Economics</td>\n",
       "      <td>12/2021</td>\n",
       "      <td>Windows</td>\n",
       "      <td>Not Working</td>\n",
       "      <td>3</td>\n",
       "      <td>3</td>\n",
       "      <td>3</td>\n",
       "      <td>0</td>\n",
       "      <td>No</td>\n",
       "      <td>NaN</td>\n",
       "    </tr>\n",
       "    <tr>\n",
       "      <th>10</th>\n",
       "      <td>Maryland</td>\n",
       "      <td>2.0</td>\n",
       "      <td>F</td>\n",
       "      <td>24</td>\n",
       "      <td>66</td>\n",
       "      <td>USA</td>\n",
       "      <td>Bit</td>\n",
       "      <td>05/2022</td>\n",
       "      <td>Windows</td>\n",
       "      <td>Not Working</td>\n",
       "      <td>1</td>\n",
       "      <td>1</td>\n",
       "      <td>2</td>\n",
       "      <td>0</td>\n",
       "      <td>No</td>\n",
       "      <td>To see if it is a field I am interested in pur...</td>\n",
       "    </tr>\n",
       "    <tr>\n",
       "      <th>11</th>\n",
       "      <td>Virginia</td>\n",
       "      <td>4.0</td>\n",
       "      <td>F</td>\n",
       "      <td>25</td>\n",
       "      <td>66</td>\n",
       "      <td>India</td>\n",
       "      <td>ECE</td>\n",
       "      <td>05/2021</td>\n",
       "      <td>Windows</td>\n",
       "      <td>Not Working</td>\n",
       "      <td>4</td>\n",
       "      <td>3</td>\n",
       "      <td>4</td>\n",
       "      <td>0</td>\n",
       "      <td>Yes</td>\n",
       "      <td>To learn and explore cutting edge data technol...</td>\n",
       "    </tr>\n",
       "    <tr>\n",
       "      <th>12</th>\n",
       "      <td>Virginia</td>\n",
       "      <td>2.0</td>\n",
       "      <td>M</td>\n",
       "      <td>25</td>\n",
       "      <td>69</td>\n",
       "      <td>Romania</td>\n",
       "      <td>Biology</td>\n",
       "      <td>08/2021</td>\n",
       "      <td>MacBook</td>\n",
       "      <td>Part Time</td>\n",
       "      <td>2</td>\n",
       "      <td>3</td>\n",
       "      <td>3</td>\n",
       "      <td>0</td>\n",
       "      <td>Yes</td>\n",
       "      <td>Learn to select the appropriate tools to condu...</td>\n",
       "    </tr>\n",
       "    <tr>\n",
       "      <th>13</th>\n",
       "      <td>Virginia</td>\n",
       "      <td>2.0</td>\n",
       "      <td>F</td>\n",
       "      <td>23</td>\n",
       "      <td>66</td>\n",
       "      <td>India</td>\n",
       "      <td>Computer Science</td>\n",
       "      <td>12/2021</td>\n",
       "      <td>Windows</td>\n",
       "      <td>Not Working</td>\n",
       "      <td>3</td>\n",
       "      <td>3</td>\n",
       "      <td>3</td>\n",
       "      <td>0</td>\n",
       "      <td>Yes</td>\n",
       "      <td>NaN</td>\n",
       "    </tr>\n",
       "    <tr>\n",
       "      <th>14</th>\n",
       "      <td>Maryland</td>\n",
       "      <td>4.0</td>\n",
       "      <td>F</td>\n",
       "      <td>31</td>\n",
       "      <td>67</td>\n",
       "      <td>China</td>\n",
       "      <td>Management</td>\n",
       "      <td>12/2021</td>\n",
       "      <td>Windows</td>\n",
       "      <td>Not Working</td>\n",
       "      <td>3</td>\n",
       "      <td>1</td>\n",
       "      <td>1</td>\n",
       "      <td>0</td>\n",
       "      <td>Yes</td>\n",
       "      <td>improve my skills</td>\n",
       "    </tr>\n",
       "    <tr>\n",
       "      <th>15</th>\n",
       "      <td>Maryland</td>\n",
       "      <td>4.0</td>\n",
       "      <td>M</td>\n",
       "      <td>26</td>\n",
       "      <td>72</td>\n",
       "      <td>Uzbekistan</td>\n",
       "      <td>Economics</td>\n",
       "      <td>05/2022</td>\n",
       "      <td>Windows</td>\n",
       "      <td>Not Working</td>\n",
       "      <td>2</td>\n",
       "      <td>2</td>\n",
       "      <td>2</td>\n",
       "      <td>0</td>\n",
       "      <td>Yes</td>\n",
       "      <td>My professional goal is to become a Financial ...</td>\n",
       "    </tr>\n",
       "    <tr>\n",
       "      <th>16</th>\n",
       "      <td>Virginia</td>\n",
       "      <td>2.0</td>\n",
       "      <td>M</td>\n",
       "      <td>40</td>\n",
       "      <td>68</td>\n",
       "      <td>USA</td>\n",
       "      <td>Economics</td>\n",
       "      <td>05/2022</td>\n",
       "      <td>Both</td>\n",
       "      <td>Full Time</td>\n",
       "      <td>3</td>\n",
       "      <td>2</td>\n",
       "      <td>2</td>\n",
       "      <td>0</td>\n",
       "      <td>Yes</td>\n",
       "      <td>able to compliment my Computational Social Sci...</td>\n",
       "    </tr>\n",
       "    <tr>\n",
       "      <th>17</th>\n",
       "      <td>Virginia</td>\n",
       "      <td>2.0</td>\n",
       "      <td>M</td>\n",
       "      <td>23</td>\n",
       "      <td>60</td>\n",
       "      <td>India</td>\n",
       "      <td>Engineering</td>\n",
       "      <td>01/2021</td>\n",
       "      <td>Windows</td>\n",
       "      <td>Not Working</td>\n",
       "      <td>4</td>\n",
       "      <td>4</td>\n",
       "      <td>3</td>\n",
       "      <td>0</td>\n",
       "      <td>Yes</td>\n",
       "      <td>To start a company</td>\n",
       "    </tr>\n",
       "    <tr>\n",
       "      <th>18</th>\n",
       "      <td>Virginia</td>\n",
       "      <td>4.0</td>\n",
       "      <td>M</td>\n",
       "      <td>25</td>\n",
       "      <td>67</td>\n",
       "      <td>Ethiopia</td>\n",
       "      <td>Accounting</td>\n",
       "      <td>12/2021</td>\n",
       "      <td>Windows</td>\n",
       "      <td>Not Working</td>\n",
       "      <td>1</td>\n",
       "      <td>1</td>\n",
       "      <td>3</td>\n",
       "      <td>0</td>\n",
       "      <td>Yes</td>\n",
       "      <td>To be able understand and manipulate data to m...</td>\n",
       "    </tr>\n",
       "    <tr>\n",
       "      <th>19</th>\n",
       "      <td>Virginia</td>\n",
       "      <td>4.0</td>\n",
       "      <td>F</td>\n",
       "      <td>22</td>\n",
       "      <td>67</td>\n",
       "      <td>USA</td>\n",
       "      <td>Mathematics</td>\n",
       "      <td>12/2021</td>\n",
       "      <td>MacBook</td>\n",
       "      <td>Part Time</td>\n",
       "      <td>2</td>\n",
       "      <td>5</td>\n",
       "      <td>3</td>\n",
       "      <td>0</td>\n",
       "      <td>Not sure</td>\n",
       "      <td>My ultimate goal is to get a job as a sports a...</td>\n",
       "    </tr>\n",
       "    <tr>\n",
       "      <th>20</th>\n",
       "      <td>Virginia</td>\n",
       "      <td>4.0</td>\n",
       "      <td>M</td>\n",
       "      <td>23</td>\n",
       "      <td>74</td>\n",
       "      <td>USA</td>\n",
       "      <td>Computer Science</td>\n",
       "      <td>05/2022</td>\n",
       "      <td>Windows</td>\n",
       "      <td>Full Time</td>\n",
       "      <td>2</td>\n",
       "      <td>2</td>\n",
       "      <td>2</td>\n",
       "      <td>0</td>\n",
       "      <td>Not sure</td>\n",
       "      <td>To understand how to properly interpret and di...</td>\n",
       "    </tr>\n",
       "    <tr>\n",
       "      <th>21</th>\n",
       "      <td>Virginia</td>\n",
       "      <td>2.0</td>\n",
       "      <td>F</td>\n",
       "      <td>25</td>\n",
       "      <td>65</td>\n",
       "      <td>India</td>\n",
       "      <td>Computer Science</td>\n",
       "      <td>04/2022</td>\n",
       "      <td>Windows</td>\n",
       "      <td>Not Working</td>\n",
       "      <td>2</td>\n",
       "      <td>1</td>\n",
       "      <td>3</td>\n",
       "      <td>0</td>\n",
       "      <td>Not sure</td>\n",
       "      <td>After graduating data analytics, I want myself...</td>\n",
       "    </tr>\n",
       "    <tr>\n",
       "      <th>22</th>\n",
       "      <td>Maryland</td>\n",
       "      <td>4.0</td>\n",
       "      <td>F</td>\n",
       "      <td>22</td>\n",
       "      <td>67</td>\n",
       "      <td>USA</td>\n",
       "      <td>Mathematics</td>\n",
       "      <td>12/2021</td>\n",
       "      <td>Both</td>\n",
       "      <td>Part Time</td>\n",
       "      <td>2</td>\n",
       "      <td>4</td>\n",
       "      <td>1</td>\n",
       "      <td>1</td>\n",
       "      <td>Not sure</td>\n",
       "      <td>Learning how to appropriately handle large qua...</td>\n",
       "    </tr>\n",
       "    <tr>\n",
       "      <th>23</th>\n",
       "      <td>Virginia</td>\n",
       "      <td>4.0</td>\n",
       "      <td>M</td>\n",
       "      <td>23</td>\n",
       "      <td>75</td>\n",
       "      <td>Nigeria</td>\n",
       "      <td>Economics</td>\n",
       "      <td>05/2021</td>\n",
       "      <td>Windows</td>\n",
       "      <td>Not Working</td>\n",
       "      <td>1</td>\n",
       "      <td>1</td>\n",
       "      <td>1</td>\n",
       "      <td>1</td>\n",
       "      <td>Not sure</td>\n",
       "      <td>To learn and understand the fundamentals and m...</td>\n",
       "    </tr>\n",
       "    <tr>\n",
       "      <th>24</th>\n",
       "      <td>Virginia</td>\n",
       "      <td>4.0</td>\n",
       "      <td>F</td>\n",
       "      <td>27</td>\n",
       "      <td>67</td>\n",
       "      <td>USA</td>\n",
       "      <td>Systems Engineering</td>\n",
       "      <td>12/2022</td>\n",
       "      <td>Windows</td>\n",
       "      <td>Full Time</td>\n",
       "      <td>3</td>\n",
       "      <td>3</td>\n",
       "      <td>3</td>\n",
       "      <td>1</td>\n",
       "      <td>Not sure</td>\n",
       "      <td>The goal is to learn as many programming/stati...</td>\n",
       "    </tr>\n",
       "    <tr>\n",
       "      <th>25</th>\n",
       "      <td>Virginia</td>\n",
       "      <td>2.0</td>\n",
       "      <td>M</td>\n",
       "      <td>28</td>\n",
       "      <td>68</td>\n",
       "      <td>Taiwan</td>\n",
       "      <td>Civil Engineering</td>\n",
       "      <td>05/2021</td>\n",
       "      <td>Windows</td>\n",
       "      <td>Full Time</td>\n",
       "      <td>3</td>\n",
       "      <td>2</td>\n",
       "      <td>2</td>\n",
       "      <td>0</td>\n",
       "      <td>Not sure</td>\n",
       "      <td>Learning analytics tool and being good at them</td>\n",
       "    </tr>\n",
       "    <tr>\n",
       "      <th>26</th>\n",
       "      <td>Virginia</td>\n",
       "      <td>2.0</td>\n",
       "      <td>M</td>\n",
       "      <td>23</td>\n",
       "      <td>72</td>\n",
       "      <td>India</td>\n",
       "      <td>ECE</td>\n",
       "      <td>12/2021</td>\n",
       "      <td>MacBook</td>\n",
       "      <td>Not Working</td>\n",
       "      <td>3</td>\n",
       "      <td>4</td>\n",
       "      <td>3</td>\n",
       "      <td>0</td>\n",
       "      <td>Yes</td>\n",
       "      <td>I want to be as a data analyst</td>\n",
       "    </tr>\n",
       "    <tr>\n",
       "      <th>27</th>\n",
       "      <td>Virginia</td>\n",
       "      <td>4.0</td>\n",
       "      <td>M</td>\n",
       "      <td>35</td>\n",
       "      <td>67</td>\n",
       "      <td>Nigeria</td>\n",
       "      <td>Quantity Surveying</td>\n",
       "      <td>05/2023</td>\n",
       "      <td>Windows</td>\n",
       "      <td>Not Working</td>\n",
       "      <td>3</td>\n",
       "      <td>4</td>\n",
       "      <td>3</td>\n",
       "      <td>1</td>\n",
       "      <td>Yes</td>\n",
       "      <td>It is very relevant to my PhD research area an...</td>\n",
       "    </tr>\n",
       "    <tr>\n",
       "      <th>28</th>\n",
       "      <td>Maryland</td>\n",
       "      <td>4.0</td>\n",
       "      <td>F</td>\n",
       "      <td>27</td>\n",
       "      <td>64</td>\n",
       "      <td>India</td>\n",
       "      <td>Engineering</td>\n",
       "      <td>12/2021</td>\n",
       "      <td>Windows</td>\n",
       "      <td>Not Working</td>\n",
       "      <td>3</td>\n",
       "      <td>3</td>\n",
       "      <td>3</td>\n",
       "      <td>1</td>\n",
       "      <td>Yes</td>\n",
       "      <td>Learn how to handle large amount structured an...</td>\n",
       "    </tr>\n",
       "    <tr>\n",
       "      <th>29</th>\n",
       "      <td>Virginia</td>\n",
       "      <td>2.0</td>\n",
       "      <td>M</td>\n",
       "      <td>25</td>\n",
       "      <td>71</td>\n",
       "      <td>India</td>\n",
       "      <td>Computer Science</td>\n",
       "      <td>12/2021</td>\n",
       "      <td>MacBook</td>\n",
       "      <td>Not Working</td>\n",
       "      <td>3</td>\n",
       "      <td>3</td>\n",
       "      <td>4</td>\n",
       "      <td>1</td>\n",
       "      <td>Yes</td>\n",
       "      <td>To become a good Data Analyst and work for top...</td>\n",
       "    </tr>\n",
       "    <tr>\n",
       "      <th>30</th>\n",
       "      <td>Virginia</td>\n",
       "      <td>4.0</td>\n",
       "      <td>F</td>\n",
       "      <td>55</td>\n",
       "      <td>56</td>\n",
       "      <td>USA</td>\n",
       "      <td>Accounting</td>\n",
       "      <td>05/2021</td>\n",
       "      <td>Windows</td>\n",
       "      <td>Full Time</td>\n",
       "      <td>1</td>\n",
       "      <td>2</td>\n",
       "      <td>2</td>\n",
       "      <td>1</td>\n",
       "      <td>Yes</td>\n",
       "      <td>Get a better understanding of the granularity ...</td>\n",
       "    </tr>\n",
       "    <tr>\n",
       "      <th>31</th>\n",
       "      <td>Virginia</td>\n",
       "      <td>2.0</td>\n",
       "      <td>F</td>\n",
       "      <td>23</td>\n",
       "      <td>70</td>\n",
       "      <td>India</td>\n",
       "      <td>Engineering</td>\n",
       "      <td>12/2021</td>\n",
       "      <td>Both</td>\n",
       "      <td>Not Working</td>\n",
       "      <td>3</td>\n",
       "      <td>4</td>\n",
       "      <td>4</td>\n",
       "      <td>0</td>\n",
       "      <td>Yes</td>\n",
       "      <td>NaN</td>\n",
       "    </tr>\n",
       "    <tr>\n",
       "      <th>32</th>\n",
       "      <td>Virginia</td>\n",
       "      <td>2.0</td>\n",
       "      <td>M</td>\n",
       "      <td>25</td>\n",
       "      <td>67</td>\n",
       "      <td>USA</td>\n",
       "      <td>Criminology Law And Soci</td>\n",
       "      <td>12/2021</td>\n",
       "      <td>Windows</td>\n",
       "      <td>Full Time</td>\n",
       "      <td>3</td>\n",
       "      <td>2</td>\n",
       "      <td>2</td>\n",
       "      <td>0</td>\n",
       "      <td>No</td>\n",
       "      <td>Learn how data analytics works</td>\n",
       "    </tr>\n",
       "    <tr>\n",
       "      <th>33</th>\n",
       "      <td>Virginia</td>\n",
       "      <td>4.0</td>\n",
       "      <td>M</td>\n",
       "      <td>23</td>\n",
       "      <td>73</td>\n",
       "      <td>USA</td>\n",
       "      <td>Economics</td>\n",
       "      <td>05/2022</td>\n",
       "      <td>Windows</td>\n",
       "      <td>Full Time</td>\n",
       "      <td>3</td>\n",
       "      <td>3</td>\n",
       "      <td>3</td>\n",
       "      <td>0</td>\n",
       "      <td>No</td>\n",
       "      <td>Advance my career in data science</td>\n",
       "    </tr>\n",
       "    <tr>\n",
       "      <th>34</th>\n",
       "      <td>Maryland</td>\n",
       "      <td>2.0</td>\n",
       "      <td>M</td>\n",
       "      <td>24</td>\n",
       "      <td>68</td>\n",
       "      <td>Vietnam</td>\n",
       "      <td>Finance</td>\n",
       "      <td>12/2022</td>\n",
       "      <td>Windows</td>\n",
       "      <td>Not Working</td>\n",
       "      <td>2</td>\n",
       "      <td>2</td>\n",
       "      <td>2</td>\n",
       "      <td>0</td>\n",
       "      <td>Not sure</td>\n",
       "      <td>Getting a good job</td>\n",
       "    </tr>\n",
       "    <tr>\n",
       "      <th>35</th>\n",
       "      <td>Virginia</td>\n",
       "      <td>4.0</td>\n",
       "      <td>F</td>\n",
       "      <td>28</td>\n",
       "      <td>66</td>\n",
       "      <td>Uzbekistan</td>\n",
       "      <td>Psychology</td>\n",
       "      <td>12/2021</td>\n",
       "      <td>Other</td>\n",
       "      <td>Full Time</td>\n",
       "      <td>2</td>\n",
       "      <td>1</td>\n",
       "      <td>1</td>\n",
       "      <td>0</td>\n",
       "      <td>Not sure</td>\n",
       "      <td>to use the skills at work.</td>\n",
       "    </tr>\n",
       "  </tbody>\n",
       "</table>\n",
       "</div>"
      ],
      "text/plain": [
       "      Region  Section Gender  Age  Height  Citizenship  \\\n",
       "0   Virginia      4.0      F   23      63       Taiwan   \n",
       "1   Virginia      2.0      F   24      59        India   \n",
       "2   Virginia      2.0      M   40      70        India   \n",
       "3   Virginia      2.0     No   26      66  South Korea   \n",
       "4   Virginia      2.0      M   30      70          USA   \n",
       "5   Virginia      2.0      F   25      67          USA   \n",
       "6   Virginia      2.0     NB   24      70     Pakistan   \n",
       "7   Virginia      2.0      F   30      67          USA   \n",
       "8   Virginia      2.0      M   24      71        China   \n",
       "9      Texas      4.0      M   26      71   Uzbekistan   \n",
       "10  Maryland      2.0      F   24      66          USA   \n",
       "11  Virginia      4.0      F   25      66        India   \n",
       "12  Virginia      2.0      M   25      69      Romania   \n",
       "13  Virginia      2.0      F   23      66        India   \n",
       "14  Maryland      4.0      F   31      67        China   \n",
       "15  Maryland      4.0      M   26      72   Uzbekistan   \n",
       "16  Virginia      2.0      M   40      68          USA   \n",
       "17  Virginia      2.0      M   23      60        India   \n",
       "18  Virginia      4.0      M   25      67     Ethiopia   \n",
       "19  Virginia      4.0      F   22      67          USA   \n",
       "20  Virginia      4.0      M   23      74          USA   \n",
       "21  Virginia      2.0      F   25      65        India   \n",
       "22  Maryland      4.0      F   22      67          USA   \n",
       "23  Virginia      4.0      M   23      75      Nigeria   \n",
       "24  Virginia      4.0      F   27      67          USA   \n",
       "25  Virginia      2.0      M   28      68       Taiwan   \n",
       "26  Virginia      2.0      M   23      72        India   \n",
       "27  Virginia      4.0      M   35      67      Nigeria   \n",
       "28  Maryland      4.0      F   27      64        India   \n",
       "29  Virginia      2.0      M   25      71        India   \n",
       "30  Virginia      4.0      F   55      56          USA   \n",
       "31  Virginia      2.0      F   23      70        India   \n",
       "32  Virginia      2.0      M   25      67          USA   \n",
       "33  Virginia      4.0      M   23      73          USA   \n",
       "34  Maryland      2.0      M   24      68      Vietnam   \n",
       "35  Virginia      4.0      F   28      66   Uzbekistan   \n",
       "\n",
       "            Undergrad_Degree GradYear   Laptop  Employement  Python Skills  \\\n",
       "0                  Economics  12/2021  MacBook  Not Working              2   \n",
       "1                    Finance  05/2021  MacBook    Part Time              3   \n",
       "2      Computer Applications  06/2022  MacBook    Full Time              2   \n",
       "3                 Management  12/2021  Windows  Not Working              3   \n",
       "4                  Economics  01/2021  MacBook    Full Time              2   \n",
       "5                  Economics  12/2021  Windows  Not Working              3   \n",
       "6                    Finance  07/2022  Windows    Part Time              3   \n",
       "7                  Economics  12/2021  Windows  Not Working              3   \n",
       "8                  Economics  12/2021  Windows    Full Time              2   \n",
       "9                  Economics  12/2021  Windows  Not Working              3   \n",
       "10                       Bit  05/2022  Windows  Not Working              1   \n",
       "11                       ECE  05/2021  Windows  Not Working              4   \n",
       "12                   Biology  08/2021  MacBook    Part Time              2   \n",
       "13          Computer Science  12/2021  Windows  Not Working              3   \n",
       "14                Management  12/2021  Windows  Not Working              3   \n",
       "15                 Economics  05/2022  Windows  Not Working              2   \n",
       "16                 Economics  05/2022     Both    Full Time              3   \n",
       "17               Engineering  01/2021  Windows  Not Working              4   \n",
       "18                Accounting  12/2021  Windows  Not Working              1   \n",
       "19               Mathematics  12/2021  MacBook    Part Time              2   \n",
       "20          Computer Science  05/2022  Windows    Full Time              2   \n",
       "21          Computer Science  04/2022  Windows  Not Working              2   \n",
       "22               Mathematics  12/2021     Both    Part Time              2   \n",
       "23                 Economics  05/2021  Windows  Not Working              1   \n",
       "24       Systems Engineering  12/2022  Windows    Full Time              3   \n",
       "25         Civil Engineering  05/2021  Windows    Full Time              3   \n",
       "26                       ECE  12/2021  MacBook  Not Working              3   \n",
       "27        Quantity Surveying  05/2023  Windows  Not Working              3   \n",
       "28               Engineering  12/2021  Windows  Not Working              3   \n",
       "29          Computer Science  12/2021  MacBook  Not Working              3   \n",
       "30                Accounting  05/2021  Windows    Full Time              1   \n",
       "31               Engineering  12/2021     Both  Not Working              3   \n",
       "32  Criminology Law And Soci  12/2021  Windows    Full Time              3   \n",
       "33                 Economics  05/2022  Windows    Full Time              3   \n",
       "34                   Finance  12/2022  Windows  Not Working              2   \n",
       "35                Psychology  12/2021    Other    Full Time              2   \n",
       "\n",
       "    R Skills  SQL Skills  GitHub Career in DS  \\\n",
       "0          1           2       1          Yes   \n",
       "1          3           1       1           No   \n",
       "2          1           3       0     Not sure   \n",
       "3          4           2       0          Yes   \n",
       "4          2           3       0          Yes   \n",
       "5          3           3       1           No   \n",
       "6          3           3       0           No   \n",
       "7          3           3       1           No   \n",
       "8          4           3       1           No   \n",
       "9          3           3       0           No   \n",
       "10         1           2       0           No   \n",
       "11         3           4       0          Yes   \n",
       "12         3           3       0          Yes   \n",
       "13         3           3       0          Yes   \n",
       "14         1           1       0          Yes   \n",
       "15         2           2       0          Yes   \n",
       "16         2           2       0          Yes   \n",
       "17         4           3       0          Yes   \n",
       "18         1           3       0          Yes   \n",
       "19         5           3       0     Not sure   \n",
       "20         2           2       0     Not sure   \n",
       "21         1           3       0     Not sure   \n",
       "22         4           1       1     Not sure   \n",
       "23         1           1       1     Not sure   \n",
       "24         3           3       1     Not sure   \n",
       "25         2           2       0     Not sure   \n",
       "26         4           3       0          Yes   \n",
       "27         4           3       1          Yes   \n",
       "28         3           3       1          Yes   \n",
       "29         3           4       1          Yes   \n",
       "30         2           2       1          Yes   \n",
       "31         4           4       0          Yes   \n",
       "32         2           2       0           No   \n",
       "33         3           3       0           No   \n",
       "34         2           2       0     Not sure   \n",
       "35         1           1       0     Not sure   \n",
       "\n",
       "                                                Goals  \n",
       "0                                                 NaN  \n",
       "1                                                 NaN  \n",
       "2   As part of my work, I have access to a lot of ...  \n",
       "3                                                 NaN  \n",
       "4                                               Learn  \n",
       "5                                                 NaN  \n",
       "6   To deduce meaningful interpretation for Financ...  \n",
       "7                                                 NaN  \n",
       "8                                                 NaN  \n",
       "9                                                 NaN  \n",
       "10  To see if it is a field I am interested in pur...  \n",
       "11  To learn and explore cutting edge data technol...  \n",
       "12  Learn to select the appropriate tools to condu...  \n",
       "13                                                NaN  \n",
       "14                                  improve my skills  \n",
       "15  My professional goal is to become a Financial ...  \n",
       "16  able to compliment my Computational Social Sci...  \n",
       "17                                To start a company   \n",
       "18  To be able understand and manipulate data to m...  \n",
       "19  My ultimate goal is to get a job as a sports a...  \n",
       "20  To understand how to properly interpret and di...  \n",
       "21  After graduating data analytics, I want myself...  \n",
       "22  Learning how to appropriately handle large qua...  \n",
       "23  To learn and understand the fundamentals and m...  \n",
       "24  The goal is to learn as many programming/stati...  \n",
       "25     Learning analytics tool and being good at them  \n",
       "26                    I want to be as a data analyst   \n",
       "27  It is very relevant to my PhD research area an...  \n",
       "28  Learn how to handle large amount structured an...  \n",
       "29  To become a good Data Analyst and work for top...  \n",
       "30  Get a better understanding of the granularity ...  \n",
       "31                                                NaN  \n",
       "32                     Learn how data analytics works  \n",
       "33                  Advance my career in data science  \n",
       "34                                 Getting a good job  \n",
       "35                         to use the skills at work.  "
      ]
     },
     "execution_count": 205,
     "metadata": {},
     "output_type": "execute_result"
    }
   ],
   "source": [
    "df_clean"
   ]
  },
  {
   "cell_type": "code",
   "execution_count": 206,
   "metadata": {},
   "outputs": [],
   "source": [
    "# saving the CSV file\n",
    "df_clean.to_csv('cleaned_hw1_data.csv', index=False, header=True)"
   ]
  },
  {
   "cell_type": "markdown",
   "metadata": {},
   "source": [
    "# Part 3: Statistical Summaries"
   ]
  },
  {
   "cell_type": "code",
   "execution_count": 207,
   "metadata": {},
   "outputs": [],
   "source": [
    "# read the cleaned data file\n",
    "df = pd.read_csv('cleaned_hw1_data.csv')"
   ]
  },
  {
   "cell_type": "code",
   "execution_count": 208,
   "metadata": {},
   "outputs": [
    {
     "data": {
      "text/html": [
       "<div>\n",
       "<style scoped>\n",
       "    .dataframe tbody tr th:only-of-type {\n",
       "        vertical-align: middle;\n",
       "    }\n",
       "\n",
       "    .dataframe tbody tr th {\n",
       "        vertical-align: top;\n",
       "    }\n",
       "\n",
       "    .dataframe thead th {\n",
       "        text-align: right;\n",
       "    }\n",
       "</style>\n",
       "<table border=\"1\" class=\"dataframe\">\n",
       "  <thead>\n",
       "    <tr style=\"text-align: right;\">\n",
       "      <th></th>\n",
       "      <th>Region</th>\n",
       "      <th>Section</th>\n",
       "      <th>Gender</th>\n",
       "      <th>Age</th>\n",
       "      <th>Height</th>\n",
       "      <th>Citizenship</th>\n",
       "      <th>Undergrad_Degree</th>\n",
       "      <th>GradYear</th>\n",
       "      <th>Laptop</th>\n",
       "      <th>Employement</th>\n",
       "      <th>Python Skills</th>\n",
       "      <th>R Skills</th>\n",
       "      <th>SQL Skills</th>\n",
       "      <th>GitHub</th>\n",
       "      <th>Career in DS</th>\n",
       "      <th>Goals</th>\n",
       "    </tr>\n",
       "  </thead>\n",
       "  <tbody>\n",
       "    <tr>\n",
       "      <th>0</th>\n",
       "      <td>Virginia</td>\n",
       "      <td>4.0</td>\n",
       "      <td>F</td>\n",
       "      <td>23</td>\n",
       "      <td>63</td>\n",
       "      <td>Taiwan</td>\n",
       "      <td>Economics</td>\n",
       "      <td>12/2021</td>\n",
       "      <td>MacBook</td>\n",
       "      <td>Not Working</td>\n",
       "      <td>2</td>\n",
       "      <td>1</td>\n",
       "      <td>2</td>\n",
       "      <td>1</td>\n",
       "      <td>Yes</td>\n",
       "      <td>NaN</td>\n",
       "    </tr>\n",
       "    <tr>\n",
       "      <th>1</th>\n",
       "      <td>Virginia</td>\n",
       "      <td>2.0</td>\n",
       "      <td>F</td>\n",
       "      <td>24</td>\n",
       "      <td>59</td>\n",
       "      <td>India</td>\n",
       "      <td>Finance</td>\n",
       "      <td>05/2021</td>\n",
       "      <td>MacBook</td>\n",
       "      <td>Part Time</td>\n",
       "      <td>3</td>\n",
       "      <td>3</td>\n",
       "      <td>1</td>\n",
       "      <td>1</td>\n",
       "      <td>No</td>\n",
       "      <td>NaN</td>\n",
       "    </tr>\n",
       "    <tr>\n",
       "      <th>2</th>\n",
       "      <td>Virginia</td>\n",
       "      <td>2.0</td>\n",
       "      <td>M</td>\n",
       "      <td>40</td>\n",
       "      <td>70</td>\n",
       "      <td>India</td>\n",
       "      <td>Computer Applications</td>\n",
       "      <td>06/2022</td>\n",
       "      <td>MacBook</td>\n",
       "      <td>Full Time</td>\n",
       "      <td>2</td>\n",
       "      <td>1</td>\n",
       "      <td>3</td>\n",
       "      <td>0</td>\n",
       "      <td>Not sure</td>\n",
       "      <td>As part of my work, I have access to a lot of ...</td>\n",
       "    </tr>\n",
       "    <tr>\n",
       "      <th>3</th>\n",
       "      <td>Virginia</td>\n",
       "      <td>2.0</td>\n",
       "      <td>No</td>\n",
       "      <td>26</td>\n",
       "      <td>66</td>\n",
       "      <td>South Korea</td>\n",
       "      <td>Management</td>\n",
       "      <td>12/2021</td>\n",
       "      <td>Windows</td>\n",
       "      <td>Not Working</td>\n",
       "      <td>3</td>\n",
       "      <td>4</td>\n",
       "      <td>2</td>\n",
       "      <td>0</td>\n",
       "      <td>Yes</td>\n",
       "      <td>NaN</td>\n",
       "    </tr>\n",
       "    <tr>\n",
       "      <th>4</th>\n",
       "      <td>Virginia</td>\n",
       "      <td>2.0</td>\n",
       "      <td>M</td>\n",
       "      <td>30</td>\n",
       "      <td>70</td>\n",
       "      <td>USA</td>\n",
       "      <td>Economics</td>\n",
       "      <td>01/2021</td>\n",
       "      <td>MacBook</td>\n",
       "      <td>Full Time</td>\n",
       "      <td>2</td>\n",
       "      <td>2</td>\n",
       "      <td>3</td>\n",
       "      <td>0</td>\n",
       "      <td>Yes</td>\n",
       "      <td>Learn</td>\n",
       "    </tr>\n",
       "    <tr>\n",
       "      <th>5</th>\n",
       "      <td>Virginia</td>\n",
       "      <td>2.0</td>\n",
       "      <td>F</td>\n",
       "      <td>25</td>\n",
       "      <td>67</td>\n",
       "      <td>USA</td>\n",
       "      <td>Economics</td>\n",
       "      <td>12/2021</td>\n",
       "      <td>Windows</td>\n",
       "      <td>Not Working</td>\n",
       "      <td>3</td>\n",
       "      <td>3</td>\n",
       "      <td>3</td>\n",
       "      <td>1</td>\n",
       "      <td>No</td>\n",
       "      <td>NaN</td>\n",
       "    </tr>\n",
       "    <tr>\n",
       "      <th>6</th>\n",
       "      <td>Virginia</td>\n",
       "      <td>2.0</td>\n",
       "      <td>NB</td>\n",
       "      <td>24</td>\n",
       "      <td>70</td>\n",
       "      <td>Pakistan</td>\n",
       "      <td>Finance</td>\n",
       "      <td>07/2022</td>\n",
       "      <td>Windows</td>\n",
       "      <td>Part Time</td>\n",
       "      <td>3</td>\n",
       "      <td>3</td>\n",
       "      <td>3</td>\n",
       "      <td>0</td>\n",
       "      <td>No</td>\n",
       "      <td>To deduce meaningful interpretation for Financ...</td>\n",
       "    </tr>\n",
       "    <tr>\n",
       "      <th>7</th>\n",
       "      <td>Virginia</td>\n",
       "      <td>2.0</td>\n",
       "      <td>F</td>\n",
       "      <td>30</td>\n",
       "      <td>67</td>\n",
       "      <td>USA</td>\n",
       "      <td>Economics</td>\n",
       "      <td>12/2021</td>\n",
       "      <td>Windows</td>\n",
       "      <td>Not Working</td>\n",
       "      <td>3</td>\n",
       "      <td>3</td>\n",
       "      <td>3</td>\n",
       "      <td>1</td>\n",
       "      <td>No</td>\n",
       "      <td>NaN</td>\n",
       "    </tr>\n",
       "    <tr>\n",
       "      <th>8</th>\n",
       "      <td>Virginia</td>\n",
       "      <td>2.0</td>\n",
       "      <td>M</td>\n",
       "      <td>24</td>\n",
       "      <td>71</td>\n",
       "      <td>China</td>\n",
       "      <td>Economics</td>\n",
       "      <td>12/2021</td>\n",
       "      <td>Windows</td>\n",
       "      <td>Full Time</td>\n",
       "      <td>2</td>\n",
       "      <td>4</td>\n",
       "      <td>3</td>\n",
       "      <td>1</td>\n",
       "      <td>No</td>\n",
       "      <td>NaN</td>\n",
       "    </tr>\n",
       "    <tr>\n",
       "      <th>9</th>\n",
       "      <td>Texas</td>\n",
       "      <td>4.0</td>\n",
       "      <td>M</td>\n",
       "      <td>26</td>\n",
       "      <td>71</td>\n",
       "      <td>Uzbekistan</td>\n",
       "      <td>Economics</td>\n",
       "      <td>12/2021</td>\n",
       "      <td>Windows</td>\n",
       "      <td>Not Working</td>\n",
       "      <td>3</td>\n",
       "      <td>3</td>\n",
       "      <td>3</td>\n",
       "      <td>0</td>\n",
       "      <td>No</td>\n",
       "      <td>NaN</td>\n",
       "    </tr>\n",
       "  </tbody>\n",
       "</table>\n",
       "</div>"
      ],
      "text/plain": [
       "     Region  Section Gender  Age  Height  Citizenship       Undergrad_Degree  \\\n",
       "0  Virginia      4.0      F   23      63       Taiwan              Economics   \n",
       "1  Virginia      2.0      F   24      59        India                Finance   \n",
       "2  Virginia      2.0      M   40      70        India  Computer Applications   \n",
       "3  Virginia      2.0     No   26      66  South Korea             Management   \n",
       "4  Virginia      2.0      M   30      70          USA              Economics   \n",
       "5  Virginia      2.0      F   25      67          USA              Economics   \n",
       "6  Virginia      2.0     NB   24      70     Pakistan                Finance   \n",
       "7  Virginia      2.0      F   30      67          USA              Economics   \n",
       "8  Virginia      2.0      M   24      71        China              Economics   \n",
       "9     Texas      4.0      M   26      71   Uzbekistan              Economics   \n",
       "\n",
       "  GradYear   Laptop  Employement  Python Skills  R Skills  SQL Skills  GitHub  \\\n",
       "0  12/2021  MacBook  Not Working              2         1           2       1   \n",
       "1  05/2021  MacBook    Part Time              3         3           1       1   \n",
       "2  06/2022  MacBook    Full Time              2         1           3       0   \n",
       "3  12/2021  Windows  Not Working              3         4           2       0   \n",
       "4  01/2021  MacBook    Full Time              2         2           3       0   \n",
       "5  12/2021  Windows  Not Working              3         3           3       1   \n",
       "6  07/2022  Windows    Part Time              3         3           3       0   \n",
       "7  12/2021  Windows  Not Working              3         3           3       1   \n",
       "8  12/2021  Windows    Full Time              2         4           3       1   \n",
       "9  12/2021  Windows  Not Working              3         3           3       0   \n",
       "\n",
       "  Career in DS                                              Goals  \n",
       "0          Yes                                                NaN  \n",
       "1           No                                                NaN  \n",
       "2     Not sure  As part of my work, I have access to a lot of ...  \n",
       "3          Yes                                                NaN  \n",
       "4          Yes                                              Learn  \n",
       "5           No                                                NaN  \n",
       "6           No  To deduce meaningful interpretation for Financ...  \n",
       "7           No                                                NaN  \n",
       "8           No                                                NaN  \n",
       "9           No                                                NaN  "
      ]
     },
     "execution_count": 208,
     "metadata": {},
     "output_type": "execute_result"
    }
   ],
   "source": [
    "df.head(10)"
   ]
  },
  {
   "cell_type": "markdown",
   "metadata": {},
   "source": [
    "Drop the Q15 because it has text."
   ]
  },
  {
   "cell_type": "code",
   "execution_count": 209,
   "metadata": {},
   "outputs": [],
   "source": [
    "df = df.drop(columns='Goals')"
   ]
  },
  {
   "cell_type": "markdown",
   "metadata": {},
   "source": [
    "Let's see what's inside this cleaned data."
   ]
  },
  {
   "cell_type": "code",
   "execution_count": 210,
   "metadata": {},
   "outputs": [
    {
     "data": {
      "text/html": [
       "<div>\n",
       "<style scoped>\n",
       "    .dataframe tbody tr th:only-of-type {\n",
       "        vertical-align: middle;\n",
       "    }\n",
       "\n",
       "    .dataframe tbody tr th {\n",
       "        vertical-align: top;\n",
       "    }\n",
       "\n",
       "    .dataframe thead th {\n",
       "        text-align: right;\n",
       "    }\n",
       "</style>\n",
       "<table border=\"1\" class=\"dataframe\">\n",
       "  <thead>\n",
       "    <tr style=\"text-align: right;\">\n",
       "      <th></th>\n",
       "      <th>Region</th>\n",
       "      <th>Section</th>\n",
       "      <th>Gender</th>\n",
       "      <th>Age</th>\n",
       "      <th>Height</th>\n",
       "      <th>Citizenship</th>\n",
       "      <th>Undergrad_Degree</th>\n",
       "      <th>GradYear</th>\n",
       "      <th>Laptop</th>\n",
       "      <th>Employement</th>\n",
       "      <th>Python Skills</th>\n",
       "      <th>R Skills</th>\n",
       "      <th>SQL Skills</th>\n",
       "      <th>GitHub</th>\n",
       "      <th>Career in DS</th>\n",
       "    </tr>\n",
       "  </thead>\n",
       "  <tbody>\n",
       "    <tr>\n",
       "      <th>count</th>\n",
       "      <td>36</td>\n",
       "      <td>36.000000</td>\n",
       "      <td>36</td>\n",
       "      <td>36.000000</td>\n",
       "      <td>36.000000</td>\n",
       "      <td>36</td>\n",
       "      <td>36</td>\n",
       "      <td>36</td>\n",
       "      <td>36</td>\n",
       "      <td>36</td>\n",
       "      <td>36.000000</td>\n",
       "      <td>36.000000</td>\n",
       "      <td>36.000000</td>\n",
       "      <td>36.000000</td>\n",
       "      <td>36</td>\n",
       "    </tr>\n",
       "    <tr>\n",
       "      <th>unique</th>\n",
       "      <td>3</td>\n",
       "      <td>NaN</td>\n",
       "      <td>4</td>\n",
       "      <td>NaN</td>\n",
       "      <td>NaN</td>\n",
       "      <td>11</td>\n",
       "      <td>16</td>\n",
       "      <td>10</td>\n",
       "      <td>4</td>\n",
       "      <td>3</td>\n",
       "      <td>NaN</td>\n",
       "      <td>NaN</td>\n",
       "      <td>NaN</td>\n",
       "      <td>NaN</td>\n",
       "      <td>3</td>\n",
       "    </tr>\n",
       "    <tr>\n",
       "      <th>top</th>\n",
       "      <td>Virginia</td>\n",
       "      <td>NaN</td>\n",
       "      <td>M</td>\n",
       "      <td>NaN</td>\n",
       "      <td>NaN</td>\n",
       "      <td>USA</td>\n",
       "      <td>Economics</td>\n",
       "      <td>12/2021</td>\n",
       "      <td>Windows</td>\n",
       "      <td>Not Working</td>\n",
       "      <td>NaN</td>\n",
       "      <td>NaN</td>\n",
       "      <td>NaN</td>\n",
       "      <td>NaN</td>\n",
       "      <td>Yes</td>\n",
       "    </tr>\n",
       "    <tr>\n",
       "      <th>freq</th>\n",
       "      <td>29</td>\n",
       "      <td>NaN</td>\n",
       "      <td>18</td>\n",
       "      <td>NaN</td>\n",
       "      <td>NaN</td>\n",
       "      <td>12</td>\n",
       "      <td>10</td>\n",
       "      <td>17</td>\n",
       "      <td>24</td>\n",
       "      <td>20</td>\n",
       "      <td>NaN</td>\n",
       "      <td>NaN</td>\n",
       "      <td>NaN</td>\n",
       "      <td>NaN</td>\n",
       "      <td>17</td>\n",
       "    </tr>\n",
       "    <tr>\n",
       "      <th>mean</th>\n",
       "      <td>NaN</td>\n",
       "      <td>2.888889</td>\n",
       "      <td>NaN</td>\n",
       "      <td>27.000000</td>\n",
       "      <td>67.555556</td>\n",
       "      <td>NaN</td>\n",
       "      <td>NaN</td>\n",
       "      <td>NaN</td>\n",
       "      <td>NaN</td>\n",
       "      <td>NaN</td>\n",
       "      <td>2.500000</td>\n",
       "      <td>2.583333</td>\n",
       "      <td>2.527778</td>\n",
       "      <td>0.333333</td>\n",
       "      <td>NaN</td>\n",
       "    </tr>\n",
       "    <tr>\n",
       "      <th>std</th>\n",
       "      <td>NaN</td>\n",
       "      <td>1.007905</td>\n",
       "      <td>NaN</td>\n",
       "      <td>6.493953</td>\n",
       "      <td>3.952897</td>\n",
       "      <td>NaN</td>\n",
       "      <td>NaN</td>\n",
       "      <td>NaN</td>\n",
       "      <td>NaN</td>\n",
       "      <td>NaN</td>\n",
       "      <td>0.774597</td>\n",
       "      <td>1.130739</td>\n",
       "      <td>0.844685</td>\n",
       "      <td>0.478091</td>\n",
       "      <td>NaN</td>\n",
       "    </tr>\n",
       "    <tr>\n",
       "      <th>min</th>\n",
       "      <td>NaN</td>\n",
       "      <td>2.000000</td>\n",
       "      <td>NaN</td>\n",
       "      <td>22.000000</td>\n",
       "      <td>56.000000</td>\n",
       "      <td>NaN</td>\n",
       "      <td>NaN</td>\n",
       "      <td>NaN</td>\n",
       "      <td>NaN</td>\n",
       "      <td>NaN</td>\n",
       "      <td>1.000000</td>\n",
       "      <td>1.000000</td>\n",
       "      <td>1.000000</td>\n",
       "      <td>0.000000</td>\n",
       "      <td>NaN</td>\n",
       "    </tr>\n",
       "    <tr>\n",
       "      <th>25%</th>\n",
       "      <td>NaN</td>\n",
       "      <td>2.000000</td>\n",
       "      <td>NaN</td>\n",
       "      <td>23.000000</td>\n",
       "      <td>66.000000</td>\n",
       "      <td>NaN</td>\n",
       "      <td>NaN</td>\n",
       "      <td>NaN</td>\n",
       "      <td>NaN</td>\n",
       "      <td>NaN</td>\n",
       "      <td>2.000000</td>\n",
       "      <td>2.000000</td>\n",
       "      <td>2.000000</td>\n",
       "      <td>0.000000</td>\n",
       "      <td>NaN</td>\n",
       "    </tr>\n",
       "    <tr>\n",
       "      <th>50%</th>\n",
       "      <td>NaN</td>\n",
       "      <td>2.000000</td>\n",
       "      <td>NaN</td>\n",
       "      <td>25.000000</td>\n",
       "      <td>67.000000</td>\n",
       "      <td>NaN</td>\n",
       "      <td>NaN</td>\n",
       "      <td>NaN</td>\n",
       "      <td>NaN</td>\n",
       "      <td>NaN</td>\n",
       "      <td>3.000000</td>\n",
       "      <td>3.000000</td>\n",
       "      <td>3.000000</td>\n",
       "      <td>0.000000</td>\n",
       "      <td>NaN</td>\n",
       "    </tr>\n",
       "    <tr>\n",
       "      <th>75%</th>\n",
       "      <td>NaN</td>\n",
       "      <td>4.000000</td>\n",
       "      <td>NaN</td>\n",
       "      <td>27.250000</td>\n",
       "      <td>70.000000</td>\n",
       "      <td>NaN</td>\n",
       "      <td>NaN</td>\n",
       "      <td>NaN</td>\n",
       "      <td>NaN</td>\n",
       "      <td>NaN</td>\n",
       "      <td>3.000000</td>\n",
       "      <td>3.000000</td>\n",
       "      <td>3.000000</td>\n",
       "      <td>1.000000</td>\n",
       "      <td>NaN</td>\n",
       "    </tr>\n",
       "    <tr>\n",
       "      <th>max</th>\n",
       "      <td>NaN</td>\n",
       "      <td>4.000000</td>\n",
       "      <td>NaN</td>\n",
       "      <td>55.000000</td>\n",
       "      <td>75.000000</td>\n",
       "      <td>NaN</td>\n",
       "      <td>NaN</td>\n",
       "      <td>NaN</td>\n",
       "      <td>NaN</td>\n",
       "      <td>NaN</td>\n",
       "      <td>4.000000</td>\n",
       "      <td>5.000000</td>\n",
       "      <td>4.000000</td>\n",
       "      <td>1.000000</td>\n",
       "      <td>NaN</td>\n",
       "    </tr>\n",
       "  </tbody>\n",
       "</table>\n",
       "</div>"
      ],
      "text/plain": [
       "          Region    Section Gender        Age     Height Citizenship  \\\n",
       "count         36  36.000000     36  36.000000  36.000000          36   \n",
       "unique         3        NaN      4        NaN        NaN          11   \n",
       "top     Virginia        NaN      M        NaN        NaN         USA   \n",
       "freq          29        NaN     18        NaN        NaN          12   \n",
       "mean         NaN   2.888889    NaN  27.000000  67.555556         NaN   \n",
       "std          NaN   1.007905    NaN   6.493953   3.952897         NaN   \n",
       "min          NaN   2.000000    NaN  22.000000  56.000000         NaN   \n",
       "25%          NaN   2.000000    NaN  23.000000  66.000000         NaN   \n",
       "50%          NaN   2.000000    NaN  25.000000  67.000000         NaN   \n",
       "75%          NaN   4.000000    NaN  27.250000  70.000000         NaN   \n",
       "max          NaN   4.000000    NaN  55.000000  75.000000         NaN   \n",
       "\n",
       "       Undergrad_Degree GradYear   Laptop  Employement  Python Skills  \\\n",
       "count                36       36       36           36      36.000000   \n",
       "unique               16       10        4            3            NaN   \n",
       "top           Economics  12/2021  Windows  Not Working            NaN   \n",
       "freq                 10       17       24           20            NaN   \n",
       "mean                NaN      NaN      NaN          NaN       2.500000   \n",
       "std                 NaN      NaN      NaN          NaN       0.774597   \n",
       "min                 NaN      NaN      NaN          NaN       1.000000   \n",
       "25%                 NaN      NaN      NaN          NaN       2.000000   \n",
       "50%                 NaN      NaN      NaN          NaN       3.000000   \n",
       "75%                 NaN      NaN      NaN          NaN       3.000000   \n",
       "max                 NaN      NaN      NaN          NaN       4.000000   \n",
       "\n",
       "         R Skills  SQL Skills     GitHub Career in DS  \n",
       "count   36.000000   36.000000  36.000000           36  \n",
       "unique        NaN         NaN        NaN            3  \n",
       "top           NaN         NaN        NaN          Yes  \n",
       "freq          NaN         NaN        NaN           17  \n",
       "mean     2.583333    2.527778   0.333333          NaN  \n",
       "std      1.130739    0.844685   0.478091          NaN  \n",
       "min      1.000000    1.000000   0.000000          NaN  \n",
       "25%      2.000000    2.000000   0.000000          NaN  \n",
       "50%      3.000000    3.000000   0.000000          NaN  \n",
       "75%      3.000000    3.000000   1.000000          NaN  \n",
       "max      5.000000    4.000000   1.000000          NaN  "
      ]
     },
     "execution_count": 210,
     "metadata": {},
     "output_type": "execute_result"
    }
   ],
   "source": [
    "df.describe(include='all')"
   ]
  },
  {
   "cell_type": "markdown",
   "metadata": {},
   "source": [
    "Just from this table it can be inferred that most of the people who took this class were Economics majors who wanted to pursue a career in data analytics/data sciene."
   ]
  },
  {
   "cell_type": "code",
   "execution_count": 211,
   "metadata": {},
   "outputs": [
    {
     "name": "stdout",
     "output_type": "stream",
     "text": [
      "<class 'pandas.core.frame.DataFrame'>\n",
      "RangeIndex: 36 entries, 0 to 35\n",
      "Data columns (total 15 columns):\n",
      " #   Column            Non-Null Count  Dtype  \n",
      "---  ------            --------------  -----  \n",
      " 0   Region            36 non-null     object \n",
      " 1   Section           36 non-null     float64\n",
      " 2   Gender            36 non-null     object \n",
      " 3   Age               36 non-null     int64  \n",
      " 4   Height            36 non-null     int64  \n",
      " 5   Citizenship       36 non-null     object \n",
      " 6   Undergrad_Degree  36 non-null     object \n",
      " 7   GradYear          36 non-null     object \n",
      " 8   Laptop            36 non-null     object \n",
      " 9   Employement       36 non-null     object \n",
      " 10  Python Skills     36 non-null     int64  \n",
      " 11  R Skills          36 non-null     int64  \n",
      " 12  SQL Skills        36 non-null     int64  \n",
      " 13  GitHub            36 non-null     int64  \n",
      " 14  Career in DS      36 non-null     object \n",
      "dtypes: float64(1), int64(6), object(8)\n",
      "memory usage: 4.3+ KB\n"
     ]
    }
   ],
   "source": [
    "df.info()"
   ]
  },
  {
   "cell_type": "markdown",
   "metadata": {},
   "source": [
    "## For Individual Questions"
   ]
  },
  {
   "cell_type": "markdown",
   "metadata": {},
   "source": [
    "### For Q1 - Section"
   ]
  },
  {
   "cell_type": "code",
   "execution_count": 212,
   "metadata": {},
   "outputs": [
    {
     "data": {
      "text/plain": [
       "Section\n",
       "2.0    20\n",
       "4.0    16\n",
       "Name: count, dtype: int64"
      ]
     },
     "execution_count": 212,
     "metadata": {},
     "output_type": "execute_result"
    }
   ],
   "source": [
    "df['Section'].value_counts()"
   ]
  },
  {
   "cell_type": "markdown",
   "metadata": {},
   "source": [
    "Both sections were almost equally represented, with Section 004 receiving a slightly higher number of responses."
   ]
  },
  {
   "cell_type": "markdown",
   "metadata": {},
   "source": [
    "### For Q2 - Gender"
   ]
  },
  {
   "cell_type": "code",
   "execution_count": 213,
   "metadata": {},
   "outputs": [
    {
     "data": {
      "text/plain": [
       "Gender\n",
       "M     18\n",
       "F     16\n",
       "No     1\n",
       "NB     1\n",
       "Name: count, dtype: int64"
      ]
     },
     "execution_count": 213,
     "metadata": {},
     "output_type": "execute_result"
    }
   ],
   "source": [
    "df['Gender'].value_counts()"
   ]
  },
  {
   "cell_type": "markdown",
   "metadata": {},
   "source": [
    "This represents that there was almost an equal gender representation among the students who took this class - assuming that everyone who was enrolled in the course filled out the survey too."
   ]
  },
  {
   "cell_type": "markdown",
   "metadata": {},
   "source": [
    "### For Q3 - Age"
   ]
  },
  {
   "cell_type": "code",
   "execution_count": 214,
   "metadata": {},
   "outputs": [
    {
     "data": {
      "text/plain": [
       "Age\n",
       "23    8\n",
       "25    7\n",
       "24    5\n",
       "26    3\n",
       "40    2\n",
       "30    2\n",
       "22    2\n",
       "27    2\n",
       "28    2\n",
       "31    1\n",
       "35    1\n",
       "55    1\n",
       "Name: count, dtype: int64"
      ]
     },
     "execution_count": 214,
     "metadata": {},
     "output_type": "execute_result"
    }
   ],
   "source": [
    "df['Age'].value_counts()"
   ]
  },
  {
   "cell_type": "code",
   "execution_count": 215,
   "metadata": {},
   "outputs": [
    {
     "data": {
      "text/plain": [
       "count    36.000000\n",
       "mean     27.000000\n",
       "std       6.493953\n",
       "min      22.000000\n",
       "25%      23.000000\n",
       "50%      25.000000\n",
       "75%      27.250000\n",
       "max      55.000000\n",
       "Name: Age, dtype: float64"
      ]
     },
     "execution_count": 215,
     "metadata": {},
     "output_type": "execute_result"
    }
   ],
   "source": [
    "df['Age'].describe()"
   ]
  },
  {
   "cell_type": "markdown",
   "metadata": {},
   "source": [
    "From the course code, and the fact that there was a question about the undergraduate degree, it seems like this is graduate level course. The ages of the students enrolled in it confirms this, with minimum 22 years old and then a wide rane of ages - upto 55 - it is evident that this is infact a graduate class. Because if it was an undergraduate class, the minimum age would be around 19-20 and their wouldn't have been this large of a standard deviation (6.5 years) and mean (27 years) as it is currently."
   ]
  },
  {
   "cell_type": "markdown",
   "metadata": {},
   "source": [
    "### For Q4 - Height"
   ]
  },
  {
   "cell_type": "code",
   "execution_count": 216,
   "metadata": {},
   "outputs": [
    {
     "data": {
      "text/plain": [
       "Height\n",
       "67    9\n",
       "66    5\n",
       "70    4\n",
       "71    3\n",
       "68    3\n",
       "72    2\n",
       "63    1\n",
       "59    1\n",
       "69    1\n",
       "60    1\n",
       "74    1\n",
       "65    1\n",
       "75    1\n",
       "64    1\n",
       "56    1\n",
       "73    1\n",
       "Name: count, dtype: int64"
      ]
     },
     "execution_count": 216,
     "metadata": {},
     "output_type": "execute_result"
    }
   ],
   "source": [
    "df['Height'].value_counts()"
   ]
  },
  {
   "cell_type": "code",
   "execution_count": 217,
   "metadata": {},
   "outputs": [
    {
     "data": {
      "text/plain": [
       "count    36.000000\n",
       "mean     67.555556\n",
       "std       3.952897\n",
       "min      56.000000\n",
       "25%      66.000000\n",
       "50%      67.000000\n",
       "75%      70.000000\n",
       "max      75.000000\n",
       "Name: Height, dtype: float64"
      ]
     },
     "execution_count": 217,
     "metadata": {},
     "output_type": "execute_result"
    }
   ],
   "source": [
    "df['Height'].describe()"
   ]
  },
  {
   "cell_type": "markdown",
   "metadata": {},
   "source": [
    "The average height is approximately 67.56 inches, indicating a typical range for adult height, likely centered around normal distribution values. 75% of the individuals are shorter than 70 inches, which shows that the majority of the sample is clustered within a typical height range."
   ]
  },
  {
   "cell_type": "markdown",
   "metadata": {},
   "source": [
    "### For Q5 - Country of Citizenship"
   ]
  },
  {
   "cell_type": "code",
   "execution_count": 218,
   "metadata": {},
   "outputs": [
    {
     "data": {
      "text/plain": [
       "Citizenship\n",
       "USA            12\n",
       "India          10\n",
       "Uzbekistan      3\n",
       "Taiwan          2\n",
       "China           2\n",
       "Nigeria         2\n",
       "South Korea     1\n",
       "Pakistan        1\n",
       "Romania         1\n",
       "Ethiopia        1\n",
       "Vietnam         1\n",
       "Name: count, dtype: int64"
      ]
     },
     "execution_count": 218,
     "metadata": {},
     "output_type": "execute_result"
    }
   ],
   "source": [
    "df['Citizenship'].value_counts()"
   ]
  },
  {
   "cell_type": "markdown",
   "metadata": {},
   "source": [
    "This shows that the class was pretty diverse, with 2/3 of the people from outside the US, and from them, there was a vast majority of Asian people, especially due the substantial number of Indian students.\n",
    "It means that the course was appealing to a lot of people, regardless of their background, probably because of the possible job prospects in a lucrative field. This also explains the number of Asian people in the course, because people normally immigrate from this region in search of high paying jobs, and studying courses like this helps them pave the path."
   ]
  },
  {
   "cell_type": "markdown",
   "metadata": {},
   "source": [
    "### For Q6 - Undergraduate Degree"
   ]
  },
  {
   "cell_type": "code",
   "execution_count": 219,
   "metadata": {},
   "outputs": [
    {
     "data": {
      "text/plain": [
       "Undergrad_Degree\n",
       "Economics                   10\n",
       "Computer Science             4\n",
       "Finance                      3\n",
       "Engineering                  3\n",
       "Management                   2\n",
       "ECE                          2\n",
       "Accounting                   2\n",
       "Mathematics                  2\n",
       "Computer Applications        1\n",
       "Bit                          1\n",
       "Biology                      1\n",
       "Systems Engineering          1\n",
       "Civil Engineering            1\n",
       "Quantity Surveying           1\n",
       "Criminology Law And Soci     1\n",
       "Psychology                   1\n",
       "Name: count, dtype: int64"
      ]
     },
     "execution_count": 219,
     "metadata": {},
     "output_type": "execute_result"
    }
   ],
   "source": [
    "df['Undergrad_Degree'].value_counts()"
   ]
  },
  {
   "cell_type": "markdown",
   "metadata": {},
   "source": [
    "Out of all the students, almost half of them have a STEM background, particularly from CS and ECE related majors which makes sense as data analysis is extremely important for engineering and science. The other half is from an economics + finance background which also makes sense because data science is needed in their field as well to take data-driven decisions. \n",
    "\n",
    "Interestingly, there are a few students who are not from and Econ or STEM background. This just shows how robust and necessary the study of Data Science is because people from diverse backgrounds study it and use it in their work."
   ]
  },
  {
   "cell_type": "markdown",
   "metadata": {},
   "source": [
    "### For Q7 - Graduation Date "
   ]
  },
  {
   "cell_type": "code",
   "execution_count": 220,
   "metadata": {},
   "outputs": [
    {
     "data": {
      "text/plain": [
       "GradYear\n",
       "12/2021    17\n",
       "05/2021     5\n",
       "05/2022     5\n",
       "01/2021     2\n",
       "12/2022     2\n",
       "06/2022     1\n",
       "07/2022     1\n",
       "08/2021     1\n",
       "04/2022     1\n",
       "05/2023     1\n",
       "Name: count, dtype: int64"
      ]
     },
     "execution_count": 220,
     "metadata": {},
     "output_type": "execute_result"
    }
   ],
   "source": [
    "df['GradYear'].value_counts()"
   ]
  },
  {
   "cell_type": "code",
   "execution_count": 221,
   "metadata": {},
   "outputs": [
    {
     "data": {
      "text/plain": [
       "count          36\n",
       "unique         10\n",
       "top       12/2021\n",
       "freq           17\n",
       "Name: GradYear, dtype: object"
      ]
     },
     "execution_count": 221,
     "metadata": {},
     "output_type": "execute_result"
    }
   ],
   "source": [
    "df['GradYear'].describe()"
   ]
  },
  {
   "cell_type": "markdown",
   "metadata": {},
   "source": [
    "It shows that most people graduate in Dec 2021, which means that most of them are from the same batch/level. However, most students graduate after 2021 which means that the class has people from different batches, and the program also caters people who are enrolled in the MS program at different paces - full-time or part-time which makes sense because there is a good number of people who is also working part time or full time according to one of the columns."
   ]
  },
  {
   "cell_type": "markdown",
   "metadata": {},
   "source": [
    "### For Q8 - Laptop"
   ]
  },
  {
   "cell_type": "code",
   "execution_count": 224,
   "metadata": {},
   "outputs": [
    {
     "data": {
      "text/plain": [
       "Laptop\n",
       "Windows    24\n",
       "MacBook     8\n",
       "Both        3\n",
       "Other       1\n",
       "Name: count, dtype: int64"
      ]
     },
     "execution_count": 224,
     "metadata": {},
     "output_type": "execute_result"
    }
   ],
   "source": [
    "df['Laptop'].value_counts()"
   ]
  },
  {
   "cell_type": "code",
   "execution_count": 223,
   "metadata": {},
   "outputs": [
    {
     "data": {
      "text/plain": [
       "count          36\n",
       "unique          4\n",
       "top       Windows\n",
       "freq           24\n",
       "Name: Laptop, dtype: object"
      ]
     },
     "execution_count": 223,
     "metadata": {},
     "output_type": "execute_result"
    }
   ],
   "source": [
    "df['Laptop'].describe()"
   ]
  },
  {
   "cell_type": "markdown",
   "metadata": {},
   "source": [
    "Most students have a windows laptop (24 + 3) possibly because Windows offers a wide range of data science tools and is generally easy to set up for data science tasks, making it a practical choice for students who need reliable and widely-supported software. And the other reason is that MacBook is more expensive than a Windows laptop, and might not be affordable for window. The other would certainly be a Linux-based OS which most people can not use because of its heavy dependence of the command line termina."
   ]
  },
  {
   "cell_type": "markdown",
   "metadata": {},
   "source": [
    "### For Q9 - Employement"
   ]
  },
  {
   "cell_type": "code",
   "execution_count": 225,
   "metadata": {},
   "outputs": [
    {
     "data": {
      "text/plain": [
       "Employement\n",
       "Not Working    20\n",
       "Full Time      11\n",
       "Part Time       5\n",
       "Name: count, dtype: int64"
      ]
     },
     "execution_count": 225,
     "metadata": {},
     "output_type": "execute_result"
    }
   ],
   "source": [
    "df['Employement'].value_counts()"
   ]
  },
  {
   "cell_type": "code",
   "execution_count": 226,
   "metadata": {},
   "outputs": [
    {
     "data": {
      "text/plain": [
       "count              36\n",
       "unique              3\n",
       "top       Not Working\n",
       "freq               20\n",
       "Name: Employement, dtype: object"
      ]
     },
     "execution_count": 226,
     "metadata": {},
     "output_type": "execute_result"
    }
   ],
   "source": [
    "df['Employement'].describe()"
   ]
  },
  {
   "cell_type": "markdown",
   "metadata": {},
   "source": [
    "This shows that most people are not working, and are full time students, while there are 16 people who have some sort of a job while studying. This adds up if you look at the Graduation column where those not working graduate early in Dec 2021."
   ]
  },
  {
   "cell_type": "code",
   "execution_count": 238,
   "metadata": {},
   "outputs": [
    {
     "data": {
      "text/plain": [
       "15"
      ]
     },
     "execution_count": 238,
     "metadata": {},
     "output_type": "execute_result"
    }
   ],
   "source": [
    "filtered_df = df[(df['Employement'] == 'Not Working') & (df['GradYear'].str.contains('2021'))]\n",
    "filtered_df.shape[0]"
   ]
  },
  {
   "cell_type": "markdown",
   "metadata": {},
   "source": [
    "From this we can see that there are 15 out of 20 people who are not working at all graduate in 2021, which means if you study full you can graduate earlier because you'll be able to give more time to your classes.\n",
    "But this also shows that the university supports people who wish to continue their job while studying as there's a substantial number of people who are employed - and most of them full time."
   ]
  },
  {
   "cell_type": "markdown",
   "metadata": {},
   "source": [
    "### For Q10 - Python Skills"
   ]
  },
  {
   "cell_type": "code",
   "execution_count": 239,
   "metadata": {},
   "outputs": [
    {
     "data": {
      "text/plain": [
       "Python Skills\n",
       "3    18\n",
       "2    12\n",
       "1     4\n",
       "4     2\n",
       "Name: count, dtype: int64"
      ]
     },
     "execution_count": 239,
     "metadata": {},
     "output_type": "execute_result"
    }
   ],
   "source": [
    "df['Python Skills'].value_counts()"
   ]
  },
  {
   "cell_type": "code",
   "execution_count": 240,
   "metadata": {},
   "outputs": [
    {
     "data": {
      "text/plain": [
       "count    36.000000\n",
       "mean      2.500000\n",
       "std       0.774597\n",
       "min       1.000000\n",
       "25%       2.000000\n",
       "50%       3.000000\n",
       "75%       3.000000\n",
       "max       4.000000\n",
       "Name: Python Skills, dtype: float64"
      ]
     },
     "execution_count": 240,
     "metadata": {},
     "output_type": "execute_result"
    }
   ],
   "source": [
    "df['Python Skills'].describe()"
   ]
  },
  {
   "cell_type": "markdown",
   "metadata": {},
   "source": [
    "The majority of students rate their Python skills as average (3) or some familiarity (2), with fewer students identifying as either complete beginners (1) or frequent users (4), and no one considering themselves fluent (5). This distribution can guide the course content focus towards solidifying intermediate skills while offering support for both lower and upper ends of the skill spectrum."
   ]
  },
  {
   "cell_type": "markdown",
   "metadata": {},
   "source": [
    "### For Q11 - R Skills"
   ]
  },
  {
   "cell_type": "code",
   "execution_count": 242,
   "metadata": {},
   "outputs": [
    {
     "data": {
      "text/plain": [
       "R Skills\n",
       "3    12\n",
       "1     8\n",
       "2     8\n",
       "4     7\n",
       "5     1\n",
       "Name: count, dtype: int64"
      ]
     },
     "execution_count": 242,
     "metadata": {},
     "output_type": "execute_result"
    }
   ],
   "source": [
    "df['R Skills'].value_counts()"
   ]
  },
  {
   "cell_type": "code",
   "execution_count": 241,
   "metadata": {},
   "outputs": [
    {
     "data": {
      "text/plain": [
       "count    36.000000\n",
       "mean      2.583333\n",
       "std       1.130739\n",
       "min       1.000000\n",
       "25%       2.000000\n",
       "50%       3.000000\n",
       "75%       3.000000\n",
       "max       5.000000\n",
       "Name: R Skills, dtype: float64"
      ]
     },
     "execution_count": 241,
     "metadata": {},
     "output_type": "execute_result"
    }
   ],
   "source": [
    "df['R Skills'].describe()"
   ]
  },
  {
   "cell_type": "markdown",
   "metadata": {},
   "source": [
    "The R skills among students vary significantly, with a concentration around the intermediate level. The data indicates that while most students have a working knowledge of R, there is a need for support at both ends of the spectrum—providing more foundational resources for beginners and advanced challenges for the few who are further along. Understanding these varying skill levels can help tailor the course content to better meet the needs of the students.\n",
    "In comparison to Python though, students feel more skilled in R."
   ]
  },
  {
   "cell_type": "markdown",
   "metadata": {},
   "source": [
    "### For Q12 - SQL Skills"
   ]
  },
  {
   "cell_type": "code",
   "execution_count": 243,
   "metadata": {},
   "outputs": [
    {
     "data": {
      "text/plain": [
       "SQL Skills\n",
       "3    18\n",
       "2    10\n",
       "1     5\n",
       "4     3\n",
       "Name: count, dtype: int64"
      ]
     },
     "execution_count": 243,
     "metadata": {},
     "output_type": "execute_result"
    }
   ],
   "source": [
    "df['SQL Skills'].value_counts()"
   ]
  },
  {
   "cell_type": "code",
   "execution_count": 244,
   "metadata": {},
   "outputs": [
    {
     "data": {
      "text/plain": [
       "count    36.000000\n",
       "mean      2.527778\n",
       "std       0.844685\n",
       "min       1.000000\n",
       "25%       2.000000\n",
       "50%       3.000000\n",
       "75%       3.000000\n",
       "max       4.000000\n",
       "Name: SQL Skills, dtype: float64"
      ]
     },
     "execution_count": 244,
     "metadata": {},
     "output_type": "execute_result"
    }
   ],
   "source": [
    "df['SQL Skills'].describe()"
   ]
  },
  {
   "cell_type": "markdown",
   "metadata": {},
   "source": [
    "The data indicates that most students have intermediate SQL skills, with relatively few at the beginner or advanced ends of the spectrum. The moderate variability suggests a need for a balanced approach to instruction, focusing on solidifying foundational skills for beginners while providing more complex SQL challenges to help intermediate students advance. This distribution can guide how course materials and learning support are tailored to better address the varying skill levels present in the class.\n",
    "\n",
    "It also appears that students feel the most confident with SQL, followed by R and then Python. Which could also be because of the difficulty level of each language."
   ]
  },
  {
   "cell_type": "markdown",
   "metadata": {},
   "source": [
    "### For Q13 - GitHub"
   ]
  },
  {
   "cell_type": "code",
   "execution_count": 245,
   "metadata": {},
   "outputs": [
    {
     "data": {
      "text/plain": [
       "GitHub\n",
       "0    24\n",
       "1    12\n",
       "Name: count, dtype: int64"
      ]
     },
     "execution_count": 245,
     "metadata": {},
     "output_type": "execute_result"
    }
   ],
   "source": [
    "df['GitHub'].value_counts()"
   ]
  },
  {
   "cell_type": "code",
   "execution_count": 246,
   "metadata": {},
   "outputs": [
    {
     "data": {
      "text/plain": [
       "count    36.000000\n",
       "mean      0.333333\n",
       "std       0.478091\n",
       "min       0.000000\n",
       "25%       0.000000\n",
       "50%       0.000000\n",
       "75%       1.000000\n",
       "max       1.000000\n",
       "Name: GitHub, dtype: float64"
      ]
     },
     "execution_count": 246,
     "metadata": {},
     "output_type": "execute_result"
    }
   ],
   "source": [
    "df['GitHub'].describe()"
   ]
  },
  {
   "cell_type": "markdown",
   "metadata": {},
   "source": [
    "The data indicates a split in GitHub usage among students, with a majority not using the platform - which shouldn't be the case in an MS level CS class. Addressing this disparity by providing GitHub training or integrating version control practices into the curriculum could enhance students' ability to manage and collaborate on projects effectively."
   ]
  },
  {
   "cell_type": "markdown",
   "metadata": {},
   "source": [
    "### For Q14 - Career in Data Science"
   ]
  },
  {
   "cell_type": "code",
   "execution_count": 247,
   "metadata": {},
   "outputs": [
    {
     "data": {
      "text/plain": [
       "Career in DS\n",
       "Yes         17\n",
       "Not sure    10\n",
       "No           9\n",
       "Name: count, dtype: int64"
      ]
     },
     "execution_count": 247,
     "metadata": {},
     "output_type": "execute_result"
    }
   ],
   "source": [
    "df['Career in DS'].value_counts()"
   ]
  },
  {
   "cell_type": "code",
   "execution_count": 248,
   "metadata": {},
   "outputs": [
    {
     "data": {
      "text/plain": [
       "count      36\n",
       "unique      3\n",
       "top       Yes\n",
       "freq       17\n",
       "Name: Career in DS, dtype: object"
      ]
     },
     "execution_count": 248,
     "metadata": {},
     "output_type": "execute_result"
    }
   ],
   "source": [
    "df['Career in DS'].describe()"
   ]
  },
  {
   "cell_type": "markdown",
   "metadata": {},
   "source": [
    "The data reveals a predominantly positive outlook toward careers in data science among students, with a substantial number also being uncertain about their future in the field. Addressing the varying levels of interest and uncertainty through targeted educational and career support initiatives could enhance students' career readiness and satisfaction with their career choices."
   ]
  }
 ],
 "metadata": {
  "kernelspec": {
   "display_name": "Python 3 (ipykernel)",
   "language": "python",
   "name": "python3"
  },
  "language_info": {
   "codemirror_mode": {
    "name": "ipython",
    "version": 3
   },
   "file_extension": ".py",
   "mimetype": "text/x-python",
   "name": "python",
   "nbconvert_exporter": "python",
   "pygments_lexer": "ipython3",
   "version": "3.12.4"
  }
 },
 "nbformat": 4,
 "nbformat_minor": 4
}
