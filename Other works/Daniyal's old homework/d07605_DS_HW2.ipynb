{
 "cells": [
  {
   "cell_type": "code",
   "execution_count": 93,
   "id": "7c9fbf7a",
   "metadata": {},
   "outputs": [],
   "source": [
    "import pandas as pd"
   ]
  },
  {
   "cell_type": "code",
   "execution_count": 94,
   "id": "e9497256",
   "metadata": {},
   "outputs": [],
   "source": [
    "df = pd.read_csv('580SurveyCleanup.csv')"
   ]
  },
  {
   "cell_type": "code",
   "execution_count": 95,
   "id": "113c4432",
   "metadata": {},
   "outputs": [],
   "source": [
    "# df.head()"
   ]
  },
  {
   "cell_type": "code",
   "execution_count": 96,
   "id": "81cf8211",
   "metadata": {},
   "outputs": [],
   "source": [
    "df1 = df.iloc[:,1:12] # creating df of col 1 to 12 with all rows\n",
    "df1.columns = df1.iloc[0] # assigning first row as the columns name\n",
    "df1 = df1[1:] # df1 = df1 except for the first row which were the col names"
   ]
  },
  {
   "cell_type": "code",
   "execution_count": 97,
   "id": "f9956f8c",
   "metadata": {},
   "outputs": [],
   "source": [
    "# FOR Q1"
   ]
  },
  {
   "cell_type": "code",
   "execution_count": 98,
   "id": "2c2b9969",
   "metadata": {},
   "outputs": [],
   "source": [
    "df2 = df.iloc[:, [12,13]] # creating df for Q1\n",
    "df2.columns = df2.iloc[0].astype(str) # assiging first row as col name\n",
    "df2 = df2[1:] # removing first row from df"
   ]
  },
  {
   "cell_type": "code",
   "execution_count": 99,
   "id": "2f5284dd",
   "metadata": {},
   "outputs": [],
   "source": [
    "#replacing 1 with col name.\n",
    "df3 = df2.loc[:,['2.0','4.0']].replace(1, pd.Series(df2.columns, df2.columns)).fillna('')"
   ]
  },
  {
   "cell_type": "code",
   "execution_count": 100,
   "id": "6d234a18",
   "metadata": {},
   "outputs": [],
   "source": [
    "df4 = pd.DataFrame(df3.iloc[:,0] + df3.iloc[:,1]) #merging both columns into a df\n",
    "df4.columns = ['AIT-580 Section']\n",
    "# df4.head()"
   ]
  },
  {
   "cell_type": "code",
   "execution_count": 101,
   "id": "42a46e93",
   "metadata": {},
   "outputs": [],
   "source": [
    "#axis = 0 means to concatenate vertically in a series, and =1 means to concatenate horizontally \n",
    "df1 = pd.concat([df1,df4], axis = 1) "
   ]
  },
  {
   "cell_type": "code",
   "execution_count": 102,
   "id": "421dc0be",
   "metadata": {},
   "outputs": [],
   "source": [
    "#FOR Q2"
   ]
  },
  {
   "cell_type": "code",
   "execution_count": 103,
   "id": "30c4dc25",
   "metadata": {
    "scrolled": true
   },
   "outputs": [],
   "source": [
    "df2_1 = df.iloc[:,14:18] # seperating Col for Q2\n",
    "df2_1.columns= df2_1.iloc[0].astype(str) # setting first row as col names\n",
    "df2_1= df2_1.iloc[1:] # removing first row\n",
    "# df2_1.head()"
   ]
  },
  {
   "cell_type": "code",
   "execution_count": 104,
   "id": "2cff231a",
   "metadata": {},
   "outputs": [],
   "source": [
    "# df3 = df2.loc[:,].replace(1,pd.Series(df2.columns,df2.columns)).fillna('')\n",
    "df2_2 = df2_1.loc[:,'Male':'Prefer not to answer'].replace('1', pd.Series(df2_1.columns,df2_1.columns)).fillna('')\n",
    "# pd.Series(df2_1.columns,df2_1.columns)"
   ]
  },
  {
   "cell_type": "code",
   "execution_count": 105,
   "id": "5fa192cc",
   "metadata": {},
   "outputs": [],
   "source": [
    "df2_3 = pd.DataFrame(df2_2.iloc[:,0]+df2_2.iloc[:,1]+df2_2.iloc[:,2]+df2_2.iloc[:,3])\n",
    "df2_3.columns = ['Gender']"
   ]
  },
  {
   "cell_type": "code",
   "execution_count": 106,
   "id": "4ce8efee",
   "metadata": {},
   "outputs": [],
   "source": [
    "df1 = pd.concat([df1,df2_3], axis = 1)"
   ]
  },
  {
   "cell_type": "code",
   "execution_count": 107,
   "id": "022aa85c",
   "metadata": {},
   "outputs": [],
   "source": [
    "# FOR Q3-7"
   ]
  },
  {
   "cell_type": "code",
   "execution_count": 108,
   "id": "e768e431",
   "metadata": {},
   "outputs": [],
   "source": [
    "df3_1 = df.iloc[:,18:23]\n",
    "df3_1.columns = df3_1.iloc[0]\n",
    "df3_1 = df3_1.iloc[1:]\n",
    "# df3_1"
   ]
  },
  {
   "cell_type": "code",
   "execution_count": 109,
   "id": "307b8265",
   "metadata": {},
   "outputs": [],
   "source": [
    "df1 = pd.concat([df1, df3_1], axis = 1)"
   ]
  },
  {
   "cell_type": "code",
   "execution_count": 110,
   "id": "bb4bd0dd",
   "metadata": {},
   "outputs": [],
   "source": [
    "# FOR Q8"
   ]
  },
  {
   "cell_type": "code",
   "execution_count": 111,
   "id": "0ce37e35",
   "metadata": {},
   "outputs": [],
   "source": [
    "df8_1 = df.iloc[:, 23:26]\n",
    "df8_1.columns = df8_1.iloc[0]\n",
    "df8_1 = df8_1.iloc[1:]\n"
   ]
  },
  {
   "cell_type": "code",
   "execution_count": 112,
   "id": "4c76c307",
   "metadata": {},
   "outputs": [],
   "source": [
    "df8_2 = df8_1.loc[:, 'Microsoft/Windows':'Other'].replace('2', '1').fillna('No')\n",
    "df8_2 = df8_2.loc[:, 'Microsoft/Windows':'Other'].replace('0', '1').fillna('No')\n",
    "df8_2 = df8_2.loc[:, 'Microsoft/Windows':'Other'].replace('1', 'Yes').fillna('No')\n"
   ]
  },
  {
   "cell_type": "code",
   "execution_count": 113,
   "id": "6ef7db1e",
   "metadata": {},
   "outputs": [],
   "source": [
    "df8_4 = pd.DataFrame(df.iloc[:,26]) \n",
    "df8_4.columns = ['Device']\n",
    " \n",
    "df8_4 = df8_4.iloc[1:]\n",
    "mask = df8_2['Other'] == 'Yes'\n",
    "#replacing other Yes value with the Name of the current device.\n",
    "df8_2.loc[mask, 'Other'] = df8_4.loc[mask, 'Device'] "
   ]
  },
  {
   "cell_type": "code",
   "execution_count": 114,
   "id": "51b8ce28",
   "metadata": {},
   "outputs": [],
   "source": [
    "df1 = pd.concat([df1,df8_2], axis = 1)"
   ]
  },
  {
   "cell_type": "code",
   "execution_count": 115,
   "id": "33089737",
   "metadata": {},
   "outputs": [],
   "source": [
    "#FOR Q9"
   ]
  },
  {
   "cell_type": "code",
   "execution_count": 116,
   "id": "6893416e",
   "metadata": {},
   "outputs": [],
   "source": [
    "df9_1 = df.iloc[:,27:30]\n",
    "df9_1.columns = df9_1.iloc[0]\n",
    "df9_1 = df9_1.iloc[1:]\n",
    "df9_2 = df9_1.replace('1', pd.Series(df9_1.columns,df9_1.columns)).fillna('')\n",
    "df9_3 = pd.DataFrame(df9_2.iloc[:,0]+df9_2.iloc[:,1]+df9_2.iloc[:,2])\n",
    "df9_3.columns = ['Employed full-time while attending Mason?']\n"
   ]
  },
  {
   "cell_type": "code",
   "execution_count": 117,
   "id": "2ac6a161",
   "metadata": {},
   "outputs": [],
   "source": [
    "df1 = pd.concat([df1, df9_3], axis = 1)"
   ]
  },
  {
   "cell_type": "code",
   "execution_count": 118,
   "id": "f7af1d33",
   "metadata": {},
   "outputs": [],
   "source": [
    "# For Q10"
   ]
  },
  {
   "cell_type": "code",
   "execution_count": 119,
   "id": "f1e8a08b",
   "metadata": {},
   "outputs": [],
   "source": [
    "df10_1 = df.iloc[:, 30:35]\n",
    "df10_1.columns = df10_1.iloc[0]\n",
    "df10_1 = df10_1.iloc[1:]\n",
    "df10_1 = df10_1.replace('1', pd.Series(df10_1.columns, df10_1.columns)).fillna('')\n",
    "df10_2 = pd.DataFrame(df10_1.iloc[:,0]+df10_1.iloc[:,1]+df10_1.iloc[:,2]+df10_1.iloc[:,3]+df10_1.iloc[:,4])\n",
    "df10_2.columns = ['Approximate Current Python Programming Skills'] \n"
   ]
  },
  {
   "cell_type": "code",
   "execution_count": 120,
   "id": "cb47a9c8",
   "metadata": {},
   "outputs": [],
   "source": [
    "df1 = pd.concat([df1,df10_2], axis = 1)\n"
   ]
  },
  {
   "cell_type": "code",
   "execution_count": 121,
   "id": "04d90d69",
   "metadata": {},
   "outputs": [],
   "source": [
    "# For Q11"
   ]
  },
  {
   "cell_type": "code",
   "execution_count": 122,
   "id": "8c266b98",
   "metadata": {},
   "outputs": [],
   "source": [
    "df11_1 = df.iloc[:, 35:40]\n",
    "df11_1.columns = df11_1.iloc[0]\n",
    "df11_1 = df11_1.iloc[1:]\n",
    "df11_1 = df11_1.replace('1', pd.Series(df11_1.columns, df11_1.columns)).fillna('')\n",
    "df11_2 = pd.DataFrame(df11_1.iloc[:,0]+df11_1.iloc[:,1]+df11_1.iloc[:,2]+df11_1.iloc[:,3]+df11_1.iloc[:,4])\n",
    "df11_2.columns = ['Approximate Current R Programming Skills'] \n",
    "# df11_2"
   ]
  },
  {
   "cell_type": "code",
   "execution_count": 123,
   "id": "d7931994",
   "metadata": {},
   "outputs": [],
   "source": [
    "df1 = pd.concat([df1,df11_2], axis = 1)"
   ]
  },
  {
   "cell_type": "code",
   "execution_count": 124,
   "id": "c305c866",
   "metadata": {},
   "outputs": [],
   "source": [
    "# For Q12"
   ]
  },
  {
   "cell_type": "code",
   "execution_count": 125,
   "id": "654cef23",
   "metadata": {},
   "outputs": [],
   "source": [
    "df12_1 = df.iloc[:, 40:45]\n",
    "df12_1.columns = df12_1.iloc[0]\n",
    "df12_1 = df12_1.iloc[1:]\n",
    "df12_1 = df12_1.replace('1', pd.Series(df12_1.columns, df12_1.columns)).fillna('')\n",
    "df12_2 = pd.DataFrame(df12_1.iloc[:,0]+df12_1.iloc[:,1]+df12_1.iloc[:,2]+df12_1.iloc[:,3]+df12_1.iloc[:,4])\n",
    "df12_2.columns = ['Approximate Current SQL Programming Skills'] \n",
    "# df12_2"
   ]
  },
  {
   "cell_type": "code",
   "execution_count": 126,
   "id": "fb8c8c49",
   "metadata": {},
   "outputs": [],
   "source": [
    "df1 = pd.concat([df1,df12_2], axis = 1)"
   ]
  },
  {
   "cell_type": "code",
   "execution_count": 127,
   "id": "bb71a9f5",
   "metadata": {},
   "outputs": [],
   "source": [
    "df13_1 = pd.DataFrame(df.iloc[:, 45])\n",
    "df13_1.columns = df13_1.iloc[0]\n",
    "df13_1 = df13_1.iloc[1:] "
   ]
  },
  {
   "cell_type": "code",
   "execution_count": 128,
   "id": "ceba51e2",
   "metadata": {},
   "outputs": [],
   "source": [
    "df1 = pd.concat([df1,df13_1], axis = 1)"
   ]
  },
  {
   "cell_type": "code",
   "execution_count": 135,
   "id": "3138b4bd",
   "metadata": {},
   "outputs": [],
   "source": [
    "# df1.to_csv(\"formated_DataSet_580SurveyQuestions.csv\", index = True)"
   ]
  },
  {
   "cell_type": "code",
   "execution_count": 331,
   "id": "c2957a60",
   "metadata": {},
   "outputs": [],
   "source": [
    "#-------------------------Part 2-------------------------------------------------------------"
   ]
  },
  {
   "cell_type": "code",
   "execution_count": 332,
   "id": "bf3d0c04",
   "metadata": {},
   "outputs": [
    {
     "data": {
      "text/plain": [
       "Index(['Access Code', 'Email Address', 'Region', 'City / Town / District',\n",
       "       'Height (Inches)', 'Country of Citizenship', 'Undergraduate Degree',\n",
       "       'Expected Graduation date from Mason MS program?',\n",
       "       'What is your goal for learning about data analytics?'],\n",
       "      dtype='object')"
      ]
     },
     "execution_count": 332,
     "metadata": {},
     "output_type": "execute_result"
    }
   ],
   "source": [
    "# df1.isnull().any() tells the columns having missing values\n",
    "df1.columns[df1.isnull().any()] # tells the columns having null values"
   ]
  },
  {
   "cell_type": "code",
   "execution_count": 333,
   "id": "bc3f0c5d",
   "metadata": {},
   "outputs": [],
   "source": [
    "df2_1 = df1.drop(\"Access Code\", axis = 1) # since the whole column of \"Access Code\" is empty\n",
    "df2_2 = df2_1.drop(\"Email Address\", axis = 1) # since the whole column of \"Email Address\" is empty"
   ]
  },
  {
   "cell_type": "code",
   "execution_count": 334,
   "id": "dba7fbd0",
   "metadata": {},
   "outputs": [
    {
     "data": {
      "text/plain": [
       "'I have kept NaN values of both \"Region\" and \"City / Town / District\" columns as Unknown because \\nit cannot be determined by any other factor. I tried analyzing IPs to decide whether the network \\nbits of particular IPs are comming from a specific region, but that isnt the case. Moreover the \\nanswers of students are also from different region.Therefore according to predicting those regions\\nwould lead to adding false values in the data.'"
      ]
     },
     "execution_count": 334,
     "metadata": {},
     "output_type": "execute_result"
    }
   ],
   "source": [
    "df2_2.loc[:,'Region'] = df2_2.loc[:,'Region'].fillna('Unknown') \n",
    "df2_2.loc[:,'City / Town / District'] = df2_2.loc[:,'City / Town / District'].fillna('Unknown') \n",
    "\n",
    "'''I have kept NaN values of both \"Region\" and \"City / Town / District\" columns as Unknown because \n",
    "it cannot be determined by any other factor. I tried analyzing IPs to decide whether the network \n",
    "bits of particular IPs are comming from a specific region, but that isnt the case. Moreover the \n",
    "answers of students are also from different region.Therefore according to predicting those regions\n",
    "would lead to adding false values in the data.''' "
   ]
  },
  {
   "cell_type": "code",
   "execution_count": 335,
   "id": "d09e3b4f",
   "metadata": {},
   "outputs": [],
   "source": [
    "df2_3 = df2_2['Height (Inches)'].fillna(0)\n",
    "df2_3 = df2_3.replace('5.2', 0)\n",
    "df2_3 = df2_3.replace('6l', 61)\n",
    "df2_3 = df2_3.replace('7O', 70)\n",
    "df2_3 = df2_3.astype(int)\n",
    "median_height = df2_3.median()\n",
    "df2_3 = df2_3.replace(0, median_height)\n",
    "df2_2['Height (Inches)'] = df2_3\n",
    "# df2_2.loc[:,'Height (Inches)']\n",
    "\n",
    "\n",
    "# Explaination: Initially I filled NA values and 5.2 (False data) with 0, becuase I wanted them to be \n",
    "# changed. Then I replaced the string value with the numerical value it resembeled. Then I took the\n",
    "# median because, 0 values were the outliers. Therefore, mean or mode wouldnt work. At the end I\n",
    "# replaced all the 0 values with median."
   ]
  },
  {
   "cell_type": "code",
   "execution_count": 336,
   "id": "6d2d2390",
   "metadata": {},
   "outputs": [],
   "source": [
    "df2_4 = df2_2.loc[:,'Country of Citizenship'].str.title()\n",
    "df2_4 = df2_4.str.strip()\n",
    "df2_4 = df2_4.replace(\"Usa\", \"United States\")\n",
    "df2_4 = df2_4.replace(\"Us\", \"United States\")\n",
    "df2_4 = df2_4.fillna('Unknown')\n",
    "df2_2['Country of Citizenship'] = df2_4\n",
    "# df2_2.loc[:,'Country of Citizenship']\n",
    "\n",
    "# Explaination: first I have title cased all my strings to it is easier for me to work on them. Next\n",
    "# I stripped all my values to remove any white spaces. Then I replace repetitive values i.e. USA and US\n",
    "# with a single value i.e United States. At last I replaced null values with Unknown. Because one cannot\n",
    "# predict the country of citizenship of any person based on any given factor."
   ]
  },
  {
   "cell_type": "code",
   "execution_count": 337,
   "id": "f125e8ea",
   "metadata": {},
   "outputs": [],
   "source": [
    "df2_5 = df2_2.loc[:, \"Undergraduate Degree\"].str.upper()\n",
    "df2_5 = df2_5.str.strip()\n",
    "df2_5 = df2_5.replace(\"ECONOMIC\",\"ECONOMICS\")\n",
    "df2_5 = df2_5.replace(\"CRIMINOLOGY LAW AND SOCI\",\"CRIMINOLOGY LAW AND SOCIOLOGY\")\n",
    "df2_5 = df2_5.replace(\"B.TECH IN CS\",\"BACHELOR OF TECHNOLOGY IN CS\")\n",
    "df2_5 = df2_5.replace(\"BS ACCOUNTING\",\"BACHELOR OF SCIENCE IN CS\")\n",
    "df2_5 = df2_5.replace(\"ECE\",\"ELECTRICAL AND COMPUTER ENGINEERING\")\n",
    "df2_5 = df2_5.replace(\"BIT\",\"BUSINESS INFORMATION TECHNOLOGY\")\n",
    "df2_5 = df2_5.replace(\"CSE\",\"COMPUTER SCIENCE AND ENGINEERING\")\n",
    "df2_5 = df2_5.fillna(\"NO DEGREE\")\n",
    "df2_2.loc[:, \"Undergraduate Degree\"] = df2_5\n",
    "\n",
    "# Explaination: I have first cleared the data. I have upper cased it so that It becomes easier for me\n",
    "# to work with it. Moreover, I replaced the acronyms with their full names. I also handled \n",
    "# multiple names of the same entity. Atlast, I filled the null values with \"NO DEGREE\" because it \n",
    "# appears to me as if a person hasnt filled this field than he wouldnt yet have a undergraduate degree."
   ]
  },
  {
   "cell_type": "code",
   "execution_count": 338,
   "id": "ef286f2f",
   "metadata": {},
   "outputs": [],
   "source": [
    "df2_6 = df2_2.loc[:,\"Expected Graduation date from Mason MS program?\"]\n",
    "df2_7 = df2_6.dropna()\n",
    "mode_date =  df2_7.mode()\n",
    "# df2_6.fill\n",
    "df2_2.loc[:,\"Expected Graduation date from Mason MS program?\"] = df2_6.fillna(mode_date[0])\n",
    "# mode_date\n",
    "\n",
    "# Explaination: I have calculated the mode of the graduation dates. Most people were graduting in 12th\n",
    "# month of 2021. However, there were two dates frequently repeating for the same month and year. i,e\n",
    "# \"2021-12-20\" and \"2021-12-31.\" I chose the very first one to be replaced by NA values."
   ]
  },
  {
   "cell_type": "code",
   "execution_count": 339,
   "id": "daff0b9e",
   "metadata": {},
   "outputs": [],
   "source": [
    "df2_6 = df2_2.loc[:, \"What is your goal for learning about data analytics?\"]\n",
    "df2_6 = df2_6.str.title()\n",
    "df2_6 = df2_6.fillna(\"To Learn and acquire skills\")\n",
    "df2_2.loc[:, \"What is your goal for learning about data analytics?\"] = df2_6\n",
    "# Explainaton: Most of the people in this field want to learn and acquire some skill. Very few people \n",
    "# wanted a good job, explored their intrest, wanted to start a company or etc.  \n"
   ]
  },
  {
   "cell_type": "code",
   "execution_count": 340,
   "id": "c72ba37a",
   "metadata": {},
   "outputs": [],
   "source": [
    "df2_10 = df2_2.loc[:,\"Approximate Current Python Programming Skills\"]\n",
    "df2_10_mode = df2_10.mode()\n",
    "df2_10 = df2_10.replace('', df2_10_mode[0])\n",
    "df2_2.loc[:,\"Approximate Current Python Programming Skills\"] = df2_10\n",
    "\n",
    "# Explaination: Since they all were students therefore, I took the mode of their values to find the\n",
    "# most occuring values. Hence, I replaced NAN values with that. "
   ]
  },
  {
   "cell_type": "code",
   "execution_count": 341,
   "id": "38ade36a",
   "metadata": {},
   "outputs": [],
   "source": [
    "df2_11 = df2_2.loc[:,\"Approximate Current R Programming Skills\"]\n",
    "df2_11_mode = df2_11.mode()\n",
    "df2_11 = df2_11.replace('', df2_11_mode[0])\n",
    "df2_2.loc[:,\"Approximate Current R Programming Skills\"] = df2_11\n",
    "\n",
    "# Explaination: Since they all were students therefore, I took the mode of their values to find the\n",
    "# most occuring values. Hence, I replaced NAN values with that. "
   ]
  },
  {
   "cell_type": "code",
   "execution_count": 342,
   "id": "fae0a0a1",
   "metadata": {},
   "outputs": [],
   "source": [
    "df2_12 = df2_2.loc[:,\"Approximate Current SQL Programming Skills\"]\n",
    "df2_12_mode = df2_12.mode()\n",
    "df2_12 = df2_12.replace('', df2_12_mode[0])\n",
    "df2_2.loc[:,\"Approximate Current SQL Programming Skills\"] = df2_12\n",
    "\n",
    "# Explaination: Since they all were students therefore, I took the mode of their values to find the\n",
    "# most occuring values. Hence, I replaced NAN values with that. "
   ]
  },
  {
   "cell_type": "code",
   "execution_count": 343,
   "id": "1207eb61",
   "metadata": {},
   "outputs": [],
   "source": [
    "# df2_2\n",
    "df2_13 = df2_2.loc[:,\"Employed full-time while attending Mason?\"]\n",
    "df2_13_mode = df2_13.mode()\n",
    "df2_13 = df2_13.replace('', df2_13_mode[0])\n",
    "df2_2.loc[:,\"Employed full-time while attending Mason?\"] = df2_13\n",
    "\n",
    "# Explaination: Most of them were not studying while attending the Mason. We can therefore, assume \n",
    "# that the NAN values could be safe;y replaced with that."
   ]
  },
  {
   "cell_type": "code",
   "execution_count": 353,
   "id": "854b4460",
   "metadata": {},
   "outputs": [],
   "source": [
    "df2_14 = df2_2.loc[:,\"Age (years)\"]\n",
    "df2_14 = df2_14.replace(\"2 3\", \"23\")\n",
    "c = 2020 - 1993\n",
    "df2_14 = df2_14.replace(\"1993\", str(c))\n",
    "df2_2.loc[:,\"Age (years)\"] = df2_14"
   ]
  },
  {
   "cell_type": "code",
   "execution_count": 354,
   "id": "b5b6564e",
   "metadata": {},
   "outputs": [],
   "source": [
    "df2_2.to_csv(\"cleared_DataSet_580SurveyQuestions.csv\", index = True)"
   ]
  },
  {
   "cell_type": "code",
   "execution_count": 345,
   "id": "9367053e",
   "metadata": {},
   "outputs": [],
   "source": [
    "#-------------------------Part 3-------------------------------------------------------------"
   ]
  },
  {
   "cell_type": "code",
   "execution_count": 358,
   "id": "73406983",
   "metadata": {},
   "outputs": [
    {
     "data": {
      "text/plain": [
       "count      36\n",
       "unique      2\n",
       "top       2.0\n",
       "freq       20\n",
       "Name: AIT-580 Section, dtype: object"
      ]
     },
     "execution_count": 358,
     "metadata": {},
     "output_type": "execute_result"
    }
   ],
   "source": [
    "# for question 1\n",
    "df2_2.iloc[:, 9].describe()\n",
    "\n",
    "# most of the students who answered the question were from 2 section. It means that \"Prof Foxwell\" who\n",
    "# created this AllCounted survey were better able to convince students from section 2.0."
   ]
  },
  {
   "cell_type": "code",
   "execution_count": 359,
   "id": "b152ca9a",
   "metadata": {},
   "outputs": [
    {
     "data": {
      "text/plain": [
       "count       36\n",
       "unique       4\n",
       "top       Male\n",
       "freq        18\n",
       "Name: Gender, dtype: object"
      ]
     },
     "execution_count": 359,
     "metadata": {},
     "output_type": "execute_result"
    }
   ],
   "source": [
    "# for question 2\n",
    "df2_2.iloc[:, 10].describe()\n",
    "# most of the students who filled the survey were male. There was a diversity of genders, however,\n",
    "# present in the class. "
   ]
  },
  {
   "cell_type": "code",
   "execution_count": 360,
   "id": "73b79dd2",
   "metadata": {},
   "outputs": [
    {
     "data": {
      "text/plain": [
       "count     36\n",
       "unique    12\n",
       "top       23\n",
       "freq       8\n",
       "Name: Age (years), dtype: object"
      ]
     },
     "execution_count": 360,
     "metadata": {},
     "output_type": "execute_result"
    }
   ],
   "source": [
    "# for question 3\n",
    "df2_2.iloc[:, 11].describe()\n",
    "\n",
    "# most of the students who filled the survey were arounf 23 years of age. It looks like students\n",
    "# that age took this survey form more seriously. Or may be this comparatively young age, so they may\n",
    "# in their starting years of studies which could be one factor of this seriousness."
   ]
  },
  {
   "cell_type": "code",
   "execution_count": 361,
   "id": "7946dddb",
   "metadata": {},
   "outputs": [
    {
     "data": {
      "text/plain": [
       "count    36.000000\n",
       "mean     67.472222\n",
       "std       4.123009\n",
       "min      56.000000\n",
       "25%      66.000000\n",
       "50%      67.000000\n",
       "75%      70.000000\n",
       "max      75.000000\n",
       "Name: Height (Inches), dtype: float64"
      ]
     },
     "execution_count": 361,
     "metadata": {},
     "output_type": "execute_result"
    }
   ],
   "source": [
    "# for question 4\n",
    "df2_2.iloc[:, 12].describe()\n",
    "\n",
    "# Most of the students are arounf 67.4722 inches tall. Min height among the students is 56 inches \n",
    "# while maximum height is 75 inches. "
   ]
  },
  {
   "cell_type": "code",
   "execution_count": 362,
   "id": "50049d3f",
   "metadata": {},
   "outputs": [
    {
     "data": {
      "text/plain": [
       "count        36\n",
       "unique       13\n",
       "top       India\n",
       "freq         10\n",
       "Name: Country of Citizenship, dtype: object"
      ]
     },
     "execution_count": 362,
     "metadata": {},
     "output_type": "execute_result"
    }
   ],
   "source": [
    "# for question 5\n",
    "df2_2.iloc[:, 13].describe()\n",
    "\n",
    "# Most of the students studying there are from India. As IT sector of India is already booming\n",
    "# therefore one can see presence of Indian students in International schools in huge numbers. "
   ]
  },
  {
   "cell_type": "code",
   "execution_count": 363,
   "id": "c388dce2",
   "metadata": {},
   "outputs": [
    {
     "data": {
      "text/plain": [
       "count            36\n",
       "unique           26\n",
       "top       ECONOMICS\n",
       "freq              5\n",
       "Name: Undergraduate Degree, dtype: object"
      ]
     },
     "execution_count": 363,
     "metadata": {},
     "output_type": "execute_result"
    }
   ],
   "source": [
    "# for question 6\n",
    "df2_2.iloc[:, 14].describe()\n",
    "\n",
    "# All students are enrolled in diverse programs. However, in economic largest chunk of these students\n",
    "# can be found. By simply looking at the data, one can also notice that many students are also\n",
    "# intrested in computer related fields. "
   ]
  },
  {
   "cell_type": "code",
   "execution_count": 364,
   "id": "157f743f",
   "metadata": {},
   "outputs": [
    {
     "data": {
      "text/plain": [
       "count             36\n",
       "unique            24\n",
       "top       2021-12-20\n",
       "freq               6\n",
       "Name: Expected Graduation date from Mason MS program?, dtype: object"
      ]
     },
     "execution_count": 364,
     "metadata": {},
     "output_type": "execute_result"
    }
   ],
   "source": [
    "# for question 7\n",
    "df2_2.iloc[:, 15].describe()\n",
    "\n",
    "# Most of the students are graduating in the end 2021 year. It means that the academic year in that \n",
    "# university finishes at the end of the year. "
   ]
  },
  {
   "cell_type": "code",
   "execution_count": 365,
   "id": "6f40333a",
   "metadata": {},
   "outputs": [
    {
     "data": {
      "text/plain": [
       "count      36\n",
       "unique      2\n",
       "top       Yes\n",
       "freq       24\n",
       "Name: Microsoft/Windows, dtype: object"
      ]
     },
     "execution_count": 365,
     "metadata": {},
     "output_type": "execute_result"
    }
   ],
   "source": [
    "# for question 8\n",
    "df2_2.iloc[:, 16].describe()\n",
    "\n",
    "# Most of the students are comfortable in using Microsoft/windows devices,"
   ]
  },
  {
   "cell_type": "code",
   "execution_count": 367,
   "id": "b3ea367c",
   "metadata": {},
   "outputs": [
    {
     "data": {
      "text/plain": [
       "count     36\n",
       "unique     2\n",
       "top       No\n",
       "freq      25\n",
       "Name: Apple/MacBook, dtype: object"
      ]
     },
     "execution_count": 367,
     "metadata": {},
     "output_type": "execute_result"
    }
   ],
   "source": [
    "df2_2.iloc[:, 17].describe()"
   ]
  },
  {
   "cell_type": "code",
   "execution_count": 366,
   "id": "dd547bae",
   "metadata": {},
   "outputs": [
    {
     "data": {
      "text/plain": [
       "count     36\n",
       "unique     2\n",
       "top       No\n",
       "freq      35\n",
       "Name: Other, dtype: object"
      ]
     },
     "execution_count": 366,
     "metadata": {},
     "output_type": "execute_result"
    }
   ],
   "source": [
    "df2_2.iloc[:, 18].describe()"
   ]
  },
  {
   "cell_type": "code",
   "execution_count": 369,
   "id": "5b358a9d",
   "metadata": {},
   "outputs": [
    {
     "data": {
      "text/plain": [
       "count                                    36\n",
       "unique                                    3\n",
       "top       Not Working while attending Mason\n",
       "freq                                     20\n",
       "Name: Employed full-time while attending Mason?, dtype: object"
      ]
     },
     "execution_count": 369,
     "metadata": {},
     "output_type": "execute_result"
    }
   ],
   "source": [
    "# for question 9\n",
    "df2_2.iloc[:, 19].describe()\n",
    "\n",
    "# Most of the students while studying doesnot prefer working in that semster or generally may be in\n",
    "# university due to work load."
   ]
  },
  {
   "cell_type": "code",
   "execution_count": 370,
   "id": "8bebfd95",
   "metadata": {},
   "outputs": [
    {
     "data": {
      "text/plain": [
       "count               36\n",
       "unique               4\n",
       "top       Average user\n",
       "freq                18\n",
       "Name: Approximate Current Python Programming Skills, dtype: object"
      ]
     },
     "execution_count": 370,
     "metadata": {},
     "output_type": "execute_result"
    }
   ],
   "source": [
    "# for question 10\n",
    "df2_2.iloc[:, 20].describe()\n",
    "\n",
    "# In general students have average skills in python programming language. "
   ]
  },
  {
   "cell_type": "code",
   "execution_count": 371,
   "id": "e979cc50",
   "metadata": {},
   "outputs": [
    {
     "data": {
      "text/plain": [
       "count               36\n",
       "unique               5\n",
       "top       Average user\n",
       "freq                12\n",
       "Name: Approximate Current R Programming Skills, dtype: object"
      ]
     },
     "execution_count": 371,
     "metadata": {},
     "output_type": "execute_result"
    }
   ],
   "source": [
    "# for question 11\n",
    "df2_2.iloc[:, 21].describe()\n",
    "\n",
    "# In general students have average skills in R programming language. "
   ]
  },
  {
   "cell_type": "code",
   "execution_count": 372,
   "id": "b8f64c2f",
   "metadata": {},
   "outputs": [
    {
     "data": {
      "text/plain": [
       "count               36\n",
       "unique               4\n",
       "top       Average user\n",
       "freq                18\n",
       "Name: Approximate Current SQL Programming Skills, dtype: object"
      ]
     },
     "execution_count": 372,
     "metadata": {},
     "output_type": "execute_result"
    }
   ],
   "source": [
    "# for question 12\n",
    "df2_2.iloc[:, 22].describe()\n",
    "\n",
    "# In general students have average skills in SQL programming language. It means neither python, nor R \n",
    "# SQl is taught at professional level in this semester/ previous semesters."
   ]
  },
  {
   "cell_type": "code",
   "execution_count": null,
   "id": "3beb1a8d",
   "metadata": {},
   "outputs": [],
   "source": []
  }
 ],
 "metadata": {
  "kernelspec": {
   "display_name": "Python 3 (ipykernel)",
   "language": "python",
   "name": "python3"
  },
  "language_info": {
   "codemirror_mode": {
    "name": "ipython",
    "version": 3
   },
   "file_extension": ".py",
   "mimetype": "text/x-python",
   "name": "python",
   "nbconvert_exporter": "python",
   "pygments_lexer": "ipython3",
   "version": "3.11.4"
  }
 },
 "nbformat": 4,
 "nbformat_minor": 5
}
