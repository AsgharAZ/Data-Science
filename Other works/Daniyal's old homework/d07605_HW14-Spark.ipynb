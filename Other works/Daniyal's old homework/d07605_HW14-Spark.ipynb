{
 "cells": [
  {
   "cell_type": "markdown",
   "metadata": {
    "application/vnd.databricks.v1+cell": {
     "cellMetadata": {},
     "inputWidgets": {},
     "nuid": "998874f6-f184-424a-82bc-95c959ac5de0",
     "showTitle": false,
     "title": ""
    }
   },
   "source": [
    "###Daniyal Rahim d07605"
   ]
  },
  {
   "cell_type": "code",
   "execution_count": 0,
   "metadata": {
    "application/vnd.databricks.v1+cell": {
     "cellMetadata": {
      "byteLimit": 2048000,
      "rowLimit": 10000
     },
     "inputWidgets": {},
     "nuid": "995767c2-8fbe-4a7d-80ac-3109c45de204",
     "showTitle": false,
     "title": ""
    },
    "tags": []
   },
   "outputs": [],
   "source": [
    "from pyspark import SparkConf, SparkContext\n",
    "from pyspark.sql import SQLContext, SparkSession\n",
    "\n",
    "#sc is the Spark Context already available at databricks, so we do not need to create it again.\n",
    "#sc = SparkContext()\n",
    "# sqlContext = SQLContext(sc)\n",
    "\n",
    "# from pyspark.sql import SparkSession\n",
    "sqlContext = SparkSession.builder.appName('abc').getOrCreate()"
   ]
  },
  {
   "cell_type": "markdown",
   "metadata": {
    "application/vnd.databricks.v1+cell": {
     "cellMetadata": {},
     "inputWidgets": {},
     "nuid": "dad83ce3-0a95-468b-be6b-eeb20a725806",
     "showTitle": false,
     "title": ""
    }
   },
   "source": [
    "# Creating RDD (Resilient Distributed Dataset) - fundamental data structure of Spark"
   ]
  },
  {
   "cell_type": "code",
   "execution_count": 0,
   "metadata": {
    "application/vnd.databricks.v1+cell": {
     "cellMetadata": {
      "byteLimit": 2048000,
      "rowLimit": 10000
     },
     "inputWidgets": {},
     "nuid": "85a92d7d-862a-43da-a8e8-c1505a52225f",
     "showTitle": false,
     "title": ""
    }
   },
   "outputs": [],
   "source": [
    "products = sc.textFile(\"/FileStore/tables/SalesData.txt\")"
   ]
  },
  {
   "cell_type": "code",
   "execution_count": 0,
   "metadata": {
    "application/vnd.databricks.v1+cell": {
     "cellMetadata": {
      "byteLimit": 2048000,
      "rowLimit": 10000
     },
     "inputWidgets": {},
     "nuid": "2aa738f2-f4d1-4901-aad0-d5a8ee807c89",
     "showTitle": false,
     "title": ""
    }
   },
   "outputs": [
    {
     "name": "stdout",
     "output_type": "stream",
     "text": [
      "Out[3]: 'ProductID\\tName\\tProductNumber\\tColor\\tStandardCost\\tListPrice\\tSize\\tWeight\\tProductCategoryID\\tProductModelID\\tSellStartDate\\tSellEndDate\\tDiscontinuedDate\\tThumbNailPhoto\\tThumbnailPhotoFileName\\trowguid\\tModifiedDate'"
     ]
    }
   ],
   "source": [
    "products.first()"
   ]
  },
  {
   "cell_type": "code",
   "execution_count": 0,
   "metadata": {
    "application/vnd.databricks.v1+cell": {
     "cellMetadata": {
      "byteLimit": 2048000,
      "rowLimit": 10000
     },
     "inputWidgets": {},
     "nuid": "1d226610-9a0e-4915-9861-82c2b2163b0c",
     "showTitle": false,
     "title": ""
    }
   },
   "outputs": [
    {
     "name": "stdout",
     "output_type": "stream",
     "text": [
      "The data has 17 columns\n",
      "Out[10]: ['ProductID',\n",
      " 'Name',\n",
      " 'ProductNumber',\n",
      " 'Color',\n",
      " 'StandardCost',\n",
      " 'ListPrice',\n",
      " 'Size',\n",
      " 'Weight',\n",
      " 'ProductCategoryID',\n",
      " 'ProductModelID',\n",
      " 'SellStartDate',\n",
      " 'SellEndDate',\n",
      " 'DiscontinuedDate',\n",
      " 'ThumbNailPhoto',\n",
      " 'ThumbnailPhotoFileName',\n",
      " 'rowguid',\n",
      " 'ModifiedDate']"
     ]
    }
   ],
   "source": [
    "print(\"The data has {} columns\".format(len(products.first().split(\"\\t\"))))\n",
    "header = products.first().split(\"\\t\")\n",
    "header"
   ]
  },
  {
   "cell_type": "code",
   "execution_count": 0,
   "metadata": {
    "application/vnd.databricks.v1+cell": {
     "cellMetadata": {
      "byteLimit": 2048000,
      "rowLimit": 10000
     },
     "inputWidgets": {},
     "nuid": "ae301838-99e7-4a98-9531-f399521e6e46",
     "showTitle": false,
     "title": ""
    }
   },
   "outputs": [],
   "source": [
    "head = products.first()\n",
    "content = products.filter(lambda line: line != head)"
   ]
  },
  {
   "cell_type": "code",
   "execution_count": 0,
   "metadata": {
    "application/vnd.databricks.v1+cell": {
     "cellMetadata": {
      "byteLimit": 2048000,
      "rowLimit": 10000
     },
     "inputWidgets": {},
     "nuid": "b25629db-cfa9-4fd9-93fb-a1dc0fe5a044",
     "showTitle": false,
     "title": ""
    }
   },
   "outputs": [
    {
     "name": "stdout",
     "output_type": "stream",
     "text": [
      "Out[12]: '680\\tHL Road Frame - Black, 58\\tFR-R92B-58\\tBlack\\t1059.31\\t1431.50\\t58\\t1016.04\\t18\\t6\\t1998-06-01 00:00:00.000\\tNULL\\tNULL\\t0x47494638396150003100F70000000000800000008000808000000080800080008080808080C0C0C0FF000000FF00FFFF000000FFFF00FF00FFFFFFFFFF000000000000000000000000000000000000000000000000000000000000000000000000000000000000000000000000000000000000000000000000000000000000\\tno_image_available_small.gif\\t43DD68D6-14A4-461F-9069-55309D90EA7E\\t2004-03-11 10:01:36.827'"
     ]
    }
   ],
   "source": [
    "content.first()"
   ]
  },
  {
   "cell_type": "code",
   "execution_count": 0,
   "metadata": {
    "application/vnd.databricks.v1+cell": {
     "cellMetadata": {
      "byteLimit": 2048000,
      "rowLimit": 10000
     },
     "inputWidgets": {},
     "nuid": "7c6477b3-ae17-40c9-ad94-e226c1d96a67",
     "showTitle": false,
     "title": ""
    }
   },
   "outputs": [
    {
     "name": "stdout",
     "output_type": "stream",
     "text": [
      "Out[13]: 17"
     ]
    }
   ],
   "source": [
    "content.map(lambda line: len(line.split(\"\\t\"))).distinct().collect()[0]"
   ]
  },
  {
   "cell_type": "markdown",
   "metadata": {
    "application/vnd.databricks.v1+cell": {
     "cellMetadata": {},
     "inputWidgets": {},
     "nuid": "a3097865-16c7-4069-bf6b-b61d2a71ced9",
     "showTitle": false,
     "title": ""
    }
   },
   "source": [
    "# Example of RDD using Scala"
   ]
  },
  {
   "cell_type": "code",
   "execution_count": 0,
   "metadata": {
    "application/vnd.databricks.v1+cell": {
     "cellMetadata": {
      "byteLimit": 2048000,
      "rowLimit": 10000
     },
     "inputWidgets": {},
     "nuid": "fd3e1c26-ea05-4ffb-b91d-6ef5936864db",
     "showTitle": false,
     "title": ""
    }
   },
   "outputs": [
    {
     "name": "stdout",
     "output_type": "stream",
     "text": [
      "Out[14]: [['680',\n",
      "  'HL Road Frame - Black, 58',\n",
      "  'FR-R92B-58',\n",
      "  'Black',\n",
      "  '1059.31',\n",
      "  '1431.50',\n",
      "  '58',\n",
      "  '1016.04',\n",
      "  '18',\n",
      "  '6',\n",
      "  '1998-06-01 00:00:00.000',\n",
      "  'NULL',\n",
      "  'NULL',\n",
      "  '0x47494638396150003100F70000000000800000008000808000000080800080008080808080C0C0C0FF000000FF00FFFF000000FFFF00FF00FFFFFFFFFF000000000000000000000000000000000000000000000000000000000000000000000000000000000000000000000000000000000000000000000000000000000000',\n",
      "  'no_image_available_small.gif',\n",
      "  '43DD68D6-14A4-461F-9069-55309D90EA7E',\n",
      "  '2004-03-11 10:01:36.827']]"
     ]
    }
   ],
   "source": [
    "rdd1 = (content.filter(lambda line: line.split(\"\\t\"))\n",
    " .map(lambda line: (line.split(\"\\t\")))\n",
    ")\n",
    "rdd1.take(1)"
   ]
  },
  {
   "cell_type": "markdown",
   "metadata": {
    "application/vnd.databricks.v1+cell": {
     "cellMetadata": {},
     "inputWidgets": {},
     "nuid": "a105419c-a4d8-4fee-a173-8a25b774998c",
     "showTitle": false,
     "title": ""
    }
   },
   "source": [
    "# Converting RDD into Spark Dataframe"
   ]
  },
  {
   "cell_type": "code",
   "execution_count": 0,
   "metadata": {
    "application/vnd.databricks.v1+cell": {
     "cellMetadata": {
      "byteLimit": 2048000,
      "rowLimit": 10000
     },
     "inputWidgets": {},
     "nuid": "9a3f50ec-faaf-4aae-975c-5eeb4b1f66d6",
     "showTitle": false,
     "title": ""
    }
   },
   "outputs": [
    {
     "name": "stdout",
     "output_type": "stream",
     "text": [
      "+---------+--------------------+-------------+-----+------------+---------+----+-------+-----------------+--------------+--------------------+--------------------+----------------+--------------------+----------------------+--------------------+--------------------+\n",
      "|ProductID|                Name|ProductNumber|Color|StandardCost|ListPrice|Size| Weight|ProductCategoryID|ProductModelID|       SellStartDate|         SellEndDate|DiscontinuedDate|      ThumbNailPhoto|ThumbnailPhotoFileName|             rowguid|        ModifiedDate|\n",
      "+---------+--------------------+-------------+-----+------------+---------+----+-------+-----------------+--------------+--------------------+--------------------+----------------+--------------------+----------------------+--------------------+--------------------+\n",
      "|      680|HL Road Frame - B...|   FR-R92B-58|Black|     1059.31|  1431.50|  58|1016.04|               18|             6|1998-06-01 00:00:...|                NULL|            NULL|0x474946383961500...|  no_image_availabl...|43DD68D6-14A4-461...|2004-03-11 10:01:...|\n",
      "|      706|HL Road Frame - R...|   FR-R92R-58|  Red|     1059.31|  1431.50|  58|1016.04|               18|             6|1998-06-01 00:00:...|                NULL|            NULL|0x474946383961500...|  no_image_availabl...|9540FF17-2712-4C9...|2004-03-11 10:01:...|\n",
      "|      707|Sport-100 Helmet,...|    HL-U509-R|  Red|     13.0863|    34.99|NULL|   NULL|               35|            33|2001-07-01 00:00:...|                NULL|            NULL|0x474946383961500...|  no_image_availabl...|2E1EF41A-C08A-4FF...|2004-03-11 10:01:...|\n",
      "|      708|Sport-100 Helmet,...|      HL-U509|Black|     13.0863|    34.99|NULL|   NULL|               35|            33|2001-07-01 00:00:...|                NULL|            NULL|0x474946383961500...|  no_image_availabl...|A25A44FB-C2DE-426...|2004-03-11 10:01:...|\n",
      "|      709|Mountain Bike Soc...|    SO-B909-M|White|      3.3963|     9.50|   M|   NULL|               27|            18|2001-07-01 00:00:...|2002-06-30 00:00:...|            NULL|0x474946383961500...|  no_image_availabl...|18F95F47-1540-4E0...|2004-03-11 10:01:...|\n",
      "|      710|Mountain Bike Soc...|    SO-B909-L|White|      3.3963|     9.50|   L|   NULL|               27|            18|2001-07-01 00:00:...|2002-06-30 00:00:...|            NULL|0x474946383961500...|  no_image_availabl...|161C035E-21B3-4E1...|2004-03-11 10:01:...|\n",
      "|      711|Sport-100 Helmet,...|    HL-U509-B| Blue|     13.0863|    34.99|NULL|   NULL|               35|            33|2001-07-01 00:00:...|                NULL|            NULL|0x474946383961500...|  no_image_availabl...|FD7C0858-4179-48C...|2004-03-11 10:01:...|\n",
      "|      712|        AWC Logo Cap|      CA-1098|Multi|      6.9223|     8.99|NULL|   NULL|               23|             2|2001-07-01 00:00:...|                NULL|            NULL|0x474946383961500...|  no_image_availabl...|B9EDE243-A6F4-462...|2004-03-11 10:01:...|\n",
      "|      713|Long-Sleeve Logo ...|    LJ-0192-S|Multi|     38.4923|    49.99|   S|   NULL|               25|            11|2001-07-01 00:00:...|                NULL|            NULL|0x474946383961500...|  awc_jersey_male_s...|FD449C82-A259-4FA...|2004-03-11 10:01:...|\n",
      "|      714|Long-Sleeve Logo ...|    LJ-0192-M|Multi|     38.4923|    49.99|   M|   NULL|               25|            11|2001-07-01 00:00:...|                NULL|            NULL|0x474946383961500...|  awc_jersey_male_s...|6A290063-A0CF-432...|2004-03-11 10:01:...|\n",
      "|      715|Long-Sleeve Logo ...|    LJ-0192-L|Multi|     38.4923|    49.99|   L|   NULL|               25|            11|2001-07-01 00:00:...|                NULL|            NULL|0x474946383961500...|  awc_jersey_male_s...|34CF5EF5-C077-4EA...|2004-03-11 10:01:...|\n",
      "|      716|Long-Sleeve Logo ...|    LJ-0192-X|Multi|     38.4923|    49.99|  XL|   NULL|               25|            11|2001-07-01 00:00:...|                NULL|            NULL|0x474946383961500...|  awc_jersey_male_s...|6EC47EC9-C041-4DD...|2004-03-11 10:01:...|\n",
      "|      717|HL Road Frame - R...|   FR-R92R-62|  Red|    868.6342|  1431.50|  62|1043.26|               18|             6|2001-07-01 00:00:...|                NULL|            NULL|0x474946383961500...|  no_image_availabl...|052E4F8B-0A2A-46B...|2004-03-11 10:01:...|\n",
      "|      718|HL Road Frame - R...|   FR-R92R-44|  Red|    868.6342|  1431.50|  44| 961.61|               18|             6|2001-07-01 00:00:...|                NULL|            NULL|0x474946383961500...|  no_image_availabl...|A88D3B54-2CAE-43F...|2004-03-11 10:01:...|\n",
      "|      719|HL Road Frame - R...|   FR-R92R-48|  Red|    868.6342|  1431.50|  48| 979.75|               18|             6|2001-07-01 00:00:...|                NULL|            NULL|0x474946383961500...|  no_image_availabl...|07BEFC9A-7634-402...|2004-03-11 10:01:...|\n",
      "|      720|HL Road Frame - R...|   FR-R92R-52|  Red|    868.6342|  1431.50|  52| 997.90|               18|             6|2001-07-01 00:00:...|                NULL|            NULL|0x474946383961500...|  no_image_availabl...|FCFEA68F-310E-4E6...|2004-03-11 10:01:...|\n",
      "|      721|HL Road Frame - R...|   FR-R92R-56|  Red|    868.6342|  1431.50|  56|1016.04|               18|             6|2001-07-01 00:00:...|                NULL|            NULL|0x474946383961500...|  no_image_availabl...|56C85873-4993-41B...|2004-03-11 10:01:...|\n",
      "|      722|LL Road Frame - B...|   FR-R38B-58|Black|    204.6251|   337.22|  58|1115.83|               18|             9|2001-07-01 00:00:...|                NULL|            NULL|0x474946383961500...|  no_image_availabl...|2140F256-F705-4D6...|2004-03-11 10:01:...|\n",
      "|      723|LL Road Frame - B...|   FR-R38B-60|Black|    204.6251|   337.22|  60|1124.90|               18|             9|2001-07-01 00:00:...|                NULL|            NULL|0x474946383961500...|  no_image_availabl...|AA95E2A5-E7C4-4B7...|2004-03-11 10:01:...|\n",
      "|      724|LL Road Frame - B...|   FR-R38B-62|Black|    204.6251|   337.22|  62|1133.98|               18|             9|2001-07-01 00:00:...|                NULL|            NULL|0x474946383961500...|  no_image_availabl...|5247BE33-50BF-452...|2004-03-11 10:01:...|\n",
      "+---------+--------------------+-------------+-----+------------+---------+----+-------+-----------------+--------------+--------------------+--------------------+----------------+--------------------+----------------------+--------------------+--------------------+\n",
      "only showing top 20 rows\n",
      "\n"
     ]
    }
   ],
   "source": [
    "df = rdd1.toDF(header)\n",
    "df.show()"
   ]
  },
  {
   "cell_type": "markdown",
   "metadata": {
    "application/vnd.databricks.v1+cell": {
     "cellMetadata": {},
     "inputWidgets": {},
     "nuid": "fb282bbf-f4b2-4299-9c07-9b978bce0169",
     "showTitle": false,
     "title": ""
    }
   },
   "source": [
    "# Using Spark Dataframe syntax and SQL Table syntax"
   ]
  },
  {
   "cell_type": "code",
   "execution_count": 0,
   "metadata": {
    "application/vnd.databricks.v1+cell": {
     "cellMetadata": {
      "byteLimit": 2048000,
      "rowLimit": 10000
     },
     "inputWidgets": {},
     "nuid": "fae7aa88-69b3-42fe-b863-c890bb7975eb",
     "showTitle": false,
     "title": ""
    }
   },
   "outputs": [
    {
     "name": "stdout",
     "output_type": "stream",
     "text": [
      "+-------------------------+-------+\n",
      "|Name                     |Weight |\n",
      "+-------------------------+-------+\n",
      "|HL Road Frame - Black, 58|1016.04|\n",
      "|HL Road Frame - Red, 58  |1016.04|\n",
      "|Sport-100 Helmet, Red    |null   |\n",
      "|Sport-100 Helmet, Black  |null   |\n",
      "|Mountain Bike Socks, M   |null   |\n",
      "+-------------------------+-------+\n",
      "only showing top 5 rows\n",
      "\n"
     ]
    }
   ],
   "source": [
    "# selecting two columns Name and Weight from original dataframe and convert into their proper datatype. Default is string\n",
    "df1 = df.select(df.Name, df.Weight.cast(\"float\"))\n",
    "df1.show(5, truncate=False)"
   ]
  },
  {
   "cell_type": "code",
   "execution_count": 0,
   "metadata": {
    "application/vnd.databricks.v1+cell": {
     "cellMetadata": {
      "byteLimit": 2048000,
      "rowLimit": 10000
     },
     "inputWidgets": {},
     "nuid": "ba37d163-0abd-47ac-a2dd-609382697ca7",
     "showTitle": false,
     "title": ""
    }
   },
   "outputs": [
    {
     "name": "stdout",
     "output_type": "stream",
     "text": [
      "+-------------------------+-------+\n",
      "|Name                     |Weight |\n",
      "+-------------------------+-------+\n",
      "|HL Road Frame - Black, 58|1016.04|\n",
      "|HL Road Frame - Red, 58  |1016.04|\n",
      "|Sport-100 Helmet, Red    |null   |\n",
      "|Sport-100 Helmet, Black  |null   |\n",
      "|Mountain Bike Socks, M   |null   |\n",
      "+-------------------------+-------+\n",
      "\n"
     ]
    }
   ],
   "source": [
    "# convert the above Dataframe into SQL Table\n",
    "df1.createOrReplaceTempView(\"df_table\")\n",
    "sqlContext.sql(\" SELECT * FROM df_table limit 5\").show(truncate=False)"
   ]
  },
  {
   "cell_type": "markdown",
   "metadata": {
    "application/vnd.databricks.v1+cell": {
     "cellMetadata": {},
     "inputWidgets": {},
     "nuid": "69d4323b-c498-4abe-b321-1a62cd627ed8",
     "showTitle": false,
     "title": ""
    }
   },
   "source": [
    "# Write your solution for Spark Dataframe and Spark SQL. Your output should match with the RDD output"
   ]
  },
  {
   "cell_type": "markdown",
   "metadata": {
    "application/vnd.databricks.v1+cell": {
     "cellMetadata": {},
     "inputWidgets": {},
     "nuid": "6019e613-c169-4946-923d-2d87ba1ce274",
     "showTitle": false,
     "title": ""
    }
   },
   "source": [
    "## 1. Find the names and weight of the top 15 products by weight. Sort weight by descending order."
   ]
  },
  {
   "cell_type": "markdown",
   "metadata": {
    "application/vnd.databricks.v1+cell": {
     "cellMetadata": {},
     "inputWidgets": {},
     "nuid": "cf59b76e-c51a-4445-9d49-eb6dc0c6ad00",
     "showTitle": false,
     "title": ""
    }
   },
   "source": [
    "### Using RDD"
   ]
  },
  {
   "cell_type": "code",
   "execution_count": 0,
   "metadata": {
    "application/vnd.databricks.v1+cell": {
     "cellMetadata": {
      "byteLimit": 2048000,
      "rowLimit": 10000
     },
     "inputWidgets": {},
     "nuid": "728d67e4-bc29-4991-a999-154e1450fbf6",
     "showTitle": false,
     "title": ""
    }
   },
   "outputs": [
    {
     "name": "stdout",
     "output_type": "stream",
     "text": [
      "Out[19]: [('Touring-3000 Blue, 62', 13607.7),\n",
      " ('Touring-3000 Yellow, 62', 13607.7),\n",
      " ('Touring-3000 Blue, 58', 13562.34),\n",
      " ('Touring-3000 Yellow, 58', 13512.45),\n",
      " ('Touring-3000 Blue, 54', 13462.55),\n",
      " ('Touring-3000 Yellow, 54', 13344.62),\n",
      " ('Touring-3000 Yellow, 50', 13213.08),\n",
      " ('Touring-3000 Blue, 50', 13213.08),\n",
      " ('Touring-3000 Yellow, 44', 13049.78),\n",
      " ('Touring-3000 Blue, 44', 13049.78),\n",
      " ('Mountain-500 Silver, 52', 13008.96),\n",
      " ('Mountain-500 Black, 52', 13008.96),\n",
      " ('Mountain-500 Silver, 48', 12891.03),\n",
      " ('Mountain-500 Black, 48', 12891.03),\n",
      " ('Mountain-500 Silver, 44', 12759.49)]"
     ]
    }
   ],
   "source": [
    "(content.filter(lambda line: line.split(\"\\t\")[7] != \"NULL\")\n",
    " .map(lambda line: (line.split(\"\\t\")[1], float(line.split(\"\\t\")[7])))\n",
    "                     .takeOrdered(15, lambda x : -x[1])\n",
    "                    )"
   ]
  },
  {
   "cell_type": "markdown",
   "metadata": {
    "application/vnd.databricks.v1+cell": {
     "cellMetadata": {},
     "inputWidgets": {},
     "nuid": "9908f57f-848d-49c8-a3c9-5040d1e35a32",
     "showTitle": false,
     "title": ""
    }
   },
   "source": [
    "### Using Spark DataFrame"
   ]
  },
  {
   "cell_type": "code",
   "execution_count": 0,
   "metadata": {
    "application/vnd.databricks.v1+cell": {
     "cellMetadata": {
      "byteLimit": 2048000,
      "rowLimit": 10000
     },
     "inputWidgets": {},
     "nuid": "0a957153-99cb-4952-9178-1b6ca8386077",
     "showTitle": false,
     "title": ""
    }
   },
   "outputs": [],
   "source": [
    "df = rdd1.toDF(header)\n",
    "# df.show()"
   ]
  },
  {
   "cell_type": "code",
   "execution_count": 0,
   "metadata": {
    "application/vnd.databricks.v1+cell": {
     "cellMetadata": {
      "byteLimit": 2048000,
      "rowLimit": 10000
     },
     "inputWidgets": {},
     "nuid": "16c097bd-6deb-4dd6-967c-98b4a32c89dd",
     "showTitle": false,
     "title": ""
    }
   },
   "outputs": [
    {
     "name": "stdout",
     "output_type": "stream",
     "text": [
      "+-----------------------+--------+\n",
      "|Name                   |Weight  |\n",
      "+-----------------------+--------+\n",
      "|Touring-3000 Blue, 62  |13607.7 |\n",
      "|Touring-3000 Yellow, 62|13607.7 |\n",
      "|Touring-3000 Blue, 58  |13562.34|\n",
      "|Touring-3000 Yellow, 58|13512.45|\n",
      "|Touring-3000 Blue, 54  |13462.55|\n",
      "|Touring-3000 Yellow, 54|13344.62|\n",
      "|Touring-3000 Yellow, 50|13213.08|\n",
      "|Touring-3000 Blue, 50  |13213.08|\n",
      "|Touring-3000 Yellow, 44|13049.78|\n",
      "|Touring-3000 Blue, 44  |13049.78|\n",
      "|Mountain-500 Silver, 52|13008.96|\n",
      "|Mountain-500 Black, 52 |13008.96|\n",
      "|Mountain-500 Silver, 48|12891.03|\n",
      "|Mountain-500 Black, 48 |12891.03|\n",
      "|Mountain-500 Silver, 44|12759.49|\n",
      "+-----------------------+--------+\n",
      "only showing top 15 rows\n",
      "\n"
     ]
    }
   ],
   "source": [
    "df1.sort(\"Weight\", ascending = False).show(15, truncate=False)"
   ]
  },
  {
   "cell_type": "markdown",
   "metadata": {
    "application/vnd.databricks.v1+cell": {
     "cellMetadata": {},
     "inputWidgets": {},
     "nuid": "d1aee5df-1ab5-4a8d-a36c-1ae78c3d1195",
     "showTitle": false,
     "title": ""
    }
   },
   "source": [
    "### Using Spark SQL"
   ]
  },
  {
   "cell_type": "code",
   "execution_count": 0,
   "metadata": {
    "application/vnd.databricks.v1+cell": {
     "cellMetadata": {
      "byteLimit": 2048000,
      "rowLimit": 10000
     },
     "inputWidgets": {},
     "nuid": "dc945e57-6428-4d09-b227-b875758c36f9",
     "showTitle": false,
     "title": ""
    }
   },
   "outputs": [
    {
     "name": "stdout",
     "output_type": "stream",
     "text": [
      "+-----------------------+--------+\n",
      "|Name                   |Weight  |\n",
      "+-----------------------+--------+\n",
      "|Touring-3000 Yellow, 62|13607.7 |\n",
      "|Touring-3000 Blue, 62  |13607.7 |\n",
      "|Touring-3000 Blue, 58  |13562.34|\n",
      "|Touring-3000 Yellow, 58|13512.45|\n",
      "|Touring-3000 Blue, 54  |13462.55|\n",
      "|Touring-3000 Yellow, 54|13344.62|\n",
      "|Touring-3000 Yellow, 50|13213.08|\n",
      "|Touring-3000 Blue, 50  |13213.08|\n",
      "|Touring-3000 Yellow, 44|13049.78|\n",
      "|Touring-3000 Blue, 44  |13049.78|\n",
      "|Mountain-500 Silver, 52|13008.96|\n",
      "|Mountain-500 Black, 52 |13008.96|\n",
      "|Mountain-500 Silver, 48|12891.03|\n",
      "|Mountain-500 Black, 48 |12891.03|\n",
      "|Mountain-500 Silver, 44|12759.49|\n",
      "+-----------------------+--------+\n",
      "\n"
     ]
    }
   ],
   "source": [
    "# convert the above Dataframe into SQL Table\n",
    "df1.createOrReplaceTempView(\"df_table\")\n",
    "sqlContext.sql(\" SELECT * FROM df_table ORDER BY WEIGHT DESC limit 15\").show(truncate=False)"
   ]
  },
  {
   "cell_type": "markdown",
   "metadata": {
    "application/vnd.databricks.v1+cell": {
     "cellMetadata": {},
     "inputWidgets": {},
     "nuid": "6a364981-2a82-4a66-940d-b62a3c2eabad",
     "showTitle": false,
     "title": ""
    }
   },
   "source": [
    "## 2. Retrieve product details (name, color, size, product model ID) for products where the product model ID is 5"
   ]
  },
  {
   "cell_type": "markdown",
   "metadata": {
    "application/vnd.databricks.v1+cell": {
     "cellMetadata": {},
     "inputWidgets": {},
     "nuid": "30dffc8a-4473-4429-83ba-4ce42cb63432",
     "showTitle": false,
     "title": ""
    }
   },
   "source": [
    "### Using RDD"
   ]
  },
  {
   "cell_type": "code",
   "execution_count": 0,
   "metadata": {
    "application/vnd.databricks.v1+cell": {
     "cellMetadata": {
      "byteLimit": 2048000,
      "rowLimit": 10000
     },
     "inputWidgets": {},
     "nuid": "b7f96168-273f-4786-8231-ee60b60aae89",
     "showTitle": false,
     "title": ""
    }
   },
   "outputs": [
    {
     "name": "stdout",
     "output_type": "stream",
     "text": [
      "Out[42]: [('HL Mountain Frame - Silver, 42', 'Silver', '42', '5'),\n",
      " ('HL Mountain Frame - Silver, 44', 'Silver', '44', '5'),\n",
      " ('HL Mountain Frame - Silver, 48', 'Silver', '48', '5'),\n",
      " ('HL Mountain Frame - Silver, 46', 'Silver', '46', '5'),\n",
      " ('HL Mountain Frame - Black, 42', 'Black', '42', '5'),\n",
      " ('HL Mountain Frame - Black, 44', 'Black', '44', '5'),\n",
      " ('HL Mountain Frame - Black, 48', 'Black', '48', '5'),\n",
      " ('HL Mountain Frame - Black, 46', 'Black', '46', '5'),\n",
      " ('HL Mountain Frame - Black, 38', 'Black', '38', '5'),\n",
      " ('HL Mountain Frame - Silver, 38', 'Silver', '38', '5')]"
     ]
    }
   ],
   "source": [
    "(content.filter(lambda line:line.split(\"\\t\")[9]==\"5\")\n",
    " .map(lambda line: (line.split(\"\\t\")[1],line.split(\"\\t\")[3], line.split(\"\\t\")[6], line.split(\"\\t\")[9])).collect()\n",
    ")"
   ]
  },
  {
   "cell_type": "markdown",
   "metadata": {
    "application/vnd.databricks.v1+cell": {
     "cellMetadata": {},
     "inputWidgets": {},
     "nuid": "4d8dabcd-bf51-4d10-96e6-71df3695d272",
     "showTitle": false,
     "title": ""
    }
   },
   "source": [
    "### Using Spark Dataframe"
   ]
  },
  {
   "cell_type": "code",
   "execution_count": 0,
   "metadata": {
    "application/vnd.databricks.v1+cell": {
     "cellMetadata": {
      "byteLimit": 2048000,
      "rowLimit": 10000
     },
     "inputWidgets": {},
     "nuid": "cdf6ee7e-f5b8-410f-b26f-eaeaff7d1c30",
     "showTitle": false,
     "title": ""
    }
   },
   "outputs": [
    {
     "name": "stdout",
     "output_type": "stream",
     "text": [
      "+------------------------------+------+----+--------------+\n",
      "|Name                          |Color |Size|ProductModelID|\n",
      "+------------------------------+------+----+--------------+\n",
      "|HL Mountain Frame - Silver, 42|Silver|42  |5             |\n",
      "|HL Mountain Frame - Silver, 44|Silver|44  |5             |\n",
      "|HL Mountain Frame - Silver, 48|Silver|48  |5             |\n",
      "|HL Mountain Frame - Silver, 46|Silver|46  |5             |\n",
      "|HL Mountain Frame - Black, 42 |Black |42  |5             |\n",
      "|HL Mountain Frame - Black, 44 |Black |44  |5             |\n",
      "|HL Mountain Frame - Black, 48 |Black |48  |5             |\n",
      "|HL Mountain Frame - Black, 46 |Black |46  |5             |\n",
      "|HL Mountain Frame - Black, 38 |Black |38  |5             |\n",
      "|HL Mountain Frame - Silver, 38|Silver|38  |5             |\n",
      "+------------------------------+------+----+--------------+\n",
      "\n"
     ]
    }
   ],
   "source": [
    "df1 = df.select(df.Name, df.Color, df.Size, df.ProductModelID)\n",
    "df1.filter(df1.ProductModelID == \"5\").show(truncate=False)"
   ]
  },
  {
   "cell_type": "markdown",
   "metadata": {
    "application/vnd.databricks.v1+cell": {
     "cellMetadata": {},
     "inputWidgets": {},
     "nuid": "c961a430-7293-4f8d-b3f9-c4070c1e235e",
     "showTitle": false,
     "title": ""
    }
   },
   "source": [
    "### Using Spark SQL"
   ]
  },
  {
   "cell_type": "code",
   "execution_count": 0,
   "metadata": {
    "application/vnd.databricks.v1+cell": {
     "cellMetadata": {
      "byteLimit": 2048000,
      "rowLimit": 10000
     },
     "inputWidgets": {},
     "nuid": "4332a9af-30c6-4395-b25e-c6147aad93dd",
     "showTitle": false,
     "title": ""
    }
   },
   "outputs": [
    {
     "name": "stdout",
     "output_type": "stream",
     "text": [
      "+------------------------------+------+----+--------------+\n",
      "|NAME                          |COLOR |SIZE|ProductModelID|\n",
      "+------------------------------+------+----+--------------+\n",
      "|HL Mountain Frame - Silver, 42|Silver|42  |5             |\n",
      "|HL Mountain Frame - Silver, 44|Silver|44  |5             |\n",
      "|HL Mountain Frame - Silver, 48|Silver|48  |5             |\n",
      "|HL Mountain Frame - Silver, 46|Silver|46  |5             |\n",
      "|HL Mountain Frame - Black, 42 |Black |42  |5             |\n",
      "|HL Mountain Frame - Black, 44 |Black |44  |5             |\n",
      "|HL Mountain Frame - Black, 48 |Black |48  |5             |\n",
      "|HL Mountain Frame - Black, 46 |Black |46  |5             |\n",
      "|HL Mountain Frame - Black, 38 |Black |38  |5             |\n",
      "|HL Mountain Frame - Silver, 38|Silver|38  |5             |\n",
      "+------------------------------+------+----+--------------+\n",
      "\n"
     ]
    }
   ],
   "source": [
    "df.createOrReplaceTempView(\"df_table\")\n",
    "sqlContext.sql(\" SELECT NAME,COLOR,SIZE,ProductModelID  FROM df_table WHERE ProductModelID = '5' \").show(truncate=False)"
   ]
  },
  {
   "cell_type": "markdown",
   "metadata": {
    "application/vnd.databricks.v1+cell": {
     "cellMetadata": {},
     "inputWidgets": {},
     "nuid": "e3c9fc97-d853-479d-bbe2-134342535de9",
     "showTitle": false,
     "title": ""
    }
   },
   "source": [
    "## 3. Retrieve the name and product number of the products that have a color of 'black', 'red', or 'white' and a size of 'S' or 'M'"
   ]
  },
  {
   "cell_type": "markdown",
   "metadata": {
    "application/vnd.databricks.v1+cell": {
     "cellMetadata": {},
     "inputWidgets": {},
     "nuid": "31174ab6-690a-42de-becb-5452c1e902bf",
     "showTitle": false,
     "title": ""
    }
   },
   "source": [
    "### Using RDD"
   ]
  },
  {
   "cell_type": "code",
   "execution_count": 0,
   "metadata": {
    "application/vnd.databricks.v1+cell": {
     "cellMetadata": {},
     "inputWidgets": {},
     "nuid": "1b99ae62-4b55-4e7f-b27e-80f79909aeca",
     "showTitle": false,
     "title": ""
    }
   },
   "outputs": [
    {
     "data": {
      "text/html": [
       "<style scoped>\n",
       "  .ansiout {\n",
       "    display: block;\n",
       "    unicode-bidi: embed;\n",
       "    white-space: pre-wrap;\n",
       "    word-wrap: break-word;\n",
       "    word-break: break-all;\n",
       "    font-family: \"Menlo\", \"Monaco\", \"Consolas\", \"Ubuntu Mono\", \"Source Code Pro\", monospace;\n",
       "    font-size: 13px;\n",
       "    color: #555;\n",
       "    margin-left: 4px;\n",
       "    line-height: 19px;\n",
       "  }\n",
       "</style>\n",
       "<div class=\"ansiout\">Out[49]: [(&#39;Mountain Bike Socks, M&#39;, &#39;SO-B909-M&#39;, &#39;White&#39;, &#39;M&#39;),\n",
       " (&#34;Men&#39;s Sports Shorts, S&#34;, &#39;SH-M897-S&#39;, &#39;Black&#39;, &#39;S&#39;),\n",
       " (&#34;Men&#39;s Sports Shorts, M&#34;, &#39;SH-M897-M&#39;, &#39;Black&#39;, &#39;M&#39;),\n",
       " (&#34;Women&#39;s Tights, S&#34;, &#39;TG-W091-S&#39;, &#39;Black&#39;, &#39;S&#39;),\n",
       " (&#34;Women&#39;s Tights, M&#34;, &#39;TG-W091-M&#39;, &#39;Black&#39;, &#39;M&#39;),\n",
       " (&#39;Half-Finger Gloves, S&#39;, &#39;GL-H102-S&#39;, &#39;Black&#39;, &#39;S&#39;),\n",
       " (&#39;Half-Finger Gloves, M&#39;, &#39;GL-H102-M&#39;, &#39;Black&#39;, &#39;M&#39;),\n",
       " (&#39;Full-Finger Gloves, S&#39;, &#39;GL-F110-S&#39;, &#39;Black&#39;, &#39;S&#39;),\n",
       " (&#39;Full-Finger Gloves, M&#39;, &#39;GL-F110-M&#39;, &#39;Black&#39;, &#39;M&#39;),\n",
       " (&#34;Women&#39;s Mountain Shorts, S&#34;, &#39;SH-W890-S&#39;, &#39;Black&#39;, &#39;S&#39;),\n",
       " (&#34;Women&#39;s Mountain Shorts, M&#34;, &#39;SH-W890-M&#39;, &#39;Black&#39;, &#39;M&#39;),\n",
       " (&#39;Racing Socks, M&#39;, &#39;SO-R809-M&#39;, &#39;White&#39;, &#39;M&#39;)]</div>"
      ]
     },
     "metadata": {
      "application/vnd.databricks.v1+output": {
       "addedWidgets": {},
       "arguments": {},
       "data": "<div class=\"ansiout\">Out[49]: [(&#39;Mountain Bike Socks, M&#39;, &#39;SO-B909-M&#39;, &#39;White&#39;, &#39;M&#39;),\n (&#34;Men&#39;s Sports Shorts, S&#34;, &#39;SH-M897-S&#39;, &#39;Black&#39;, &#39;S&#39;),\n (&#34;Men&#39;s Sports Shorts, M&#34;, &#39;SH-M897-M&#39;, &#39;Black&#39;, &#39;M&#39;),\n (&#34;Women&#39;s Tights, S&#34;, &#39;TG-W091-S&#39;, &#39;Black&#39;, &#39;S&#39;),\n (&#34;Women&#39;s Tights, M&#34;, &#39;TG-W091-M&#39;, &#39;Black&#39;, &#39;M&#39;),\n (&#39;Half-Finger Gloves, S&#39;, &#39;GL-H102-S&#39;, &#39;Black&#39;, &#39;S&#39;),\n (&#39;Half-Finger Gloves, M&#39;, &#39;GL-H102-M&#39;, &#39;Black&#39;, &#39;M&#39;),\n (&#39;Full-Finger Gloves, S&#39;, &#39;GL-F110-S&#39;, &#39;Black&#39;, &#39;S&#39;),\n (&#39;Full-Finger Gloves, M&#39;, &#39;GL-F110-M&#39;, &#39;Black&#39;, &#39;M&#39;),\n (&#34;Women&#39;s Mountain Shorts, S&#34;, &#39;SH-W890-S&#39;, &#39;Black&#39;, &#39;S&#39;),\n (&#34;Women&#39;s Mountain Shorts, M&#34;, &#39;SH-W890-M&#39;, &#39;Black&#39;, &#39;M&#39;),\n (&#39;Racing Socks, M&#39;, &#39;SO-R809-M&#39;, &#39;White&#39;, &#39;M&#39;)]</div>",
       "datasetInfos": [],
       "metadata": {},
       "removedWidgets": [],
       "type": "html"
      }
     },
     "output_type": "display_data"
    }
   ],
   "source": [
    "colors = [\"White\",\"Black\",\"Red\"]\n",
    "sizes = [\"S\",\"M\"]\n",
    "\n",
    "(content.filter(lambda line: line.split(\"\\t\")[6] in sizes)\n",
    ".filter(lambda line: line.split(\"\\t\")[3] in colors)\n",
    ".map(lambda line: (line.split(\"\\t\")[1],line.split(\"\\t\")[2], line.split(\"\\t\")[3],line.split(\"\\t\")[6]))\n",
    " .collect()\n",
    ")"
   ]
  },
  {
   "cell_type": "markdown",
   "metadata": {
    "application/vnd.databricks.v1+cell": {
     "cellMetadata": {},
     "inputWidgets": {},
     "nuid": "895cbde1-b7ef-49fd-9c0f-696369f27128",
     "showTitle": false,
     "title": ""
    }
   },
   "source": [
    "### Using Spark Dataframe"
   ]
  },
  {
   "cell_type": "code",
   "execution_count": 0,
   "metadata": {
    "application/vnd.databricks.v1+cell": {
     "cellMetadata": {
      "byteLimit": 2048000,
      "rowLimit": 10000
     },
     "inputWidgets": {},
     "nuid": "17a831f7-0cb4-43f2-8bbb-77b1e035ade8",
     "showTitle": false,
     "title": ""
    }
   },
   "outputs": [
    {
     "name": "stdout",
     "output_type": "stream",
     "text": [
      "+--------------------------+-------------+-----+----+\n",
      "|Name                      |ProductNumber|Color|Size|\n",
      "+--------------------------+-------------+-----+----+\n",
      "|Mountain Bike Socks, M    |SO-B909-M    |White|M   |\n",
      "|Men's Sports Shorts, S    |SH-M897-S    |Black|S   |\n",
      "|Men's Sports Shorts, M    |SH-M897-M    |Black|M   |\n",
      "|Women's Tights, S         |TG-W091-S    |Black|S   |\n",
      "|Women's Tights, M         |TG-W091-M    |Black|M   |\n",
      "|Half-Finger Gloves, S     |GL-H102-S    |Black|S   |\n",
      "|Half-Finger Gloves, M     |GL-H102-M    |Black|M   |\n",
      "|Full-Finger Gloves, S     |GL-F110-S    |Black|S   |\n",
      "|Full-Finger Gloves, M     |GL-F110-M    |Black|M   |\n",
      "|Women's Mountain Shorts, S|SH-W890-S    |Black|S   |\n",
      "|Women's Mountain Shorts, M|SH-W890-M    |Black|M   |\n",
      "|Racing Socks, M           |SO-R809-M    |White|M   |\n",
      "+--------------------------+-------------+-----+----+\n",
      "\n"
     ]
    }
   ],
   "source": [
    "df1 = df.select(df.Name, df.ProductNumber, df.Color, df.Size)\n",
    "df1.filter(df1.Color.isin(\"Red\", \"Black\", \"White\") & df1.Size.isin('S', 'M')).show(truncate=False)"
   ]
  },
  {
   "cell_type": "markdown",
   "metadata": {
    "application/vnd.databricks.v1+cell": {
     "cellMetadata": {},
     "inputWidgets": {},
     "nuid": "15ba2bdf-70ae-4dcf-b00a-fdd80f352e96",
     "showTitle": false,
     "title": ""
    }
   },
   "source": [
    "### Using Spark SQL"
   ]
  },
  {
   "cell_type": "code",
   "execution_count": 0,
   "metadata": {
    "application/vnd.databricks.v1+cell": {
     "cellMetadata": {
      "byteLimit": 2048000,
      "rowLimit": 10000
     },
     "inputWidgets": {},
     "nuid": "da3463c2-f9b1-480a-ab44-c69af4275b91",
     "showTitle": false,
     "title": ""
    }
   },
   "outputs": [
    {
     "name": "stdout",
     "output_type": "stream",
     "text": [
      "+--------------------------+-------------+-----+----+\n",
      "|NAME                      |ProductNumber|COLOR|SIZE|\n",
      "+--------------------------+-------------+-----+----+\n",
      "|Mountain Bike Socks, M    |SO-B909-M    |White|M   |\n",
      "|Men's Sports Shorts, S    |SH-M897-S    |Black|S   |\n",
      "|Men's Sports Shorts, M    |SH-M897-M    |Black|M   |\n",
      "|Women's Tights, S         |TG-W091-S    |Black|S   |\n",
      "|Women's Tights, M         |TG-W091-M    |Black|M   |\n",
      "|Half-Finger Gloves, S     |GL-H102-S    |Black|S   |\n",
      "|Half-Finger Gloves, M     |GL-H102-M    |Black|M   |\n",
      "|Full-Finger Gloves, S     |GL-F110-S    |Black|S   |\n",
      "|Full-Finger Gloves, M     |GL-F110-M    |Black|M   |\n",
      "|Women's Mountain Shorts, S|SH-W890-S    |Black|S   |\n",
      "|Women's Mountain Shorts, M|SH-W890-M    |Black|M   |\n",
      "|Racing Socks, M           |SO-R809-M    |White|M   |\n",
      "+--------------------------+-------------+-----+----+\n",
      "\n"
     ]
    }
   ],
   "source": [
    "df.createOrReplaceTempView(\"df_table\")\n",
    "sqlContext.sql(\" SELECT NAME,ProductNumber,COLOR,SIZE  FROM df_table WHERE (COLOR = 'Red' OR COLOR = 'Black' OR COLOR = 'White') AND (SIZE = 'S' OR SIZE = 'M') \").show(truncate=False)"
   ]
  },
  {
   "cell_type": "markdown",
   "metadata": {
    "application/vnd.databricks.v1+cell": {
     "cellMetadata": {},
     "inputWidgets": {},
     "nuid": "3280d1e9-90e3-4a1b-9ceb-6283c93680a2",
     "showTitle": false,
     "title": ""
    }
   },
   "source": [
    "## 4. Retrieve the product name, product number, color and list price of products whose product number begins with 'BK-'. Retrieve only 15 records and Sort the price in descending order"
   ]
  },
  {
   "cell_type": "markdown",
   "metadata": {
    "application/vnd.databricks.v1+cell": {
     "cellMetadata": {},
     "inputWidgets": {},
     "nuid": "9f7884c4-f177-4bc9-ab8a-8512fdbc8c4f",
     "showTitle": false,
     "title": ""
    }
   },
   "source": [
    "### Using RDD"
   ]
  },
  {
   "cell_type": "code",
   "execution_count": 0,
   "metadata": {
    "application/vnd.databricks.v1+cell": {
     "cellMetadata": {
      "byteLimit": 2048000,
      "rowLimit": 10000
     },
     "inputWidgets": {},
     "nuid": "2f57b2b8-877f-4cd1-9a22-d0f6e450a175",
     "showTitle": false,
     "title": ""
    }
   },
   "outputs": [
    {
     "name": "stdout",
     "output_type": "stream",
     "text": [
      "Out[85]: [('Road-150 Red, 62', 'BK-R93R-62', 'Red', 3578.27),\n",
      " ('Road-150 Red, 44', 'BK-R93R-44', 'Red', 3578.27),\n",
      " ('Road-150 Red, 48', 'BK-R93R-48', 'Red', 3578.27),\n",
      " ('Road-150 Red, 52', 'BK-R93R-52', 'Red', 3578.27),\n",
      " ('Road-150 Red, 56', 'BK-R93R-56', 'Red', 3578.27),\n",
      " ('Mountain-100 Silver, 38', 'BK-M82S-38', 'Silver', 3399.99),\n",
      " ('Mountain-100 Silver, 42', 'BK-M82S-42', 'Silver', 3399.99),\n",
      " ('Mountain-100 Silver, 44', 'BK-M82S-44', 'Silver', 3399.99),\n",
      " ('Mountain-100 Silver, 48', 'BK-M82S-48', 'Silver', 3399.99),\n",
      " ('Mountain-100 Black, 38', 'BK-M82B-38', 'Black', 3374.99),\n",
      " ('Mountain-100 Black, 42', 'BK-M82B-42', 'Black', 3374.99),\n",
      " ('Mountain-100 Black, 44', 'BK-M82B-44', 'Black', 3374.99),\n",
      " ('Mountain-100 Black, 48', 'BK-M82B-48', 'Black', 3374.99),\n",
      " ('Road-250 Red, 44', 'BK-R89R-44', 'Red', 2443.35),\n",
      " ('Road-250 Red, 48', 'BK-R89R-48', 'Red', 2443.35)]"
     ]
    }
   ],
   "source": [
    "(content.filter(lambda line: \"BK\" in line.split(\"\\t\")[2])\n",
    " .map(lambda line: (line.split(\"\\t\")[1], line.split(\"\\t\")[2], line.split(\"\\t\")[3], float(line.split(\"\\t\")[5])))\n",
    ".takeOrdered(15, lambda x: -x[3]))"
   ]
  },
  {
   "cell_type": "markdown",
   "metadata": {
    "application/vnd.databricks.v1+cell": {
     "cellMetadata": {},
     "inputWidgets": {},
     "nuid": "7215148c-38cc-4abf-a1a7-2cdaf49bd379",
     "showTitle": false,
     "title": ""
    }
   },
   "source": [
    "### Using Spark Dataframe"
   ]
  },
  {
   "cell_type": "code",
   "execution_count": 0,
   "metadata": {
    "application/vnd.databricks.v1+cell": {
     "cellMetadata": {
      "byteLimit": 2048000,
      "rowLimit": 10000
     },
     "inputWidgets": {},
     "nuid": "0c33ad13-fd2c-4b55-85cc-091d3a453573",
     "showTitle": false,
     "title": ""
    }
   },
   "outputs": [
    {
     "name": "stdout",
     "output_type": "stream",
     "text": [
      "+-----------------------+-------------+------+---------+\n",
      "|Name                   |ProductNumber|Color |ListPrice|\n",
      "+-----------------------+-------------+------+---------+\n",
      "|Road-150 Red, 62       |BK-R93R-62   |Red   |3578.27  |\n",
      "|Road-150 Red, 44       |BK-R93R-44   |Red   |3578.27  |\n",
      "|Road-150 Red, 48       |BK-R93R-48   |Red   |3578.27  |\n",
      "|Road-150 Red, 52       |BK-R93R-52   |Red   |3578.27  |\n",
      "|Road-150 Red, 56       |BK-R93R-56   |Red   |3578.27  |\n",
      "|Mountain-100 Silver, 44|BK-M82S-44   |Silver|3399.99  |\n",
      "|Mountain-100 Silver, 48|BK-M82S-48   |Silver|3399.99  |\n",
      "|Mountain-100 Silver, 38|BK-M82S-38   |Silver|3399.99  |\n",
      "|Mountain-100 Silver, 42|BK-M82S-42   |Silver|3399.99  |\n",
      "|Mountain-100 Black, 38 |BK-M82B-38   |Black |3374.99  |\n",
      "|Mountain-100 Black, 42 |BK-M82B-42   |Black |3374.99  |\n",
      "|Mountain-100 Black, 44 |BK-M82B-44   |Black |3374.99  |\n",
      "|Mountain-100 Black, 48 |BK-M82B-48   |Black |3374.99  |\n",
      "|Road-250 Red, 44       |BK-R89R-44   |Red   |2443.35  |\n",
      "|Road-250 Red, 48       |BK-R89R-48   |Red   |2443.35  |\n",
      "+-----------------------+-------------+------+---------+\n",
      "only showing top 15 rows\n",
      "\n"
     ]
    }
   ],
   "source": [
    "df1 = df.select(df.Name, df.ProductNumber, df.Color, df.ListPrice.cast(\"float\"))\n",
    "df1.filter(df1.ProductNumber.substr(1, 2) == \"BK\").sort(\"ListPrice\", ascending = False ).show(15, truncate=False)"
   ]
  },
  {
   "cell_type": "markdown",
   "metadata": {
    "application/vnd.databricks.v1+cell": {
     "cellMetadata": {},
     "inputWidgets": {},
     "nuid": "6193a402-fe07-4770-92fa-51e26816d3b7",
     "showTitle": false,
     "title": ""
    }
   },
   "source": [
    "### Using Spark SQL"
   ]
  },
  {
   "cell_type": "code",
   "execution_count": 0,
   "metadata": {
    "application/vnd.databricks.v1+cell": {
     "cellMetadata": {
      "byteLimit": 2048000,
      "rowLimit": 10000
     },
     "inputWidgets": {},
     "nuid": "820deb27-888e-45b3-8ec2-e61a3dc1a14b",
     "showTitle": false,
     "title": ""
    }
   },
   "outputs": [
    {
     "name": "stdout",
     "output_type": "stream",
     "text": [
      "+-----------------------+-------------+------+---------+\n",
      "|NAME                   |PRODUCTNUMBER|COLOR |LISTPRICE|\n",
      "+-----------------------+-------------+------+---------+\n",
      "|Road-150 Red, 62       |BK-R93R-62   |Red   |3578.27  |\n",
      "|Road-150 Red, 44       |BK-R93R-44   |Red   |3578.27  |\n",
      "|Road-150 Red, 48       |BK-R93R-48   |Red   |3578.27  |\n",
      "|Road-150 Red, 52       |BK-R93R-52   |Red   |3578.27  |\n",
      "|Road-150 Red, 56       |BK-R93R-56   |Red   |3578.27  |\n",
      "|Mountain-100 Silver, 44|BK-M82S-44   |Silver|3399.99  |\n",
      "|Mountain-100 Silver, 48|BK-M82S-48   |Silver|3399.99  |\n",
      "|Mountain-100 Silver, 38|BK-M82S-38   |Silver|3399.99  |\n",
      "|Mountain-100 Silver, 42|BK-M82S-42   |Silver|3399.99  |\n",
      "|Mountain-100 Black, 38 |BK-M82B-38   |Black |3374.99  |\n",
      "|Mountain-100 Black, 42 |BK-M82B-42   |Black |3374.99  |\n",
      "|Mountain-100 Black, 44 |BK-M82B-44   |Black |3374.99  |\n",
      "|Mountain-100 Black, 48 |BK-M82B-48   |Black |3374.99  |\n",
      "|Road-250 Red, 44       |BK-R89R-44   |Red   |2443.35  |\n",
      "|Road-250 Red, 48       |BK-R89R-48   |Red   |2443.35  |\n",
      "+-----------------------+-------------+------+---------+\n",
      "\n"
     ]
    }
   ],
   "source": [
    "df1 = df.select(df.Name,df.ProductNumber,df.Color, df.ListPrice.cast(\"float\").alias(\"LISTPRICE\"))\n",
    "df1.createOrReplaceTempView(\"df_table\")\n",
    "sqlContext.sql(\" SELECT NAME,PRODUCTNUMBER,COLOR,LISTPRICE FROM df_table WHERE (PRODUCTNUMBER LIKE 'BK%' ) ORDER BY LISTPRICE DESC limit 15\").show(truncate=False)"
   ]
  },
  {
   "cell_type": "markdown",
   "metadata": {
    "application/vnd.databricks.v1+cell": {
     "cellMetadata": {},
     "inputWidgets": {},
     "nuid": "cec197c9-eb1f-4b42-976d-45c12a0c2cc3",
     "showTitle": false,
     "title": ""
    }
   },
   "source": [
    "## 5. Visualize Average List Price per Color and Average List Price per Size. Discuss/Explain your results."
   ]
  },
  {
   "cell_type": "code",
   "execution_count": 0,
   "metadata": {
    "application/vnd.databricks.v1+cell": {
     "cellMetadata": {
      "byteLimit": 2048000,
      "rowLimit": 10000
     },
     "inputWidgets": {},
     "nuid": "7214bde0-02aa-4fc6-b124-06f5a22bc5e5",
     "showTitle": false,
     "title": ""
    }
   },
   "outputs": [
    {
     "data": {
      "application/vnd.databricks.v1+bamboolib_hint": "{\"pd.DataFrames\": [], \"version\": \"0.0.1\"}",
      "text/plain": []
     },
     "metadata": {},
     "output_type": "display_data"
    }
   ],
   "source": [
    "import pandas as pd\n",
    "import matplotlib\n",
    "import matplotlib.pyplot as plt\n",
    "from pyspark.sql import functions as F\n",
    "%matplotlib inline"
   ]
  },
  {
   "cell_type": "code",
   "execution_count": 0,
   "metadata": {
    "application/vnd.databricks.v1+cell": {
     "cellMetadata": {
      "byteLimit": 2048000,
      "rowLimit": 10000
     },
     "inputWidgets": {},
     "nuid": "ad7e9cf5-f424-4b09-af34-df53c021f43a",
     "showTitle": false,
     "title": ""
    }
   },
   "outputs": [
    {
     "data": {
      "image/png": "[encoded data removed]"
     },
     "metadata": {
      "application/vnd.databricks.v1+output": {
       "addedWidgets": {},
       "arguments": {},
       "data": "data:image/png;base64,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\n",
       "datasetInfos": [],
       "metadata": {},
       "removedWidgets": [],
       "type": "image"
      }
     },
     "output_type": "display_data"
    }
   ],
   "source": [
    "df = rdd1.toDF(header)\n",
    "\n",
    "# Calculating average list price per color and size\n",
    "average_price_by_color = df.groupBy(\"Color\").agg({\"ListPrice\": \"avg\"}).withColumnRenamed(\"avg(ListPrice)\", \"AvgListPrice\")\n",
    "average_price_by_size = df.groupBy(\"Size\").agg({\"ListPrice\": \"avg\"}).withColumnRenamed(\"avg(ListPrice)\", \"AvgListPrice\")\n",
    "\n",
    "# Converting Spark DataFrame to Pandas for visualization\n",
    "avg_price_by_color_pd = average_price_by_color.toPandas()\n",
    "avg_price_by_size_pd = average_price_by_size.toPandas()\n",
    "\n",
    "# Plotting\n",
    "plt.figure(figsize=(12, 5))\n",
    "\n",
    "# Averaging List Price per Color\n",
    "plt.subplot(1, 2, 1)\n",
    "plt.bar(avg_price_by_color_pd[\"Color\"], avg_price_by_color_pd[\"AvgListPrice\"], color= 'Red')\n",
    "plt.title(\"Average List Price per Color\")\n",
    "plt.xlabel(\"Color\")\n",
    "plt.ylabel(\"Average List Price\")\n",
    "\n",
    "# Averaging List Price per Size\n",
    "plt.subplot(1, 2, 2)\n",
    "plt.bar(avg_price_by_size_pd[\"Size\"], avg_price_by_size_pd[\"AvgListPrice\"], color='skyblue')\n",
    "plt.title(\"Average List Price per Size\")\n",
    "plt.xlabel(\"Size\")\n",
    "plt.ylabel(\"Average List Price\")\n",
    "\n",
    "plt.show()"
   ]
  },
  {
   "cell_type": "markdown",
   "metadata": {
    "application/vnd.databricks.v1+cell": {
     "cellMetadata": {},
     "inputWidgets": {},
     "nuid": "7e71721e-1a8c-4de7-a6e9-ddae8cf77c8a",
     "showTitle": false,
     "title": ""
    }
   },
   "source": [
    "Analyzing the above results we can see that among all the colors, RED color has the highest Price while WHITE color has the lowest sales price. In the second graph, one can observe that highest prize is for the size \"56\" while size \"XL\", \"M\", \"L\" and \"70\" has the lowest price. So if a person is finding the cheapest option among all the items, he/she could opt for White color item in \"XL\", \"M\", \"L\" or \"70\" size."
   ]
  },
  {
   "cell_type": "markdown",
   "metadata": {
    "application/vnd.databricks.v1+cell": {
     "cellMetadata": {},
     "inputWidgets": {},
     "nuid": "3c3731a0-f63d-46fe-87de-416efca7b8ae",
     "showTitle": false,
     "title": ""
    }
   },
   "source": [
    "## 5. Visualize Total Count per Size. Discuss/Explain your results."
   ]
  },
  {
   "cell_type": "code",
   "execution_count": 0,
   "metadata": {
    "application/vnd.databricks.v1+cell": {
     "cellMetadata": {
      "byteLimit": 2048000,
      "rowLimit": 10000
     },
     "inputWidgets": {},
     "nuid": "7d9e8ea0-b441-41c5-be1e-7b93801de3f5",
     "showTitle": false,
     "title": ""
    }
   },
   "outputs": [
    {
     "data": {
      "image/png": "[encoded data removed]"
     },
     "metadata": {
      "application/vnd.databricks.v1+output": {
       "addedWidgets": {},
       "arguments": {},
       "data": "data:image/png;base64,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\n",
       "datasetInfos": [],
       "metadata": {},
       "removedWidgets": [],
       "type": "image"
      }
     },
     "output_type": "display_data"
    }
   ],
   "source": [
    "total_count = df.groupBy(\"Size\").count()\n",
    "\n",
    "# Converting Spark DataFrame to Pandas for visualization\n",
    "total_count_pd = total_count.toPandas()\n",
    "\n",
    "# Plotting\n",
    "plt.figure(figsize=(12, 5))\n",
    "\n",
    "# Averaging List Price per Size\n",
    "plt.bar(total_count_pd[\"Size\"], total_count_pd[\"count\"], color='orange')\n",
    "plt.title(\"Total Count per Size\")\n",
    "plt.xlabel(\"Size\")\n",
    "plt.ylabel(\"Total Count\")\n",
    "\n",
    "plt.show()"
   ]
  },
  {
   "cell_type": "code",
   "execution_count": 0,
   "metadata": {
    "application/vnd.databricks.v1+cell": {
     "cellMetadata": {},
     "inputWidgets": {},
     "nuid": "f59521dc-36af-42dd-b242-9e0fd06b3d71",
     "showTitle": false,
     "title": ""
    }
   },
   "outputs": [],
   "source": []
  },
  {
   "cell_type": "markdown",
   "metadata": {
    "application/vnd.databricks.v1+cell": {
     "cellMetadata": {},
     "inputWidgets": {},
     "nuid": "80e92595-1b5b-4da8-b6a7-dbab46587b6e",
     "showTitle": false,
     "title": ""
    }
   },
   "source": [
    "While Analysing the above plot one can notice that among all the known sizes the highest stock present is for the size \"44\" while lowest stock is present for the the count \"70\". One could argue that since it was one of the cheapest option therefore people are purchasing this size frequently. Likewise, Size \"56\" and \"XL\" also has low stock remaining. One could also observe that highest count is of the items whose sizes are unknown. Therefore, a lot of stock has not been labelled/tagged yet.  "
   ]
  },
  {
   "cell_type": "markdown",
   "metadata": {
    "application/vnd.databricks.v1+cell": {
     "cellMetadata": {},
     "inputWidgets": {},
     "nuid": "65b7c02f-106d-4dc6-a681-2708a2b3de5a",
     "showTitle": false,
     "title": ""
    }
   },
   "source": [
    "# Using Machine Learning Library (For Practice)"
   ]
  },
  {
   "cell_type": "code",
   "execution_count": 0,
   "metadata": {
    "application/vnd.databricks.v1+cell": {
     "cellMetadata": {
      "byteLimit": 2048000,
      "rowLimit": 10000
     },
     "inputWidgets": {},
     "nuid": "d7350414-127d-4e37-8aa0-cdc43f8f0bd4",
     "showTitle": false,
     "title": ""
    }
   },
   "outputs": [
    {
     "name": "stdout",
     "output_type": "stream",
     "text": [
      "+-------+----+---------+\n",
      "|Weight |Size|ListPrice|\n",
      "+-------+----+---------+\n",
      "|1016.04|58.0|1431.5   |\n",
      "|1016.04|58.0|1431.5   |\n",
      "|null   |null|34.99    |\n",
      "|null   |null|34.99    |\n",
      "|null   |null|9.5      |\n",
      "+-------+----+---------+\n",
      "only showing top 5 rows\n",
      "\n"
     ]
    }
   ],
   "source": [
    "dfall = df.select(df.Weight.cast(\"float\"), df.Size.cast(\"float\"), df.ListPrice.cast(\"float\"))\n",
    "dfall.show(5, truncate=False)"
   ]
  },
  {
   "cell_type": "code",
   "execution_count": 0,
   "metadata": {
    "application/vnd.databricks.v1+cell": {
     "cellMetadata": {
      "byteLimit": 2048000,
      "rowLimit": 10000
     },
     "inputWidgets": {},
     "nuid": "c11425a9-aacd-43d0-882c-eb0a0002c6cf",
     "showTitle": false,
     "title": ""
    }
   },
   "outputs": [],
   "source": [
    "dfall = dfall.na.drop(\"any\")"
   ]
  },
  {
   "cell_type": "code",
   "execution_count": 0,
   "metadata": {
    "application/vnd.databricks.v1+cell": {
     "cellMetadata": {
      "byteLimit": 2048000,
      "rowLimit": 10000
     },
     "inputWidgets": {},
     "nuid": "653da381-78ec-470d-8994-825d252cea19",
     "showTitle": false,
     "title": ""
    }
   },
   "outputs": [],
   "source": [
    "feature_columns = dfall.columns[:-1] # here we omit the final column for prediction\n",
    "from pyspark.ml.feature import VectorAssembler\n",
    "assembler = VectorAssembler(inputCols=feature_columns,outputCol=\"features\")"
   ]
  },
  {
   "cell_type": "code",
   "execution_count": 0,
   "metadata": {
    "application/vnd.databricks.v1+cell": {
     "cellMetadata": {
      "byteLimit": 2048000,
      "rowLimit": 10000
     },
     "inputWidgets": {},
     "nuid": "e2c5c2ab-8358-49e4-bd21-dc252e5848a5",
     "showTitle": false,
     "title": ""
    }
   },
   "outputs": [],
   "source": [
    "data_2 = assembler.transform(dfall)"
   ]
  },
  {
   "cell_type": "code",
   "execution_count": 0,
   "metadata": {
    "application/vnd.databricks.v1+cell": {
     "cellMetadata": {
      "byteLimit": 2048000,
      "rowLimit": 10000
     },
     "inputWidgets": {},
     "nuid": "05b1b005-27ba-4f4d-bfac-473869a3aee2",
     "showTitle": false,
     "title": ""
    }
   },
   "outputs": [
    {
     "name": "stdout",
     "output_type": "stream",
     "text": [
      "+-------+----+---------+--------------------+\n",
      "| Weight|Size|ListPrice|            features|\n",
      "+-------+----+---------+--------------------+\n",
      "|1016.04|58.0|   1431.5|[1016.03997802734...|\n",
      "|1016.04|58.0|   1431.5|[1016.03997802734...|\n",
      "|1043.26|62.0|   1431.5|[1043.26000976562...|\n",
      "| 961.61|44.0|   1431.5|[961.609985351562...|\n",
      "| 979.75|48.0|   1431.5|       [979.75,48.0]|\n",
      "|  997.9|52.0|   1431.5|[997.900024414062...|\n",
      "|1016.04|56.0|   1431.5|[1016.03997802734...|\n",
      "|1115.83|58.0|   337.22|[1115.82995605468...|\n",
      "| 1124.9|60.0|   337.22|[1124.90002441406...|\n",
      "|1133.98|62.0|   337.22|[1133.97998046875...|\n",
      "|1052.33|44.0|   337.22|[1052.32995605468...|\n",
      "|1070.47|48.0|   337.22|[1070.46997070312...|\n",
      "|1088.62|52.0|   337.22|[1088.61999511718...|\n",
      "|1115.83|58.0|   337.22|[1115.82995605468...|\n",
      "| 1124.9|60.0|   337.22|[1124.90002441406...|\n",
      "|1133.98|62.0|   337.22|[1133.97998046875...|\n",
      "|1006.97|44.0|   594.83|[1006.96997070312...|\n",
      "|1025.11|48.0|   594.83|[1025.10998535156...|\n",
      "|1043.26|52.0|   594.83|[1043.26000976562...|\n",
      "|1070.47|58.0|   594.83|[1070.46997070312...|\n",
      "+-------+----+---------+--------------------+\n",
      "only showing top 20 rows\n",
      "\n"
     ]
    }
   ],
   "source": [
    "data_2.show()"
   ]
  },
  {
   "cell_type": "code",
   "execution_count": 0,
   "metadata": {
    "application/vnd.databricks.v1+cell": {
     "cellMetadata": {
      "byteLimit": 2048000,
      "rowLimit": 10000
     },
     "inputWidgets": {},
     "nuid": "ceb6abc9-573b-4ae2-8e03-21a79639805a",
     "showTitle": false,
     "title": ""
    }
   },
   "outputs": [],
   "source": [
    "from pyspark.ml.regression import LinearRegression"
   ]
  },
  {
   "cell_type": "code",
   "execution_count": 0,
   "metadata": {
    "application/vnd.databricks.v1+cell": {
     "cellMetadata": {
      "byteLimit": 2048000,
      "rowLimit": 10000
     },
     "inputWidgets": {},
     "nuid": "950d1b20-4331-4510-b9cd-db2819cb3474",
     "showTitle": false,
     "title": ""
    }
   },
   "outputs": [],
   "source": [
    "algo = LinearRegression(featuresCol=\"features\", labelCol=\"ListPrice\")"
   ]
  },
  {
   "cell_type": "code",
   "execution_count": 0,
   "metadata": {
    "application/vnd.databricks.v1+cell": {
     "cellMetadata": {
      "byteLimit": 2048000,
      "rowLimit": 10000
     },
     "inputWidgets": {},
     "nuid": "bb9182a8-78da-4250-8303-26a222676e1d",
     "showTitle": false,
     "title": ""
    }
   },
   "outputs": [],
   "source": [
    "model = algo.fit(data_2)"
   ]
  },
  {
   "cell_type": "code",
   "execution_count": 0,
   "metadata": {
    "application/vnd.databricks.v1+cell": {
     "cellMetadata": {
      "byteLimit": 2048000,
      "rowLimit": 10000
     },
     "inputWidgets": {},
     "nuid": "373a7a87-ed11-4d0f-b98d-98ce2889907c",
     "showTitle": false,
     "title": ""
    }
   },
   "outputs": [],
   "source": [
    "evaluation_summary = model.evaluate(data_2)"
   ]
  },
  {
   "cell_type": "code",
   "execution_count": 0,
   "metadata": {
    "application/vnd.databricks.v1+cell": {
     "cellMetadata": {
      "byteLimit": 2048000,
      "rowLimit": 10000
     },
     "inputWidgets": {},
     "nuid": "1548b3b3-f7f4-48f6-ad73-2b070f7595da",
     "showTitle": false,
     "title": ""
    }
   },
   "outputs": [
    {
     "name": "stdout",
     "output_type": "stream",
     "text": [
      "Out[115]: 862.8415344138203"
     ]
    }
   ],
   "source": [
    "evaluation_summary.rootMeanSquaredError"
   ]
  },
  {
   "cell_type": "code",
   "execution_count": 0,
   "metadata": {
    "application/vnd.databricks.v1+cell": {
     "cellMetadata": {
      "byteLimit": 2048000,
      "rowLimit": 10000
     },
     "inputWidgets": {},
     "nuid": "5bb20dc4-259c-4de1-bb3c-ea477a692d17",
     "showTitle": false,
     "title": ""
    }
   },
   "outputs": [
    {
     "name": "stdout",
     "output_type": "stream",
     "text": [
      "Out[116]: 0.10019389704278814"
     ]
    }
   ],
   "source": [
    "evaluation_summary.r2"
   ]
  },
  {
   "cell_type": "code",
   "execution_count": 0,
   "metadata": {
    "application/vnd.databricks.v1+cell": {
     "cellMetadata": {},
     "inputWidgets": {},
     "nuid": "6aafa3e3-ee28-47b0-b811-e8cad1deee4e",
     "showTitle": false,
     "title": ""
    }
   },
   "outputs": [],
   "source": []
  }
 ],
 "metadata": {
  "application/vnd.databricks.v1+notebook": {
   "dashboards": [],
   "language": "python",
   "notebookMetadata": {
    "pythonIndentUnit": 2
   },
   "notebookName": "HW14-Spark",
   "widgets": {}
  },
  "kernelspec": {
   "display_name": "Python 3 (ipykernel)",
   "language": "python",
   "name": "python3"
  },
  "language_info": {
   "codemirror_mode": {
    "name": "ipython",
    "version": 3
   },
   "file_extension": ".py",
   "mimetype": "text/x-python",
   "name": "python",
   "nbconvert_exporter": "python",
   "pygments_lexer": "ipython3",
   "version": "3.11.5"
  }
 },
 "nbformat": 4,
 "nbformat_minor": 1
}
