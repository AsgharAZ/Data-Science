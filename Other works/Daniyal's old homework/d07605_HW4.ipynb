{
 "cells": [
  {
   "cell_type": "code",
   "execution_count": 229,
   "id": "a765347a",
   "metadata": {},
   "outputs": [],
   "source": [
    "# d07605@st.habib.edu.pk                 #Daniyal Rahim                       #Homework 4"
   ]
  },
  {
   "cell_type": "code",
   "execution_count": 230,
   "id": "aa888788",
   "metadata": {},
   "outputs": [],
   "source": [
    "import pandas as pd\n",
    "import numpy as np\n",
    "import seaborn as sns\n",
    "import matplotlib.pyplot as plt\n",
    "from scipy import stats"
   ]
  },
  {
   "cell_type": "code",
   "execution_count": 231,
   "id": "fbc4f151",
   "metadata": {},
   "outputs": [],
   "source": [
    "df = pd.read_csv(\"EmployeeAttrition.csv\")"
   ]
  },
  {
   "cell_type": "code",
   "execution_count": 232,
   "id": "af473348",
   "metadata": {},
   "outputs": [
    {
     "data": {
      "text/html": [
       "<div>\n",
       "<style scoped>\n",
       "    .dataframe tbody tr th:only-of-type {\n",
       "        vertical-align: middle;\n",
       "    }\n",
       "\n",
       "    .dataframe tbody tr th {\n",
       "        vertical-align: top;\n",
       "    }\n",
       "\n",
       "    .dataframe thead th {\n",
       "        text-align: right;\n",
       "    }\n",
       "</style>\n",
       "<table border=\"1\" class=\"dataframe\">\n",
       "  <thead>\n",
       "    <tr style=\"text-align: right;\">\n",
       "      <th></th>\n",
       "      <th>Age</th>\n",
       "      <th>BusinessTravel</th>\n",
       "      <th>DailyRate</th>\n",
       "      <th>Department</th>\n",
       "      <th>DistanceFromHome</th>\n",
       "      <th>Education</th>\n",
       "      <th>EducationField</th>\n",
       "      <th>EnvironmentSatisfaction</th>\n",
       "      <th>Gender</th>\n",
       "      <th>HourlyRate</th>\n",
       "      <th>...</th>\n",
       "      <th>StandardHours</th>\n",
       "      <th>StockOptionLevel</th>\n",
       "      <th>TotalWorkingYears</th>\n",
       "      <th>TrainingTimesLastYear</th>\n",
       "      <th>WorkLifeBalance</th>\n",
       "      <th>YearsAtCompany</th>\n",
       "      <th>YearsInCurrentRole</th>\n",
       "      <th>YearsSinceLastPromotion</th>\n",
       "      <th>YearsWithCurrManager</th>\n",
       "      <th>Attrition</th>\n",
       "    </tr>\n",
       "  </thead>\n",
       "  <tbody>\n",
       "    <tr>\n",
       "      <th>0</th>\n",
       "      <td>41</td>\n",
       "      <td>Travel_Rarely</td>\n",
       "      <td>1102</td>\n",
       "      <td>Sales</td>\n",
       "      <td>1</td>\n",
       "      <td>2</td>\n",
       "      <td>Life Sciences</td>\n",
       "      <td>2</td>\n",
       "      <td>Female</td>\n",
       "      <td>94</td>\n",
       "      <td>...</td>\n",
       "      <td>80</td>\n",
       "      <td>0</td>\n",
       "      <td>8</td>\n",
       "      <td>0</td>\n",
       "      <td>1</td>\n",
       "      <td>6</td>\n",
       "      <td>4</td>\n",
       "      <td>0</td>\n",
       "      <td>5</td>\n",
       "      <td>Yes</td>\n",
       "    </tr>\n",
       "    <tr>\n",
       "      <th>1</th>\n",
       "      <td>49</td>\n",
       "      <td>Travel_Frequently</td>\n",
       "      <td>279</td>\n",
       "      <td>Research &amp; Development</td>\n",
       "      <td>8</td>\n",
       "      <td>1</td>\n",
       "      <td>Life Sciences</td>\n",
       "      <td>3</td>\n",
       "      <td>Male</td>\n",
       "      <td>61</td>\n",
       "      <td>...</td>\n",
       "      <td>80</td>\n",
       "      <td>1</td>\n",
       "      <td>10</td>\n",
       "      <td>3</td>\n",
       "      <td>3</td>\n",
       "      <td>10</td>\n",
       "      <td>7</td>\n",
       "      <td>1</td>\n",
       "      <td>7</td>\n",
       "      <td>No</td>\n",
       "    </tr>\n",
       "    <tr>\n",
       "      <th>2</th>\n",
       "      <td>37</td>\n",
       "      <td>Travel_Rarely</td>\n",
       "      <td>1373</td>\n",
       "      <td>Research &amp; Development</td>\n",
       "      <td>2</td>\n",
       "      <td>2</td>\n",
       "      <td>Other</td>\n",
       "      <td>4</td>\n",
       "      <td>Male</td>\n",
       "      <td>92</td>\n",
       "      <td>...</td>\n",
       "      <td>80</td>\n",
       "      <td>0</td>\n",
       "      <td>7</td>\n",
       "      <td>3</td>\n",
       "      <td>3</td>\n",
       "      <td>0</td>\n",
       "      <td>0</td>\n",
       "      <td>0</td>\n",
       "      <td>0</td>\n",
       "      <td>Yes</td>\n",
       "    </tr>\n",
       "    <tr>\n",
       "      <th>3</th>\n",
       "      <td>33</td>\n",
       "      <td>Travel_Frequently</td>\n",
       "      <td>1392</td>\n",
       "      <td>Research &amp; Development</td>\n",
       "      <td>3</td>\n",
       "      <td>4</td>\n",
       "      <td>Life Sciences</td>\n",
       "      <td>4</td>\n",
       "      <td>Female</td>\n",
       "      <td>56</td>\n",
       "      <td>...</td>\n",
       "      <td>80</td>\n",
       "      <td>0</td>\n",
       "      <td>8</td>\n",
       "      <td>3</td>\n",
       "      <td>3</td>\n",
       "      <td>8</td>\n",
       "      <td>7</td>\n",
       "      <td>3</td>\n",
       "      <td>0</td>\n",
       "      <td>No</td>\n",
       "    </tr>\n",
       "    <tr>\n",
       "      <th>4</th>\n",
       "      <td>27</td>\n",
       "      <td>Travel_Rarely</td>\n",
       "      <td>591</td>\n",
       "      <td>Research &amp; Development</td>\n",
       "      <td>2</td>\n",
       "      <td>1</td>\n",
       "      <td>Medical</td>\n",
       "      <td>1</td>\n",
       "      <td>Male</td>\n",
       "      <td>40</td>\n",
       "      <td>...</td>\n",
       "      <td>80</td>\n",
       "      <td>1</td>\n",
       "      <td>6</td>\n",
       "      <td>3</td>\n",
       "      <td>3</td>\n",
       "      <td>2</td>\n",
       "      <td>2</td>\n",
       "      <td>2</td>\n",
       "      <td>2</td>\n",
       "      <td>No</td>\n",
       "    </tr>\n",
       "  </tbody>\n",
       "</table>\n",
       "<p>5 rows × 32 columns</p>\n",
       "</div>"
      ],
      "text/plain": [
       "   Age     BusinessTravel  DailyRate              Department  \\\n",
       "0   41      Travel_Rarely       1102                   Sales   \n",
       "1   49  Travel_Frequently        279  Research & Development   \n",
       "2   37      Travel_Rarely       1373  Research & Development   \n",
       "3   33  Travel_Frequently       1392  Research & Development   \n",
       "4   27      Travel_Rarely        591  Research & Development   \n",
       "\n",
       "   DistanceFromHome  Education EducationField  EnvironmentSatisfaction  \\\n",
       "0                 1          2  Life Sciences                        2   \n",
       "1                 8          1  Life Sciences                        3   \n",
       "2                 2          2          Other                        4   \n",
       "3                 3          4  Life Sciences                        4   \n",
       "4                 2          1        Medical                        1   \n",
       "\n",
       "   Gender  HourlyRate  ...  StandardHours  StockOptionLevel TotalWorkingYears  \\\n",
       "0  Female          94  ...             80                 0                 8   \n",
       "1    Male          61  ...             80                 1                10   \n",
       "2    Male          92  ...             80                 0                 7   \n",
       "3  Female          56  ...             80                 0                 8   \n",
       "4    Male          40  ...             80                 1                 6   \n",
       "\n",
       "   TrainingTimesLastYear WorkLifeBalance  YearsAtCompany  YearsInCurrentRole  \\\n",
       "0                      0               1               6                   4   \n",
       "1                      3               3              10                   7   \n",
       "2                      3               3               0                   0   \n",
       "3                      3               3               8                   7   \n",
       "4                      3               3               2                   2   \n",
       "\n",
       "   YearsSinceLastPromotion YearsWithCurrManager  Attrition  \n",
       "0                        0                    5        Yes  \n",
       "1                        1                    7         No  \n",
       "2                        0                    0        Yes  \n",
       "3                        3                    0         No  \n",
       "4                        2                    2         No  \n",
       "\n",
       "[5 rows x 32 columns]"
      ]
     },
     "execution_count": 232,
     "metadata": {},
     "output_type": "execute_result"
    }
   ],
   "source": [
    "df.head()"
   ]
  },
  {
   "cell_type": "code",
   "execution_count": 233,
   "id": "c6451eaf",
   "metadata": {},
   "outputs": [],
   "source": [
    "# H0: If the MonthlyIncome of Males is same as Females\n",
    "# H1: If the MonthlyIncome of Males is greater than Females"
   ]
  },
  {
   "cell_type": "code",
   "execution_count": 235,
   "id": "512348a9",
   "metadata": {},
   "outputs": [],
   "source": [
    "males = df[df[\"Gender\"]==\"Male\"] [\"MonthlyIncome\"]\n",
    "females = df[df[\"Gender\"]==\"Female\"] [\"MonthlyIncome\"]"
   ]
  },
  {
   "cell_type": "code",
   "execution_count": 236,
   "id": "d166703b",
   "metadata": {},
   "outputs": [
    {
     "data": {
      "text/plain": [
       "Ttest_indResult(statistic=-1.2212617308870655, pvalue=0.8889084827245606)"
      ]
     },
     "execution_count": 236,
     "metadata": {},
     "output_type": "execute_result"
    }
   ],
   "source": [
    "stats.ttest_ind(males,females,alternative=\"greater\")"
   ]
  },
  {
   "cell_type": "code",
   "execution_count": 237,
   "id": "db2685f1",
   "metadata": {},
   "outputs": [],
   "source": [
    "# Conclusion:\n",
    "# P-Value is greater than 0.05.\n",
    "# It means that we can accept Null Hypothesis. Therefore mean of MonthlyIncome of Males is approximately same as Females."
   ]
  },
  {
   "cell_type": "code",
   "execution_count": 238,
   "id": "57030a7f",
   "metadata": {},
   "outputs": [],
   "source": [
    "# H0: If the WorkLifeBalance of Males is same as Females\n",
    "# H1: If the WorkLifeBalance of Males is less than Females"
   ]
  },
  {
   "cell_type": "code",
   "execution_count": 239,
   "id": "1d02eff2",
   "metadata": {},
   "outputs": [],
   "source": [
    "males = df[ df[\"Gender\"]==\"Male\" ] [\"WorkLifeBalance\"]\n",
    "females = df[ df[\"Gender\"]==\"Female\" ] [\"WorkLifeBalance\"]"
   ]
  },
  {
   "cell_type": "code",
   "execution_count": 240,
   "id": "2a17f9b9",
   "metadata": {
    "scrolled": false
   },
   "outputs": [
    {
     "data": {
      "text/plain": [
       "Ttest_indResult(statistic=-0.10546787956064164, pvalue=0.45800948246831286)"
      ]
     },
     "execution_count": 240,
     "metadata": {},
     "output_type": "execute_result"
    }
   ],
   "source": [
    "stats.ttest_ind(males,females,alternative=\"less\")"
   ]
  },
  {
   "cell_type": "code",
   "execution_count": 241,
   "id": "8abbb54d",
   "metadata": {},
   "outputs": [],
   "source": [
    "# Conclusion:\n",
    "# P-Value is greater than 0.05.\n",
    "# It means that we can accept Null Hypothesis. Therefore mean of WorkLifeBalance of Males is approximately same as Females."
   ]
  },
  {
   "cell_type": "code",
   "execution_count": 242,
   "id": "970973c2",
   "metadata": {},
   "outputs": [],
   "source": [
    "# H0 : the YearsAtCompany of Single is same as Married\n",
    "# H1 : the YearsAtCompany of Single is less than Married"
   ]
  },
  {
   "cell_type": "code",
   "execution_count": 243,
   "id": "80dae2fa",
   "metadata": {},
   "outputs": [],
   "source": [
    "married = df[ df[\"MaritalStatus\"]==\"Married\" ] [\"YearsAtCompany\"]\n",
    "single = df[ df[\"MaritalStatus\"]==\"Single\" ] [\"YearsAtCompany\"]"
   ]
  },
  {
   "cell_type": "code",
   "execution_count": 244,
   "id": "9d2e5ffd",
   "metadata": {},
   "outputs": [
    {
     "data": {
      "text/plain": [
       "Ttest_indResult(statistic=-2.5589985737464476, pvalue=0.0053127663549315815)"
      ]
     },
     "execution_count": 244,
     "metadata": {},
     "output_type": "execute_result"
    }
   ],
   "source": [
    "stats.ttest_ind(single,married, alternative=\"less\")"
   ]
  },
  {
   "cell_type": "code",
   "execution_count": 245,
   "id": "99c9748c",
   "metadata": {},
   "outputs": [],
   "source": [
    "# Conclusion:\n",
    "# P-Value = 0.05, therfore We reject Null hypothesis H0.\n",
    "# so H1 is true/valid i.e, the average YearsAtCompany of Single is less than Married"
   ]
  },
  {
   "cell_type": "code",
   "execution_count": 214,
   "id": "0f8dfe05",
   "metadata": {},
   "outputs": [],
   "source": [
    "# H0 = If the EnvironmentalSatisfaction of Attrition=Yes is same as Attrition=No\n",
    "# H1 = If the EnvironmentalSatisfaction of Attrition=Yes is less than Attrition=No"
   ]
  },
  {
   "cell_type": "code",
   "execution_count": 215,
   "id": "8522d992",
   "metadata": {},
   "outputs": [],
   "source": [
    "yes = df[ df[\"Attrition\"]==\"Yes\" ] [\"EnvironmentSatisfaction\"]\n",
    "no = df[ df[\"Attrition\"]==\"No\" ] [\"EnvironmentSatisfaction\"]"
   ]
  },
  {
   "cell_type": "code",
   "execution_count": 246,
   "id": "65f02866",
   "metadata": {},
   "outputs": [
    {
     "data": {
      "text/plain": [
       "Ttest_indResult(statistic=-3.9818600026818496, pvalue=3.58616927468443e-05)"
      ]
     },
     "execution_count": 246,
     "metadata": {},
     "output_type": "execute_result"
    }
   ],
   "source": [
    "stats.ttest_ind(yes, no, alternative = \"less\")"
   ]
  },
  {
   "cell_type": "code",
   "execution_count": 247,
   "id": "8f1cf354",
   "metadata": {},
   "outputs": [],
   "source": [
    "# Conclusion:\n",
    "# P-Value < 0.05, therfore We reject Null hypothesis H0.\n",
    "# so H1 is true/valid i.e, the average EnvironmentalSatisfaction of Attrition=Yes is less than Attrition=No"
   ]
  },
  {
   "cell_type": "code",
   "execution_count": 248,
   "id": "4699c786",
   "metadata": {},
   "outputs": [],
   "source": [
    "# H0 = If the MonthlyIncome of Manager is same as Laboratory Technician\n",
    "# H1 = If the MonthlyIncome of Manager is greater than Laboratory Technician"
   ]
  },
  {
   "cell_type": "code",
   "execution_count": 249,
   "id": "7894df58",
   "metadata": {},
   "outputs": [],
   "source": [
    "manager = df[ df[\"JobRole\"]==\"Manager\" ] [\"MonthlyIncome\"]\n",
    "laboratary = df[ df[\"JobRole\"]==\"Laboratory Technician\" ] [\"MonthlyIncome\"]"
   ]
  },
  {
   "cell_type": "code",
   "execution_count": 250,
   "id": "381392d5",
   "metadata": {},
   "outputs": [
    {
     "data": {
      "text/plain": [
       "Ttest_indResult(statistic=76.03317414634023, pvalue=9.971168334368433e-224)"
      ]
     },
     "execution_count": 250,
     "metadata": {},
     "output_type": "execute_result"
    }
   ],
   "source": [
    "stats.ttest_ind(manager, laboratary, alternative=\"greater\")"
   ]
  },
  {
   "cell_type": "code",
   "execution_count": 251,
   "id": "1fb904d2",
   "metadata": {},
   "outputs": [],
   "source": [
    "# Conclusion:\n",
    "# P-Value < 0.05, therfore We reject Null hypothesis H0.\n",
    "# so H1 is true/valid i.e, the average MonthlyIncome of Manager is greater than Laboratory Technician"
   ]
  },
  {
   "cell_type": "code",
   "execution_count": 252,
   "id": "88b2663e",
   "metadata": {},
   "outputs": [],
   "source": [
    "# Is there any association between the Department and Gender?\n",
    "# H0 = There is an association between Department and Gender.\n",
    "# H1 = There is no association between Department and Gender."
   ]
  },
  {
   "cell_type": "code",
   "execution_count": 253,
   "id": "4ce658e1",
   "metadata": {},
   "outputs": [],
   "source": [
    "department = df[\"Department\"]\n",
    "gender = df[\"Gender\"]"
   ]
  },
  {
   "cell_type": "code",
   "execution_count": 254,
   "id": "e0db9e9d",
   "metadata": {},
   "outputs": [],
   "source": [
    "chisqt = pd.crosstab(department,gender, margins = True)"
   ]
  },
  {
   "cell_type": "code",
   "execution_count": 255,
   "id": "5223d417",
   "metadata": {},
   "outputs": [
    {
     "data": {
      "text/html": [
       "<div>\n",
       "<style scoped>\n",
       "    .dataframe tbody tr th:only-of-type {\n",
       "        vertical-align: middle;\n",
       "    }\n",
       "\n",
       "    .dataframe tbody tr th {\n",
       "        vertical-align: top;\n",
       "    }\n",
       "\n",
       "    .dataframe thead th {\n",
       "        text-align: right;\n",
       "    }\n",
       "</style>\n",
       "<table border=\"1\" class=\"dataframe\">\n",
       "  <thead>\n",
       "    <tr style=\"text-align: right;\">\n",
       "      <th>Gender</th>\n",
       "      <th>Female</th>\n",
       "      <th>Male</th>\n",
       "      <th>All</th>\n",
       "    </tr>\n",
       "    <tr>\n",
       "      <th>Department</th>\n",
       "      <th></th>\n",
       "      <th></th>\n",
       "      <th></th>\n",
       "    </tr>\n",
       "  </thead>\n",
       "  <tbody>\n",
       "    <tr>\n",
       "      <th>Human Resources</th>\n",
       "      <td>20</td>\n",
       "      <td>43</td>\n",
       "      <td>63</td>\n",
       "    </tr>\n",
       "    <tr>\n",
       "      <th>Research &amp; Development</th>\n",
       "      <td>379</td>\n",
       "      <td>582</td>\n",
       "      <td>961</td>\n",
       "    </tr>\n",
       "    <tr>\n",
       "      <th>Sales</th>\n",
       "      <td>189</td>\n",
       "      <td>257</td>\n",
       "      <td>446</td>\n",
       "    </tr>\n",
       "    <tr>\n",
       "      <th>All</th>\n",
       "      <td>588</td>\n",
       "      <td>882</td>\n",
       "      <td>1470</td>\n",
       "    </tr>\n",
       "  </tbody>\n",
       "</table>\n",
       "</div>"
      ],
      "text/plain": [
       "Gender                  Female  Male   All\n",
       "Department                                \n",
       "Human Resources             20    43    63\n",
       "Research & Development     379   582   961\n",
       "Sales                      189   257   446\n",
       "All                        588   882  1470"
      ]
     },
     "execution_count": 255,
     "metadata": {},
     "output_type": "execute_result"
    }
   ],
   "source": [
    "chisqt"
   ]
  },
  {
   "cell_type": "code",
   "execution_count": 256,
   "id": "b3e93af6",
   "metadata": {},
   "outputs": [
    {
     "data": {
      "text/plain": [
       "array([[ 20,  43,  63],\n",
       "       [379, 582, 961]], dtype=int64)"
      ]
     },
     "execution_count": 256,
     "metadata": {},
     "output_type": "execute_result"
    }
   ],
   "source": [
    "# np.array [ chisqt.iloc[0] ]\n",
    "val = np.array ( [chisqt.iloc[0][0:].values, chisqt.iloc[1][0:].values] )\n",
    "val"
   ]
  },
  {
   "cell_type": "code",
   "execution_count": 257,
   "id": "1c80fcd2",
   "metadata": {},
   "outputs": [],
   "source": [
    "chi2, p, dof, exp_freq = stats.chi2_contingency(val)"
   ]
  },
  {
   "cell_type": "code",
   "execution_count": 258,
   "id": "bd5dd8cf",
   "metadata": {},
   "outputs": [
    {
     "data": {
      "text/plain": [
       "0.47927963769548776"
      ]
     },
     "execution_count": 258,
     "metadata": {},
     "output_type": "execute_result"
    }
   ],
   "source": [
    "p"
   ]
  },
  {
   "cell_type": "code",
   "execution_count": 170,
   "id": "0e0098ed",
   "metadata": {},
   "outputs": [],
   "source": [
    "# Since p > 0.05 therefore we cannot reject null hyphothesis. Hence, there is an association between Department and Gender."
   ]
  }
 ],
 "metadata": {
  "kernelspec": {
   "display_name": "Python 3 (ipykernel)",
   "language": "python",
   "name": "python3"
  },
  "language_info": {
   "codemirror_mode": {
    "name": "ipython",
    "version": 3
   },
   "file_extension": ".py",
   "mimetype": "text/x-python",
   "name": "python",
   "nbconvert_exporter": "python",
   "pygments_lexer": "ipython3",
   "version": "3.11.4"
  }
 },
 "nbformat": 4,
 "nbformat_minor": 5
}
