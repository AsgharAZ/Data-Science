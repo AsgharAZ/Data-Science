{
 "cells": [
  {
   "cell_type": "markdown",
   "metadata": {
    "application/vnd.databricks.v1+cell": {
     "cellMetadata": {
      "byteLimit": 2048000,
      "rowLimit": 10000
     },
     "inputWidgets": {},
     "nuid": "998874f6-f184-424a-82bc-95c959ac5de0",
     "showTitle": false,
     "tableResultSettingsMap": {},
     "title": ""
    }
   },
   "source": [
    "### Syed Asghar Abbas Zaidi (sz07201)\n",
    "### Data Science Homework 12: Apache Spark "
   ]
  },
  {
   "cell_type": "code",
   "execution_count": null,
   "metadata": {
    "application/vnd.databricks.v1+cell": {
     "cellMetadata": {
      "byteLimit": 2048000,
      "rowLimit": 10000
     },
     "inputWidgets": {},
     "nuid": "995767c2-8fbe-4a7d-80ac-3109c45de204",
     "showTitle": false,
     "tableResultSettingsMap": {},
     "title": ""
    }
   },
   "outputs": [],
   "source": [
    "from pyspark import SparkConf, SparkContext\n",
    "from pyspark.sql import SQLContext, SparkSession\n",
    "\n",
    "#sc is the Spark Context already available at databricks, so we do not need to create it again.\n",
    "#sc = SparkContext()\n",
    "# sqlContext = SQLContext(sc)\n",
    "\n",
    "# from pyspark.sql import SparkSession\n",
    "sqlContext = SparkSession.builder.appName('abc').getOrCreate()"
   ]
  },
  {
   "cell_type": "markdown",
   "metadata": {
    "application/vnd.databricks.v1+cell": {
     "cellMetadata": {
      "byteLimit": 2048000,
      "rowLimit": 10000
     },
     "inputWidgets": {},
     "nuid": "dad83ce3-0a95-468b-be6b-eeb20a725806",
     "showTitle": false,
     "tableResultSettingsMap": {},
     "title": ""
    }
   },
   "source": [
    "# Creating RDD (Resilient Distributed Dataset) - fundamental data structure of Spark"
   ]
  },
  {
   "cell_type": "code",
   "execution_count": null,
   "metadata": {
    "application/vnd.databricks.v1+cell": {
     "cellMetadata": {
      "byteLimit": 2048000,
      "rowLimit": 10000
     },
     "inputWidgets": {},
     "nuid": "85a92d7d-862a-43da-a8e8-c1505a52225f",
     "showTitle": false,
     "tableResultSettingsMap": {},
     "title": ""
    }
   },
   "outputs": [],
   "source": [
    "products = sc.textFile(\"/FileStore/tables/SalesData.txt\")"
   ]
  },
  {
   "cell_type": "code",
   "execution_count": null,
   "metadata": {
    "application/vnd.databricks.v1+cell": {
     "cellMetadata": {
      "byteLimit": 2048000,
      "rowLimit": 10000
     },
     "inputWidgets": {},
     "nuid": "2aa738f2-f4d1-4901-aad0-d5a8ee807c89",
     "showTitle": false,
     "tableResultSettingsMap": {},
     "title": ""
    }
   },
   "outputs": [
    {
     "name": "stdout",
     "output_type": "stream",
     "text": [
      "Out[4]: 'ProductID\\tName\\tProductNumber\\tColor\\tStandardCost\\tListPrice\\tSize\\tWeight\\tProductCategoryID\\tProductModelID\\tSellStartDate\\tSellEndDate\\tDiscontinuedDate\\tThumbNailPhoto\\tThumbnailPhotoFileName\\trowguid\\tModifiedDate'"
     ]
    }
   ],
   "source": [
    "products.first()"
   ]
  },
  {
   "cell_type": "code",
   "execution_count": null,
   "metadata": {
    "application/vnd.databricks.v1+cell": {
     "cellMetadata": {
      "byteLimit": 2048000,
      "rowLimit": 10000
     },
     "inputWidgets": {},
     "nuid": "1d226610-9a0e-4915-9861-82c2b2163b0c",
     "showTitle": false,
     "tableResultSettingsMap": {},
     "title": ""
    }
   },
   "outputs": [
    {
     "name": "stdout",
     "output_type": "stream",
     "text": [
      "The data has 17 columns\n",
      "Out[5]: ['ProductID',\n",
      " 'Name',\n",
      " 'ProductNumber',\n",
      " 'Color',\n",
      " 'StandardCost',\n",
      " 'ListPrice',\n",
      " 'Size',\n",
      " 'Weight',\n",
      " 'ProductCategoryID',\n",
      " 'ProductModelID',\n",
      " 'SellStartDate',\n",
      " 'SellEndDate',\n",
      " 'DiscontinuedDate',\n",
      " 'ThumbNailPhoto',\n",
      " 'ThumbnailPhotoFileName',\n",
      " 'rowguid',\n",
      " 'ModifiedDate']"
     ]
    }
   ],
   "source": [
    "print(\"The data has {} columns\".format(len(products.first().split(\"\\t\"))))\n",
    "header = products.first().split(\"\\t\")\n",
    "header"
   ]
  },
  {
   "cell_type": "code",
   "execution_count": null,
   "metadata": {
    "application/vnd.databricks.v1+cell": {
     "cellMetadata": {
      "byteLimit": 2048000,
      "rowLimit": 10000
     },
     "inputWidgets": {},
     "nuid": "ae301838-99e7-4a98-9531-f399521e6e46",
     "showTitle": false,
     "tableResultSettingsMap": {},
     "title": ""
    }
   },
   "outputs": [],
   "source": [
    "head = products.first()\n",
    "content = products.filter(lambda line: line != head)"
   ]
  },
  {
   "cell_type": "code",
   "execution_count": null,
   "metadata": {
    "application/vnd.databricks.v1+cell": {
     "cellMetadata": {
      "byteLimit": 2048000,
      "rowLimit": 10000
     },
     "inputWidgets": {},
     "nuid": "b25629db-cfa9-4fd9-93fb-a1dc0fe5a044",
     "showTitle": false,
     "tableResultSettingsMap": {},
     "title": ""
    }
   },
   "outputs": [
    {
     "name": "stdout",
     "output_type": "stream",
     "text": [
      "Out[7]: '680\\tHL Road Frame - Black, 58\\tFR-R92B-58\\tBlack\\t1059.31\\t1431.50\\t58\\t1016.04\\t18\\t6\\t1998-06-01 00:00:00.000\\tNULL\\tNULL\\t0x47494638396150003100F70000000000800000008000808000000080800080008080808080C0C0C0FF000000FF00FFFF000000FFFF00FF00FFFFFFFFFF000000000000000000000000000000000000000000000000000000000000000000000000000000000000000000000000000000000000000000000000000000000000\\tno_image_available_small.gif\\t43DD68D6-14A4-461F-9069-55309D90EA7E\\t2004-03-11 10:01:36.827'"
     ]
    }
   ],
   "source": [
    "content.first()"
   ]
  },
  {
   "cell_type": "code",
   "execution_count": null,
   "metadata": {
    "application/vnd.databricks.v1+cell": {
     "cellMetadata": {
      "byteLimit": 2048000,
      "rowLimit": 10000
     },
     "inputWidgets": {},
     "nuid": "7c6477b3-ae17-40c9-ad94-e226c1d96a67",
     "showTitle": false,
     "tableResultSettingsMap": {},
     "title": ""
    }
   },
   "outputs": [
    {
     "name": "stdout",
     "output_type": "stream",
     "text": [
      "Out[8]: 17"
     ]
    }
   ],
   "source": [
    "content.map(lambda line: len(line.split(\"\\t\"))).distinct().collect()[0]"
   ]
  },
  {
   "cell_type": "markdown",
   "metadata": {
    "application/vnd.databricks.v1+cell": {
     "cellMetadata": {
      "byteLimit": 2048000,
      "rowLimit": 10000
     },
     "inputWidgets": {},
     "nuid": "a3097865-16c7-4069-bf6b-b61d2a71ced9",
     "showTitle": false,
     "tableResultSettingsMap": {},
     "title": ""
    }
   },
   "source": [
    "# Example of RDD using Scala"
   ]
  },
  {
   "cell_type": "code",
   "execution_count": null,
   "metadata": {
    "application/vnd.databricks.v1+cell": {
     "cellMetadata": {
      "byteLimit": 2048000,
      "rowLimit": 10000
     },
     "inputWidgets": {},
     "nuid": "fd3e1c26-ea05-4ffb-b91d-6ef5936864db",
     "showTitle": false,
     "tableResultSettingsMap": {},
     "title": ""
    }
   },
   "outputs": [
    {
     "name": "stdout",
     "output_type": "stream",
     "text": [
      "Out[9]: [['680',\n",
      "  'HL Road Frame - Black, 58',\n",
      "  'FR-R92B-58',\n",
      "  'Black',\n",
      "  '1059.31',\n",
      "  '1431.50',\n",
      "  '58',\n",
      "  '1016.04',\n",
      "  '18',\n",
      "  '6',\n",
      "  '1998-06-01 00:00:00.000',\n",
      "  'NULL',\n",
      "  'NULL',\n",
      "  '0x47494638396150003100F70000000000800000008000808000000080800080008080808080C0C0C0FF000000FF00FFFF000000FFFF00FF00FFFFFFFFFF000000000000000000000000000000000000000000000000000000000000000000000000000000000000000000000000000000000000000000000000000000000000',\n",
      "  'no_image_available_small.gif',\n",
      "  '43DD68D6-14A4-461F-9069-55309D90EA7E',\n",
      "  '2004-03-11 10:01:36.827']]"
     ]
    }
   ],
   "source": [
    "rdd1 = (content.filter(lambda line: line.split(\"\\t\"))\n",
    " .map(lambda line: (line.split(\"\\t\")))\n",
    ")\n",
    "rdd1.take(1)"
   ]
  },
  {
   "cell_type": "markdown",
   "metadata": {
    "application/vnd.databricks.v1+cell": {
     "cellMetadata": {
      "byteLimit": 2048000,
      "rowLimit": 10000
     },
     "inputWidgets": {},
     "nuid": "a105419c-a4d8-4fee-a173-8a25b774998c",
     "showTitle": false,
     "tableResultSettingsMap": {},
     "title": ""
    }
   },
   "source": [
    "# Converting RDD into Spark Dataframe"
   ]
  },
  {
   "cell_type": "code",
   "execution_count": null,
   "metadata": {
    "application/vnd.databricks.v1+cell": {
     "cellMetadata": {
      "byteLimit": 2048000,
      "rowLimit": 10000
     },
     "inputWidgets": {},
     "nuid": "9a3f50ec-faaf-4aae-975c-5eeb4b1f66d6",
     "showTitle": false,
     "tableResultSettingsMap": {},
     "title": ""
    }
   },
   "outputs": [
    {
     "name": "stdout",
     "output_type": "stream",
     "text": [
      "+---------+--------------------+-------------+-----+------------+---------+----+-------+-----------------+--------------+--------------------+--------------------+----------------+--------------------+----------------------+--------------------+--------------------+\n",
      "|ProductID|                Name|ProductNumber|Color|StandardCost|ListPrice|Size| Weight|ProductCategoryID|ProductModelID|       SellStartDate|         SellEndDate|DiscontinuedDate|      ThumbNailPhoto|ThumbnailPhotoFileName|             rowguid|        ModifiedDate|\n",
      "+---------+--------------------+-------------+-----+------------+---------+----+-------+-----------------+--------------+--------------------+--------------------+----------------+--------------------+----------------------+--------------------+--------------------+\n",
      "|      680|HL Road Frame - B...|   FR-R92B-58|Black|     1059.31|  1431.50|  58|1016.04|               18|             6|1998-06-01 00:00:...|                NULL|            NULL|0x474946383961500...|  no_image_availabl...|43DD68D6-14A4-461...|2004-03-11 10:01:...|\n",
      "|      706|HL Road Frame - R...|   FR-R92R-58|  Red|     1059.31|  1431.50|  58|1016.04|               18|             6|1998-06-01 00:00:...|                NULL|            NULL|0x474946383961500...|  no_image_availabl...|9540FF17-2712-4C9...|2004-03-11 10:01:...|\n",
      "|      707|Sport-100 Helmet,...|    HL-U509-R|  Red|     13.0863|    34.99|NULL|   NULL|               35|            33|2001-07-01 00:00:...|                NULL|            NULL|0x474946383961500...|  no_image_availabl...|2E1EF41A-C08A-4FF...|2004-03-11 10:01:...|\n",
      "|      708|Sport-100 Helmet,...|      HL-U509|Black|     13.0863|    34.99|NULL|   NULL|               35|            33|2001-07-01 00:00:...|                NULL|            NULL|0x474946383961500...|  no_image_availabl...|A25A44FB-C2DE-426...|2004-03-11 10:01:...|\n",
      "|      709|Mountain Bike Soc...|    SO-B909-M|White|      3.3963|     9.50|   M|   NULL|               27|            18|2001-07-01 00:00:...|2002-06-30 00:00:...|            NULL|0x474946383961500...|  no_image_availabl...|18F95F47-1540-4E0...|2004-03-11 10:01:...|\n",
      "|      710|Mountain Bike Soc...|    SO-B909-L|White|      3.3963|     9.50|   L|   NULL|               27|            18|2001-07-01 00:00:...|2002-06-30 00:00:...|            NULL|0x474946383961500...|  no_image_availabl...|161C035E-21B3-4E1...|2004-03-11 10:01:...|\n",
      "|      711|Sport-100 Helmet,...|    HL-U509-B| Blue|     13.0863|    34.99|NULL|   NULL|               35|            33|2001-07-01 00:00:...|                NULL|            NULL|0x474946383961500...|  no_image_availabl...|FD7C0858-4179-48C...|2004-03-11 10:01:...|\n",
      "|      712|        AWC Logo Cap|      CA-1098|Multi|      6.9223|     8.99|NULL|   NULL|               23|             2|2001-07-01 00:00:...|                NULL|            NULL|0x474946383961500...|  no_image_availabl...|B9EDE243-A6F4-462...|2004-03-11 10:01:...|\n",
      "|      713|Long-Sleeve Logo ...|    LJ-0192-S|Multi|     38.4923|    49.99|   S|   NULL|               25|            11|2001-07-01 00:00:...|                NULL|            NULL|0x474946383961500...|  awc_jersey_male_s...|FD449C82-A259-4FA...|2004-03-11 10:01:...|\n",
      "|      714|Long-Sleeve Logo ...|    LJ-0192-M|Multi|     38.4923|    49.99|   M|   NULL|               25|            11|2001-07-01 00:00:...|                NULL|            NULL|0x474946383961500...|  awc_jersey_male_s...|6A290063-A0CF-432...|2004-03-11 10:01:...|\n",
      "|      715|Long-Sleeve Logo ...|    LJ-0192-L|Multi|     38.4923|    49.99|   L|   NULL|               25|            11|2001-07-01 00:00:...|                NULL|            NULL|0x474946383961500...|  awc_jersey_male_s...|34CF5EF5-C077-4EA...|2004-03-11 10:01:...|\n",
      "|      716|Long-Sleeve Logo ...|    LJ-0192-X|Multi|     38.4923|    49.99|  XL|   NULL|               25|            11|2001-07-01 00:00:...|                NULL|            NULL|0x474946383961500...|  awc_jersey_male_s...|6EC47EC9-C041-4DD...|2004-03-11 10:01:...|\n",
      "|      717|HL Road Frame - R...|   FR-R92R-62|  Red|    868.6342|  1431.50|  62|1043.26|               18|             6|2001-07-01 00:00:...|                NULL|            NULL|0x474946383961500...|  no_image_availabl...|052E4F8B-0A2A-46B...|2004-03-11 10:01:...|\n",
      "|      718|HL Road Frame - R...|   FR-R92R-44|  Red|    868.6342|  1431.50|  44| 961.61|               18|             6|2001-07-01 00:00:...|                NULL|            NULL|0x474946383961500...|  no_image_availabl...|A88D3B54-2CAE-43F...|2004-03-11 10:01:...|\n",
      "|      719|HL Road Frame - R...|   FR-R92R-48|  Red|    868.6342|  1431.50|  48| 979.75|               18|             6|2001-07-01 00:00:...|                NULL|            NULL|0x474946383961500...|  no_image_availabl...|07BEFC9A-7634-402...|2004-03-11 10:01:...|\n",
      "|      720|HL Road Frame - R...|   FR-R92R-52|  Red|    868.6342|  1431.50|  52| 997.90|               18|             6|2001-07-01 00:00:...|                NULL|            NULL|0x474946383961500...|  no_image_availabl...|FCFEA68F-310E-4E6...|2004-03-11 10:01:...|\n",
      "|      721|HL Road Frame - R...|   FR-R92R-56|  Red|    868.6342|  1431.50|  56|1016.04|               18|             6|2001-07-01 00:00:...|                NULL|            NULL|0x474946383961500...|  no_image_availabl...|56C85873-4993-41B...|2004-03-11 10:01:...|\n",
      "|      722|LL Road Frame - B...|   FR-R38B-58|Black|    204.6251|   337.22|  58|1115.83|               18|             9|2001-07-01 00:00:...|                NULL|            NULL|0x474946383961500...|  no_image_availabl...|2140F256-F705-4D6...|2004-03-11 10:01:...|\n",
      "|      723|LL Road Frame - B...|   FR-R38B-60|Black|    204.6251|   337.22|  60|1124.90|               18|             9|2001-07-01 00:00:...|                NULL|            NULL|0x474946383961500...|  no_image_availabl...|AA95E2A5-E7C4-4B7...|2004-03-11 10:01:...|\n",
      "|      724|LL Road Frame - B...|   FR-R38B-62|Black|    204.6251|   337.22|  62|1133.98|               18|             9|2001-07-01 00:00:...|                NULL|            NULL|0x474946383961500...|  no_image_availabl...|5247BE33-50BF-452...|2004-03-11 10:01:...|\n",
      "+---------+--------------------+-------------+-----+------------+---------+----+-------+-----------------+--------------+--------------------+--------------------+----------------+--------------------+----------------------+--------------------+--------------------+\n",
      "only showing top 20 rows\n",
      "\n"
     ]
    }
   ],
   "source": [
    "df = rdd1.toDF(header)\n",
    "df.show()"
   ]
  },
  {
   "cell_type": "markdown",
   "metadata": {
    "application/vnd.databricks.v1+cell": {
     "cellMetadata": {
      "byteLimit": 2048000,
      "rowLimit": 10000
     },
     "inputWidgets": {},
     "nuid": "fb282bbf-f4b2-4299-9c07-9b978bce0169",
     "showTitle": false,
     "tableResultSettingsMap": {},
     "title": ""
    }
   },
   "source": [
    "# Using Two Different Code/Syntax\n",
    "## Spark Dataframe syntax and SQL Table syntax"
   ]
  },
  {
   "cell_type": "markdown",
   "metadata": {
    "application/vnd.databricks.v1+cell": {
     "cellMetadata": {
      "byteLimit": 2048000,
      "rowLimit": 10000
     },
     "inputWidgets": {},
     "nuid": "634a7e65-f23f-4043-963f-feeaa28bfa85",
     "showTitle": false,
     "tableResultSettingsMap": {},
     "title": ""
    }
   },
   "source": [
    "### Spark Dataframe syntax"
   ]
  },
  {
   "cell_type": "code",
   "execution_count": null,
   "metadata": {
    "application/vnd.databricks.v1+cell": {
     "cellMetadata": {
      "byteLimit": 2048000,
      "rowLimit": 10000
     },
     "inputWidgets": {},
     "nuid": "fae7aa88-69b3-42fe-b863-c890bb7975eb",
     "showTitle": false,
     "tableResultSettingsMap": {},
     "title": ""
    }
   },
   "outputs": [
    {
     "name": "stdout",
     "output_type": "stream",
     "text": [
      "+-------------------------+-------+\n",
      "|Name                     |Weight |\n",
      "+-------------------------+-------+\n",
      "|HL Road Frame - Black, 58|1016.04|\n",
      "|HL Road Frame - Red, 58  |1016.04|\n",
      "|Sport-100 Helmet, Red    |null   |\n",
      "|Sport-100 Helmet, Black  |null   |\n",
      "|Mountain Bike Socks, M   |null   |\n",
      "+-------------------------+-------+\n",
      "only showing top 5 rows\n",
      "\n"
     ]
    }
   ],
   "source": [
    "# selecting two columns Name and Weight from original dataframe and convert into their proper datatype. Default is string\n",
    "spark_df = df.select(df.Name, df.Weight.cast(\"float\"))\n",
    "spark_df.show(5, truncate=False)"
   ]
  },
  {
   "cell_type": "markdown",
   "metadata": {
    "application/vnd.databricks.v1+cell": {
     "cellMetadata": {
      "byteLimit": 2048000,
      "rowLimit": 10000
     },
     "inputWidgets": {},
     "nuid": "76e9f5d3-2ce4-42a6-8a97-151f62966559",
     "showTitle": false,
     "tableResultSettingsMap": {},
     "title": ""
    }
   },
   "source": [
    "### SQL Table syntax\n",
    "First convert the original Spark Dataframe df into SQL Table and then write SQL syntax"
   ]
  },
  {
   "cell_type": "code",
   "execution_count": null,
   "metadata": {
    "application/vnd.databricks.v1+cell": {
     "cellMetadata": {
      "byteLimit": 2048000,
      "rowLimit": 10000
     },
     "inputWidgets": {},
     "nuid": "ba37d163-0abd-47ac-a2dd-609382697ca7",
     "showTitle": false,
     "tableResultSettingsMap": {},
     "title": ""
    }
   },
   "outputs": [
    {
     "name": "stdout",
     "output_type": "stream",
     "text": [
      "+-------------------------+-------+\n",
      "|Name                     |Weight |\n",
      "+-------------------------+-------+\n",
      "|HL Road Frame - Black, 58|1016.04|\n",
      "|HL Road Frame - Red, 58  |1016.04|\n",
      "|Sport-100 Helmet, Red    |null   |\n",
      "|Sport-100 Helmet, Black  |null   |\n",
      "|Mountain Bike Socks, M   |null   |\n",
      "+-------------------------+-------+\n",
      "\n"
     ]
    }
   ],
   "source": [
    "# convert the original Spark Dataframe df into SQL Table\n",
    "df.createOrReplaceTempView(\"df_table\")\n",
    "# write SQL query syntax\n",
    "sqlContext.sql(\" SELECT Name, cast(Weight as float) FROM df_table limit 5\").show(truncate=False)"
   ]
  },
  {
   "cell_type": "markdown",
   "metadata": {
    "application/vnd.databricks.v1+cell": {
     "cellMetadata": {
      "byteLimit": 2048000,
      "rowLimit": 10000
     },
     "inputWidgets": {},
     "nuid": "69d4323b-c498-4abe-b321-1a62cd627ed8",
     "showTitle": false,
     "tableResultSettingsMap": {},
     "title": ""
    }
   },
   "source": [
    "## Write your solutions using Spark Dataframe syntax and Spark SQL syntax. Your output should match with the RDD output"
   ]
  },
  {
   "cell_type": "markdown",
   "metadata": {
    "application/vnd.databricks.v1+cell": {
     "cellMetadata": {
      "byteLimit": 2048000,
      "rowLimit": 10000
     },
     "inputWidgets": {},
     "nuid": "6019e613-c169-4946-923d-2d87ba1ce274",
     "showTitle": false,
     "tableResultSettingsMap": {},
     "title": ""
    }
   },
   "source": [
    "#### 1. Find the names and weight of the top 15 products by weight. Sort weight by descending order."
   ]
  },
  {
   "cell_type": "markdown",
   "metadata": {
    "application/vnd.databricks.v1+cell": {
     "cellMetadata": {
      "byteLimit": 2048000,
      "rowLimit": 10000
     },
     "inputWidgets": {},
     "nuid": "cf59b76e-c51a-4445-9d49-eb6dc0c6ad00",
     "showTitle": false,
     "tableResultSettingsMap": {},
     "title": ""
    }
   },
   "source": [
    "##### Using RDD"
   ]
  },
  {
   "cell_type": "code",
   "execution_count": null,
   "metadata": {
    "application/vnd.databricks.v1+cell": {
     "cellMetadata": {
      "byteLimit": 2048000,
      "rowLimit": 10000
     },
     "inputWidgets": {},
     "nuid": "728d67e4-bc29-4991-a999-154e1450fbf6",
     "showTitle": false,
     "tableResultSettingsMap": {},
     "title": ""
    }
   },
   "outputs": [
    {
     "name": "stdout",
     "output_type": "stream",
     "text": [
      "Out[13]: [('Touring-3000 Blue, 62', 13607.7),\n",
      " ('Touring-3000 Yellow, 62', 13607.7),\n",
      " ('Touring-3000 Blue, 58', 13562.34),\n",
      " ('Touring-3000 Yellow, 58', 13512.45),\n",
      " ('Touring-3000 Blue, 54', 13462.55),\n",
      " ('Touring-3000 Yellow, 54', 13344.62),\n",
      " ('Touring-3000 Yellow, 50', 13213.08),\n",
      " ('Touring-3000 Blue, 50', 13213.08),\n",
      " ('Touring-3000 Yellow, 44', 13049.78),\n",
      " ('Touring-3000 Blue, 44', 13049.78),\n",
      " ('Mountain-500 Silver, 52', 13008.96),\n",
      " ('Mountain-500 Black, 52', 13008.96),\n",
      " ('Mountain-500 Silver, 48', 12891.03),\n",
      " ('Mountain-500 Black, 48', 12891.03),\n",
      " ('Mountain-500 Silver, 44', 12759.49)]"
     ]
    }
   ],
   "source": [
    "(content.filter(lambda line: line.split(\"\\t\")[7] != \"NULL\")\n",
    " .map(lambda line: (line.split(\"\\t\")[1], float(line.split(\"\\t\")[7])))\n",
    "                     .takeOrdered(15, lambda x : -x[1])\n",
    "                    )"
   ]
  },
  {
   "cell_type": "markdown",
   "metadata": {
    "application/vnd.databricks.v1+cell": {
     "cellMetadata": {
      "byteLimit": 2048000,
      "rowLimit": 10000
     },
     "inputWidgets": {},
     "nuid": "9908f57f-848d-49c8-a3c9-5040d1e35a32",
     "showTitle": false,
     "tableResultSettingsMap": {},
     "title": ""
    }
   },
   "source": [
    "##### Using Spark DataFrame"
   ]
  },
  {
   "cell_type": "code",
   "execution_count": null,
   "metadata": {
    "application/vnd.databricks.v1+cell": {
     "cellMetadata": {
      "byteLimit": 2048000,
      "rowLimit": 10000
     },
     "inputWidgets": {},
     "nuid": "16c097bd-6deb-4dd6-967c-98b4a32c89dd",
     "showTitle": false,
     "tableResultSettingsMap": {},
     "title": ""
    }
   },
   "outputs": [
    {
     "name": "stdout",
     "output_type": "stream",
     "text": [
      "+-----------------------+--------+\n",
      "|Name                   |Weight  |\n",
      "+-----------------------+--------+\n",
      "|Touring-3000 Blue, 62  |13607.7 |\n",
      "|Touring-3000 Yellow, 62|13607.7 |\n",
      "|Touring-3000 Blue, 58  |13562.34|\n",
      "|Touring-3000 Yellow, 58|13512.45|\n",
      "|Touring-3000 Blue, 54  |13462.55|\n",
      "|Touring-3000 Yellow, 54|13344.62|\n",
      "|Touring-3000 Yellow, 50|13213.08|\n",
      "|Touring-3000 Blue, 50  |13213.08|\n",
      "|Touring-3000 Yellow, 44|13049.78|\n",
      "|Touring-3000 Blue, 44  |13049.78|\n",
      "|Mountain-500 Silver, 52|13008.96|\n",
      "|Mountain-500 Black, 52 |13008.96|\n",
      "|Mountain-500 Silver, 48|12891.03|\n",
      "|Mountain-500 Black, 48 |12891.03|\n",
      "|Mountain-500 Silver, 44|12759.49|\n",
      "+-----------------------+--------+\n",
      "only showing top 15 rows\n",
      "\n"
     ]
    }
   ],
   "source": [
    "# selecting two columns Name and Weight from original dataframe and convert into their proper datatype. Default is string\n",
    "spark_df = df.select(df.Name, df.Weight.cast(\"float\"))\n",
    "# spark_df = spark_df.filter(spark_df.Weight.isNotNull())\n",
    "spark_df = spark_df.orderBy(spark_df.Weight.desc())\n",
    "spark_df.show(15, truncate=False)\n"
   ]
  },
  {
   "cell_type": "markdown",
   "metadata": {
    "application/vnd.databricks.v1+cell": {
     "cellMetadata": {
      "byteLimit": 2048000,
      "rowLimit": 10000
     },
     "inputWidgets": {},
     "nuid": "d1aee5df-1ab5-4a8d-a36c-1ae78c3d1195",
     "showTitle": false,
     "tableResultSettingsMap": {},
     "title": ""
    }
   },
   "source": [
    "##### Using Spark SQL"
   ]
  },
  {
   "cell_type": "code",
   "execution_count": null,
   "metadata": {
    "application/vnd.databricks.v1+cell": {
     "cellMetadata": {
      "byteLimit": 2048000,
      "rowLimit": 10000
     },
     "inputWidgets": {},
     "nuid": "dc945e57-6428-4d09-b227-b875758c36f9",
     "showTitle": false,
     "tableResultSettingsMap": {},
     "title": ""
    }
   },
   "outputs": [
    {
     "name": "stdout",
     "output_type": "stream",
     "text": [
      "+-----------------------+--------+\n",
      "|Name                   |Weight  |\n",
      "+-----------------------+--------+\n",
      "|Touring-3000 Yellow, 62|13607.7 |\n",
      "|Touring-3000 Blue, 62  |13607.7 |\n",
      "|Touring-3000 Blue, 58  |13562.34|\n",
      "|Touring-3000 Yellow, 58|13512.45|\n",
      "|Touring-3000 Blue, 54  |13462.55|\n",
      "|Touring-3000 Yellow, 54|13344.62|\n",
      "|Touring-3000 Yellow, 50|13213.08|\n",
      "|Touring-3000 Blue, 50  |13213.08|\n",
      "|Touring-3000 Yellow, 44|13049.78|\n",
      "|Touring-3000 Blue, 44  |13049.78|\n",
      "|Mountain-500 Silver, 52|13008.96|\n",
      "|Mountain-500 Black, 52 |13008.96|\n",
      "|Mountain-500 Silver, 48|12891.03|\n",
      "|Mountain-500 Black, 48 |12891.03|\n",
      "|Mountain-500 Silver, 44|12759.49|\n",
      "+-----------------------+--------+\n",
      "\n"
     ]
    }
   ],
   "source": [
    "sqlContext.sql(\" SELECT Name, cast(Weight as float) FROM df_table order by cast(Weight as float) desc limit 15 \").show(truncate=False)"
   ]
  },
  {
   "cell_type": "markdown",
   "metadata": {
    "application/vnd.databricks.v1+cell": {
     "cellMetadata": {
      "byteLimit": 2048000,
      "rowLimit": 10000
     },
     "inputWidgets": {},
     "nuid": "6a364981-2a82-4a66-940d-b62a3c2eabad",
     "showTitle": false,
     "tableResultSettingsMap": {},
     "title": ""
    }
   },
   "source": [
    "#### 2. Retrieve product details (name, color, size, product model ID) for products where the product model ID is 5"
   ]
  },
  {
   "cell_type": "markdown",
   "metadata": {
    "application/vnd.databricks.v1+cell": {
     "cellMetadata": {
      "byteLimit": 2048000,
      "rowLimit": 10000
     },
     "inputWidgets": {},
     "nuid": "30dffc8a-4473-4429-83ba-4ce42cb63432",
     "showTitle": false,
     "tableResultSettingsMap": {},
     "title": ""
    }
   },
   "source": [
    "##### Using RDD"
   ]
  },
  {
   "cell_type": "code",
   "execution_count": null,
   "metadata": {
    "application/vnd.databricks.v1+cell": {
     "cellMetadata": {
      "byteLimit": 2048000,
      "rowLimit": 10000
     },
     "inputWidgets": {},
     "nuid": "b7f96168-273f-4786-8231-ee60b60aae89",
     "showTitle": false,
     "tableResultSettingsMap": {},
     "title": ""
    }
   },
   "outputs": [
    {
     "name": "stdout",
     "output_type": "stream",
     "text": [
      "Out[16]: [('HL Mountain Frame - Silver, 42', 'Silver', '42', '5'),\n",
      " ('HL Mountain Frame - Silver, 44', 'Silver', '44', '5'),\n",
      " ('HL Mountain Frame - Silver, 48', 'Silver', '48', '5'),\n",
      " ('HL Mountain Frame - Silver, 46', 'Silver', '46', '5'),\n",
      " ('HL Mountain Frame - Black, 42', 'Black', '42', '5'),\n",
      " ('HL Mountain Frame - Black, 44', 'Black', '44', '5'),\n",
      " ('HL Mountain Frame - Black, 48', 'Black', '48', '5'),\n",
      " ('HL Mountain Frame - Black, 46', 'Black', '46', '5'),\n",
      " ('HL Mountain Frame - Black, 38', 'Black', '38', '5'),\n",
      " ('HL Mountain Frame - Silver, 38', 'Silver', '38', '5')]"
     ]
    }
   ],
   "source": [
    "(content.filter(lambda line:line.split(\"\\t\")[9]==\"5\")\n",
    " .map(lambda line: (line.split(\"\\t\")[1],line.split(\"\\t\")[3], line.split(\"\\t\")[6], line.split(\"\\t\")[9])).collect()\n",
    ")"
   ]
  },
  {
   "cell_type": "markdown",
   "metadata": {
    "application/vnd.databricks.v1+cell": {
     "cellMetadata": {
      "byteLimit": 2048000,
      "rowLimit": 10000
     },
     "inputWidgets": {},
     "nuid": "4d8dabcd-bf51-4d10-96e6-71df3695d272",
     "showTitle": false,
     "tableResultSettingsMap": {},
     "title": ""
    }
   },
   "source": [
    "##### Using Spark Dataframe"
   ]
  },
  {
   "cell_type": "code",
   "execution_count": null,
   "metadata": {
    "application/vnd.databricks.v1+cell": {
     "cellMetadata": {
      "byteLimit": 2048000,
      "rowLimit": 10000
     },
     "inputWidgets": {},
     "nuid": "cdf6ee7e-f5b8-410f-b26f-eaeaff7d1c30",
     "showTitle": false,
     "tableResultSettingsMap": {},
     "title": ""
    }
   },
   "outputs": [
    {
     "name": "stdout",
     "output_type": "stream",
     "text": [
      "+------------------------------+------+----+--------------+\n",
      "|Name                          |Color |Size|ProductModelID|\n",
      "+------------------------------+------+----+--------------+\n",
      "|HL Mountain Frame - Silver, 42|Silver|42  |5             |\n",
      "|HL Mountain Frame - Silver, 44|Silver|44  |5             |\n",
      "|HL Mountain Frame - Silver, 48|Silver|48  |5             |\n",
      "|HL Mountain Frame - Silver, 46|Silver|46  |5             |\n",
      "|HL Mountain Frame - Black, 42 |Black |42  |5             |\n",
      "|HL Mountain Frame - Black, 44 |Black |44  |5             |\n",
      "|HL Mountain Frame - Black, 48 |Black |48  |5             |\n",
      "|HL Mountain Frame - Black, 46 |Black |46  |5             |\n",
      "|HL Mountain Frame - Black, 38 |Black |38  |5             |\n",
      "|HL Mountain Frame - Silver, 38|Silver|38  |5             |\n",
      "+------------------------------+------+----+--------------+\n",
      "\n"
     ]
    }
   ],
   "source": [
    "# selecting two columns Name and Weight from original dataframe and convert into their proper datatype. Default is string\n",
    "spark_df = df.select(df.Name, df.Color, df.Size, df.ProductModelID)\n",
    "spark_df = spark_df.filter(spark_df[\"ProductModelID\"] == 5)\n",
    "spark_df.show(15, truncate=False)"
   ]
  },
  {
   "cell_type": "markdown",
   "metadata": {
    "application/vnd.databricks.v1+cell": {
     "cellMetadata": {
      "byteLimit": 2048000,
      "rowLimit": 10000
     },
     "inputWidgets": {},
     "nuid": "c961a430-7293-4f8d-b3f9-c4070c1e235e",
     "showTitle": false,
     "tableResultSettingsMap": {},
     "title": ""
    }
   },
   "source": [
    "##### Using Spark SQL"
   ]
  },
  {
   "cell_type": "code",
   "execution_count": null,
   "metadata": {
    "application/vnd.databricks.v1+cell": {
     "cellMetadata": {
      "byteLimit": 2048000,
      "rowLimit": 10000
     },
     "inputWidgets": {},
     "nuid": "4332a9af-30c6-4395-b25e-c6147aad93dd",
     "showTitle": false,
     "tableResultSettingsMap": {},
     "title": ""
    }
   },
   "outputs": [
    {
     "name": "stdout",
     "output_type": "stream",
     "text": [
      "+------------------------------+------+----+--------------+\n",
      "|Name                          |Color |Size|ProductModelID|\n",
      "+------------------------------+------+----+--------------+\n",
      "|HL Mountain Frame - Silver, 42|Silver|42  |5             |\n",
      "|HL Mountain Frame - Silver, 44|Silver|44  |5             |\n",
      "|HL Mountain Frame - Silver, 48|Silver|48  |5             |\n",
      "|HL Mountain Frame - Silver, 46|Silver|46  |5             |\n",
      "|HL Mountain Frame - Black, 42 |Black |42  |5             |\n",
      "|HL Mountain Frame - Black, 44 |Black |44  |5             |\n",
      "|HL Mountain Frame - Black, 48 |Black |48  |5             |\n",
      "|HL Mountain Frame - Black, 46 |Black |46  |5             |\n",
      "|HL Mountain Frame - Black, 38 |Black |38  |5             |\n",
      "|HL Mountain Frame - Silver, 38|Silver|38  |5             |\n",
      "+------------------------------+------+----+--------------+\n",
      "\n"
     ]
    }
   ],
   "source": [
    "sqlContext.sql(\" SELECT Name, Color, Size, ProductModelID FROM df_table where ProductModelID == 5 limit 15 \").show(truncate=False)"
   ]
  },
  {
   "cell_type": "markdown",
   "metadata": {
    "application/vnd.databricks.v1+cell": {
     "cellMetadata": {
      "byteLimit": 2048000,
      "rowLimit": 10000
     },
     "inputWidgets": {},
     "nuid": "e3c9fc97-d853-479d-bbe2-134342535de9",
     "showTitle": false,
     "tableResultSettingsMap": {},
     "title": ""
    }
   },
   "source": [
    "#### 3. Retrieve the name and product number of the products that have a color of 'black', 'red', or 'white' and a size of 'S' or 'M'"
   ]
  },
  {
   "cell_type": "markdown",
   "metadata": {
    "application/vnd.databricks.v1+cell": {
     "cellMetadata": {
      "byteLimit": 2048000,
      "rowLimit": 10000
     },
     "inputWidgets": {},
     "nuid": "31174ab6-690a-42de-becb-5452c1e902bf",
     "showTitle": false,
     "tableResultSettingsMap": {},
     "title": ""
    }
   },
   "source": [
    "##### Using RDD"
   ]
  },
  {
   "cell_type": "code",
   "execution_count": null,
   "metadata": {
    "application/vnd.databricks.v1+cell": {
     "cellMetadata": {
      "byteLimit": 2048000,
      "rowLimit": 10000
     },
     "inputWidgets": {},
     "nuid": "1b99ae62-4b55-4e7f-b27e-80f79909aeca",
     "showTitle": false,
     "tableResultSettingsMap": {},
     "title": ""
    }
   },
   "outputs": [
    {
     "name": "stdout",
     "output_type": "stream",
     "text": [
      "Out[22]: [('Mountain Bike Socks, M', 'SO-B909-M', 'White', 'M'),\n",
      " (\"Men's Sports Shorts, S\", 'SH-M897-S', 'Black', 'S'),\n",
      " (\"Men's Sports Shorts, M\", 'SH-M897-M', 'Black', 'M'),\n",
      " (\"Women's Tights, S\", 'TG-W091-S', 'Black', 'S'),\n",
      " (\"Women's Tights, M\", 'TG-W091-M', 'Black', 'M'),\n",
      " ('Half-Finger Gloves, S', 'GL-H102-S', 'Black', 'S'),\n",
      " ('Half-Finger Gloves, M', 'GL-H102-M', 'Black', 'M'),\n",
      " ('Full-Finger Gloves, S', 'GL-F110-S', 'Black', 'S'),\n",
      " ('Full-Finger Gloves, M', 'GL-F110-M', 'Black', 'M'),\n",
      " (\"Women's Mountain Shorts, S\", 'SH-W890-S', 'Black', 'S'),\n",
      " (\"Women's Mountain Shorts, M\", 'SH-W890-M', 'Black', 'M'),\n",
      " ('Racing Socks, M', 'SO-R809-M', 'White', 'M')]"
     ]
    }
   ],
   "source": [
    "colors = [\"White\",\"Black\",\"Red\"]\n",
    "sizes = [\"S\",\"M\"]\n",
    "\n",
    "(content.filter(lambda line: line.split(\"\\t\")[6] in sizes)\n",
    ".filter(lambda line: line.split(\"\\t\")[3] in colors)\n",
    ".map(lambda line: (line.split(\"\\t\")[1],line.split(\"\\t\")[2], line.split(\"\\t\")[3],line.split(\"\\t\")[6]))\n",
    " .collect()\n",
    ")"
   ]
  },
  {
   "cell_type": "markdown",
   "metadata": {
    "application/vnd.databricks.v1+cell": {
     "cellMetadata": {
      "byteLimit": 2048000,
      "rowLimit": 10000
     },
     "inputWidgets": {},
     "nuid": "895cbde1-b7ef-49fd-9c0f-696369f27128",
     "showTitle": false,
     "tableResultSettingsMap": {},
     "title": ""
    }
   },
   "source": [
    "##### Using Spark Dataframe"
   ]
  },
  {
   "cell_type": "code",
   "execution_count": null,
   "metadata": {
    "application/vnd.databricks.v1+cell": {
     "cellMetadata": {
      "byteLimit": 2048000,
      "rowLimit": 10000
     },
     "inputWidgets": {},
     "nuid": "17a831f7-0cb4-43f2-8bbb-77b1e035ade8",
     "showTitle": false,
     "tableResultSettingsMap": {},
     "title": ""
    }
   },
   "outputs": [
    {
     "name": "stdout",
     "output_type": "stream",
     "text": [
      "+--------------------------+-------------+-----+----+\n",
      "|Name                      |ProductNumber|Color|Size|\n",
      "+--------------------------+-------------+-----+----+\n",
      "|Mountain Bike Socks, M    |SO-B909-M    |White|M   |\n",
      "|Men's Sports Shorts, S    |SH-M897-S    |Black|S   |\n",
      "|Men's Sports Shorts, M    |SH-M897-M    |Black|M   |\n",
      "|Women's Tights, S         |TG-W091-S    |Black|S   |\n",
      "|Women's Tights, M         |TG-W091-M    |Black|M   |\n",
      "|Half-Finger Gloves, S     |GL-H102-S    |Black|S   |\n",
      "|Half-Finger Gloves, M     |GL-H102-M    |Black|M   |\n",
      "|Full-Finger Gloves, S     |GL-F110-S    |Black|S   |\n",
      "|Full-Finger Gloves, M     |GL-F110-M    |Black|M   |\n",
      "|Women's Mountain Shorts, S|SH-W890-S    |Black|S   |\n",
      "|Women's Mountain Shorts, M|SH-W890-M    |Black|M   |\n",
      "|Racing Socks, M           |SO-R809-M    |White|M   |\n",
      "+--------------------------+-------------+-----+----+\n",
      "\n"
     ]
    }
   ],
   "source": [
    "colors = [\"White\", \"Black\", \"Red\"]\n",
    "sizes = [\"S\", \"M\"]\n",
    "\n",
    "# Filter the DataFrame based on size and color, and select the desired columns\n",
    "spark_df = df.filter(df[\"Size\"].isin(sizes)).filter(df[\"Color\"].isin(colors)).select(\"Name\", \"ProductNumber\", \"Color\", \"Size\")\n",
    "spark_df.show(15, truncate=False)"
   ]
  },
  {
   "cell_type": "markdown",
   "metadata": {
    "application/vnd.databricks.v1+cell": {
     "cellMetadata": {
      "byteLimit": 2048000,
      "rowLimit": 10000
     },
     "inputWidgets": {},
     "nuid": "15ba2bdf-70ae-4dcf-b00a-fdd80f352e96",
     "showTitle": false,
     "tableResultSettingsMap": {},
     "title": ""
    }
   },
   "source": [
    "##### Using Spark SQL"
   ]
  },
  {
   "cell_type": "code",
   "execution_count": null,
   "metadata": {
    "application/vnd.databricks.v1+cell": {
     "cellMetadata": {
      "byteLimit": 2048000,
      "rowLimit": 10000
     },
     "inputWidgets": {},
     "nuid": "da3463c2-f9b1-480a-ab44-c69af4275b91",
     "showTitle": false,
     "tableResultSettingsMap": {},
     "title": ""
    }
   },
   "outputs": [
    {
     "name": "stdout",
     "output_type": "stream",
     "text": [
      "+--------------------------+-------------+-----+----+\n",
      "|Name                      |ProductNumber|Color|Size|\n",
      "+--------------------------+-------------+-----+----+\n",
      "|Mountain Bike Socks, M    |SO-B909-M    |White|M   |\n",
      "|Men's Sports Shorts, S    |SH-M897-S    |Black|S   |\n",
      "|Men's Sports Shorts, M    |SH-M897-M    |Black|M   |\n",
      "|Women's Tights, S         |TG-W091-S    |Black|S   |\n",
      "|Women's Tights, M         |TG-W091-M    |Black|M   |\n",
      "|Half-Finger Gloves, S     |GL-H102-S    |Black|S   |\n",
      "|Half-Finger Gloves, M     |GL-H102-M    |Black|M   |\n",
      "|Full-Finger Gloves, S     |GL-F110-S    |Black|S   |\n",
      "|Full-Finger Gloves, M     |GL-F110-M    |Black|M   |\n",
      "|Women's Mountain Shorts, S|SH-W890-S    |Black|S   |\n",
      "|Women's Mountain Shorts, M|SH-W890-M    |Black|M   |\n",
      "|Racing Socks, M           |SO-R809-M    |White|M   |\n",
      "+--------------------------+-------------+-----+----+\n",
      "\n"
     ]
    }
   ],
   "source": [
    "sqlContext.sql(\" SELECT Name, ProductNumber, Color, Size FROM df_table where (Color = 'White' or Color = 'Black' or Color = 'Red') and (Size = 'S' or Size = 'M') limit 15 \").show(truncate=False)"
   ]
  },
  {
   "cell_type": "markdown",
   "metadata": {
    "application/vnd.databricks.v1+cell": {
     "cellMetadata": {
      "byteLimit": 2048000,
      "rowLimit": 10000
     },
     "inputWidgets": {},
     "nuid": "3280d1e9-90e3-4a1b-9ceb-6283c93680a2",
     "showTitle": false,
     "tableResultSettingsMap": {},
     "title": ""
    }
   },
   "source": [
    "#### 4. Retrieve the product name, product number, color and list price of products whose product number begins with 'BK-'. Retrieve only 15 records and Sort the price in descending order"
   ]
  },
  {
   "cell_type": "markdown",
   "metadata": {
    "application/vnd.databricks.v1+cell": {
     "cellMetadata": {
      "byteLimit": 2048000,
      "rowLimit": 10000
     },
     "inputWidgets": {},
     "nuid": "9f7884c4-f177-4bc9-ab8a-8512fdbc8c4f",
     "showTitle": false,
     "tableResultSettingsMap": {},
     "title": ""
    }
   },
   "source": [
    "##### Using RDD"
   ]
  },
  {
   "cell_type": "code",
   "execution_count": null,
   "metadata": {
    "application/vnd.databricks.v1+cell": {
     "cellMetadata": {
      "byteLimit": 2048000,
      "rowLimit": 10000
     },
     "inputWidgets": {},
     "nuid": "2f57b2b8-877f-4cd1-9a22-d0f6e450a175",
     "showTitle": false,
     "tableResultSettingsMap": {},
     "title": ""
    }
   },
   "outputs": [
    {
     "name": "stdout",
     "output_type": "stream",
     "text": [
      "Out[40]: [('Road-150 Red, 62', 'BK-R93R-62', 'Red', 3578.27),\n",
      " ('Road-150 Red, 44', 'BK-R93R-44', 'Red', 3578.27),\n",
      " ('Road-150 Red, 48', 'BK-R93R-48', 'Red', 3578.27),\n",
      " ('Road-150 Red, 52', 'BK-R93R-52', 'Red', 3578.27),\n",
      " ('Road-150 Red, 56', 'BK-R93R-56', 'Red', 3578.27),\n",
      " ('Mountain-100 Silver, 38', 'BK-M82S-38', 'Silver', 3399.99),\n",
      " ('Mountain-100 Silver, 42', 'BK-M82S-42', 'Silver', 3399.99),\n",
      " ('Mountain-100 Silver, 44', 'BK-M82S-44', 'Silver', 3399.99),\n",
      " ('Mountain-100 Silver, 48', 'BK-M82S-48', 'Silver', 3399.99),\n",
      " ('Mountain-100 Black, 38', 'BK-M82B-38', 'Black', 3374.99),\n",
      " ('Mountain-100 Black, 42', 'BK-M82B-42', 'Black', 3374.99),\n",
      " ('Mountain-100 Black, 44', 'BK-M82B-44', 'Black', 3374.99),\n",
      " ('Mountain-100 Black, 48', 'BK-M82B-48', 'Black', 3374.99),\n",
      " ('Road-250 Red, 44', 'BK-R89R-44', 'Red', 2443.35),\n",
      " ('Road-250 Red, 48', 'BK-R89R-48', 'Red', 2443.35)]"
     ]
    }
   ],
   "source": [
    "(content.filter(lambda line: \"BK\" in line.split(\"\\t\")[2])\n",
    " .map(lambda line: (line.split(\"\\t\")[1], line.split(\"\\t\")[2], line.split(\"\\t\")[3], float(line.split(\"\\t\")[5])))\n",
    ".takeOrdered(15, lambda x: -x[3]))"
   ]
  },
  {
   "cell_type": "markdown",
   "metadata": {
    "application/vnd.databricks.v1+cell": {
     "cellMetadata": {
      "byteLimit": 2048000,
      "rowLimit": 10000
     },
     "inputWidgets": {},
     "nuid": "7215148c-38cc-4abf-a1a7-2cdaf49bd379",
     "showTitle": false,
     "tableResultSettingsMap": {},
     "title": ""
    }
   },
   "source": [
    "##### Using Spark Dataframe"
   ]
  },
  {
   "cell_type": "code",
   "execution_count": null,
   "metadata": {
    "application/vnd.databricks.v1+cell": {
     "cellMetadata": {
      "byteLimit": 2048000,
      "rowLimit": 10000
     },
     "inputWidgets": {},
     "nuid": "0c33ad13-fd2c-4b55-85cc-091d3a453573",
     "showTitle": false,
     "tableResultSettingsMap": {},
     "title": ""
    }
   },
   "outputs": [
    {
     "name": "stdout",
     "output_type": "stream",
     "text": [
      "+-----------------------+-------------+------+---------+\n",
      "|Name                   |ProductNumber|Color |ListPrice|\n",
      "+-----------------------+-------------+------+---------+\n",
      "|Road-150 Red, 62       |BK-R93R-62   |Red   |3578.27  |\n",
      "|Road-150 Red, 44       |BK-R93R-44   |Red   |3578.27  |\n",
      "|Road-150 Red, 48       |BK-R93R-48   |Red   |3578.27  |\n",
      "|Road-150 Red, 52       |BK-R93R-52   |Red   |3578.27  |\n",
      "|Road-150 Red, 56       |BK-R93R-56   |Red   |3578.27  |\n",
      "|Mountain-100 Silver, 44|BK-M82S-44   |Silver|3399.99  |\n",
      "|Mountain-100 Silver, 48|BK-M82S-48   |Silver|3399.99  |\n",
      "|Mountain-100 Silver, 38|BK-M82S-38   |Silver|3399.99  |\n",
      "|Mountain-100 Silver, 42|BK-M82S-42   |Silver|3399.99  |\n",
      "|Mountain-100 Black, 38 |BK-M82B-38   |Black |3374.99  |\n",
      "|Mountain-100 Black, 42 |BK-M82B-42   |Black |3374.99  |\n",
      "|Mountain-100 Black, 44 |BK-M82B-44   |Black |3374.99  |\n",
      "|Mountain-100 Black, 48 |BK-M82B-48   |Black |3374.99  |\n",
      "|Road-250 Red, 44       |BK-R89R-44   |Red   |2443.35  |\n",
      "|Road-250 Red, 48       |BK-R89R-48   |Red   |2443.35  |\n",
      "+-----------------------+-------------+------+---------+\n",
      "only showing top 15 rows\n",
      "\n"
     ]
    }
   ],
   "source": [
    "# Ensure ListPrice is casted to float\n",
    "spark_df = df.filter(df[\"ProductNumber\"].startswith(\"BK-\"))\n",
    "\n",
    "# Cast ListPrice to float and select the required columns\n",
    "spark_df = spark_df.withColumn(\"ListPrice\", df[\"ListPrice\"].cast(\"float\")) \\\n",
    "                   .select(\"Name\", \"ProductNumber\", \"Color\", \"ListPrice\") \\\n",
    "                   .orderBy(\"ListPrice\", ascending=False)  # Sorting by ListPrice in descending order\n",
    "\n",
    "# Show the top 15 records\n",
    "spark_df.show(15, truncate=False)\n"
   ]
  },
  {
   "cell_type": "markdown",
   "metadata": {
    "application/vnd.databricks.v1+cell": {
     "cellMetadata": {
      "byteLimit": 2048000,
      "rowLimit": 10000
     },
     "inputWidgets": {},
     "nuid": "6193a402-fe07-4770-92fa-51e26816d3b7",
     "showTitle": false,
     "tableResultSettingsMap": {},
     "title": ""
    }
   },
   "source": [
    "##### Using Spark SQL"
   ]
  },
  {
   "cell_type": "code",
   "execution_count": null,
   "metadata": {
    "application/vnd.databricks.v1+cell": {
     "cellMetadata": {
      "byteLimit": 2048000,
      "rowLimit": 10000
     },
     "inputWidgets": {},
     "nuid": "820deb27-888e-45b3-8ec2-e61a3dc1a14b",
     "showTitle": false,
     "tableResultSettingsMap": {},
     "title": ""
    }
   },
   "outputs": [
    {
     "name": "stdout",
     "output_type": "stream",
     "text": [
      "+-----------------------+-------------+------+---------+\n",
      "|Name                   |ProductNumber|Color |ListPrice|\n",
      "+-----------------------+-------------+------+---------+\n",
      "|Road-150 Red, 62       |BK-R93R-62   |Red   |3578.27  |\n",
      "|Road-150 Red, 44       |BK-R93R-44   |Red   |3578.27  |\n",
      "|Road-150 Red, 48       |BK-R93R-48   |Red   |3578.27  |\n",
      "|Road-150 Red, 52       |BK-R93R-52   |Red   |3578.27  |\n",
      "|Road-150 Red, 56       |BK-R93R-56   |Red   |3578.27  |\n",
      "|Mountain-100 Silver, 44|BK-M82S-44   |Silver|3399.99  |\n",
      "|Mountain-100 Silver, 48|BK-M82S-48   |Silver|3399.99  |\n",
      "|Mountain-100 Silver, 38|BK-M82S-38   |Silver|3399.99  |\n",
      "|Mountain-100 Silver, 42|BK-M82S-42   |Silver|3399.99  |\n",
      "|Mountain-100 Black, 38 |BK-M82B-38   |Black |3374.99  |\n",
      "|Mountain-100 Black, 42 |BK-M82B-42   |Black |3374.99  |\n",
      "|Mountain-100 Black, 44 |BK-M82B-44   |Black |3374.99  |\n",
      "|Mountain-100 Black, 48 |BK-M82B-48   |Black |3374.99  |\n",
      "|Road-250 Red, 44       |BK-R89R-44   |Red   |2443.35  |\n",
      "|Road-250 Red, 48       |BK-R89R-48   |Red   |2443.35  |\n",
      "+-----------------------+-------------+------+---------+\n",
      "only showing top 15 rows\n",
      "\n"
     ]
    }
   ],
   "source": [
    "# SQL query to filter, cast, select, and sort the data\n",
    "sql_query = \"\"\"\n",
    "SELECT \n",
    "    Name, \n",
    "    ProductNumber, \n",
    "    Color, \n",
    "    CAST(ListPrice AS FLOAT) AS ListPrice\n",
    "FROM \n",
    "    df_table\n",
    "WHERE \n",
    "    ProductNumber LIKE 'BK-%'\n",
    "ORDER BY \n",
    "    ListPrice DESC\n",
    "\"\"\"\n",
    "\n",
    "# Execute the SQL query and show the result\n",
    "spark_df_sql = sqlContext.sql(sql_query)\n",
    "spark_df_sql.show(15, truncate=False)\n"
   ]
  },
  {
   "cell_type": "markdown",
   "metadata": {
    "application/vnd.databricks.v1+cell": {
     "cellMetadata": {
      "byteLimit": 2048000,
      "rowLimit": 10000
     },
     "inputWidgets": {},
     "nuid": "cec197c9-eb1f-4b42-976d-45c12a0c2cc3",
     "showTitle": false,
     "tableResultSettingsMap": {},
     "title": ""
    }
   },
   "source": [
    "#### 5. Visualize Average List Price per Color and Average List Price per Size. Discuss/Explain your results."
   ]
  },
  {
   "cell_type": "code",
   "execution_count": null,
   "metadata": {
    "application/vnd.databricks.v1+cell": {
     "cellMetadata": {
      "byteLimit": 2048000,
      "rowLimit": 10000
     },
     "inputWidgets": {},
     "nuid": "7214bde0-02aa-4fc6-b124-06f5a22bc5e5",
     "showTitle": false,
     "tableResultSettingsMap": {},
     "title": ""
    }
   },
   "outputs": [],
   "source": [
    "import pandas as pd\n",
    "import matplotlib\n",
    "import matplotlib.pyplot as plt\n",
    "from pyspark.sql import functions as F\n",
    "%matplotlib inline"
   ]
  },
  {
   "cell_type": "code",
   "execution_count": null,
   "metadata": {
    "application/vnd.databricks.v1+cell": {
     "cellMetadata": {
      "byteLimit": 2048000,
      "rowLimit": 10000
     },
     "inputWidgets": {},
     "nuid": "ad7e9cf5-f424-4b09-af34-df53c021f43a",
     "showTitle": false,
     "tableResultSettingsMap": {},
     "title": ""
    }
   },
   "outputs": [
    {
     "data": {
      "image/png": "[encoded data removed]"
     },
     "metadata": {
      "application/vnd.databricks.v1+output": {
       "addedWidgets": {},
       "arguments": {},
       "data": "data:image/png;base64,iVBORw0KGgoAAAANSUhEUgAAAsgAAAFgCAYAAACmDI9oAAAAOXRFWHRTb2Z0d2FyZQBNYXRwbG90bGliIHZlcnNpb24zLjUuMSwgaHR0cHM6Ly9tYXRwbG90bGliLm9yZy/YYfK9AAAACXBIWXMAAAsTAAALEwEAmpwYAAArZ0lEQVR4nO3dd5xkVZ338c+XIKBEZUSiCIKKrIKOiGkNrCR5BBNBVoIsY0BXVncVDAsG9vEx4Iq6KCxxFRHBgIoBXVdXV9QhiASVIS2MCIOAICDx9/xxT+u17Wmama6u6e7P+/WqV1ede+veX3VN+Napc85NVSFJkiSps9ywC5AkSZKWJQZkSZIkqceALEmSJPUYkCVJkqQeA7IkSZLUY0CWJEmSegzIkrQMSXJxkucN4byfTPKuqT7vMCWpJI8ddh2Slj0GZEnTQpL/SnJzkpWGXcvSSnJ4kk+Pta2qnlhV//UAz9+4hbsVHuAc9yT5fZJbkvxPkmcsbv+qem1VvXfCL2IZkWSbJGe113hTkp8k2X/YdUma3gzIkpZ5STYGngMU8OIBHH+xQXOa+1xVrQrMAX4AfCFJRu+UZPkpr+xBGus9aoH/P4HvAY8FHgG8DthpqmuRNLMYkCVNB/sA5wAnAvsCJFmp9RpuObJTkjlJ7kzyyPZ4lyQX9HpQn9Tb96okb0tyIXB7khWSHJLk8iS3JbkkyUt6+y+f5MNJbkxyZZI39Htxk6yR5Lgk1yVZmOR9SxI8W11/0+5vk2R+kluTXJ/kyLbb99vPW1oP8WJ7hgGq6h7gJOBRwCOSnJjk6Nbzejvw/Nb2vl4du7bf3a3td7Ljg32drRf79CSfa7/T85I8ubd9vSRnJFnUfqd/P8ZzP53kVmC/MU7xQeCkqvp/VXVjdc6tqt17xzkwyYLWu3xmkvUWU+saSU5utVyd5J1Jlmvb9kvywyQfSfJb4PDxft+Spj8DsqTpYB/gM+22Q5J1quou4AvAXr39dge+V1U3JNkaOB54DV3P4qeAM0cN0dgLeBGwZlXdC1xO11O9BvBu4NNJ1m37HkjXM7kV8BRgt1E1ngjcS9eTuTWwPfB3S/m6Pwp8tKpWBzYFTmvtf91+rllVq1bVj8Y7SHvN+wHXVNWNrfmVwBHAanS9y/39twFOBv4JWLOd76q2+UQe3OvcFfg88HDgFOBLSVZs4fMrwM+A9YHtgIOT7DDquae3Gj4zqsaHAs9o2xf3ul8A/F+6PxfrAlcDpy5m94/Rve+bAM+l+zPXH6rxdOAKYB2635ukGcyALGmZluTZwKOB06rqXLoQ+8q2+RRgz97ur2xtAPOAT1XVj6vqvqo6CbgL2La3/1FVdU1V3QlQVZ+vql9X1f1V9TngMmCbtu/udGH12qq6GXh/r8Z1gJ2Bg6vq9qq6AfjIqNqWxD3AY5OsXVW/r6pzHuTzd09yC3AN8FTgJb1tX66qH7bX+odRzzsAOL6qzm7bF1bVL5bwdZ5bVae3XuwjgZXp3oOnAXOq6j1VdXdVXQEcO+pYP6qqL7Ua7hx13LXo/g+7bpxz791ex3ntA9WhwDPakJ0/aj3gewKHVtVtVXUV8GHgVb3dfl1VH6uqe8eoRdIM4zgqScu6fYFv9Xo+T2ltHwG+Czw0ydOB6+l6d7/Y9ns0sG+SN/aO9RCg/xX7Nf0TJdkHeDOwcWtaFVi73V9v1P79+48GVgSu6w3xXW708ZfAAcB7gF8kuRJ4d1V99UE8/7Sq+tvFbBuvtg2Bs8ZoX5LX+cdtVXV/kmvpfpcFrNcC/Ijlgf+eYI03A/fT9Qz/YjH7rAec1zv/79sQifX5U484dO/xinQ9zCOubvtNpBZJM4wBWdIyK8kqdD23yyf5TWteCVgzyZOr6mdJTqMbKnE98NWquq3tdw1wRFWN93V49c71aLoezO3oei7vS3IBMJIErwM26D13w979a+h6p9duQzUmRVVdBuzVhiO8FDg9ySP6dS/N4cfZdg3dkI6x2h/s6/zj76m9jg2AX9MN07iyqjZbkhqr6o4kPwJeRvdBaSy/pgv1I+d/GN1wm4Wj9ruRrrf+0cAlrW2jUftNxu9c0jThEAtJy7LdgPuALeh6h7cCnkDXy7hP2+cUYA+6r9NP6T33WOC1SZ6ezsOSvCjJaos518PoQtAigHRLhW3Z234a8KYk6ydZE3jbyIaqug74FvDhJKsnWS7JpkmeO85rWy7Jyr3bXyxfl+Rvk8ypqvuBW1rz/a3G++nGyw7CccD+SbZrr2X9JI9fwtf51CQvTTeZ8WC6gH0O8BPgtnQTJVdJNwlyyyRPexB1vhXYL8k/tQ8OJHlykpFxxp9tr2Or9vv9F+DHbQjFH1XVfXTv7xFJVmsflt4MjLkUn6SZz4AsaVm2L3BCVf1vVf1m5AZ8HNg7yQpV9WPgdrqv078+8sSqmk83se7jdF/HL2DslRBG9r+Ebtzpj+h6o/8K+GFvl2PpwuGFwPl0QxDupQvw0AX2h9D1QN5MN3lsXRZvL+DO3u3yMfbZEbg4ye/pJuztWVV3VtUddBPFfphuhY5tx3juEquqn9BNUPsI8Du6ZdRGemIf7Ov8Mt0HmJvpxvS+tKruaaF0F7oPPVfS9eL+O91EuYnW+T/AC9rtiiQ3AcfQhodU1beBdwFn0H0DsCmLHy/9Rro/R1fQTVo8hW6Sp6RZKFV+ayRJD1aSnYBPVtWjH3DnWSrJ4cBjxxkHLUnLJHuQJWkC2jCAndOtl7w+cBh/mhAoSZpBDMiSNDGhWxv5ZrohFpcC/zzUiiRJA+EQC0mSJKnHHmRJkiSpZ8aug7z22mvXxhtvPOwyJEmStIw699xzb6yqOaPbZ2xA3njjjZk/f/6wy5AkSdIyKsnVY7U7xEKSJEnqMSBLkiRJPQZkSZIkqceALEmSJPUYkCVJkqQeA7IkSZLUM7CAnGTDJN9NckmSi5O8qbU/PMnZSS5rP9dq7UlyVJIFSS5M8pTesfZt+1+WZN9B1SxJkiQNsgf5XuAtVbUFsC1wUJItgEOA71TVZsB32mOAnYDN2m0ecDR0gRo4DHg6sA1w2EioliRJkibbwAJyVV1XVee1+7cBlwLrA7sCJ7XdTgJ2a/d3BU6uzjnAmknWBXYAzq6qm6rqZuBsYMdB1S1JkqTZbUrGICfZGNga+DGwTlVd1zb9Blin3V8fuKb3tGtb2+LaxzrPvCTzk8xftGjR5L0ASZIkzRoDD8hJVgXOAA6uqlv726qqgJqsc1XVMVU1t6rmzpnzF5fVliRJkh7QCoM8eJIV6cLxZ6rqC635+iTrVtV1bQjFDa19IbBh7+kbtLaFwPNGtf/XIOuWJEkz3/vPv3HYJag5ZOu1h13CnxnkKhYBjgMuraoje5vOBEZWotgX+HKvfZ+2msW2wO/aUIxvAtsnWatNztu+tUmSJEmTbpA9yM8CXgX8PMkFre3twPuB05IcAFwN7N62nQXsDCwA7gD2B6iqm5K8F/hp2+89VXXTAOuWJEnSLDawgFxVPwCymM3bjbF/AQct5ljHA8dPXnWSJEnS2LySniRJktRjQJYkSZJ6DMiSJElSjwFZkiRJ6jEgS5IkST0GZEmSJKnHgCxJkiT1GJAlSZKkHgOyJEmS1GNAliRJknoMyJIkSVKPAVmSJEnqMSBLkiRJPQZkSZIkqceALEmSJPUYkCVJkqQeA7IkSZLUY0CWJEmSegzIkiRJUo8BWZIkSeoxIEuSJEk9BmRJkiSpx4AsSZIk9RiQJUmSpJ6BBeQkxye5IclFvbbPJbmg3a5KckFr3zjJnb1tn+w956lJfp5kQZKjkmRQNUuSJEkrDPDYJwIfB04eaaiqPUbuJ/kw8Lve/pdX1VZjHOdo4EDgx8BZwI7A1ye/XEmSJGmAPchV9X3gprG2tV7g3YHPjneMJOsCq1fVOVVVdGF7t0kuVZIkSfqjYY1Bfg5wfVVd1mt7TJLzk3wvyXNa2/rAtb19rm1tY0oyL8n8JPMXLVo0+VVLkiRpxhtWQN6LP+89vg7YqKq2Bt4MnJJk9Qd70Ko6pqrmVtXcOXPmTFKpkiRJmk0GOQZ5TElWAF4KPHWkraruAu5q989NcjmwObAQ2KD39A1amyRJkjQQw+hB/hvgF1X1x6ETSeYkWb7d3wTYDLiiqq4Dbk2ybRu3vA/w5SHULEmSpFlikMu8fRb4EfC4JNcmOaBt2pO/nJz318CFbdm304HXVtXIBL/XA/8OLAAuxxUsJEmSNEADG2JRVXstpn2/MdrOAM5YzP7zgS0ntThJkiRpMbySniRJktRjQJYkSZJ6DMiSJElSjwFZkiRJ6jEgS5IkST0GZEmSJKlnyq+kN5O9//wbh12CmkO2XnvYJUiSpGnKHmRJkiSpx4AsSZIk9RiQJUmSpB4DsiRJktRjQJYkSZJ6DMiSJElSjwFZkiRJ6jEgS5IkST0GZEmSJKnHgCxJkiT1GJAlSZKkHgOyJEmS1GNAliRJknoMyJIkSVKPAVmSJEnqMSBLkiRJPQMLyEmOT3JDkot6bYcnWZjkgnbbubft0CQLkvwyyQ699h1b24IkhwyqXkmSJAkG24N8IrDjGO0fqaqt2u0sgCRbAHsCT2zP+bckyydZHvgEsBOwBbBX21eSJEkaiBUGdeCq+n6SjSe4+67AqVV1F3BlkgXANm3bgqq6AiDJqW3fSya7XkmSJAmGMwb5DUkubEMw1mpt6wPX9Pa5trUtrl2SJEkaiKkOyEcDmwJbAdcBH57MgyeZl2R+kvmLFi2azENLkiRplpjSgFxV11fVfVV1P3AsfxpGsRDYsLfrBq1tce2LO/4xVTW3qubOmTNncouXJEnSrDClATnJur2HLwFGVrg4E9gzyUpJHgNsBvwE+CmwWZLHJHkI3US+M6eyZkmSJM0uA5ukl+SzwPOAtZNcCxwGPC/JVkABVwGvAaiqi5OcRjf57l7goKq6rx3nDcA3geWB46vq4kHVLEmSJA1yFYu9xmg+bpz9jwCOGKP9LOCsSSxNkh6U959/47BLUHPI1msPuwRJs4BX0pMkSZJ6DMiSJElSjwFZkiRJ6jEgS5IkST0Dm6QnSdJ05KTMZYMTMjVM9iBLkiRJPQZkSZIkqceALEmSJPUYkCVJkqQeJ+lJS8iJPMsGJ/JIkiabPciSJElSjwFZkiRJ6nnAgJzkoUneleTY9nizJLsMvjRJkiRp6k2kB/kE4C7gGe3xQuB9A6tIkiRJGqKJBORNq+oDwD0AVXUHkIFWJUmSJA3JRALy3UlWAQogyaZ0PcqSJEnSjDORZd4OA74BbJjkM8CzgP0GWZQkSZI0LA8YkKvq7CTnAdvSDa14U1W5AKwkSZJmpImsYvES4N6q+lpVfRW4N8luA69MkiRJGoKJjEE+rKp+N/Kgqm6hG3YhSZIkzTgTCchj7eMlqiVJkjQjTSQgz09yZJJN2+1I4NxBFyZJkiQNw0QC8huBu4HPtdtdwEGDLEqSJEkalomsYnE7cMgU1CJJkiQN3WJ7kJP8a/v5lSRnjr490IGTHJ/khiQX9do+mOQXSS5M8sUka7b2jZPcmeSCdvtk7zlPTfLzJAuSHJXEq/hJkiRpYMbrQf6P9vNDS3jsE4GPAyf32s4GDq2qe5P8P+BQ4G1t2+VVtdUYxzkaOBD4MXAWsCPw9SWsSZIkSRrXYgNyVZ2bZHlgXlXt/WAPXFXfT7LxqLZv9R6eA7x8vGMkWRdYvarOaY9PBnbDgCxJkqQBGXeSXlXdBzw6yUMGcO5X8+dB9zFJzk/yvSTPaW3rA9f29rm2tY0pybwk85PMX7Ro0eRXLEmSpBlvIusZXwH8sI07vn2ksaqOXNKTJnkHcC/wmdZ0HbBRVf02yVOBLyV54oM9blUdAxwDMHfu3FrS+iRJkjR7TSQgX95uywGrLe0Jk+wH7AJsV1UFUFV30S0fNzK043Jgc2AhsEHv6Ru0NkmSJGkgxg3ISbYCLgYurqpLl/ZkSXYE3go8t6ru6LXPAW6qqvuSbAJsBlxRVTcluTXJtnST9PYBPra0dUiSJEmLM94yb/8MnAa8DPhakgMfzIGTfBb4EfC4JNcmOYBuVYvVgLNHLef218CFSS4ATgdeW1U3tW2vB/4dWEDXk+0EPUmSJA3MeD3IewBbVdUdSR4BfAM4dqIHrqq9xmg+bjH7ngGcsZht84EtJ3peSZIkaWmMt4rFXSPDIKrqtw+wryRJkjQjjNeDvEnvinkBNu1fQa+qXjzQyiRJkqQhGC8g7zrq8ZJeUU+SJEmaNsa7kt73prIQSZIkaVnguGJJkiSpx4AsSZIk9TxgQE7yiom0SZIkSTPBRHqQD51gmyRJkjTtLXaSXpKdgJ2B9ZMc1du0OnDvoAuTJEmShmG8Zd5+DcwHXgyc22u/DfiHQRYlSZIkDct4y7z9DPhZklOq6h6AJGsBG1bVzVNVoCRJkjSVJjIG+ewkqyd5OHAecGySjwy4LkmSJGkoJhKQ16iqW4GXAidX1dOB7QZbliRJkjQcEwnIKyRZF9gd+OqA65EkSZKGaiIB+T3AN4EFVfXTJJsAlw22LEmSJGk4xlvFAoCq+jzw+d7jK4CXDbIoSZIkaVjGWwf5rVX1gSQfA2r09qr6+4FWJkmSJA3BeD3Il7af88fY9heBWZIkSZoJxlsH+Svt50mjtyX50CCLkiRJkoZlIpP0xrL7pFYhSZIkLSOWNCBnUquQJEmSlhHjTdJ7+OI2YUCWJEnSDDXeJL1z6SbjjRWG7x5MOZIkSdJwjTdJ7zFTWYgkSZK0LFjSMcgTkuT4JDckuajX9vAkZye5rP1cq7UnyVFJFiS5MMlTes/Zt+1/WZJ9B1mzJEmSZreBBmTgRGDHUW2HAN+pqs2A77THADsBm7XbPOBo+ONY6MOApwPbAIeNhGpJkiRpsg00IFfV94GbRjXvCoysrXwSsFuv/eTqnAOsmWRdYAfg7Kq6qapuBs7mL0O3JEmSNCkmFJCTPDvJ/u3+nCRLMz55naq6rt3/DbBOu78+cE1vv2tb2+Lax6pzXpL5SeYvWrRoKUqUJEnSbPWAATnJYcDbgENb04rApyfj5FVVTOJlq6vqmKqaW1Vz58yZM1mHlSRJ0iwykR7klwAvBm4HqKpfA6stxTmvb0MnaD9vaO0LgQ17+23Q2hbXLkmSJE26iQTku/s9vUketpTnPBMYWYliX+DLvfZ92moW2wK/a0Mxvglsn2StNjlv+9YmSZIkTbrxLhQy4rQkn6KbNHcg8Grg2IkcPMlngecBaye5lm41ive3Yx4AXA3s3nY/C9gZWADcAewPUFU3JXkv8NO233uqavTEP0mSJGlSPGBArqoPJXkhcCvwOOCfq+rsiRy8qvZazKbtxti3gIMWc5zjgeMnck5JkiRpaUykB5kWiCcUiiVJkqTp7AEDcpLb+MuVJn4HzAfeUlVXDKIwSZIkaRgm0oP8r3RrD58CBNgT2BQ4j27Yw/MGVJskSZI05SayisWLq+pTVXVbVd1aVccAO1TV5wAv+SxJkqQZZSIB+Y4kuydZrt12B/7Qtk3aRT4kSZKkZcFEAvLewKvoLuhxfbv/t0lWAd4wwNokSZKkKTeRZd6uAP7PYjb/YHLLkSRJkoZrIqtYrAwcADwRWHmkvapePcC6JEmSpKGYyBCL/wAeBewAfA/YALhtkEVJkiRJwzKRgPzYqnoXcHtVnQS8CHj6YMuSJEmShmMiAfme9vOWJFsCawCPHFxJkiRJ0vBM5EIhxyRZC3gncCawKvCugVYlSZIkDcm4ATnJcsCtVXUz8H1gkympSpIkSRqScYdYVNX9wFunqBZJkiRp6CYyBvnbSf4xyYZJHj5yG3hlkiRJ0hBMZAzyHu3nQb22wuEWkiRJmoEmciW9x0xFIZIkSdKy4AGHWCR5aJJ3JjmmPd4syS6DL02SJEmaehMZg3wCcDfwzPZ4IfC+gVUkSZIkDdFEAvKmVfUB2gVDquoOIAOtSpIkSRqSiQTku5OsQjcxjySbAncNtCpJkiRpSCayisXhwDeADZN8BngWsN8Aa5IkSZKGZiKrWHwrybnAtnRDK95UVTcOvDJJkiRpCB4wICf5CnAKcGZV3T74kiRJkqThmcgY5A8BzwEuSXJ6kpcnWXlJT5jkcUku6N1uTXJwksOTLOy179x7zqFJFiT5ZZIdlvTckiRJ0gOZyBCL7wHfS7I88ALgQOB4YPUlOWFV/RLYCqAdcyHwRWB/4CNV9aH+/km2APYEngisR3fp682r6r4lOb8kSZI0non0INNWsXgZ8FrgacBJk3T+7YDLq+rqcfbZFTi1qu6qqiuBBcA2k3R+SZIk6c9M5Ep6pwGX0vUef5xuXeQ3TtL59wQ+23v8hiQXJjk+yVqtbX3gmt4+17a2sWqdl2R+kvmLFi2apBIlSZI0m0ykB/k4ulD82qr6LvDMJJ9Y2hMneQjwYuDzreloYFO64RfXAR9+sMesqmOqam5VzZ0zZ87SlihJkqRZaCJjkL+ZZOskewG7A1cCX5iEc+8EnFdV17fzXD+yIcmxwFfbw4XAhr3nbdDaJEmSpEm32ICcZHNgr3a7EfgckKp6/iSdey96wyuSrFtV17WHLwEuavfPBE5JciTdJL3NgJ9MUg2SJEnSnxmvB/kXwH8Du1TVAoAk/zAZJ03yMOCFwGt6zR9IshXdJa2vGtlWVRe3cdCXAPcCB7mChSRJkgZlvID8UrpJdN9N8g3gVLor6S21dsGRR4xqe9U4+x8BHDEZ55YkSZLGs9hJelX1paraE3g88F3gYOCRSY5Osv0U1SdJkiRNqQdcxaKqbq+qU6rq/9BNkDsfeNvAK5MkSZKGYEIXChlRVTe3pdS2G1RBkiRJ0jA9qIAsSZIkzXQGZEmSJKnHgCxJkiT1GJAlSZKkHgOyJEmS1GNAliRJknoMyJIkSVKPAVmSJEnqMSBLkiRJPQZkSZIkqceALEmSJPUYkCVJkqQeA7IkSZLUY0CWJEmSegzIkiRJUo8BWZIkSeoxIEuSJEk9BmRJkiSpx4AsSZIk9RiQJUmSpJ6hBeQkVyX5eZILksxvbQ9PcnaSy9rPtVp7khyVZEGSC5M8ZVh1S5IkaWYbdg/y86tqq6qa2x4fAnynqjYDvtMeA+wEbNZu84Cjp7xSSZIkzQrDDsij7Qqc1O6fBOzWaz+5OucAayZZdwj1SZIkaYYbZkAu4FtJzk0yr7WtU1XXtfu/AdZp99cHruk999rWJkmSJE2qFYZ47mdX1cIkjwTOTvKL/saqqiT1YA7YgvY8gI022mjyKpUkSdKsMbQe5Kpa2H7eAHwR2Aa4fmToRPt5Q9t9IbBh7+kbtLbRxzymquZW1dw5c+YMsnxJkiTNUEMJyEkelmS1kfvA9sBFwJnAvm23fYEvt/tnAvu01Sy2BX7XG4ohSZIkTZphDbFYB/hikpEaTqmqbyT5KXBakgOAq4Hd2/5nATsDC4A7gP2nvmRJkiTNBkMJyFV1BfDkMdp/C2w3RnsBB01BaZIkSZrllrVl3iRJkqShMiBLkiRJPQZkSZIkqceALEmSJPUYkCVJkqQeA7IkSZLUY0CWJEmSegzIkiRJUo8BWZIkSeoxIEuSJEk9BmRJkiSpx4AsSZIk9RiQJUmSpB4DsiRJktRjQJYkSZJ6DMiSJElSjwFZkiRJ6jEgS5IkST0GZEmSJKnHgCxJkiT1GJAlSZKkHgOyJEmS1GNAliRJknoMyJIkSVLPlAfkJBsm+W6SS5JcnORNrf3wJAuTXNBuO/eec2iSBUl+mWSHqa5ZkiRJs8cKQzjnvcBbquq8JKsB5yY5u237SFV9qL9zki2APYEnAusB306yeVXdN6VVS5IkaVaY8h7kqrquqs5r928DLgXWH+cpuwKnVtVdVXUlsADYZvCVSpIkaTYa6hjkJBsDWwM/bk1vSHJhkuOTrNXa1geu6T3tWhYTqJPMSzI/yfxFixYNqmxJkiTNYEMLyElWBc4ADq6qW4GjgU2BrYDrgA8/2GNW1TFVNbeq5s6ZM2cyy5UkSdIsMZSAnGRFunD8mar6AkBVXV9V91XV/cCx/GkYxUJgw97TN2htkiRJ0qQbxioWAY4DLq2qI3vt6/Z2ewlwUbt/JrBnkpWSPAbYDPjJVNUrSZKk2WUYq1g8C3gV8PMkF7S2twN7JdkKKOAq4DUAVXVxktOAS+hWwDjIFSwkSZI0KFMekKvqB0DG2HTWOM85AjhiYEVJkiRJjVfSkyRJknoMyJIkSVKPAVmSJEnqMSBLkiRJPQZkSZIkqceALEmSJPUYkCVJkqQeA7IkSZLUY0CWJEmSegzIkiRJUo8BWZIkSeoxIEuSJEk9BmRJkiSpx4AsSZIk9RiQJUmSpB4DsiRJktRjQJYkSZJ6DMiSJElSjwFZkiRJ6jEgS5IkST0GZEmSJKnHgCxJkiT1GJAlSZKkHgOyJEmS1DNtAnKSHZP8MsmCJIcMux5JkiTNTNMiICdZHvgEsBOwBbBXki2GW5UkSZJmomkRkIFtgAVVdUVV3Q2cCuw65JokSZI0A6Wqhl3DA0rycmDHqvq79vhVwNOr6g2j9psHzGsPHwf8ckoLnTnWBm4cdhGaEr7Xs4vv9+zhez27+H4vuUdX1ZzRjSsMo5JBqapjgGOGXcd0l2R+Vc0ddh0aPN/r2cX3e/bwvZ5dfL8n33QZYrEQ2LD3eIPWJkmSJE2q6RKQfwpsluQxSR4C7AmcOeSaJEmSNANNiyEWVXVvkjcA3wSWB46vqouHXNZM5jCV2cP3enbx/Z49fK9nF9/vSTYtJulJkiRJU2W6DLGQJEmSpoQBWZIkSeoxIEuSNAskybBr0OD4/k4uA7LG1f8Ll+Shw6xFU8N/ZKWZqdqkoySPaj/NADPLE4ZdwEziXw6Nq/cP6uuBD/oP6swzOhCXM3dnnSQPH3YNGpyRv+PpbAF8Ock6VXW/H4inv/a+rkD3vv7HsOuZKQw7ekBJ9gSeAXygqu4fdj2aXL0PQfsneW+S1yd5/LDr0uAkWbl3fzfg4HbfsDQD9T70rlpVlwBfA45N8jA/EM8Iy1XVvVW1GfCMJB8adkEzgQFZf2HUsIrlgR2AFwO/77VpBkny98Cr6C7Ksw/d+60ZKMkTgaOTbNaa1gV+2+77d3uGSvIK4FdJ9gU+C/wnsJsfiqa/qroPIMmOwFeB1yc5arhVTX8GZP2ZJOn1KD6i/cV7Pd2VC09JsmJV3WdInjmSrAg8GtgO2Ai4BfhwkpWTrDbM2jT52kWWVgLekWQD4FHA7W3bvcOsTQP1deBi4NnAp+j+rm9pD/LM0D4AfQL4N2AnYPsknxxuVdPbtLiSnqZOLxy/EXhmkuuAbwNvBD4InJ7kFVV19xDL1CRJskpV3ZlkDeAnwK+BnaqqkuwHLAS+McwaNTlaT2Gq6v6qemWSTwD/AAR4WpLfAyvSfVN0TVXNH2K5miRJ9gYeD7wf+CLwK+APwCHATklur6r3DbFETY77gROr6ld03xQ8F/hZ6/N63ZBrm5bsQdZfSLI78ArgtcALgedV1S104xR/D3x6aMVp0iTZCXh7kjWBE4E7gTNbON4X+EfgsuFVqMky8s1Qm5S1d5Kdq+og4CHAy+iGVjwZmAs8H7hpiOVqKYwxZOK/ga2BvwfWA94F/AbYEzgAOG1KC9RSG/0et8c3A3skWQmgqq6nG0qzY5J1pr7K6c8eZI1lHbrehpfQ9Si+s7U/lO4f1LWGVJeWQpLlRk2yvIbuP84DgbOAjwJvS7IzsAnw8qq6fOor1WTrfTP0JmBv4NWt/Y1Jii4of7Kqrk6y/MiYRk0vo4bIvZzuff1tVe2S5KXA4+iWAvs4sG9VnTC8arWkeu/xG4DHAKsDb6Ubf3xukoPo/m1fB9imqhYNq9bpLA4/0ogkzwF+Rzce9b3ATVX1grbtH4HVgHe7ksX0luQZwNVV9eu25NN7gR8DnwSK7n2+u6puHGKZmmRt7dt/Bw6oquuTrFRVd7VtpwC3AQcB9zkudXoaCchtWc4DgNPpOjouqqpXt33eBzwLeIV/x6eP/oef9vh1dN/+zKMbOvOdqnpzkrcDc4DNgUOr6sKhFDwDGJAFQJuM9X7g+8C36MLST4Dv0vU6/BPwqjbBR9NIkr8C3gfsBqwMHAncAXywqn6TZEvgK3S9D0dU1W+GVasmzxj/oT6U7n3+YFV9o9e+SVVd0dbFvX4YtWrpJHkccGdV/W+S1YFTgXdU1flt+4+B71bVIe3xmm3YnKaJ/gfa9vhw4Chgf+AFdGH5HuhWtUjyEOcKLR3HIAuAqrqNbjLeu+hC1EfoZrq/F3gp3ddxhuPp6UrgXuDUqroTOJpuQsebkqxXVRcBn6P75uCuxR9G08Wor9rXSLJWVd1B94H3Ce1DEUn2orsA0OqG4+mpffA5ADgkyUZVdSvdXJFVersdTDfcAgDD8fSSZHvg1CSHJXlZa16PbgL1U4Fdq+oPwOuAeeku6HXPcKqdOexBnoWSPJnuK7f72rCKTYDT2moG76AbWnF0W8pteWD5Fqw0jSRZm+7r8puTPIRuIt4KVbV7C0j7AhsD5wJ/A/xdVV01pHI1SUaF4zcDz6GbP/BRuvf6HXTfCl0PPI1urLkffqehJE8AFgCPpVvHfCXg3cAr6VapeHZVXZtkHrAL3Xttr+I00tY2fjdwMvBIYH268cZz6Dq1jqqqD7ZVh95KF5adXD0JDMizUJKz6Maavpyu5+FJwBbAm+i+qtm0ql47vAq1tNpEu8OBq4DLquodSVYFjuFPIfmRdCF5K+BfDEkzSxujuDtdMDqB7ivYParq9PYheSPgZ1X1v0MsU0uo9RwfSbc032uATYG/a5sPoes1fhUwn251kr39Oz69pLsE/I10ofcrbd3yI4Bjq+oH6S76cyLd+tabAQe2KyVqEhiQZ5E2Tu1XbRLHmXRXz5pXVfckOZRudYr16Hof/qGqPjrEcrWEWo/DO+nWrb4aeAvd+3xn60k+ge6bgb3anwXHqs0A/bHmvXWsv063asU2wPF048xf4+oF019b2msLuuU4l6MLxJvQrUpTdP8GrE836fZmPwhNT0leBHwAeEZV3Zrka8AawHl084R+RLsSpkNnJpcBeZZon0QPB94zMnO5/UX7Q1W9rD1ej27JmMOA11fVgiGVqyXU63F4WVV9Mck2wJfpZjkvX1WvaSH5dOC2qtp79GQuTU/tG4KT6YbVvKK1bQgcR9ezdHWSr9It//QEuvff930a6a1/m5HVhJJsTvch+F7+FJJfTReijqiqa4ZQqiZRW7P+KLoxx4+l+ybwkXQfhi6g69C6bWgFzlAG5FkgyS50A/lPBtalWyD+La3n+Kt0E7Ne0fsHd4XykrPTVutxeB+wH/Ah4H/olvc6HbiyqvZM8jBgjar69dAK1aQYY6z5CXQTtF7WepJPoFvneg7timq+79NTm4T3v+3+k+iWxP15ksfSXRURuqFym9MNrznayZczQ5K/oVthat2R97RNxnu4y/UNhqtYzHAtHB9BN9bwSroxqZsD/9y+Wt+F7uv2rycZuXCMFwmYxqrqa8ChwPl0a2Me1nqRtgPmJHlEVd1uSJr+2ljzs4BPJTmiDZV5Dd0yfme03X5Ad3W819GNXfR9n4banIHj2v1/BD4GvDvJ14Hb6S7+cX/b51d0vceG4xmiqr4NvAj4bvuzQHWXjTccD4gBeQZrFwZ4C93qBF9K8tD2n+PhwDOBg9vairvRXaZyHfjTVXo0fbV1bncA9k93KWnoLh++CuB44xmgjTV/O90H4H8BNkqySlX9nu4r9j8kObmqjquq19OtaPDzIZaspbMisFqSPYBnVtVz6SbgrVhV11XVpcAn6C4TvnZVuczXDFNVX6fr/PhG6z3WADnEYgZLshbd+rZvAS6jm9n8XLp/QNegWxLoHLqr7TikYgZqY9c+CPwb3dCa17d1jzWNPYix5l8Abqmqv3Ws+fTXroL3O7pJWU8Angy8qA2X27GqvuEQuZkvyartg7AGyIA8g7UJHW8GtgeeSLdm4g+AS+kuP3o1sC3dAP8bhlWnBqsNs/kCsLXLPM0cjjWf+ZL8NbAr3aoUJ9B1dqxKd9GPlenC8X1J9qcbWvOiqvrtsOqVZhID8gzXZrb/FbAh8OVql6pMchLdldW+Psz6NDXa8Jo7hl2HJlcbZnEW8Paqen9rW5WuN3l3w9L01pbm3BJ4IXAL3VrWFwKL6CZcnkk38XoHumUb/QAsTRID8iyU5BV0wy32cCk3aXpL8kK6CVpPr6pbWm/igcAOLv00syTZii4M3wU8CrgI2AA4w6unSZPLgDyLJFkX2IPuP889HIsqzQyONZ+5RsaO934+nu7f8dWAk5x4KQ2GAXkWSbIK3aWkf2nPsTSzONZ89kjyBGA34Djnj0iDYUCWpBnCseazR5IVXcpNGhwDsiRJktTjQtOSJElSjwFZkiRJ6jEgS5IkST0GZEmSJKnHgCxJkiT1GJAlSZKkHgOyJE1TSR6V5NQklyc5N8lZSTZfzL4bJ/HqepI0AQZkSZqGkgT4IvBfVbVpVT0VOBRYZ5KOv8JkHEeSpiMDsiRNT88H7qmqT440VNXPgB8k+WCSi5L8PMkeo5+YZOUkJ7Tt5yd5fmvfL8mZSf4T+M6UvRJJWsbYQyBJ09OWwLljtL8U2Ap4MrA28NMk3x+1z0FAVdVfJXk88K3e0IynAE+qqpsGU7YkLfvsQZakmeXZwGer6r6quh74HvC0Mfb5NEBV/QK4GhgJyGcbjiXNdgZkSZqeLgaeOoDj3j6AY0rStGJAlqTp6T+BlZLMG2lI8iTgFmCPJMsnmQP8NfCTUc/9b2Dv9pzNgY2AX05F0ZI0HTgGWZKmoaqqJC8B/jXJ24A/AFcBBwOrAj8DCnhrVf0myca9p/8bcHSSnwP3AvtV1V3dwhiSpFTVsGuQJEmSlhkOsZAkSZJ6DMiSJElSjwFZkiRJ6jEgS5IkST0GZEmSJKnHgCxJkiT1GJAlSZKknv8PxcF+wrl/u+oAAAAASUVORK5CYII=\n",
       "datasetInfos": [],
       "metadata": {},
       "removedWidgets": [],
       "type": "image"
      }
     },
     "output_type": "display_data"
    },
    {
     "data": {
      "image/png": "[encoded data removed]"
     },
     "metadata": {
      "application/vnd.databricks.v1+output": {
       "addedWidgets": {},
       "arguments": {},
       "data": "data:image/png;base64,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\n",
       "datasetInfos": [],
       "metadata": {},
       "removedWidgets": [],
       "type": "image"
      }
     },
     "output_type": "display_data"
    }
   ],
   "source": [
    "import matplotlib.pyplot as plt\n",
    "from pyspark.sql.functions import col, regexp_extract\n",
    "\n",
    "# 1. Average List Price per Color\n",
    "avg_price_per_color = spark_df.groupBy(\"Color\").agg({\"ListPrice\": \"avg\"}).withColumnRenamed(\"avg(ListPrice)\", \"AvgListPrice\")\n",
    "\n",
    "# 2. Extract Size from the Name and Calculate Average List Price per Size\n",
    "# Using regular expressions to extract the size from the product name\n",
    "spark_df_with_size = spark_df.withColumn(\"Size\", regexp_extract(\"Name\", r'(\\d+)$', 0))\n",
    "\n",
    "# Now calculate the average list price per size\n",
    "avg_price_per_size = spark_df_with_size.groupBy(\"Size\").agg({\"ListPrice\": \"avg\"}).withColumnRenamed(\"avg(ListPrice)\", \"AvgListPrice\")\n",
    "\n",
    "# Collect the data to Pandas DataFrame for visualization\n",
    "color_avg_df = avg_price_per_color.toPandas()\n",
    "size_avg_df = avg_price_per_size.toPandas()\n",
    "\n",
    "# Visualize Average List Price per Color\n",
    "plt.figure(figsize=(10, 5))\n",
    "plt.bar(color_avg_df['Color'], color_avg_df['AvgListPrice'], color='skyblue')\n",
    "plt.title(\"Average List Price per Color\")\n",
    "plt.xlabel(\"Color\")\n",
    "plt.ylabel(\"Average List Price\")\n",
    "plt.xticks(rotation=45)\n",
    "plt.tight_layout()\n",
    "plt.show()\n",
    "\n",
    "# Visualize Average List Price per Size\n",
    "plt.figure(figsize=(10, 5))\n",
    "plt.bar(size_avg_df['Size'], size_avg_df['AvgListPrice'], color='lightgreen')\n",
    "plt.title(\"Average List Price per Size\")\n",
    "plt.xlabel(\"Size\")\n",
    "plt.ylabel(\"Average List Price\")\n",
    "plt.xticks(rotation=45)\n",
    "plt.tight_layout()\n",
    "plt.show()\n"
   ]
  },
  {
   "cell_type": "markdown",
   "metadata": {
    "application/vnd.databricks.v1+cell": {
     "cellMetadata": {},
     "inputWidgets": {},
     "nuid": "81935e73-6fa5-484c-aae4-f44fcdd46a89",
     "showTitle": false,
     "tableResultSettingsMap": {},
     "title": ""
    }
   },
   "source": [
    "The **Average List Price per Color** chart highlights intriguing trends in how color impacts pricing, likely influenced by consumer preferences and product positioning. Red emerges as the most expensive color, suggesting it could be associated with luxury, exclusivity, or a higher perceived value in the market. Colors often carry emotional and cultural connotations, and red is frequently linked with passion, power, and high status, which might explain why items in this color command a premium. Silver, which also has a relatively high average price, may appeal to customers who associate it with elegance and modernity. On the other hand, colors like Blue, Black, and Yellow have lower average prices, possibly because they cater to more practical or widely available product categories. For instance, Black and Blue, though popular, might be used in items where cost efficiency is prioritized over aesthetic differentiation, making them more affordable.\n",
    "\n",
    "The **Average List Price per Size** chart reveals how size influences pricing, likely reflecting production costs, availability, and market demand for specific sizes. Size 56 stands out with a significantly higher average price, suggesting it is tied to a specialized or premium product line. Larger sizes, such as 60 and 58, also exhibit higher prices, which may be attributed to increased material costs or their association with high-value items in specific industries. Smaller sizes, such as 40 and 44, tend to have lower prices, perhaps because they are more common or cater to less expensive product lines. The sharp rise in price for size 56 could indicate a niche market where that size is particularly valued—either due to limited production or specialized applications. These patterns underline how manufacturers and sellers strategically price items based on size to balance demand, costs, and profitability, making size a key determinant in the overall pricing strategy."
   ]
  },
  {
   "cell_type": "markdown",
   "metadata": {
    "application/vnd.databricks.v1+cell": {
     "cellMetadata": {},
     "inputWidgets": {},
     "nuid": "75771141-950f-4e12-9fec-d2f454257124",
     "showTitle": false,
     "tableResultSettingsMap": {},
     "title": ""
    }
   },
   "source": []
  },
  {
   "cell_type": "markdown",
   "metadata": {
    "application/vnd.databricks.v1+cell": {
     "cellMetadata": {
      "byteLimit": 2048000,
      "rowLimit": 10000
     },
     "inputWidgets": {},
     "nuid": "3c3731a0-f63d-46fe-87de-416efca7b8ae",
     "showTitle": false,
     "tableResultSettingsMap": {},
     "title": ""
    }
   },
   "source": [
    "#### 6. Visualize Total Count per Size. Discuss/Explain your results."
   ]
  },
  {
   "cell_type": "code",
   "execution_count": null,
   "metadata": {
    "application/vnd.databricks.v1+cell": {
     "cellMetadata": {
      "byteLimit": 2048000,
      "rowLimit": 10000
     },
     "inputWidgets": {},
     "nuid": "7d9e8ea0-b441-41c5-be1e-7b93801de3f5",
     "showTitle": false,
     "tableResultSettingsMap": {},
     "title": ""
    }
   },
   "outputs": [
    {
     "data": {
      "image/png": "[encoded data removed]"
     },
     "metadata": {
      "application/vnd.databricks.v1+output": {
       "addedWidgets": {},
       "arguments": {},
       "data": "data:image/png;base64,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\n",
       "datasetInfos": [],
       "metadata": {},
       "removedWidgets": [],
       "type": "image"
      }
     },
     "output_type": "display_data"
    }
   ],
   "source": [
    "# Extract size from the product name (as before)\n",
    "spark_df_with_size = spark_df.withColumn(\"Size\", regexp_extract(\"Name\", r'(\\d+)$', 0))\n",
    "\n",
    "# Group by the Size and count the occurrences\n",
    "size_count = spark_df_with_size.groupBy(\"Size\").count()\n",
    "\n",
    "# Collect the data to Pandas DataFrame for visualization\n",
    "size_count_df = size_count.toPandas()\n",
    "\n",
    "# Visualize Total Count per Size\n",
    "plt.figure(figsize=(10, 5))\n",
    "plt.bar(size_count_df['Size'], size_count_df['count'], color='lightcoral')\n",
    "plt.title(\"Total Count per Size\")\n",
    "plt.xlabel(\"Size\")\n",
    "plt.ylabel(\"Total Count\")\n",
    "plt.xticks(rotation=45)\n",
    "plt.tight_layout()\n",
    "plt.show()\n"
   ]
  },
  {
   "cell_type": "markdown",
   "metadata": {
    "application/vnd.databricks.v1+cell": {
     "cellMetadata": {},
     "inputWidgets": {},
     "nuid": "f3c244aa-5fb1-471f-ad1f-78729b55ffb2",
     "showTitle": false,
     "tableResultSettingsMap": {},
     "title": ""
    }
   },
   "source": [
    "The **Total Count per Size** chart provides valuable insights into the distribution of items across various sizes. The size 44 has the highest count, indicating that it is the most commonly available size in the dataset. This could suggest that size 44 represents a standard or widely demanded size, perhaps due to its suitability for a larger audience or its use in versatile products. Similarly, sizes such as 52 and 58 also have relatively higher counts, which may indicate that these sizes are popular in the market, possibly serving mid-range or general-purpose product categories. On the other hand, sizes such as 56 and 62 have noticeably lower counts, with size 56 having the least. This suggests that these sizes might cater to niche markets or are produced in limited quantities due to specialized demand.\n",
    "\n",
    "The variation in counts across sizes might also explain the pricing trends observed earlier. Sizes with higher availability, like 44, tend to have lower average list prices due to economies of scale and widespread accessibility. Conversely, sizes like 56, with the lowest count, exhibit higher average prices, likely driven by their rarity and the premium associated with specialized products. This distribution highlights the impact of supply dynamics on pricing strategies, where scarcity often correlates with higher prices, while more common sizes align with lower-cost product lines. Ultimately, the chart emphasizes how market demand and production considerations shape both the availability and pricing of items across different sizes."
   ]
  },
  {
   "cell_type": "code",
   "execution_count": 8,
   "metadata": {
    "application/vnd.databricks.v1+cell": {
     "cellMetadata": {
      "byteLimit": 2048000,
      "rowLimit": 10000
     },
     "inputWidgets": {},
     "nuid": "e3a4ca6d-7b60-4a99-bd85-cd52be5af848",
     "showTitle": false,
     "tableResultSettingsMap": {},
     "title": ""
    }
   },
   "outputs": [
    {
     "data": {
      "image/jpeg": "[encoded data removed]",
      "text/plain": [
       "<IPython.core.display.Image object>"
      ]
     },
     "metadata": {
      "image/jpeg": {
       "width": 400
      }
     },
     "output_type": "display_data"
    },
    {
     "data": {
      "image/png": "[encoded data removed]",
      "text/plain": [
       "<IPython.core.display.Image object>"
      ]
     },
     "metadata": {
      "image/png": {
       "width": 400
      }
     },
     "output_type": "display_data"
    },
    {
     "data": {
      "image/png": "[encoded data removed]",
      "text/plain": [
       "<IPython.core.display.Image object>"
      ]
     },
     "metadata": {
      "image/png": {
       "width": 400
      }
     },
     "output_type": "display_data"
    }
   ],
   "source": [
    "from IPython.display import Image, display\n",
    "\n",
    "# Load and display image\n",
    "image_path = 'Saber02.jpg' \n",
    "display(Image(filename=image_path,width=400))\n",
    "\n",
    "#When I tried running this file locally to just insert saber picture, I realized the graph weren't properly showcasing, attaching them just in case\n",
    "image_path = 'Visualization2 (1).png' \n",
    "display(Image(filename=image_path,width=400))\n",
    "\n",
    "image_path = 'Visualization2 (2).png' \n",
    "display(Image(filename=image_path,width=400))\n"
   ]
  },
  {
   "cell_type": "markdown",
   "metadata": {
    "application/vnd.databricks.v1+cell": {
     "cellMetadata": {
      "byteLimit": 2048000,
      "rowLimit": 10000
     },
     "inputWidgets": {},
     "nuid": "65b7c02f-106d-4dc6-a681-2708a2b3de5a",
     "showTitle": false,
     "tableResultSettingsMap": {},
     "title": ""
    }
   },
   "source": [
    "# Using Machine Learning Library (For Practice)"
   ]
  },
  {
   "cell_type": "code",
   "execution_count": null,
   "metadata": {
    "application/vnd.databricks.v1+cell": {
     "cellMetadata": {
      "byteLimit": 2048000,
      "rowLimit": 10000
     },
     "inputWidgets": {},
     "nuid": "d7350414-127d-4e37-8aa0-cdc43f8f0bd4",
     "showTitle": false,
     "tableResultSettingsMap": {},
     "title": ""
    }
   },
   "outputs": [
    {
     "data": {
      "text/plain": []
     },
     "metadata": {
      "application/vnd.databricks.v1+output": {
       "arguments": {},
       "data": "",
       "errorSummary": "Command skipped",
       "errorTraceType": "ansi",
       "metadata": {},
       "type": "ipynbError"
      }
     },
     "output_type": "display_data"
    }
   ],
   "source": [
    "dfall = df.select(df.Weight.cast(\"float\"), df.Size.cast(\"float\"), df.ListPrice.cast(\"float\"))\n",
    "dfall.show(5, truncate=False)"
   ]
  },
  {
   "cell_type": "code",
   "execution_count": null,
   "metadata": {
    "application/vnd.databricks.v1+cell": {
     "cellMetadata": {
      "byteLimit": 2048000,
      "rowLimit": 10000
     },
     "inputWidgets": {},
     "nuid": "c11425a9-aacd-43d0-882c-eb0a0002c6cf",
     "showTitle": false,
     "tableResultSettingsMap": {},
     "title": ""
    }
   },
   "outputs": [
    {
     "data": {
      "text/plain": []
     },
     "metadata": {
      "application/vnd.databricks.v1+output": {
       "arguments": {},
       "data": "",
       "errorSummary": "Command skipped",
       "errorTraceType": "ansi",
       "metadata": {},
       "type": "ipynbError"
      }
     },
     "output_type": "display_data"
    }
   ],
   "source": [
    "dfall = dfall.na.drop(\"any\")"
   ]
  },
  {
   "cell_type": "code",
   "execution_count": null,
   "metadata": {
    "application/vnd.databricks.v1+cell": {
     "cellMetadata": {
      "byteLimit": 2048000,
      "rowLimit": 10000
     },
     "inputWidgets": {},
     "nuid": "653da381-78ec-470d-8994-825d252cea19",
     "showTitle": false,
     "tableResultSettingsMap": {},
     "title": ""
    }
   },
   "outputs": [
    {
     "data": {
      "text/plain": []
     },
     "metadata": {
      "application/vnd.databricks.v1+output": {
       "arguments": {},
       "data": "",
       "errorSummary": "Command skipped",
       "errorTraceType": "ansi",
       "metadata": {},
       "type": "ipynbError"
      }
     },
     "output_type": "display_data"
    }
   ],
   "source": [
    "feature_columns = dfall.columns[:-1] # here we omit the final column for prediction\n",
    "from pyspark.ml.feature import VectorAssembler\n",
    "assembler = VectorAssembler(inputCols=feature_columns,outputCol=\"features\")"
   ]
  },
  {
   "cell_type": "code",
   "execution_count": null,
   "metadata": {
    "application/vnd.databricks.v1+cell": {
     "cellMetadata": {
      "byteLimit": 2048000,
      "rowLimit": 10000
     },
     "inputWidgets": {},
     "nuid": "e2c5c2ab-8358-49e4-bd21-dc252e5848a5",
     "showTitle": false,
     "tableResultSettingsMap": {},
     "title": ""
    }
   },
   "outputs": [
    {
     "data": {
      "text/plain": []
     },
     "metadata": {
      "application/vnd.databricks.v1+output": {
       "arguments": {},
       "data": "",
       "errorSummary": "Command skipped",
       "errorTraceType": "ansi",
       "metadata": {},
       "type": "ipynbError"
      }
     },
     "output_type": "display_data"
    }
   ],
   "source": [
    "data_2 = assembler.transform(dfall)"
   ]
  },
  {
   "cell_type": "code",
   "execution_count": null,
   "metadata": {
    "application/vnd.databricks.v1+cell": {
     "cellMetadata": {
      "byteLimit": 2048000,
      "rowLimit": 10000
     },
     "inputWidgets": {},
     "nuid": "05b1b005-27ba-4f4d-bfac-473869a3aee2",
     "showTitle": false,
     "tableResultSettingsMap": {},
     "title": ""
    }
   },
   "outputs": [
    {
     "data": {
      "text/plain": []
     },
     "metadata": {
      "application/vnd.databricks.v1+output": {
       "arguments": {},
       "data": "",
       "errorSummary": "Command skipped",
       "errorTraceType": "ansi",
       "metadata": {},
       "type": "ipynbError"
      }
     },
     "output_type": "display_data"
    }
   ],
   "source": [
    "data_2.show()"
   ]
  },
  {
   "cell_type": "code",
   "execution_count": null,
   "metadata": {
    "application/vnd.databricks.v1+cell": {
     "cellMetadata": {
      "byteLimit": 2048000,
      "rowLimit": 10000
     },
     "inputWidgets": {},
     "nuid": "ceb6abc9-573b-4ae2-8e03-21a79639805a",
     "showTitle": false,
     "tableResultSettingsMap": {},
     "title": ""
    }
   },
   "outputs": [
    {
     "data": {
      "text/plain": []
     },
     "metadata": {
      "application/vnd.databricks.v1+output": {
       "arguments": {},
       "data": "",
       "errorSummary": "Command skipped",
       "errorTraceType": "ansi",
       "metadata": {},
       "type": "ipynbError"
      }
     },
     "output_type": "display_data"
    }
   ],
   "source": [
    "from pyspark.ml.regression import LinearRegression"
   ]
  },
  {
   "cell_type": "code",
   "execution_count": null,
   "metadata": {
    "application/vnd.databricks.v1+cell": {
     "cellMetadata": {
      "byteLimit": 2048000,
      "rowLimit": 10000
     },
     "inputWidgets": {},
     "nuid": "950d1b20-4331-4510-b9cd-db2819cb3474",
     "showTitle": false,
     "tableResultSettingsMap": {},
     "title": ""
    }
   },
   "outputs": [
    {
     "data": {
      "text/plain": []
     },
     "metadata": {
      "application/vnd.databricks.v1+output": {
       "arguments": {},
       "data": "",
       "errorSummary": "Command skipped",
       "errorTraceType": "ansi",
       "metadata": {},
       "type": "ipynbError"
      }
     },
     "output_type": "display_data"
    }
   ],
   "source": [
    "algo = LinearRegression(featuresCol=\"features\", labelCol=\"ListPrice\")"
   ]
  },
  {
   "cell_type": "code",
   "execution_count": null,
   "metadata": {
    "application/vnd.databricks.v1+cell": {
     "cellMetadata": {
      "byteLimit": 2048000,
      "rowLimit": 10000
     },
     "inputWidgets": {},
     "nuid": "bb9182a8-78da-4250-8303-26a222676e1d",
     "showTitle": false,
     "tableResultSettingsMap": {},
     "title": ""
    }
   },
   "outputs": [
    {
     "data": {
      "text/plain": []
     },
     "metadata": {
      "application/vnd.databricks.v1+output": {
       "arguments": {},
       "data": "",
       "errorSummary": "Command skipped",
       "errorTraceType": "ansi",
       "metadata": {},
       "type": "ipynbError"
      }
     },
     "output_type": "display_data"
    }
   ],
   "source": [
    "model = algo.fit(data_2)"
   ]
  },
  {
   "cell_type": "code",
   "execution_count": null,
   "metadata": {
    "application/vnd.databricks.v1+cell": {
     "cellMetadata": {
      "byteLimit": 2048000,
      "rowLimit": 10000
     },
     "inputWidgets": {},
     "nuid": "373a7a87-ed11-4d0f-b98d-98ce2889907c",
     "showTitle": false,
     "tableResultSettingsMap": {},
     "title": ""
    }
   },
   "outputs": [
    {
     "data": {
      "text/plain": []
     },
     "metadata": {
      "application/vnd.databricks.v1+output": {
       "arguments": {},
       "data": "",
       "errorSummary": "Command skipped",
       "errorTraceType": "ansi",
       "metadata": {},
       "type": "ipynbError"
      }
     },
     "output_type": "display_data"
    }
   ],
   "source": [
    "evaluation_summary = model.evaluate(data_2)"
   ]
  },
  {
   "cell_type": "code",
   "execution_count": null,
   "metadata": {
    "application/vnd.databricks.v1+cell": {
     "cellMetadata": {
      "byteLimit": 2048000,
      "rowLimit": 10000
     },
     "inputWidgets": {},
     "nuid": "1548b3b3-f7f4-48f6-ad73-2b070f7595da",
     "showTitle": false,
     "tableResultSettingsMap": {},
     "title": ""
    }
   },
   "outputs": [
    {
     "data": {
      "text/plain": []
     },
     "metadata": {
      "application/vnd.databricks.v1+output": {
       "arguments": {},
       "data": "",
       "errorSummary": "Command skipped",
       "errorTraceType": "ansi",
       "metadata": {},
       "type": "ipynbError"
      }
     },
     "output_type": "display_data"
    }
   ],
   "source": [
    "evaluation_summary.rootMeanSquaredError"
   ]
  },
  {
   "cell_type": "code",
   "execution_count": null,
   "metadata": {
    "application/vnd.databricks.v1+cell": {
     "cellMetadata": {
      "byteLimit": 2048000,
      "rowLimit": 10000
     },
     "inputWidgets": {},
     "nuid": "5bb20dc4-259c-4de1-bb3c-ea477a692d17",
     "showTitle": false,
     "tableResultSettingsMap": {},
     "title": ""
    }
   },
   "outputs": [
    {
     "data": {
      "text/plain": []
     },
     "metadata": {
      "application/vnd.databricks.v1+output": {
       "arguments": {},
       "data": "",
       "errorSummary": "Command skipped",
       "errorTraceType": "ansi",
       "metadata": {},
       "type": "ipynbError"
      }
     },
     "output_type": "display_data"
    }
   ],
   "source": [
    "evaluation_summary.r2"
   ]
  }
 ],
 "metadata": {
  "application/vnd.databricks.v1+notebook": {
   "dashboards": [],
   "environmentMetadata": null,
   "language": "python",
   "notebookMetadata": {
    "pythonIndentUnit": 2
   },
   "notebookName": "HW14-Spark",
   "widgets": {}
  },
  "kernelspec": {
   "display_name": "Python 3 (ipykernel)",
   "language": "python",
   "name": "python3"
  },
  "language_info": {
   "codemirror_mode": {
    "name": "ipython",
    "version": 3
   },
   "file_extension": ".py",
   "mimetype": "text/x-python",
   "name": "python",
   "nbconvert_exporter": "python",
   "pygments_lexer": "ipython3",
   "version": "3.12.4"
  }
 },
 "nbformat": 4,
 "nbformat_minor": 4
}
