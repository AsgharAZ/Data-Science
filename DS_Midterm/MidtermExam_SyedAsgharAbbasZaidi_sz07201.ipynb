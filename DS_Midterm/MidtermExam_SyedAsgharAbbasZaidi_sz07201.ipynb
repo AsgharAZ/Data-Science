{
 "cells": [
  {
   "cell_type": "markdown",
   "id": "141c2e55",
   "metadata": {},
   "source": [
    "### Name: Syed Asghar Abbas Zaidi\n",
    "### ID: 07201"
   ]
  },
  {
   "cell_type": "markdown",
   "id": "6ca2bc5d",
   "metadata": {
    "tags": []
   },
   "source": [
    "# healthcare-stroke-data-1.csv"
   ]
  },
  {
   "cell_type": "code",
   "execution_count": 174,
   "id": "4fe12ab4-1784-446c-9676-30f6f3f2d92d",
   "metadata": {},
   "outputs": [],
   "source": [
    "import pandas as pd\n",
    "import seaborn as sns\n",
    "import matplotlib.pyplot as plt"
   ]
  },
  {
   "cell_type": "code",
   "execution_count": 12,
   "id": "ee98177d-275d-4dbd-b693-3438bda6bb4a",
   "metadata": {},
   "outputs": [
    {
     "data": {
      "text/html": [
       "<div>\n",
       "<style scoped>\n",
       "    .dataframe tbody tr th:only-of-type {\n",
       "        vertical-align: middle;\n",
       "    }\n",
       "\n",
       "    .dataframe tbody tr th {\n",
       "        vertical-align: top;\n",
       "    }\n",
       "\n",
       "    .dataframe thead th {\n",
       "        text-align: right;\n",
       "    }\n",
       "</style>\n",
       "<table border=\"1\" class=\"dataframe\">\n",
       "  <thead>\n",
       "    <tr style=\"text-align: right;\">\n",
       "      <th></th>\n",
       "      <th>id</th>\n",
       "      <th>gender</th>\n",
       "      <th>age</th>\n",
       "      <th>hypertension</th>\n",
       "      <th>heart_disease</th>\n",
       "      <th>ever_married</th>\n",
       "      <th>work_type</th>\n",
       "      <th>Residence_type</th>\n",
       "      <th>avg_glucose_level</th>\n",
       "      <th>bmi</th>\n",
       "      <th>fat_percentage</th>\n",
       "      <th>smoking_status</th>\n",
       "    </tr>\n",
       "  </thead>\n",
       "  <tbody>\n",
       "    <tr>\n",
       "      <th>0</th>\n",
       "      <td>9046</td>\n",
       "      <td>Male</td>\n",
       "      <td>67.0</td>\n",
       "      <td>0</td>\n",
       "      <td>1</td>\n",
       "      <td>Yes</td>\n",
       "      <td>Private</td>\n",
       "      <td>Urban</td>\n",
       "      <td>228.69</td>\n",
       "      <td>36.6</td>\n",
       "      <td>43.13</td>\n",
       "      <td>formerly smoked</td>\n",
       "    </tr>\n",
       "    <tr>\n",
       "      <th>1</th>\n",
       "      <td>51676</td>\n",
       "      <td>Female</td>\n",
       "      <td>61.0</td>\n",
       "      <td>0</td>\n",
       "      <td>0</td>\n",
       "      <td>Yes</td>\n",
       "      <td>Self-employed</td>\n",
       "      <td>Rural</td>\n",
       "      <td>202.21</td>\n",
       "      <td>NaN</td>\n",
       "      <td>NaN</td>\n",
       "      <td>never smoked</td>\n",
       "    </tr>\n",
       "    <tr>\n",
       "      <th>2</th>\n",
       "      <td>31112</td>\n",
       "      <td>Male</td>\n",
       "      <td>80.0</td>\n",
       "      <td>0</td>\n",
       "      <td>1</td>\n",
       "      <td>Yes</td>\n",
       "      <td>Private</td>\n",
       "      <td>Rural</td>\n",
       "      <td>105.92</td>\n",
       "      <td>32.5</td>\n",
       "      <td>41.20</td>\n",
       "      <td>never smoked</td>\n",
       "    </tr>\n",
       "    <tr>\n",
       "      <th>3</th>\n",
       "      <td>60182</td>\n",
       "      <td>Female</td>\n",
       "      <td>49.0</td>\n",
       "      <td>0</td>\n",
       "      <td>0</td>\n",
       "      <td>Yes</td>\n",
       "      <td>Private</td>\n",
       "      <td>Urban</td>\n",
       "      <td>171.23</td>\n",
       "      <td>34.4</td>\n",
       "      <td>36.35</td>\n",
       "      <td>smokes</td>\n",
       "    </tr>\n",
       "    <tr>\n",
       "      <th>4</th>\n",
       "      <td>1665</td>\n",
       "      <td>Female</td>\n",
       "      <td>79.0</td>\n",
       "      <td>1</td>\n",
       "      <td>0</td>\n",
       "      <td>Yes</td>\n",
       "      <td>Self-employed</td>\n",
       "      <td>Rural</td>\n",
       "      <td>174.12</td>\n",
       "      <td>24.0</td>\n",
       "      <td>30.77</td>\n",
       "      <td>never smoked</td>\n",
       "    </tr>\n",
       "  </tbody>\n",
       "</table>\n",
       "</div>"
      ],
      "text/plain": [
       "      id  gender   age  hypertension  heart_disease ever_married  \\\n",
       "0   9046    Male  67.0             0              1          Yes   \n",
       "1  51676  Female  61.0             0              0          Yes   \n",
       "2  31112    Male  80.0             0              1          Yes   \n",
       "3  60182  Female  49.0             0              0          Yes   \n",
       "4   1665  Female  79.0             1              0          Yes   \n",
       "\n",
       "       work_type Residence_type  avg_glucose_level   bmi  fat_percentage  \\\n",
       "0        Private          Urban             228.69  36.6           43.13   \n",
       "1  Self-employed          Rural             202.21   NaN             NaN   \n",
       "2        Private          Rural             105.92  32.5           41.20   \n",
       "3        Private          Urban             171.23  34.4           36.35   \n",
       "4  Self-employed          Rural             174.12  24.0           30.77   \n",
       "\n",
       "    smoking_status  \n",
       "0  formerly smoked  \n",
       "1     never smoked  \n",
       "2     never smoked  \n",
       "3           smokes  \n",
       "4     never smoked  "
      ]
     },
     "execution_count": 12,
     "metadata": {},
     "output_type": "execute_result"
    }
   ],
   "source": [
    "import pandas as pd\n",
    "df = pd.read_csv('healthcare-stroke-data-1.csv')\n",
    "df.head(5)"
   ]
  },
  {
   "cell_type": "markdown",
   "id": "9fde5564",
   "metadata": {},
   "source": [
    "Q1. Display the data types of each column"
   ]
  },
  {
   "cell_type": "code",
   "execution_count": 18,
   "id": "dfac64a0",
   "metadata": {},
   "outputs": [
    {
     "data": {
      "text/plain": [
       "id                     int64\n",
       "gender                object\n",
       "age                  float64\n",
       "hypertension           int64\n",
       "heart_disease          int64\n",
       "ever_married          object\n",
       "work_type             object\n",
       "Residence_type        object\n",
       "avg_glucose_level    float64\n",
       "bmi                  float64\n",
       "fat_percentage       float64\n",
       "smoking_status        object\n",
       "dtype: object"
      ]
     },
     "execution_count": 18,
     "metadata": {},
     "output_type": "execute_result"
    }
   ],
   "source": [
    "df.dtypes"
   ]
  },
  {
   "cell_type": "markdown",
   "id": "c877b6e4",
   "metadata": {},
   "source": [
    "Q2. Find the columns with missing values by displaying the total number of records for each column."
   ]
  },
  {
   "cell_type": "code",
   "execution_count": 21,
   "id": "6ed4bef8",
   "metadata": {},
   "outputs": [
    {
     "data": {
      "text/plain": [
       "(5110, 12)"
      ]
     },
     "execution_count": 21,
     "metadata": {},
     "output_type": "execute_result"
    }
   ],
   "source": [
    "df.shape"
   ]
  },
  {
   "cell_type": "code",
   "execution_count": 23,
   "id": "b7684caa-2ec4-46ce-bbab-ea81b274c867",
   "metadata": {},
   "outputs": [
    {
     "data": {
      "text/plain": [
       "id                   5110\n",
       "gender               5110\n",
       "age                  5110\n",
       "hypertension         5110\n",
       "heart_disease        5110\n",
       "ever_married         5110\n",
       "work_type            5110\n",
       "Residence_type       5110\n",
       "avg_glucose_level    5110\n",
       "bmi                  4909\n",
       "fat_percentage       4909\n",
       "smoking_status       5110\n",
       "dtype: int64"
      ]
     },
     "execution_count": 23,
     "metadata": {},
     "output_type": "execute_result"
    }
   ],
   "source": [
    "df.count()"
   ]
  },
  {
   "cell_type": "markdown",
   "id": "e139e1e9-21d4-4d98-8dea-4703843f52db",
   "metadata": {},
   "source": [
    "### Are there any duplicates? "
   ]
  },
  {
   "cell_type": "code",
   "execution_count": 59,
   "id": "ab547a20",
   "metadata": {},
   "outputs": [
    {
     "name": "stdout",
     "output_type": "stream",
     "text": [
      "number of duplicate rows:  (0, 12)\n"
     ]
    }
   ],
   "source": [
    "duplicate_rows_df = df[df.duplicated()]\n",
    "print(\"number of duplicate rows: \", duplicate_rows_df.shape)"
   ]
  },
  {
   "cell_type": "code",
   "execution_count": 62,
   "id": "d1114033-f641-4183-b68d-58683cd7ca19",
   "metadata": {},
   "outputs": [
    {
     "data": {
      "text/plain": [
       "0"
      ]
     },
     "execution_count": 62,
     "metadata": {},
     "output_type": "execute_result"
    }
   ],
   "source": [
    "sum(df.duplicated())"
   ]
  },
  {
   "cell_type": "code",
   "execution_count": 65,
   "id": "e25a6f8b-f70b-4d5f-a27b-16a808dec69f",
   "metadata": {},
   "outputs": [],
   "source": [
    "df2 = df.drop_duplicates()"
   ]
  },
  {
   "cell_type": "markdown",
   "id": "f579f75f",
   "metadata": {},
   "source": [
    "Q3. If there are missing values in any column, replace it with appropriate method of your choice. Explain why did you choose this method? Display the missing value again to show that there are no missing values exist"
   ]
  },
  {
   "cell_type": "markdown",
   "id": "7ab49af4-ce23-4b0a-a885-1b5b2197f54c",
   "metadata": {},
   "source": [
    "## Basic guideline with which I will be handling the data-cleaning e.t.c.\n",
    "If you have 2%, 3% or 5% of missing values, then you drop those rows which contains those values, that's an industry rule of thumb.\n",
    "But if you have 5% or more than 10% of missing value, then you can \"think\" of filling them \n",
    "However, if it's 20% then you are losing a lot of information. You might consider dropping the entire column, cause if you try filling it, the results might be too skewed\n",
    "\n",
    "\n",
    "For categorical, use mode. For Numerical, use mean. For ordinal numerical, use median (or mode if situation calls for it)"
   ]
  },
  {
   "cell_type": "code",
   "execution_count": 67,
   "id": "d886a9fc-587f-4879-9625-0c4675ab546b",
   "metadata": {},
   "outputs": [
    {
     "data": {
      "text/plain": [
       "id                     0\n",
       "gender                 0\n",
       "age                    0\n",
       "hypertension           0\n",
       "heart_disease          0\n",
       "ever_married           0\n",
       "work_type              0\n",
       "Residence_type         0\n",
       "avg_glucose_level      0\n",
       "bmi                  201\n",
       "fat_percentage       201\n",
       "smoking_status         0\n",
       "dtype: int64"
      ]
     },
     "execution_count": 67,
     "metadata": {},
     "output_type": "execute_result"
    }
   ],
   "source": [
    "df2.isnull().sum()"
   ]
  },
  {
   "cell_type": "code",
   "execution_count": 70,
   "id": "b120c34c-1625-4b4d-b561-5b8adb1899c0",
   "metadata": {},
   "outputs": [
    {
     "data": {
      "text/html": [
       "<div>\n",
       "<style scoped>\n",
       "    .dataframe tbody tr th:only-of-type {\n",
       "        vertical-align: middle;\n",
       "    }\n",
       "\n",
       "    .dataframe tbody tr th {\n",
       "        vertical-align: top;\n",
       "    }\n",
       "\n",
       "    .dataframe thead th {\n",
       "        text-align: right;\n",
       "    }\n",
       "</style>\n",
       "<table border=\"1\" class=\"dataframe\">\n",
       "  <thead>\n",
       "    <tr style=\"text-align: right;\">\n",
       "      <th></th>\n",
       "      <th>column_name</th>\n",
       "      <th>percent_missing</th>\n",
       "    </tr>\n",
       "  </thead>\n",
       "  <tbody>\n",
       "    <tr>\n",
       "      <th>0</th>\n",
       "      <td>bmi</td>\n",
       "      <td>3.93</td>\n",
       "    </tr>\n",
       "    <tr>\n",
       "      <th>1</th>\n",
       "      <td>fat_percentage</td>\n",
       "      <td>3.93</td>\n",
       "    </tr>\n",
       "    <tr>\n",
       "      <th>2</th>\n",
       "      <td>id</td>\n",
       "      <td>0.00</td>\n",
       "    </tr>\n",
       "    <tr>\n",
       "      <th>3</th>\n",
       "      <td>gender</td>\n",
       "      <td>0.00</td>\n",
       "    </tr>\n",
       "    <tr>\n",
       "      <th>4</th>\n",
       "      <td>age</td>\n",
       "      <td>0.00</td>\n",
       "    </tr>\n",
       "    <tr>\n",
       "      <th>5</th>\n",
       "      <td>hypertension</td>\n",
       "      <td>0.00</td>\n",
       "    </tr>\n",
       "    <tr>\n",
       "      <th>6</th>\n",
       "      <td>heart_disease</td>\n",
       "      <td>0.00</td>\n",
       "    </tr>\n",
       "    <tr>\n",
       "      <th>7</th>\n",
       "      <td>ever_married</td>\n",
       "      <td>0.00</td>\n",
       "    </tr>\n",
       "    <tr>\n",
       "      <th>8</th>\n",
       "      <td>work_type</td>\n",
       "      <td>0.00</td>\n",
       "    </tr>\n",
       "    <tr>\n",
       "      <th>9</th>\n",
       "      <td>Residence_type</td>\n",
       "      <td>0.00</td>\n",
       "    </tr>\n",
       "    <tr>\n",
       "      <th>10</th>\n",
       "      <td>avg_glucose_level</td>\n",
       "      <td>0.00</td>\n",
       "    </tr>\n",
       "    <tr>\n",
       "      <th>11</th>\n",
       "      <td>smoking_status</td>\n",
       "      <td>0.00</td>\n",
       "    </tr>\n",
       "  </tbody>\n",
       "</table>\n",
       "</div>"
      ],
      "text/plain": [
       "          column_name  percent_missing\n",
       "0                 bmi             3.93\n",
       "1      fat_percentage             3.93\n",
       "2                  id             0.00\n",
       "3              gender             0.00\n",
       "4                 age             0.00\n",
       "5        hypertension             0.00\n",
       "6       heart_disease             0.00\n",
       "7        ever_married             0.00\n",
       "8           work_type             0.00\n",
       "9      Residence_type             0.00\n",
       "10  avg_glucose_level             0.00\n",
       "11     smoking_status             0.00"
      ]
     },
     "execution_count": 70,
     "metadata": {},
     "output_type": "execute_result"
    }
   ],
   "source": [
    "percent_missing = df2.isnull().sum() * 100 / len(df2)\n",
    "missing_value_df = pd.DataFrame({'column_name': df2.columns,\n",
    "                                 'percent_missing': percent_missing}).round(2).sort_values(by='percent_missing',ascending=False).reset_index(drop=True)\n",
    "missing_value_df"
   ]
  },
  {
   "cell_type": "code",
   "execution_count": 81,
   "id": "7a58fe13-3959-41f2-91e9-e60966a44a18",
   "metadata": {},
   "outputs": [
    {
     "data": {
      "text/plain": [
       "id                   0\n",
       "gender               0\n",
       "age                  0\n",
       "hypertension         0\n",
       "heart_disease        0\n",
       "ever_married         0\n",
       "work_type            0\n",
       "Residence_type       0\n",
       "avg_glucose_level    0\n",
       "bmi                  0\n",
       "fat_percentage       0\n",
       "smoking_status       0\n",
       "dtype: int64"
      ]
     },
     "execution_count": 81,
     "metadata": {},
     "output_type": "execute_result"
    }
   ],
   "source": [
    "# If you wanna drop columns, df3 = df2.drop(['RC','NJ_number','NP'], axis=1)\n",
    "# if you wanna fill with mean df3['pace'] = df3['pace'].fillna(df['pace'].mean())\n",
    "# df3['joined'] = df3['joined'].fillna(df['joined'].mode()[0])\n",
    "# after filling all values we can do this to drop rows\n",
    "df3 = df2.dropna()\n",
    "df3.isnull().sum()"
   ]
  },
  {
   "cell_type": "markdown",
   "id": "83815741",
   "metadata": {},
   "source": [
    "Q4. Replace the **'?'** present in the **smoking_status** column with the label **'unknown'**"
   ]
  },
  {
   "cell_type": "code",
   "execution_count": 101,
   "id": "a63740f5",
   "metadata": {},
   "outputs": [],
   "source": [
    "df3['smoking_status'].head(10)\n",
    "# df3['smoking_status'] = df3['smoking_status'].replace('?', 'unknown')\n",
    "# loc is a more safer way, iloc is indexing focused.\n",
    "df3.loc[:, 'smoking_status'] = df3['smoking_status'].replace('?', 'unknown')\n"
   ]
  },
  {
   "cell_type": "code",
   "execution_count": 103,
   "id": "7d06cfb1-5f7a-469e-b7b0-22581859cd03",
   "metadata": {},
   "outputs": [
    {
     "data": {
      "text/plain": [
       "0     formerly smoked\n",
       "2        never smoked\n",
       "3              smokes\n",
       "4        never smoked\n",
       "5     formerly smoked\n",
       "6        never smoked\n",
       "7        never smoked\n",
       "9             unknown\n",
       "10       never smoked\n",
       "11             smokes\n",
       "12             smokes\n",
       "14       never smoked\n",
       "15       never smoked\n",
       "16             smokes\n",
       "17             smokes\n",
       "18       never smoked\n",
       "20             smokes\n",
       "21       never smoked\n",
       "22       never smoked\n",
       "23            unknown\n",
       "Name: smoking_status, dtype: object"
      ]
     },
     "execution_count": 103,
     "metadata": {},
     "output_type": "execute_result"
    }
   ],
   "source": [
    "df3['smoking_status'].head(20)"
   ]
  },
  {
   "cell_type": "markdown",
   "id": "63a8596c",
   "metadata": {},
   "source": [
    "Q5. Find the percentage of Females present in the column gender"
   ]
  },
  {
   "cell_type": "code",
   "execution_count": 146,
   "id": "c8d453ea",
   "metadata": {},
   "outputs": [
    {
     "data": {
      "text/plain": [
       "59.014055815848444"
      ]
     },
     "execution_count": 146,
     "metadata": {},
     "output_type": "execute_result"
    }
   ],
   "source": [
    "Female = df3['gender'].value_counts().get('Female',0)\n",
    "Total_Counts = df3['gender'].count()\n",
    "Percentage = (Female/Total_Counts) * 100\n",
    "Percentage"
   ]
  },
  {
   "cell_type": "markdown",
   "id": "9c5d7398",
   "metadata": {},
   "source": [
    "Q6. Find all the records which have avg_glucose_level greater than 200"
   ]
  },
  {
   "cell_type": "code",
   "execution_count": 154,
   "id": "76801e31",
   "metadata": {},
   "outputs": [
    {
     "data": {
      "text/html": [
       "<div>\n",
       "<style scoped>\n",
       "    .dataframe tbody tr th:only-of-type {\n",
       "        vertical-align: middle;\n",
       "    }\n",
       "\n",
       "    .dataframe tbody tr th {\n",
       "        vertical-align: top;\n",
       "    }\n",
       "\n",
       "    .dataframe thead th {\n",
       "        text-align: right;\n",
       "    }\n",
       "</style>\n",
       "<table border=\"1\" class=\"dataframe\">\n",
       "  <thead>\n",
       "    <tr style=\"text-align: right;\">\n",
       "      <th></th>\n",
       "      <th>id</th>\n",
       "      <th>gender</th>\n",
       "      <th>age</th>\n",
       "      <th>hypertension</th>\n",
       "      <th>heart_disease</th>\n",
       "      <th>ever_married</th>\n",
       "      <th>work_type</th>\n",
       "      <th>Residence_type</th>\n",
       "      <th>avg_glucose_level</th>\n",
       "      <th>bmi</th>\n",
       "      <th>fat_percentage</th>\n",
       "      <th>smoking_status</th>\n",
       "    </tr>\n",
       "  </thead>\n",
       "  <tbody>\n",
       "    <tr>\n",
       "      <th>0</th>\n",
       "      <td>9046</td>\n",
       "      <td>Male</td>\n",
       "      <td>67.0</td>\n",
       "      <td>0</td>\n",
       "      <td>1</td>\n",
       "      <td>Yes</td>\n",
       "      <td>Private</td>\n",
       "      <td>Urban</td>\n",
       "      <td>228.69</td>\n",
       "      <td>36.6</td>\n",
       "      <td>43.13</td>\n",
       "      <td>formerly smoked</td>\n",
       "    </tr>\n",
       "    <tr>\n",
       "      <th>14</th>\n",
       "      <td>5317</td>\n",
       "      <td>Female</td>\n",
       "      <td>79.0</td>\n",
       "      <td>0</td>\n",
       "      <td>1</td>\n",
       "      <td>Yes</td>\n",
       "      <td>Private</td>\n",
       "      <td>Urban</td>\n",
       "      <td>214.09</td>\n",
       "      <td>28.2</td>\n",
       "      <td>35.81</td>\n",
       "      <td>never smoked</td>\n",
       "    </tr>\n",
       "    <tr>\n",
       "      <th>17</th>\n",
       "      <td>34120</td>\n",
       "      <td>Male</td>\n",
       "      <td>75.0</td>\n",
       "      <td>1</td>\n",
       "      <td>0</td>\n",
       "      <td>Yes</td>\n",
       "      <td>Private</td>\n",
       "      <td>Urban</td>\n",
       "      <td>221.29</td>\n",
       "      <td>25.8</td>\n",
       "      <td>32.01</td>\n",
       "      <td>smokes</td>\n",
       "    </tr>\n",
       "    <tr>\n",
       "      <th>21</th>\n",
       "      <td>13861</td>\n",
       "      <td>Female</td>\n",
       "      <td>52.0</td>\n",
       "      <td>1</td>\n",
       "      <td>0</td>\n",
       "      <td>Yes</td>\n",
       "      <td>Self-employed</td>\n",
       "      <td>Urban</td>\n",
       "      <td>233.29</td>\n",
       "      <td>48.9</td>\n",
       "      <td>54.44</td>\n",
       "      <td>never smoked</td>\n",
       "    </tr>\n",
       "    <tr>\n",
       "      <th>22</th>\n",
       "      <td>68794</td>\n",
       "      <td>Female</td>\n",
       "      <td>79.0</td>\n",
       "      <td>0</td>\n",
       "      <td>0</td>\n",
       "      <td>Yes</td>\n",
       "      <td>Self-employed</td>\n",
       "      <td>Urban</td>\n",
       "      <td>228.70</td>\n",
       "      <td>26.6</td>\n",
       "      <td>33.89</td>\n",
       "      <td>never smoked</td>\n",
       "    </tr>\n",
       "    <tr>\n",
       "      <th>...</th>\n",
       "      <td>...</td>\n",
       "      <td>...</td>\n",
       "      <td>...</td>\n",
       "      <td>...</td>\n",
       "      <td>...</td>\n",
       "      <td>...</td>\n",
       "      <td>...</td>\n",
       "      <td>...</td>\n",
       "      <td>...</td>\n",
       "      <td>...</td>\n",
       "      <td>...</td>\n",
       "      <td>...</td>\n",
       "    </tr>\n",
       "    <tr>\n",
       "      <th>5029</th>\n",
       "      <td>66951</td>\n",
       "      <td>Female</td>\n",
       "      <td>72.0</td>\n",
       "      <td>0</td>\n",
       "      <td>0</td>\n",
       "      <td>Yes</td>\n",
       "      <td>Private</td>\n",
       "      <td>Urban</td>\n",
       "      <td>206.49</td>\n",
       "      <td>26.3</td>\n",
       "      <td>31.92</td>\n",
       "      <td>never smoked</td>\n",
       "    </tr>\n",
       "    <tr>\n",
       "      <th>5034</th>\n",
       "      <td>65405</td>\n",
       "      <td>Female</td>\n",
       "      <td>79.0</td>\n",
       "      <td>0</td>\n",
       "      <td>0</td>\n",
       "      <td>No</td>\n",
       "      <td>Private</td>\n",
       "      <td>Urban</td>\n",
       "      <td>253.86</td>\n",
       "      <td>28.8</td>\n",
       "      <td>36.53</td>\n",
       "      <td>formerly smoked</td>\n",
       "    </tr>\n",
       "    <tr>\n",
       "      <th>5035</th>\n",
       "      <td>49773</td>\n",
       "      <td>Female</td>\n",
       "      <td>78.0</td>\n",
       "      <td>0</td>\n",
       "      <td>0</td>\n",
       "      <td>Yes</td>\n",
       "      <td>Private</td>\n",
       "      <td>Urban</td>\n",
       "      <td>203.36</td>\n",
       "      <td>28.7</td>\n",
       "      <td>36.18</td>\n",
       "      <td>formerly smoked</td>\n",
       "    </tr>\n",
       "    <tr>\n",
       "      <th>5061</th>\n",
       "      <td>38009</td>\n",
       "      <td>Male</td>\n",
       "      <td>41.0</td>\n",
       "      <td>0</td>\n",
       "      <td>0</td>\n",
       "      <td>Yes</td>\n",
       "      <td>Private</td>\n",
       "      <td>Urban</td>\n",
       "      <td>223.78</td>\n",
       "      <td>32.3</td>\n",
       "      <td>31.99</td>\n",
       "      <td>never smoked</td>\n",
       "    </tr>\n",
       "    <tr>\n",
       "      <th>5062</th>\n",
       "      <td>11184</td>\n",
       "      <td>Female</td>\n",
       "      <td>82.0</td>\n",
       "      <td>0</td>\n",
       "      <td>0</td>\n",
       "      <td>Yes</td>\n",
       "      <td>Self-employed</td>\n",
       "      <td>Rural</td>\n",
       "      <td>211.58</td>\n",
       "      <td>36.9</td>\n",
       "      <td>46.94</td>\n",
       "      <td>never smoked</td>\n",
       "    </tr>\n",
       "  </tbody>\n",
       "</table>\n",
       "<p>391 rows × 12 columns</p>\n",
       "</div>"
      ],
      "text/plain": [
       "         id  gender   age  hypertension  heart_disease ever_married  \\\n",
       "0      9046    Male  67.0             0              1          Yes   \n",
       "14     5317  Female  79.0             0              1          Yes   \n",
       "17    34120    Male  75.0             1              0          Yes   \n",
       "21    13861  Female  52.0             1              0          Yes   \n",
       "22    68794  Female  79.0             0              0          Yes   \n",
       "...     ...     ...   ...           ...            ...          ...   \n",
       "5029  66951  Female  72.0             0              0          Yes   \n",
       "5034  65405  Female  79.0             0              0           No   \n",
       "5035  49773  Female  78.0             0              0          Yes   \n",
       "5061  38009    Male  41.0             0              0          Yes   \n",
       "5062  11184  Female  82.0             0              0          Yes   \n",
       "\n",
       "          work_type Residence_type  avg_glucose_level   bmi  fat_percentage  \\\n",
       "0           Private          Urban             228.69  36.6           43.13   \n",
       "14          Private          Urban             214.09  28.2           35.81   \n",
       "17          Private          Urban             221.29  25.8           32.01   \n",
       "21    Self-employed          Urban             233.29  48.9           54.44   \n",
       "22    Self-employed          Urban             228.70  26.6           33.89   \n",
       "...             ...            ...                ...   ...             ...   \n",
       "5029        Private          Urban             206.49  26.3           31.92   \n",
       "5034        Private          Urban             253.86  28.8           36.53   \n",
       "5035        Private          Urban             203.36  28.7           36.18   \n",
       "5061        Private          Urban             223.78  32.3           31.99   \n",
       "5062  Self-employed          Rural             211.58  36.9           46.94   \n",
       "\n",
       "       smoking_status  \n",
       "0     formerly smoked  \n",
       "14       never smoked  \n",
       "17             smokes  \n",
       "21       never smoked  \n",
       "22       never smoked  \n",
       "...               ...  \n",
       "5029     never smoked  \n",
       "5034  formerly smoked  \n",
       "5035  formerly smoked  \n",
       "5061     never smoked  \n",
       "5062     never smoked  \n",
       "\n",
       "[391 rows x 12 columns]"
      ]
     },
     "execution_count": 154,
     "metadata": {},
     "output_type": "execute_result"
    }
   ],
   "source": [
    "gt_200_col = df3['avg_glucose_level'] > 200\n",
    "High_Glucose_Records = df3[gt_200_col]\n",
    "High_Glucose_Records"
   ]
  },
  {
   "cell_type": "markdown",
   "id": "592a337f",
   "metadata": {},
   "source": [
    "Q7. What is the Average bmi of people whose smoking_status shows **never smoked**?"
   ]
  },
  {
   "cell_type": "code",
   "execution_count": 160,
   "id": "1af9b7ea",
   "metadata": {},
   "outputs": [
    {
     "name": "stdout",
     "output_type": "stream",
     "text": [
      "Average BMI of people who never smoked: 29.98\n"
     ]
    }
   ],
   "source": [
    "# Filter records where smoking_status is 'never smoked', Short way of doing what we did above\n",
    "never_smoked = df3[df3['smoking_status'] == 'never smoked']\n",
    "# Calculate the average BMI of the filtered records\n",
    "average_bmi_never_smoked = never_smoked['bmi'].mean()\n",
    "# Display the result\n",
    "print(f\"Average BMI of people who never smoked: {average_bmi_never_smoked:.2f}\")"
   ]
  },
  {
   "cell_type": "markdown",
   "id": "f1295b91",
   "metadata": {},
   "source": [
    "Q8. Find the Max avg_glucose level and Min avg_glucose level record for the people whose smoking_status shows **smokes** "
   ]
  },
  {
   "cell_type": "code",
   "execution_count": 170,
   "id": "c0145249",
   "metadata": {},
   "outputs": [
    {
     "name": "stdout",
     "output_type": "stream",
     "text": [
      "Record with Max avg_glucose_level for smokers:\n",
      "        id gender   age  hypertension  heart_disease ever_married work_type  \\\n",
      "193  69112   Male  68.0             1              1          Yes   Private   \n",
      "\n",
      "    Residence_type  avg_glucose_level   bmi  fat_percentage smoking_status  \n",
      "193          Rural             271.74  31.1           36.76         smokes  \n"
     ]
    }
   ],
   "source": [
    "# Assuming 'df' is your DataFrame and it has 'smoking_status' and 'avg_glucose_level' columns\n",
    "# Filter records where smoking_status is 'smokes'\n",
    "smokers = df3[df3['smoking_status'] == 'smokes']\n",
    "# Find the record with the maximum avg_glucose_level\n",
    "max_glucose_record = smokers[smokers['avg_glucose_level'] == smokers['avg_glucose_level'].max()]\n",
    "# Find the record with the minimum avg_glucose_level\n",
    "min_glucose_record = smokers[smokers['avg_glucose_level'] == smokers['avg_glucose_level'].min()]\n",
    "\n",
    "# Display the results\n",
    "print(\"Record with Max avg_glucose_level for smokers:\")\n",
    "print(max_glucose_record)"
   ]
  },
  {
   "cell_type": "code",
   "execution_count": 172,
   "id": "814a5121-b6fc-499c-b727-e96d916370f0",
   "metadata": {},
   "outputs": [
    {
     "name": "stdout",
     "output_type": "stream",
     "text": [
      "\n",
      "Record with Min avg_glucose_level for smokers:\n",
      "        id gender   age  hypertension  heart_disease ever_married  \\\n",
      "659  50491   Male  78.0             0              0          Yes   \n",
      "\n",
      "         work_type Residence_type  avg_glucose_level   bmi  fat_percentage  \\\n",
      "659  Self-employed          Urban              55.32  29.6           37.26   \n",
      "\n",
      "    smoking_status  \n",
      "659         smokes  \n"
     ]
    }
   ],
   "source": [
    "print(\"\\nRecord with Min avg_glucose_level for smokers:\")\n",
    "print(min_glucose_record)"
   ]
  },
  {
   "cell_type": "markdown",
   "id": "425be399",
   "metadata": {
    "tags": []
   },
   "source": [
    "Q9. Use any visualization technique (think of any suitable plot) which can justify/show that \"As the fat_percentage increases, the bmi also increases proportionally\". Explain your findings in that plot."
   ]
  },
  {
   "cell_type": "code",
   "execution_count": null,
   "id": "a5d438b5",
   "metadata": {},
   "outputs": [],
   "source": []
  },
  {
   "cell_type": "markdown",
   "id": "d82e0105",
   "metadata": {},
   "source": [
    "Q10. Generate a correlation plot and validate the results of previous question. Explain how do you validate it?"
   ]
  },
  {
   "cell_type": "code",
   "execution_count": null,
   "id": "8444c77f",
   "metadata": {},
   "outputs": [],
   "source": []
  },
  {
   "cell_type": "markdown",
   "id": "44a5b80c",
   "metadata": {},
   "source": [
    "Q11. Also find another interesting insights from correlation plot (other than fat_percentage and bmi)"
   ]
  },
  {
   "cell_type": "code",
   "execution_count": null,
   "id": "fbd17e8f",
   "metadata": {},
   "outputs": [],
   "source": []
  },
  {
   "cell_type": "markdown",
   "id": "f5b8c7f8",
   "metadata": {},
   "source": [
    "Q12. Use a boxplot visualisation technique to see the highest and lowest **fat_percentage** with the marital status (**ever_married**)?"
   ]
  },
  {
   "cell_type": "code",
   "execution_count": 180,
   "id": "03efb1b2",
   "metadata": {},
   "outputs": [
    {
     "data": {
      "image/png": "[encoded data removed]",
      "text/plain": [
       "<Figure size 1000x600 with 1 Axes>"
      ]
     },
     "metadata": {},
     "output_type": "display_data"
    }
   ],
   "source": [
    "# Example: Creating a boxplot for fat_percentage based on ever_married\n",
    "plt.figure(figsize=(10, 6))  # Set the figure size\n",
    "sns.boxplot(x='ever_married', y='fat_percentage', data=df3)\n",
    "\n",
    "# Add titles and labels\n",
    "plt.title('Boxplot of Fat Percentage by Marital Status')\n",
    "plt.xlabel('Ever Married')\n",
    "plt.ylabel('Fat Percentage')\n",
    "\n",
    "# Show the plot\n",
    "plt.show()"
   ]
  },
  {
   "cell_type": "markdown",
   "id": "6d6943f4",
   "metadata": {},
   "source": [
    "# healthcare-stroke-data-2.csv"
   ]
  },
  {
   "cell_type": "markdown",
   "id": "e7ec902e",
   "metadata": {},
   "source": [
    "Q13. Join second dataset with first dataset to include the **stroke** column. Find the common column to merge these datasets."
   ]
  },
  {
   "cell_type": "code",
   "execution_count": 188,
   "id": "134d6682",
   "metadata": {},
   "outputs": [
    {
     "data": {
      "text/html": [
       "<div>\n",
       "<style scoped>\n",
       "    .dataframe tbody tr th:only-of-type {\n",
       "        vertical-align: middle;\n",
       "    }\n",
       "\n",
       "    .dataframe tbody tr th {\n",
       "        vertical-align: top;\n",
       "    }\n",
       "\n",
       "    .dataframe thead th {\n",
       "        text-align: right;\n",
       "    }\n",
       "</style>\n",
       "<table border=\"1\" class=\"dataframe\">\n",
       "  <thead>\n",
       "    <tr style=\"text-align: right;\">\n",
       "      <th></th>\n",
       "      <th>id</th>\n",
       "      <th>stroke</th>\n",
       "    </tr>\n",
       "  </thead>\n",
       "  <tbody>\n",
       "    <tr>\n",
       "      <th>0</th>\n",
       "      <td>67</td>\n",
       "      <td>0</td>\n",
       "    </tr>\n",
       "    <tr>\n",
       "      <th>1</th>\n",
       "      <td>77</td>\n",
       "      <td>0</td>\n",
       "    </tr>\n",
       "    <tr>\n",
       "      <th>2</th>\n",
       "      <td>84</td>\n",
       "      <td>0</td>\n",
       "    </tr>\n",
       "    <tr>\n",
       "      <th>3</th>\n",
       "      <td>91</td>\n",
       "      <td>0</td>\n",
       "    </tr>\n",
       "    <tr>\n",
       "      <th>4</th>\n",
       "      <td>99</td>\n",
       "      <td>0</td>\n",
       "    </tr>\n",
       "    <tr>\n",
       "      <th>5</th>\n",
       "      <td>121</td>\n",
       "      <td>0</td>\n",
       "    </tr>\n",
       "    <tr>\n",
       "      <th>6</th>\n",
       "      <td>129</td>\n",
       "      <td>0</td>\n",
       "    </tr>\n",
       "    <tr>\n",
       "      <th>7</th>\n",
       "      <td>132</td>\n",
       "      <td>0</td>\n",
       "    </tr>\n",
       "    <tr>\n",
       "      <th>8</th>\n",
       "      <td>156</td>\n",
       "      <td>0</td>\n",
       "    </tr>\n",
       "    <tr>\n",
       "      <th>9</th>\n",
       "      <td>163</td>\n",
       "      <td>0</td>\n",
       "    </tr>\n",
       "  </tbody>\n",
       "</table>\n",
       "</div>"
      ],
      "text/plain": [
       "    id  stroke\n",
       "0   67       0\n",
       "1   77       0\n",
       "2   84       0\n",
       "3   91       0\n",
       "4   99       0\n",
       "5  121       0\n",
       "6  129       0\n",
       "7  132       0\n",
       "8  156       0\n",
       "9  163       0"
      ]
     },
     "execution_count": 188,
     "metadata": {},
     "output_type": "execute_result"
    }
   ],
   "source": [
    "df_2 = pd.read_csv('healthcare-stroke-data-2.csv')\n",
    "df_2.head(10)"
   ]
  },
  {
   "cell_type": "code",
   "execution_count": 246,
   "id": "b9496d80-c1b3-4a4e-9a96-e2b35e853549",
   "metadata": {},
   "outputs": [
    {
     "data": {
      "text/plain": [
       "(4909, 12)"
      ]
     },
     "execution_count": 246,
     "metadata": {},
     "output_type": "execute_result"
    }
   ],
   "source": [
    "df3.shape# Merge the datasets on the 'id' column"
   ]
  },
  {
   "cell_type": "code",
   "execution_count": 228,
   "id": "ef1447f2-c784-4afa-b28b-d69a007a6b10",
   "metadata": {},
   "outputs": [
    {
     "data": {
      "text/plain": [
       "(5110, 2)"
      ]
     },
     "execution_count": 228,
     "metadata": {},
     "output_type": "execute_result"
    }
   ],
   "source": [
    "df_2.shape"
   ]
  },
  {
   "cell_type": "code",
   "execution_count": 252,
   "id": "0cd4f8d3-06bc-4bcc-b22c-583cfa43f576",
   "metadata": {},
   "outputs": [
    {
     "data": {
      "text/html": [
       "<div>\n",
       "<style scoped>\n",
       "    .dataframe tbody tr th:only-of-type {\n",
       "        vertical-align: middle;\n",
       "    }\n",
       "\n",
       "    .dataframe tbody tr th {\n",
       "        vertical-align: top;\n",
       "    }\n",
       "\n",
       "    .dataframe thead th {\n",
       "        text-align: right;\n",
       "    }\n",
       "</style>\n",
       "<table border=\"1\" class=\"dataframe\">\n",
       "  <thead>\n",
       "    <tr style=\"text-align: right;\">\n",
       "      <th></th>\n",
       "      <th>id</th>\n",
       "      <th>gender</th>\n",
       "      <th>age</th>\n",
       "      <th>hypertension</th>\n",
       "      <th>heart_disease</th>\n",
       "      <th>ever_married</th>\n",
       "      <th>work_type</th>\n",
       "      <th>Residence_type</th>\n",
       "      <th>avg_glucose_level</th>\n",
       "      <th>bmi</th>\n",
       "      <th>fat_percentage</th>\n",
       "      <th>smoking_status</th>\n",
       "      <th>stroke</th>\n",
       "    </tr>\n",
       "  </thead>\n",
       "  <tbody>\n",
       "    <tr>\n",
       "      <th>0</th>\n",
       "      <td>9046</td>\n",
       "      <td>Male</td>\n",
       "      <td>67.0</td>\n",
       "      <td>0</td>\n",
       "      <td>1</td>\n",
       "      <td>Yes</td>\n",
       "      <td>Private</td>\n",
       "      <td>Urban</td>\n",
       "      <td>228.69</td>\n",
       "      <td>36.6</td>\n",
       "      <td>43.13</td>\n",
       "      <td>formerly smoked</td>\n",
       "      <td>1</td>\n",
       "    </tr>\n",
       "    <tr>\n",
       "      <th>1</th>\n",
       "      <td>31112</td>\n",
       "      <td>Male</td>\n",
       "      <td>80.0</td>\n",
       "      <td>0</td>\n",
       "      <td>1</td>\n",
       "      <td>Yes</td>\n",
       "      <td>Private</td>\n",
       "      <td>Rural</td>\n",
       "      <td>105.92</td>\n",
       "      <td>32.5</td>\n",
       "      <td>41.20</td>\n",
       "      <td>never smoked</td>\n",
       "      <td>1</td>\n",
       "    </tr>\n",
       "    <tr>\n",
       "      <th>2</th>\n",
       "      <td>60182</td>\n",
       "      <td>Female</td>\n",
       "      <td>49.0</td>\n",
       "      <td>0</td>\n",
       "      <td>0</td>\n",
       "      <td>Yes</td>\n",
       "      <td>Private</td>\n",
       "      <td>Urban</td>\n",
       "      <td>171.23</td>\n",
       "      <td>34.4</td>\n",
       "      <td>36.35</td>\n",
       "      <td>smokes</td>\n",
       "      <td>1</td>\n",
       "    </tr>\n",
       "    <tr>\n",
       "      <th>3</th>\n",
       "      <td>1665</td>\n",
       "      <td>Female</td>\n",
       "      <td>79.0</td>\n",
       "      <td>1</td>\n",
       "      <td>0</td>\n",
       "      <td>Yes</td>\n",
       "      <td>Self-employed</td>\n",
       "      <td>Rural</td>\n",
       "      <td>174.12</td>\n",
       "      <td>24.0</td>\n",
       "      <td>30.77</td>\n",
       "      <td>never smoked</td>\n",
       "      <td>1</td>\n",
       "    </tr>\n",
       "    <tr>\n",
       "      <th>4</th>\n",
       "      <td>56669</td>\n",
       "      <td>Male</td>\n",
       "      <td>81.0</td>\n",
       "      <td>0</td>\n",
       "      <td>0</td>\n",
       "      <td>Yes</td>\n",
       "      <td>Private</td>\n",
       "      <td>Urban</td>\n",
       "      <td>186.21</td>\n",
       "      <td>29.0</td>\n",
       "      <td>37.23</td>\n",
       "      <td>formerly smoked</td>\n",
       "      <td>1</td>\n",
       "    </tr>\n",
       "  </tbody>\n",
       "</table>\n",
       "</div>"
      ],
      "text/plain": [
       "      id  gender   age  hypertension  heart_disease ever_married  \\\n",
       "0   9046    Male  67.0             0              1          Yes   \n",
       "1  31112    Male  80.0             0              1          Yes   \n",
       "2  60182  Female  49.0             0              0          Yes   \n",
       "3   1665  Female  79.0             1              0          Yes   \n",
       "4  56669    Male  81.0             0              0          Yes   \n",
       "\n",
       "       work_type Residence_type  avg_glucose_level   bmi  fat_percentage  \\\n",
       "0        Private          Urban             228.69  36.6           43.13   \n",
       "1        Private          Rural             105.92  32.5           41.20   \n",
       "2        Private          Urban             171.23  34.4           36.35   \n",
       "3  Self-employed          Rural             174.12  24.0           30.77   \n",
       "4        Private          Urban             186.21  29.0           37.23   \n",
       "\n",
       "    smoking_status  stroke  \n",
       "0  formerly smoked       1  \n",
       "1     never smoked       1  \n",
       "2           smokes       1  \n",
       "3     never smoked       1  \n",
       "4  formerly smoked       1  "
      ]
     },
     "execution_count": 252,
     "metadata": {},
     "output_type": "execute_result"
    }
   ],
   "source": [
    "# merged_df = pd.merge(df3, df_2[['id', 'stroke']], on='id', how='inner')\n",
    "merged_df = pd.merge(df3, df_2[['id', 'stroke']], on='id', how='left') #this ensures even if some columns aren't matched, we just keep null\n",
    "\n",
    "# Display the merged DataFrame\n",
    "merged_df.head()"
   ]
  },
  {
   "cell_type": "code",
   "execution_count": 250,
   "id": "4afc2b17-678f-473c-bda8-7891406536a6",
   "metadata": {},
   "outputs": [
    {
     "data": {
      "text/plain": [
       "(4909, 13)"
      ]
     },
     "execution_count": 250,
     "metadata": {},
     "output_type": "execute_result"
    }
   ],
   "source": [
    "merged_df.shape"
   ]
  },
  {
   "cell_type": "markdown",
   "id": "c335cc82",
   "metadata": {},
   "source": [
    "Q14. Count the number of records for each **stroke** type"
   ]
  },
  {
   "cell_type": "code",
   "execution_count": 254,
   "id": "fc8d7e19",
   "metadata": {},
   "outputs": [
    {
     "data": {
      "text/plain": [
       "stroke\n",
       "0    4700\n",
       "1     209\n",
       "Name: count, dtype: int64"
      ]
     },
     "execution_count": 254,
     "metadata": {},
     "output_type": "execute_result"
    }
   ],
   "source": [
    "merged_df['stroke'].value_counts()"
   ]
  },
  {
   "cell_type": "markdown",
   "id": "26313c3d",
   "metadata": {},
   "source": [
    "Q15. Replace stroke = 0 to 'No' and stroke = 1 to 'Yes' categories. Count the values again to check if it matches with the previous question"
   ]
  },
  {
   "cell_type": "code",
   "execution_count": 260,
   "id": "5d0db01a",
   "metadata": {},
   "outputs": [
    {
     "name": "stdout",
     "output_type": "stream",
     "text": [
      "stroke\n",
      "No     4700\n",
      "Yes     209\n",
      "Name: count, dtype: int64\n"
     ]
    }
   ],
   "source": [
    "# Replace 0 with 'No' and 1 with 'Yes' in the stroke column\n",
    "merged_df['stroke'] = merged_df['stroke'].replace({0: 'No', 1: 'Yes'})\n",
    "\n",
    "# Count the number of records for each stroke type again\n",
    "stroke_counts_updated = merged_df['stroke'].value_counts()\n",
    "\n",
    "# Display the updated counts\n",
    "print(stroke_counts_updated)\n"
   ]
  },
  {
   "cell_type": "markdown",
   "id": "fa89abdf",
   "metadata": {},
   "source": [
    "Q16. Make a Distribution plot for **age** and **stroke** together and provide insights on it."
   ]
  },
  {
   "cell_type": "code",
   "execution_count": null,
   "id": "ad8b9f96",
   "metadata": {},
   "outputs": [],
   "source": []
  },
  {
   "cell_type": "markdown",
   "id": "044564d7",
   "metadata": {},
   "source": [
    "Q17. Make a Distribution plot for **work_type** and **stroke** together and provide insights on it."
   ]
  },
  {
   "cell_type": "code",
   "execution_count": null,
   "id": "4d06c180",
   "metadata": {},
   "outputs": [],
   "source": []
  },
  {
   "cell_type": "markdown",
   "id": "d6213f3a",
   "metadata": {},
   "source": [
    "Q18. Find the number of patients for each **gender** and **work_type**. Sort them in ascending order."
   ]
  },
  {
   "cell_type": "code",
   "execution_count": null,
   "id": "9bef9c2a",
   "metadata": {},
   "outputs": [],
   "source": []
  },
  {
   "cell_type": "markdown",
   "id": "ae2cef57",
   "metadata": {},
   "source": [
    "Q19. Test the Hypothesis and explain your findings: <br> H0: the fat_percentage of **stroke** = Yes and **stroke** = No is same (equal or similar). <br>\n",
    "Ha: the fat_percentage of **stroke** = Yes is greater than **stroke** = No <br>"
   ]
  },
  {
   "cell_type": "code",
   "execution_count": 288,
   "id": "cbd43152",
   "metadata": {},
   "outputs": [
    {
     "data": {
      "text/plain": [
       "TtestResult(statistic=14.892107306732585, pvalue=4.110803319078326e-37, df=263.5963838539287)"
      ]
     },
     "execution_count": 288,
     "metadata": {},
     "output_type": "execute_result"
    }
   ],
   "source": [
    "from scipy import stats\n",
    "fat_percentage_yes = merged_df[merged_df['stroke'] == 'Yes']['fat_percentage']\n",
    "fat_percentage_no = merged_df[merged_df['stroke'] == 'No']['fat_percentage']\n",
    "stats.ttest_ind(fat_percentage_yes, fat_percentage_no, alternative=\"greater\", equal_var = False)"
   ]
  },
  {
   "cell_type": "markdown",
   "id": "f3708d73",
   "metadata": {},
   "source": [
    "Q20. Test the Hypothesis and explain your findings: <br> H0: **gender** and **stroke** are independent and are not related to each other <br>\n",
    "Ha: **gender** and **stroke** are dependent and related to each other <br>"
   ]
  },
  {
   "cell_type": "code",
   "execution_count": null,
   "id": "be3fbc78",
   "metadata": {},
   "outputs": [],
   "source": []
  }
 ],
 "metadata": {
  "kernelspec": {
   "display_name": "Python 3 (ipykernel)",
   "language": "python",
   "name": "python3"
  },
  "language_info": {
   "codemirror_mode": {
    "name": "ipython",
    "version": 3
   },
   "file_extension": ".py",
   "mimetype": "text/x-python",
   "name": "python",
   "nbconvert_exporter": "python",
   "pygments_lexer": "ipython3",
   "version": "3.12.4"
  }
 },
 "nbformat": 4,
 "nbformat_minor": 5
}
