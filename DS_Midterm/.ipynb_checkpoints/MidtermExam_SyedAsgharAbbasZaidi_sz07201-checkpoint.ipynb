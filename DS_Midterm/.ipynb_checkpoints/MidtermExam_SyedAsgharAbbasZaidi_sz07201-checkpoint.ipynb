{
 "cells": [
  {
   "cell_type": "markdown",
   "id": "141c2e55",
   "metadata": {},
   "source": [
    "### Name: Syed Asghar Abbas Zaidi\n",
    "### ID: 07201"
   ]
  },
  {
   "cell_type": "markdown",
   "id": "6ca2bc5d",
   "metadata": {
    "tags": []
   },
   "source": [
    "# healthcare-stroke-data-1.csv"
   ]
  },
  {
   "cell_type": "code",
   "execution_count": 6,
   "id": "ee98177d-275d-4dbd-b693-3438bda6bb4a",
   "metadata": {},
   "outputs": [
    {
     "data": {
      "text/html": [
       "<div>\n",
       "<style scoped>\n",
       "    .dataframe tbody tr th:only-of-type {\n",
       "        vertical-align: middle;\n",
       "    }\n",
       "\n",
       "    .dataframe tbody tr th {\n",
       "        vertical-align: top;\n",
       "    }\n",
       "\n",
       "    .dataframe thead th {\n",
       "        text-align: right;\n",
       "    }\n",
       "</style>\n",
       "<table border=\"1\" class=\"dataframe\">\n",
       "  <thead>\n",
       "    <tr style=\"text-align: right;\">\n",
       "      <th></th>\n",
       "      <th>id</th>\n",
       "      <th>gender</th>\n",
       "      <th>age</th>\n",
       "      <th>hypertension</th>\n",
       "      <th>heart_disease</th>\n",
       "      <th>ever_married</th>\n",
       "      <th>work_type</th>\n",
       "      <th>Residence_type</th>\n",
       "      <th>avg_glucose_level</th>\n",
       "      <th>bmi</th>\n",
       "      <th>fat_percentage</th>\n",
       "      <th>smoking_status</th>\n",
       "    </tr>\n",
       "  </thead>\n",
       "  <tbody>\n",
       "    <tr>\n",
       "      <th>0</th>\n",
       "      <td>9046</td>\n",
       "      <td>Male</td>\n",
       "      <td>67.0</td>\n",
       "      <td>0</td>\n",
       "      <td>1</td>\n",
       "      <td>Yes</td>\n",
       "      <td>Private</td>\n",
       "      <td>Urban</td>\n",
       "      <td>228.69</td>\n",
       "      <td>36.6</td>\n",
       "      <td>43.13</td>\n",
       "      <td>formerly smoked</td>\n",
       "    </tr>\n",
       "    <tr>\n",
       "      <th>1</th>\n",
       "      <td>51676</td>\n",
       "      <td>Female</td>\n",
       "      <td>61.0</td>\n",
       "      <td>0</td>\n",
       "      <td>0</td>\n",
       "      <td>Yes</td>\n",
       "      <td>Self-employed</td>\n",
       "      <td>Rural</td>\n",
       "      <td>202.21</td>\n",
       "      <td>NaN</td>\n",
       "      <td>NaN</td>\n",
       "      <td>never smoked</td>\n",
       "    </tr>\n",
       "    <tr>\n",
       "      <th>2</th>\n",
       "      <td>31112</td>\n",
       "      <td>Male</td>\n",
       "      <td>80.0</td>\n",
       "      <td>0</td>\n",
       "      <td>1</td>\n",
       "      <td>Yes</td>\n",
       "      <td>Private</td>\n",
       "      <td>Rural</td>\n",
       "      <td>105.92</td>\n",
       "      <td>32.5</td>\n",
       "      <td>41.20</td>\n",
       "      <td>never smoked</td>\n",
       "    </tr>\n",
       "    <tr>\n",
       "      <th>3</th>\n",
       "      <td>60182</td>\n",
       "      <td>Female</td>\n",
       "      <td>49.0</td>\n",
       "      <td>0</td>\n",
       "      <td>0</td>\n",
       "      <td>Yes</td>\n",
       "      <td>Private</td>\n",
       "      <td>Urban</td>\n",
       "      <td>171.23</td>\n",
       "      <td>34.4</td>\n",
       "      <td>36.35</td>\n",
       "      <td>smokes</td>\n",
       "    </tr>\n",
       "    <tr>\n",
       "      <th>4</th>\n",
       "      <td>1665</td>\n",
       "      <td>Female</td>\n",
       "      <td>79.0</td>\n",
       "      <td>1</td>\n",
       "      <td>0</td>\n",
       "      <td>Yes</td>\n",
       "      <td>Self-employed</td>\n",
       "      <td>Rural</td>\n",
       "      <td>174.12</td>\n",
       "      <td>24.0</td>\n",
       "      <td>30.77</td>\n",
       "      <td>never smoked</td>\n",
       "    </tr>\n",
       "  </tbody>\n",
       "</table>\n",
       "</div>"
      ],
      "text/plain": [
       "      id  gender   age  hypertension  heart_disease ever_married  \\\n",
       "0   9046    Male  67.0             0              1          Yes   \n",
       "1  51676  Female  61.0             0              0          Yes   \n",
       "2  31112    Male  80.0             0              1          Yes   \n",
       "3  60182  Female  49.0             0              0          Yes   \n",
       "4   1665  Female  79.0             1              0          Yes   \n",
       "\n",
       "       work_type Residence_type  avg_glucose_level   bmi  fat_percentage  \\\n",
       "0        Private          Urban             228.69  36.6           43.13   \n",
       "1  Self-employed          Rural             202.21   NaN             NaN   \n",
       "2        Private          Rural             105.92  32.5           41.20   \n",
       "3        Private          Urban             171.23  34.4           36.35   \n",
       "4  Self-employed          Rural             174.12  24.0           30.77   \n",
       "\n",
       "    smoking_status  \n",
       "0  formerly smoked  \n",
       "1     never smoked  \n",
       "2     never smoked  \n",
       "3           smokes  \n",
       "4     never smoked  "
      ]
     },
     "execution_count": 6,
     "metadata": {},
     "output_type": "execute_result"
    }
   ],
   "source": [
    "import pandas as pd\n",
    "df = pd.read_csv('healthcare-stroke-data-1.csv')\n",
    "df.head(5)"
   ]
  },
  {
   "cell_type": "markdown",
   "id": "9fde5564",
   "metadata": {},
   "source": [
    "Q1. Display the data types of each column"
   ]
  },
  {
   "cell_type": "code",
   "execution_count": 8,
   "id": "dfac64a0",
   "metadata": {},
   "outputs": [
    {
     "data": {
      "text/plain": [
       "id                     int64\n",
       "gender                object\n",
       "age                  float64\n",
       "hypertension           int64\n",
       "heart_disease          int64\n",
       "ever_married          object\n",
       "work_type             object\n",
       "Residence_type        object\n",
       "avg_glucose_level    float64\n",
       "bmi                  float64\n",
       "fat_percentage       float64\n",
       "smoking_status        object\n",
       "dtype: object"
      ]
     },
     "execution_count": 8,
     "metadata": {},
     "output_type": "execute_result"
    }
   ],
   "source": [
    "df.dtypes"
   ]
  },
  {
   "cell_type": "markdown",
   "id": "c877b6e4",
   "metadata": {},
   "source": [
    "Q2. Find the columns with missing values by displaying the total number of records for each column."
   ]
  },
  {
   "cell_type": "code",
   "execution_count": 11,
   "id": "6ed4bef8",
   "metadata": {},
   "outputs": [
    {
     "data": {
      "text/plain": [
       "(5110, 12)"
      ]
     },
     "execution_count": 11,
     "metadata": {},
     "output_type": "execute_result"
    }
   ],
   "source": [
    "df.shape"
   ]
  },
  {
   "cell_type": "code",
   "execution_count": 14,
   "id": "b7684caa-2ec4-46ce-bbab-ea81b274c867",
   "metadata": {},
   "outputs": [
    {
     "data": {
      "text/plain": [
       "id                   5110\n",
       "gender               5110\n",
       "age                  5110\n",
       "hypertension         5110\n",
       "heart_disease        5110\n",
       "ever_married         5110\n",
       "work_type            5110\n",
       "Residence_type       5110\n",
       "avg_glucose_level    5110\n",
       "bmi                  4909\n",
       "fat_percentage       4909\n",
       "smoking_status       5110\n",
       "dtype: int64"
      ]
     },
     "execution_count": 14,
     "metadata": {},
     "output_type": "execute_result"
    }
   ],
   "source": [
    "df.count()"
   ]
  },
  {
   "cell_type": "markdown",
   "id": "f579f75f",
   "metadata": {},
   "source": [
    "Q3. If there are missing values in any column, replace it with appropriate method of your choice. Explain why did you choose this method? Display the missing value again to show that there are no missing values exist"
   ]
  },
  {
   "cell_type": "code",
   "execution_count": null,
   "id": "ab547a20",
   "metadata": {},
   "outputs": [],
   "source": []
  },
  {
   "cell_type": "markdown",
   "id": "83815741",
   "metadata": {},
   "source": [
    "Q4. Replace the **'?'** present in the **smoking_status** column with the label **'unknown'**"
   ]
  },
  {
   "cell_type": "code",
   "execution_count": null,
   "id": "a63740f5",
   "metadata": {},
   "outputs": [],
   "source": []
  },
  {
   "cell_type": "markdown",
   "id": "63a8596c",
   "metadata": {},
   "source": [
    "Q5. Find the percentage of Females present in the column gender"
   ]
  },
  {
   "cell_type": "code",
   "execution_count": null,
   "id": "c8d453ea",
   "metadata": {},
   "outputs": [],
   "source": []
  },
  {
   "cell_type": "markdown",
   "id": "9c5d7398",
   "metadata": {},
   "source": [
    "Q6. Find all the records which have avg_glucose_level greater than 200"
   ]
  },
  {
   "cell_type": "code",
   "execution_count": null,
   "id": "76801e31",
   "metadata": {},
   "outputs": [],
   "source": []
  },
  {
   "cell_type": "markdown",
   "id": "592a337f",
   "metadata": {},
   "source": [
    "Q7. What is the Average bmi of people whose smoking_status shows **never smoked**?"
   ]
  },
  {
   "cell_type": "code",
   "execution_count": null,
   "id": "1af9b7ea",
   "metadata": {},
   "outputs": [],
   "source": []
  },
  {
   "cell_type": "markdown",
   "id": "f1295b91",
   "metadata": {},
   "source": [
    "Q8. Find the Max avg_glucose level and Min avg_glucose level record for the people whose smoking_status shows **smokes** "
   ]
  },
  {
   "cell_type": "code",
   "execution_count": null,
   "id": "c0145249",
   "metadata": {},
   "outputs": [],
   "source": []
  },
  {
   "cell_type": "markdown",
   "id": "425be399",
   "metadata": {
    "tags": []
   },
   "source": [
    "Q9. Use any visualization technique (think of any suitable plot) which can justify/show that \"As the fat_percentage increases, the bmi also increases proportionally\". Explain your findings in that plot."
   ]
  },
  {
   "cell_type": "code",
   "execution_count": null,
   "id": "a5d438b5",
   "metadata": {},
   "outputs": [],
   "source": []
  },
  {
   "cell_type": "markdown",
   "id": "d82e0105",
   "metadata": {},
   "source": [
    "Q10. Generate a correlation plot and validate the results of previous question. Explain how do you validate it?"
   ]
  },
  {
   "cell_type": "code",
   "execution_count": null,
   "id": "8444c77f",
   "metadata": {},
   "outputs": [],
   "source": []
  },
  {
   "cell_type": "markdown",
   "id": "44a5b80c",
   "metadata": {},
   "source": [
    "Q11. Also find another interesting insights from correlation plot (other than fat_percentage and bmi)"
   ]
  },
  {
   "cell_type": "code",
   "execution_count": null,
   "id": "fbd17e8f",
   "metadata": {},
   "outputs": [],
   "source": []
  },
  {
   "cell_type": "markdown",
   "id": "f5b8c7f8",
   "metadata": {},
   "source": [
    "Q12. Use a boxplot visualisation technique to see the highest and lowest **fat_percentage** with the marital status (**ever_married**)?"
   ]
  },
  {
   "cell_type": "code",
   "execution_count": null,
   "id": "03efb1b2",
   "metadata": {},
   "outputs": [],
   "source": []
  },
  {
   "cell_type": "markdown",
   "id": "6d6943f4",
   "metadata": {},
   "source": [
    "# healthcare-stroke-data-2.csv"
   ]
  },
  {
   "cell_type": "markdown",
   "id": "e7ec902e",
   "metadata": {},
   "source": [
    "Q13. Join second dataset with first dataset to include the **stroke** column. Find the common column to merge these datasets."
   ]
  },
  {
   "cell_type": "code",
   "execution_count": null,
   "id": "134d6682",
   "metadata": {},
   "outputs": [],
   "source": []
  },
  {
   "cell_type": "markdown",
   "id": "c335cc82",
   "metadata": {},
   "source": [
    "Q14. Count the number of records for each **stroke** type"
   ]
  },
  {
   "cell_type": "code",
   "execution_count": null,
   "id": "fc8d7e19",
   "metadata": {},
   "outputs": [],
   "source": []
  },
  {
   "cell_type": "markdown",
   "id": "26313c3d",
   "metadata": {},
   "source": [
    "Q15. Replace stroke = 0 to 'No' and stroke = 1 to 'Yes' categories. Count the values again to check if it matches with the previous question"
   ]
  },
  {
   "cell_type": "code",
   "execution_count": null,
   "id": "5d0db01a",
   "metadata": {},
   "outputs": [],
   "source": []
  },
  {
   "cell_type": "markdown",
   "id": "fa89abdf",
   "metadata": {},
   "source": [
    "Q16. Make a Distribution plot for **age** and **stroke** together and provide insights on it."
   ]
  },
  {
   "cell_type": "code",
   "execution_count": null,
   "id": "ad8b9f96",
   "metadata": {},
   "outputs": [],
   "source": []
  },
  {
   "cell_type": "markdown",
   "id": "044564d7",
   "metadata": {},
   "source": [
    "Q17. Make a Distribution plot for **work_type** and **stroke** together and provide insights on it."
   ]
  },
  {
   "cell_type": "code",
   "execution_count": null,
   "id": "4d06c180",
   "metadata": {},
   "outputs": [],
   "source": []
  },
  {
   "cell_type": "markdown",
   "id": "d6213f3a",
   "metadata": {},
   "source": [
    "Q18. Find the number of patients for each **gender** and **work_type**. Sort them in ascending order."
   ]
  },
  {
   "cell_type": "code",
   "execution_count": null,
   "id": "9bef9c2a",
   "metadata": {},
   "outputs": [],
   "source": []
  },
  {
   "cell_type": "markdown",
   "id": "ae2cef57",
   "metadata": {},
   "source": [
    "Q19. Test the Hypothesis and explain your findings: <br> H0: the fat_percentage of **stroke** = Yes and **stroke** = No is same (equal or similar). <br>\n",
    "Ha: the fat_percentage of **stroke** = Yes is greater than **stroke** = No <br>"
   ]
  },
  {
   "cell_type": "code",
   "execution_count": null,
   "id": "cbd43152",
   "metadata": {},
   "outputs": [],
   "source": []
  },
  {
   "cell_type": "markdown",
   "id": "f3708d73",
   "metadata": {},
   "source": [
    "Q20. Test the Hypothesis and explain your findings: <br> H0: **gender** and **stroke** are independent and are not related to each other <br>\n",
    "Ha: **gender** and **stroke** are dependent and related to each other <br>"
   ]
  },
  {
   "cell_type": "code",
   "execution_count": null,
   "id": "be3fbc78",
   "metadata": {},
   "outputs": [],
   "source": []
  }
 ],
 "metadata": {
  "kernelspec": {
   "display_name": "Python 3 (ipykernel)",
   "language": "python",
   "name": "python3"
  },
  "language_info": {
   "codemirror_mode": {
    "name": "ipython",
    "version": 3
   },
   "file_extension": ".py",
   "mimetype": "text/x-python",
   "name": "python",
   "nbconvert_exporter": "python",
   "pygments_lexer": "ipython3",
   "version": "3.12.4"
  }
 },
 "nbformat": 4,
 "nbformat_minor": 5
}
