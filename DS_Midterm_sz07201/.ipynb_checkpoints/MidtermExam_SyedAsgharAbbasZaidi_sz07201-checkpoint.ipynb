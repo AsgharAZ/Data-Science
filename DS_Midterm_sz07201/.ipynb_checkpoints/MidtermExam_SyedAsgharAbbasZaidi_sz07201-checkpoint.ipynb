{
 "cells": [
  {
   "cell_type": "markdown",
   "id": "871bffa4",
   "metadata": {},
   "source": [
    "### Name: Syed Asghar Abbas Zaidi\n",
    "### ID: sz07201"
   ]
  },
  {
   "cell_type": "markdown",
   "id": "412a33f0",
   "metadata": {
    "tags": []
   },
   "source": [
    "# movies-1.csv and movies-2.csv"
   ]
  },
  {
   "cell_type": "markdown",
   "id": "0a156bc2",
   "metadata": {},
   "source": [
    "Import libraries here"
   ]
  },
  {
   "cell_type": "code",
   "execution_count": 400,
   "id": "b9c72501",
   "metadata": {},
   "outputs": [],
   "source": [
    "import pandas as pd\n",
    "import seaborn as sns\n",
    "import matplotlib.pyplot as plt\n",
    "from scipy import stats\n",
    "from scipy.stats import chi2_contingency"
   ]
  },
  {
   "cell_type": "markdown",
   "id": "176efe30",
   "metadata": {},
   "source": [
    "Read datasets here"
   ]
  },
  {
   "cell_type": "code",
   "execution_count": 403,
   "id": "7633f30f",
   "metadata": {},
   "outputs": [
    {
     "data": {
      "text/html": [
       "<div>\n",
       "<style scoped>\n",
       "    .dataframe tbody tr th:only-of-type {\n",
       "        vertical-align: middle;\n",
       "    }\n",
       "\n",
       "    .dataframe tbody tr th {\n",
       "        vertical-align: top;\n",
       "    }\n",
       "\n",
       "    .dataframe thead th {\n",
       "        text-align: right;\n",
       "    }\n",
       "</style>\n",
       "<table border=\"1\" class=\"dataframe\">\n",
       "  <thead>\n",
       "    <tr style=\"text-align: right;\">\n",
       "      <th></th>\n",
       "      <th>show_id</th>\n",
       "      <th>type</th>\n",
       "      <th>title</th>\n",
       "      <th>director</th>\n",
       "      <th>cast</th>\n",
       "      <th>country</th>\n",
       "      <th>date_added</th>\n",
       "      <th>release_year</th>\n",
       "      <th>description</th>\n",
       "    </tr>\n",
       "  </thead>\n",
       "  <tbody>\n",
       "    <tr>\n",
       "      <th>0</th>\n",
       "      <td>s1</td>\n",
       "      <td>Movie</td>\n",
       "      <td>Dick Johnson Is Dead</td>\n",
       "      <td>Kirsten Johnson</td>\n",
       "      <td>NaN</td>\n",
       "      <td>United States</td>\n",
       "      <td>25-Sep-21</td>\n",
       "      <td>2020</td>\n",
       "      <td>As her father nears the end of his life, filmm...</td>\n",
       "    </tr>\n",
       "    <tr>\n",
       "      <th>1</th>\n",
       "      <td>s2</td>\n",
       "      <td>TV Show</td>\n",
       "      <td>Blood &amp; Water</td>\n",
       "      <td>NaN</td>\n",
       "      <td>Ama Qamata, Khosi Ngema, Gail Mabalane, Thaban...</td>\n",
       "      <td>South Africa</td>\n",
       "      <td>24-Sep-21</td>\n",
       "      <td>2021</td>\n",
       "      <td>After crossing paths at a party, a Cape Town t...</td>\n",
       "    </tr>\n",
       "    <tr>\n",
       "      <th>2</th>\n",
       "      <td>s3</td>\n",
       "      <td>TV Show</td>\n",
       "      <td>Ganglands</td>\n",
       "      <td>Julien Leclercq</td>\n",
       "      <td>Sami Bouajila, Tracy Gotoas, Samuel Jouy, Nabi...</td>\n",
       "      <td>NaN</td>\n",
       "      <td>24-Sep-21</td>\n",
       "      <td>2021</td>\n",
       "      <td>To protect his family from a powerful drug lor...</td>\n",
       "    </tr>\n",
       "    <tr>\n",
       "      <th>3</th>\n",
       "      <td>s4</td>\n",
       "      <td>TV Show</td>\n",
       "      <td>Jailbirds New Orleans</td>\n",
       "      <td>NaN</td>\n",
       "      <td>NaN</td>\n",
       "      <td>NaN</td>\n",
       "      <td>24-Sep-21</td>\n",
       "      <td>2021</td>\n",
       "      <td>Feuds, flirtations and toilet talk go down amo...</td>\n",
       "    </tr>\n",
       "    <tr>\n",
       "      <th>4</th>\n",
       "      <td>s5</td>\n",
       "      <td>TV Show</td>\n",
       "      <td>Kota Factory</td>\n",
       "      <td>NaN</td>\n",
       "      <td>Mayur More, Jitendra Kumar, Ranjan Raj, Alam K...</td>\n",
       "      <td>India</td>\n",
       "      <td>24-Sep-21</td>\n",
       "      <td>2021</td>\n",
       "      <td>In a city of coaching centers known to train I...</td>\n",
       "    </tr>\n",
       "  </tbody>\n",
       "</table>\n",
       "</div>"
      ],
      "text/plain": [
       "  show_id     type                  title         director  \\\n",
       "0      s1    Movie   Dick Johnson Is Dead  Kirsten Johnson   \n",
       "1      s2  TV Show          Blood & Water              NaN   \n",
       "2      s3  TV Show              Ganglands  Julien Leclercq   \n",
       "3      s4  TV Show  Jailbirds New Orleans              NaN   \n",
       "4      s5  TV Show           Kota Factory              NaN   \n",
       "\n",
       "                                                cast        country  \\\n",
       "0                                                NaN  United States   \n",
       "1  Ama Qamata, Khosi Ngema, Gail Mabalane, Thaban...   South Africa   \n",
       "2  Sami Bouajila, Tracy Gotoas, Samuel Jouy, Nabi...            NaN   \n",
       "3                                                NaN            NaN   \n",
       "4  Mayur More, Jitendra Kumar, Ranjan Raj, Alam K...          India   \n",
       "\n",
       "  date_added  release_year                                        description  \n",
       "0  25-Sep-21          2020  As her father nears the end of his life, filmm...  \n",
       "1  24-Sep-21          2021  After crossing paths at a party, a Cape Town t...  \n",
       "2  24-Sep-21          2021  To protect his family from a powerful drug lor...  \n",
       "3  24-Sep-21          2021  Feuds, flirtations and toilet talk go down amo...  \n",
       "4  24-Sep-21          2021  In a city of coaching centers known to train I...  "
      ]
     },
     "execution_count": 403,
     "metadata": {},
     "output_type": "execute_result"
    }
   ],
   "source": [
    "df = pd.read_csv('movies-1.csv')\n",
    "df.head(5)"
   ]
  },
  {
   "cell_type": "code",
   "execution_count": 405,
   "id": "9c8ec676",
   "metadata": {},
   "outputs": [
    {
     "data": {
      "text/html": [
       "<div>\n",
       "<style scoped>\n",
       "    .dataframe tbody tr th:only-of-type {\n",
       "        vertical-align: middle;\n",
       "    }\n",
       "\n",
       "    .dataframe tbody tr th {\n",
       "        vertical-align: top;\n",
       "    }\n",
       "\n",
       "    .dataframe thead th {\n",
       "        text-align: right;\n",
       "    }\n",
       "</style>\n",
       "<table border=\"1\" class=\"dataframe\">\n",
       "  <thead>\n",
       "    <tr style=\"text-align: right;\">\n",
       "      <th></th>\n",
       "      <th>show_id</th>\n",
       "      <th>rating</th>\n",
       "      <th>duration</th>\n",
       "      <th>listed_in</th>\n",
       "      <th>score</th>\n",
       "      <th>votes</th>\n",
       "      <th>popularity</th>\n",
       "    </tr>\n",
       "  </thead>\n",
       "  <tbody>\n",
       "    <tr>\n",
       "      <th>0</th>\n",
       "      <td>s1</td>\n",
       "      <td>PG-13</td>\n",
       "      <td>90 min</td>\n",
       "      <td>Documentaries</td>\n",
       "      <td>7.4</td>\n",
       "      <td>6636</td>\n",
       "      <td>7.2</td>\n",
       "    </tr>\n",
       "    <tr>\n",
       "      <th>1</th>\n",
       "      <td>s2</td>\n",
       "      <td>TV-MA</td>\n",
       "      <td>2 Seasons</td>\n",
       "      <td>International TV Shows, TV Dramas, TV Mysteries</td>\n",
       "      <td>6.6</td>\n",
       "      <td>3180</td>\n",
       "      <td>6.3</td>\n",
       "    </tr>\n",
       "    <tr>\n",
       "      <th>2</th>\n",
       "      <td>s3</td>\n",
       "      <td>TV-MA</td>\n",
       "      <td>1 Season</td>\n",
       "      <td>Crime TV Shows, International TV Shows, TV Act...</td>\n",
       "      <td>7.0</td>\n",
       "      <td>2640</td>\n",
       "      <td>6.9</td>\n",
       "    </tr>\n",
       "    <tr>\n",
       "      <th>3</th>\n",
       "      <td>s4</td>\n",
       "      <td>TV-MA</td>\n",
       "      <td>1 Season</td>\n",
       "      <td>Docuseries, Reality TV</td>\n",
       "      <td>6.7</td>\n",
       "      <td>229</td>\n",
       "      <td>7.0</td>\n",
       "    </tr>\n",
       "    <tr>\n",
       "      <th>4</th>\n",
       "      <td>s5</td>\n",
       "      <td>TV-MA</td>\n",
       "      <td>2 Seasons</td>\n",
       "      <td>International TV Shows, Romantic TV Shows, TV ...</td>\n",
       "      <td>9.1</td>\n",
       "      <td>71138</td>\n",
       "      <td>9.4</td>\n",
       "    </tr>\n",
       "  </tbody>\n",
       "</table>\n",
       "</div>"
      ],
      "text/plain": [
       "  show_id rating   duration  \\\n",
       "0      s1  PG-13     90 min   \n",
       "1      s2  TV-MA  2 Seasons   \n",
       "2      s3  TV-MA   1 Season   \n",
       "3      s4  TV-MA   1 Season   \n",
       "4      s5  TV-MA  2 Seasons   \n",
       "\n",
       "                                           listed_in  score  votes  popularity  \n",
       "0                                      Documentaries    7.4   6636         7.2  \n",
       "1    International TV Shows, TV Dramas, TV Mysteries    6.6   3180         6.3  \n",
       "2  Crime TV Shows, International TV Shows, TV Act...    7.0   2640         6.9  \n",
       "3                             Docuseries, Reality TV    6.7    229         7.0  \n",
       "4  International TV Shows, Romantic TV Shows, TV ...    9.1  71138         9.4  "
      ]
     },
     "execution_count": 405,
     "metadata": {},
     "output_type": "execute_result"
    }
   ],
   "source": [
    "df_2 = pd.read_csv('movies-2.csv')\n",
    "df_2.head(5)"
   ]
  },
  {
   "cell_type": "code",
   "execution_count": null,
   "id": "9e6ead80",
   "metadata": {},
   "outputs": [],
   "source": []
  },
  {
   "cell_type": "markdown",
   "id": "7faa000b",
   "metadata": {},
   "source": [
    "Q1. Join datasets to include all the columns in both datasets (Hint: Find the common column to merge these datasets) <br>\n",
    "Display few records after joining. **(no explanation needed)**"
   ]
  },
  {
   "cell_type": "code",
   "execution_count": 409,
   "id": "891ae221",
   "metadata": {},
   "outputs": [
    {
     "data": {
      "text/html": [
       "<div>\n",
       "<style scoped>\n",
       "    .dataframe tbody tr th:only-of-type {\n",
       "        vertical-align: middle;\n",
       "    }\n",
       "\n",
       "    .dataframe tbody tr th {\n",
       "        vertical-align: top;\n",
       "    }\n",
       "\n",
       "    .dataframe thead th {\n",
       "        text-align: right;\n",
       "    }\n",
       "</style>\n",
       "<table border=\"1\" class=\"dataframe\">\n",
       "  <thead>\n",
       "    <tr style=\"text-align: right;\">\n",
       "      <th></th>\n",
       "      <th>show_id</th>\n",
       "      <th>type</th>\n",
       "      <th>title</th>\n",
       "      <th>director</th>\n",
       "      <th>cast</th>\n",
       "      <th>country</th>\n",
       "      <th>date_added</th>\n",
       "      <th>release_year</th>\n",
       "      <th>description</th>\n",
       "      <th>rating</th>\n",
       "      <th>duration</th>\n",
       "      <th>listed_in</th>\n",
       "      <th>score</th>\n",
       "      <th>votes</th>\n",
       "      <th>popularity</th>\n",
       "    </tr>\n",
       "  </thead>\n",
       "  <tbody>\n",
       "    <tr>\n",
       "      <th>0</th>\n",
       "      <td>s1</td>\n",
       "      <td>Movie</td>\n",
       "      <td>Dick Johnson Is Dead</td>\n",
       "      <td>Kirsten Johnson</td>\n",
       "      <td>NaN</td>\n",
       "      <td>United States</td>\n",
       "      <td>25-Sep-21</td>\n",
       "      <td>2020</td>\n",
       "      <td>As her father nears the end of his life, filmm...</td>\n",
       "      <td>PG-13</td>\n",
       "      <td>90 min</td>\n",
       "      <td>Documentaries</td>\n",
       "      <td>7.4</td>\n",
       "      <td>6636</td>\n",
       "      <td>7.2</td>\n",
       "    </tr>\n",
       "    <tr>\n",
       "      <th>1</th>\n",
       "      <td>s2</td>\n",
       "      <td>TV Show</td>\n",
       "      <td>Blood &amp; Water</td>\n",
       "      <td>NaN</td>\n",
       "      <td>Ama Qamata, Khosi Ngema, Gail Mabalane, Thaban...</td>\n",
       "      <td>South Africa</td>\n",
       "      <td>24-Sep-21</td>\n",
       "      <td>2021</td>\n",
       "      <td>After crossing paths at a party, a Cape Town t...</td>\n",
       "      <td>TV-MA</td>\n",
       "      <td>2 Seasons</td>\n",
       "      <td>International TV Shows, TV Dramas, TV Mysteries</td>\n",
       "      <td>6.6</td>\n",
       "      <td>3180</td>\n",
       "      <td>6.3</td>\n",
       "    </tr>\n",
       "    <tr>\n",
       "      <th>2</th>\n",
       "      <td>s3</td>\n",
       "      <td>TV Show</td>\n",
       "      <td>Ganglands</td>\n",
       "      <td>Julien Leclercq</td>\n",
       "      <td>Sami Bouajila, Tracy Gotoas, Samuel Jouy, Nabi...</td>\n",
       "      <td>NaN</td>\n",
       "      <td>24-Sep-21</td>\n",
       "      <td>2021</td>\n",
       "      <td>To protect his family from a powerful drug lor...</td>\n",
       "      <td>TV-MA</td>\n",
       "      <td>1 Season</td>\n",
       "      <td>Crime TV Shows, International TV Shows, TV Act...</td>\n",
       "      <td>7.0</td>\n",
       "      <td>2640</td>\n",
       "      <td>6.9</td>\n",
       "    </tr>\n",
       "    <tr>\n",
       "      <th>3</th>\n",
       "      <td>s4</td>\n",
       "      <td>TV Show</td>\n",
       "      <td>Jailbirds New Orleans</td>\n",
       "      <td>NaN</td>\n",
       "      <td>NaN</td>\n",
       "      <td>NaN</td>\n",
       "      <td>24-Sep-21</td>\n",
       "      <td>2021</td>\n",
       "      <td>Feuds, flirtations and toilet talk go down amo...</td>\n",
       "      <td>TV-MA</td>\n",
       "      <td>1 Season</td>\n",
       "      <td>Docuseries, Reality TV</td>\n",
       "      <td>6.7</td>\n",
       "      <td>229</td>\n",
       "      <td>7.0</td>\n",
       "    </tr>\n",
       "    <tr>\n",
       "      <th>4</th>\n",
       "      <td>s5</td>\n",
       "      <td>TV Show</td>\n",
       "      <td>Kota Factory</td>\n",
       "      <td>NaN</td>\n",
       "      <td>Mayur More, Jitendra Kumar, Ranjan Raj, Alam K...</td>\n",
       "      <td>India</td>\n",
       "      <td>24-Sep-21</td>\n",
       "      <td>2021</td>\n",
       "      <td>In a city of coaching centers known to train I...</td>\n",
       "      <td>TV-MA</td>\n",
       "      <td>2 Seasons</td>\n",
       "      <td>International TV Shows, Romantic TV Shows, TV ...</td>\n",
       "      <td>9.1</td>\n",
       "      <td>71138</td>\n",
       "      <td>9.4</td>\n",
       "    </tr>\n",
       "  </tbody>\n",
       "</table>\n",
       "</div>"
      ],
      "text/plain": [
       "  show_id     type                  title         director  \\\n",
       "0      s1    Movie   Dick Johnson Is Dead  Kirsten Johnson   \n",
       "1      s2  TV Show          Blood & Water              NaN   \n",
       "2      s3  TV Show              Ganglands  Julien Leclercq   \n",
       "3      s4  TV Show  Jailbirds New Orleans              NaN   \n",
       "4      s5  TV Show           Kota Factory              NaN   \n",
       "\n",
       "                                                cast        country  \\\n",
       "0                                                NaN  United States   \n",
       "1  Ama Qamata, Khosi Ngema, Gail Mabalane, Thaban...   South Africa   \n",
       "2  Sami Bouajila, Tracy Gotoas, Samuel Jouy, Nabi...            NaN   \n",
       "3                                                NaN            NaN   \n",
       "4  Mayur More, Jitendra Kumar, Ranjan Raj, Alam K...          India   \n",
       "\n",
       "  date_added  release_year                                        description  \\\n",
       "0  25-Sep-21          2020  As her father nears the end of his life, filmm...   \n",
       "1  24-Sep-21          2021  After crossing paths at a party, a Cape Town t...   \n",
       "2  24-Sep-21          2021  To protect his family from a powerful drug lor...   \n",
       "3  24-Sep-21          2021  Feuds, flirtations and toilet talk go down amo...   \n",
       "4  24-Sep-21          2021  In a city of coaching centers known to train I...   \n",
       "\n",
       "  rating   duration                                          listed_in  score  \\\n",
       "0  PG-13     90 min                                      Documentaries    7.4   \n",
       "1  TV-MA  2 Seasons    International TV Shows, TV Dramas, TV Mysteries    6.6   \n",
       "2  TV-MA   1 Season  Crime TV Shows, International TV Shows, TV Act...    7.0   \n",
       "3  TV-MA   1 Season                             Docuseries, Reality TV    6.7   \n",
       "4  TV-MA  2 Seasons  International TV Shows, Romantic TV Shows, TV ...    9.1   \n",
       "\n",
       "   votes  popularity  \n",
       "0   6636         7.2  \n",
       "1   3180         6.3  \n",
       "2   2640         6.9  \n",
       "3    229         7.0  \n",
       "4  71138         9.4  "
      ]
     },
     "execution_count": 409,
     "metadata": {},
     "output_type": "execute_result"
    }
   ],
   "source": [
    "# merged_df = pd.merge(df3, df_2[['id', 'stroke']], on='id', how='inner')\n",
    "df_merged = pd.merge(df, df_2, on='show_id', how='inner') #this ensures even that those with incomplete info doesn't get included\n",
    "df_merged.head(5)"
   ]
  },
  {
   "cell_type": "markdown",
   "id": "6fdf0e9f",
   "metadata": {},
   "source": [
    "Q2. Display the number of rows/columns and data types of each column **(no explanation needed)**"
   ]
  },
  {
   "cell_type": "code",
   "execution_count": 412,
   "id": "1ca1d081",
   "metadata": {},
   "outputs": [
    {
     "data": {
      "text/plain": [
       "(8810, 15)"
      ]
     },
     "execution_count": 412,
     "metadata": {},
     "output_type": "execute_result"
    }
   ],
   "source": [
    "df_merged.shape"
   ]
  },
  {
   "cell_type": "markdown",
   "id": "1bb35490-59f4-4e48-ac88-fb09b92bd05d",
   "metadata": {},
   "source": [
    "8810 columns and 15 rows"
   ]
  },
  {
   "cell_type": "code",
   "execution_count": 415,
   "id": "9e879d65-481e-4216-9965-7084ff87ad0e",
   "metadata": {},
   "outputs": [
    {
     "data": {
      "text/plain": [
       "show_id          object\n",
       "type             object\n",
       "title            object\n",
       "director         object\n",
       "cast             object\n",
       "country          object\n",
       "date_added       object\n",
       "release_year      int64\n",
       "description      object\n",
       "rating           object\n",
       "duration         object\n",
       "listed_in        object\n",
       "score           float64\n",
       "votes             int64\n",
       "popularity      float64\n",
       "dtype: object"
      ]
     },
     "execution_count": 415,
     "metadata": {},
     "output_type": "execute_result"
    }
   ],
   "source": [
    "df_merged.dtypes"
   ]
  },
  {
   "cell_type": "code",
   "execution_count": null,
   "id": "b7c82b59-daef-4ca9-9d08-8f3833899c89",
   "metadata": {},
   "outputs": [],
   "source": []
  },
  {
   "cell_type": "markdown",
   "id": "06c8eaaa",
   "metadata": {},
   "source": [
    "Q3. Find and display if there are duplicates in the dataset. If yes, then in the next step, remove the duplicates and display the number of rows/columns again. **(no explanation needed)**"
   ]
  },
  {
   "cell_type": "code",
   "execution_count": 419,
   "id": "a750f9fe",
   "metadata": {},
   "outputs": [
    {
     "name": "stdout",
     "output_type": "stream",
     "text": [
      "number of duplicate rows:  (3, 15)\n"
     ]
    }
   ],
   "source": [
    "duplicate_rows_df = df_merged[df_merged.duplicated()]\n",
    "print(\"number of duplicate rows: \", duplicate_rows_df.shape)"
   ]
  },
  {
   "cell_type": "code",
   "execution_count": 421,
   "id": "14430982",
   "metadata": {},
   "outputs": [
    {
     "data": {
      "text/plain": [
       "3"
      ]
     },
     "execution_count": 421,
     "metadata": {},
     "output_type": "execute_result"
    }
   ],
   "source": [
    "sum(df.duplicated())"
   ]
  },
  {
   "cell_type": "code",
   "execution_count": 423,
   "id": "02624e37",
   "metadata": {},
   "outputs": [
    {
     "data": {
      "text/plain": [
       "0"
      ]
     },
     "execution_count": 423,
     "metadata": {},
     "output_type": "execute_result"
    }
   ],
   "source": [
    "df2 = df_merged.drop_duplicates()\n",
    "sum(df2.duplicated())"
   ]
  },
  {
   "cell_type": "markdown",
   "id": "e61bb12a",
   "metadata": {},
   "source": [
    "Q4. Find all the columns with missing values by displaying the total number of missing records for each column.**(no explanation needed)**"
   ]
  },
  {
   "cell_type": "code",
   "execution_count": 426,
   "id": "6dc7b68e",
   "metadata": {},
   "outputs": [
    {
     "data": {
      "text/plain": [
       "show_id            0\n",
       "type               0\n",
       "title              0\n",
       "director        2634\n",
       "cast             825\n",
       "country          831\n",
       "date_added        10\n",
       "release_year       0\n",
       "description        0\n",
       "rating             4\n",
       "duration           3\n",
       "listed_in          0\n",
       "score              0\n",
       "votes              0\n",
       "popularity         0\n",
       "dtype: int64"
      ]
     },
     "execution_count": 426,
     "metadata": {},
     "output_type": "execute_result"
    }
   ],
   "source": [
    "df2.isnull().sum()"
   ]
  },
  {
   "cell_type": "code",
   "execution_count": null,
   "id": "89cdc9d4",
   "metadata": {},
   "outputs": [],
   "source": []
  },
  {
   "cell_type": "markdown",
   "id": "83b1e685",
   "metadata": {},
   "source": [
    "Q5. If there are missing values in any column, replace it with value \"Unknown\" (except duration column). <br>\n",
    "Replace \"duration\" column missing values with \"0 mins\". <br>\n",
    "Display the total number of missing values again to show that there are no missing values exist. **(no explanation needed)**"
   ]
  },
  {
   "cell_type": "code",
   "execution_count": 430,
   "id": "912ce656",
   "metadata": {},
   "outputs": [
    {
     "name": "stderr",
     "output_type": "stream",
     "text": [
      "C:\\Users\\DELL\\AppData\\Local\\Temp\\ipykernel_27280\\2660887015.py:11: SettingWithCopyWarning: \n",
      "A value is trying to be set on a copy of a slice from a DataFrame.\n",
      "Try using .loc[row_indexer,col_indexer] = value instead\n",
      "\n",
      "See the caveats in the documentation: https://pandas.pydata.org/pandas-docs/stable/user_guide/indexing.html#returning-a-view-versus-a-copy\n",
      "  df2[columns_to_fill] = df2[columns_to_fill].fillna(\"unknown\")\n"
     ]
    },
    {
     "data": {
      "text/plain": [
       "show_id         0\n",
       "type            0\n",
       "title           0\n",
       "director        0\n",
       "cast            0\n",
       "country         0\n",
       "date_added      0\n",
       "release_year    0\n",
       "description     0\n",
       "rating          0\n",
       "duration        3\n",
       "listed_in       0\n",
       "score           0\n",
       "votes           0\n",
       "popularity      0\n",
       "dtype: int64"
      ]
     },
     "execution_count": 430,
     "metadata": {},
     "output_type": "execute_result"
    }
   ],
   "source": [
    "# df3['smoking_status'] = df3['smoking_status'].replace('?', 'unknown')\n",
    "# loc is a more safer way, iloc is indexing focused.\n",
    "# df2.loc[:, 'director'] = df2['director'].replace('', 'Unknown')\n",
    "# df2.loc[:, 'cast'] = df2['cast'].replace('', 'Unknown')\n",
    "# df2.loc[:, 'country'] = df2['country'].replace('', 'Unknown')\n",
    "# df2.loc[:, 'date_added'] = df2['date_added'].replace('', 'Unknown')\n",
    "# df2.loc[:, 'duration'] = df2['duration'].replace('', '0 mins')\n",
    "\n",
    "\n",
    "columns_to_fill = ['director', 'cast', 'country' , 'rating', 'date_added']\n",
    "df2[columns_to_fill] = df2[columns_to_fill].fillna(\"unknown\")\n",
    "# Display the updated DataFrame\n",
    "df2.isnull().sum()\n",
    "\n"
   ]
  },
  {
   "cell_type": "code",
   "execution_count": 432,
   "id": "38ba1631-8b7d-429b-ab45-85e1c851f4e8",
   "metadata": {},
   "outputs": [
    {
     "name": "stderr",
     "output_type": "stream",
     "text": [
      "C:\\Users\\DELL\\AppData\\Local\\Temp\\ipykernel_27280\\4157726426.py:1: SettingWithCopyWarning: \n",
      "A value is trying to be set on a copy of a slice from a DataFrame.\n",
      "Try using .loc[row_indexer,col_indexer] = value instead\n",
      "\n",
      "See the caveats in the documentation: https://pandas.pydata.org/pandas-docs/stable/user_guide/indexing.html#returning-a-view-versus-a-copy\n",
      "  df2['duration'] = df2['duration'].fillna('0 mins')\n"
     ]
    },
    {
     "data": {
      "text/plain": [
       "show_id         0\n",
       "type            0\n",
       "title           0\n",
       "director        0\n",
       "cast            0\n",
       "country         0\n",
       "date_added      0\n",
       "release_year    0\n",
       "description     0\n",
       "rating          0\n",
       "duration        0\n",
       "listed_in       0\n",
       "score           0\n",
       "votes           0\n",
       "popularity      0\n",
       "dtype: int64"
      ]
     },
     "execution_count": 432,
     "metadata": {},
     "output_type": "execute_result"
    }
   ],
   "source": [
    "df2['duration'] = df2['duration'].fillna('0 mins')\n",
    "df2.isnull().sum()"
   ]
  },
  {
   "cell_type": "code",
   "execution_count": null,
   "id": "c03d545c",
   "metadata": {},
   "outputs": [],
   "source": []
  },
  {
   "cell_type": "markdown",
   "id": "a532f704",
   "metadata": {},
   "source": [
    "Q6. Count the number of records for each rating. Do you see any issues in rating values? **Please discuss/explain your findings**"
   ]
  },
  {
   "cell_type": "code",
   "execution_count": 436,
   "id": "19cde022",
   "metadata": {},
   "outputs": [
    {
     "data": {
      "text/plain": [
       "rating\n",
       "TV-MA       3207\n",
       "TV-14       2160\n",
       "TV-PG        863\n",
       "R            799\n",
       "PG-13        490\n",
       "TV-Y7        334\n",
       "TV-Y         307\n",
       "PG           287\n",
       "TV-G         220\n",
       "NR            80\n",
       "G             41\n",
       "TV-Y7-FV       6\n",
       "unknown        4\n",
       "NC-17          3\n",
       "UR             3\n",
       "74 min         1\n",
       "84 min         1\n",
       "66 min         1\n",
       "Name: count, dtype: int64"
      ]
     },
     "execution_count": 436,
     "metadata": {},
     "output_type": "execute_result"
    }
   ],
   "source": [
    "df2['rating'].value_counts()"
   ]
  },
  {
   "cell_type": "markdown",
   "id": "0b2057c1-7d03-4a8e-b2ad-b168f722d838",
   "metadata": {},
   "source": [
    "Yes, there are some issues to be observed here. Why are there entries with the name of \"74 min\",  \"84 min\" and \"66 min\" in rating section. And only 1 entry of them exists, I am assuming there was a human error when making an entry!"
   ]
  },
  {
   "cell_type": "markdown",
   "id": "735112b5",
   "metadata": {},
   "source": [
    "Q7. Find the percentage of records released in 2018. (Hint: use column **release_year**) **(no explanation needed)**"
   ]
  },
  {
   "cell_type": "code",
   "execution_count": 440,
   "id": "dde3a67e-8a69-483d-b900-6ce730efbc40",
   "metadata": {},
   "outputs": [
    {
     "data": {
      "text/plain": [
       "release_year\n",
       "2018    1147\n",
       "2017    1032\n",
       "2019    1030\n",
       "2020     953\n",
       "2016     902\n",
       "        ... \n",
       "1959       1\n",
       "1925       1\n",
       "1961       1\n",
       "1947       1\n",
       "1966       1\n",
       "Name: count, Length: 74, dtype: int64"
      ]
     },
     "execution_count": 440,
     "metadata": {},
     "output_type": "execute_result"
    }
   ],
   "source": [
    "df2['release_year'].value_counts()"
   ]
  },
  {
   "cell_type": "code",
   "execution_count": 442,
   "id": "b624fa55",
   "metadata": {},
   "outputs": [
    {
     "data": {
      "text/plain": [
       "8807"
      ]
     },
     "execution_count": 442,
     "metadata": {},
     "output_type": "execute_result"
    }
   ],
   "source": [
    "Total_Count = df2['release_year'].count()\n",
    "Total_Count"
   ]
  },
  {
   "cell_type": "code",
   "execution_count": 444,
   "id": "c8856821",
   "metadata": {},
   "outputs": [
    {
     "data": {
      "text/plain": [
       "1147"
      ]
     },
     "execution_count": 444,
     "metadata": {},
     "output_type": "execute_result"
    }
   ],
   "source": [
    "Records_in_2018 = df2['release_year'].value_counts().get(2018)\n",
    "Records_in_2018"
   ]
  },
  {
   "cell_type": "code",
   "execution_count": 446,
   "id": "24304bad",
   "metadata": {},
   "outputs": [
    {
     "name": "stdout",
     "output_type": "stream",
     "text": [
      "Percentage of Records released in 2018: 13.02%\n"
     ]
    }
   ],
   "source": [
    "Percentage_of_2018_Records = (Records_in_2018/Total_Count) * 100\n",
    "print(f\"Percentage of Records released in 2018: {Percentage_of_2018_Records:.2f}%\")"
   ]
  },
  {
   "cell_type": "markdown",
   "id": "ee6cf83c",
   "metadata": {},
   "source": [
    "Q8. Split the **\"duration\"** column and create two new columns **\"minutes\"** and **\"unit\"** based on the duration value. Display few results. **(no explanation needed)**"
   ]
  },
  {
   "cell_type": "code",
   "execution_count": 449,
   "id": "d6917529",
   "metadata": {},
   "outputs": [
    {
     "data": {
      "text/plain": [
       "0       90 min\n",
       "1    2 Seasons\n",
       "2     1 Season\n",
       "3     1 Season\n",
       "4    2 Seasons\n",
       "5     1 Season\n",
       "6       91 min\n",
       "7      125 min\n",
       "8    9 Seasons\n",
       "9      104 min\n",
       "Name: duration, dtype: object"
      ]
     },
     "execution_count": 449,
     "metadata": {},
     "output_type": "execute_result"
    }
   ],
   "source": [
    "df2['duration'].head(10)"
   ]
  },
  {
   "cell_type": "code",
   "execution_count": 451,
   "id": "e680150c",
   "metadata": {},
   "outputs": [
    {
     "name": "stderr",
     "output_type": "stream",
     "text": [
      "C:\\Users\\DELL\\AppData\\Local\\Temp\\ipykernel_27280\\987864370.py:3: SettingWithCopyWarning: \n",
      "A value is trying to be set on a copy of a slice from a DataFrame.\n",
      "Try using .loc[row_indexer,col_indexer] = value instead\n",
      "\n",
      "See the caveats in the documentation: https://pandas.pydata.org/pandas-docs/stable/user_guide/indexing.html#returning-a-view-versus-a-copy\n",
      "  df3[['minutes', 'unit']] = df3['duration'].str.extract(r'(\\d+)\\s*(\\w+)', expand=True)\n",
      "C:\\Users\\DELL\\AppData\\Local\\Temp\\ipykernel_27280\\987864370.py:3: SettingWithCopyWarning: \n",
      "A value is trying to be set on a copy of a slice from a DataFrame.\n",
      "Try using .loc[row_indexer,col_indexer] = value instead\n",
      "\n",
      "See the caveats in the documentation: https://pandas.pydata.org/pandas-docs/stable/user_guide/indexing.html#returning-a-view-versus-a-copy\n",
      "  df3[['minutes', 'unit']] = df3['duration'].str.extract(r'(\\d+)\\s*(\\w+)', expand=True)\n"
     ]
    },
    {
     "data": {
      "text/html": [
       "<div>\n",
       "<style scoped>\n",
       "    .dataframe tbody tr th:only-of-type {\n",
       "        vertical-align: middle;\n",
       "    }\n",
       "\n",
       "    .dataframe tbody tr th {\n",
       "        vertical-align: top;\n",
       "    }\n",
       "\n",
       "    .dataframe thead th {\n",
       "        text-align: right;\n",
       "    }\n",
       "</style>\n",
       "<table border=\"1\" class=\"dataframe\">\n",
       "  <thead>\n",
       "    <tr style=\"text-align: right;\">\n",
       "      <th></th>\n",
       "      <th>show_id</th>\n",
       "      <th>type</th>\n",
       "      <th>title</th>\n",
       "      <th>director</th>\n",
       "      <th>cast</th>\n",
       "      <th>country</th>\n",
       "      <th>date_added</th>\n",
       "      <th>release_year</th>\n",
       "      <th>description</th>\n",
       "      <th>rating</th>\n",
       "      <th>duration</th>\n",
       "      <th>listed_in</th>\n",
       "      <th>score</th>\n",
       "      <th>votes</th>\n",
       "      <th>popularity</th>\n",
       "      <th>minutes</th>\n",
       "      <th>unit</th>\n",
       "    </tr>\n",
       "  </thead>\n",
       "  <tbody>\n",
       "    <tr>\n",
       "      <th>0</th>\n",
       "      <td>s1</td>\n",
       "      <td>Movie</td>\n",
       "      <td>Dick Johnson Is Dead</td>\n",
       "      <td>Kirsten Johnson</td>\n",
       "      <td>unknown</td>\n",
       "      <td>United States</td>\n",
       "      <td>25-Sep-21</td>\n",
       "      <td>2020</td>\n",
       "      <td>As her father nears the end of his life, filmm...</td>\n",
       "      <td>PG-13</td>\n",
       "      <td>90 min</td>\n",
       "      <td>Documentaries</td>\n",
       "      <td>7.4</td>\n",
       "      <td>6636</td>\n",
       "      <td>7.2</td>\n",
       "      <td>90</td>\n",
       "      <td>min</td>\n",
       "    </tr>\n",
       "    <tr>\n",
       "      <th>1</th>\n",
       "      <td>s2</td>\n",
       "      <td>TV Show</td>\n",
       "      <td>Blood &amp; Water</td>\n",
       "      <td>unknown</td>\n",
       "      <td>Ama Qamata, Khosi Ngema, Gail Mabalane, Thaban...</td>\n",
       "      <td>South Africa</td>\n",
       "      <td>24-Sep-21</td>\n",
       "      <td>2021</td>\n",
       "      <td>After crossing paths at a party, a Cape Town t...</td>\n",
       "      <td>TV-MA</td>\n",
       "      <td>2 Seasons</td>\n",
       "      <td>International TV Shows, TV Dramas, TV Mysteries</td>\n",
       "      <td>6.6</td>\n",
       "      <td>3180</td>\n",
       "      <td>6.3</td>\n",
       "      <td>2</td>\n",
       "      <td>Seasons</td>\n",
       "    </tr>\n",
       "    <tr>\n",
       "      <th>2</th>\n",
       "      <td>s3</td>\n",
       "      <td>TV Show</td>\n",
       "      <td>Ganglands</td>\n",
       "      <td>Julien Leclercq</td>\n",
       "      <td>Sami Bouajila, Tracy Gotoas, Samuel Jouy, Nabi...</td>\n",
       "      <td>unknown</td>\n",
       "      <td>24-Sep-21</td>\n",
       "      <td>2021</td>\n",
       "      <td>To protect his family from a powerful drug lor...</td>\n",
       "      <td>TV-MA</td>\n",
       "      <td>1 Season</td>\n",
       "      <td>Crime TV Shows, International TV Shows, TV Act...</td>\n",
       "      <td>7.0</td>\n",
       "      <td>2640</td>\n",
       "      <td>6.9</td>\n",
       "      <td>1</td>\n",
       "      <td>Season</td>\n",
       "    </tr>\n",
       "    <tr>\n",
       "      <th>3</th>\n",
       "      <td>s4</td>\n",
       "      <td>TV Show</td>\n",
       "      <td>Jailbirds New Orleans</td>\n",
       "      <td>unknown</td>\n",
       "      <td>unknown</td>\n",
       "      <td>unknown</td>\n",
       "      <td>24-Sep-21</td>\n",
       "      <td>2021</td>\n",
       "      <td>Feuds, flirtations and toilet talk go down amo...</td>\n",
       "      <td>TV-MA</td>\n",
       "      <td>1 Season</td>\n",
       "      <td>Docuseries, Reality TV</td>\n",
       "      <td>6.7</td>\n",
       "      <td>229</td>\n",
       "      <td>7.0</td>\n",
       "      <td>1</td>\n",
       "      <td>Season</td>\n",
       "    </tr>\n",
       "    <tr>\n",
       "      <th>4</th>\n",
       "      <td>s5</td>\n",
       "      <td>TV Show</td>\n",
       "      <td>Kota Factory</td>\n",
       "      <td>unknown</td>\n",
       "      <td>Mayur More, Jitendra Kumar, Ranjan Raj, Alam K...</td>\n",
       "      <td>India</td>\n",
       "      <td>24-Sep-21</td>\n",
       "      <td>2021</td>\n",
       "      <td>In a city of coaching centers known to train I...</td>\n",
       "      <td>TV-MA</td>\n",
       "      <td>2 Seasons</td>\n",
       "      <td>International TV Shows, Romantic TV Shows, TV ...</td>\n",
       "      <td>9.1</td>\n",
       "      <td>71138</td>\n",
       "      <td>9.4</td>\n",
       "      <td>2</td>\n",
       "      <td>Seasons</td>\n",
       "    </tr>\n",
       "  </tbody>\n",
       "</table>\n",
       "</div>"
      ],
      "text/plain": [
       "  show_id     type                  title         director  \\\n",
       "0      s1    Movie   Dick Johnson Is Dead  Kirsten Johnson   \n",
       "1      s2  TV Show          Blood & Water          unknown   \n",
       "2      s3  TV Show              Ganglands  Julien Leclercq   \n",
       "3      s4  TV Show  Jailbirds New Orleans          unknown   \n",
       "4      s5  TV Show           Kota Factory          unknown   \n",
       "\n",
       "                                                cast        country  \\\n",
       "0                                            unknown  United States   \n",
       "1  Ama Qamata, Khosi Ngema, Gail Mabalane, Thaban...   South Africa   \n",
       "2  Sami Bouajila, Tracy Gotoas, Samuel Jouy, Nabi...        unknown   \n",
       "3                                            unknown        unknown   \n",
       "4  Mayur More, Jitendra Kumar, Ranjan Raj, Alam K...          India   \n",
       "\n",
       "  date_added  release_year                                        description  \\\n",
       "0  25-Sep-21          2020  As her father nears the end of his life, filmm...   \n",
       "1  24-Sep-21          2021  After crossing paths at a party, a Cape Town t...   \n",
       "2  24-Sep-21          2021  To protect his family from a powerful drug lor...   \n",
       "3  24-Sep-21          2021  Feuds, flirtations and toilet talk go down amo...   \n",
       "4  24-Sep-21          2021  In a city of coaching centers known to train I...   \n",
       "\n",
       "  rating   duration                                          listed_in  score  \\\n",
       "0  PG-13     90 min                                      Documentaries    7.4   \n",
       "1  TV-MA  2 Seasons    International TV Shows, TV Dramas, TV Mysteries    6.6   \n",
       "2  TV-MA   1 Season  Crime TV Shows, International TV Shows, TV Act...    7.0   \n",
       "3  TV-MA   1 Season                             Docuseries, Reality TV    6.7   \n",
       "4  TV-MA  2 Seasons  International TV Shows, Romantic TV Shows, TV ...    9.1   \n",
       "\n",
       "   votes  popularity minutes     unit  \n",
       "0   6636         7.2      90      min  \n",
       "1   3180         6.3       2  Seasons  \n",
       "2   2640         6.9       1   Season  \n",
       "3    229         7.0       1   Season  \n",
       "4  71138         9.4       2  Seasons  "
      ]
     },
     "execution_count": 451,
     "metadata": {},
     "output_type": "execute_result"
    }
   ],
   "source": [
    "df3 = df2\n",
    "df3.loc[:, 'duration'] = df3['duration'].astype(str)\n",
    "df3[['minutes', 'unit']] = df3['duration'].str.extract(r'(\\d+)\\s*(\\w+)', expand=True)\n",
    "df3.head()"
   ]
  },
  {
   "cell_type": "code",
   "execution_count": null,
   "id": "61b8bfa7",
   "metadata": {},
   "outputs": [],
   "source": []
  },
  {
   "cell_type": "markdown",
   "id": "bf6d5573",
   "metadata": {},
   "source": [
    "Q9. Find the maximum duration in column **\"minutes\"** (Hint: check for the data type for column \"minute\" column and convert accordingly). **(no explanation needed)**"
   ]
  },
  {
   "cell_type": "code",
   "execution_count": 455,
   "id": "c8dc0b9b",
   "metadata": {},
   "outputs": [
    {
     "data": {
      "text/plain": [
       "312"
      ]
     },
     "execution_count": 455,
     "metadata": {},
     "output_type": "execute_result"
    }
   ],
   "source": [
    "df3.loc[:, 'minutes'] = pd.to_numeric(df3['minutes'], errors='coerce')\n",
    "max_duration = df3['minutes'].max()\n",
    "max_duration"
   ]
  },
  {
   "cell_type": "code",
   "execution_count": null,
   "id": "3b663fa8",
   "metadata": {},
   "outputs": [],
   "source": []
  },
  {
   "cell_type": "code",
   "execution_count": null,
   "id": "efcf94b2",
   "metadata": {},
   "outputs": [],
   "source": []
  },
  {
   "cell_type": "markdown",
   "id": "ec3f2548",
   "metadata": {},
   "source": [
    "Q10. Find all the records which have minutes greater than 200. Display the records and report the total number of records. **(no explanation needed)**"
   ]
  },
  {
   "cell_type": "code",
   "execution_count": 460,
   "id": "87585466",
   "metadata": {},
   "outputs": [
    {
     "data": {
      "text/html": [
       "<div>\n",
       "<style scoped>\n",
       "    .dataframe tbody tr th:only-of-type {\n",
       "        vertical-align: middle;\n",
       "    }\n",
       "\n",
       "    .dataframe tbody tr th {\n",
       "        vertical-align: top;\n",
       "    }\n",
       "\n",
       "    .dataframe thead th {\n",
       "        text-align: right;\n",
       "    }\n",
       "</style>\n",
       "<table border=\"1\" class=\"dataframe\">\n",
       "  <thead>\n",
       "    <tr style=\"text-align: right;\">\n",
       "      <th></th>\n",
       "      <th>show_id</th>\n",
       "      <th>type</th>\n",
       "      <th>title</th>\n",
       "      <th>director</th>\n",
       "      <th>cast</th>\n",
       "      <th>country</th>\n",
       "      <th>date_added</th>\n",
       "      <th>release_year</th>\n",
       "      <th>description</th>\n",
       "      <th>rating</th>\n",
       "      <th>duration</th>\n",
       "      <th>listed_in</th>\n",
       "      <th>score</th>\n",
       "      <th>votes</th>\n",
       "      <th>popularity</th>\n",
       "      <th>minutes</th>\n",
       "      <th>unit</th>\n",
       "    </tr>\n",
       "  </thead>\n",
       "  <tbody>\n",
       "    <tr>\n",
       "      <th>166</th>\n",
       "      <td>s167</td>\n",
       "      <td>Movie</td>\n",
       "      <td>Once Upon a Time in America</td>\n",
       "      <td>Sergio Leone</td>\n",
       "      <td>Robert De Niro, James Woods, Elizabeth McGover...</td>\n",
       "      <td>Italy, United States</td>\n",
       "      <td>1-Sep-21</td>\n",
       "      <td>1984</td>\n",
       "      <td>Director Sergio Leone's sprawling crime epic f...</td>\n",
       "      <td>R</td>\n",
       "      <td>229 min</td>\n",
       "      <td>Classic Movies, Dramas</td>\n",
       "      <td>4.2</td>\n",
       "      <td>22120</td>\n",
       "      <td>4.4</td>\n",
       "      <td>229</td>\n",
       "      <td>min</td>\n",
       "    </tr>\n",
       "    <tr>\n",
       "      <th>717</th>\n",
       "      <td>s718</td>\n",
       "      <td>Movie</td>\n",
       "      <td>Headspace: Unwind Your Mind</td>\n",
       "      <td>unknown</td>\n",
       "      <td>Andy Puddicombe, Evelyn Lewis Prieto, Ginger D...</td>\n",
       "      <td>unknown</td>\n",
       "      <td>15-Jun-21</td>\n",
       "      <td>2021</td>\n",
       "      <td>Do you want to relax, meditate or sleep deeply...</td>\n",
       "      <td>TV-G</td>\n",
       "      <td>273 min</td>\n",
       "      <td>Documentaries</td>\n",
       "      <td>7.1</td>\n",
       "      <td>155</td>\n",
       "      <td>7.3</td>\n",
       "      <td>273</td>\n",
       "      <td>min</td>\n",
       "    </tr>\n",
       "    <tr>\n",
       "      <th>806</th>\n",
       "      <td>s807</td>\n",
       "      <td>Movie</td>\n",
       "      <td>Seven Souls in the Skull Castle: Season Moon J...</td>\n",
       "      <td>Hidenori Inoue</td>\n",
       "      <td>Sota Fukushi, Taichi Saotome, Shohei Miura, Ke...</td>\n",
       "      <td>unknown</td>\n",
       "      <td>2-Jun-21</td>\n",
       "      <td>2017</td>\n",
       "      <td>Japan, 1590. Wandering samurai band together t...</td>\n",
       "      <td>TV-14</td>\n",
       "      <td>204 min</td>\n",
       "      <td>Action &amp; Adventure, Dramas, International Movies</td>\n",
       "      <td>6.1</td>\n",
       "      <td>22579</td>\n",
       "      <td>5.9</td>\n",
       "      <td>204</td>\n",
       "      <td>min</td>\n",
       "    </tr>\n",
       "    <tr>\n",
       "      <th>807</th>\n",
       "      <td>s808</td>\n",
       "      <td>Movie</td>\n",
       "      <td>Seven Souls in the Skull Castle: Season Moon K...</td>\n",
       "      <td>Hidenori Inoue</td>\n",
       "      <td>Mamoru Miyano, Hiroki Suzuki, Tomoki Hirose, R...</td>\n",
       "      <td>unknown</td>\n",
       "      <td>2-Jun-21</td>\n",
       "      <td>2017</td>\n",
       "      <td>Japan, 1590. Wandering samurai band together t...</td>\n",
       "      <td>TV-PG</td>\n",
       "      <td>212 min</td>\n",
       "      <td>Action &amp; Adventure, Dramas, International Movies</td>\n",
       "      <td>6.8</td>\n",
       "      <td>13945</td>\n",
       "      <td>6.9</td>\n",
       "      <td>212</td>\n",
       "      <td>min</td>\n",
       "    </tr>\n",
       "    <tr>\n",
       "      <th>1019</th>\n",
       "      <td>s1020</td>\n",
       "      <td>Movie</td>\n",
       "      <td>Lagaan</td>\n",
       "      <td>Ashutosh Gowariker</td>\n",
       "      <td>Aamir Khan, Gracy Singh, Rachel Shelley, Paul ...</td>\n",
       "      <td>India, United Kingdom</td>\n",
       "      <td>17-Apr-21</td>\n",
       "      <td>2001</td>\n",
       "      <td>In 1890s India, an arrogant British commander ...</td>\n",
       "      <td>PG</td>\n",
       "      <td>224 min</td>\n",
       "      <td>Dramas, International Movies, Music &amp; Musicals</td>\n",
       "      <td>6.7</td>\n",
       "      <td>14523</td>\n",
       "      <td>6.9</td>\n",
       "      <td>224</td>\n",
       "      <td>min</td>\n",
       "    </tr>\n",
       "    <tr>\n",
       "      <th>2126</th>\n",
       "      <td>s2127</td>\n",
       "      <td>Movie</td>\n",
       "      <td>What's Your Raashee?</td>\n",
       "      <td>Ashutosh Gowariker</td>\n",
       "      <td>Harman Baweja, Priyanka Chopra, Manju Singh, A...</td>\n",
       "      <td>India</td>\n",
       "      <td>15-Aug-20</td>\n",
       "      <td>2009</td>\n",
       "      <td>To protect his family from ruin, Yogesh must m...</td>\n",
       "      <td>TV-PG</td>\n",
       "      <td>203 min</td>\n",
       "      <td>Comedies, International Movies, Music &amp; Musicals</td>\n",
       "      <td>6.0</td>\n",
       "      <td>13553</td>\n",
       "      <td>6.4</td>\n",
       "      <td>203</td>\n",
       "      <td>min</td>\n",
       "    </tr>\n",
       "    <tr>\n",
       "      <th>2483</th>\n",
       "      <td>s2484</td>\n",
       "      <td>Movie</td>\n",
       "      <td>Fifty Year Old Teenager</td>\n",
       "      <td>Fouad Al Shatti</td>\n",
       "      <td>Abdulhussain Abdulredah, Haifaa Adel, Dawood H...</td>\n",
       "      <td>unknown</td>\n",
       "      <td>21-May-20</td>\n",
       "      <td>1996</td>\n",
       "      <td>The life of a married 50-year-old doctor turns...</td>\n",
       "      <td>TV-14</td>\n",
       "      <td>204 min</td>\n",
       "      <td>Comedies, International Movies</td>\n",
       "      <td>6.1</td>\n",
       "      <td>7778</td>\n",
       "      <td>6.4</td>\n",
       "      <td>204</td>\n",
       "      <td>min</td>\n",
       "    </tr>\n",
       "    <tr>\n",
       "      <th>2484</th>\n",
       "      <td>s2485</td>\n",
       "      <td>Movie</td>\n",
       "      <td>Lock Your Girls In</td>\n",
       "      <td>Fouad El-Mohandes</td>\n",
       "      <td>Fouad El-Mohandes, Sanaa Younes, Sherihan, Ahm...</td>\n",
       "      <td>unknown</td>\n",
       "      <td>21-May-20</td>\n",
       "      <td>1982</td>\n",
       "      <td>A widower believes he must marry off his three...</td>\n",
       "      <td>TV-PG</td>\n",
       "      <td>233 min</td>\n",
       "      <td>Comedies, International Movies, Romantic Movies</td>\n",
       "      <td>6.2</td>\n",
       "      <td>24102</td>\n",
       "      <td>6.4</td>\n",
       "      <td>233</td>\n",
       "      <td>min</td>\n",
       "    </tr>\n",
       "    <tr>\n",
       "      <th>2487</th>\n",
       "      <td>s2488</td>\n",
       "      <td>Movie</td>\n",
       "      <td>No Longer kids</td>\n",
       "      <td>Samir Al Asfory</td>\n",
       "      <td>Said Saleh, Hassan Moustafa, Ahmed Zaki, Youne...</td>\n",
       "      <td>Egypt</td>\n",
       "      <td>21-May-20</td>\n",
       "      <td>1979</td>\n",
       "      <td>Hoping to prevent their father from skipping t...</td>\n",
       "      <td>TV-14</td>\n",
       "      <td>237 min</td>\n",
       "      <td>Comedies, Dramas, International Movies</td>\n",
       "      <td>6.8</td>\n",
       "      <td>15348</td>\n",
       "      <td>6.3</td>\n",
       "      <td>237</td>\n",
       "      <td>min</td>\n",
       "    </tr>\n",
       "    <tr>\n",
       "      <th>2488</th>\n",
       "      <td>s2489</td>\n",
       "      <td>Movie</td>\n",
       "      <td>Raya and Sakina</td>\n",
       "      <td>Hussein Kamal</td>\n",
       "      <td>Suhair El-Babili, Shadia, Abdel Moneim Madboul...</td>\n",
       "      <td>unknown</td>\n",
       "      <td>21-May-20</td>\n",
       "      <td>1984</td>\n",
       "      <td>When robberies and murders targeting women swe...</td>\n",
       "      <td>TV-14</td>\n",
       "      <td>230 min</td>\n",
       "      <td>Comedies, Dramas, International Movies</td>\n",
       "      <td>5.6</td>\n",
       "      <td>23130</td>\n",
       "      <td>5.6</td>\n",
       "      <td>230</td>\n",
       "      <td>min</td>\n",
       "    </tr>\n",
       "    <tr>\n",
       "      <th>2491</th>\n",
       "      <td>s2492</td>\n",
       "      <td>Movie</td>\n",
       "      <td>The School of Mischief</td>\n",
       "      <td>Houssam El-Din Mustafa</td>\n",
       "      <td>Suhair El-Babili, Adel Emam, Saeed Saleh, Youn...</td>\n",
       "      <td>Egypt</td>\n",
       "      <td>21-May-20</td>\n",
       "      <td>1973</td>\n",
       "      <td>A high school teacher volunteers to transform ...</td>\n",
       "      <td>TV-14</td>\n",
       "      <td>253 min</td>\n",
       "      <td>Comedies, Dramas, International Movies</td>\n",
       "      <td>6.2</td>\n",
       "      <td>362</td>\n",
       "      <td>6.2</td>\n",
       "      <td>253</td>\n",
       "      <td>min</td>\n",
       "    </tr>\n",
       "    <tr>\n",
       "      <th>2632</th>\n",
       "      <td>s2633</td>\n",
       "      <td>Movie</td>\n",
       "      <td>No Direction Home: Bob Dylan</td>\n",
       "      <td>Martin Scorsese</td>\n",
       "      <td>Bob Dylan, Joan Baez, Dave Van Ronk, Peter Yar...</td>\n",
       "      <td>United Kingdom, United States, Japan</td>\n",
       "      <td>25-Apr-20</td>\n",
       "      <td>2005</td>\n",
       "      <td>Featuring rare concert footage and interviews ...</td>\n",
       "      <td>TV-MA</td>\n",
       "      <td>208 min</td>\n",
       "      <td>Documentaries, Music &amp; Musicals</td>\n",
       "      <td>6.8</td>\n",
       "      <td>7919</td>\n",
       "      <td>6.5</td>\n",
       "      <td>208</td>\n",
       "      <td>min</td>\n",
       "    </tr>\n",
       "    <tr>\n",
       "      <th>2731</th>\n",
       "      <td>s2732</td>\n",
       "      <td>Movie</td>\n",
       "      <td>Kabhi Khushi Kabhie Gham</td>\n",
       "      <td>Karan Johar</td>\n",
       "      <td>Amitabh Bachchan, Jaya Bhaduri, Shah Rukh Khan...</td>\n",
       "      <td>India</td>\n",
       "      <td>1-Apr-20</td>\n",
       "      <td>2001</td>\n",
       "      <td>Years after his father disowns his adopted bro...</td>\n",
       "      <td>TV-14</td>\n",
       "      <td>209 min</td>\n",
       "      <td>Dramas, International Movies</td>\n",
       "      <td>5.4</td>\n",
       "      <td>2569</td>\n",
       "      <td>5.0</td>\n",
       "      <td>209</td>\n",
       "      <td>min</td>\n",
       "    </tr>\n",
       "    <tr>\n",
       "      <th>3227</th>\n",
       "      <td>s3228</td>\n",
       "      <td>Movie</td>\n",
       "      <td>The Irishman</td>\n",
       "      <td>Martin Scorsese</td>\n",
       "      <td>Robert De Niro, Al Pacino, Joe Pesci, Harvey K...</td>\n",
       "      <td>United States</td>\n",
       "      <td>27-Nov-19</td>\n",
       "      <td>2019</td>\n",
       "      <td>Hit man Frank Sheeran looks back at the secret...</td>\n",
       "      <td>R</td>\n",
       "      <td>209 min</td>\n",
       "      <td>Dramas</td>\n",
       "      <td>5.7</td>\n",
       "      <td>1871</td>\n",
       "      <td>5.4</td>\n",
       "      <td>209</td>\n",
       "      <td>min</td>\n",
       "    </tr>\n",
       "    <tr>\n",
       "      <th>4253</th>\n",
       "      <td>s4254</td>\n",
       "      <td>Movie</td>\n",
       "      <td>Black Mirror: Bandersnatch</td>\n",
       "      <td>unknown</td>\n",
       "      <td>Fionn Whitehead, Will Poulter, Craig Parkinson...</td>\n",
       "      <td>United States</td>\n",
       "      <td>28-Dec-18</td>\n",
       "      <td>2018</td>\n",
       "      <td>In 1984, a young programmer begins to question...</td>\n",
       "      <td>TV-MA</td>\n",
       "      <td>312 min</td>\n",
       "      <td>Dramas, International Movies, Sci-Fi &amp; Fantasy</td>\n",
       "      <td>7.6</td>\n",
       "      <td>26461</td>\n",
       "      <td>8.0</td>\n",
       "      <td>312</td>\n",
       "      <td>min</td>\n",
       "    </tr>\n",
       "    <tr>\n",
       "      <th>4573</th>\n",
       "      <td>s4574</td>\n",
       "      <td>Movie</td>\n",
       "      <td>Jodhaa Akbar</td>\n",
       "      <td>Ashutosh Gowariker</td>\n",
       "      <td>Hrithik Roshan, Aishwarya Rai Bachchan, Sonu S...</td>\n",
       "      <td>India</td>\n",
       "      <td>1-Oct-18</td>\n",
       "      <td>2008</td>\n",
       "      <td>In 16th-century India, what begins as a strate...</td>\n",
       "      <td>TV-14</td>\n",
       "      <td>214 min</td>\n",
       "      <td>Action &amp; Adventure, Dramas, International Movies</td>\n",
       "      <td>5.8</td>\n",
       "      <td>10437</td>\n",
       "      <td>6.1</td>\n",
       "      <td>214</td>\n",
       "      <td>min</td>\n",
       "    </tr>\n",
       "    <tr>\n",
       "      <th>7932</th>\n",
       "      <td>s7933</td>\n",
       "      <td>Movie</td>\n",
       "      <td>Sangam</td>\n",
       "      <td>Raj Kapoor</td>\n",
       "      <td>Raj Kapoor, Vyjayanthimala, Rajendra Kumar, La...</td>\n",
       "      <td>India</td>\n",
       "      <td>31-Dec-19</td>\n",
       "      <td>1964</td>\n",
       "      <td>Returning home from war after being assumed de...</td>\n",
       "      <td>TV-14</td>\n",
       "      <td>228 min</td>\n",
       "      <td>Classic Movies, Dramas, International Movies</td>\n",
       "      <td>8.0</td>\n",
       "      <td>8745</td>\n",
       "      <td>8.4</td>\n",
       "      <td>228</td>\n",
       "      <td>min</td>\n",
       "    </tr>\n",
       "    <tr>\n",
       "      <th>8327</th>\n",
       "      <td>s8328</td>\n",
       "      <td>Movie</td>\n",
       "      <td>The Gospel of Luke</td>\n",
       "      <td>David Batty</td>\n",
       "      <td>Selva Rasalingam, Karima Gouit, Mourad Zaoui, ...</td>\n",
       "      <td>United States, United Kingdom, Morocco</td>\n",
       "      <td>19-Oct-18</td>\n",
       "      <td>2015</td>\n",
       "      <td>Word-for-word Bible texts of the entire book o...</td>\n",
       "      <td>TV-14</td>\n",
       "      <td>205 min</td>\n",
       "      <td>Dramas, Faith &amp; Spirituality</td>\n",
       "      <td>7.9</td>\n",
       "      <td>11562</td>\n",
       "      <td>8.2</td>\n",
       "      <td>205</td>\n",
       "      <td>min</td>\n",
       "    </tr>\n",
       "    <tr>\n",
       "      <th>8404</th>\n",
       "      <td>s8405</td>\n",
       "      <td>Movie</td>\n",
       "      <td>The Lord of the Rings: The Return of the King</td>\n",
       "      <td>Peter Jackson</td>\n",
       "      <td>Elijah Wood, Ian McKellen, Liv Tyler, Viggo Mo...</td>\n",
       "      <td>New Zealand, United States</td>\n",
       "      <td>1-Jan-20</td>\n",
       "      <td>2003</td>\n",
       "      <td>Aragorn is revealed as the heir to the ancient...</td>\n",
       "      <td>PG-13</td>\n",
       "      <td>201 min</td>\n",
       "      <td>Action &amp; Adventure, Sci-Fi &amp; Fantasy</td>\n",
       "      <td>6.9</td>\n",
       "      <td>10093</td>\n",
       "      <td>7.4</td>\n",
       "      <td>201</td>\n",
       "      <td>min</td>\n",
       "    </tr>\n",
       "  </tbody>\n",
       "</table>\n",
       "</div>"
      ],
      "text/plain": [
       "     show_id   type                                              title  \\\n",
       "166     s167  Movie                        Once Upon a Time in America   \n",
       "717     s718  Movie                        Headspace: Unwind Your Mind   \n",
       "806     s807  Movie  Seven Souls in the Skull Castle: Season Moon J...   \n",
       "807     s808  Movie  Seven Souls in the Skull Castle: Season Moon K...   \n",
       "1019   s1020  Movie                                             Lagaan   \n",
       "2126   s2127  Movie                               What's Your Raashee?   \n",
       "2483   s2484  Movie                            Fifty Year Old Teenager   \n",
       "2484   s2485  Movie                                 Lock Your Girls In   \n",
       "2487   s2488  Movie                                     No Longer kids   \n",
       "2488   s2489  Movie                                    Raya and Sakina   \n",
       "2491   s2492  Movie                             The School of Mischief   \n",
       "2632   s2633  Movie                       No Direction Home: Bob Dylan   \n",
       "2731   s2732  Movie                           Kabhi Khushi Kabhie Gham   \n",
       "3227   s3228  Movie                                       The Irishman   \n",
       "4253   s4254  Movie                         Black Mirror: Bandersnatch   \n",
       "4573   s4574  Movie                                       Jodhaa Akbar   \n",
       "7932   s7933  Movie                                             Sangam   \n",
       "8327   s8328  Movie                                 The Gospel of Luke   \n",
       "8404   s8405  Movie      The Lord of the Rings: The Return of the King   \n",
       "\n",
       "                    director  \\\n",
       "166             Sergio Leone   \n",
       "717                  unknown   \n",
       "806           Hidenori Inoue   \n",
       "807           Hidenori Inoue   \n",
       "1019      Ashutosh Gowariker   \n",
       "2126      Ashutosh Gowariker   \n",
       "2483         Fouad Al Shatti   \n",
       "2484       Fouad El-Mohandes   \n",
       "2487         Samir Al Asfory   \n",
       "2488           Hussein Kamal   \n",
       "2491  Houssam El-Din Mustafa   \n",
       "2632         Martin Scorsese   \n",
       "2731             Karan Johar   \n",
       "3227         Martin Scorsese   \n",
       "4253                 unknown   \n",
       "4573      Ashutosh Gowariker   \n",
       "7932              Raj Kapoor   \n",
       "8327             David Batty   \n",
       "8404           Peter Jackson   \n",
       "\n",
       "                                                   cast  \\\n",
       "166   Robert De Niro, James Woods, Elizabeth McGover...   \n",
       "717   Andy Puddicombe, Evelyn Lewis Prieto, Ginger D...   \n",
       "806   Sota Fukushi, Taichi Saotome, Shohei Miura, Ke...   \n",
       "807   Mamoru Miyano, Hiroki Suzuki, Tomoki Hirose, R...   \n",
       "1019  Aamir Khan, Gracy Singh, Rachel Shelley, Paul ...   \n",
       "2126  Harman Baweja, Priyanka Chopra, Manju Singh, A...   \n",
       "2483  Abdulhussain Abdulredah, Haifaa Adel, Dawood H...   \n",
       "2484  Fouad El-Mohandes, Sanaa Younes, Sherihan, Ahm...   \n",
       "2487  Said Saleh, Hassan Moustafa, Ahmed Zaki, Youne...   \n",
       "2488  Suhair El-Babili, Shadia, Abdel Moneim Madboul...   \n",
       "2491  Suhair El-Babili, Adel Emam, Saeed Saleh, Youn...   \n",
       "2632  Bob Dylan, Joan Baez, Dave Van Ronk, Peter Yar...   \n",
       "2731  Amitabh Bachchan, Jaya Bhaduri, Shah Rukh Khan...   \n",
       "3227  Robert De Niro, Al Pacino, Joe Pesci, Harvey K...   \n",
       "4253  Fionn Whitehead, Will Poulter, Craig Parkinson...   \n",
       "4573  Hrithik Roshan, Aishwarya Rai Bachchan, Sonu S...   \n",
       "7932  Raj Kapoor, Vyjayanthimala, Rajendra Kumar, La...   \n",
       "8327  Selva Rasalingam, Karima Gouit, Mourad Zaoui, ...   \n",
       "8404  Elijah Wood, Ian McKellen, Liv Tyler, Viggo Mo...   \n",
       "\n",
       "                                     country date_added  release_year  \\\n",
       "166                     Italy, United States   1-Sep-21          1984   \n",
       "717                                  unknown  15-Jun-21          2021   \n",
       "806                                  unknown   2-Jun-21          2017   \n",
       "807                                  unknown   2-Jun-21          2017   \n",
       "1019                   India, United Kingdom  17-Apr-21          2001   \n",
       "2126                                   India  15-Aug-20          2009   \n",
       "2483                                 unknown  21-May-20          1996   \n",
       "2484                                 unknown  21-May-20          1982   \n",
       "2487                                   Egypt  21-May-20          1979   \n",
       "2488                                 unknown  21-May-20          1984   \n",
       "2491                                   Egypt  21-May-20          1973   \n",
       "2632    United Kingdom, United States, Japan  25-Apr-20          2005   \n",
       "2731                                   India   1-Apr-20          2001   \n",
       "3227                           United States  27-Nov-19          2019   \n",
       "4253                           United States  28-Dec-18          2018   \n",
       "4573                                   India   1-Oct-18          2008   \n",
       "7932                                   India  31-Dec-19          1964   \n",
       "8327  United States, United Kingdom, Morocco  19-Oct-18          2015   \n",
       "8404              New Zealand, United States   1-Jan-20          2003   \n",
       "\n",
       "                                            description rating duration  \\\n",
       "166   Director Sergio Leone's sprawling crime epic f...      R  229 min   \n",
       "717   Do you want to relax, meditate or sleep deeply...   TV-G  273 min   \n",
       "806   Japan, 1590. Wandering samurai band together t...  TV-14  204 min   \n",
       "807   Japan, 1590. Wandering samurai band together t...  TV-PG  212 min   \n",
       "1019  In 1890s India, an arrogant British commander ...     PG  224 min   \n",
       "2126  To protect his family from ruin, Yogesh must m...  TV-PG  203 min   \n",
       "2483  The life of a married 50-year-old doctor turns...  TV-14  204 min   \n",
       "2484  A widower believes he must marry off his three...  TV-PG  233 min   \n",
       "2487  Hoping to prevent their father from skipping t...  TV-14  237 min   \n",
       "2488  When robberies and murders targeting women swe...  TV-14  230 min   \n",
       "2491  A high school teacher volunteers to transform ...  TV-14  253 min   \n",
       "2632  Featuring rare concert footage and interviews ...  TV-MA  208 min   \n",
       "2731  Years after his father disowns his adopted bro...  TV-14  209 min   \n",
       "3227  Hit man Frank Sheeran looks back at the secret...      R  209 min   \n",
       "4253  In 1984, a young programmer begins to question...  TV-MA  312 min   \n",
       "4573  In 16th-century India, what begins as a strate...  TV-14  214 min   \n",
       "7932  Returning home from war after being assumed de...  TV-14  228 min   \n",
       "8327  Word-for-word Bible texts of the entire book o...  TV-14  205 min   \n",
       "8404  Aragorn is revealed as the heir to the ancient...  PG-13  201 min   \n",
       "\n",
       "                                             listed_in  score  votes  \\\n",
       "166                             Classic Movies, Dramas    4.2  22120   \n",
       "717                                      Documentaries    7.1    155   \n",
       "806   Action & Adventure, Dramas, International Movies    6.1  22579   \n",
       "807   Action & Adventure, Dramas, International Movies    6.8  13945   \n",
       "1019    Dramas, International Movies, Music & Musicals    6.7  14523   \n",
       "2126  Comedies, International Movies, Music & Musicals    6.0  13553   \n",
       "2483                    Comedies, International Movies    6.1   7778   \n",
       "2484   Comedies, International Movies, Romantic Movies    6.2  24102   \n",
       "2487            Comedies, Dramas, International Movies    6.8  15348   \n",
       "2488            Comedies, Dramas, International Movies    5.6  23130   \n",
       "2491            Comedies, Dramas, International Movies    6.2    362   \n",
       "2632                   Documentaries, Music & Musicals    6.8   7919   \n",
       "2731                      Dramas, International Movies    5.4   2569   \n",
       "3227                                            Dramas    5.7   1871   \n",
       "4253    Dramas, International Movies, Sci-Fi & Fantasy    7.6  26461   \n",
       "4573  Action & Adventure, Dramas, International Movies    5.8  10437   \n",
       "7932      Classic Movies, Dramas, International Movies    8.0   8745   \n",
       "8327                      Dramas, Faith & Spirituality    7.9  11562   \n",
       "8404              Action & Adventure, Sci-Fi & Fantasy    6.9  10093   \n",
       "\n",
       "      popularity minutes unit  \n",
       "166          4.4     229  min  \n",
       "717          7.3     273  min  \n",
       "806          5.9     204  min  \n",
       "807          6.9     212  min  \n",
       "1019         6.9     224  min  \n",
       "2126         6.4     203  min  \n",
       "2483         6.4     204  min  \n",
       "2484         6.4     233  min  \n",
       "2487         6.3     237  min  \n",
       "2488         5.6     230  min  \n",
       "2491         6.2     253  min  \n",
       "2632         6.5     208  min  \n",
       "2731         5.0     209  min  \n",
       "3227         5.4     209  min  \n",
       "4253         8.0     312  min  \n",
       "4573         6.1     214  min  \n",
       "7932         8.4     228  min  \n",
       "8327         8.2     205  min  \n",
       "8404         7.4     201  min  "
      ]
     },
     "execution_count": 460,
     "metadata": {},
     "output_type": "execute_result"
    }
   ],
   "source": [
    "gt_200_mins = df3['minutes'] > 200\n",
    "GT_200 = df3[gt_200_mins]\n",
    "GT_200"
   ]
  },
  {
   "cell_type": "markdown",
   "id": "e7f1005a",
   "metadata": {},
   "source": [
    "Q11. What is the Average (mean) minutes of records whose **type** is **Movie**? Display the average **(no explanation needed)**"
   ]
  },
  {
   "cell_type": "code",
   "execution_count": 463,
   "id": "4069d8a8",
   "metadata": {},
   "outputs": [
    {
     "name": "stdout",
     "output_type": "stream",
     "text": [
      "Average (mean) minutes of records whose type is Movie: 99.53 mins\n"
     ]
    }
   ],
   "source": [
    "average_minutes = df3[df3['type'] == 'Movie']['minutes'].mean()\n",
    "print(f\"Average (mean) minutes of records whose type is Movie: {average_minutes:.2f} mins\")"
   ]
  },
  {
   "cell_type": "markdown",
   "id": "c22e4fb6",
   "metadata": {},
   "source": [
    "Q12. Which individual country has the Highest number of type TV Shows? Display the output **(no explanation needed)**"
   ]
  },
  {
   "cell_type": "code",
   "execution_count": 466,
   "id": "f7dc552c",
   "metadata": {},
   "outputs": [
    {
     "name": "stdout",
     "output_type": "stream",
     "text": [
      "('United States', 760)\n"
     ]
    }
   ],
   "source": [
    "tv_show_counts = df3[df3['type'] == 'TV Show'].groupby('country').size()\n",
    "highest_tv_shows_country = tv_show_counts.idxmax(), tv_show_counts.max()\n",
    "print(highest_tv_shows_country)"
   ]
  },
  {
   "cell_type": "markdown",
   "id": "f65f3b6f",
   "metadata": {},
   "source": [
    "Q13. For movie **title** '3 Idiots', what is the Show Id and Who is the Director of this show ? Display the output **(no explanation needed)**"
   ]
  },
  {
   "cell_type": "code",
   "execution_count": 469,
   "id": "8197fccf",
   "metadata": {},
   "outputs": [
    {
     "data": {
      "text/html": [
       "<div>\n",
       "<style scoped>\n",
       "    .dataframe tbody tr th:only-of-type {\n",
       "        vertical-align: middle;\n",
       "    }\n",
       "\n",
       "    .dataframe tbody tr th {\n",
       "        vertical-align: top;\n",
       "    }\n",
       "\n",
       "    .dataframe thead th {\n",
       "        text-align: right;\n",
       "    }\n",
       "</style>\n",
       "<table border=\"1\" class=\"dataframe\">\n",
       "  <thead>\n",
       "    <tr style=\"text-align: right;\">\n",
       "      <th></th>\n",
       "      <th>show_id</th>\n",
       "      <th>director</th>\n",
       "    </tr>\n",
       "  </thead>\n",
       "  <tbody>\n",
       "    <tr>\n",
       "      <th>1114</th>\n",
       "      <td>s1115</td>\n",
       "      <td>Rajkumar Hirani</td>\n",
       "    </tr>\n",
       "  </tbody>\n",
       "</table>\n",
       "</div>"
      ],
      "text/plain": [
       "     show_id         director\n",
       "1114   s1115  Rajkumar Hirani"
      ]
     },
     "execution_count": 469,
     "metadata": {},
     "output_type": "execute_result"
    }
   ],
   "source": [
    "movie_info = df3[df3['title'] == '3 Idiots'][['show_id', 'director']]\n",
    "movie_info"
   ]
  },
  {
   "cell_type": "markdown",
   "id": "9468bea1",
   "metadata": {},
   "source": [
    "Q14. Using Bar Graph, display the total number of movies released each year. Display only top 10 in descending order. (both types in column  **type**)<br>\n",
    "In your bar graph, which year the highest number of the movies were released?"
   ]
  },
  {
   "cell_type": "code",
   "execution_count": 472,
   "id": "1c861134",
   "metadata": {},
   "outputs": [
    {
     "data": {
      "image/png": "[encoded data removed]",
      "text/plain": [
       "<Figure size 1000x600 with 1 Axes>"
      ]
     },
     "metadata": {},
     "output_type": "display_data"
    },
    {
     "name": "stdout",
     "output_type": "stream",
     "text": [
      "Year with the highest number of movies released: (2017, 767)\n"
     ]
    }
   ],
   "source": [
    "movies_per_year = df3[df3['type'] == 'Movie'].groupby('release_year').size()\n",
    "# Get the top 10 years with the highest number of movies and creating a bar graph\n",
    "top_10_movies_per_year = movies_per_year.nlargest(10)\n",
    "plt.figure(figsize=(10, 6))\n",
    "top_10_movies_per_year.plot(kind='bar', color='skyblue')\n",
    "plt.title('DS Midterm, Asghar, Total Number of Movies Released Each Year (Top 10)')\n",
    "plt.xlabel('Release Year')\n",
    "plt.ylabel('Number of Movies')\n",
    "plt.xticks(rotation=45)\n",
    "plt.grid(axis='y')\n",
    "plt.show()\n",
    "highest_year = top_10_movies_per_year.idxmax(), top_10_movies_per_year.max()\n",
    "print(\"Year with the highest number of movies released:\", highest_year)"
   ]
  },
  {
   "cell_type": "markdown",
   "id": "22bc8a0b",
   "metadata": {},
   "source": [
    "Q15. Display Top 5 Directors, who directed the highest number of TV Shows & Movies ? **(no explanation needed)**"
   ]
  },
  {
   "cell_type": "code",
   "execution_count": 475,
   "id": "4d6dbb0b",
   "metadata": {},
   "outputs": [
    {
     "data": {
      "text/plain": [
       "director\n",
       "unknown                   2634\n",
       "Rajiv Chilaka               19\n",
       "Raúl Campos, Jan Suter      18\n",
       "Marcus Raboy                16\n",
       "Suhas Kadav                 16\n",
       "Jay Karas                   14\n",
       "dtype: int64"
      ]
     },
     "execution_count": 475,
     "metadata": {},
     "output_type": "execute_result"
    }
   ],
   "source": [
    "top_directors = df3.groupby('director').size().nlargest(6)\n",
    "top_directors"
   ]
  },
  {
   "cell_type": "code",
   "execution_count": 477,
   "id": "c74d392f",
   "metadata": {},
   "outputs": [
    {
     "data": {
      "text/plain": [
       "director\n",
       "Rajiv Chilaka             19\n",
       "Raúl Campos, Jan Suter    18\n",
       "Marcus Raboy              16\n",
       "Suhas Kadav               16\n",
       "Jay Karas                 14\n",
       "dtype: int64"
      ]
     },
     "execution_count": 477,
     "metadata": {},
     "output_type": "execute_result"
    }
   ],
   "source": [
    "#Remember how we filled the values of director with \"unknown\", it would showcase it on the top, thus we aren't showcasing the top one which would be null\n",
    "TD = df3.groupby('director').size().nlargest(6).iloc[1:]\n",
    "TD"
   ]
  },
  {
   "cell_type": "markdown",
   "id": "3a167b2a",
   "metadata": {},
   "source": [
    "Q16. In how many movies/shows, Tom Cruise was casted? Display the records **(no explanation needed)**"
   ]
  },
  {
   "cell_type": "code",
   "execution_count": 480,
   "id": "be11ce0b",
   "metadata": {},
   "outputs": [
    {
     "data": {
      "text/html": [
       "<div>\n",
       "<style scoped>\n",
       "    .dataframe tbody tr th:only-of-type {\n",
       "        vertical-align: middle;\n",
       "    }\n",
       "\n",
       "    .dataframe tbody tr th {\n",
       "        vertical-align: top;\n",
       "    }\n",
       "\n",
       "    .dataframe thead th {\n",
       "        text-align: right;\n",
       "    }\n",
       "</style>\n",
       "<table border=\"1\" class=\"dataframe\">\n",
       "  <thead>\n",
       "    <tr style=\"text-align: right;\">\n",
       "      <th></th>\n",
       "      <th>show_id</th>\n",
       "      <th>type</th>\n",
       "      <th>title</th>\n",
       "      <th>director</th>\n",
       "      <th>cast</th>\n",
       "      <th>country</th>\n",
       "      <th>date_added</th>\n",
       "      <th>release_year</th>\n",
       "      <th>description</th>\n",
       "      <th>rating</th>\n",
       "      <th>duration</th>\n",
       "      <th>listed_in</th>\n",
       "      <th>score</th>\n",
       "      <th>votes</th>\n",
       "      <th>popularity</th>\n",
       "      <th>minutes</th>\n",
       "      <th>unit</th>\n",
       "    </tr>\n",
       "  </thead>\n",
       "  <tbody>\n",
       "    <tr>\n",
       "      <th>341</th>\n",
       "      <td>s342</td>\n",
       "      <td>Movie</td>\n",
       "      <td>Magnolia</td>\n",
       "      <td>Paul Thomas Anderson</td>\n",
       "      <td>John C. Reilly, Philip Baker Hall, Tom Cruise,...</td>\n",
       "      <td>United States</td>\n",
       "      <td>1-Aug-21</td>\n",
       "      <td>1999</td>\n",
       "      <td>Through chance, history and divine interventio...</td>\n",
       "      <td>R</td>\n",
       "      <td>189 min</td>\n",
       "      <td>Dramas, Independent Movies</td>\n",
       "      <td>4.3</td>\n",
       "      <td>12904</td>\n",
       "      <td>4.2</td>\n",
       "      <td>189</td>\n",
       "      <td>min</td>\n",
       "    </tr>\n",
       "    <tr>\n",
       "      <th>1254</th>\n",
       "      <td>s1255</td>\n",
       "      <td>Movie</td>\n",
       "      <td>Rain Man</td>\n",
       "      <td>Barry Levinson</td>\n",
       "      <td>Dustin Hoffman, Tom Cruise, Valeria Golino, Ge...</td>\n",
       "      <td>United States</td>\n",
       "      <td>1-Mar-21</td>\n",
       "      <td>1988</td>\n",
       "      <td>Motivated by money, a selfish workaholic seeki...</td>\n",
       "      <td>R</td>\n",
       "      <td>134 min</td>\n",
       "      <td>Classic Movies, Dramas</td>\n",
       "      <td>5.8</td>\n",
       "      <td>25711</td>\n",
       "      <td>5.6</td>\n",
       "      <td>134</td>\n",
       "      <td>min</td>\n",
       "    </tr>\n",
       "  </tbody>\n",
       "</table>\n",
       "</div>"
      ],
      "text/plain": [
       "     show_id   type     title              director  \\\n",
       "341     s342  Movie  Magnolia  Paul Thomas Anderson   \n",
       "1254   s1255  Movie  Rain Man        Barry Levinson   \n",
       "\n",
       "                                                   cast        country  \\\n",
       "341   John C. Reilly, Philip Baker Hall, Tom Cruise,...  United States   \n",
       "1254  Dustin Hoffman, Tom Cruise, Valeria Golino, Ge...  United States   \n",
       "\n",
       "     date_added  release_year  \\\n",
       "341    1-Aug-21          1999   \n",
       "1254   1-Mar-21          1988   \n",
       "\n",
       "                                            description rating duration  \\\n",
       "341   Through chance, history and divine interventio...      R  189 min   \n",
       "1254  Motivated by money, a selfish workaholic seeki...      R  134 min   \n",
       "\n",
       "                       listed_in  score  votes  popularity minutes unit  \n",
       "341   Dramas, Independent Movies    4.3  12904         4.2     189  min  \n",
       "1254      Classic Movies, Dramas    5.8  25711         5.6     134  min  "
      ]
     },
     "execution_count": 480,
     "metadata": {},
     "output_type": "execute_result"
    }
   ],
   "source": [
    "TC_records = df3[df3['cast'].str.contains('Tom Cruise', na=False)]\n",
    "TC_records"
   ]
  },
  {
   "cell_type": "markdown",
   "id": "8dd46777",
   "metadata": {},
   "source": [
    "Q17. Create a distribution plot (histogram) for **ratings** TV-14 and TV-MA and **type** (Hint: use **x** for rating and **hue** for type) <br>\n",
    "**(no explanation needed)**"
   ]
  },
  {
   "cell_type": "code",
   "execution_count": 483,
   "id": "8382f6e0",
   "metadata": {},
   "outputs": [
    {
     "data": {
      "image/png": "[encoded data removed]",
      "text/plain": [
       "<Figure size 700x400 with 1 Axes>"
      ]
     },
     "metadata": {},
     "output_type": "display_data"
    }
   ],
   "source": [
    "filtered_data = df3[df3['rating'].isin(['TV-14', 'TV-MA'])]\n",
    "plt.figure(figsize=(7, 4))\n",
    "sns.histplot(data=filtered_data, x='rating', hue='type', multiple='stack', bins=10)\n",
    "plt.title('Distribution of Ratings for TV-14 and TV-MA by Asghar in DS Midterm')\n",
    "plt.xlabel('Ratings')\n",
    "plt.ylabel('Count')\n",
    "plt.show()"
   ]
  },
  {
   "cell_type": "markdown",
   "id": "d9a965eb",
   "metadata": {},
   "source": [
    "Q18. Use a boxplot visualisation technique to see the highest, lowest and average **score** with the **type**? **Briefly explain your boxplot**"
   ]
  },
  {
   "cell_type": "code",
   "execution_count": 486,
   "id": "cc87866d",
   "metadata": {},
   "outputs": [
    {
     "data": {
      "image/png": "[encoded data removed]",
      "text/plain": [
       "<Figure size 1200x600 with 1 Axes>"
      ]
     },
     "metadata": {},
     "output_type": "display_data"
    }
   ],
   "source": [
    "# Create a boxplot for scores by type\n",
    "plt.figure(figsize=(12, 6))\n",
    "sns.boxplot(data=df3, x='type', y='score')\n",
    "\n",
    "plt.title('Boxplot of Scores by Type')\n",
    "plt.xlabel('Type')\n",
    "plt.ylabel('Score')\n",
    "plt.grid(axis='y')\n",
    "plt.show()"
   ]
  },
  {
   "cell_type": "markdown",
   "id": "3e413c9f-13bf-411b-a572-d0169d1b7355",
   "metadata": {},
   "source": [
    "There are few outliers where people have rated \"0\" to Movie and TV-show. Overall, it seems that people tend to rate TV-shows higher than the movies as can be inferred from the fact the \"median\" of the score of TV-Show is higher"
   ]
  },
  {
   "cell_type": "markdown",
   "id": "7b760a5a",
   "metadata": {},
   "source": [
    "Q19. Use any visualization technique (think of any suitable plot) which can justify/show that \"As the **score** increases, the **popularity** also increases proportionally\". **Explain your findings in your plot**"
   ]
  },
  {
   "cell_type": "code",
   "execution_count": 490,
   "id": "53039832",
   "metadata": {},
   "outputs": [
    {
     "data": {
      "image/png": "[encoded data removed]",
      "text/plain": [
       "<Figure size 1200x600 with 1 Axes>"
      ]
     },
     "metadata": {},
     "output_type": "display_data"
    }
   ],
   "source": [
    "plt.figure(figsize=(12, 6))\n",
    "sns.scatterplot(data=df3, x='score', y='popularity')\n",
    "sns.regplot(data=df3, x='score', y='popularity', scatter=False, color='orange', line_kws={'label': 'Trend Line'})\n",
    "plt.title('Relationship Between Score and Popularity, by Asghar in DS Mid-term')\n",
    "plt.xlabel('Score')\n",
    "plt.ylabel('Popularity')\n",
    "plt.grid()\n",
    "plt.show()"
   ]
  },
  {
   "cell_type": "markdown",
   "id": "5f7e3806-074d-4758-a611-bc21feda29bd",
   "metadata": {},
   "source": [
    "We can clearly see that there is a very strong correlation between the score and popularity, the highly popular a show is, there is a very strong likelihood that it will recieve a greater score as well!"
   ]
  },
  {
   "cell_type": "markdown",
   "id": "040552a3",
   "metadata": {},
   "source": [
    "Q20. Generate a correlation plot between **score** and **popularity**. **Briefly explain your findings?**"
   ]
  },
  {
   "cell_type": "code",
   "execution_count": 493,
   "id": "70dd9d11",
   "metadata": {},
   "outputs": [
    {
     "data": {
      "image/png": "[encoded data removed]",
      "text/plain": [
       "<Figure size 400x300 with 2 Axes>"
      ]
     },
     "metadata": {},
     "output_type": "display_data"
    }
   ],
   "source": [
    "correlation_matrix = df3[['score', 'popularity']].corr()\n",
    "plt.figure(figsize=(4, 3))\n",
    "sns.heatmap(correlation_matrix, annot=True, cmap='coolwarm', fmt='.2f', square=True)\n",
    "plt.title('Correlation Plot between Score and Popularity')\n",
    "plt.show()"
   ]
  },
  {
   "cell_type": "markdown",
   "id": "14eec7d8-27c4-4eb4-abcf-b7dd783361c3",
   "metadata": {},
   "source": [
    "Our suspicions are only proved right considering the fact that the correlation between the \"Score\" and \"Popularity\" is 0.97 which suggests a strong positive linear relationship between the two variables."
   ]
  },
  {
   "cell_type": "markdown",
   "id": "cdc9d3a9",
   "metadata": {},
   "source": [
    "Q21. Test the Hypothesis and explain your findings: <br> H0: the score of **type** = TV Show and **type** = Movie is same (equal or similar). <br>\n",
    "Ha: the score of **type** = TV Show is greater than **type** = Movie <br>\n",
    "**Briefly explain your conclusion**"
   ]
  },
  {
   "cell_type": "code",
   "execution_count": 498,
   "id": "4921fc66",
   "metadata": {},
   "outputs": [
    {
     "data": {
      "text/plain": [
       "TtestResult(statistic=7.393432583833722, pvalue=7.808967875701054e-14, df=8805.0)"
      ]
     },
     "execution_count": 498,
     "metadata": {},
     "output_type": "execute_result"
    }
   ],
   "source": [
    "TV_S = df3[df3['type'] == 'TV Show']['score']\n",
    "M_S = df3[df3['type'] == 'Movie']['score']\n",
    "stats.ttest_ind(TV_S, M_S, alternative='greater')"
   ]
  },
  {
   "cell_type": "markdown",
   "id": "1302e8d2-c41a-4d24-965b-6eb9feca7b77",
   "metadata": {},
   "source": [
    "### Analysis \n",
    "The hypothesis test results indicate a test statistic of 7.39 and a p-value of approximately 7.81 x 10^-14, which is significantly lower than the 0.05 significance level. Therefore, \n",
    "**we reject the null hypothesis**, \n",
    "concluding that the average score of TV Shows is greater than that of Movies. This suggests a notable difference in viewer reception, with TV Shows in the dataset generally receiving higher ratings compared to Movies.\n",
    "\n",
    "The higher average scores for TV Shows compared to Movies may be due to several different varying factors. TV Shows often have more extended narratives and character development, allowing for deeper storytelling that can engage audiences over time, and if someone is commiting a long period of their time watching a tv-show, they might be more biased to rate it highly while for someone who didn't like the show, they have a high likelihood to just drop it or not get invested in the first place, but they can watch the movie cause they are pretty short or may have paid for a ticket of it in a cinema."
   ]
  },
  {
   "cell_type": "markdown",
   "id": "b130cce8",
   "metadata": {},
   "source": [
    "Q22. Test the Hypothesis and explain your findings: <br> H0: **type** and **country** are independent and are not related to each other <br>\n",
    "Ha: **type** and **country** are dependent and related to each other <br>\n",
    "**Briefly explain your conclusion**"
   ]
  },
  {
   "cell_type": "code",
   "execution_count": 502,
   "id": "ec2a249c",
   "metadata": {},
   "outputs": [
    {
     "data": {
      "text/plain": [
       "(1843.1924665342528, 6.511460628402204e-94)"
      ]
     },
     "execution_count": 502,
     "metadata": {},
     "output_type": "execute_result"
    }
   ],
   "source": [
    "contingency_table = pd.crosstab(df3['type'], df3['country'])\n",
    "chi2_stat, p_value, dof, expected = chi2_contingency(contingency_table)\n",
    "chi2_stat, p_value"
   ]
  },
  {
   "cell_type": "markdown",
   "id": "8fa555f1-6f9d-4849-8b4c-f613b1650923",
   "metadata": {},
   "source": [
    "### Analysis \n",
    "The Chi-square test results indicate a chi-square statistic of 1843.19 and a p-value of approximately 6.511460628402204e-94, which is significantly lower than the 0.05 significance level. \n",
    "**This leads us to reject the null hypothesis**, concluding that **type** and **country** are dependent and related to each other. \n",
    "\n",
    "Factors like local language, societal norms, and popular genres can influence the types of shows and movies produced and favored in each country. Additionally, streaming platforms may cater to regional preferences, further shaping the diversity of content available to viewers in different nations. Like consider Pakistan, the way animation is looked \"on\" upon is VASTLY different than how is \"animation\" is looked on in countries like \"United States\" or most importantly \"Japan\". One another example we can think of is how these countries consume \"explicit content\" "
   ]
  },
  {
   "cell_type": "markdown",
   "id": "83f16d38-041e-41e2-abab-b29a3dc7a33c",
   "metadata": {},
   "source": [
    "# Thank you so much!"
   ]
  },
  {
   "cell_type": "code",
   "execution_count": null,
   "id": "4d1a7053-1f6d-4b16-b88c-4ebc03355456",
   "metadata": {},
   "outputs": [],
   "source": []
  }
 ],
 "metadata": {
  "kernelspec": {
   "display_name": "Python 3 (ipykernel)",
   "language": "python",
   "name": "python3"
  },
  "language_info": {
   "codemirror_mode": {
    "name": "ipython",
    "version": 3
   },
   "file_extension": ".py",
   "mimetype": "text/x-python",
   "name": "python",
   "nbconvert_exporter": "python",
   "pygments_lexer": "ipython3",
   "version": "3.12.4"
  }
 },
 "nbformat": 4,
 "nbformat_minor": 5
}
