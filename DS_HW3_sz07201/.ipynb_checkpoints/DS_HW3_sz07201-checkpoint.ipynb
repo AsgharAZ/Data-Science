{
 "cells": [
  {
   "cell_type": "markdown",
   "id": "44e450ea-f816-4d76-b179-aeb9d5578b52",
   "metadata": {},
   "source": [
    "# <center>Homework Assignment 3: Inference Statistics</center>\n",
    "## <center>16th September 2024</center>\n",
    "#### <center>Syed Asghar Abbas Zaidi 07201 in CS/CE 457/464-L1</center>\n",
    "#### <center>sz07201@st.habib.edu.pk</center>\n"
   ]
  },
  {
   "cell_type": "code",
   "execution_count": 9,
   "id": "db7d53d1-a1bd-4b37-a06e-b61c11207af1",
   "metadata": {},
   "outputs": [],
   "source": [
    "import pandas as pd\n",
    "import numpy as np\n",
    "import seaborn as sns\n",
    "import matplotlib.pyplot as plt\n",
    "from scipy import stats"
   ]
  },
  {
   "cell_type": "code",
   "execution_count": 11,
   "id": "872e34a4-4d41-47e6-a843-0f1a369c409a",
   "metadata": {},
   "outputs": [
    {
     "data": {
      "text/html": [
       "<div>\n",
       "<style scoped>\n",
       "    .dataframe tbody tr th:only-of-type {\n",
       "        vertical-align: middle;\n",
       "    }\n",
       "\n",
       "    .dataframe tbody tr th {\n",
       "        vertical-align: top;\n",
       "    }\n",
       "\n",
       "    .dataframe thead th {\n",
       "        text-align: right;\n",
       "    }\n",
       "</style>\n",
       "<table border=\"1\" class=\"dataframe\">\n",
       "  <thead>\n",
       "    <tr style=\"text-align: right;\">\n",
       "      <th></th>\n",
       "      <th>id</th>\n",
       "      <th>first_name</th>\n",
       "      <th>last_name</th>\n",
       "      <th>email</th>\n",
       "      <th>gender</th>\n",
       "      <th>part_time_job</th>\n",
       "      <th>absence_days</th>\n",
       "      <th>extracurricular_activities</th>\n",
       "      <th>weekly_self_study_hours</th>\n",
       "      <th>career_aspiration</th>\n",
       "      <th>math_score</th>\n",
       "      <th>history_score</th>\n",
       "      <th>physics_score</th>\n",
       "      <th>chemistry_score</th>\n",
       "      <th>biology_score</th>\n",
       "      <th>english_score</th>\n",
       "      <th>geography_score</th>\n",
       "    </tr>\n",
       "  </thead>\n",
       "  <tbody>\n",
       "    <tr>\n",
       "      <th>0</th>\n",
       "      <td>1</td>\n",
       "      <td>Paul</td>\n",
       "      <td>Casey</td>\n",
       "      <td>paul.casey.1@gslingacademy.com</td>\n",
       "      <td>male</td>\n",
       "      <td>False</td>\n",
       "      <td>3</td>\n",
       "      <td>False</td>\n",
       "      <td>27</td>\n",
       "      <td>Lawyer</td>\n",
       "      <td>73</td>\n",
       "      <td>81</td>\n",
       "      <td>93</td>\n",
       "      <td>97</td>\n",
       "      <td>63</td>\n",
       "      <td>80</td>\n",
       "      <td>87</td>\n",
       "    </tr>\n",
       "    <tr>\n",
       "      <th>1</th>\n",
       "      <td>2</td>\n",
       "      <td>Danielle</td>\n",
       "      <td>Sandoval</td>\n",
       "      <td>danielle.sandoval.2@gslingacademy.com</td>\n",
       "      <td>female</td>\n",
       "      <td>False</td>\n",
       "      <td>2</td>\n",
       "      <td>False</td>\n",
       "      <td>47</td>\n",
       "      <td>Doctor</td>\n",
       "      <td>90</td>\n",
       "      <td>86</td>\n",
       "      <td>96</td>\n",
       "      <td>100</td>\n",
       "      <td>90</td>\n",
       "      <td>88</td>\n",
       "      <td>90</td>\n",
       "    </tr>\n",
       "    <tr>\n",
       "      <th>2</th>\n",
       "      <td>3</td>\n",
       "      <td>Tina</td>\n",
       "      <td>Andrews</td>\n",
       "      <td>tina.andrews.3@gslingacademy.com</td>\n",
       "      <td>female</td>\n",
       "      <td>False</td>\n",
       "      <td>9</td>\n",
       "      <td>True</td>\n",
       "      <td>13</td>\n",
       "      <td>Government Officer</td>\n",
       "      <td>81</td>\n",
       "      <td>97</td>\n",
       "      <td>95</td>\n",
       "      <td>96</td>\n",
       "      <td>65</td>\n",
       "      <td>77</td>\n",
       "      <td>94</td>\n",
       "    </tr>\n",
       "    <tr>\n",
       "      <th>3</th>\n",
       "      <td>4</td>\n",
       "      <td>Tara</td>\n",
       "      <td>Clark</td>\n",
       "      <td>tara.clark.4@gslingacademy.com</td>\n",
       "      <td>female</td>\n",
       "      <td>False</td>\n",
       "      <td>5</td>\n",
       "      <td>False</td>\n",
       "      <td>3</td>\n",
       "      <td>Artist</td>\n",
       "      <td>71</td>\n",
       "      <td>74</td>\n",
       "      <td>88</td>\n",
       "      <td>80</td>\n",
       "      <td>89</td>\n",
       "      <td>63</td>\n",
       "      <td>86</td>\n",
       "    </tr>\n",
       "    <tr>\n",
       "      <th>4</th>\n",
       "      <td>5</td>\n",
       "      <td>Anthony</td>\n",
       "      <td>Campos</td>\n",
       "      <td>anthony.campos.5@gslingacademy.com</td>\n",
       "      <td>male</td>\n",
       "      <td>False</td>\n",
       "      <td>5</td>\n",
       "      <td>False</td>\n",
       "      <td>10</td>\n",
       "      <td>Unknown</td>\n",
       "      <td>84</td>\n",
       "      <td>77</td>\n",
       "      <td>65</td>\n",
       "      <td>65</td>\n",
       "      <td>80</td>\n",
       "      <td>74</td>\n",
       "      <td>76</td>\n",
       "    </tr>\n",
       "    <tr>\n",
       "      <th>5</th>\n",
       "      <td>6</td>\n",
       "      <td>Kelly</td>\n",
       "      <td>Wade</td>\n",
       "      <td>kelly.wade.6@gslingacademy.com</td>\n",
       "      <td>female</td>\n",
       "      <td>False</td>\n",
       "      <td>2</td>\n",
       "      <td>False</td>\n",
       "      <td>26</td>\n",
       "      <td>Unknown</td>\n",
       "      <td>93</td>\n",
       "      <td>100</td>\n",
       "      <td>67</td>\n",
       "      <td>78</td>\n",
       "      <td>72</td>\n",
       "      <td>80</td>\n",
       "      <td>84</td>\n",
       "    </tr>\n",
       "    <tr>\n",
       "      <th>6</th>\n",
       "      <td>7</td>\n",
       "      <td>Anthony</td>\n",
       "      <td>Smith</td>\n",
       "      <td>anthony.smith.7@gslingacademy.com</td>\n",
       "      <td>male</td>\n",
       "      <td>False</td>\n",
       "      <td>3</td>\n",
       "      <td>True</td>\n",
       "      <td>23</td>\n",
       "      <td>Software Engineer</td>\n",
       "      <td>99</td>\n",
       "      <td>96</td>\n",
       "      <td>97</td>\n",
       "      <td>73</td>\n",
       "      <td>88</td>\n",
       "      <td>76</td>\n",
       "      <td>64</td>\n",
       "    </tr>\n",
       "    <tr>\n",
       "      <th>7</th>\n",
       "      <td>8</td>\n",
       "      <td>George</td>\n",
       "      <td>Short</td>\n",
       "      <td>george.short.8@gslingacademy.com</td>\n",
       "      <td>male</td>\n",
       "      <td>True</td>\n",
       "      <td>2</td>\n",
       "      <td>True</td>\n",
       "      <td>34</td>\n",
       "      <td>Software Engineer</td>\n",
       "      <td>95</td>\n",
       "      <td>95</td>\n",
       "      <td>82</td>\n",
       "      <td>63</td>\n",
       "      <td>84</td>\n",
       "      <td>70</td>\n",
       "      <td>85</td>\n",
       "    </tr>\n",
       "    <tr>\n",
       "      <th>8</th>\n",
       "      <td>9</td>\n",
       "      <td>Stanley</td>\n",
       "      <td>Gutierrez</td>\n",
       "      <td>stanley.gutierrez.9@gslingacademy.com</td>\n",
       "      <td>male</td>\n",
       "      <td>False</td>\n",
       "      <td>6</td>\n",
       "      <td>False</td>\n",
       "      <td>25</td>\n",
       "      <td>Unknown</td>\n",
       "      <td>94</td>\n",
       "      <td>68</td>\n",
       "      <td>94</td>\n",
       "      <td>85</td>\n",
       "      <td>81</td>\n",
       "      <td>74</td>\n",
       "      <td>72</td>\n",
       "    </tr>\n",
       "    <tr>\n",
       "      <th>9</th>\n",
       "      <td>10</td>\n",
       "      <td>Audrey</td>\n",
       "      <td>Simpson</td>\n",
       "      <td>audrey.simpson.10@gslingacademy.com</td>\n",
       "      <td>female</td>\n",
       "      <td>False</td>\n",
       "      <td>3</td>\n",
       "      <td>True</td>\n",
       "      <td>18</td>\n",
       "      <td>Teacher</td>\n",
       "      <td>98</td>\n",
       "      <td>69</td>\n",
       "      <td>88</td>\n",
       "      <td>71</td>\n",
       "      <td>67</td>\n",
       "      <td>71</td>\n",
       "      <td>73</td>\n",
       "    </tr>\n",
       "  </tbody>\n",
       "</table>\n",
       "</div>"
      ],
      "text/plain": [
       "   id first_name  last_name                                  email  gender  \\\n",
       "0   1       Paul      Casey         paul.casey.1@gslingacademy.com    male   \n",
       "1   2   Danielle   Sandoval  danielle.sandoval.2@gslingacademy.com  female   \n",
       "2   3       Tina    Andrews       tina.andrews.3@gslingacademy.com  female   \n",
       "3   4       Tara      Clark         tara.clark.4@gslingacademy.com  female   \n",
       "4   5    Anthony     Campos     anthony.campos.5@gslingacademy.com    male   \n",
       "5   6      Kelly       Wade         kelly.wade.6@gslingacademy.com  female   \n",
       "6   7    Anthony      Smith      anthony.smith.7@gslingacademy.com    male   \n",
       "7   8     George      Short       george.short.8@gslingacademy.com    male   \n",
       "8   9    Stanley  Gutierrez  stanley.gutierrez.9@gslingacademy.com    male   \n",
       "9  10     Audrey    Simpson    audrey.simpson.10@gslingacademy.com  female   \n",
       "\n",
       "   part_time_job  absence_days  extracurricular_activities  \\\n",
       "0          False             3                       False   \n",
       "1          False             2                       False   \n",
       "2          False             9                        True   \n",
       "3          False             5                       False   \n",
       "4          False             5                       False   \n",
       "5          False             2                       False   \n",
       "6          False             3                        True   \n",
       "7           True             2                        True   \n",
       "8          False             6                       False   \n",
       "9          False             3                        True   \n",
       "\n",
       "   weekly_self_study_hours   career_aspiration  math_score  history_score  \\\n",
       "0                       27              Lawyer          73             81   \n",
       "1                       47              Doctor          90             86   \n",
       "2                       13  Government Officer          81             97   \n",
       "3                        3              Artist          71             74   \n",
       "4                       10             Unknown          84             77   \n",
       "5                       26             Unknown          93            100   \n",
       "6                       23   Software Engineer          99             96   \n",
       "7                       34   Software Engineer          95             95   \n",
       "8                       25             Unknown          94             68   \n",
       "9                       18             Teacher          98             69   \n",
       "\n",
       "   physics_score  chemistry_score  biology_score  english_score  \\\n",
       "0             93               97             63             80   \n",
       "1             96              100             90             88   \n",
       "2             95               96             65             77   \n",
       "3             88               80             89             63   \n",
       "4             65               65             80             74   \n",
       "5             67               78             72             80   \n",
       "6             97               73             88             76   \n",
       "7             82               63             84             70   \n",
       "8             94               85             81             74   \n",
       "9             88               71             67             71   \n",
       "\n",
       "   geography_score  \n",
       "0               87  \n",
       "1               90  \n",
       "2               94  \n",
       "3               86  \n",
       "4               76  \n",
       "5               84  \n",
       "6               64  \n",
       "7               85  \n",
       "8               72  \n",
       "9               73  "
      ]
     },
     "execution_count": 11,
     "metadata": {},
     "output_type": "execute_result"
    }
   ],
   "source": [
    "# Reading the data\n",
    "df = pd.read_csv(\"student-scores.csv\")\n",
    "df.head(10)"
   ]
  },
  {
   "cell_type": "markdown",
   "id": "54ccc6e3-80fe-49ae-bbef-3a6cef9c50c6",
   "metadata": {},
   "source": [
    "It's a good practice to check out the data-types of every columns beforehand, so we will be doing that"
   ]
  },
  {
   "cell_type": "code",
   "execution_count": 16,
   "id": "3e8df8d0-8609-4b5f-8469-236b5987080b",
   "metadata": {},
   "outputs": [
    {
     "data": {
      "text/plain": [
       "id                             int64\n",
       "first_name                    object\n",
       "last_name                     object\n",
       "email                         object\n",
       "gender                        object\n",
       "part_time_job                   bool\n",
       "absence_days                   int64\n",
       "extracurricular_activities      bool\n",
       "weekly_self_study_hours        int64\n",
       "career_aspiration             object\n",
       "math_score                     int64\n",
       "history_score                  int64\n",
       "physics_score                  int64\n",
       "chemistry_score                int64\n",
       "biology_score                  int64\n",
       "english_score                  int64\n",
       "geography_score                int64\n",
       "dtype: object"
      ]
     },
     "execution_count": 16,
     "metadata": {},
     "output_type": "execute_result"
    }
   ],
   "source": [
    "df.dtypes"
   ]
  },
  {
   "cell_type": "code",
   "execution_count": 19,
   "id": "271caba0-452f-416d-b2ea-0f405d0116cd",
   "metadata": {},
   "outputs": [
    {
     "data": {
      "text/plain": [
       "id                            0\n",
       "first_name                    0\n",
       "last_name                     0\n",
       "email                         0\n",
       "gender                        0\n",
       "part_time_job                 0\n",
       "absence_days                  0\n",
       "extracurricular_activities    0\n",
       "weekly_self_study_hours       0\n",
       "career_aspiration             0\n",
       "math_score                    0\n",
       "history_score                 0\n",
       "physics_score                 0\n",
       "chemistry_score               0\n",
       "biology_score                 0\n",
       "english_score                 0\n",
       "geography_score               0\n",
       "dtype: int64"
      ]
     },
     "execution_count": 19,
     "metadata": {},
     "output_type": "execute_result"
    }
   ],
   "source": [
    "## Checking if there are any null values to fill-in\n",
    "df.isnull().sum()"
   ]
  },
  {
   "cell_type": "code",
   "execution_count": 23,
   "id": "17a956f3-cb20-4c01-877b-ed5d2bf5cc0c",
   "metadata": {},
   "outputs": [
    {
     "name": "stdout",
     "output_type": "stream",
     "text": [
      "number of duplicate rows:  (0, 17)\n"
     ]
    }
   ],
   "source": [
    "duplicate_rows_df = df[df.duplicated()]\n",
    "print(\"number of duplicate rows: \", duplicate_rows_df.shape)"
   ]
  },
  {
   "cell_type": "code",
   "execution_count": 26,
   "id": "32870f2e-c6d5-4b5e-8a91-6f2d04be6118",
   "metadata": {},
   "outputs": [
    {
     "data": {
      "text/plain": [
       "0"
      ]
     },
     "execution_count": 26,
     "metadata": {},
     "output_type": "execute_result"
    }
   ],
   "source": [
    "sum(df.duplicated())"
   ]
  },
  {
   "cell_type": "markdown",
   "id": "fcd25275-2f29-4ebd-b16a-e01696ed642e",
   "metadata": {},
   "source": [
    "There are no duplicates."
   ]
  },
  {
   "cell_type": "markdown",
   "id": "456ca1f0-3577-4a18-8548-9945713adec5",
   "metadata": {},
   "source": [
    "## It seems all kinds of Data Wrangling as well as Data Cleaning has been done beforehand for us. "
   ]
  },
  {
   "cell_type": "markdown",
   "id": "fcc605e5-1846-4de2-9960-9c766f6b094c",
   "metadata": {},
   "source": [
    "## Q1: If math_score of males is greater than females.\n",
    "Null Hypothesis: H<sub>0</sub>: The math score of male students is less than or equal to female math score <br> Alternate Hypothesis: H<sub>a</sub>: The math score of male students is greater than female math score \n"
   ]
  },
  {
   "cell_type": "code",
   "execution_count": 80,
   "id": "d937d0e2-ad26-47f4-9301-86c5236935cf",
   "metadata": {},
   "outputs": [
    {
     "data": {
      "text/plain": [
       "TtestResult(statistic=2.2371559026936256, pvalue=0.012693020299630226, df=1998.0)"
      ]
     },
     "execution_count": 80,
     "metadata": {},
     "output_type": "execute_result"
    }
   ],
   "source": [
    "male_math_scores = df[df['gender'] == 'male']['math_score']\n",
    "female_math_scores = df[df['gender'] == 'female']['math_score']\n",
    "stats.ttest_ind(male_math_scores, female_math_scores, alternative=\"greater\")"
   ]
  },
  {
   "cell_type": "markdown",
   "id": "c9181504-ceef-4ea6-af47-e3201cf4cdad",
   "metadata": {},
   "source": [
    "The t-test result shows a t-statistic of `2.237` and a p-value of `0.0127`, which is below the 0.05 significance level. This indicates that males have significantly higher math scores than females. With 1998 degrees of freedom, the evidence is sufficient to reject the null hypothesis and conclude that there is a gender disparity in math performance. **So, we reject the Null Hypothesis**\n",
    "\n",
    "**Interpreting the results:** This result suggests that the dataset reflects a gender imbalance in math scores, potentially due to educational or societal biases. It may indicate that males and females experience different levels of support or opportunities in math education, leading to unequal performance outcomes.\n"
   ]
  },
  {
   "cell_type": "markdown",
   "id": "eaff0b78-92b9-464b-90d8-4078ee97d3d1",
   "metadata": {},
   "source": [
    "## Q2: If math_score of Non Doctors is greater than Doctors (Hint: Use career_aspirations to find Doctor and Non Doctors) \n",
    "Null Hypothesis: H<sub>0</sub>: The \"math scores\" of doctors and non-doctors are similar <br> \n",
    "Alternate Hypothesis: H<sub>a</sub>: The \"math scores\" of non-doctors are greater than the \"math scores\" of doctors students is greater than female math score "
   ]
  },
  {
   "cell_type": "code",
   "execution_count": 93,
   "id": "a3f02d79-261a-4021-bf2b-ec8c0be5ec31",
   "metadata": {},
   "outputs": [
    {
     "data": {
      "text/plain": [
       "TtestResult(statistic=-7.389083205876682, pvalue=0.999999999999892, df=1998.0)"
      ]
     },
     "execution_count": 93,
     "metadata": {},
     "output_type": "execute_result"
    }
   ],
   "source": [
    "from scipy import stats\n",
    "\n",
    "# Get math scores for Doctors and Non-Doctors\n",
    "doc_math_scores = df[df['career_aspiration'] == 'Doctor']['math_score']\n",
    "non_doc_math_scores = df[df['career_aspiration'] != 'Doctor']['math_score']\n",
    "stats.ttest_ind(non_doc_math_scores, doc_math_scores, alternative=\"greater\")\n",
    "# stats.ttest_ind(doc_math_scores, non_doc_math_scores, alternative=\"greater\")\n",
    "# # Perform the t-test (Non-Doctors > Doctors)\n",
    "# t_stat, p_value = stats.ttest_ind(non_doc_scores, doc_scores, equal_var=False, alternative='greater')\n",
    "\n",
    "# # Output the results\n",
    "# print(f\"T-statistic: {t_stat}\")\n",
    "# print(f\"P-value: {p_value}\")\n",
    "\n",
    "# # Significance level\n",
    "# alpha = 0.05\n",
    "\n",
    "# # Decision rule\n",
    "# if p_value < alpha:\n",
    "#     print(\"Reject the null hypothesis. Non-Doctors have significantly higher math scores than Doctors.\")\n",
    "# else:\n",
    "#     print(\"Fail to reject the null hypothesis. There is no significant evidence that Non-Doctors' math scores are higher than Doctors'.\")\n"
   ]
  },
  {
   "cell_type": "markdown",
   "id": "f3d7e7da-f415-4221-b56b-4e22711afad6",
   "metadata": {},
   "source": [
    "The t-test result shows a t-statistic of `-7.389` and a p-value close to `1`, indicating that Non-Doctors have significantly lower math scores than Doctors. The negative t-statistic suggests a substantial difference in the opposite direction of the hypothesis, and the very high p-value provides no evidence to support that Non-Doctors' math scores are higher. Therefore, **we fail to reject the null hypothesis**, which indicates that Doctors have higher math scores compared to Non-Doctors.\n",
    "\n",
    "**Interpreting the results:** This is an interesting result cause normally you would expect the doctors to have weaker math competence compared to other majors but here we can see that is not the case. We can try reasoning that, this might be the case cause whoever becomes doctor are most probably good at studying and follow a far greater rigour when it comes to their studies, so that they could end up in good medical programs. All of this results in them getting better math scores compared to other professions. "
   ]
  },
  {
   "cell_type": "markdown",
   "id": "8f48e140-6e9c-44c8-9299-c91767802fc8",
   "metadata": {},
   "source": [
    "## Q3: If weekly_self_study_hours of males are greater than females.  \n",
    "Null Hypothesis: H<sub>0</sub>: The weekly self study hours of both males and females are similar <br> \n",
    "Alternate Hypothesis: H<sub>a</sub>: The weekly self study hours of males is greater than females."
   ]
  },
  {
   "cell_type": "code",
   "execution_count": 95,
   "id": "69e133a0-2871-4412-9442-95a2ea130555",
   "metadata": {},
   "outputs": [
    {
     "data": {
      "text/plain": [
       "TtestResult(statistic=0.0, pvalue=0.5, df=1994.0)"
      ]
     },
     "execution_count": 95,
     "metadata": {},
     "output_type": "execute_result"
    }
   ],
   "source": [
    "male_self_study_hours = df[df['gender'] == 'male']['weekly_self_study_hours']\n",
    "female_self_study_hours = df[df['gender'] != 'female']['weekly_self_study_hours']\n",
    "stats.ttest_ind(male_self_study_hours, female_self_study_hours, alternative=\"greater\")"
   ]
  },
  {
   "cell_type": "markdown",
   "id": "9c452386-be23-4967-9020-9d8ebaf213c7",
   "metadata": {},
   "source": [
    "The t-test result shows a t-statistic of `0.0` and a p-value of `0.5`, indicating no significant difference between weekly self-study hours for males and females. The t-statistic suggests that the means are similar, and the high p-value indicates a lack of evidence to reject the null hypothesis. **So, we fail to reject the null hypothesis**. \n",
    "\n",
    "**Interpreting the results:** The lack of a significant difference in weekly self-study hours between males and females may be due to similar study habits and commitments across genders. Equal access to study resources and comparable academic pressures could lead to similar self-study patterns. Additionally, it’s possible that both genders prioritize study time equally."
   ]
  },
  {
   "cell_type": "markdown",
   "id": "7434cab8-8479-4d33-968f-d4d9a678e0c0",
   "metadata": {},
   "source": [
    "## Q4: If math_score of no part_time_job male students are greater than part_time_job male students. \n",
    "Null Hypothesis: H<sub>0</sub>: Math scores of male students with and without part-time jobs are similar or equal <br> \n",
    "Alternate Hypothesis: H<sub>a</sub>:  Math scores of male students without part-time jobs is greater than that of the male students with part time job."
   ]
  },
  {
   "cell_type": "code",
   "execution_count": 97,
   "id": "bad91f70-c5af-4856-9043-c9ea80e477e7",
   "metadata": {},
   "outputs": [
    {
     "data": {
      "text/plain": [
       "TtestResult(statistic=5.8026672393780085, pvalue=4.3820239750124745e-09, df=996.0)"
      ]
     },
     "execution_count": 97,
     "metadata": {},
     "output_type": "execute_result"
    }
   ],
   "source": [
    "# Filter male students\n",
    "m_students = df[df['gender'] == 'male']\n",
    "\n",
    "# Get math scores for males with no part-time job\n",
    "no_PT_job_males = m_students[m_students['part_time_job'] == False]['math_score']\n",
    "\n",
    "# Get math scores for males with a part-time job\n",
    "PT_job_males = m_students[male_students['part_time_job'] == True]['math_score']\n",
    "stats.ttest_ind(no_PT_job_males, PT_job_males, alternative=\"greater\")\n"
   ]
  },
  {
   "cell_type": "markdown",
   "id": "35a3a8df-7b24-4a63-9fab-e4ec02850e49",
   "metadata": {},
   "source": [
    "The t-test result shows a t-statistic of `5.803` and an extremely small p-value which is less than `0.05` provides strong evidence to reject the null hypothesis, so thus, **we will reject the null hypothesis**. \n",
    "\n",
    "**Interpreting the results:** This result suggests that having a part-time job may be associated with lower math scores among male students, potentially due to time constraints or increased stress impacting their academic performance."
   ]
  },
  {
   "cell_type": "markdown",
   "id": "7eb4eba1-1ebf-4c72-80b5-f363d100ffaf",
   "metadata": {},
   "source": [
    "## Q5: If the average of history_score is less than geography_score. \n",
    "Null Hypothesis: H<sub>0</sub>: The average we are getting of history and geography scores are similar or equal. .<br> \n",
    "Alternate Hypothesis: H<sub>a</sub>: History scores are less than geography scores."
   ]
  },
  {
   "cell_type": "code",
   "execution_count": 102,
   "id": "4c052279-c0d7-4800-9f6c-07eb4401f87c",
   "metadata": {},
   "outputs": [
    {
     "data": {
      "text/plain": [
       "TtestResult(statistic=-1.4412586066465385, pvalue=0.07479497633658547, df=3998.0)"
      ]
     },
     "execution_count": 102,
     "metadata": {},
     "output_type": "execute_result"
    }
   ],
   "source": [
    "Hist = df['history_score']\n",
    "Geo = df['geography_score']\n",
    "stats.ttest_ind(Hist, Geo, alternative=\"less\")"
   ]
  },
  {
   "cell_type": "markdown",
   "id": "7fe48197-f294-4258-b00b-7501a7519717",
   "metadata": {},
   "source": [
    "The t-test result shows a t-statistic of -1.441 and a p-value of approximately 0.075. This analysis is testing whether the average history scores are less than the average geography scores. The negative t-statistic indicates that the mean of history scores is lower than the mean of geography scores, which aligns with the alternative hypothesis that history scores are less than geography scores. However, **the p-value of 0.075 is slightly above the typical significance level of 0.05.** <br> **This means there is insufficient statistical evidence to reject the null hypothesis at the 5% significance level.** Thus, while the data shows a tendency for history scores to be lower than geography scores, this difference is not statistically significant enough to confidently assert that history scores are consistently less than geography scores based on this test.\n",
    "\n",
    "**Interpreting the results:** This implies that the institution in question doesn't really need to revise their syllabus that they have for their geography or history as students' performance in two subjects are pretty similar."
   ]
  },
  {
   "cell_type": "markdown",
   "id": "ce802254-8a45-41d7-aa39-bdd556be5a2b",
   "metadata": {},
   "source": [
    "## Q6: If the average of math_score is greater than biology_score. \n",
    "Null Hypothesis: H<sub>0</sub>: The average of math score and of biology scores are equal or similar.<br> \n",
    "Alternate Hypothesis: H<sub>a</sub>: The average of math scores is greater than the average of biology."
   ]
  },
  {
   "cell_type": "code",
   "execution_count": 108,
   "id": "a1341cff-df89-45f1-b9bf-924a4e32c0be",
   "metadata": {},
   "outputs": [
    {
     "data": {
      "text/plain": [
       "TtestResult(statistic=9.082620143235266, pvalue=8.146293509285797e-20, df=3998.0)"
      ]
     },
     "execution_count": 108,
     "metadata": {},
     "output_type": "execute_result"
    }
   ],
   "source": [
    "Math_S = df['math_score']\n",
    "Bio_S = df['biology_score']\n",
    "stats.ttest_ind(Math_S, Bio_S, alternative=\"greater\")"
   ]
  },
  {
   "cell_type": "markdown",
   "id": "27fc9029-f524-4d25-a7dc-0fbfd54b6f1a",
   "metadata": {},
   "source": [
    "The t-test result shows a t-statistic of 9.083 and an extremely small p-value of approximately  `8.15e-20`. This analysis tests whether the average math scores are greater than the average biology scores. The large positive t-statistic indicates a significant difference where the mean math score is notably higher than the mean biology score, aligning with the alternative hypothesis that math scores are greater than biology scores. <br>\n",
    "**The very low p-value provides strong evidence against the null hypothesis so we reject it**, which posits that the average scores of math and biology are equal or similar. <br>\n",
    "Therefore, the result strongly supports the conclusion that math scores are significantly greater than biology scores, suggesting that students generally perform better in math compared to biology.\n",
    "\n",
    "**Interpreting the results:** This could imply that the institution in question must need to revise their syllabus that they have for their biology or math so that students' performance in two subjects could be more similar."
   ]
  },
  {
   "cell_type": "markdown",
   "id": "72794707-a29f-4b37-9a93-3f4909ae9d3d",
   "metadata": {},
   "source": [
    "## Q7: If weekly_self_study_hours of extracurricular_activities is less than no extracurricular_activities.\n",
    "Null Hypothesis: H<sub>0</sub>: Weekly-self-study hours of students in extracurricular activities are similar or equal to the weekly self study hours of students who are not in extracurricular activities.<br> \n",
    "Alternate Hypothesis: H<sub>a</sub>: Weekly-self-study hours of students in extracurricular activities are less than the weekly self study hours of students who are not in extracurricular activities."
   ]
  },
  {
   "cell_type": "code",
   "execution_count": 118,
   "id": "d43ac22a-89d9-4ec8-9e51-7c73bea9f5a1",
   "metadata": {},
   "outputs": [
    {
     "data": {
      "text/plain": [
       "TtestResult(statistic=-2.3506159912870577, pvalue=0.009419553161020007, df=1998.0)"
      ]
     },
     "execution_count": 118,
     "metadata": {},
     "output_type": "execute_result"
    }
   ],
   "source": [
    "Not_in_EC = df[df['extracurricular_activities'] == False]['weekly_self_study_hours']\n",
    "In_EC = df[df['extracurricular_activities'] == True]['weekly_self_study_hours']\n",
    "stats.ttest_ind(In_EC, Not_in_EC, alternative=\"less\")"
   ]
  },
  {
   "cell_type": "markdown",
   "id": "01bb7217-ee3b-49ea-ada8-2fea6ed63d18",
   "metadata": {},
   "source": [
    "The t-test result shows a t-statistic of -2.351 and a p-value of approximately `0.0094`. This analysis tests whether students involved in extracurricular activities have fewer weekly self-study hours compared to those not involved in extracurricular activities. The negative t-statistic indicates that the mean self-study hours for students with extracurricular activities is lower than that for students without extracurricular activities. <br>\n",
    "**The p-value is less than the common significance level of 0.05, providing strong evidence to reject the null hypothesis.** This result suggests that students participating in extracurricular activities tend to have fewer weekly self-study hours compared to their peers who are not involved in such activities, indicating a significant difference in study habits between the two groups.\n",
    "\n",
    "**Interpreting the results:** It makes sense, we can see that the students who are more into extra-curricular activities naturally have less time on their hands which they could spend on self-study.\n"
   ]
  },
  {
   "cell_type": "markdown",
   "id": "862efdda-a733-48a2-a464-b44b9279ac69",
   "metadata": {},
   "source": [
    "## Q8: If absence_days of females are less than males. \n",
    "Null Hypothesis: H<sub>0</sub>: The absence days of students of both genders are equal or similar.<br> \n",
    "Alternate Hypothesis: H<sub>a</sub>: The absence days of females are lesser than that of males."
   ]
  },
  {
   "cell_type": "code",
   "execution_count": 134,
   "id": "df355dbb-3f5f-4e0b-99ec-ee6ab074991e",
   "metadata": {},
   "outputs": [
    {
     "data": {
      "text/plain": [
       "TtestResult(statistic=1.3128102331149203, pvalue=0.9053011661354035, df=1998.0)"
      ]
     },
     "execution_count": 134,
     "metadata": {},
     "output_type": "execute_result"
    }
   ],
   "source": [
    "F_absence = df[df['gender'] == 'female']['absence_days']\n",
    "M_absence = df[df['gender'] == 'male']['absence_days']\n",
    "stats.ttest_ind(F_absence, M_absence, alternative=\"less\")"
   ]
  },
  {
   "cell_type": "markdown",
   "id": "289b0163-827f-4086-b0ba-7865364e2d3e",
   "metadata": {},
   "source": [
    "The positive t-statistic suggests that the mean absence days for females is slightly higher than that for males, though not significantly so. <br>\n",
    "**The p-value is much greater than the common significance level of 0.05, as such, we can not to reject the null hypothesis**. Thus, the result suggests that there is no significant difference in the number of absence days between females and males.\n",
    "\n",
    "**Interpreting the results:** The lack of a significant difference in absence days between females and males likely arises because both genders face similar responsibilities, school policies, and support systems. Equal impact from behavioral, socio-economic factors, and consistent cultural norms regarding attendance might contribute to comparable absence patterns, leading to no substantial difference in absence days."
   ]
  },
  {
   "cell_type": "markdown",
   "id": "25f1000d-401f-4232-97f5-4fba3e183bdb",
   "metadata": {},
   "source": [
    "## Q9: Is there any Association between gender and career_aspiration.\n",
    "Null Hypothesis: H<sub>0</sub>: No association between Gender and Career Aspirations.<br> \n",
    "Alternate Hypothesis: H<sub>a</sub>: There is significant association between the two."
   ]
  },
  {
   "cell_type": "code",
   "execution_count": 138,
   "id": "cfdd2c14-f5b0-481e-a9a2-9ccd34823880",
   "metadata": {},
   "outputs": [
    {
     "data": {
      "text/html": [
       "<div>\n",
       "<style scoped>\n",
       "    .dataframe tbody tr th:only-of-type {\n",
       "        vertical-align: middle;\n",
       "    }\n",
       "\n",
       "    .dataframe tbody tr th {\n",
       "        vertical-align: top;\n",
       "    }\n",
       "\n",
       "    .dataframe thead th {\n",
       "        text-align: right;\n",
       "    }\n",
       "</style>\n",
       "<table border=\"1\" class=\"dataframe\">\n",
       "  <thead>\n",
       "    <tr style=\"text-align: right;\">\n",
       "      <th>career_aspiration</th>\n",
       "      <th>Accountant</th>\n",
       "      <th>Artist</th>\n",
       "      <th>Banker</th>\n",
       "      <th>Business Owner</th>\n",
       "      <th>Construction Engineer</th>\n",
       "      <th>Designer</th>\n",
       "      <th>Doctor</th>\n",
       "      <th>Game Developer</th>\n",
       "      <th>Government Officer</th>\n",
       "      <th>Lawyer</th>\n",
       "      <th>Real Estate Developer</th>\n",
       "      <th>Scientist</th>\n",
       "      <th>Software Engineer</th>\n",
       "      <th>Stock Investor</th>\n",
       "      <th>Teacher</th>\n",
       "      <th>Unknown</th>\n",
       "      <th>Writer</th>\n",
       "      <th>All</th>\n",
       "    </tr>\n",
       "    <tr>\n",
       "      <th>gender</th>\n",
       "      <th></th>\n",
       "      <th></th>\n",
       "      <th></th>\n",
       "      <th></th>\n",
       "      <th></th>\n",
       "      <th></th>\n",
       "      <th></th>\n",
       "      <th></th>\n",
       "      <th></th>\n",
       "      <th></th>\n",
       "      <th></th>\n",
       "      <th></th>\n",
       "      <th></th>\n",
       "      <th></th>\n",
       "      <th></th>\n",
       "      <th></th>\n",
       "      <th></th>\n",
       "      <th></th>\n",
       "    </tr>\n",
       "  </thead>\n",
       "  <tbody>\n",
       "    <tr>\n",
       "      <th>female</th>\n",
       "      <td>64</td>\n",
       "      <td>42</td>\n",
       "      <td>103</td>\n",
       "      <td>164</td>\n",
       "      <td>0</td>\n",
       "      <td>32</td>\n",
       "      <td>53</td>\n",
       "      <td>31</td>\n",
       "      <td>31</td>\n",
       "      <td>66</td>\n",
       "      <td>45</td>\n",
       "      <td>19</td>\n",
       "      <td>141</td>\n",
       "      <td>25</td>\n",
       "      <td>59</td>\n",
       "      <td>109</td>\n",
       "      <td>18</td>\n",
       "      <td>1002</td>\n",
       "    </tr>\n",
       "    <tr>\n",
       "      <th>male</th>\n",
       "      <td>62</td>\n",
       "      <td>25</td>\n",
       "      <td>66</td>\n",
       "      <td>145</td>\n",
       "      <td>68</td>\n",
       "      <td>24</td>\n",
       "      <td>66</td>\n",
       "      <td>32</td>\n",
       "      <td>30</td>\n",
       "      <td>72</td>\n",
       "      <td>38</td>\n",
       "      <td>20</td>\n",
       "      <td>174</td>\n",
       "      <td>48</td>\n",
       "      <td>0</td>\n",
       "      <td>114</td>\n",
       "      <td>14</td>\n",
       "      <td>998</td>\n",
       "    </tr>\n",
       "    <tr>\n",
       "      <th>All</th>\n",
       "      <td>126</td>\n",
       "      <td>67</td>\n",
       "      <td>169</td>\n",
       "      <td>309</td>\n",
       "      <td>68</td>\n",
       "      <td>56</td>\n",
       "      <td>119</td>\n",
       "      <td>63</td>\n",
       "      <td>61</td>\n",
       "      <td>138</td>\n",
       "      <td>83</td>\n",
       "      <td>39</td>\n",
       "      <td>315</td>\n",
       "      <td>73</td>\n",
       "      <td>59</td>\n",
       "      <td>223</td>\n",
       "      <td>32</td>\n",
       "      <td>2000</td>\n",
       "    </tr>\n",
       "  </tbody>\n",
       "</table>\n",
       "</div>"
      ],
      "text/plain": [
       "career_aspiration  Accountant  Artist  Banker  Business Owner  \\\n",
       "gender                                                          \n",
       "female                     64      42     103             164   \n",
       "male                       62      25      66             145   \n",
       "All                       126      67     169             309   \n",
       "\n",
       "career_aspiration  Construction Engineer  Designer  Doctor  Game Developer  \\\n",
       "gender                                                                       \n",
       "female                                 0        32      53              31   \n",
       "male                                  68        24      66              32   \n",
       "All                                   68        56     119              63   \n",
       "\n",
       "career_aspiration  Government Officer  Lawyer  Real Estate Developer  \\\n",
       "gender                                                                 \n",
       "female                             31      66                     45   \n",
       "male                               30      72                     38   \n",
       "All                                61     138                     83   \n",
       "\n",
       "career_aspiration  Scientist  Software Engineer  Stock Investor  Teacher  \\\n",
       "gender                                                                     \n",
       "female                    19                141              25       59   \n",
       "male                      20                174              48        0   \n",
       "All                       39                315              73       59   \n",
       "\n",
       "career_aspiration  Unknown  Writer   All  \n",
       "gender                                    \n",
       "female                 109      18  1002  \n",
       "male                   114      14   998  \n",
       "All                    223      32  2000  "
      ]
     },
     "execution_count": 138,
     "metadata": {},
     "output_type": "execute_result"
    }
   ],
   "source": [
    "Chi_Sqt_GC = pd.crosstab(df['gender'], df['career_aspiration'], margins=True)\n",
    "Chi_Sqt_GC"
   ]
  },
  {
   "cell_type": "code",
   "execution_count": 140,
   "id": "e93bdba2-3087-454d-ae1f-e56f7aae274d",
   "metadata": {},
   "outputs": [
    {
     "data": {
      "text/plain": [
       "Chi2ContingencyResult(statistic=155.39466648000175, pvalue=1.9087221746002932e-17, dof=34, expected_freq=array([[  63.126,   33.567,   84.669,  154.809,   34.068,   28.056,\n",
       "          59.619,   31.563,   30.561,   69.138,   41.583,   19.539,\n",
       "         157.815,   36.573,   29.559,  111.723,   16.032, 1002.   ],\n",
       "       [  62.874,   33.433,   84.331,  154.191,   33.932,   27.944,\n",
       "          59.381,   31.437,   30.439,   68.862,   41.417,   19.461,\n",
       "         157.185,   36.427,   29.441,  111.277,   15.968,  998.   ],\n",
       "       [ 126.   ,   67.   ,  169.   ,  309.   ,   68.   ,   56.   ,\n",
       "         119.   ,   63.   ,   61.   ,  138.   ,   83.   ,   39.   ,\n",
       "         315.   ,   73.   ,   59.   ,  223.   ,   32.   , 2000.   ]]))"
      ]
     },
     "execution_count": 140,
     "metadata": {},
     "output_type": "execute_result"
    }
   ],
   "source": [
    "stats.chi2_contingency(Chi_Sqt_GC)"
   ]
  },
  {
   "cell_type": "markdown",
   "id": "19a0ff1a-3e0a-4f35-ac13-fc736bf78da8",
   "metadata": {},
   "source": [
    "The Chi-Square test result shows a Chi-Square statistic of `155.395` and an extremely small p-value of approximately `1.91e-17`.<br>\n",
    "The very low p-value indicates strong evidence against the null hypothesis, **so we reject the null hypothesis.** <br>\n",
    "The high Chi-Square statistic also reflects a large deviation from what would be expected if there were no association, reinforcing the conclusion that gender and career aspirations are related in a statistically significant way.\n",
    "\n",
    "**Interpreting the results:** The significant association between gender and career aspirations might be due to societal influences and traditional gender roles that shape individuals' career interests from a young age. Gender-specific expectations and opportunities can lead to different career aspirations between males and females. Additionally, educational and cultural factors might play a role in steering different genders toward certain career paths, resulting in the observed association.\n"
   ]
  },
  {
   "cell_type": "markdown",
   "id": "6c0621e3-7f97-4146-8afb-6d32e429f2cc",
   "metadata": {},
   "source": [
    "## Q10: Is there any Association between gender and part_time_job. \n",
    "Null Hypothesis: H<sub>0</sub>: No association between gender and part_time_job.<br> \n",
    "Alternate Hypothesis: H<sub>a</sub>: There is an association between gender and part_time_job."
   ]
  },
  {
   "cell_type": "code",
   "execution_count": 145,
   "id": "ac53a25e-3eba-43fc-a418-7cbc6a0738f1",
   "metadata": {},
   "outputs": [
    {
     "data": {
      "text/html": [
       "<div>\n",
       "<style scoped>\n",
       "    .dataframe tbody tr th:only-of-type {\n",
       "        vertical-align: middle;\n",
       "    }\n",
       "\n",
       "    .dataframe tbody tr th {\n",
       "        vertical-align: top;\n",
       "    }\n",
       "\n",
       "    .dataframe thead th {\n",
       "        text-align: right;\n",
       "    }\n",
       "</style>\n",
       "<table border=\"1\" class=\"dataframe\">\n",
       "  <thead>\n",
       "    <tr style=\"text-align: right;\">\n",
       "      <th>part_time_job</th>\n",
       "      <th>False</th>\n",
       "      <th>True</th>\n",
       "      <th>All</th>\n",
       "    </tr>\n",
       "    <tr>\n",
       "      <th>gender</th>\n",
       "      <th></th>\n",
       "      <th></th>\n",
       "      <th></th>\n",
       "    </tr>\n",
       "  </thead>\n",
       "  <tbody>\n",
       "    <tr>\n",
       "      <th>female</th>\n",
       "      <td>835</td>\n",
       "      <td>167</td>\n",
       "      <td>1002</td>\n",
       "    </tr>\n",
       "    <tr>\n",
       "      <th>male</th>\n",
       "      <td>849</td>\n",
       "      <td>149</td>\n",
       "      <td>998</td>\n",
       "    </tr>\n",
       "    <tr>\n",
       "      <th>All</th>\n",
       "      <td>1684</td>\n",
       "      <td>316</td>\n",
       "      <td>2000</td>\n",
       "    </tr>\n",
       "  </tbody>\n",
       "</table>\n",
       "</div>"
      ],
      "text/plain": [
       "part_time_job  False  True   All\n",
       "gender                          \n",
       "female           835   167  1002\n",
       "male             849   149   998\n",
       "All             1684   316  2000"
      ]
     },
     "execution_count": 145,
     "metadata": {},
     "output_type": "execute_result"
    }
   ],
   "source": [
    "Chi_Sqt_GP = pd.crosstab(df['gender'], df['part_time_job'], margins=True)\n",
    "Chi_Sqt_GP"
   ]
  },
  {
   "cell_type": "code",
   "execution_count": 147,
   "id": "74befe4b-439b-4d98-b945-247f688053b3",
   "metadata": {},
   "outputs": [
    {
     "data": {
      "text/plain": [
       "Chi2ContingencyResult(statistic=1.1337105392319442, pvalue=0.8888874344046543, dof=4, expected_freq=array([[ 843.684,  158.316, 1002.   ],\n",
       "       [ 840.316,  157.684,  998.   ],\n",
       "       [1684.   ,  316.   , 2000.   ]]))"
      ]
     },
     "execution_count": 147,
     "metadata": {},
     "output_type": "execute_result"
    }
   ],
   "source": [
    "stats.chi2_contingency(Chi_Sqt_GP)"
   ]
  },
  {
   "cell_type": "markdown",
   "id": "aaa06000-448c-4fd8-ad34-586d04843e21",
   "metadata": {},
   "source": [
    "The Chi-Square test result shows a Chi-Square statistic of `1.134` and a p-value of approximately `0.889`. \n",
    "The high p-value indicates that there is insufficient evidence to reject the null hypothesis. **So, we fail to reject the Null Hypothesis** <br>The observed data does not deviate significantly from what would be expected if there were no relationship between gender and part-time job status.\n",
    "\n",
    "**Interpreting the results:** The lack of a significant association between gender and part-time job status may be due to equal opportunities and similar needs across genders for part-time work. Factors such as economic necessity, job availability, and work-life balance may influence both males and females similarly, leading to no notable difference in part-time job distribution between genders. Additionally, the data might reflect a balanced employment landscape where gender does not significantly impact the likelihood of having a part-time job."
   ]
  },
  {
   "cell_type": "code",
   "execution_count": null,
   "id": "2ab5746b-7e4e-4d12-ad17-a6f3e7e8c34e",
   "metadata": {},
   "outputs": [],
   "source": []
  }
 ],
 "metadata": {
  "kernelspec": {
   "display_name": "Python 3 (ipykernel)",
   "language": "python",
   "name": "python3"
  },
  "language_info": {
   "codemirror_mode": {
    "name": "ipython",
    "version": 3
   },
   "file_extension": ".py",
   "mimetype": "text/x-python",
   "name": "python",
   "nbconvert_exporter": "python",
   "pygments_lexer": "ipython3",
   "version": "3.12.4"
  }
 },
 "nbformat": 4,
 "nbformat_minor": 5
}
